{
 "cells": [
  {
   "cell_type": "markdown",
   "metadata": {},
   "source": [
    "# Prepare maket research\n",
    "\n",
    "Running a cafe in Los Angeles, you want to find out the current market conditions to maintain success for the cafe. "
   ]
  },
  {
   "cell_type": "markdown",
   "metadata": {},
   "source": [
    "# Step 1\n",
    "\n",
    "Download the data and prepare it for analysis"
   ]
  },
  {
   "cell_type": "code",
   "execution_count": 1,
   "metadata": {},
   "outputs": [],
   "source": [
    "#import pandas and other important libraries\n",
    "import pandas as pd\n",
    "import warnings\n",
    "import matplotlib.pyplot as plt\n",
    "import numpy as np\n",
    "from scipy import stats as st\n",
    "import seaborn as sns\n",
    "import scipy.stats as stats\n",
    "import plotly.express as px\n",
    "from plotly import graph_objects as go\n",
    "import re\n",
    "\n",
    "warnings.filterwarnings('ignore')"
   ]
  },
  {
   "cell_type": "code",
   "execution_count": 2,
   "metadata": {},
   "outputs": [],
   "source": [
    "#read all input data and assign each dataset to a variable\n",
    "try:\n",
    "    rest_data = pd.read_csv('rest_data_us.csv')\n",
    "except:\n",
    "    rest_data = pd.read_csv('/datasets/rest_data_us.csv')"
   ]
  },
  {
   "cell_type": "code",
   "execution_count": 3,
   "metadata": {},
   "outputs": [
    {
     "name": "stdout",
     "output_type": "stream",
     "text": [
      "<class 'pandas.core.frame.DataFrame'>\n",
      "RangeIndex: 9651 entries, 0 to 9650\n",
      "Data columns (total 6 columns):\n",
      "id             9651 non-null int64\n",
      "object_name    9651 non-null object\n",
      "address        9651 non-null object\n",
      "chain          9648 non-null object\n",
      "object_type    9651 non-null object\n",
      "number         9651 non-null int64\n",
      "dtypes: int64(2), object(4)\n",
      "memory usage: 452.5+ KB\n",
      "\n",
      "Number of duplicates found:  0\n",
      "\n",
      "Number of missing values found: \n",
      "id             0\n",
      "object_name    0\n",
      "address        0\n",
      "chain          3\n",
      "object_type    0\n",
      "number         0\n",
      "dtype: int64\n"
     ]
    },
    {
     "data": {
      "text/html": [
       "<div>\n",
       "<style scoped>\n",
       "    .dataframe tbody tr th:only-of-type {\n",
       "        vertical-align: middle;\n",
       "    }\n",
       "\n",
       "    .dataframe tbody tr th {\n",
       "        vertical-align: top;\n",
       "    }\n",
       "\n",
       "    .dataframe thead th {\n",
       "        text-align: right;\n",
       "    }\n",
       "</style>\n",
       "<table border=\"1\" class=\"dataframe\">\n",
       "  <thead>\n",
       "    <tr style=\"text-align: right;\">\n",
       "      <th></th>\n",
       "      <th>id</th>\n",
       "      <th>object_name</th>\n",
       "      <th>address</th>\n",
       "      <th>chain</th>\n",
       "      <th>object_type</th>\n",
       "      <th>number</th>\n",
       "    </tr>\n",
       "  </thead>\n",
       "  <tbody>\n",
       "    <tr>\n",
       "      <td>0</td>\n",
       "      <td>11786</td>\n",
       "      <td>HABITAT COFFEE SHOP</td>\n",
       "      <td>3708 N EAGLE ROCK BLVD</td>\n",
       "      <td>False</td>\n",
       "      <td>Cafe</td>\n",
       "      <td>26</td>\n",
       "    </tr>\n",
       "    <tr>\n",
       "      <td>1</td>\n",
       "      <td>11787</td>\n",
       "      <td>REILLY'S</td>\n",
       "      <td>100 WORLD WAY # 120</td>\n",
       "      <td>False</td>\n",
       "      <td>Restaurant</td>\n",
       "      <td>9</td>\n",
       "    </tr>\n",
       "    <tr>\n",
       "      <td>2</td>\n",
       "      <td>11788</td>\n",
       "      <td>STREET CHURROS</td>\n",
       "      <td>6801 HOLLYWOOD BLVD # 253</td>\n",
       "      <td>False</td>\n",
       "      <td>Fast Food</td>\n",
       "      <td>20</td>\n",
       "    </tr>\n",
       "    <tr>\n",
       "      <td>3</td>\n",
       "      <td>11789</td>\n",
       "      <td>TRINITI ECHO PARK</td>\n",
       "      <td>1814 W SUNSET BLVD</td>\n",
       "      <td>False</td>\n",
       "      <td>Restaurant</td>\n",
       "      <td>22</td>\n",
       "    </tr>\n",
       "    <tr>\n",
       "      <td>4</td>\n",
       "      <td>11790</td>\n",
       "      <td>POLLEN</td>\n",
       "      <td>2100 ECHO PARK AVE</td>\n",
       "      <td>False</td>\n",
       "      <td>Restaurant</td>\n",
       "      <td>20</td>\n",
       "    </tr>\n",
       "    <tr>\n",
       "      <td>...</td>\n",
       "      <td>...</td>\n",
       "      <td>...</td>\n",
       "      <td>...</td>\n",
       "      <td>...</td>\n",
       "      <td>...</td>\n",
       "      <td>...</td>\n",
       "    </tr>\n",
       "    <tr>\n",
       "      <td>9646</td>\n",
       "      <td>21432</td>\n",
       "      <td>HALL OF JUSTICE</td>\n",
       "      <td>217 W TEMPLE AVE</td>\n",
       "      <td>False</td>\n",
       "      <td>Restaurant</td>\n",
       "      <td>122</td>\n",
       "    </tr>\n",
       "    <tr>\n",
       "      <td>9647</td>\n",
       "      <td>21433</td>\n",
       "      <td>FIN-MELROSE</td>\n",
       "      <td>5750 MELROSE AVE</td>\n",
       "      <td>False</td>\n",
       "      <td>Restaurant</td>\n",
       "      <td>93</td>\n",
       "    </tr>\n",
       "    <tr>\n",
       "      <td>9648</td>\n",
       "      <td>21434</td>\n",
       "      <td>JUICY WINGZ</td>\n",
       "      <td>6741 HOLLYWOOD BLVD</td>\n",
       "      <td>True</td>\n",
       "      <td>Fast Food</td>\n",
       "      <td>15</td>\n",
       "    </tr>\n",
       "    <tr>\n",
       "      <td>9649</td>\n",
       "      <td>21435</td>\n",
       "      <td>MEDIDATE COFFEE</td>\n",
       "      <td>548 S SPRING ST STE 100</td>\n",
       "      <td>False</td>\n",
       "      <td>Cafe</td>\n",
       "      <td>6</td>\n",
       "    </tr>\n",
       "    <tr>\n",
       "      <td>9650</td>\n",
       "      <td>21436</td>\n",
       "      <td>CAFE SPROUTS</td>\n",
       "      <td>1300 S SAN PEDRO ST STE 111</td>\n",
       "      <td>True</td>\n",
       "      <td>Restaurant</td>\n",
       "      <td>19</td>\n",
       "    </tr>\n",
       "  </tbody>\n",
       "</table>\n",
       "<p>9651 rows × 6 columns</p>\n",
       "</div>"
      ],
      "text/plain": [
       "         id          object_name                      address  chain  \\\n",
       "0     11786  HABITAT COFFEE SHOP       3708 N EAGLE ROCK BLVD  False   \n",
       "1     11787             REILLY'S          100 WORLD WAY # 120  False   \n",
       "2     11788       STREET CHURROS    6801 HOLLYWOOD BLVD # 253  False   \n",
       "3     11789    TRINITI ECHO PARK           1814 W SUNSET BLVD  False   \n",
       "4     11790               POLLEN           2100 ECHO PARK AVE  False   \n",
       "...     ...                  ...                          ...    ...   \n",
       "9646  21432      HALL OF JUSTICE             217 W TEMPLE AVE  False   \n",
       "9647  21433          FIN-MELROSE             5750 MELROSE AVE  False   \n",
       "9648  21434          JUICY WINGZ          6741 HOLLYWOOD BLVD   True   \n",
       "9649  21435      MEDIDATE COFFEE      548 S SPRING ST STE 100  False   \n",
       "9650  21436         CAFE SPROUTS  1300 S SAN PEDRO ST STE 111   True   \n",
       "\n",
       "     object_type  number  \n",
       "0           Cafe      26  \n",
       "1     Restaurant       9  \n",
       "2      Fast Food      20  \n",
       "3     Restaurant      22  \n",
       "4     Restaurant      20  \n",
       "...          ...     ...  \n",
       "9646  Restaurant     122  \n",
       "9647  Restaurant      93  \n",
       "9648   Fast Food      15  \n",
       "9649        Cafe       6  \n",
       "9650  Restaurant      19  \n",
       "\n",
       "[9651 rows x 6 columns]"
      ]
     },
     "execution_count": 3,
     "metadata": {},
     "output_type": "execute_result"
    }
   ],
   "source": [
    "#looking at initial data\n",
    "rest_data.info()\n",
    "print('\\nNumber of duplicates found: ', rest_data.duplicated().sum())\n",
    "print('\\nNumber of missing values found: ')\n",
    "print(rest_data.isna().sum())\n",
    "rest_data"
   ]
  },
  {
   "cell_type": "code",
   "execution_count": 4,
   "metadata": {},
   "outputs": [
    {
     "name": "stdout",
     "output_type": "stream",
     "text": [
      "<class 'pandas.core.frame.DataFrame'>\n",
      "RangeIndex: 9648 entries, 0 to 9647\n",
      "Data columns (total 6 columns):\n",
      "id             9648 non-null int64\n",
      "object_name    9648 non-null object\n",
      "address        9648 non-null object\n",
      "chain          9648 non-null object\n",
      "object_type    9648 non-null object\n",
      "number         9648 non-null int64\n",
      "dtypes: int64(2), object(4)\n",
      "memory usage: 452.4+ KB\n",
      "\n",
      "Number of duplicates found:  0\n",
      "\n",
      "Number of missing values found: \n",
      "id                 0\n",
      "store_name         0\n",
      "address            0\n",
      "chain              0\n",
      "location_type      0\n",
      "number_of_seats    0\n",
      "dtype: int64\n"
     ]
    },
    {
     "data": {
      "text/html": [
       "<div>\n",
       "<style scoped>\n",
       "    .dataframe tbody tr th:only-of-type {\n",
       "        vertical-align: middle;\n",
       "    }\n",
       "\n",
       "    .dataframe tbody tr th {\n",
       "        vertical-align: top;\n",
       "    }\n",
       "\n",
       "    .dataframe thead th {\n",
       "        text-align: right;\n",
       "    }\n",
       "</style>\n",
       "<table border=\"1\" class=\"dataframe\">\n",
       "  <thead>\n",
       "    <tr style=\"text-align: right;\">\n",
       "      <th></th>\n",
       "      <th>id</th>\n",
       "      <th>store_name</th>\n",
       "      <th>address</th>\n",
       "      <th>chain</th>\n",
       "      <th>location_type</th>\n",
       "      <th>number_of_seats</th>\n",
       "    </tr>\n",
       "  </thead>\n",
       "  <tbody>\n",
       "    <tr>\n",
       "      <td>0</td>\n",
       "      <td>11786</td>\n",
       "      <td>HABITAT COFFEE SHOP</td>\n",
       "      <td>3708 N EAGLE ROCK BLVD</td>\n",
       "      <td>False</td>\n",
       "      <td>Cafe</td>\n",
       "      <td>26</td>\n",
       "    </tr>\n",
       "    <tr>\n",
       "      <td>1</td>\n",
       "      <td>11787</td>\n",
       "      <td>REILLY'S</td>\n",
       "      <td>100 WORLD WAY # 120</td>\n",
       "      <td>False</td>\n",
       "      <td>Restaurant</td>\n",
       "      <td>9</td>\n",
       "    </tr>\n",
       "    <tr>\n",
       "      <td>2</td>\n",
       "      <td>11788</td>\n",
       "      <td>STREET CHURROS</td>\n",
       "      <td>6801 HOLLYWOOD BLVD # 253</td>\n",
       "      <td>False</td>\n",
       "      <td>Fast Food</td>\n",
       "      <td>20</td>\n",
       "    </tr>\n",
       "    <tr>\n",
       "      <td>3</td>\n",
       "      <td>11789</td>\n",
       "      <td>TRINITI ECHO PARK</td>\n",
       "      <td>1814 W SUNSET BLVD</td>\n",
       "      <td>False</td>\n",
       "      <td>Restaurant</td>\n",
       "      <td>22</td>\n",
       "    </tr>\n",
       "    <tr>\n",
       "      <td>4</td>\n",
       "      <td>11790</td>\n",
       "      <td>POLLEN</td>\n",
       "      <td>2100 ECHO PARK AVE</td>\n",
       "      <td>False</td>\n",
       "      <td>Restaurant</td>\n",
       "      <td>20</td>\n",
       "    </tr>\n",
       "    <tr>\n",
       "      <td>...</td>\n",
       "      <td>...</td>\n",
       "      <td>...</td>\n",
       "      <td>...</td>\n",
       "      <td>...</td>\n",
       "      <td>...</td>\n",
       "      <td>...</td>\n",
       "    </tr>\n",
       "    <tr>\n",
       "      <td>9643</td>\n",
       "      <td>21432</td>\n",
       "      <td>HALL OF JUSTICE</td>\n",
       "      <td>217 W TEMPLE AVE</td>\n",
       "      <td>False</td>\n",
       "      <td>Restaurant</td>\n",
       "      <td>122</td>\n",
       "    </tr>\n",
       "    <tr>\n",
       "      <td>9644</td>\n",
       "      <td>21433</td>\n",
       "      <td>FIN-MELROSE</td>\n",
       "      <td>5750 MELROSE AVE</td>\n",
       "      <td>False</td>\n",
       "      <td>Restaurant</td>\n",
       "      <td>93</td>\n",
       "    </tr>\n",
       "    <tr>\n",
       "      <td>9645</td>\n",
       "      <td>21434</td>\n",
       "      <td>JUICY WINGZ</td>\n",
       "      <td>6741 HOLLYWOOD BLVD</td>\n",
       "      <td>True</td>\n",
       "      <td>Fast Food</td>\n",
       "      <td>15</td>\n",
       "    </tr>\n",
       "    <tr>\n",
       "      <td>9646</td>\n",
       "      <td>21435</td>\n",
       "      <td>MEDIDATE COFFEE</td>\n",
       "      <td>548 S SPRING ST STE 100</td>\n",
       "      <td>False</td>\n",
       "      <td>Cafe</td>\n",
       "      <td>6</td>\n",
       "    </tr>\n",
       "    <tr>\n",
       "      <td>9647</td>\n",
       "      <td>21436</td>\n",
       "      <td>CAFE SPROUTS</td>\n",
       "      <td>1300 S SAN PEDRO ST STE 111</td>\n",
       "      <td>True</td>\n",
       "      <td>Restaurant</td>\n",
       "      <td>19</td>\n",
       "    </tr>\n",
       "  </tbody>\n",
       "</table>\n",
       "<p>9648 rows × 6 columns</p>\n",
       "</div>"
      ],
      "text/plain": [
       "         id           store_name                      address  chain  \\\n",
       "0     11786  HABITAT COFFEE SHOP       3708 N EAGLE ROCK BLVD  False   \n",
       "1     11787             REILLY'S          100 WORLD WAY # 120  False   \n",
       "2     11788       STREET CHURROS    6801 HOLLYWOOD BLVD # 253  False   \n",
       "3     11789    TRINITI ECHO PARK           1814 W SUNSET BLVD  False   \n",
       "4     11790               POLLEN           2100 ECHO PARK AVE  False   \n",
       "...     ...                  ...                          ...    ...   \n",
       "9643  21432      HALL OF JUSTICE             217 W TEMPLE AVE  False   \n",
       "9644  21433          FIN-MELROSE             5750 MELROSE AVE  False   \n",
       "9645  21434          JUICY WINGZ          6741 HOLLYWOOD BLVD   True   \n",
       "9646  21435      MEDIDATE COFFEE      548 S SPRING ST STE 100  False   \n",
       "9647  21436         CAFE SPROUTS  1300 S SAN PEDRO ST STE 111   True   \n",
       "\n",
       "     location_type  number_of_seats  \n",
       "0             Cafe               26  \n",
       "1       Restaurant                9  \n",
       "2        Fast Food               20  \n",
       "3       Restaurant               22  \n",
       "4       Restaurant               20  \n",
       "...            ...              ...  \n",
       "9643    Restaurant              122  \n",
       "9644    Restaurant               93  \n",
       "9645     Fast Food               15  \n",
       "9646          Cafe                6  \n",
       "9647    Restaurant               19  \n",
       "\n",
       "[9648 rows x 6 columns]"
      ]
     },
     "execution_count": 4,
     "metadata": {},
     "output_type": "execute_result"
    }
   ],
   "source": [
    "#changing column names, making everything upper case, and getting rid of missing data\n",
    "rest_data = rest_data.dropna().reset_index(drop=True)\n",
    "rest_data.info()\n",
    "rest_data.columns = ['id', 'store_name', 'address', 'chain', 'location_type', 'number_of_seats']\n",
    "rest_data['store_name'] = rest_data['store_name'].str.upper()\n",
    "rest_data['address'] = rest_data['address'].str.upper()\n",
    "print('\\nNumber of duplicates found: ', rest_data.duplicated().sum())\n",
    "print('\\nNumber of missing values found: ')\n",
    "print(rest_data.isna().sum())\n",
    "rest_data"
   ]
  },
  {
   "cell_type": "markdown",
   "metadata": {},
   "source": [
    "# Conclusion\n",
    "\n",
    "There was a 3 missing values under the chain column, so I removed the rows due to the low number of missing. Each column is already in the correct data type, everything looks normal upon first glance."
   ]
  },
  {
   "cell_type": "markdown",
   "metadata": {},
   "source": [
    "# Step 2 \n",
    "\n",
    "Data analysis\n",
    "\n",
    " - Investigate the proportions of the various types of establishments. Plot a graph.\n",
    " - Investigate the proportions of chain and nonchain establishments. Plot a graph.\n",
    " - Which type of establishment is typically a chain?\n",
    " - What characterizes chains: many establishments with a small number of seats or a few establishments with a lot of seats?\n",
    " - Determine the average number of seats for each type of restaurant. On average, which type of restaurant has the greatest number of seats? Plot graphs.\n",
    " - Put the data on street names from the address column in a separate column.\n",
    " - Plot a graph of the top ten streets by number of restaurants.\n",
    " - Find the number of streets that only have one restaurant.\n",
    " - For streets with a lot of restaurants, look at the distribution of the number of seats. What trends can you see?\n",
    "\n",
    "Draw an overall conclusion and provide recommendations on restaurant type and number of seats. Comment on the possibility of developing a chain."
   ]
  },
  {
   "cell_type": "markdown",
   "metadata": {},
   "source": [
    "## Investigate the proportions of the various types of establishments\n",
    "\n",
    "Plot a graph"
   ]
  },
  {
   "cell_type": "code",
   "execution_count": 5,
   "metadata": {},
   "outputs": [
    {
     "data": {
      "text/html": [
       "<div>\n",
       "<style scoped>\n",
       "    .dataframe tbody tr th:only-of-type {\n",
       "        vertical-align: middle;\n",
       "    }\n",
       "\n",
       "    .dataframe tbody tr th {\n",
       "        vertical-align: top;\n",
       "    }\n",
       "\n",
       "    .dataframe thead th {\n",
       "        text-align: right;\n",
       "    }\n",
       "</style>\n",
       "<table border=\"1\" class=\"dataframe\">\n",
       "  <thead>\n",
       "    <tr style=\"text-align: right;\">\n",
       "      <th></th>\n",
       "      <th>location_type</th>\n",
       "      <th>location_count</th>\n",
       "    </tr>\n",
       "  </thead>\n",
       "  <tbody>\n",
       "    <tr>\n",
       "      <td>5</td>\n",
       "      <td>Restaurant</td>\n",
       "      <td>7253</td>\n",
       "    </tr>\n",
       "    <tr>\n",
       "      <td>3</td>\n",
       "      <td>Fast Food</td>\n",
       "      <td>1066</td>\n",
       "    </tr>\n",
       "    <tr>\n",
       "      <td>2</td>\n",
       "      <td>Cafe</td>\n",
       "      <td>435</td>\n",
       "    </tr>\n",
       "    <tr>\n",
       "      <td>4</td>\n",
       "      <td>Pizza</td>\n",
       "      <td>319</td>\n",
       "    </tr>\n",
       "    <tr>\n",
       "      <td>1</td>\n",
       "      <td>Bar</td>\n",
       "      <td>292</td>\n",
       "    </tr>\n",
       "    <tr>\n",
       "      <td>0</td>\n",
       "      <td>Bakery</td>\n",
       "      <td>283</td>\n",
       "    </tr>\n",
       "  </tbody>\n",
       "</table>\n",
       "</div>"
      ],
      "text/plain": [
       "  location_type  location_count\n",
       "5    Restaurant            7253\n",
       "3     Fast Food            1066\n",
       "2          Cafe             435\n",
       "4         Pizza             319\n",
       "1           Bar             292\n",
       "0        Bakery             283"
      ]
     },
     "execution_count": 5,
     "metadata": {},
     "output_type": "execute_result"
    }
   ],
   "source": [
    "#finding number of locations by location type\n",
    "type_count = rest_data.groupby('location_type').agg({'id': 'count'}).reset_index()\n",
    "type_count.columns = ['location_type', 'location_count']\n",
    "type_count.sort_values('location_count', ascending = False)"
   ]
  },
  {
   "cell_type": "code",
   "execution_count": 6,
   "metadata": {},
   "outputs": [
    {
     "data": {
      "image/png": "[encoded data removed]",
      "text/plain": [
       "<Figure size 864x432 with 1 Axes>"
      ]
     },
     "metadata": {
      "needs_background": "light"
     },
     "output_type": "display_data"
    }
   ],
   "source": [
    "#plotting the graph\n",
    "plt.figure(figsize= (12, 6))\n",
    "type_graph = sns.barplot(x='location_type', y='location_count', data=type_count, order = type_count.sort_values('location_count').location_type)\n",
    "\n",
    "#extra graph details\n",
    "plt.title('Number of locations by location type')\n",
    "plt.xlabel('Location type')\n",
    "plt.ylabel('Number of locations')\n",
    "\n",
    "#putting numbers on top of each bar, for easy reading\n",
    "for bar in type_graph.patches:\n",
    "    type_graph.annotate(format(bar.get_height(), '.0f'),\n",
    "                       xy = (bar.get_x() + bar.get_width() / 2, bar.get_height()),\n",
    "                       ha = 'center',\n",
    "                       va = 'center',\n",
    "                       xytext = (0, 7),\n",
    "                       textcoords = 'offset points')\n",
    "plt.show()"
   ]
  },
  {
   "cell_type": "markdown",
   "metadata": {},
   "source": [
    "### Conclusion\n",
    "\n",
    "As seen on the graph, the biggest number of locations is the restaurant type. The difference between restaurant and fast food is huge as well, with a difference of over 6000 location differences."
   ]
  },
  {
   "cell_type": "markdown",
   "metadata": {},
   "source": [
    "## Investigate the proportions of chain and nonchain establishments \n",
    "\n",
    "Plot a graph"
   ]
  },
  {
   "cell_type": "code",
   "execution_count": 7,
   "metadata": {},
   "outputs": [
    {
     "data": {
      "text/html": [
       "<div>\n",
       "<style scoped>\n",
       "    .dataframe tbody tr th:only-of-type {\n",
       "        vertical-align: middle;\n",
       "    }\n",
       "\n",
       "    .dataframe tbody tr th {\n",
       "        vertical-align: top;\n",
       "    }\n",
       "\n",
       "    .dataframe thead th {\n",
       "        text-align: right;\n",
       "    }\n",
       "</style>\n",
       "<table border=\"1\" class=\"dataframe\">\n",
       "  <thead>\n",
       "    <tr style=\"text-align: right;\">\n",
       "      <th></th>\n",
       "      <th>chain</th>\n",
       "      <th>location_count</th>\n",
       "    </tr>\n",
       "  </thead>\n",
       "  <tbody>\n",
       "    <tr>\n",
       "      <td>0</td>\n",
       "      <td>False</td>\n",
       "      <td>5972</td>\n",
       "    </tr>\n",
       "    <tr>\n",
       "      <td>1</td>\n",
       "      <td>True</td>\n",
       "      <td>3676</td>\n",
       "    </tr>\n",
       "  </tbody>\n",
       "</table>\n",
       "</div>"
      ],
      "text/plain": [
       "   chain  location_count\n",
       "0  False            5972\n",
       "1   True            3676"
      ]
     },
     "execution_count": 7,
     "metadata": {},
     "output_type": "execute_result"
    }
   ],
   "source": [
    "#finding number of locations by what type of chain\n",
    "chain_count = rest_data.groupby('chain').agg({'id': 'count'}).reset_index()\n",
    "chain_count.columns = ['chain', 'location_count']\n",
    "chain_count.sort_values('location_count', ascending = False)"
   ]
  },
  {
   "cell_type": "code",
   "execution_count": 8,
   "metadata": {},
   "outputs": [
    {
     "data": {
      "image/png": "[encoded data removed]",
      "text/plain": [
       "<Figure size 864x432 with 1 Axes>"
      ]
     },
     "metadata": {
      "needs_background": "light"
     },
     "output_type": "display_data"
    }
   ],
   "source": [
    "#plotting the graph\n",
    "plt.figure(figsize= (12, 6))\n",
    "chain_graph = sns.barplot(x='chain', y='location_count', data=chain_count)\n",
    "\n",
    "#extra graph details\n",
    "plt.title('Number of locations by chain type')\n",
    "plt.xlabel('Chain type')\n",
    "plt.ylabel('Number of locations')\n",
    "\n",
    "#putting numbers on top of each bar, for easy reading\n",
    "for bar in chain_graph.patches:\n",
    "    chain_graph.annotate(format(bar.get_height(), '.0f'),\n",
    "                       xy = (bar.get_x() + bar.get_width() / 2, bar.get_height()),\n",
    "                       ha = 'center',\n",
    "                       va = 'center',\n",
    "                       xytext = (0, 7),\n",
    "                       textcoords = 'offset points')\n",
    "plt.show()"
   ]
  },
  {
   "cell_type": "markdown",
   "metadata": {},
   "source": [
    "### Conclusion\n",
    "\n",
    "As seen on the graph, most (62%) of the locations are not in a chain, with a 2296 location difference between False and True chain types."
   ]
  },
  {
   "cell_type": "markdown",
   "metadata": {},
   "source": [
    "## Which type of establishment is typically a chain?"
   ]
  },
  {
   "cell_type": "code",
   "execution_count": 9,
   "metadata": {},
   "outputs": [
    {
     "data": {
      "text/html": [
       "<div>\n",
       "<style scoped>\n",
       "    .dataframe tbody tr th:only-of-type {\n",
       "        vertical-align: middle;\n",
       "    }\n",
       "\n",
       "    .dataframe tbody tr th {\n",
       "        vertical-align: top;\n",
       "    }\n",
       "\n",
       "    .dataframe thead th {\n",
       "        text-align: right;\n",
       "    }\n",
       "</style>\n",
       "<table border=\"1\" class=\"dataframe\">\n",
       "  <thead>\n",
       "    <tr style=\"text-align: right;\">\n",
       "      <th></th>\n",
       "      <th>location_type</th>\n",
       "      <th>not_in_chain</th>\n",
       "      <th>in_chain</th>\n",
       "      <th>total</th>\n",
       "      <th>percentage_in_chain</th>\n",
       "    </tr>\n",
       "  </thead>\n",
       "  <tbody>\n",
       "    <tr>\n",
       "      <td>0</td>\n",
       "      <td>Bakery</td>\n",
       "      <td>0</td>\n",
       "      <td>283</td>\n",
       "      <td>283</td>\n",
       "      <td>100.0</td>\n",
       "    </tr>\n",
       "    <tr>\n",
       "      <td>2</td>\n",
       "      <td>Cafe</td>\n",
       "      <td>169</td>\n",
       "      <td>266</td>\n",
       "      <td>435</td>\n",
       "      <td>61.0</td>\n",
       "    </tr>\n",
       "    <tr>\n",
       "      <td>3</td>\n",
       "      <td>Fast Food</td>\n",
       "      <td>461</td>\n",
       "      <td>605</td>\n",
       "      <td>1066</td>\n",
       "      <td>57.0</td>\n",
       "    </tr>\n",
       "    <tr>\n",
       "      <td>4</td>\n",
       "      <td>Pizza</td>\n",
       "      <td>166</td>\n",
       "      <td>153</td>\n",
       "      <td>319</td>\n",
       "      <td>48.0</td>\n",
       "    </tr>\n",
       "    <tr>\n",
       "      <td>5</td>\n",
       "      <td>Restaurant</td>\n",
       "      <td>4961</td>\n",
       "      <td>2292</td>\n",
       "      <td>7253</td>\n",
       "      <td>32.0</td>\n",
       "    </tr>\n",
       "    <tr>\n",
       "      <td>1</td>\n",
       "      <td>Bar</td>\n",
       "      <td>215</td>\n",
       "      <td>77</td>\n",
       "      <td>292</td>\n",
       "      <td>26.0</td>\n",
       "    </tr>\n",
       "  </tbody>\n",
       "</table>\n",
       "</div>"
      ],
      "text/plain": [
       "  location_type  not_in_chain  in_chain  total  percentage_in_chain\n",
       "0        Bakery             0       283    283                100.0\n",
       "2          Cafe           169       266    435                 61.0\n",
       "3     Fast Food           461       605   1066                 57.0\n",
       "4         Pizza           166       153    319                 48.0\n",
       "5    Restaurant          4961      2292   7253                 32.0\n",
       "1           Bar           215        77    292                 26.0"
      ]
     },
     "execution_count": 9,
     "metadata": {},
     "output_type": "execute_result"
    }
   ],
   "source": [
    "#making a pivot table to find what location type is in a chain\n",
    "location_chain = rest_data.pivot_table(index='location_type', columns='chain', values='id', aggfunc='count').reset_index()\n",
    "location_chain.columns = ['location_type', 'not_in_chain', 'in_chain']\n",
    "\n",
    "#filling in na, due to total not registering nan as 0, and also converting to int for the table to look nicer.\n",
    "location_chain['not_in_chain'] = location_chain['not_in_chain'].fillna(value=0)\n",
    "location_chain['not_in_chain'] = location_chain['not_in_chain'].astype('int')\n",
    "location_chain['in_chain'] = location_chain['in_chain'].astype('int')\n",
    "\n",
    "#making a total and a percentage of in chain compared to total.\n",
    "location_chain['total'] = location_chain['not_in_chain'] + location_chain['in_chain']\n",
    "location_chain['percentage_in_chain'] = ((location_chain['in_chain'] / location_chain['total']) * 100).round()\n",
    "location_chain.sort_values('percentage_in_chain', ascending = False)"
   ]
  },
  {
   "cell_type": "code",
   "execution_count": 10,
   "metadata": {},
   "outputs": [
    {
     "data": {
      "image/png": "[encoded data removed]",
      "text/plain": [
       "<Figure size 864x432 with 1 Axes>"
      ]
     },
     "metadata": {
      "needs_background": "light"
     },
     "output_type": "display_data"
    }
   ],
   "source": [
    "#plotting the graph\n",
    "plt.figure(figsize= (12, 6))\n",
    "percent_chain = sns.barplot(x='location_type', y='percentage_in_chain', data=location_chain, order = location_chain.sort_values('percentage_in_chain').location_type)\n",
    "\n",
    "#extra graph details\n",
    "plt.title('Percentage of locations in a chain')\n",
    "plt.xlabel('Location type')\n",
    "plt.ylabel('Percentage of locations in a chain')\n",
    "\n",
    "#putting numbers on top of each bar, for easy reading\n",
    "for bar in percent_chain.patches:\n",
    "    percent_chain.annotate(format(bar.get_height(), '.0f'),\n",
    "                       xy = (bar.get_x() + bar.get_width() / 2, bar.get_height()),\n",
    "                       ha = 'center',\n",
    "                       va = 'center',\n",
    "                       xytext = (0, 7),\n",
    "                       textcoords = 'offset points')\n",
    "plt.show()"
   ]
  },
  {
   "cell_type": "markdown",
   "metadata": {},
   "source": [
    "### Conclusion\n",
    "\n",
    "With the data provided, 100% of bakers are in a chain, with Cafes and Fast Food also being mostly in chain as well."
   ]
  },
  {
   "cell_type": "markdown",
   "metadata": {},
   "source": [
    "## What characterizes chains: Many establishments with a small number of seats or a few establishments with a lot of seats?"
   ]
  },
  {
   "cell_type": "code",
   "execution_count": 11,
   "metadata": {},
   "outputs": [
    {
     "data": {
      "text/plain": [
       "Text(0, 0.5, 'Number of seats')"
      ]
     },
     "execution_count": 11,
     "metadata": {},
     "output_type": "execute_result"
    },
    {
     "data": {
      "image/png": "[encoded data removed]",
      "text/plain": [
       "<Figure size 864x432 with 1 Axes>"
      ]
     },
     "metadata": {
      "needs_background": "light"
     },
     "output_type": "display_data"
    }
   ],
   "source": [
    "#Making a query just for those locations where chain is true\n",
    "chain_seats = rest_data.query('chain == True')\n",
    "\n",
    "#making a violin plot to see amount of locations with x amount of chairs\n",
    "plt.figure(figsize= (12, 6))\n",
    "sns.violinplot(y='number_of_seats', data=chain_seats) \n",
    "\n",
    "#extra graph details\n",
    "plt.title('Number of seats in chain restaurants')\n",
    "plt.xlabel('Number of locations')\n",
    "plt.ylabel('Number of seats')"
   ]
  },
  {
   "cell_type": "code",
   "execution_count": 35,
   "metadata": {},
   "outputs": [
    {
     "data": {
      "image/png": "[encoded data removed]",
      "text/plain": [
       "<Figure size 432x432 with 3 Axes>"
      ]
     },
     "metadata": {
      "needs_background": "light"
     },
     "output_type": "display_data"
    }
   ],
   "source": [
    "data_agg = rest_data.groupby(['store_name', 'chain']).agg({'number_of_seats': 'mean', 'address': 'count'}).reset_index()\n",
    "data_agg.columns = ['store_name', 'chain', 'number_of_seats', 'number_objects']\n",
    "\n",
    "chains_data = data_agg[data_agg['chain'] == True]\n",
    "chains_data.head()\n",
    "\n",
    "sns.jointplot(x=\"number_objects\", y=\"number_of_seats\", data=chains_data)\n",
    "plt.show()"
   ]
  },
  {
   "cell_type": "markdown",
   "metadata": {},
   "source": [
    "### Conclusion\n",
    "\n",
    "According to the graphs, what characterizes chains are many establishments with small number of seats. As seen on the graph, most locations sit around 20 seats, and it's more typical to have lower amount of seats. "
   ]
  },
  {
   "cell_type": "markdown",
   "metadata": {},
   "source": [
    "## Determine the average number of seats for each type of restaurant. On average, which type of restaurant has the greatest number of seats? \n",
    "\n",
    "Plot a graph"
   ]
  },
  {
   "cell_type": "code",
   "execution_count": 12,
   "metadata": {},
   "outputs": [
    {
     "data": {
      "text/html": [
       "<div>\n",
       "<style scoped>\n",
       "    .dataframe tbody tr th:only-of-type {\n",
       "        vertical-align: middle;\n",
       "    }\n",
       "\n",
       "    .dataframe tbody tr th {\n",
       "        vertical-align: top;\n",
       "    }\n",
       "\n",
       "    .dataframe thead th {\n",
       "        text-align: right;\n",
       "    }\n",
       "</style>\n",
       "<table border=\"1\" class=\"dataframe\">\n",
       "  <thead>\n",
       "    <tr style=\"text-align: right;\">\n",
       "      <th></th>\n",
       "      <th>location_type</th>\n",
       "      <th>avg_num_seats</th>\n",
       "    </tr>\n",
       "  </thead>\n",
       "  <tbody>\n",
       "    <tr>\n",
       "      <td>0</td>\n",
       "      <td>Bakery</td>\n",
       "      <td>21</td>\n",
       "    </tr>\n",
       "    <tr>\n",
       "      <td>1</td>\n",
       "      <td>Bar</td>\n",
       "      <td>44</td>\n",
       "    </tr>\n",
       "    <tr>\n",
       "      <td>2</td>\n",
       "      <td>Cafe</td>\n",
       "      <td>25</td>\n",
       "    </tr>\n",
       "    <tr>\n",
       "      <td>3</td>\n",
       "      <td>Fast Food</td>\n",
       "      <td>31</td>\n",
       "    </tr>\n",
       "    <tr>\n",
       "      <td>4</td>\n",
       "      <td>Pizza</td>\n",
       "      <td>28</td>\n",
       "    </tr>\n",
       "    <tr>\n",
       "      <td>5</td>\n",
       "      <td>Restaurant</td>\n",
       "      <td>48</td>\n",
       "    </tr>\n",
       "  </tbody>\n",
       "</table>\n",
       "</div>"
      ],
      "text/plain": [
       "  location_type  avg_num_seats\n",
       "0        Bakery             21\n",
       "1           Bar             44\n",
       "2          Cafe             25\n",
       "3     Fast Food             31\n",
       "4         Pizza             28\n",
       "5    Restaurant             48"
      ]
     },
     "execution_count": 12,
     "metadata": {},
     "output_type": "execute_result"
    }
   ],
   "source": [
    "#doing a groupby to find avg amount of seats per location type\n",
    "avg_seats = rest_data.groupby('location_type').agg({'number_of_seats': 'mean'}).reset_index()\n",
    "avg_seats.columns = ['location_type', 'avg_num_seats']\n",
    "avg_seats['avg_num_seats'] = avg_seats['avg_num_seats'].astype('int')\n",
    "avg_seats"
   ]
  },
  {
   "cell_type": "code",
   "execution_count": 13,
   "metadata": {},
   "outputs": [
    {
     "data": {
      "image/png": "[encoded data removed]",
      "text/plain": [
       "<Figure size 864x432 with 1 Axes>"
      ]
     },
     "metadata": {
      "needs_background": "light"
     },
     "output_type": "display_data"
    }
   ],
   "source": [
    "#plotting the graph\n",
    "plt.figure(figsize= (12, 6))\n",
    "avg_seats_graph = sns.barplot(x='location_type', y='avg_num_seats', data=avg_seats, order = avg_seats.sort_values('avg_num_seats').location_type)\n",
    "\n",
    "#extra graph details\n",
    "plt.title('Average number of seats by location type')\n",
    "plt.xlabel('Location type')\n",
    "plt.ylabel('Average number of seats')\n",
    "\n",
    "#putting numbers on top of each bar, for easy reading\n",
    "for bar in avg_seats_graph.patches:\n",
    "    avg_seats_graph.annotate(format(bar.get_height(), '.0f'),\n",
    "                       xy = (bar.get_x() + bar.get_width() / 2, bar.get_height()),\n",
    "                       ha = 'center',\n",
    "                       va = 'center',\n",
    "                       xytext = (0, 7),\n",
    "                       textcoords = 'offset points')\n",
    "plt.show()"
   ]
  },
  {
   "cell_type": "markdown",
   "metadata": {},
   "source": [
    "### Conclusion\n",
    "\n",
    "On average, the Restaurant location type has the most average number of seats, sitting at 48 seats. The Bar location type takes second place with 44 on average, with a bigger gap at Fast Food with 31 sitting in third."
   ]
  },
  {
   "cell_type": "markdown",
   "metadata": {},
   "source": [
    "## Put the data on street names from the address column in a separate column."
   ]
  },
  {
   "cell_type": "code",
   "execution_count": 14,
   "metadata": {},
   "outputs": [
    {
     "data": {
      "text/html": [
       "<div>\n",
       "<style scoped>\n",
       "    .dataframe tbody tr th:only-of-type {\n",
       "        vertical-align: middle;\n",
       "    }\n",
       "\n",
       "    .dataframe tbody tr th {\n",
       "        vertical-align: top;\n",
       "    }\n",
       "\n",
       "    .dataframe thead th {\n",
       "        text-align: right;\n",
       "    }\n",
       "</style>\n",
       "<table border=\"1\" class=\"dataframe\">\n",
       "  <thead>\n",
       "    <tr style=\"text-align: right;\">\n",
       "      <th></th>\n",
       "      <th>id</th>\n",
       "      <th>store_name</th>\n",
       "      <th>address</th>\n",
       "      <th>chain</th>\n",
       "      <th>location_type</th>\n",
       "      <th>number_of_seats</th>\n",
       "      <th>street_name</th>\n",
       "    </tr>\n",
       "  </thead>\n",
       "  <tbody>\n",
       "    <tr>\n",
       "      <td>0</td>\n",
       "      <td>11786</td>\n",
       "      <td>HABITAT COFFEE SHOP</td>\n",
       "      <td>3708 N EAGLE ROCK BLVD</td>\n",
       "      <td>False</td>\n",
       "      <td>Cafe</td>\n",
       "      <td>26</td>\n",
       "      <td>N EAGLE ROCK BLVD</td>\n",
       "    </tr>\n",
       "    <tr>\n",
       "      <td>1</td>\n",
       "      <td>11787</td>\n",
       "      <td>REILLY'S</td>\n",
       "      <td>100 WORLD WAY # 120</td>\n",
       "      <td>False</td>\n",
       "      <td>Restaurant</td>\n",
       "      <td>9</td>\n",
       "      <td>WORLD WAY</td>\n",
       "    </tr>\n",
       "    <tr>\n",
       "      <td>2</td>\n",
       "      <td>11788</td>\n",
       "      <td>STREET CHURROS</td>\n",
       "      <td>6801 HOLLYWOOD BLVD # 253</td>\n",
       "      <td>False</td>\n",
       "      <td>Fast Food</td>\n",
       "      <td>20</td>\n",
       "      <td>HOLLYWOOD BLVD</td>\n",
       "    </tr>\n",
       "    <tr>\n",
       "      <td>3</td>\n",
       "      <td>11789</td>\n",
       "      <td>TRINITI ECHO PARK</td>\n",
       "      <td>1814 W SUNSET BLVD</td>\n",
       "      <td>False</td>\n",
       "      <td>Restaurant</td>\n",
       "      <td>22</td>\n",
       "      <td>W SUNSET BLVD</td>\n",
       "    </tr>\n",
       "    <tr>\n",
       "      <td>4</td>\n",
       "      <td>11790</td>\n",
       "      <td>POLLEN</td>\n",
       "      <td>2100 ECHO PARK AVE</td>\n",
       "      <td>False</td>\n",
       "      <td>Restaurant</td>\n",
       "      <td>20</td>\n",
       "      <td>ECHO PARK AVE</td>\n",
       "    </tr>\n",
       "    <tr>\n",
       "      <td>5</td>\n",
       "      <td>11791</td>\n",
       "      <td>THE SPOT GRILL</td>\n",
       "      <td>10004 NATIONAL BLVD</td>\n",
       "      <td>False</td>\n",
       "      <td>Restaurant</td>\n",
       "      <td>14</td>\n",
       "      <td>NATIONAL BLVD</td>\n",
       "    </tr>\n",
       "    <tr>\n",
       "      <td>6</td>\n",
       "      <td>11792</td>\n",
       "      <td>CPK</td>\n",
       "      <td>100 WORLD WAY # 126</td>\n",
       "      <td>False</td>\n",
       "      <td>Restaurant</td>\n",
       "      <td>100</td>\n",
       "      <td>WORLD WAY</td>\n",
       "    </tr>\n",
       "    <tr>\n",
       "      <td>7</td>\n",
       "      <td>11793</td>\n",
       "      <td>PHO LALA</td>\n",
       "      <td>3500 W 6TH ST STE 226</td>\n",
       "      <td>False</td>\n",
       "      <td>Restaurant</td>\n",
       "      <td>7</td>\n",
       "      <td>W 6TH ST STE 226</td>\n",
       "    </tr>\n",
       "    <tr>\n",
       "      <td>8</td>\n",
       "      <td>11794</td>\n",
       "      <td>ABC DONUTS</td>\n",
       "      <td>3027 N SAN FERNANDO RD UNIT 103</td>\n",
       "      <td>True</td>\n",
       "      <td>Fast Food</td>\n",
       "      <td>1</td>\n",
       "      <td>N SAN FERNANDO RD UNIT 103</td>\n",
       "    </tr>\n",
       "    <tr>\n",
       "      <td>9</td>\n",
       "      <td>11795</td>\n",
       "      <td>UPSTAIRS</td>\n",
       "      <td>3707 N CAHUENGA BLVD</td>\n",
       "      <td>False</td>\n",
       "      <td>Restaurant</td>\n",
       "      <td>35</td>\n",
       "      <td>N CAHUENGA BLVD</td>\n",
       "    </tr>\n",
       "    <tr>\n",
       "      <td>10</td>\n",
       "      <td>11796</td>\n",
       "      <td>EL POLLO LOCO</td>\n",
       "      <td>5319 W SUNSET BLVD</td>\n",
       "      <td>True</td>\n",
       "      <td>Restaurant</td>\n",
       "      <td>38</td>\n",
       "      <td>W SUNSET BLVD</td>\n",
       "    </tr>\n",
       "    <tr>\n",
       "      <td>11</td>\n",
       "      <td>11797</td>\n",
       "      <td>POONG NYUN BAKERY</td>\n",
       "      <td>928 S WESTERN AVE STE 109</td>\n",
       "      <td>True</td>\n",
       "      <td>Bakery</td>\n",
       "      <td>17</td>\n",
       "      <td>S WESTERN AVE STE 109</td>\n",
       "    </tr>\n",
       "    <tr>\n",
       "      <td>12</td>\n",
       "      <td>11798</td>\n",
       "      <td>EMC RESTAURANT GROUP LLC</td>\n",
       "      <td>3500 W 6TH ST STE 101</td>\n",
       "      <td>True</td>\n",
       "      <td>Restaurant</td>\n",
       "      <td>133</td>\n",
       "      <td>W 6TH ST STE 101</td>\n",
       "    </tr>\n",
       "    <tr>\n",
       "      <td>13</td>\n",
       "      <td>11799</td>\n",
       "      <td>POPULAR DONUTS</td>\n",
       "      <td>3614 W SLAUSON AVE</td>\n",
       "      <td>False</td>\n",
       "      <td>Fast Food</td>\n",
       "      <td>18</td>\n",
       "      <td>W SLAUSON AVE</td>\n",
       "    </tr>\n",
       "    <tr>\n",
       "      <td>14</td>\n",
       "      <td>11800</td>\n",
       "      <td>CUSCATLECA BAKERY</td>\n",
       "      <td>2501 W SUNSET BLVD #A</td>\n",
       "      <td>True</td>\n",
       "      <td>Bakery</td>\n",
       "      <td>26</td>\n",
       "      <td>W SUNSET BLVD</td>\n",
       "    </tr>\n",
       "    <tr>\n",
       "      <td>15</td>\n",
       "      <td>11801</td>\n",
       "      <td>FOOD COURT TRAY WASHING AREA</td>\n",
       "      <td>928 S WESTERN AVE STE 300</td>\n",
       "      <td>True</td>\n",
       "      <td>Restaurant</td>\n",
       "      <td>21</td>\n",
       "      <td>S WESTERN AVE STE 300</td>\n",
       "    </tr>\n",
       "    <tr>\n",
       "      <td>16</td>\n",
       "      <td>11802</td>\n",
       "      <td>HMS BOUNTY</td>\n",
       "      <td>3357 WILSHIRE BLVD</td>\n",
       "      <td>False</td>\n",
       "      <td>Restaurant</td>\n",
       "      <td>147</td>\n",
       "      <td>WILSHIRE BLVD</td>\n",
       "    </tr>\n",
       "    <tr>\n",
       "      <td>17</td>\n",
       "      <td>11803</td>\n",
       "      <td>AN'S CHAN BANG</td>\n",
       "      <td>244 S OXFORD AVE # 5</td>\n",
       "      <td>False</td>\n",
       "      <td>Restaurant</td>\n",
       "      <td>10</td>\n",
       "      <td>S OXFORD AVE</td>\n",
       "    </tr>\n",
       "    <tr>\n",
       "      <td>18</td>\n",
       "      <td>11804</td>\n",
       "      <td>MURAKAMI</td>\n",
       "      <td>7160 MELROSE AVE</td>\n",
       "      <td>False</td>\n",
       "      <td>Restaurant</td>\n",
       "      <td>139</td>\n",
       "      <td>MELROSE AVE</td>\n",
       "    </tr>\n",
       "    <tr>\n",
       "      <td>19</td>\n",
       "      <td>11805</td>\n",
       "      <td>DELTA SKY CLUB T3</td>\n",
       "      <td>300 WORLD WAY</td>\n",
       "      <td>False</td>\n",
       "      <td>Restaurant</td>\n",
       "      <td>103</td>\n",
       "      <td>WORLD WAY</td>\n",
       "    </tr>\n",
       "  </tbody>\n",
       "</table>\n",
       "</div>"
      ],
      "text/plain": [
       "       id                    store_name                          address  \\\n",
       "0   11786           HABITAT COFFEE SHOP           3708 N EAGLE ROCK BLVD   \n",
       "1   11787                      REILLY'S              100 WORLD WAY # 120   \n",
       "2   11788                STREET CHURROS        6801 HOLLYWOOD BLVD # 253   \n",
       "3   11789             TRINITI ECHO PARK               1814 W SUNSET BLVD   \n",
       "4   11790                        POLLEN               2100 ECHO PARK AVE   \n",
       "5   11791                THE SPOT GRILL              10004 NATIONAL BLVD   \n",
       "6   11792                           CPK              100 WORLD WAY # 126   \n",
       "7   11793                      PHO LALA            3500 W 6TH ST STE 226   \n",
       "8   11794                    ABC DONUTS  3027 N SAN FERNANDO RD UNIT 103   \n",
       "9   11795                      UPSTAIRS             3707 N CAHUENGA BLVD   \n",
       "10  11796                 EL POLLO LOCO               5319 W SUNSET BLVD   \n",
       "11  11797             POONG NYUN BAKERY        928 S WESTERN AVE STE 109   \n",
       "12  11798      EMC RESTAURANT GROUP LLC            3500 W 6TH ST STE 101   \n",
       "13  11799                POPULAR DONUTS               3614 W SLAUSON AVE   \n",
       "14  11800             CUSCATLECA BAKERY            2501 W SUNSET BLVD #A   \n",
       "15  11801  FOOD COURT TRAY WASHING AREA        928 S WESTERN AVE STE 300   \n",
       "16  11802                    HMS BOUNTY               3357 WILSHIRE BLVD   \n",
       "17  11803                AN'S CHAN BANG             244 S OXFORD AVE # 5   \n",
       "18  11804                      MURAKAMI                 7160 MELROSE AVE   \n",
       "19  11805             DELTA SKY CLUB T3                    300 WORLD WAY   \n",
       "\n",
       "    chain location_type  number_of_seats                 street_name  \n",
       "0   False          Cafe               26           N EAGLE ROCK BLVD  \n",
       "1   False    Restaurant                9                  WORLD WAY   \n",
       "2   False     Fast Food               20             HOLLYWOOD BLVD   \n",
       "3   False    Restaurant               22               W SUNSET BLVD  \n",
       "4   False    Restaurant               20               ECHO PARK AVE  \n",
       "5   False    Restaurant               14               NATIONAL BLVD  \n",
       "6   False    Restaurant              100                  WORLD WAY   \n",
       "7   False    Restaurant                7            W 6TH ST STE 226  \n",
       "8    True     Fast Food                1  N SAN FERNANDO RD UNIT 103  \n",
       "9   False    Restaurant               35             N CAHUENGA BLVD  \n",
       "10   True    Restaurant               38               W SUNSET BLVD  \n",
       "11   True        Bakery               17       S WESTERN AVE STE 109  \n",
       "12   True    Restaurant              133            W 6TH ST STE 101  \n",
       "13  False     Fast Food               18               W SLAUSON AVE  \n",
       "14   True        Bakery               26              W SUNSET BLVD   \n",
       "15   True    Restaurant               21       S WESTERN AVE STE 300  \n",
       "16  False    Restaurant              147               WILSHIRE BLVD  \n",
       "17  False    Restaurant               10               S OXFORD AVE   \n",
       "18  False    Restaurant              139                 MELROSE AVE  \n",
       "19  False    Restaurant              103                   WORLD WAY  "
      ]
     },
     "execution_count": 14,
     "metadata": {},
     "output_type": "execute_result"
    }
   ],
   "source": [
    "rest_data['street_name']=rest_data['address'].apply(lambda x: re.search('[A-z]+[' ']*\\d?*[A-z ]+', x).group())\n",
    "rest_data.head(20)"
   ]
  },
  {
   "cell_type": "markdown",
   "metadata": {},
   "source": [
    "## Plot a graph of the top ten streets by number of restaurants."
   ]
  },
  {
   "cell_type": "code",
   "execution_count": 15,
   "metadata": {},
   "outputs": [
    {
     "data": {
      "text/html": [
       "<div>\n",
       "<style scoped>\n",
       "    .dataframe tbody tr th:only-of-type {\n",
       "        vertical-align: middle;\n",
       "    }\n",
       "\n",
       "    .dataframe tbody tr th {\n",
       "        vertical-align: top;\n",
       "    }\n",
       "\n",
       "    .dataframe thead th {\n",
       "        text-align: right;\n",
       "    }\n",
       "</style>\n",
       "<table border=\"1\" class=\"dataframe\">\n",
       "  <thead>\n",
       "    <tr style=\"text-align: right;\">\n",
       "      <th></th>\n",
       "      <th>street_name</th>\n",
       "      <th>restaurant_count</th>\n",
       "    </tr>\n",
       "  </thead>\n",
       "  <tbody>\n",
       "    <tr>\n",
       "      <td>1736</td>\n",
       "      <td>W SUNSET BLVD</td>\n",
       "      <td>305</td>\n",
       "    </tr>\n",
       "    <tr>\n",
       "      <td>1707</td>\n",
       "      <td>W PICO BLVD</td>\n",
       "      <td>291</td>\n",
       "    </tr>\n",
       "    <tr>\n",
       "      <td>405</td>\n",
       "      <td>HOLLYWOOD BLVD</td>\n",
       "      <td>168</td>\n",
       "    </tr>\n",
       "    <tr>\n",
       "      <td>1823</td>\n",
       "      <td>WILSHIRE BLVD</td>\n",
       "      <td>164</td>\n",
       "    </tr>\n",
       "    <tr>\n",
       "      <td>1193</td>\n",
       "      <td>S VERMONT AVE</td>\n",
       "      <td>151</td>\n",
       "    </tr>\n",
       "    <tr>\n",
       "      <td>1452</td>\n",
       "      <td>W 3RD ST</td>\n",
       "      <td>151</td>\n",
       "    </tr>\n",
       "    <tr>\n",
       "      <td>1295</td>\n",
       "      <td>SANTA MONICA BLVD</td>\n",
       "      <td>146</td>\n",
       "    </tr>\n",
       "    <tr>\n",
       "      <td>49</td>\n",
       "      <td>BEVERLY BLVD</td>\n",
       "      <td>138</td>\n",
       "    </tr>\n",
       "    <tr>\n",
       "      <td>942</td>\n",
       "      <td>S FIGUEROA ST</td>\n",
       "      <td>135</td>\n",
       "    </tr>\n",
       "    <tr>\n",
       "      <td>531</td>\n",
       "      <td>MELROSE AVE</td>\n",
       "      <td>134</td>\n",
       "    </tr>\n",
       "  </tbody>\n",
       "</table>\n",
       "</div>"
      ],
      "text/plain": [
       "            street_name  restaurant_count\n",
       "1736      W SUNSET BLVD               305\n",
       "1707        W PICO BLVD               291\n",
       "405      HOLLYWOOD BLVD               168\n",
       "1823      WILSHIRE BLVD               164\n",
       "1193      S VERMONT AVE               151\n",
       "1452           W 3RD ST               151\n",
       "1295  SANTA MONICA BLVD               146\n",
       "49         BEVERLY BLVD               138\n",
       "942       S FIGUEROA ST               135\n",
       "531         MELROSE AVE               134"
      ]
     },
     "execution_count": 15,
     "metadata": {},
     "output_type": "execute_result"
    }
   ],
   "source": [
    "#making a groupby so I can find top streets by number of restaurants\n",
    "top_streets = rest_data.groupby('street_name').agg({'id': 'count'}).reset_index()\n",
    "top_streets.columns = ['street_name', 'restaurant_count']\n",
    "top_streets = top_streets.sort_values('restaurant_count', ascending = False).head(10)\n",
    "top_streets"
   ]
  },
  {
   "cell_type": "code",
   "execution_count": 16,
   "metadata": {},
   "outputs": [
    {
     "data": {
      "image/png": "[encoded data removed]",
      "text/plain": [
       "<Figure size 1224x432 with 1 Axes>"
      ]
     },
     "metadata": {
      "needs_background": "light"
     },
     "output_type": "display_data"
    }
   ],
   "source": [
    "#plotting the graph\n",
    "plt.figure(figsize= (17, 6))\n",
    "streets_graph = sns.barplot(x='street_name', y='restaurant_count', data=top_streets, order = top_streets.sort_values('restaurant_count').street_name)\n",
    "\n",
    "#extra graph details\n",
    "plt.title('Top ten streets by number of restaurants')\n",
    "plt.xlabel('Streets')\n",
    "plt.ylabel('Number of restaurants')\n",
    "\n",
    "#putting numbers on top of each bar, for easy reading\n",
    "for bar in streets_graph.patches:\n",
    "    streets_graph.annotate(format(bar.get_height(), '.0f'),\n",
    "                       xy = (bar.get_x() + bar.get_width() / 2, bar.get_height()),\n",
    "                       ha = 'center',\n",
    "                       va = 'center',\n",
    "                       xytext = (0, 7),\n",
    "                       textcoords = 'offset points')\n",
    "plt.show()"
   ]
  },
  {
   "cell_type": "markdown",
   "metadata": {},
   "source": [
    "### Conclusion\n",
    "\n",
    "As seen on the graph, the top street by number of restaurants is W Sunset BLVD with 304 restaurants in the area. Second place is W Pico BLVD with 290, while the next few places go way down with Hollywood BLVD at 167, going down by a few restaurants for the rest. "
   ]
  },
  {
   "cell_type": "markdown",
   "metadata": {},
   "source": [
    "## Find the number of streets that only have one restaurant"
   ]
  },
  {
   "cell_type": "code",
   "execution_count": 17,
   "metadata": {
    "scrolled": true
   },
   "outputs": [
    {
     "name": "stdout",
     "output_type": "stream",
     "text": [
      "The number of streets that only have one restaurant is: 1301\n"
     ]
    }
   ],
   "source": [
    "#making a groupby to find how many streets have only one restaurant\n",
    "one_restaurant = rest_data.groupby('street_name').agg({'id': 'count'}).reset_index()\n",
    "one_restaurant.columns = ['street_name', 'restaurant_count']\n",
    "one_restaurant = one_restaurant.query('restaurant_count == 1')\n",
    "print('The number of streets that only have one restaurant is:', one_restaurant['restaurant_count'].sum())"
   ]
  },
  {
   "cell_type": "markdown",
   "metadata": {},
   "source": [
    "## For streets with a lot of restaurants, look at the distribution of the number of seats. \n",
    "\n",
    "What trends can you see?"
   ]
  },
  {
   "cell_type": "code",
   "execution_count": 18,
   "metadata": {
    "scrolled": false
   },
   "outputs": [
    {
     "data": {
      "text/html": [
       "<div>\n",
       "<style scoped>\n",
       "    .dataframe tbody tr th:only-of-type {\n",
       "        vertical-align: middle;\n",
       "    }\n",
       "\n",
       "    .dataframe tbody tr th {\n",
       "        vertical-align: top;\n",
       "    }\n",
       "\n",
       "    .dataframe thead th {\n",
       "        text-align: right;\n",
       "    }\n",
       "</style>\n",
       "<table border=\"1\" class=\"dataframe\">\n",
       "  <thead>\n",
       "    <tr style=\"text-align: right;\">\n",
       "      <th></th>\n",
       "      <th>street_name</th>\n",
       "      <th>restaurant_count</th>\n",
       "      <th>sum_seats</th>\n",
       "    </tr>\n",
       "  </thead>\n",
       "  <tbody>\n",
       "    <tr>\n",
       "      <td>1736</td>\n",
       "      <td>W SUNSET BLVD</td>\n",
       "      <td>305</td>\n",
       "      <td>15456</td>\n",
       "    </tr>\n",
       "    <tr>\n",
       "      <td>1707</td>\n",
       "      <td>W PICO BLVD</td>\n",
       "      <td>291</td>\n",
       "      <td>11868</td>\n",
       "    </tr>\n",
       "    <tr>\n",
       "      <td>405</td>\n",
       "      <td>HOLLYWOOD BLVD</td>\n",
       "      <td>168</td>\n",
       "      <td>8978</td>\n",
       "    </tr>\n",
       "    <tr>\n",
       "      <td>1823</td>\n",
       "      <td>WILSHIRE BLVD</td>\n",
       "      <td>164</td>\n",
       "      <td>10072</td>\n",
       "    </tr>\n",
       "    <tr>\n",
       "      <td>1193</td>\n",
       "      <td>S VERMONT AVE</td>\n",
       "      <td>151</td>\n",
       "      <td>6834</td>\n",
       "    </tr>\n",
       "    <tr>\n",
       "      <td>1452</td>\n",
       "      <td>W 3RD ST</td>\n",
       "      <td>151</td>\n",
       "      <td>6562</td>\n",
       "    </tr>\n",
       "    <tr>\n",
       "      <td>1295</td>\n",
       "      <td>SANTA MONICA BLVD</td>\n",
       "      <td>146</td>\n",
       "      <td>4729</td>\n",
       "    </tr>\n",
       "    <tr>\n",
       "      <td>49</td>\n",
       "      <td>BEVERLY BLVD</td>\n",
       "      <td>138</td>\n",
       "      <td>6130</td>\n",
       "    </tr>\n",
       "    <tr>\n",
       "      <td>942</td>\n",
       "      <td>S FIGUEROA ST</td>\n",
       "      <td>135</td>\n",
       "      <td>6831</td>\n",
       "    </tr>\n",
       "    <tr>\n",
       "      <td>531</td>\n",
       "      <td>MELROSE AVE</td>\n",
       "      <td>134</td>\n",
       "      <td>6808</td>\n",
       "    </tr>\n",
       "  </tbody>\n",
       "</table>\n",
       "</div>"
      ],
      "text/plain": [
       "            street_name  restaurant_count  sum_seats\n",
       "1736      W SUNSET BLVD               305      15456\n",
       "1707        W PICO BLVD               291      11868\n",
       "405      HOLLYWOOD BLVD               168       8978\n",
       "1823      WILSHIRE BLVD               164      10072\n",
       "1193      S VERMONT AVE               151       6834\n",
       "1452           W 3RD ST               151       6562\n",
       "1295  SANTA MONICA BLVD               146       4729\n",
       "49         BEVERLY BLVD               138       6130\n",
       "942       S FIGUEROA ST               135       6831\n",
       "531         MELROSE AVE               134       6808"
      ]
     },
     "execution_count": 18,
     "metadata": {},
     "output_type": "execute_result"
    }
   ],
   "source": [
    "#making a groupby so I can find top streets by number of restaurants, while also adding all chairs together\n",
    "top_distribution = rest_data.groupby('street_name').agg({\"id\":'count',\"number_of_seats\":\"sum\"}).reset_index()\n",
    "top_distribution.columns = ['street_name', 'restaurant_count', 'sum_seats']\n",
    "top_distribution = top_distribution.sort_values('restaurant_count', ascending = False).head(10)\n",
    "top_distribution"
   ]
  },
  {
   "cell_type": "code",
   "execution_count": 19,
   "metadata": {},
   "outputs": [
    {
     "data": {
      "text/plain": [
       "Text(0, 0.5, 'Total number of seats')"
      ]
     },
     "execution_count": 19,
     "metadata": {},
     "output_type": "execute_result"
    },
    {
     "data": {
      "image/png": "[encoded data removed]",
      "text/plain": [
       "<Figure size 864x432 with 1 Axes>"
      ]
     },
     "metadata": {
      "needs_background": "light"
     },
     "output_type": "display_data"
    }
   ],
   "source": [
    "#making a violin plot to see amount of locations with x amount of chairs\n",
    "plt.figure(figsize= (12, 6))\n",
    "sns.violinplot(y='sum_seats', data=top_distribution) \n",
    "\n",
    "#extra graph details\n",
    "plt.title('Number of seats in streets with a lot of restaurants')\n",
    "plt.xlabel('Number of locations')\n",
    "plt.ylabel('Total number of seats')"
   ]
  },
  {
   "cell_type": "markdown",
   "metadata": {},
   "source": [
    "### Conclusion\n",
    "\n",
    "It seems that the majority of locations have a sum of 6000 seats. There are some notable outliers for example W SUNSET BLVD having 15456 seats with an impressive 305 restaurants in the area, but for the most part, the top locations would have around 140 restaurants with around 6000 seats total."
   ]
  },
  {
   "cell_type": "markdown",
   "metadata": {},
   "source": [
    "## Draw an overall conclusion and provide recommendations on restaurant type and number of seats. Comment on the possibility of developing a chain."
   ]
  },
  {
   "cell_type": "code",
   "execution_count": 20,
   "metadata": {
    "scrolled": false
   },
   "outputs": [
    {
     "data": {
      "image/png": "[encoded data removed]",
      "text/plain": [
       "<Figure size 864x432 with 1 Axes>"
      ]
     },
     "metadata": {
      "needs_background": "light"
     },
     "output_type": "display_data"
    }
   ],
   "source": [
    "#plotting the graph\n",
    "plt.figure(figsize= (12, 6))\n",
    "type_graph = sns.barplot(x='location_type', y='location_count', data=type_count, order = type_count.sort_values('location_count').location_type)\n",
    "\n",
    "#extra graph details\n",
    "plt.title('Number of locations by location type')\n",
    "plt.xlabel('Location type')\n",
    "plt.ylabel('Number of locations')\n",
    "\n",
    "#putting numbers on top of each bar, for easy reading\n",
    "for bar in type_graph.patches:\n",
    "    type_graph.annotate(format(bar.get_height(), '.0f'),\n",
    "                       xy = (bar.get_x() + bar.get_width() / 2, bar.get_height()),\n",
    "                       ha = 'center',\n",
    "                       va = 'center',\n",
    "                       xytext = (0, 7),\n",
    "                       textcoords = 'offset points')\n",
    "plt.show()"
   ]
  },
  {
   "cell_type": "markdown",
   "metadata": {},
   "source": [
    "### What location type should we choose?\n",
    "As seen with this graph, we can see that typical restaurants are the most popular, having the most number of locations. Perhaps it's worth considering. "
   ]
  },
  {
   "cell_type": "code",
   "execution_count": 21,
   "metadata": {},
   "outputs": [
    {
     "data": {
      "image/png": "[encoded data removed]",
      "text/plain": [
       "<Figure size 864x432 with 1 Axes>"
      ]
     },
     "metadata": {
      "needs_background": "light"
     },
     "output_type": "display_data"
    }
   ],
   "source": [
    "#plotting the graph\n",
    "plt.figure(figsize= (12, 6))\n",
    "avg_seats_graph = sns.barplot(x='location_type', y='avg_num_seats', data=avg_seats, order = avg_seats.sort_values('avg_num_seats').location_type)\n",
    "\n",
    "#extra graph details\n",
    "plt.title('Average number of seats by location type')\n",
    "plt.xlabel('Location type')\n",
    "plt.ylabel('Average number of seats')\n",
    "\n",
    "#putting numbers on top of each bar, for easy reading\n",
    "for bar in avg_seats_graph.patches:\n",
    "    avg_seats_graph.annotate(format(bar.get_height(), '.0f'),\n",
    "                       xy = (bar.get_x() + bar.get_width() / 2, bar.get_height()),\n",
    "                       ha = 'center',\n",
    "                       va = 'center',\n",
    "                       xytext = (0, 7),\n",
    "                       textcoords = 'offset points')\n",
    "plt.show()"
   ]
  },
  {
   "cell_type": "markdown",
   "metadata": {},
   "source": [
    "### How many seats should we have?\n",
    "\n",
    "If we are considering our location type to be a restaurant, then we should have around 48 seats. As seen on the graph, the average number of chairs for a restaurant is 48. "
   ]
  },
  {
   "cell_type": "code",
   "execution_count": 22,
   "metadata": {
    "scrolled": false
   },
   "outputs": [
    {
     "data": {
      "image/png": "[encoded data removed]",
      "text/plain": [
       "<Figure size 1224x432 with 1 Axes>"
      ]
     },
     "metadata": {
      "needs_background": "light"
     },
     "output_type": "display_data"
    }
   ],
   "source": [
    "#making a groupby so I can find top streets by number of restaurants included query\n",
    "top_streets_restaurant = rest_data.groupby(['street_name', 'location_type']).agg({'id': 'count'}).reset_index()\n",
    "top_streets_restaurant.columns = ['street_name', 'location_type', 'restaurant_count']\n",
    "top_streets_restaurant = top_streets_restaurant.query('location_type == \"Restaurant\"')\n",
    "top_streets_restaurant = top_streets_restaurant.sort_values('restaurant_count', ascending = False).head(10)\n",
    "\n",
    "#plotting the graph\n",
    "plt.figure(figsize= (17, 6))\n",
    "streets_restaurant_graph = sns.barplot(x='street_name', y='restaurant_count', data=top_streets_restaurant, order = top_streets_restaurant.sort_values('restaurant_count').street_name)\n",
    "\n",
    "#extra graph details\n",
    "plt.title('Top ten streets by number of restaurants')\n",
    "plt.xlabel('Streets')\n",
    "plt.ylabel('Number of restaurants')\n",
    "\n",
    "#putting numbers on top of each bar, for easy reading\n",
    "for bar in streets_restaurant_graph.patches:\n",
    "    streets_restaurant_graph.annotate(format(bar.get_height(), '.0f'),\n",
    "                       xy = (bar.get_x() + bar.get_width() / 2, bar.get_height()),\n",
    "                       ha = 'center',\n",
    "                       va = 'center',\n",
    "                       xytext = (0, 7),\n",
    "                       textcoords = 'offset points')\n",
    "plt.show()"
   ]
  },
  {
   "cell_type": "markdown",
   "metadata": {},
   "source": [
    "### Where should the cafe be located?\n",
    "\n",
    "If we are considering that our location type should be a restaurant, then we should perhaps consider these top locations such as Sunset Blvd and Pico Blvd."
   ]
  },
  {
   "cell_type": "code",
   "execution_count": 23,
   "metadata": {},
   "outputs": [
    {
     "data": {
      "text/html": [
       "<div>\n",
       "<style scoped>\n",
       "    .dataframe tbody tr th:only-of-type {\n",
       "        vertical-align: middle;\n",
       "    }\n",
       "\n",
       "    .dataframe tbody tr th {\n",
       "        vertical-align: top;\n",
       "    }\n",
       "\n",
       "    .dataframe thead th {\n",
       "        text-align: right;\n",
       "    }\n",
       "</style>\n",
       "<table border=\"1\" class=\"dataframe\">\n",
       "  <thead>\n",
       "    <tr style=\"text-align: right;\">\n",
       "      <th></th>\n",
       "      <th>location_type</th>\n",
       "      <th>not_in_chain</th>\n",
       "      <th>in_chain</th>\n",
       "      <th>total</th>\n",
       "      <th>percentage_in_chain</th>\n",
       "    </tr>\n",
       "  </thead>\n",
       "  <tbody>\n",
       "    <tr>\n",
       "      <td>0</td>\n",
       "      <td>Bakery</td>\n",
       "      <td>0</td>\n",
       "      <td>283</td>\n",
       "      <td>283</td>\n",
       "      <td>100.0</td>\n",
       "    </tr>\n",
       "    <tr>\n",
       "      <td>2</td>\n",
       "      <td>Cafe</td>\n",
       "      <td>169</td>\n",
       "      <td>266</td>\n",
       "      <td>435</td>\n",
       "      <td>61.0</td>\n",
       "    </tr>\n",
       "    <tr>\n",
       "      <td>3</td>\n",
       "      <td>Fast Food</td>\n",
       "      <td>461</td>\n",
       "      <td>605</td>\n",
       "      <td>1066</td>\n",
       "      <td>57.0</td>\n",
       "    </tr>\n",
       "    <tr>\n",
       "      <td>4</td>\n",
       "      <td>Pizza</td>\n",
       "      <td>166</td>\n",
       "      <td>153</td>\n",
       "      <td>319</td>\n",
       "      <td>48.0</td>\n",
       "    </tr>\n",
       "    <tr>\n",
       "      <td>5</td>\n",
       "      <td>Restaurant</td>\n",
       "      <td>4961</td>\n",
       "      <td>2292</td>\n",
       "      <td>7253</td>\n",
       "      <td>32.0</td>\n",
       "    </tr>\n",
       "    <tr>\n",
       "      <td>1</td>\n",
       "      <td>Bar</td>\n",
       "      <td>215</td>\n",
       "      <td>77</td>\n",
       "      <td>292</td>\n",
       "      <td>26.0</td>\n",
       "    </tr>\n",
       "  </tbody>\n",
       "</table>\n",
       "</div>"
      ],
      "text/plain": [
       "  location_type  not_in_chain  in_chain  total  percentage_in_chain\n",
       "0        Bakery             0       283    283                100.0\n",
       "2          Cafe           169       266    435                 61.0\n",
       "3     Fast Food           461       605   1066                 57.0\n",
       "4         Pizza           166       153    319                 48.0\n",
       "5    Restaurant          4961      2292   7253                 32.0\n",
       "1           Bar           215        77    292                 26.0"
      ]
     },
     "execution_count": 23,
     "metadata": {},
     "output_type": "execute_result"
    }
   ],
   "source": [
    "location_chain.sort_values('percentage_in_chain', ascending = False)"
   ]
  },
  {
   "cell_type": "code",
   "execution_count": 24,
   "metadata": {},
   "outputs": [
    {
     "data": {
      "image/png": "[encoded data removed]",
      "text/plain": [
       "<Figure size 864x432 with 1 Axes>"
      ]
     },
     "metadata": {
      "needs_background": "light"
     },
     "output_type": "display_data"
    }
   ],
   "source": [
    "#plotting the graph\n",
    "plt.figure(figsize= (12, 6))\n",
    "percent_chain = sns.barplot(x='location_type', y='percentage_in_chain', data=location_chain, order = location_chain.sort_values('percentage_in_chain').location_type)\n",
    "\n",
    "#extra graph details\n",
    "plt.title('Percentage of locations in a chain')\n",
    "plt.xlabel('Location type')\n",
    "plt.ylabel('Percentage of locations in a chain')\n",
    "\n",
    "#putting numbers on top of each bar, for easy reading\n",
    "for bar in percent_chain.patches:\n",
    "    percent_chain.annotate(format(bar.get_height(), '.0f'),\n",
    "                       xy = (bar.get_x() + bar.get_width() / 2, bar.get_height()),\n",
    "                       ha = 'center',\n",
    "                       va = 'center',\n",
    "                       xytext = (0, 7),\n",
    "                       textcoords = 'offset points')\n",
    "plt.show()"
   ]
  },
  {
   "cell_type": "markdown",
   "metadata": {},
   "source": [
    "### Should we be in a chain?\n",
    "\n",
    "Again, if we are considering that our location type should be a restaurant, then we should consider NOT being in a chain. According to the table, only 32% of restaurants are in a chain. We should only consider to be in a chain if we want to be in the Fast Food location type, cafe, or bakery. "
   ]
  },
  {
   "cell_type": "markdown",
   "metadata": {},
   "source": [
    "## Overall conclusion\n",
    "\n",
    "We should consider the restaurant location type and have around 48 seats for the restaurant. Considering that only 32% of restaurants are in a chain, we should consider NOT being in a chain."
   ]
  },
  {
   "cell_type": "markdown",
   "metadata": {},
   "source": [
    "# Step 3\n",
    "\n",
    "Preparing the presentation"
   ]
  },
  {
   "cell_type": "markdown",
   "metadata": {},
   "source": [
    "Presentation: https://drive.google.com/file/d/1VBkSTTYWDNYgiwHUqlr9mSZiWrpTiV_W/view?usp=sharing"
   ]
  }
 ],
 "metadata": {
  "ExecuteTimeLog": [
   {
    "duration": 1529,
    "start_time": "2021-11-27T04:45:29.081Z"
   },
   {
    "duration": 201,
    "start_time": "2021-11-27T04:46:42.320Z"
   },
   {
    "duration": 21,
    "start_time": "2021-11-27T04:46:47.047Z"
   },
   {
    "duration": 16,
    "start_time": "2021-11-27T04:49:10.662Z"
   },
   {
    "duration": 17,
    "start_time": "2021-11-27T04:49:38.429Z"
   },
   {
    "duration": 27,
    "start_time": "2021-11-27T04:50:10.523Z"
   },
   {
    "duration": 10,
    "start_time": "2021-11-27T05:17:56.091Z"
   },
   {
    "duration": 27,
    "start_time": "2021-11-27T06:03:58.240Z"
   },
   {
    "duration": 31,
    "start_time": "2021-11-27T06:04:08.677Z"
   },
   {
    "duration": 3,
    "start_time": "2021-11-27T06:05:41.446Z"
   },
   {
    "duration": 194,
    "start_time": "2021-11-27T06:05:41.451Z"
   },
   {
    "duration": 25,
    "start_time": "2021-11-27T06:05:41.647Z"
   },
   {
    "duration": 30,
    "start_time": "2021-11-27T06:05:41.674Z"
   },
   {
    "duration": 10,
    "start_time": "2021-11-27T06:07:56.693Z"
   },
   {
    "duration": 17845,
    "start_time": "2021-11-27T06:13:02.721Z"
   },
   {
    "duration": 33,
    "start_time": "2021-11-27T06:26:30.518Z"
   },
   {
    "duration": 10,
    "start_time": "2021-11-27T06:27:28.474Z"
   },
   {
    "duration": 20528,
    "start_time": "2021-11-27T06:29:46.827Z"
   },
   {
    "duration": 412,
    "start_time": "2021-11-27T06:31:43.851Z"
   },
   {
    "duration": 11,
    "start_time": "2021-11-27T06:31:51.918Z"
   },
   {
    "duration": 11,
    "start_time": "2021-11-27T06:32:06.589Z"
   },
   {
    "duration": 166,
    "start_time": "2021-11-27T06:34:12.922Z"
   },
   {
    "duration": 170,
    "start_time": "2021-11-27T06:39:36.993Z"
   },
   {
    "duration": 410,
    "start_time": "2021-11-27T06:40:23.852Z"
   },
   {
    "duration": 90,
    "start_time": "2021-11-27T06:40:46.280Z"
   },
   {
    "duration": 145,
    "start_time": "2021-11-27T06:42:15.084Z"
   },
   {
    "duration": 1503,
    "start_time": "2021-11-27T06:45:34.400Z"
   },
   {
    "duration": 378,
    "start_time": "2021-11-27T06:46:02.160Z"
   },
   {
    "duration": 237,
    "start_time": "2021-11-27T06:46:11.202Z"
   },
   {
    "duration": 226,
    "start_time": "2021-11-27T06:48:31.799Z"
   },
   {
    "duration": 12,
    "start_time": "2021-11-27T06:53:16.269Z"
   },
   {
    "duration": 261,
    "start_time": "2021-11-27T06:55:31.944Z"
   },
   {
    "duration": 190,
    "start_time": "2021-11-27T06:55:56.967Z"
   },
   {
    "duration": 270,
    "start_time": "2021-11-27T06:57:26.084Z"
   },
   {
    "duration": 13,
    "start_time": "2021-11-27T07:20:27.249Z"
   },
   {
    "duration": 17,
    "start_time": "2021-11-27T07:33:03.712Z"
   },
   {
    "duration": 1639,
    "start_time": "2021-11-28T01:50:19.887Z"
   },
   {
    "duration": 375,
    "start_time": "2021-11-28T01:50:21.528Z"
   },
   {
    "duration": 28,
    "start_time": "2021-11-28T01:50:21.905Z"
   },
   {
    "duration": 30,
    "start_time": "2021-11-28T01:50:21.935Z"
   },
   {
    "duration": 11,
    "start_time": "2021-11-28T01:50:21.967Z"
   },
   {
    "duration": 271,
    "start_time": "2021-11-28T01:50:21.979Z"
   },
   {
    "duration": 11,
    "start_time": "2021-11-28T01:50:22.251Z"
   },
   {
    "duration": 200,
    "start_time": "2021-11-28T01:50:22.264Z"
   },
   {
    "duration": 11,
    "start_time": "2021-11-28T01:50:22.466Z"
   },
   {
    "duration": 20,
    "start_time": "2021-11-28T01:51:58.117Z"
   },
   {
    "duration": 19,
    "start_time": "2021-11-28T01:57:08.072Z"
   },
   {
    "duration": 19,
    "start_time": "2021-11-28T01:57:24.607Z"
   },
   {
    "duration": 20,
    "start_time": "2021-11-28T02:04:44.515Z"
   },
   {
    "duration": 18,
    "start_time": "2021-11-28T02:07:28.774Z"
   },
   {
    "duration": 460,
    "start_time": "2021-11-28T02:08:44.300Z"
   },
   {
    "duration": 19,
    "start_time": "2021-11-28T02:09:14.130Z"
   },
   {
    "duration": 1210,
    "start_time": "2021-11-28T02:09:28.043Z"
   },
   {
    "duration": 19,
    "start_time": "2021-11-28T02:10:45.757Z"
   },
   {
    "duration": 21,
    "start_time": "2021-11-28T02:12:20.104Z"
   },
   {
    "duration": 8385,
    "start_time": "2021-11-28T02:12:51.541Z"
   },
   {
    "duration": 18,
    "start_time": "2021-11-28T02:13:07.971Z"
   },
   {
    "duration": 19,
    "start_time": "2021-11-28T02:13:54.408Z"
   },
   {
    "duration": 19,
    "start_time": "2021-11-28T02:14:07.826Z"
   },
   {
    "duration": 22,
    "start_time": "2021-11-28T02:14:12.908Z"
   },
   {
    "duration": 21,
    "start_time": "2021-11-28T02:15:07.890Z"
   },
   {
    "duration": 22,
    "start_time": "2021-11-28T02:16:09.133Z"
   },
   {
    "duration": 31,
    "start_time": "2021-11-28T02:17:26.190Z"
   },
   {
    "duration": 24,
    "start_time": "2021-11-28T02:21:33.075Z"
   },
   {
    "duration": 23,
    "start_time": "2021-11-28T02:21:44.252Z"
   },
   {
    "duration": 25,
    "start_time": "2021-11-28T02:22:01.013Z"
   },
   {
    "duration": 23,
    "start_time": "2021-11-28T02:22:13.794Z"
   },
   {
    "duration": 31,
    "start_time": "2021-11-28T02:22:45.065Z"
   },
   {
    "duration": 13,
    "start_time": "2021-11-28T02:38:02.514Z"
   },
   {
    "duration": 350,
    "start_time": "2021-11-28T02:51:58.912Z"
   },
   {
    "duration": 4,
    "start_time": "2021-11-28T02:52:08.930Z"
   },
   {
    "duration": 266,
    "start_time": "2021-11-28T02:52:08.937Z"
   },
   {
    "duration": 28,
    "start_time": "2021-11-28T02:52:09.205Z"
   },
   {
    "duration": 32,
    "start_time": "2021-11-28T02:52:09.235Z"
   },
   {
    "duration": 41,
    "start_time": "2021-11-28T02:52:09.269Z"
   },
   {
    "duration": 245,
    "start_time": "2021-11-28T02:52:09.313Z"
   },
   {
    "duration": 14,
    "start_time": "2021-11-28T02:52:09.560Z"
   },
   {
    "duration": 283,
    "start_time": "2021-11-28T02:52:09.575Z"
   },
   {
    "duration": 23,
    "start_time": "2021-11-28T02:52:09.860Z"
   },
   {
    "duration": 349,
    "start_time": "2021-11-28T02:52:11.658Z"
   },
   {
    "duration": 12,
    "start_time": "2021-11-28T02:52:22.405Z"
   },
   {
    "duration": 449,
    "start_time": "2021-11-28T02:52:49.750Z"
   },
   {
    "duration": 355,
    "start_time": "2021-11-28T02:52:54.345Z"
   },
   {
    "duration": 12,
    "start_time": "2021-11-28T02:52:57.623Z"
   },
   {
    "duration": 15,
    "start_time": "2021-11-28T02:59:01.341Z"
   },
   {
    "duration": 9,
    "start_time": "2021-11-28T03:12:49.861Z"
   },
   {
    "duration": 14,
    "start_time": "2021-11-28T03:12:56.262Z"
   },
   {
    "duration": 16,
    "start_time": "2021-11-28T03:19:45.624Z"
   },
   {
    "duration": 15,
    "start_time": "2021-11-28T04:33:47.873Z"
   },
   {
    "duration": 11,
    "start_time": "2021-11-28T06:59:13.810Z"
   },
   {
    "duration": 12,
    "start_time": "2021-11-28T07:01:04.843Z"
   },
   {
    "duration": 241,
    "start_time": "2021-11-28T07:10:07.929Z"
   },
   {
    "duration": 365,
    "start_time": "2021-11-28T07:38:34.271Z"
   },
   {
    "duration": 290,
    "start_time": "2021-11-28T07:41:27.533Z"
   },
   {
    "duration": 548,
    "start_time": "2021-11-28T07:41:49.993Z"
   },
   {
    "duration": 464,
    "start_time": "2021-11-28T07:41:59.080Z"
   },
   {
    "duration": 506,
    "start_time": "2021-11-28T09:13:53.128Z"
   },
   {
    "duration": 375,
    "start_time": "2021-11-28T09:14:03.840Z"
   },
   {
    "duration": 13,
    "start_time": "2021-11-28T10:06:38.755Z"
   },
   {
    "duration": 1574,
    "start_time": "2021-11-28T10:26:41.630Z"
   },
   {
    "duration": 4,
    "start_time": "2021-11-28T10:27:32.280Z"
   },
   {
    "duration": 273,
    "start_time": "2021-11-28T10:27:32.286Z"
   },
   {
    "duration": 25,
    "start_time": "2021-11-28T10:27:32.561Z"
   },
   {
    "duration": 31,
    "start_time": "2021-11-28T10:27:32.588Z"
   },
   {
    "duration": 11,
    "start_time": "2021-11-28T10:27:32.621Z"
   },
   {
    "duration": 253,
    "start_time": "2021-11-28T10:27:32.634Z"
   },
   {
    "duration": 18,
    "start_time": "2021-11-28T10:27:32.889Z"
   },
   {
    "duration": 201,
    "start_time": "2021-11-28T10:27:32.909Z"
   },
   {
    "duration": 24,
    "start_time": "2021-11-28T10:27:33.112Z"
   },
   {
    "duration": 14,
    "start_time": "2021-11-28T10:27:33.138Z"
   },
   {
    "duration": 393,
    "start_time": "2021-11-28T10:27:33.154Z"
   },
   {
    "duration": 12,
    "start_time": "2021-11-28T10:27:33.549Z"
   },
   {
    "duration": 246,
    "start_time": "2021-11-28T10:27:33.562Z"
   },
   {
    "duration": 2434,
    "start_time": "2021-11-28T10:27:34.606Z"
   },
   {
    "duration": 30,
    "start_time": "2021-11-28T10:28:55.537Z"
   },
   {
    "duration": 29,
    "start_time": "2021-11-28T10:29:38.816Z"
   },
   {
    "duration": 25,
    "start_time": "2021-11-28T10:29:49.342Z"
   },
   {
    "duration": 28,
    "start_time": "2021-11-28T10:29:59.210Z"
   },
   {
    "duration": 27,
    "start_time": "2021-11-28T10:30:07.666Z"
   },
   {
    "duration": 27,
    "start_time": "2021-11-28T10:30:13.088Z"
   },
   {
    "duration": 4,
    "start_time": "2021-11-28T10:30:16.906Z"
   },
   {
    "duration": 267,
    "start_time": "2021-11-28T10:30:16.912Z"
   },
   {
    "duration": 26,
    "start_time": "2021-11-28T10:30:17.182Z"
   },
   {
    "duration": 40,
    "start_time": "2021-11-28T10:30:17.211Z"
   },
   {
    "duration": 11,
    "start_time": "2021-11-28T10:30:17.253Z"
   },
   {
    "duration": 258,
    "start_time": "2021-11-28T10:30:17.266Z"
   },
   {
    "duration": 11,
    "start_time": "2021-11-28T10:30:17.527Z"
   },
   {
    "duration": 210,
    "start_time": "2021-11-28T10:30:17.540Z"
   },
   {
    "duration": 24,
    "start_time": "2021-11-28T10:30:17.752Z"
   },
   {
    "duration": 30,
    "start_time": "2021-11-28T10:30:17.778Z"
   },
   {
    "duration": 396,
    "start_time": "2021-11-28T10:30:17.810Z"
   },
   {
    "duration": 10,
    "start_time": "2021-11-28T10:30:18.208Z"
   },
   {
    "duration": 442,
    "start_time": "2021-11-28T10:30:18.220Z"
   },
   {
    "duration": 27,
    "start_time": "2021-11-28T10:30:18.664Z"
   },
   {
    "duration": 26,
    "start_time": "2021-11-28T10:30:21.285Z"
   },
   {
    "duration": 3,
    "start_time": "2021-11-28T10:31:06.889Z"
   },
   {
    "duration": 266,
    "start_time": "2021-11-28T10:31:06.894Z"
   },
   {
    "duration": 27,
    "start_time": "2021-11-28T10:31:07.163Z"
   },
   {
    "duration": 36,
    "start_time": "2021-11-28T10:31:07.192Z"
   },
   {
    "duration": 11,
    "start_time": "2021-11-28T10:31:07.230Z"
   },
   {
    "duration": 263,
    "start_time": "2021-11-28T10:31:07.243Z"
   },
   {
    "duration": 11,
    "start_time": "2021-11-28T10:31:07.508Z"
   },
   {
    "duration": 209,
    "start_time": "2021-11-28T10:31:07.521Z"
   },
   {
    "duration": 25,
    "start_time": "2021-11-28T10:31:07.732Z"
   },
   {
    "duration": 16,
    "start_time": "2021-11-28T10:31:07.759Z"
   },
   {
    "duration": 430,
    "start_time": "2021-11-28T10:31:07.776Z"
   },
   {
    "duration": 11,
    "start_time": "2021-11-28T10:31:08.208Z"
   },
   {
    "duration": 273,
    "start_time": "2021-11-28T10:31:08.221Z"
   },
   {
    "duration": 33,
    "start_time": "2021-11-28T10:31:08.495Z"
   },
   {
    "duration": 4,
    "start_time": "2021-11-28T10:33:04.891Z"
   },
   {
    "duration": 293,
    "start_time": "2021-11-28T10:33:04.897Z"
   },
   {
    "duration": 31,
    "start_time": "2021-11-28T10:33:05.192Z"
   },
   {
    "duration": 33,
    "start_time": "2021-11-28T10:33:05.226Z"
   },
   {
    "duration": 11,
    "start_time": "2021-11-28T10:33:05.262Z"
   },
   {
    "duration": 280,
    "start_time": "2021-11-28T10:33:05.275Z"
   },
   {
    "duration": 13,
    "start_time": "2021-11-28T10:33:05.557Z"
   },
   {
    "duration": 233,
    "start_time": "2021-11-28T10:33:05.573Z"
   },
   {
    "duration": 30,
    "start_time": "2021-11-28T10:33:05.810Z"
   },
   {
    "duration": 16,
    "start_time": "2021-11-28T10:33:05.843Z"
   },
   {
    "duration": 524,
    "start_time": "2021-11-28T10:33:05.862Z"
   },
   {
    "duration": 23,
    "start_time": "2021-11-28T10:33:06.387Z"
   },
   {
    "duration": 265,
    "start_time": "2021-11-28T10:33:06.413Z"
   },
   {
    "duration": 28,
    "start_time": "2021-11-28T10:33:09.331Z"
   },
   {
    "duration": 4,
    "start_time": "2021-11-28T10:33:13.365Z"
   },
   {
    "duration": 257,
    "start_time": "2021-11-28T10:33:13.371Z"
   },
   {
    "duration": 28,
    "start_time": "2021-11-28T10:33:13.630Z"
   },
   {
    "duration": 49,
    "start_time": "2021-11-28T10:33:13.660Z"
   },
   {
    "duration": 16,
    "start_time": "2021-11-28T10:33:13.711Z"
   },
   {
    "duration": 295,
    "start_time": "2021-11-28T10:33:13.729Z"
   },
   {
    "duration": 13,
    "start_time": "2021-11-28T10:33:14.027Z"
   },
   {
    "duration": 236,
    "start_time": "2021-11-28T10:33:14.042Z"
   },
   {
    "duration": 147,
    "start_time": "2021-11-28T10:33:14.281Z"
   },
   {
    "duration": 16,
    "start_time": "2021-11-28T10:33:14.430Z"
   },
   {
    "duration": 445,
    "start_time": "2021-11-28T10:33:14.447Z"
   },
   {
    "duration": 25,
    "start_time": "2021-11-28T10:33:14.894Z"
   },
   {
    "duration": 253,
    "start_time": "2021-11-28T10:33:14.922Z"
   },
   {
    "duration": 39,
    "start_time": "2021-11-28T10:33:15.177Z"
   },
   {
    "duration": 4,
    "start_time": "2021-11-28T10:37:27.051Z"
   },
   {
    "duration": 594,
    "start_time": "2021-11-28T10:37:27.057Z"
   },
   {
    "duration": 28,
    "start_time": "2021-11-28T10:37:27.653Z"
   },
   {
    "duration": 31,
    "start_time": "2021-11-28T10:37:27.684Z"
   },
   {
    "duration": 13,
    "start_time": "2021-11-28T10:37:27.717Z"
   },
   {
    "duration": 258,
    "start_time": "2021-11-28T10:37:27.732Z"
   },
   {
    "duration": 22,
    "start_time": "2021-11-28T10:37:27.992Z"
   },
   {
    "duration": 202,
    "start_time": "2021-11-28T10:37:28.016Z"
   },
   {
    "duration": 24,
    "start_time": "2021-11-28T10:37:28.221Z"
   },
   {
    "duration": 14,
    "start_time": "2021-11-28T10:37:28.247Z"
   },
   {
    "duration": 401,
    "start_time": "2021-11-28T10:37:28.263Z"
   },
   {
    "duration": 12,
    "start_time": "2021-11-28T10:37:28.666Z"
   },
   {
    "duration": 242,
    "start_time": "2021-11-28T10:37:28.680Z"
   },
   {
    "duration": 28,
    "start_time": "2021-11-28T10:37:28.924Z"
   },
   {
    "duration": 3,
    "start_time": "2021-11-28T10:37:52.287Z"
   },
   {
    "duration": 324,
    "start_time": "2021-11-28T10:37:52.292Z"
   },
   {
    "duration": 26,
    "start_time": "2021-11-28T10:37:52.618Z"
   },
   {
    "duration": 31,
    "start_time": "2021-11-28T10:37:52.646Z"
   },
   {
    "duration": 29,
    "start_time": "2021-11-28T10:37:52.679Z"
   },
   {
    "duration": 252,
    "start_time": "2021-11-28T10:37:52.710Z"
   },
   {
    "duration": 13,
    "start_time": "2021-11-28T10:37:52.964Z"
   },
   {
    "duration": 218,
    "start_time": "2021-11-28T10:37:52.978Z"
   },
   {
    "duration": 28,
    "start_time": "2021-11-28T10:37:53.199Z"
   },
   {
    "duration": 15,
    "start_time": "2021-11-28T10:37:53.230Z"
   },
   {
    "duration": 435,
    "start_time": "2021-11-28T10:37:53.247Z"
   },
   {
    "duration": 26,
    "start_time": "2021-11-28T10:37:53.684Z"
   },
   {
    "duration": 241,
    "start_time": "2021-11-28T10:37:53.712Z"
   },
   {
    "duration": 28,
    "start_time": "2021-11-28T10:37:53.955Z"
   },
   {
    "duration": 25,
    "start_time": "2021-11-28T10:37:56.827Z"
   },
   {
    "duration": 28,
    "start_time": "2021-11-28T10:38:09.783Z"
   },
   {
    "duration": 29,
    "start_time": "2021-11-28T10:39:26.588Z"
   },
   {
    "duration": 26,
    "start_time": "2021-11-28T10:39:49.269Z"
   },
   {
    "duration": 3,
    "start_time": "2021-11-28T10:40:26.622Z"
   },
   {
    "duration": 264,
    "start_time": "2021-11-28T10:40:26.627Z"
   },
   {
    "duration": 25,
    "start_time": "2021-11-28T10:40:26.893Z"
   },
   {
    "duration": 145,
    "start_time": "2021-11-28T10:40:26.920Z"
   },
   {
    "duration": 11,
    "start_time": "2021-11-28T10:40:27.067Z"
   },
   {
    "duration": 253,
    "start_time": "2021-11-28T10:40:27.080Z"
   },
   {
    "duration": 12,
    "start_time": "2021-11-28T10:40:27.335Z"
   },
   {
    "duration": 209,
    "start_time": "2021-11-28T10:40:27.349Z"
   },
   {
    "duration": 24,
    "start_time": "2021-11-28T10:40:27.560Z"
   },
   {
    "duration": 30,
    "start_time": "2021-11-28T10:40:27.586Z"
   },
   {
    "duration": 368,
    "start_time": "2021-11-28T10:40:27.618Z"
   },
   {
    "duration": 19,
    "start_time": "2021-11-28T10:40:27.988Z"
   },
   {
    "duration": 225,
    "start_time": "2021-11-28T10:40:28.009Z"
   },
   {
    "duration": 27,
    "start_time": "2021-11-28T10:40:30.129Z"
   },
   {
    "duration": 26,
    "start_time": "2021-11-28T10:40:48.803Z"
   },
   {
    "duration": 4,
    "start_time": "2021-11-28T10:40:52.430Z"
   },
   {
    "duration": 347,
    "start_time": "2021-11-28T10:40:52.437Z"
   },
   {
    "duration": 25,
    "start_time": "2021-11-28T10:40:52.786Z"
   },
   {
    "duration": 31,
    "start_time": "2021-11-28T10:40:52.813Z"
   },
   {
    "duration": 10,
    "start_time": "2021-11-28T10:40:52.845Z"
   },
   {
    "duration": 250,
    "start_time": "2021-11-28T10:40:52.857Z"
   },
   {
    "duration": 11,
    "start_time": "2021-11-28T10:40:53.109Z"
   },
   {
    "duration": 207,
    "start_time": "2021-11-28T10:40:53.122Z"
   },
   {
    "duration": 24,
    "start_time": "2021-11-28T10:40:53.331Z"
   },
   {
    "duration": 15,
    "start_time": "2021-11-28T10:40:53.356Z"
   },
   {
    "duration": 382,
    "start_time": "2021-11-28T10:40:53.372Z"
   },
   {
    "duration": 11,
    "start_time": "2021-11-28T10:40:53.756Z"
   },
   {
    "duration": 237,
    "start_time": "2021-11-28T10:40:53.769Z"
   },
   {
    "duration": 26,
    "start_time": "2021-11-28T10:40:54.008Z"
   },
   {
    "duration": 4,
    "start_time": "2021-11-28T10:41:03.628Z"
   },
   {
    "duration": 271,
    "start_time": "2021-11-28T10:41:03.634Z"
   },
   {
    "duration": 27,
    "start_time": "2021-11-28T10:41:03.907Z"
   },
   {
    "duration": 32,
    "start_time": "2021-11-28T10:41:03.936Z"
   },
   {
    "duration": 38,
    "start_time": "2021-11-28T10:41:03.970Z"
   },
   {
    "duration": 264,
    "start_time": "2021-11-28T10:41:04.009Z"
   },
   {
    "duration": 11,
    "start_time": "2021-11-28T10:41:04.275Z"
   },
   {
    "duration": 208,
    "start_time": "2021-11-28T10:41:04.287Z"
   },
   {
    "duration": 29,
    "start_time": "2021-11-28T10:41:04.498Z"
   },
   {
    "duration": 15,
    "start_time": "2021-11-28T10:41:04.529Z"
   },
   {
    "duration": 403,
    "start_time": "2021-11-28T10:41:04.547Z"
   },
   {
    "duration": 13,
    "start_time": "2021-11-28T10:41:04.952Z"
   },
   {
    "duration": 371,
    "start_time": "2021-11-28T10:41:04.967Z"
   },
   {
    "duration": 27,
    "start_time": "2021-11-28T10:41:06.315Z"
   },
   {
    "duration": 26,
    "start_time": "2021-11-28T10:45:33.506Z"
   },
   {
    "duration": 28,
    "start_time": "2021-11-28T10:59:57.454Z"
   },
   {
    "duration": 27,
    "start_time": "2021-11-28T11:00:03.008Z"
   },
   {
    "duration": 13,
    "start_time": "2021-11-28T14:01:19.314Z"
   },
   {
    "duration": 13,
    "start_time": "2021-11-28T14:02:49.748Z"
   },
   {
    "duration": 13,
    "start_time": "2021-11-28T14:02:58.335Z"
   },
   {
    "duration": 14,
    "start_time": "2021-11-28T14:19:13.381Z"
   },
   {
    "duration": 264,
    "start_time": "2021-11-28T14:19:34.525Z"
   },
   {
    "duration": 274,
    "start_time": "2021-11-28T14:19:48.633Z"
   },
   {
    "duration": 300,
    "start_time": "2021-11-28T14:19:55.387Z"
   },
   {
    "duration": 294,
    "start_time": "2021-11-28T14:24:29.082Z"
   },
   {
    "duration": 25,
    "start_time": "2021-11-28T14:25:34.575Z"
   },
   {
    "duration": 438,
    "start_time": "2021-11-28T14:29:05.996Z"
   },
   {
    "duration": 239,
    "start_time": "2021-11-28T14:29:14.296Z"
   },
   {
    "duration": 310,
    "start_time": "2021-11-28T14:30:12.712Z"
   },
   {
    "duration": 14,
    "start_time": "2021-11-28T14:33:19.361Z"
   },
   {
    "duration": 112,
    "start_time": "2021-11-28T14:33:38.749Z"
   },
   {
    "duration": 16,
    "start_time": "2021-11-28T14:34:56.149Z"
   },
   {
    "duration": 16,
    "start_time": "2021-11-28T14:35:30.353Z"
   },
   {
    "duration": 12,
    "start_time": "2021-11-28T14:36:11.237Z"
   },
   {
    "duration": 13,
    "start_time": "2021-11-28T14:36:17.755Z"
   },
   {
    "duration": 2110,
    "start_time": "2021-11-29T00:39:39.553Z"
   },
   {
    "duration": 244,
    "start_time": "2021-11-29T00:39:41.666Z"
   },
   {
    "duration": 43,
    "start_time": "2021-11-29T00:39:41.913Z"
   },
   {
    "duration": 57,
    "start_time": "2021-11-29T00:39:41.959Z"
   },
   {
    "duration": 17,
    "start_time": "2021-11-29T00:39:42.018Z"
   },
   {
    "duration": 412,
    "start_time": "2021-11-29T00:39:42.037Z"
   },
   {
    "duration": 29,
    "start_time": "2021-11-29T00:39:42.452Z"
   },
   {
    "duration": 316,
    "start_time": "2021-11-29T00:39:42.484Z"
   },
   {
    "duration": 44,
    "start_time": "2021-11-29T00:39:42.804Z"
   },
   {
    "duration": 37,
    "start_time": "2021-11-29T00:39:42.850Z"
   },
   {
    "duration": 705,
    "start_time": "2021-11-29T00:39:42.890Z"
   },
   {
    "duration": 16,
    "start_time": "2021-11-29T00:39:43.597Z"
   },
   {
    "duration": 383,
    "start_time": "2021-11-29T00:39:43.615Z"
   },
   {
    "duration": 39,
    "start_time": "2021-11-29T00:39:44.000Z"
   },
   {
    "duration": 1412,
    "start_time": "2021-11-29T00:39:59.509Z"
   },
   {
    "duration": 21,
    "start_time": "2021-11-29T00:40:11.585Z"
   },
   {
    "duration": 13,
    "start_time": "2021-11-29T00:41:38.607Z"
   },
   {
    "duration": 20,
    "start_time": "2021-11-29T00:41:42.707Z"
   },
   {
    "duration": 590,
    "start_time": "2021-11-29T00:42:03.000Z"
   },
   {
    "duration": 25,
    "start_time": "2021-11-29T05:22:04.125Z"
   },
   {
    "duration": 6,
    "start_time": "2021-11-29T05:22:52.950Z"
   },
   {
    "duration": 245,
    "start_time": "2021-11-29T05:22:52.958Z"
   },
   {
    "duration": 37,
    "start_time": "2021-11-29T05:22:53.206Z"
   },
   {
    "duration": 68,
    "start_time": "2021-11-29T05:22:53.246Z"
   },
   {
    "duration": 15,
    "start_time": "2021-11-29T05:22:53.316Z"
   },
   {
    "duration": 402,
    "start_time": "2021-11-29T05:22:53.334Z"
   },
   {
    "duration": 16,
    "start_time": "2021-11-29T05:22:53.739Z"
   },
   {
    "duration": 405,
    "start_time": "2021-11-29T05:22:53.781Z"
   },
   {
    "duration": 38,
    "start_time": "2021-11-29T05:22:54.189Z"
   },
   {
    "duration": 19,
    "start_time": "2021-11-29T05:23:08.513Z"
   },
   {
    "duration": 24,
    "start_time": "2021-11-29T05:23:30.469Z"
   },
   {
    "duration": 22,
    "start_time": "2021-11-29T05:25:17.124Z"
   },
   {
    "duration": 23,
    "start_time": "2021-11-29T05:25:27.518Z"
   },
   {
    "duration": 21,
    "start_time": "2021-11-29T05:25:40.012Z"
   },
   {
    "duration": 23,
    "start_time": "2021-11-29T05:27:45.879Z"
   },
   {
    "duration": 21,
    "start_time": "2021-11-29T05:27:49.024Z"
   },
   {
    "duration": 35,
    "start_time": "2021-11-29T05:28:06.955Z"
   },
   {
    "duration": 31,
    "start_time": "2021-11-29T05:29:00.506Z"
   },
   {
    "duration": 21,
    "start_time": "2021-11-29T05:31:00.402Z"
   },
   {
    "duration": 18,
    "start_time": "2021-11-29T05:31:16.779Z"
   },
   {
    "duration": 26,
    "start_time": "2021-11-29T05:32:09.772Z"
   },
   {
    "duration": 400,
    "start_time": "2021-11-29T05:35:49.756Z"
   },
   {
    "duration": 365,
    "start_time": "2021-11-29T05:36:00.535Z"
   },
   {
    "duration": 382,
    "start_time": "2021-11-29T05:36:31.705Z"
   },
   {
    "duration": 321,
    "start_time": "2021-11-29T05:37:34.608Z"
   },
   {
    "duration": 339,
    "start_time": "2021-11-29T05:38:02.995Z"
   },
   {
    "duration": 332,
    "start_time": "2021-11-29T05:38:47.870Z"
   },
   {
    "duration": 225,
    "start_time": "2021-11-29T05:38:56.349Z"
   },
   {
    "duration": 355,
    "start_time": "2021-11-29T05:39:07.338Z"
   },
   {
    "duration": 329,
    "start_time": "2021-11-29T05:39:28.952Z"
   },
   {
    "duration": 239,
    "start_time": "2021-11-29T05:39:33.374Z"
   },
   {
    "duration": 319,
    "start_time": "2021-11-29T05:45:43.379Z"
   },
   {
    "duration": 5,
    "start_time": "2021-11-29T06:12:59.995Z"
   },
   {
    "duration": 246,
    "start_time": "2021-11-29T06:13:00.003Z"
   },
   {
    "duration": 37,
    "start_time": "2021-11-29T06:13:00.252Z"
   },
   {
    "duration": 45,
    "start_time": "2021-11-29T06:13:00.292Z"
   },
   {
    "duration": 44,
    "start_time": "2021-11-29T06:13:00.339Z"
   },
   {
    "duration": 403,
    "start_time": "2021-11-29T06:13:00.385Z"
   },
   {
    "duration": 20,
    "start_time": "2021-11-29T06:13:00.791Z"
   },
   {
    "duration": 348,
    "start_time": "2021-11-29T06:13:00.816Z"
   },
   {
    "duration": 65,
    "start_time": "2021-11-29T06:13:01.167Z"
   },
   {
    "duration": 63,
    "start_time": "2021-11-29T06:13:01.235Z"
   },
   {
    "duration": 395,
    "start_time": "2021-11-29T06:13:01.301Z"
   },
   {
    "duration": 474,
    "start_time": "2021-11-29T06:13:01.699Z"
   },
   {
    "duration": 437,
    "start_time": "2021-11-29T06:13:02.176Z"
   },
   {
    "duration": 27,
    "start_time": "2021-11-29T06:13:02.616Z"
   },
   {
    "duration": 547,
    "start_time": "2021-11-29T06:13:02.646Z"
   },
   {
    "duration": 41,
    "start_time": "2021-11-29T06:13:03.196Z"
   },
   {
    "duration": 50,
    "start_time": "2021-11-29T06:13:03.240Z"
   },
   {
    "duration": 610,
    "start_time": "2021-11-29T06:13:03.292Z"
   },
   {
    "duration": 15,
    "start_time": "2021-11-29T06:13:03.905Z"
   },
   {
    "duration": 597,
    "start_time": "2021-11-29T06:35:53.267Z"
   },
   {
    "duration": 583,
    "start_time": "2021-11-29T06:37:02.004Z"
   },
   {
    "duration": 317,
    "start_time": "2021-11-29T06:42:54.357Z"
   },
   {
    "duration": 30,
    "start_time": "2021-11-29T06:47:51.981Z"
   },
   {
    "duration": 299,
    "start_time": "2021-11-29T06:48:36.909Z"
   },
   {
    "duration": 431,
    "start_time": "2021-11-29T06:51:12.546Z"
   },
   {
    "duration": 416,
    "start_time": "2021-11-29T06:53:01.911Z"
   },
   {
    "duration": 22,
    "start_time": "2021-11-29T08:19:04.620Z"
   },
   {
    "duration": 27,
    "start_time": "2021-11-29T08:20:17.176Z"
   },
   {
    "duration": 1292,
    "start_time": "2021-11-29T08:37:12.403Z"
   },
   {
    "duration": 5,
    "start_time": "2021-11-29T08:37:20.537Z"
   },
   {
    "duration": 248,
    "start_time": "2021-11-29T08:37:20.545Z"
   },
   {
    "duration": 39,
    "start_time": "2021-11-29T08:37:20.796Z"
   },
   {
    "duration": 648,
    "start_time": "2021-11-29T08:37:25.572Z"
   },
   {
    "duration": 47,
    "start_time": "2021-11-29T09:05:50.402Z"
   },
   {
    "duration": 53,
    "start_time": "2021-11-29T09:06:48.198Z"
   },
   {
    "duration": 5,
    "start_time": "2021-11-29T09:06:55.191Z"
   },
   {
    "duration": 436,
    "start_time": "2021-11-29T09:06:55.199Z"
   },
   {
    "duration": 40,
    "start_time": "2021-11-29T09:06:55.638Z"
   },
   {
    "duration": 52,
    "start_time": "2021-11-29T09:06:55.681Z"
   },
   {
    "duration": 15,
    "start_time": "2021-11-29T09:06:55.735Z"
   },
   {
    "duration": 431,
    "start_time": "2021-11-29T09:06:55.753Z"
   },
   {
    "duration": 16,
    "start_time": "2021-11-29T09:06:56.186Z"
   },
   {
    "duration": 341,
    "start_time": "2021-11-29T09:06:56.204Z"
   },
   {
    "duration": 57,
    "start_time": "2021-11-29T09:06:56.549Z"
   },
   {
    "duration": 409,
    "start_time": "2021-11-29T09:06:56.610Z"
   },
   {
    "duration": 17,
    "start_time": "2021-11-29T09:06:57.022Z"
   },
   {
    "duration": 412,
    "start_time": "2021-11-29T09:06:57.042Z"
   },
   {
    "duration": 48,
    "start_time": "2021-11-29T09:06:57.457Z"
   },
   {
    "duration": 24,
    "start_time": "2021-11-29T09:06:57.509Z"
   },
   {
    "duration": 540,
    "start_time": "2021-11-29T09:06:57.536Z"
   },
   {
    "duration": 17,
    "start_time": "2021-11-29T09:06:58.082Z"
   },
   {
    "duration": 25,
    "start_time": "2021-11-29T09:06:58.101Z"
   },
   {
    "duration": 62,
    "start_time": "2021-11-29T09:06:58.130Z"
   },
   {
    "duration": 33,
    "start_time": "2021-11-29T09:07:20.481Z"
   },
   {
    "duration": 6,
    "start_time": "2021-11-29T09:08:59.835Z"
   },
   {
    "duration": 308,
    "start_time": "2021-11-29T09:08:59.845Z"
   },
   {
    "duration": 39,
    "start_time": "2021-11-29T09:09:00.157Z"
   },
   {
    "duration": 106,
    "start_time": "2021-11-29T09:09:00.200Z"
   },
   {
    "duration": 19,
    "start_time": "2021-11-29T09:09:00.310Z"
   },
   {
    "duration": 400,
    "start_time": "2021-11-29T09:09:00.332Z"
   },
   {
    "duration": 22,
    "start_time": "2021-11-29T09:09:00.736Z"
   },
   {
    "duration": 359,
    "start_time": "2021-11-29T09:09:00.761Z"
   },
   {
    "duration": 59,
    "start_time": "2021-11-29T09:09:01.124Z"
   },
   {
    "duration": 407,
    "start_time": "2021-11-29T09:09:01.187Z"
   },
   {
    "duration": 18,
    "start_time": "2021-11-29T09:09:01.596Z"
   },
   {
    "duration": 392,
    "start_time": "2021-11-29T09:09:01.617Z"
   },
   {
    "duration": 41,
    "start_time": "2021-11-29T09:09:02.011Z"
   },
   {
    "duration": 42,
    "start_time": "2021-11-29T09:09:02.055Z"
   },
   {
    "duration": 547,
    "start_time": "2021-11-29T09:09:02.099Z"
   },
   {
    "duration": 18,
    "start_time": "2021-11-29T09:09:02.649Z"
   },
   {
    "duration": 25,
    "start_time": "2021-11-29T09:09:02.683Z"
   },
   {
    "duration": 28,
    "start_time": "2021-11-29T09:09:02.711Z"
   },
   {
    "duration": 525,
    "start_time": "2021-11-29T09:10:52.011Z"
   },
   {
    "duration": 14,
    "start_time": "2021-11-29T09:53:37.929Z"
   },
   {
    "duration": 22,
    "start_time": "2021-11-29T09:53:44.968Z"
   },
   {
    "duration": 363,
    "start_time": "2021-11-29T09:58:23.227Z"
   },
   {
    "duration": 26,
    "start_time": "2021-11-29T09:58:38.967Z"
   },
   {
    "duration": 450,
    "start_time": "2021-11-29T10:25:44.126Z"
   },
   {
    "duration": 427,
    "start_time": "2021-11-29T10:27:59.534Z"
   },
   {
    "duration": 603,
    "start_time": "2021-11-29T10:28:04.862Z"
   },
   {
    "duration": 424,
    "start_time": "2021-11-29T10:28:10.978Z"
   },
   {
    "duration": 573,
    "start_time": "2021-11-29T10:28:14.872Z"
   },
   {
    "duration": 433,
    "start_time": "2021-11-29T10:28:19.832Z"
   },
   {
    "duration": 511,
    "start_time": "2021-11-29T10:29:11.559Z"
   },
   {
    "duration": 795,
    "start_time": "2021-11-29T10:32:12.696Z"
   },
   {
    "duration": 390,
    "start_time": "2021-11-29T10:32:46.222Z"
   },
   {
    "duration": 374,
    "start_time": "2021-11-29T10:32:53.403Z"
   },
   {
    "duration": 458,
    "start_time": "2021-11-29T10:34:12.329Z"
   },
   {
    "duration": 338,
    "start_time": "2021-11-29T10:35:37.812Z"
   },
   {
    "duration": 470,
    "start_time": "2021-11-29T10:35:43.366Z"
   },
   {
    "duration": 426,
    "start_time": "2021-11-29T10:35:47.887Z"
   },
   {
    "duration": 1096,
    "start_time": "2021-11-29T10:36:21.575Z"
   },
   {
    "duration": 414,
    "start_time": "2021-11-29T10:36:28.823Z"
   },
   {
    "duration": 516,
    "start_time": "2021-11-29T10:36:43.183Z"
   },
   {
    "duration": 537,
    "start_time": "2021-11-29T10:37:19.385Z"
   },
   {
    "duration": 20,
    "start_time": "2021-11-29T10:40:28.663Z"
   },
   {
    "duration": 514,
    "start_time": "2021-11-29T10:41:10.167Z"
   },
   {
    "duration": 8128,
    "start_time": "2021-11-29T10:41:25.854Z"
   },
   {
    "duration": 267,
    "start_time": "2021-11-29T10:41:41.989Z"
   },
   {
    "duration": 407,
    "start_time": "2021-11-29T10:44:31.045Z"
   },
   {
    "duration": 444,
    "start_time": "2021-11-29T10:54:36.849Z"
   },
   {
    "duration": 466,
    "start_time": "2021-11-29T11:02:25.807Z"
   },
   {
    "duration": 460,
    "start_time": "2021-11-29T11:02:32.401Z"
   },
   {
    "duration": 5,
    "start_time": "2021-11-29T11:57:41.950Z"
   },
   {
    "duration": 255,
    "start_time": "2021-11-29T11:57:41.958Z"
   },
   {
    "duration": 60,
    "start_time": "2021-11-29T11:57:42.217Z"
   },
   {
    "duration": 302,
    "start_time": "2021-11-29T11:57:42.283Z"
   },
   {
    "duration": 16,
    "start_time": "2021-11-29T11:57:42.587Z"
   },
   {
    "duration": 421,
    "start_time": "2021-11-29T11:57:42.606Z"
   },
   {
    "duration": 16,
    "start_time": "2021-11-29T11:57:43.030Z"
   },
   {
    "duration": 338,
    "start_time": "2021-11-29T11:57:43.050Z"
   },
   {
    "duration": 39,
    "start_time": "2021-11-29T11:57:43.391Z"
   },
   {
    "duration": 447,
    "start_time": "2021-11-29T11:57:43.432Z"
   },
   {
    "duration": 16,
    "start_time": "2021-11-29T11:57:43.882Z"
   },
   {
    "duration": 401,
    "start_time": "2021-11-29T11:57:43.901Z"
   },
   {
    "duration": 42,
    "start_time": "2021-11-29T11:57:44.305Z"
   },
   {
    "duration": 48,
    "start_time": "2021-11-29T11:57:44.350Z"
   },
   {
    "duration": 519,
    "start_time": "2021-11-29T11:57:44.401Z"
   },
   {
    "duration": 16,
    "start_time": "2021-11-29T11:57:44.923Z"
   },
   {
    "duration": 46,
    "start_time": "2021-11-29T11:57:44.942Z"
   },
   {
    "duration": 449,
    "start_time": "2021-11-29T11:57:44.990Z"
   },
   {
    "duration": 466,
    "start_time": "2021-11-29T11:57:45.442Z"
   },
   {
    "duration": 395,
    "start_time": "2021-11-29T11:57:45.911Z"
   },
   {
    "duration": 405,
    "start_time": "2021-11-29T12:01:55.609Z"
   },
   {
    "duration": 21,
    "start_time": "2021-11-29T12:58:28.737Z"
   },
   {
    "duration": 330,
    "start_time": "2021-11-29T12:59:02.306Z"
   },
   {
    "duration": 318,
    "start_time": "2021-11-29T12:59:38.024Z"
   },
   {
    "duration": 342,
    "start_time": "2021-11-29T12:59:46.515Z"
   },
   {
    "duration": 22,
    "start_time": "2021-11-29T13:01:03.099Z"
   },
   {
    "duration": 3099,
    "start_time": "2021-11-29T13:02:00.130Z"
   },
   {
    "duration": 752,
    "start_time": "2021-11-29T13:02:06.409Z"
   },
   {
    "duration": 19,
    "start_time": "2021-11-29T13:02:17.704Z"
   },
   {
    "duration": 13,
    "start_time": "2021-11-29T13:04:11.013Z"
   },
   {
    "duration": 16,
    "start_time": "2021-11-29T13:04:47.914Z"
   },
   {
    "duration": 13,
    "start_time": "2021-11-29T13:07:04.044Z"
   },
   {
    "duration": 2130,
    "start_time": "2021-11-30T17:35:58.996Z"
   },
   {
    "duration": 252,
    "start_time": "2021-11-30T17:36:01.129Z"
   },
   {
    "duration": 63,
    "start_time": "2021-11-30T17:36:01.385Z"
   },
   {
    "duration": 83,
    "start_time": "2021-11-30T17:36:01.452Z"
   },
   {
    "duration": 49,
    "start_time": "2021-11-30T17:36:01.538Z"
   },
   {
    "duration": 425,
    "start_time": "2021-11-30T17:36:01.590Z"
   },
   {
    "duration": 17,
    "start_time": "2021-11-30T17:36:02.018Z"
   },
   {
    "duration": 347,
    "start_time": "2021-11-30T17:36:02.039Z"
   },
   {
    "duration": 47,
    "start_time": "2021-11-30T17:36:02.389Z"
   },
   {
    "duration": 478,
    "start_time": "2021-11-30T17:36:02.438Z"
   },
   {
    "duration": 16,
    "start_time": "2021-11-30T17:36:02.919Z"
   },
   {
    "duration": 408,
    "start_time": "2021-11-30T17:36:02.937Z"
   },
   {
    "duration": 55,
    "start_time": "2021-11-30T17:36:03.347Z"
   },
   {
    "duration": 19,
    "start_time": "2021-11-30T17:36:03.405Z"
   },
   {
    "duration": 537,
    "start_time": "2021-11-30T17:36:03.427Z"
   },
   {
    "duration": 26,
    "start_time": "2021-11-30T17:36:03.967Z"
   },
   {
    "duration": 24,
    "start_time": "2021-11-30T17:36:03.995Z"
   },
   {
    "duration": 419,
    "start_time": "2021-11-30T17:36:04.022Z"
   },
   {
    "duration": 569,
    "start_time": "2021-11-30T17:36:04.444Z"
   },
   {
    "duration": 692,
    "start_time": "2021-11-30T17:36:05.016Z"
   },
   {
    "duration": 553,
    "start_time": "2021-11-30T17:36:05.711Z"
   },
   {
    "duration": 23,
    "start_time": "2021-11-30T17:36:06.267Z"
   },
   {
    "duration": 541,
    "start_time": "2021-12-01T04:26:10.598Z"
   },
   {
    "duration": 57821,
    "start_time": "2021-12-01T11:26:05.990Z"
   },
   {
    "duration": 611,
    "start_time": "2021-12-01T11:27:03.814Z"
   },
   {
    "duration": 63,
    "start_time": "2021-12-01T11:27:04.429Z"
   },
   {
    "duration": 92,
    "start_time": "2021-12-01T11:27:04.495Z"
   },
   {
    "duration": 16,
    "start_time": "2021-12-01T11:27:04.590Z"
   },
   {
    "duration": 546,
    "start_time": "2021-12-01T11:27:04.609Z"
   },
   {
    "duration": 35,
    "start_time": "2021-12-01T11:27:05.158Z"
   },
   {
    "duration": 441,
    "start_time": "2021-12-01T11:27:05.196Z"
   },
   {
    "duration": 73,
    "start_time": "2021-12-01T11:27:05.642Z"
   },
   {
    "duration": 571,
    "start_time": "2021-12-01T11:27:05.719Z"
   },
   {
    "duration": 21,
    "start_time": "2021-12-01T11:27:06.293Z"
   },
   {
    "duration": 555,
    "start_time": "2021-12-01T11:27:06.317Z"
   },
   {
    "duration": 67,
    "start_time": "2021-12-01T11:27:06.883Z"
   },
   {
    "duration": 45,
    "start_time": "2021-12-01T11:27:06.953Z"
   },
   {
    "duration": 742,
    "start_time": "2021-12-01T11:27:07.002Z"
   },
   {
    "duration": 43,
    "start_time": "2021-12-01T11:27:07.747Z"
   },
   {
    "duration": 36,
    "start_time": "2021-12-01T11:27:07.793Z"
   },
   {
    "duration": 538,
    "start_time": "2021-12-01T11:27:07.833Z"
   },
   {
    "duration": 419,
    "start_time": "2021-12-01T11:27:08.374Z"
   },
   {
    "duration": 514,
    "start_time": "2021-12-01T11:27:08.796Z"
   },
   {
    "duration": 13,
    "start_time": "2021-12-01T11:27:09.313Z"
   },
   {
    "duration": 2249,
    "start_time": "2021-12-02T01:18:26.108Z"
   },
   {
    "duration": 284,
    "start_time": "2021-12-02T01:18:28.360Z"
   },
   {
    "duration": 42,
    "start_time": "2021-12-02T01:18:28.647Z"
   },
   {
    "duration": 86,
    "start_time": "2021-12-02T01:18:32.514Z"
   },
   {
    "duration": 619,
    "start_time": "2021-12-02T05:55:31.884Z"
   },
   {
    "duration": 6,
    "start_time": "2021-12-02T05:55:36.777Z"
   },
   {
    "duration": 236,
    "start_time": "2021-12-02T05:55:36.786Z"
   },
   {
    "duration": 38,
    "start_time": "2021-12-02T05:55:37.025Z"
   },
   {
    "duration": 90,
    "start_time": "2021-12-02T05:55:37.067Z"
   },
   {
    "duration": 34,
    "start_time": "2021-12-02T05:55:37.159Z"
   },
   {
    "duration": 434,
    "start_time": "2021-12-02T05:55:37.195Z"
   },
   {
    "duration": 15,
    "start_time": "2021-12-02T05:55:37.632Z"
   },
   {
    "duration": 339,
    "start_time": "2021-12-02T05:55:37.649Z"
   },
   {
    "duration": 42,
    "start_time": "2021-12-02T05:55:37.991Z"
   },
   {
    "duration": 360,
    "start_time": "2021-12-02T05:55:39.705Z"
   },
   {
    "duration": 539,
    "start_time": "2021-12-02T05:56:15.637Z"
   },
   {
    "duration": 322,
    "start_time": "2021-12-02T05:58:09.126Z"
   },
   {
    "duration": 6,
    "start_time": "2021-12-02T05:58:12.010Z"
   },
   {
    "duration": 1190,
    "start_time": "2021-12-02T05:58:12.020Z"
   },
   {
    "duration": 40,
    "start_time": "2021-12-02T05:58:13.214Z"
   },
   {
    "duration": 101,
    "start_time": "2021-12-02T05:58:13.259Z"
   },
   {
    "duration": 37,
    "start_time": "2021-12-02T05:58:13.362Z"
   },
   {
    "duration": 590,
    "start_time": "2021-12-02T05:58:13.402Z"
   },
   {
    "duration": 17,
    "start_time": "2021-12-02T05:58:13.995Z"
   },
   {
    "duration": 459,
    "start_time": "2021-12-02T05:58:14.016Z"
   },
   {
    "duration": 52,
    "start_time": "2021-12-02T05:58:14.482Z"
   },
   {
    "duration": 545,
    "start_time": "2021-12-02T05:58:14.537Z"
   },
   {
    "duration": 518,
    "start_time": "2021-12-02T05:58:15.085Z"
   },
   {
    "duration": 20,
    "start_time": "2021-12-02T05:58:15.605Z"
   },
   {
    "duration": 320,
    "start_time": "2021-12-02T06:02:26.141Z"
   },
   {
    "duration": 358,
    "start_time": "2021-12-02T06:02:37.952Z"
   },
   {
    "duration": 299,
    "start_time": "2021-12-02T06:09:18.462Z"
   },
   {
    "duration": 5,
    "start_time": "2021-12-02T06:09:22.673Z"
   },
   {
    "duration": 257,
    "start_time": "2021-12-02T06:09:22.681Z"
   },
   {
    "duration": 38,
    "start_time": "2021-12-02T06:09:22.941Z"
   },
   {
    "duration": 57,
    "start_time": "2021-12-02T06:09:22.982Z"
   },
   {
    "duration": 47,
    "start_time": "2021-12-02T06:09:23.041Z"
   },
   {
    "duration": 416,
    "start_time": "2021-12-02T06:09:23.091Z"
   },
   {
    "duration": 15,
    "start_time": "2021-12-02T06:09:23.509Z"
   },
   {
    "duration": 352,
    "start_time": "2021-12-02T06:09:23.526Z"
   },
   {
    "duration": 59,
    "start_time": "2021-12-02T06:09:23.886Z"
   },
   {
    "duration": 542,
    "start_time": "2021-12-02T06:09:23.981Z"
   },
   {
    "duration": 560,
    "start_time": "2021-12-02T06:09:24.527Z"
   },
   {
    "duration": 16,
    "start_time": "2021-12-02T06:09:25.090Z"
   },
   {
    "duration": 411,
    "start_time": "2021-12-02T06:09:25.108Z"
   },
   {
    "duration": 73,
    "start_time": "2021-12-02T06:09:25.523Z"
   },
   {
    "duration": 21,
    "start_time": "2021-12-02T06:09:25.599Z"
   },
   {
    "duration": 545,
    "start_time": "2021-12-02T06:09:25.622Z"
   },
   {
    "duration": 25,
    "start_time": "2021-12-02T06:09:26.169Z"
   },
   {
    "duration": 21,
    "start_time": "2021-12-02T06:09:26.197Z"
   },
   {
    "duration": 506,
    "start_time": "2021-12-02T06:09:26.220Z"
   },
   {
    "duration": 398,
    "start_time": "2021-12-02T06:09:26.728Z"
   },
   {
    "duration": 385,
    "start_time": "2021-12-02T06:09:27.128Z"
   },
   {
    "duration": 505,
    "start_time": "2021-12-02T06:09:29.284Z"
   },
   {
    "duration": 372,
    "start_time": "2021-12-02T06:10:10.771Z"
   },
   {
    "duration": 34,
    "start_time": "2021-12-02T06:12:16.413Z"
   },
   {
    "duration": 33,
    "start_time": "2021-12-02T06:13:39.103Z"
   },
   {
    "duration": 793,
    "start_time": "2021-12-02T06:14:23.224Z"
   },
   {
    "duration": 5,
    "start_time": "2021-12-02T06:14:52.668Z"
   },
   {
    "duration": 228,
    "start_time": "2021-12-02T06:14:52.675Z"
   },
   {
    "duration": 39,
    "start_time": "2021-12-02T06:14:52.907Z"
   },
   {
    "duration": 218,
    "start_time": "2021-12-02T06:14:52.949Z"
   },
   {
    "duration": 25,
    "start_time": "2021-12-02T06:14:53.169Z"
   },
   {
    "duration": 544,
    "start_time": "2021-12-02T06:14:53.196Z"
   },
   {
    "duration": 39,
    "start_time": "2021-12-02T06:14:53.742Z"
   },
   {
    "duration": 350,
    "start_time": "2021-12-02T06:14:53.783Z"
   },
   {
    "duration": 57,
    "start_time": "2021-12-02T06:14:54.137Z"
   },
   {
    "duration": 405,
    "start_time": "2021-12-02T06:14:54.197Z"
   },
   {
    "duration": 468,
    "start_time": "2021-12-02T06:14:54.605Z"
   },
   {
    "duration": 23,
    "start_time": "2021-12-02T06:14:55.076Z"
   },
   {
    "duration": 420,
    "start_time": "2021-12-02T06:14:55.103Z"
   },
   {
    "duration": 57,
    "start_time": "2021-12-02T06:14:55.525Z"
   },
   {
    "duration": 21,
    "start_time": "2021-12-02T06:14:55.584Z"
   },
   {
    "duration": 531,
    "start_time": "2021-12-02T06:14:55.608Z"
   },
   {
    "duration": 15,
    "start_time": "2021-12-02T06:14:56.141Z"
   },
   {
    "duration": 22,
    "start_time": "2021-12-02T06:14:56.182Z"
   },
   {
    "duration": 422,
    "start_time": "2021-12-02T06:14:56.207Z"
   },
   {
    "duration": 399,
    "start_time": "2021-12-02T06:14:56.631Z"
   },
   {
    "duration": 403,
    "start_time": "2021-12-02T06:14:57.032Z"
   },
   {
    "duration": 766,
    "start_time": "2021-12-02T06:14:58.683Z"
   },
   {
    "duration": 19,
    "start_time": "2021-12-02T06:15:16.957Z"
   },
   {
    "duration": 26,
    "start_time": "2021-12-02T06:15:23.507Z"
   },
   {
    "duration": 5,
    "start_time": "2021-12-02T06:15:27.406Z"
   },
   {
    "duration": 253,
    "start_time": "2021-12-02T06:15:27.414Z"
   },
   {
    "duration": 58,
    "start_time": "2021-12-02T06:15:27.671Z"
   },
   {
    "duration": 117,
    "start_time": "2021-12-02T06:15:27.733Z"
   },
   {
    "duration": 40,
    "start_time": "2021-12-02T06:15:27.853Z"
   },
   {
    "duration": 614,
    "start_time": "2021-12-02T06:15:27.896Z"
   },
   {
    "duration": 22,
    "start_time": "2021-12-02T06:15:28.513Z"
   },
   {
    "duration": 481,
    "start_time": "2021-12-02T06:15:28.538Z"
   },
   {
    "duration": 61,
    "start_time": "2021-12-02T06:15:29.023Z"
   },
   {
    "duration": 381,
    "start_time": "2021-12-02T06:15:29.086Z"
   },
   {
    "duration": 537,
    "start_time": "2021-12-02T06:15:29.469Z"
   },
   {
    "duration": 23,
    "start_time": "2021-12-02T06:15:30.009Z"
   },
   {
    "duration": 609,
    "start_time": "2021-12-02T06:15:30.035Z"
   },
   {
    "duration": 76,
    "start_time": "2021-12-02T06:15:30.647Z"
   },
   {
    "duration": 59,
    "start_time": "2021-12-02T06:15:30.726Z"
   },
   {
    "duration": 918,
    "start_time": "2021-12-02T06:15:30.788Z"
   },
   {
    "duration": 23,
    "start_time": "2021-12-02T06:15:31.709Z"
   },
   {
    "duration": 66,
    "start_time": "2021-12-02T06:15:31.735Z"
   },
   {
    "duration": 570,
    "start_time": "2021-12-02T06:15:31.804Z"
   },
   {
    "duration": 437,
    "start_time": "2021-12-02T06:15:32.381Z"
   },
   {
    "duration": 396,
    "start_time": "2021-12-02T06:15:32.821Z"
   },
   {
    "duration": 33,
    "start_time": "2021-12-02T06:15:33.220Z"
   },
   {
    "duration": 745,
    "start_time": "2021-12-02T06:15:34.935Z"
   },
   {
    "duration": 27,
    "start_time": "2021-12-02T06:16:00.189Z"
   },
   {
    "duration": 476,
    "start_time": "2021-12-02T06:16:27.024Z"
   },
   {
    "duration": 6,
    "start_time": "2021-12-02T07:02:53.122Z"
   },
   {
    "duration": 251,
    "start_time": "2021-12-02T07:02:53.132Z"
   },
   {
    "duration": 44,
    "start_time": "2021-12-02T07:02:53.387Z"
   },
   {
    "duration": 100,
    "start_time": "2021-12-02T07:02:53.435Z"
   },
   {
    "duration": 44,
    "start_time": "2021-12-02T07:02:53.538Z"
   },
   {
    "duration": 442,
    "start_time": "2021-12-02T07:02:53.593Z"
   },
   {
    "duration": 16,
    "start_time": "2021-12-02T07:02:54.037Z"
   },
   {
    "duration": 336,
    "start_time": "2021-12-02T07:02:54.056Z"
   },
   {
    "duration": 39,
    "start_time": "2021-12-02T07:02:54.396Z"
   },
   {
    "duration": 423,
    "start_time": "2021-12-02T07:02:54.438Z"
   },
   {
    "duration": 426,
    "start_time": "2021-12-02T07:02:54.864Z"
   },
   {
    "duration": 16,
    "start_time": "2021-12-02T07:02:55.292Z"
   },
   {
    "duration": 400,
    "start_time": "2021-12-02T07:02:55.311Z"
   },
   {
    "duration": 40,
    "start_time": "2021-12-02T07:02:55.714Z"
   },
   {
    "duration": 43,
    "start_time": "2021-12-02T07:02:55.757Z"
   },
   {
    "duration": 552,
    "start_time": "2021-12-02T07:02:55.803Z"
   },
   {
    "duration": 29,
    "start_time": "2021-12-02T07:02:56.358Z"
   },
   {
    "duration": 23,
    "start_time": "2021-12-02T07:02:56.389Z"
   },
   {
    "duration": 531,
    "start_time": "2021-12-02T07:02:56.414Z"
   },
   {
    "duration": 416,
    "start_time": "2021-12-02T07:02:56.948Z"
   },
   {
    "duration": 492,
    "start_time": "2021-12-02T07:02:57.366Z"
   },
   {
    "duration": 810,
    "start_time": "2021-12-02T07:02:57.861Z"
   },
   {
    "duration": 22,
    "start_time": "2021-12-02T07:02:58.674Z"
   },
   {
    "duration": 422,
    "start_time": "2021-12-02T07:02:58.699Z"
   },
   {
    "duration": 1365,
    "start_time": "2021-12-02T11:01:53.731Z"
   },
   {
    "duration": 195,
    "start_time": "2021-12-02T11:01:55.098Z"
   },
   {
    "duration": 27,
    "start_time": "2021-12-02T11:01:55.295Z"
   },
   {
    "duration": 35,
    "start_time": "2021-12-02T11:01:55.323Z"
   },
   {
    "duration": 29,
    "start_time": "2021-12-02T11:01:55.359Z"
   },
   {
    "duration": 288,
    "start_time": "2021-12-02T11:01:55.390Z"
   },
   {
    "duration": 14,
    "start_time": "2021-12-02T11:01:55.680Z"
   },
   {
    "duration": 177,
    "start_time": "2021-12-02T11:01:55.695Z"
   },
   {
    "duration": 29,
    "start_time": "2021-12-02T11:01:55.874Z"
   },
   {
    "duration": 212,
    "start_time": "2021-12-02T11:01:55.905Z"
   },
   {
    "duration": 270,
    "start_time": "2021-12-02T11:01:56.118Z"
   },
   {
    "duration": 10,
    "start_time": "2021-12-02T11:01:56.390Z"
   },
   {
    "duration": 223,
    "start_time": "2021-12-02T11:01:56.402Z"
   },
   {
    "duration": 25,
    "start_time": "2021-12-02T11:01:56.627Z"
   },
   {
    "duration": 15,
    "start_time": "2021-12-02T11:01:56.654Z"
   },
   {
    "duration": 298,
    "start_time": "2021-12-02T11:01:56.671Z"
   },
   {
    "duration": 16,
    "start_time": "2021-12-02T11:01:56.971Z"
   },
   {
    "duration": 12,
    "start_time": "2021-12-02T11:01:56.989Z"
   },
   {
    "duration": 286,
    "start_time": "2021-12-02T11:01:57.003Z"
   },
   {
    "duration": 384,
    "start_time": "2021-12-02T11:01:57.291Z"
   },
   {
    "duration": 206,
    "start_time": "2021-12-02T11:01:57.677Z"
   },
   {
    "duration": 279,
    "start_time": "2021-12-02T11:01:57.884Z"
   },
   {
    "duration": 8,
    "start_time": "2021-12-02T11:01:58.165Z"
   },
   {
    "duration": 215,
    "start_time": "2021-12-02T11:01:58.175Z"
   },
   {
    "duration": 1421,
    "start_time": "2021-12-02T11:40:30.254Z"
   },
   {
    "duration": 178,
    "start_time": "2021-12-02T11:40:31.676Z"
   },
   {
    "duration": 25,
    "start_time": "2021-12-02T11:40:31.858Z"
   },
   {
    "duration": 33,
    "start_time": "2021-12-02T11:40:31.884Z"
   },
   {
    "duration": 10,
    "start_time": "2021-12-02T11:40:31.919Z"
   },
   {
    "duration": 214,
    "start_time": "2021-12-02T11:40:31.930Z"
   },
   {
    "duration": 9,
    "start_time": "2021-12-02T11:40:32.146Z"
   },
   {
    "duration": 176,
    "start_time": "2021-12-02T11:40:32.157Z"
   },
   {
    "duration": 23,
    "start_time": "2021-12-02T11:40:32.334Z"
   },
   {
    "duration": 210,
    "start_time": "2021-12-02T11:40:32.358Z"
   },
   {
    "duration": 298,
    "start_time": "2021-12-02T11:40:32.569Z"
   },
   {
    "duration": 23,
    "start_time": "2021-12-02T11:40:32.869Z"
   },
   {
    "duration": 200,
    "start_time": "2021-12-02T11:40:32.893Z"
   },
   {
    "duration": 24,
    "start_time": "2021-12-02T11:40:33.095Z"
   },
   {
    "duration": 14,
    "start_time": "2021-12-02T11:40:33.120Z"
   },
   {
    "duration": 287,
    "start_time": "2021-12-02T11:40:33.135Z"
   },
   {
    "duration": 9,
    "start_time": "2021-12-02T11:40:33.424Z"
   },
   {
    "duration": 15,
    "start_time": "2021-12-02T11:40:33.435Z"
   },
   {
    "duration": 316,
    "start_time": "2021-12-02T11:40:33.451Z"
   },
   {
    "duration": 276,
    "start_time": "2021-12-02T11:40:33.769Z"
   },
   {
    "duration": 204,
    "start_time": "2021-12-02T11:40:34.046Z"
   },
   {
    "duration": 283,
    "start_time": "2021-12-02T11:40:34.253Z"
   },
   {
    "duration": 8,
    "start_time": "2021-12-02T11:40:34.537Z"
   },
   {
    "duration": 221,
    "start_time": "2021-12-02T11:40:34.546Z"
   },
   {
    "duration": 734,
    "start_time": "2021-12-02T11:41:35.936Z"
   },
   {
    "duration": 251,
    "start_time": "2021-12-02T11:42:22.734Z"
   },
   {
    "duration": 761,
    "start_time": "2021-12-02T11:42:38.309Z"
   },
   {
    "duration": 12,
    "start_time": "2021-12-02T11:42:46.220Z"
   },
   {
    "duration": 233,
    "start_time": "2021-12-02T11:43:27.408Z"
   },
   {
    "duration": 263,
    "start_time": "2021-12-02T11:43:40.855Z"
   },
   {
    "duration": 14,
    "start_time": "2021-12-02T11:43:52.832Z"
   },
   {
    "duration": 5855,
    "start_time": "2021-12-02T11:44:01.096Z"
   },
   {
    "duration": 23,
    "start_time": "2021-12-02T11:44:26.950Z"
   },
   {
    "duration": 639,
    "start_time": "2021-12-02T11:46:06.093Z"
   },
   {
    "duration": 913,
    "start_time": "2021-12-02T11:46:53.636Z"
   }
  ],
  "kernelspec": {
   "display_name": "Python 3 (ipykernel)",
   "language": "python",
   "name": "python3"
  },
  "language_info": {
   "codemirror_mode": {
    "name": "ipython",
    "version": 3
   },
   "file_extension": ".py",
   "mimetype": "text/x-python",
   "name": "python",
   "nbconvert_exporter": "python",
   "pygments_lexer": "ipython3",
   "version": "3.9.7"
  },
  "toc": {
   "base_numbering": 1,
   "nav_menu": {},
   "number_sections": true,
   "sideBar": true,
   "skip_h1_title": true,
   "title_cell": "Table of Contents",
   "title_sidebar": "Contents",
   "toc_cell": false,
   "toc_position": {},
   "toc_section_display": true,
   "toc_window_display": true
  }
 },
 "nbformat": 4,
 "nbformat_minor": 2
}
