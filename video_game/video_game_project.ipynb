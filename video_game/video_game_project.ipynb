{
 "cells": [
  {
   "cell_type": "markdown",
   "metadata": {},
   "source": [
    "# Research on new game releases\n",
    "\n",
    "You work for the online store Ice, which sells video games all over the world. User and expert reviews, genres, platforms (e.g. Xbox or PlayStation), and historical data on game sales are available from open sources. You need to identify patterns that determine whether a game succeeds or not. This will allow you to spot potential big winners and plan advertising campaigns.\n",
    "\n",
    "From the initial database, there are 16713 entries with missing data that needs to be filled in or deleted. These entries list what platforms are the game has released on, the sales per region, ESRB rating, score, year of release, and the name. "
   ]
  },
  {
   "cell_type": "markdown",
   "metadata": {},
   "source": [
    "# Step 1\n",
    "\n",
    "- Opening the data file and studying the general information"
   ]
  },
  {
   "cell_type": "code",
   "execution_count": 1,
   "metadata": {},
   "outputs": [
    {
     "name": "stdout",
     "output_type": "stream",
     "text": [
      "Defaulting to user installation because normal site-packages is not writeable\n",
      "Requirement already satisfied: seaborn in /opt/conda/lib/python3.7/site-packages (0.9.0)\n",
      "Requirement already satisfied: numpy>=1.9.3 in /opt/conda/lib/python3.7/site-packages (from seaborn) (1.19.5)\n",
      "Requirement already satisfied: matplotlib>=1.4.3 in /opt/conda/lib/python3.7/site-packages (from seaborn) (3.1.0)\n",
      "Requirement already satisfied: scipy>=0.14.0 in /opt/conda/lib/python3.7/site-packages (from seaborn) (1.4.1)\n",
      "Requirement already satisfied: pandas>=0.15.2 in /opt/conda/lib/python3.7/site-packages (from seaborn) (0.25.1)\n",
      "Requirement already satisfied: pyparsing!=2.0.4,!=2.1.2,!=2.1.6,>=2.0.1 in /opt/conda/lib/python3.7/site-packages (from matplotlib>=1.4.3->seaborn) (2.4.7)\n",
      "Requirement already satisfied: kiwisolver>=1.0.1 in /opt/conda/lib/python3.7/site-packages (from matplotlib>=1.4.3->seaborn) (1.3.1)\n",
      "Requirement already satisfied: cycler>=0.10 in /opt/conda/lib/python3.7/site-packages (from matplotlib>=1.4.3->seaborn) (0.10.0)\n",
      "Requirement already satisfied: python-dateutil>=2.1 in /opt/conda/lib/python3.7/site-packages (from matplotlib>=1.4.3->seaborn) (2.8.1)\n",
      "Requirement already satisfied: pytz>=2017.2 in /opt/conda/lib/python3.7/site-packages (from pandas>=0.15.2->seaborn) (2021.1)\n",
      "Requirement already satisfied: six in /opt/conda/lib/python3.7/site-packages (from cycler>=0.10->matplotlib>=1.4.3->seaborn) (1.15.0)\n"
     ]
    }
   ],
   "source": [
    "#import pandas and other important libraries\n",
    "import pandas as pd\n",
    "import matplotlib.pyplot as plt\n",
    "import seaborn as sns\n",
    "import warnings\n",
    "from scipy import stats as st\n",
    "import numpy as np\n",
    "\n",
    "!pip install seaborn\n",
    "import seaborn as sns\n",
    "\n",
    "warnings.filterwarnings(\"ignore\")"
   ]
  },
  {
   "cell_type": "code",
   "execution_count": 2,
   "metadata": {},
   "outputs": [],
   "source": [
    "#read all input data and assign each dataset to a variable\n",
    "try:\n",
    "    games = pd.read_csv('megaline_calls.csv')\n",
    "except:\n",
    "    games = pd.read_csv('/datasets/games.csv')"
   ]
  },
  {
   "cell_type": "markdown",
   "metadata": {},
   "source": [
    "# Step 2\n",
    "\n",
    "- Replace the column names (make them lowercase).\n",
    "\n",
    "- Convert the data to the required types.\n",
    "\n",
    "- Describe the columns where the data types have been changed and why.\n",
    "\n",
    "- If necessary, decide how to deal with missing values:\n",
    "    \n",
    "    Explain why you filled in the missing values as you did or why you decided to leave them blank.\n",
    "    \n",
    "    Why do you think the values are missing? Give possible reasons.\n",
    "    \n",
    "    Pay attention to the abbreviation TBD (to be determined). Specify how you intend to handle such cases.\n",
    "\n",
    "- Calculate the total sales (the sum of sales in all regions) for each game and put these values in a separate column."
   ]
  },
  {
   "cell_type": "code",
   "execution_count": 3,
   "metadata": {
    "scrolled": false
   },
   "outputs": [
    {
     "name": "stdout",
     "output_type": "stream",
     "text": [
      "<class 'pandas.core.frame.DataFrame'>\n",
      "RangeIndex: 16715 entries, 0 to 16714\n",
      "Data columns (total 11 columns):\n",
      "Name               16713 non-null object\n",
      "Platform           16715 non-null object\n",
      "Year_of_Release    16446 non-null float64\n",
      "Genre              16713 non-null object\n",
      "NA_sales           16715 non-null float64\n",
      "EU_sales           16715 non-null float64\n",
      "JP_sales           16715 non-null float64\n",
      "Other_sales        16715 non-null float64\n",
      "Critic_Score       8137 non-null float64\n",
      "User_Score         10014 non-null object\n",
      "Rating             9949 non-null object\n",
      "dtypes: float64(6), object(5)\n",
      "memory usage: 1.4+ MB\n"
     ]
    }
   ],
   "source": [
    "#Replacing the column names\n",
    "\n",
    "#checking on info\n",
    "games.info()\n",
    "\n",
    "#renaming the column names\n",
    "games.columns = ['name', 'platform', 'year_of_release', 'genre', 'na_sales', 'eu_sales', 'jp_sales',\n",
    "                'other_sales', 'critic_score', 'user_score', 'rating']"
   ]
  },
  {
   "cell_type": "markdown",
   "metadata": {},
   "source": [
    "looking at games.info, it shows that we have a lot of missing information. What to do with this will be a problem"
   ]
  },
  {
   "cell_type": "code",
   "execution_count": 4,
   "metadata": {},
   "outputs": [
    {
     "name": "stdout",
     "output_type": "stream",
     "text": [
      "<class 'pandas.core.frame.DataFrame'>\n",
      "RangeIndex: 16715 entries, 0 to 16714\n",
      "Data columns (total 11 columns):\n",
      "name               16713 non-null object\n",
      "platform           16715 non-null object\n",
      "year_of_release    16446 non-null period[A-DEC]\n",
      "genre              16713 non-null object\n",
      "na_sales           16715 non-null float64\n",
      "eu_sales           16715 non-null float64\n",
      "jp_sales           16715 non-null float64\n",
      "other_sales        16715 non-null float64\n",
      "critic_score       8137 non-null float64\n",
      "user_score         10014 non-null object\n",
      "rating             9949 non-null object\n",
      "dtypes: float64(5), object(5), period[A-DEC](1)\n",
      "memory usage: 1.4+ MB\n"
     ]
    },
    {
     "data": {
      "text/html": [
       "<div>\n",
       "<style scoped>\n",
       "    .dataframe tbody tr th:only-of-type {\n",
       "        vertical-align: middle;\n",
       "    }\n",
       "\n",
       "    .dataframe tbody tr th {\n",
       "        vertical-align: top;\n",
       "    }\n",
       "\n",
       "    .dataframe thead th {\n",
       "        text-align: right;\n",
       "    }\n",
       "</style>\n",
       "<table border=\"1\" class=\"dataframe\">\n",
       "  <thead>\n",
       "    <tr style=\"text-align: right;\">\n",
       "      <th></th>\n",
       "      <th>name</th>\n",
       "      <th>platform</th>\n",
       "      <th>year_of_release</th>\n",
       "      <th>genre</th>\n",
       "      <th>na_sales</th>\n",
       "      <th>eu_sales</th>\n",
       "      <th>jp_sales</th>\n",
       "      <th>other_sales</th>\n",
       "      <th>critic_score</th>\n",
       "      <th>user_score</th>\n",
       "      <th>rating</th>\n",
       "    </tr>\n",
       "  </thead>\n",
       "  <tbody>\n",
       "    <tr>\n",
       "      <td>0</td>\n",
       "      <td>Wii Sports</td>\n",
       "      <td>Wii</td>\n",
       "      <td>2006</td>\n",
       "      <td>Sports</td>\n",
       "      <td>41.36</td>\n",
       "      <td>28.96</td>\n",
       "      <td>3.77</td>\n",
       "      <td>8.45</td>\n",
       "      <td>76.0</td>\n",
       "      <td>8</td>\n",
       "      <td>E</td>\n",
       "    </tr>\n",
       "    <tr>\n",
       "      <td>1</td>\n",
       "      <td>Super Mario Bros.</td>\n",
       "      <td>NES</td>\n",
       "      <td>1985</td>\n",
       "      <td>Platform</td>\n",
       "      <td>29.08</td>\n",
       "      <td>3.58</td>\n",
       "      <td>6.81</td>\n",
       "      <td>0.77</td>\n",
       "      <td>NaN</td>\n",
       "      <td>NaN</td>\n",
       "      <td>NaN</td>\n",
       "    </tr>\n",
       "    <tr>\n",
       "      <td>2</td>\n",
       "      <td>Mario Kart Wii</td>\n",
       "      <td>Wii</td>\n",
       "      <td>2008</td>\n",
       "      <td>Racing</td>\n",
       "      <td>15.68</td>\n",
       "      <td>12.76</td>\n",
       "      <td>3.79</td>\n",
       "      <td>3.29</td>\n",
       "      <td>82.0</td>\n",
       "      <td>8.3</td>\n",
       "      <td>E</td>\n",
       "    </tr>\n",
       "    <tr>\n",
       "      <td>3</td>\n",
       "      <td>Wii Sports Resort</td>\n",
       "      <td>Wii</td>\n",
       "      <td>2009</td>\n",
       "      <td>Sports</td>\n",
       "      <td>15.61</td>\n",
       "      <td>10.93</td>\n",
       "      <td>3.28</td>\n",
       "      <td>2.95</td>\n",
       "      <td>80.0</td>\n",
       "      <td>8</td>\n",
       "      <td>E</td>\n",
       "    </tr>\n",
       "    <tr>\n",
       "      <td>4</td>\n",
       "      <td>Pokemon Red/Pokemon Blue</td>\n",
       "      <td>GB</td>\n",
       "      <td>1996</td>\n",
       "      <td>Role-Playing</td>\n",
       "      <td>11.27</td>\n",
       "      <td>8.89</td>\n",
       "      <td>10.22</td>\n",
       "      <td>1.00</td>\n",
       "      <td>NaN</td>\n",
       "      <td>NaN</td>\n",
       "      <td>NaN</td>\n",
       "    </tr>\n",
       "    <tr>\n",
       "      <td>...</td>\n",
       "      <td>...</td>\n",
       "      <td>...</td>\n",
       "      <td>...</td>\n",
       "      <td>...</td>\n",
       "      <td>...</td>\n",
       "      <td>...</td>\n",
       "      <td>...</td>\n",
       "      <td>...</td>\n",
       "      <td>...</td>\n",
       "      <td>...</td>\n",
       "      <td>...</td>\n",
       "    </tr>\n",
       "    <tr>\n",
       "      <td>16710</td>\n",
       "      <td>Samurai Warriors: Sanada Maru</td>\n",
       "      <td>PS3</td>\n",
       "      <td>2016</td>\n",
       "      <td>Action</td>\n",
       "      <td>0.00</td>\n",
       "      <td>0.00</td>\n",
       "      <td>0.01</td>\n",
       "      <td>0.00</td>\n",
       "      <td>NaN</td>\n",
       "      <td>NaN</td>\n",
       "      <td>NaN</td>\n",
       "    </tr>\n",
       "    <tr>\n",
       "      <td>16711</td>\n",
       "      <td>LMA Manager 2007</td>\n",
       "      <td>X360</td>\n",
       "      <td>2006</td>\n",
       "      <td>Sports</td>\n",
       "      <td>0.00</td>\n",
       "      <td>0.01</td>\n",
       "      <td>0.00</td>\n",
       "      <td>0.00</td>\n",
       "      <td>NaN</td>\n",
       "      <td>NaN</td>\n",
       "      <td>NaN</td>\n",
       "    </tr>\n",
       "    <tr>\n",
       "      <td>16712</td>\n",
       "      <td>Haitaka no Psychedelica</td>\n",
       "      <td>PSV</td>\n",
       "      <td>2016</td>\n",
       "      <td>Adventure</td>\n",
       "      <td>0.00</td>\n",
       "      <td>0.00</td>\n",
       "      <td>0.01</td>\n",
       "      <td>0.00</td>\n",
       "      <td>NaN</td>\n",
       "      <td>NaN</td>\n",
       "      <td>NaN</td>\n",
       "    </tr>\n",
       "    <tr>\n",
       "      <td>16713</td>\n",
       "      <td>Spirits &amp; Spells</td>\n",
       "      <td>GBA</td>\n",
       "      <td>2003</td>\n",
       "      <td>Platform</td>\n",
       "      <td>0.01</td>\n",
       "      <td>0.00</td>\n",
       "      <td>0.00</td>\n",
       "      <td>0.00</td>\n",
       "      <td>NaN</td>\n",
       "      <td>NaN</td>\n",
       "      <td>NaN</td>\n",
       "    </tr>\n",
       "    <tr>\n",
       "      <td>16714</td>\n",
       "      <td>Winning Post 8 2016</td>\n",
       "      <td>PSV</td>\n",
       "      <td>2016</td>\n",
       "      <td>Simulation</td>\n",
       "      <td>0.00</td>\n",
       "      <td>0.00</td>\n",
       "      <td>0.01</td>\n",
       "      <td>0.00</td>\n",
       "      <td>NaN</td>\n",
       "      <td>NaN</td>\n",
       "      <td>NaN</td>\n",
       "    </tr>\n",
       "  </tbody>\n",
       "</table>\n",
       "<p>16715 rows × 11 columns</p>\n",
       "</div>"
      ],
      "text/plain": [
       "                                name platform year_of_release         genre  \\\n",
       "0                         Wii Sports      Wii            2006        Sports   \n",
       "1                  Super Mario Bros.      NES            1985      Platform   \n",
       "2                     Mario Kart Wii      Wii            2008        Racing   \n",
       "3                  Wii Sports Resort      Wii            2009        Sports   \n",
       "4           Pokemon Red/Pokemon Blue       GB            1996  Role-Playing   \n",
       "...                              ...      ...             ...           ...   \n",
       "16710  Samurai Warriors: Sanada Maru      PS3            2016        Action   \n",
       "16711               LMA Manager 2007     X360            2006        Sports   \n",
       "16712        Haitaka no Psychedelica      PSV            2016     Adventure   \n",
       "16713               Spirits & Spells      GBA            2003      Platform   \n",
       "16714            Winning Post 8 2016      PSV            2016    Simulation   \n",
       "\n",
       "       na_sales  eu_sales  jp_sales  other_sales  critic_score user_score  \\\n",
       "0         41.36     28.96      3.77         8.45          76.0          8   \n",
       "1         29.08      3.58      6.81         0.77           NaN        NaN   \n",
       "2         15.68     12.76      3.79         3.29          82.0        8.3   \n",
       "3         15.61     10.93      3.28         2.95          80.0          8   \n",
       "4         11.27      8.89     10.22         1.00           NaN        NaN   \n",
       "...         ...       ...       ...          ...           ...        ...   \n",
       "16710      0.00      0.00      0.01         0.00           NaN        NaN   \n",
       "16711      0.00      0.01      0.00         0.00           NaN        NaN   \n",
       "16712      0.00      0.00      0.01         0.00           NaN        NaN   \n",
       "16713      0.01      0.00      0.00         0.00           NaN        NaN   \n",
       "16714      0.00      0.00      0.01         0.00           NaN        NaN   \n",
       "\n",
       "      rating  \n",
       "0          E  \n",
       "1        NaN  \n",
       "2          E  \n",
       "3          E  \n",
       "4        NaN  \n",
       "...      ...  \n",
       "16710    NaN  \n",
       "16711    NaN  \n",
       "16712    NaN  \n",
       "16713    NaN  \n",
       "16714    NaN  \n",
       "\n",
       "[16715 rows x 11 columns]"
      ]
     },
     "execution_count": 4,
     "metadata": {},
     "output_type": "execute_result"
    }
   ],
   "source": [
    "#converting the data to required types\n",
    "\n",
    "#from first impression, year of release should be datetime object and user_score should be a float\n",
    "#games.info()\n",
    "\n",
    "#converting object to datetime, and making sure only year is present\n",
    "games['year_of_release'] = pd.to_datetime(games['year_of_release'], format='%Y')\n",
    "games['year_of_release'] = games['year_of_release'].dt.to_period('Y')\n",
    "\n",
    "# We convert to year just so we could steal the year for convenience in the future just in case\n",
    "\n",
    "games.info()\n",
    "games"
   ]
  },
  {
   "cell_type": "code",
   "execution_count": 5,
   "metadata": {},
   "outputs": [
    {
     "name": "stdout",
     "output_type": "stream",
     "text": [
      "<class 'pandas.core.frame.DataFrame'>\n",
      "RangeIndex: 16715 entries, 0 to 16714\n",
      "Data columns (total 11 columns):\n",
      "name               16713 non-null object\n",
      "platform           16715 non-null object\n",
      "year_of_release    16446 non-null period[A-DEC]\n",
      "genre              16713 non-null object\n",
      "na_sales           16715 non-null float64\n",
      "eu_sales           16715 non-null float64\n",
      "jp_sales           16715 non-null float64\n",
      "other_sales        16715 non-null float64\n",
      "critic_score       8137 non-null float64\n",
      "user_score         7590 non-null float64\n",
      "rating             9949 non-null object\n",
      "dtypes: float64(6), object(4), period[A-DEC](1)\n",
      "memory usage: 1.4+ MB\n"
     ]
    }
   ],
   "source": [
    "#converting object to float, and trying to do so results in an error. TBD is a string in user_score that is \n",
    "#making all the errors. I think that deleting all rows with TBD will help make everything easier\n",
    "\n",
    "#removing tbd \n",
    "\n",
    "#games = games.loc[games.user_score != 'tbd']\n",
    "games.loc[games['user_score'] == 'tbd', 'user_score'] = 'NaN'\n",
    "games['user_score'] = games['user_score'].astype('float64')\n",
    "\n",
    "# I changed the user score from object to float for future use\n",
    "# I also removed TBD, because not having a score would potentially mess with future graphs and assumptions\n",
    "\n",
    "games.info()"
   ]
  },
  {
   "cell_type": "code",
   "execution_count": 6,
   "metadata": {},
   "outputs": [
    {
     "name": "stdout",
     "output_type": "stream",
     "text": [
      "<class 'pandas.core.frame.DataFrame'>\n",
      "Int64Index: 16444 entries, 0 to 16714\n",
      "Data columns (total 11 columns):\n",
      "name               16444 non-null object\n",
      "platform           16444 non-null object\n",
      "year_of_release    16444 non-null period[A-DEC]\n",
      "genre              16444 non-null object\n",
      "na_sales           16444 non-null float64\n",
      "eu_sales           16444 non-null float64\n",
      "jp_sales           16444 non-null float64\n",
      "other_sales        16444 non-null float64\n",
      "critic_score       16444 non-null float64\n",
      "user_score         16444 non-null float64\n",
      "rating             9768 non-null object\n",
      "dtypes: float64(6), object(4), period[A-DEC](1)\n",
      "memory usage: 1.5+ MB\n"
     ]
    },
    {
     "data": {
      "text/html": [
       "<div>\n",
       "<style scoped>\n",
       "    .dataframe tbody tr th:only-of-type {\n",
       "        vertical-align: middle;\n",
       "    }\n",
       "\n",
       "    .dataframe tbody tr th {\n",
       "        vertical-align: top;\n",
       "    }\n",
       "\n",
       "    .dataframe thead th {\n",
       "        text-align: right;\n",
       "    }\n",
       "</style>\n",
       "<table border=\"1\" class=\"dataframe\">\n",
       "  <thead>\n",
       "    <tr style=\"text-align: right;\">\n",
       "      <th></th>\n",
       "      <th>name</th>\n",
       "      <th>platform</th>\n",
       "      <th>year_of_release</th>\n",
       "      <th>genre</th>\n",
       "      <th>na_sales</th>\n",
       "      <th>eu_sales</th>\n",
       "      <th>jp_sales</th>\n",
       "      <th>other_sales</th>\n",
       "      <th>critic_score</th>\n",
       "      <th>user_score</th>\n",
       "      <th>rating</th>\n",
       "    </tr>\n",
       "  </thead>\n",
       "  <tbody>\n",
       "    <tr>\n",
       "      <td>0</td>\n",
       "      <td>Wii Sports</td>\n",
       "      <td>Wii</td>\n",
       "      <td>2006</td>\n",
       "      <td>Sports</td>\n",
       "      <td>41.36</td>\n",
       "      <td>28.96</td>\n",
       "      <td>3.77</td>\n",
       "      <td>8.45</td>\n",
       "      <td>76.000000</td>\n",
       "      <td>8.00000</td>\n",
       "      <td>E</td>\n",
       "    </tr>\n",
       "    <tr>\n",
       "      <td>1</td>\n",
       "      <td>Super Mario Bros.</td>\n",
       "      <td>NES</td>\n",
       "      <td>1985</td>\n",
       "      <td>Platform</td>\n",
       "      <td>29.08</td>\n",
       "      <td>3.58</td>\n",
       "      <td>6.81</td>\n",
       "      <td>0.77</td>\n",
       "      <td>68.994363</td>\n",
       "      <td>7.12633</td>\n",
       "      <td>NaN</td>\n",
       "    </tr>\n",
       "    <tr>\n",
       "      <td>2</td>\n",
       "      <td>Mario Kart Wii</td>\n",
       "      <td>Wii</td>\n",
       "      <td>2008</td>\n",
       "      <td>Racing</td>\n",
       "      <td>15.68</td>\n",
       "      <td>12.76</td>\n",
       "      <td>3.79</td>\n",
       "      <td>3.29</td>\n",
       "      <td>82.000000</td>\n",
       "      <td>8.30000</td>\n",
       "      <td>E</td>\n",
       "    </tr>\n",
       "    <tr>\n",
       "      <td>3</td>\n",
       "      <td>Wii Sports Resort</td>\n",
       "      <td>Wii</td>\n",
       "      <td>2009</td>\n",
       "      <td>Sports</td>\n",
       "      <td>15.61</td>\n",
       "      <td>10.93</td>\n",
       "      <td>3.28</td>\n",
       "      <td>2.95</td>\n",
       "      <td>80.000000</td>\n",
       "      <td>8.00000</td>\n",
       "      <td>E</td>\n",
       "    </tr>\n",
       "    <tr>\n",
       "      <td>4</td>\n",
       "      <td>Pokemon Red/Pokemon Blue</td>\n",
       "      <td>GB</td>\n",
       "      <td>1996</td>\n",
       "      <td>Role-Playing</td>\n",
       "      <td>11.27</td>\n",
       "      <td>8.89</td>\n",
       "      <td>10.22</td>\n",
       "      <td>1.00</td>\n",
       "      <td>68.994363</td>\n",
       "      <td>7.12633</td>\n",
       "      <td>NaN</td>\n",
       "    </tr>\n",
       "    <tr>\n",
       "      <td>...</td>\n",
       "      <td>...</td>\n",
       "      <td>...</td>\n",
       "      <td>...</td>\n",
       "      <td>...</td>\n",
       "      <td>...</td>\n",
       "      <td>...</td>\n",
       "      <td>...</td>\n",
       "      <td>...</td>\n",
       "      <td>...</td>\n",
       "      <td>...</td>\n",
       "      <td>...</td>\n",
       "    </tr>\n",
       "    <tr>\n",
       "      <td>16710</td>\n",
       "      <td>Samurai Warriors: Sanada Maru</td>\n",
       "      <td>PS3</td>\n",
       "      <td>2016</td>\n",
       "      <td>Action</td>\n",
       "      <td>0.00</td>\n",
       "      <td>0.00</td>\n",
       "      <td>0.01</td>\n",
       "      <td>0.00</td>\n",
       "      <td>68.994363</td>\n",
       "      <td>7.12633</td>\n",
       "      <td>NaN</td>\n",
       "    </tr>\n",
       "    <tr>\n",
       "      <td>16711</td>\n",
       "      <td>LMA Manager 2007</td>\n",
       "      <td>X360</td>\n",
       "      <td>2006</td>\n",
       "      <td>Sports</td>\n",
       "      <td>0.00</td>\n",
       "      <td>0.01</td>\n",
       "      <td>0.00</td>\n",
       "      <td>0.00</td>\n",
       "      <td>68.994363</td>\n",
       "      <td>7.12633</td>\n",
       "      <td>NaN</td>\n",
       "    </tr>\n",
       "    <tr>\n",
       "      <td>16712</td>\n",
       "      <td>Haitaka no Psychedelica</td>\n",
       "      <td>PSV</td>\n",
       "      <td>2016</td>\n",
       "      <td>Adventure</td>\n",
       "      <td>0.00</td>\n",
       "      <td>0.00</td>\n",
       "      <td>0.01</td>\n",
       "      <td>0.00</td>\n",
       "      <td>68.994363</td>\n",
       "      <td>7.12633</td>\n",
       "      <td>NaN</td>\n",
       "    </tr>\n",
       "    <tr>\n",
       "      <td>16713</td>\n",
       "      <td>Spirits &amp; Spells</td>\n",
       "      <td>GBA</td>\n",
       "      <td>2003</td>\n",
       "      <td>Platform</td>\n",
       "      <td>0.01</td>\n",
       "      <td>0.00</td>\n",
       "      <td>0.00</td>\n",
       "      <td>0.00</td>\n",
       "      <td>68.994363</td>\n",
       "      <td>7.12633</td>\n",
       "      <td>NaN</td>\n",
       "    </tr>\n",
       "    <tr>\n",
       "      <td>16714</td>\n",
       "      <td>Winning Post 8 2016</td>\n",
       "      <td>PSV</td>\n",
       "      <td>2016</td>\n",
       "      <td>Simulation</td>\n",
       "      <td>0.00</td>\n",
       "      <td>0.00</td>\n",
       "      <td>0.01</td>\n",
       "      <td>0.00</td>\n",
       "      <td>68.994363</td>\n",
       "      <td>7.12633</td>\n",
       "      <td>NaN</td>\n",
       "    </tr>\n",
       "  </tbody>\n",
       "</table>\n",
       "<p>16444 rows × 11 columns</p>\n",
       "</div>"
      ],
      "text/plain": [
       "                                name platform year_of_release         genre  \\\n",
       "0                         Wii Sports      Wii            2006        Sports   \n",
       "1                  Super Mario Bros.      NES            1985      Platform   \n",
       "2                     Mario Kart Wii      Wii            2008        Racing   \n",
       "3                  Wii Sports Resort      Wii            2009        Sports   \n",
       "4           Pokemon Red/Pokemon Blue       GB            1996  Role-Playing   \n",
       "...                              ...      ...             ...           ...   \n",
       "16710  Samurai Warriors: Sanada Maru      PS3            2016        Action   \n",
       "16711               LMA Manager 2007     X360            2006        Sports   \n",
       "16712        Haitaka no Psychedelica      PSV            2016     Adventure   \n",
       "16713               Spirits & Spells      GBA            2003      Platform   \n",
       "16714            Winning Post 8 2016      PSV            2016    Simulation   \n",
       "\n",
       "       na_sales  eu_sales  jp_sales  other_sales  critic_score  user_score  \\\n",
       "0         41.36     28.96      3.77         8.45     76.000000     8.00000   \n",
       "1         29.08      3.58      6.81         0.77     68.994363     7.12633   \n",
       "2         15.68     12.76      3.79         3.29     82.000000     8.30000   \n",
       "3         15.61     10.93      3.28         2.95     80.000000     8.00000   \n",
       "4         11.27      8.89     10.22         1.00     68.994363     7.12633   \n",
       "...         ...       ...       ...          ...           ...         ...   \n",
       "16710      0.00      0.00      0.01         0.00     68.994363     7.12633   \n",
       "16711      0.00      0.01      0.00         0.00     68.994363     7.12633   \n",
       "16712      0.00      0.00      0.01         0.00     68.994363     7.12633   \n",
       "16713      0.01      0.00      0.00         0.00     68.994363     7.12633   \n",
       "16714      0.00      0.00      0.01         0.00     68.994363     7.12633   \n",
       "\n",
       "      rating  \n",
       "0          E  \n",
       "1        NaN  \n",
       "2          E  \n",
       "3          E  \n",
       "4        NaN  \n",
       "...      ...  \n",
       "16710    NaN  \n",
       "16711    NaN  \n",
       "16712    NaN  \n",
       "16713    NaN  \n",
       "16714    NaN  \n",
       "\n",
       "[16444 rows x 11 columns]"
      ]
     },
     "execution_count": 6,
     "metadata": {},
     "output_type": "execute_result"
    }
   ],
   "source": [
    "#deleting any unecessary rows, and filling in rows\n",
    "\n",
    "#dropping any rows with missing names\n",
    "games.dropna(subset=['name'], inplace = True)\n",
    "\n",
    "#dropping any rows with missing year of release\n",
    "games.dropna(subset=['year_of_release'], inplace = True)\n",
    "\n",
    "#filling in missing values using the mean\n",
    "games['critic_score'] = games['critic_score'].fillna(games['critic_score'].mean())\n",
    "games['user_score'] = games['user_score'].fillna(games['user_score'].mean())\n",
    "\n",
    "#I will be keeping rating as is, because it isn't that important to change, and the information will do fine with missing \n",
    "#rating cells.\n",
    "\n",
    "#checking info to see if i'm missing anything\n",
    "games.info()\n",
    "\n",
    "games"
   ]
  },
  {
   "cell_type": "code",
   "execution_count": 7,
   "metadata": {},
   "outputs": [
    {
     "name": "stdout",
     "output_type": "stream",
     "text": [
      "<class 'pandas.core.frame.DataFrame'>\n",
      "Int64Index: 16444 entries, 0 to 16714\n",
      "Data columns (total 12 columns):\n",
      "name               16444 non-null object\n",
      "platform           16444 non-null object\n",
      "year_of_release    16444 non-null period[A-DEC]\n",
      "genre              16444 non-null object\n",
      "na_sales           16444 non-null float64\n",
      "eu_sales           16444 non-null float64\n",
      "jp_sales           16444 non-null float64\n",
      "other_sales        16444 non-null float64\n",
      "critic_score       16444 non-null float64\n",
      "user_score         16444 non-null float64\n",
      "rating             9768 non-null object\n",
      "total_sales        16444 non-null float64\n",
      "dtypes: float64(7), object(4), period[A-DEC](1)\n",
      "memory usage: 1.6+ MB\n"
     ]
    },
    {
     "data": {
      "text/html": [
       "<div>\n",
       "<style scoped>\n",
       "    .dataframe tbody tr th:only-of-type {\n",
       "        vertical-align: middle;\n",
       "    }\n",
       "\n",
       "    .dataframe tbody tr th {\n",
       "        vertical-align: top;\n",
       "    }\n",
       "\n",
       "    .dataframe thead th {\n",
       "        text-align: right;\n",
       "    }\n",
       "</style>\n",
       "<table border=\"1\" class=\"dataframe\">\n",
       "  <thead>\n",
       "    <tr style=\"text-align: right;\">\n",
       "      <th></th>\n",
       "      <th>name</th>\n",
       "      <th>platform</th>\n",
       "      <th>year_of_release</th>\n",
       "      <th>genre</th>\n",
       "      <th>na_sales</th>\n",
       "      <th>eu_sales</th>\n",
       "      <th>jp_sales</th>\n",
       "      <th>other_sales</th>\n",
       "      <th>critic_score</th>\n",
       "      <th>user_score</th>\n",
       "      <th>rating</th>\n",
       "      <th>total_sales</th>\n",
       "    </tr>\n",
       "  </thead>\n",
       "  <tbody>\n",
       "    <tr>\n",
       "      <td>0</td>\n",
       "      <td>Wii Sports</td>\n",
       "      <td>Wii</td>\n",
       "      <td>2006</td>\n",
       "      <td>Sports</td>\n",
       "      <td>41.36</td>\n",
       "      <td>28.96</td>\n",
       "      <td>3.77</td>\n",
       "      <td>8.45</td>\n",
       "      <td>76.000000</td>\n",
       "      <td>8.00000</td>\n",
       "      <td>E</td>\n",
       "      <td>82.54</td>\n",
       "    </tr>\n",
       "    <tr>\n",
       "      <td>1</td>\n",
       "      <td>Super Mario Bros.</td>\n",
       "      <td>NES</td>\n",
       "      <td>1985</td>\n",
       "      <td>Platform</td>\n",
       "      <td>29.08</td>\n",
       "      <td>3.58</td>\n",
       "      <td>6.81</td>\n",
       "      <td>0.77</td>\n",
       "      <td>68.994363</td>\n",
       "      <td>7.12633</td>\n",
       "      <td>NaN</td>\n",
       "      <td>40.24</td>\n",
       "    </tr>\n",
       "    <tr>\n",
       "      <td>2</td>\n",
       "      <td>Mario Kart Wii</td>\n",
       "      <td>Wii</td>\n",
       "      <td>2008</td>\n",
       "      <td>Racing</td>\n",
       "      <td>15.68</td>\n",
       "      <td>12.76</td>\n",
       "      <td>3.79</td>\n",
       "      <td>3.29</td>\n",
       "      <td>82.000000</td>\n",
       "      <td>8.30000</td>\n",
       "      <td>E</td>\n",
       "      <td>35.52</td>\n",
       "    </tr>\n",
       "    <tr>\n",
       "      <td>3</td>\n",
       "      <td>Wii Sports Resort</td>\n",
       "      <td>Wii</td>\n",
       "      <td>2009</td>\n",
       "      <td>Sports</td>\n",
       "      <td>15.61</td>\n",
       "      <td>10.93</td>\n",
       "      <td>3.28</td>\n",
       "      <td>2.95</td>\n",
       "      <td>80.000000</td>\n",
       "      <td>8.00000</td>\n",
       "      <td>E</td>\n",
       "      <td>32.77</td>\n",
       "    </tr>\n",
       "    <tr>\n",
       "      <td>4</td>\n",
       "      <td>Pokemon Red/Pokemon Blue</td>\n",
       "      <td>GB</td>\n",
       "      <td>1996</td>\n",
       "      <td>Role-Playing</td>\n",
       "      <td>11.27</td>\n",
       "      <td>8.89</td>\n",
       "      <td>10.22</td>\n",
       "      <td>1.00</td>\n",
       "      <td>68.994363</td>\n",
       "      <td>7.12633</td>\n",
       "      <td>NaN</td>\n",
       "      <td>31.38</td>\n",
       "    </tr>\n",
       "    <tr>\n",
       "      <td>...</td>\n",
       "      <td>...</td>\n",
       "      <td>...</td>\n",
       "      <td>...</td>\n",
       "      <td>...</td>\n",
       "      <td>...</td>\n",
       "      <td>...</td>\n",
       "      <td>...</td>\n",
       "      <td>...</td>\n",
       "      <td>...</td>\n",
       "      <td>...</td>\n",
       "      <td>...</td>\n",
       "      <td>...</td>\n",
       "    </tr>\n",
       "    <tr>\n",
       "      <td>16710</td>\n",
       "      <td>Samurai Warriors: Sanada Maru</td>\n",
       "      <td>PS3</td>\n",
       "      <td>2016</td>\n",
       "      <td>Action</td>\n",
       "      <td>0.00</td>\n",
       "      <td>0.00</td>\n",
       "      <td>0.01</td>\n",
       "      <td>0.00</td>\n",
       "      <td>68.994363</td>\n",
       "      <td>7.12633</td>\n",
       "      <td>NaN</td>\n",
       "      <td>0.01</td>\n",
       "    </tr>\n",
       "    <tr>\n",
       "      <td>16711</td>\n",
       "      <td>LMA Manager 2007</td>\n",
       "      <td>X360</td>\n",
       "      <td>2006</td>\n",
       "      <td>Sports</td>\n",
       "      <td>0.00</td>\n",
       "      <td>0.01</td>\n",
       "      <td>0.00</td>\n",
       "      <td>0.00</td>\n",
       "      <td>68.994363</td>\n",
       "      <td>7.12633</td>\n",
       "      <td>NaN</td>\n",
       "      <td>0.01</td>\n",
       "    </tr>\n",
       "    <tr>\n",
       "      <td>16712</td>\n",
       "      <td>Haitaka no Psychedelica</td>\n",
       "      <td>PSV</td>\n",
       "      <td>2016</td>\n",
       "      <td>Adventure</td>\n",
       "      <td>0.00</td>\n",
       "      <td>0.00</td>\n",
       "      <td>0.01</td>\n",
       "      <td>0.00</td>\n",
       "      <td>68.994363</td>\n",
       "      <td>7.12633</td>\n",
       "      <td>NaN</td>\n",
       "      <td>0.01</td>\n",
       "    </tr>\n",
       "    <tr>\n",
       "      <td>16713</td>\n",
       "      <td>Spirits &amp; Spells</td>\n",
       "      <td>GBA</td>\n",
       "      <td>2003</td>\n",
       "      <td>Platform</td>\n",
       "      <td>0.01</td>\n",
       "      <td>0.00</td>\n",
       "      <td>0.00</td>\n",
       "      <td>0.00</td>\n",
       "      <td>68.994363</td>\n",
       "      <td>7.12633</td>\n",
       "      <td>NaN</td>\n",
       "      <td>0.01</td>\n",
       "    </tr>\n",
       "    <tr>\n",
       "      <td>16714</td>\n",
       "      <td>Winning Post 8 2016</td>\n",
       "      <td>PSV</td>\n",
       "      <td>2016</td>\n",
       "      <td>Simulation</td>\n",
       "      <td>0.00</td>\n",
       "      <td>0.00</td>\n",
       "      <td>0.01</td>\n",
       "      <td>0.00</td>\n",
       "      <td>68.994363</td>\n",
       "      <td>7.12633</td>\n",
       "      <td>NaN</td>\n",
       "      <td>0.01</td>\n",
       "    </tr>\n",
       "  </tbody>\n",
       "</table>\n",
       "<p>16444 rows × 12 columns</p>\n",
       "</div>"
      ],
      "text/plain": [
       "                                name platform year_of_release         genre  \\\n",
       "0                         Wii Sports      Wii            2006        Sports   \n",
       "1                  Super Mario Bros.      NES            1985      Platform   \n",
       "2                     Mario Kart Wii      Wii            2008        Racing   \n",
       "3                  Wii Sports Resort      Wii            2009        Sports   \n",
       "4           Pokemon Red/Pokemon Blue       GB            1996  Role-Playing   \n",
       "...                              ...      ...             ...           ...   \n",
       "16710  Samurai Warriors: Sanada Maru      PS3            2016        Action   \n",
       "16711               LMA Manager 2007     X360            2006        Sports   \n",
       "16712        Haitaka no Psychedelica      PSV            2016     Adventure   \n",
       "16713               Spirits & Spells      GBA            2003      Platform   \n",
       "16714            Winning Post 8 2016      PSV            2016    Simulation   \n",
       "\n",
       "       na_sales  eu_sales  jp_sales  other_sales  critic_score  user_score  \\\n",
       "0         41.36     28.96      3.77         8.45     76.000000     8.00000   \n",
       "1         29.08      3.58      6.81         0.77     68.994363     7.12633   \n",
       "2         15.68     12.76      3.79         3.29     82.000000     8.30000   \n",
       "3         15.61     10.93      3.28         2.95     80.000000     8.00000   \n",
       "4         11.27      8.89     10.22         1.00     68.994363     7.12633   \n",
       "...         ...       ...       ...          ...           ...         ...   \n",
       "16710      0.00      0.00      0.01         0.00     68.994363     7.12633   \n",
       "16711      0.00      0.01      0.00         0.00     68.994363     7.12633   \n",
       "16712      0.00      0.00      0.01         0.00     68.994363     7.12633   \n",
       "16713      0.01      0.00      0.00         0.00     68.994363     7.12633   \n",
       "16714      0.00      0.00      0.01         0.00     68.994363     7.12633   \n",
       "\n",
       "      rating  total_sales  \n",
       "0          E        82.54  \n",
       "1        NaN        40.24  \n",
       "2          E        35.52  \n",
       "3          E        32.77  \n",
       "4        NaN        31.38  \n",
       "...      ...          ...  \n",
       "16710    NaN         0.01  \n",
       "16711    NaN         0.01  \n",
       "16712    NaN         0.01  \n",
       "16713    NaN         0.01  \n",
       "16714    NaN         0.01  \n",
       "\n",
       "[16444 rows x 12 columns]"
      ]
     },
     "execution_count": 7,
     "metadata": {},
     "output_type": "execute_result"
    }
   ],
   "source": [
    "#calculating the the total sales for each game\n",
    "\n",
    "games['total_sales'] = games['na_sales'] + games['eu_sales'] + games['jp_sales'] + games['other_sales']\n",
    "\n",
    "games.info()\n",
    "games"
   ]
  },
  {
   "cell_type": "markdown",
   "metadata": {},
   "source": [
    "# Step 3\n",
    "\n",
    "- Look at how many games were released in different years. Is the data for every period significant?\n",
    "\n",
    "- Look at how sales varied from platform to platform. Choose the platforms with the greatest total sales and build a distribution based on data for each year. Find platforms that used to be popular but now have zero sales. How long does it generally take for new platforms to appear and old ones to fade?\n",
    "\n",
    "- Determine what period you should take data for. To do so, look at your answers to the previous questions. The data should allow you to build a prognosis for 2017.\n",
    "\n",
    "- Work only with the data that you've decided is relevant. Disregard the data for previous years.\n",
    "\n",
    "- Which platforms are leading in sales? Which ones are growing or shrinking? Select several potentially profitable platforms.\n",
    "\n",
    "- Build a box plot for the global sales of all games, broken down by platform. Are the differences in sales significant? What about average sales on various platforms? Describe your findings.\n",
    "\n",
    "- Take a look at how user and professional reviews affect sales for one popular platform (you choose). Build a scatter plot and calculate the correlation between reviews and sales. Draw conclusions.\n",
    "\n",
    "- Keeping your conclusions in mind, compare the sales of the same games on other platforms.\n",
    "\n",
    "- Take a look at the general distribution of games by genre. What can we say about the most profitable genres? Can you generalize about genres with high and low sales?"
   ]
  },
  {
   "cell_type": "code",
   "execution_count": 8,
   "metadata": {},
   "outputs": [
    {
     "data": {
      "text/plain": [
       "2008    1427\n",
       "2009    1426\n",
       "2010    1255\n",
       "2007    1197\n",
       "2011    1136\n",
       "2006    1006\n",
       "2005     939\n",
       "2002     829\n",
       "2003     775\n",
       "2004     762\n",
       "2012     653\n",
       "2015     606\n",
       "2014     581\n",
       "2013     544\n",
       "2016     502\n",
       "2001     482\n",
       "1998     379\n",
       "2000     350\n",
       "1999     338\n",
       "1997     289\n",
       "1996     263\n",
       "1995     219\n",
       "1994     121\n",
       "1993      60\n",
       "1981      46\n",
       "1992      43\n",
       "1991      41\n",
       "1982      36\n",
       "1986      21\n",
       "1989      17\n",
       "1983      17\n",
       "1990      16\n",
       "1987      16\n",
       "1988      15\n",
       "1985      14\n",
       "1984      14\n",
       "1980       9\n",
       "Freq: A-DEC, Name: year_of_release, dtype: int64"
      ]
     },
     "execution_count": 8,
     "metadata": {},
     "output_type": "execute_result"
    }
   ],
   "source": [
    "# Step 3. Analyze the data\n",
    "# Looking at how many games were released in different years\n",
    "\n",
    "#looking at the data, the majority of games have been released mid 2010, with less games being released past 2011\n",
    "games['year_of_release'].value_counts()"
   ]
  },
  {
   "cell_type": "code",
   "execution_count": 9,
   "metadata": {},
   "outputs": [
    {
     "name": "stdout",
     "output_type": "stream",
     "text": [
      "<class 'pandas.core.frame.DataFrame'>\n",
      "Int64Index: 31 entries, 16 to 14\n",
      "Data columns (total 2 columns):\n",
      "platform       31 non-null object\n",
      "total_sales    31 non-null float64\n",
      "dtypes: float64(1), object(1)\n",
      "memory usage: 744.0+ bytes\n"
     ]
    },
    {
     "data": {
      "text/plain": [
       "<matplotlib.axes._subplots.AxesSubplot at 0x7fc69072a050>"
      ]
     },
     "execution_count": 9,
     "metadata": {},
     "output_type": "execute_result"
    },
    {
     "data": {
      "image/png": "[encoded data removed]",
      "text/plain": [
       "<Figure size 432x288 with 1 Axes>"
      ]
     },
     "metadata": {
      "needs_background": "light"
     },
     "output_type": "display_data"
    }
   ],
   "source": [
    "# Step 3. Analyze the data\n",
    "# Looking at how sales varied from platform to platform (part #1)\n",
    "\n",
    "game_platform =  games.groupby(['platform'])['total_sales'].sum().reset_index()\n",
    "#print(game_platform)\n",
    "game_platform = game_platform.sort_values('total_sales', ascending=False)\n",
    "game_platform.info()\n",
    "\n",
    "game_platform.head().plot(grid=True, x='platform', y='total_sales', title = 'total sales from best going downward in popularity')\n",
    "\n"
   ]
  },
  {
   "cell_type": "code",
   "execution_count": 10,
   "metadata": {},
   "outputs": [
    {
     "data": {
      "text/plain": [
       "<matplotlib.legend.Legend at 0x7fc69077aa10>"
      ]
     },
     "execution_count": 10,
     "metadata": {},
     "output_type": "execute_result"
    },
    {
     "data": {
      "image/png": "[encoded data removed]",
      "text/plain": [
       "<Figure size 432x288 with 1 Axes>"
      ]
     },
     "metadata": {
      "needs_background": "light"
     },
     "output_type": "display_data"
    }
   ],
   "source": [
    "# Step 3. Analyze the data\n",
    "# Looking at how sales varied from platform to platform (part #2)\n",
    "# making a groupby so we can groupby platform and by total sales\n",
    "\n",
    "games_best = games.groupby(['platform', 'year_of_release'])['total_sales'].sum().reset_index()\n",
    "games_best = games_best.query('platform == [\"PS2\", \"X360\", \"PS3\", \"Wii\", \"PS\"]')\n",
    "#print(games_best)\n",
    "\n",
    "\n",
    "# making a custom column just for graphing by converting year of release to datetime variable\n",
    "games_best['year_of_release_ts'] = games_best['year_of_release'].astype(str)\n",
    "games_best['year_of_release_ts'] = pd.to_datetime(games_best['year_of_release_ts'])\n",
    "\n",
    "# graphing each of the platforms from the top 5 platforms\n",
    "ps2, = plt.plot(games_best.query('platform == \"PS2\"')['year_of_release_ts'].values, games_best.query('platform == \"PS2\"')['total_sales'].values)\n",
    "x360, = plt.plot(games_best.query('platform == \"X360\"')['year_of_release_ts'].values, games_best.query('platform == \"X360\"')['total_sales'].values)\n",
    "ps3, = plt.plot(games_best.query('platform == \"PS3\"')['year_of_release_ts'].values, games_best.query('platform == \"PS3\"')['total_sales'].values)\n",
    "wii, = plt.plot(games_best.query('platform == \"Wii\"')['year_of_release_ts'].values, games_best.query('platform == \"Wii\"')['total_sales'].values)\n",
    "ps, = plt.plot(games_best.query('platform == \"PS\"')['year_of_release_ts'].values, games_best.query('platform == \"PS\"')['total_sales'].values)\n",
    "\n",
    "plt.grid()\n",
    "plt.title('Platform total sales')\n",
    "plt.legend([ps2, x360, ps3, wii, ps], ['PS2', 'X360', 'PS3', 'Wii', 'PS'])"
   ]
  },
  {
   "cell_type": "markdown",
   "metadata": {},
   "source": [
    "# Conclusion from these graphs\n",
    "\n",
    "Generally it takes around 9 years for these platforms to get popular and for old ones to fade out. PS used to be very popular in 1988 as it's peak, but has now died out throughout the years in the early 2000s"
   ]
  },
  {
   "cell_type": "code",
   "execution_count": 11,
   "metadata": {
    "scrolled": false
   },
   "outputs": [
    {
     "data": {
      "text/plain": [
       "<matplotlib.legend.Legend at 0x7fc690086890>"
      ]
     },
     "execution_count": 11,
     "metadata": {},
     "output_type": "execute_result"
    },
    {
     "data": {
      "image/png": "[encoded data removed]",
      "text/plain": [
       "<Figure size 432x288 with 1 Axes>"
      ]
     },
     "metadata": {
      "needs_background": "light"
     },
     "output_type": "display_data"
    }
   ],
   "source": [
    "# Step 3. Analyze the data\n",
    "# Determine what period you should take data for. To do so, look at your answers to the previous questions. \n",
    "# The data should allow you to build a prognosis for 2017.\n",
    "\n",
    "# looking at the previous data, it seems that games past 2012 sold a lot, and is what we want\n",
    "games_top = games[games.year_of_release > 2012]\n",
    "\n",
    "# making a custom column just for graphing by converting year of release to datetime variable\n",
    "games_top['year_of_release_ts'] = games_top['year_of_release'].astype(str)\n",
    "games_top['year_of_release_ts'] = pd.to_datetime(games_top['year_of_release_ts'])\n",
    "\n",
    "games_top_5 = games_top.groupby(['platform', 'year_of_release', 'year_of_release_ts'])['total_sales'].sum().reset_index()\n",
    "\n",
    "#The PS3 console is ahead of the other consoles by 50 million sales\n",
    "games_top.head(15)\n",
    "\n",
    "#Which will grow and which ones will shrink?\n",
    "ps4, = plt.plot(games_top_5.query('platform == \"PS4\"')['year_of_release_ts'].values, games_top_5.query('platform == \"PS4\"')['total_sales'].values)\n",
    "xone, = plt.plot(games_top_5.query('platform == \"XOne\"')['year_of_release_ts'].values, games_top_5.query('platform == \"XOne\"')['total_sales'].values)\n",
    "ds, = plt.plot(games_top_5.query('platform == \"3DS\"')['year_of_release_ts'].values, games_top_5.query('platform == \"3DS\"')['total_sales'].values)\n",
    "wiiu, = plt.plot(games_top_5.query('platform == \"WiiU\"')['year_of_release_ts'].values, games_top_5.query('platform == \"WiiU\"')['total_sales'].values)\n",
    "ps3, = plt.plot(games_top_5.query('platform == \"PS3\"')['year_of_release_ts'].values, games_top_5.query('platform == \"PS3\"')['total_sales'].values)\n",
    "\n",
    "#adding extra stuff for the graph to make it look nicer\n",
    "plt.grid()\n",
    "plt.title('Platform total sales')\n",
    "plt.legend([ps4, xone, ds, wiiu, ps3], ['PS4', 'XONE', '3DS', 'WiiU', 'PS3'])"
   ]
  },
  {
   "cell_type": "markdown",
   "metadata": {},
   "source": [
    "# Conclusion\n",
    "\n",
    "From these graphs, we can see that PS3 and 3DS is declining in sales while the WiiU is on the start of the decline. XOne and PS4 is still very high in terms of sale and is just now starting to drop a bit "
   ]
  },
  {
   "cell_type": "code",
   "execution_count": 12,
   "metadata": {},
   "outputs": [
    {
     "data": {
      "text/html": [
       "<div>\n",
       "<style scoped>\n",
       "    .dataframe tbody tr th:only-of-type {\n",
       "        vertical-align: middle;\n",
       "    }\n",
       "\n",
       "    .dataframe tbody tr th {\n",
       "        vertical-align: top;\n",
       "    }\n",
       "\n",
       "    .dataframe thead th {\n",
       "        text-align: right;\n",
       "    }\n",
       "</style>\n",
       "<table border=\"1\" class=\"dataframe\">\n",
       "  <thead>\n",
       "    <tr style=\"text-align: right;\">\n",
       "      <th></th>\n",
       "      <th>platform</th>\n",
       "      <th>year_of_release</th>\n",
       "      <th>total_sales</th>\n",
       "    </tr>\n",
       "  </thead>\n",
       "  <tbody>\n",
       "    <tr>\n",
       "      <td>0</td>\n",
       "      <td>3DS</td>\n",
       "      <td>2013</td>\n",
       "      <td>56.57</td>\n",
       "    </tr>\n",
       "    <tr>\n",
       "      <td>1</td>\n",
       "      <td>3DS</td>\n",
       "      <td>2014</td>\n",
       "      <td>43.76</td>\n",
       "    </tr>\n",
       "    <tr>\n",
       "      <td>2</td>\n",
       "      <td>3DS</td>\n",
       "      <td>2015</td>\n",
       "      <td>27.78</td>\n",
       "    </tr>\n",
       "    <tr>\n",
       "      <td>3</td>\n",
       "      <td>3DS</td>\n",
       "      <td>2016</td>\n",
       "      <td>15.14</td>\n",
       "    </tr>\n",
       "    <tr>\n",
       "      <td>4</td>\n",
       "      <td>DS</td>\n",
       "      <td>2013</td>\n",
       "      <td>1.54</td>\n",
       "    </tr>\n",
       "    <tr>\n",
       "      <td>5</td>\n",
       "      <td>PC</td>\n",
       "      <td>2013</td>\n",
       "      <td>12.38</td>\n",
       "    </tr>\n",
       "    <tr>\n",
       "      <td>6</td>\n",
       "      <td>PC</td>\n",
       "      <td>2014</td>\n",
       "      <td>13.28</td>\n",
       "    </tr>\n",
       "    <tr>\n",
       "      <td>7</td>\n",
       "      <td>PC</td>\n",
       "      <td>2015</td>\n",
       "      <td>8.52</td>\n",
       "    </tr>\n",
       "    <tr>\n",
       "      <td>8</td>\n",
       "      <td>PC</td>\n",
       "      <td>2016</td>\n",
       "      <td>5.25</td>\n",
       "    </tr>\n",
       "    <tr>\n",
       "      <td>9</td>\n",
       "      <td>PS3</td>\n",
       "      <td>2013</td>\n",
       "      <td>113.25</td>\n",
       "    </tr>\n",
       "    <tr>\n",
       "      <td>10</td>\n",
       "      <td>PS3</td>\n",
       "      <td>2014</td>\n",
       "      <td>47.76</td>\n",
       "    </tr>\n",
       "    <tr>\n",
       "      <td>11</td>\n",
       "      <td>PS3</td>\n",
       "      <td>2015</td>\n",
       "      <td>16.82</td>\n",
       "    </tr>\n",
       "    <tr>\n",
       "      <td>12</td>\n",
       "      <td>PS3</td>\n",
       "      <td>2016</td>\n",
       "      <td>3.60</td>\n",
       "    </tr>\n",
       "    <tr>\n",
       "      <td>13</td>\n",
       "      <td>PS4</td>\n",
       "      <td>2013</td>\n",
       "      <td>25.99</td>\n",
       "    </tr>\n",
       "    <tr>\n",
       "      <td>14</td>\n",
       "      <td>PS4</td>\n",
       "      <td>2014</td>\n",
       "      <td>100.00</td>\n",
       "    </tr>\n",
       "    <tr>\n",
       "      <td>15</td>\n",
       "      <td>PS4</td>\n",
       "      <td>2015</td>\n",
       "      <td>118.90</td>\n",
       "    </tr>\n",
       "    <tr>\n",
       "      <td>16</td>\n",
       "      <td>PS4</td>\n",
       "      <td>2016</td>\n",
       "      <td>69.25</td>\n",
       "    </tr>\n",
       "    <tr>\n",
       "      <td>17</td>\n",
       "      <td>PSP</td>\n",
       "      <td>2013</td>\n",
       "      <td>3.14</td>\n",
       "    </tr>\n",
       "    <tr>\n",
       "      <td>18</td>\n",
       "      <td>PSP</td>\n",
       "      <td>2014</td>\n",
       "      <td>0.24</td>\n",
       "    </tr>\n",
       "    <tr>\n",
       "      <td>19</td>\n",
       "      <td>PSP</td>\n",
       "      <td>2015</td>\n",
       "      <td>0.12</td>\n",
       "    </tr>\n",
       "    <tr>\n",
       "      <td>20</td>\n",
       "      <td>PSV</td>\n",
       "      <td>2013</td>\n",
       "      <td>10.59</td>\n",
       "    </tr>\n",
       "    <tr>\n",
       "      <td>21</td>\n",
       "      <td>PSV</td>\n",
       "      <td>2014</td>\n",
       "      <td>11.90</td>\n",
       "    </tr>\n",
       "    <tr>\n",
       "      <td>22</td>\n",
       "      <td>PSV</td>\n",
       "      <td>2015</td>\n",
       "      <td>6.25</td>\n",
       "    </tr>\n",
       "    <tr>\n",
       "      <td>23</td>\n",
       "      <td>PSV</td>\n",
       "      <td>2016</td>\n",
       "      <td>4.25</td>\n",
       "    </tr>\n",
       "    <tr>\n",
       "      <td>24</td>\n",
       "      <td>Wii</td>\n",
       "      <td>2013</td>\n",
       "      <td>8.59</td>\n",
       "    </tr>\n",
       "    <tr>\n",
       "      <td>25</td>\n",
       "      <td>Wii</td>\n",
       "      <td>2014</td>\n",
       "      <td>3.75</td>\n",
       "    </tr>\n",
       "    <tr>\n",
       "      <td>26</td>\n",
       "      <td>Wii</td>\n",
       "      <td>2015</td>\n",
       "      <td>1.14</td>\n",
       "    </tr>\n",
       "    <tr>\n",
       "      <td>27</td>\n",
       "      <td>Wii</td>\n",
       "      <td>2016</td>\n",
       "      <td>0.18</td>\n",
       "    </tr>\n",
       "    <tr>\n",
       "      <td>28</td>\n",
       "      <td>WiiU</td>\n",
       "      <td>2013</td>\n",
       "      <td>21.65</td>\n",
       "    </tr>\n",
       "    <tr>\n",
       "      <td>29</td>\n",
       "      <td>WiiU</td>\n",
       "      <td>2014</td>\n",
       "      <td>22.03</td>\n",
       "    </tr>\n",
       "    <tr>\n",
       "      <td>30</td>\n",
       "      <td>WiiU</td>\n",
       "      <td>2015</td>\n",
       "      <td>16.35</td>\n",
       "    </tr>\n",
       "    <tr>\n",
       "      <td>31</td>\n",
       "      <td>WiiU</td>\n",
       "      <td>2016</td>\n",
       "      <td>4.60</td>\n",
       "    </tr>\n",
       "    <tr>\n",
       "      <td>32</td>\n",
       "      <td>X360</td>\n",
       "      <td>2013</td>\n",
       "      <td>88.58</td>\n",
       "    </tr>\n",
       "    <tr>\n",
       "      <td>33</td>\n",
       "      <td>X360</td>\n",
       "      <td>2014</td>\n",
       "      <td>34.74</td>\n",
       "    </tr>\n",
       "    <tr>\n",
       "      <td>34</td>\n",
       "      <td>X360</td>\n",
       "      <td>2015</td>\n",
       "      <td>11.96</td>\n",
       "    </tr>\n",
       "    <tr>\n",
       "      <td>35</td>\n",
       "      <td>X360</td>\n",
       "      <td>2016</td>\n",
       "      <td>1.52</td>\n",
       "    </tr>\n",
       "    <tr>\n",
       "      <td>36</td>\n",
       "      <td>XOne</td>\n",
       "      <td>2013</td>\n",
       "      <td>18.96</td>\n",
       "    </tr>\n",
       "    <tr>\n",
       "      <td>37</td>\n",
       "      <td>XOne</td>\n",
       "      <td>2014</td>\n",
       "      <td>54.07</td>\n",
       "    </tr>\n",
       "    <tr>\n",
       "      <td>38</td>\n",
       "      <td>XOne</td>\n",
       "      <td>2015</td>\n",
       "      <td>60.14</td>\n",
       "    </tr>\n",
       "    <tr>\n",
       "      <td>39</td>\n",
       "      <td>XOne</td>\n",
       "      <td>2016</td>\n",
       "      <td>26.15</td>\n",
       "    </tr>\n",
       "  </tbody>\n",
       "</table>\n",
       "</div>"
      ],
      "text/plain": [
       "   platform year_of_release  total_sales\n",
       "0       3DS            2013        56.57\n",
       "1       3DS            2014        43.76\n",
       "2       3DS            2015        27.78\n",
       "3       3DS            2016        15.14\n",
       "4        DS            2013         1.54\n",
       "5        PC            2013        12.38\n",
       "6        PC            2014        13.28\n",
       "7        PC            2015         8.52\n",
       "8        PC            2016         5.25\n",
       "9       PS3            2013       113.25\n",
       "10      PS3            2014        47.76\n",
       "11      PS3            2015        16.82\n",
       "12      PS3            2016         3.60\n",
       "13      PS4            2013        25.99\n",
       "14      PS4            2014       100.00\n",
       "15      PS4            2015       118.90\n",
       "16      PS4            2016        69.25\n",
       "17      PSP            2013         3.14\n",
       "18      PSP            2014         0.24\n",
       "19      PSP            2015         0.12\n",
       "20      PSV            2013        10.59\n",
       "21      PSV            2014        11.90\n",
       "22      PSV            2015         6.25\n",
       "23      PSV            2016         4.25\n",
       "24      Wii            2013         8.59\n",
       "25      Wii            2014         3.75\n",
       "26      Wii            2015         1.14\n",
       "27      Wii            2016         0.18\n",
       "28     WiiU            2013        21.65\n",
       "29     WiiU            2014        22.03\n",
       "30     WiiU            2015        16.35\n",
       "31     WiiU            2016         4.60\n",
       "32     X360            2013        88.58\n",
       "33     X360            2014        34.74\n",
       "34     X360            2015        11.96\n",
       "35     X360            2016         1.52\n",
       "36     XOne            2013        18.96\n",
       "37     XOne            2014        54.07\n",
       "38     XOne            2015        60.14\n",
       "39     XOne            2016        26.15"
      ]
     },
     "execution_count": 12,
     "metadata": {},
     "output_type": "execute_result"
    },
    {
     "data": {
      "image/png": "[encoded data removed]",
      "text/plain": [
       "<Figure size 432x288 with 1 Axes>"
      ]
     },
     "metadata": {
      "needs_background": "light"
     },
     "output_type": "display_data"
    }
   ],
   "source": [
    "# Step 3. Analyze the data\n",
    "# Build a box plot for the global sales of all games, broken down by platform. \n",
    "# Are the differences in sales significant? \n",
    "# What about average sales on various platforms? \n",
    "# Describe your findings.\n",
    "\n",
    "games_top_plots = games_top.groupby(['platform', 'year_of_release'])['total_sales'].sum().reset_index()\n",
    "\n",
    "games_top_plots.boxplot()\n",
    "\n",
    "#labels = ['2012 games and onward total sales']\n",
    "#plt.show()\n",
    "\n",
    "games_top_plots\n",
    "\n",
    "#games_top.boxplot()"
   ]
  },
  {
   "cell_type": "markdown",
   "metadata": {},
   "source": [
    "# Conclusion from the total_sales box plot\n",
    "\n",
    "This boxplot shows the overall total_sales without any filters, showing that the median of platforms sell for around 18 million, while there are some outliers near 120 million."
   ]
  },
  {
   "cell_type": "code",
   "execution_count": 13,
   "metadata": {},
   "outputs": [
    {
     "name": "stdout",
     "output_type": "stream",
     "text": [
      "PS4 mean of total sales\n",
      "total_sales    78.535\n",
      "dtype: float64\n",
      "\n",
      "XBOX ONE mean of total sales\n",
      "total_sales    39.83\n",
      "dtype: float64\n",
      "\n",
      "3DS mean of total sales\n",
      "total_sales    35.8125\n",
      "dtype: float64\n",
      "\n",
      "PS3 mean of total sales\n",
      "total_sales    45.3575\n",
      "dtype: float64\n",
      "\n",
      "XBOX 360 mean of total sales\n",
      "total_sales    34.2\n",
      "dtype: float64\n"
     ]
    },
    {
     "data": {
      "text/plain": [
       "Text(0.5, 1.0, 'Total number of sales for each platform')"
      ]
     },
     "execution_count": 13,
     "metadata": {},
     "output_type": "execute_result"
    },
    {
     "data": {
      "image/png": "[encoded data removed]",
      "text/plain": [
       "<Figure size 432x288 with 1 Axes>"
      ]
     },
     "metadata": {
      "needs_background": "light"
     },
     "output_type": "display_data"
    }
   ],
   "source": [
    "# Step 3. Analyze the data\n",
    "# Build a box plot for the global sales of all games, broken down by platform \"PS4\". \n",
    "# Are the differences in sales significant? \n",
    "# What about average sales on various platforms? \n",
    "# Describe your findings.\n",
    "\n",
    "\n",
    "\n",
    "games_PS4 = games_top_plots.query('platform == [\"PS4\"]').groupby(['platform', 'year_of_release'])['total_sales'].sum().reset_index()\n",
    "games_XOne = games_top_plots.query('platform == [\"XOne\"]').groupby(['platform', 'year_of_release'])['total_sales'].sum().reset_index()\n",
    "games_3DS = games_top_plots.query('platform == [\"3DS\"]').groupby(['platform', 'year_of_release'])['total_sales'].sum().reset_index()\n",
    "games_PS3 = games_top_plots.query('platform == [\"PS3\"]').groupby(['platform', 'year_of_release'])['total_sales'].sum().reset_index()\n",
    "games_X360 = games_top_plots.query('platform == [\"X360\"]').groupby(['platform', 'year_of_release'])['total_sales'].sum().reset_index()\n",
    "\n",
    "\n",
    "#printing out the means of total sales\n",
    "print('PS4 mean of total sales')\n",
    "print(games_PS4.mean())\n",
    "print('\\nXBOX ONE mean of total sales')\n",
    "print(games_XOne.mean())\n",
    "print('\\n3DS mean of total sales')\n",
    "print(games_3DS.mean())\n",
    "print('\\nPS3 mean of total sales')\n",
    "print(games_PS3.mean())\n",
    "print('\\nXBOX 360 mean of total sales')\n",
    "print(games_X360.mean())\n",
    "\n",
    "#printing out the boxplots\n",
    "plt.boxplot([games_top_plots.query('platform == [\"PS4\"]')['total_sales'].values, \n",
    "             games_top_plots.query('platform == [\"XOne\"]')['total_sales'].values,\n",
    "            games_top_plots.query('platform == [\"3DS\"]')['total_sales'].values,\n",
    "            games_top_plots.query('platform == [\"PS3\"]')['total_sales'].values,\n",
    "            games_top_plots.query('platform == [\"X360\"]')['total_sales'].values])\n",
    "\n",
    "#titling and formatting\n",
    "plt.xticks([1, 2, 3, 4, 5], ['PS4', 'XBOX', '3DS', 'PS3','X360'])\n",
    "plt.grid()\n",
    "plt.xlabel('Platforms')\n",
    "plt.ylabel('Number of total sales')\n",
    "plt.title('Total number of sales for each platform')"
   ]
  },
  {
   "cell_type": "markdown",
   "metadata": {},
   "source": [
    "# Conclusion from the platform box plot\n",
    "\n",
    "From what I can see from the box plot, the PS4 has the highest amount of total sales, with a higher median and highest peak compared to all others. The PS3 had some outliers, but still also proves to sell well. However, from looking at previous graphs showing the colored total sales, the PS3 Platform is dying. Perhaps the total sales were just from a previous peak."
   ]
  },
  {
   "cell_type": "markdown",
   "metadata": {},
   "source": [
    "# Conclusion from box plot\n",
    "\n",
    "The differences in sales are pretty significant. A lot of the games have been sold at around the 20-40 million range, but there are some particular outliers that have sold games over 100 million.\n",
    "\n",
    "The PS4 graph shows that in terms of platforms, PS4 out performs the rest. The rest of the graphs show that they are below 50 around the median, while PS4 shows it's median being at 80+. Perhaps the PS4 is the reason why there is an outlier in the overall graph\n"
   ]
  },
  {
   "cell_type": "code",
   "execution_count": 14,
   "metadata": {},
   "outputs": [
    {
     "name": "stdout",
     "output_type": "stream",
     "text": [
      "             total_sales  user_score\n",
      "total_sales     1.000000   -0.045454\n",
      "user_score     -0.045454    1.000000\n",
      "\n",
      "              critic_score  total_sales\n",
      "critic_score      1.000000     0.348896\n",
      "total_sales       0.348896     1.000000\n"
     ]
    },
    {
     "data": {
      "text/plain": [
       "<matplotlib.axes._subplots.AxesSubplot at 0x7fc687c50c10>"
      ]
     },
     "execution_count": 14,
     "metadata": {},
     "output_type": "execute_result"
    },
    {
     "data": {
      "image/png": "[encoded data removed]",
      "text/plain": [
       "<Figure size 432x288 with 1 Axes>"
      ]
     },
     "metadata": {
      "needs_background": "light"
     },
     "output_type": "display_data"
    },
    {
     "data": {
      "image/png": "[encoded data removed]",
      "text/plain": [
       "<Figure size 432x288 with 1 Axes>"
      ]
     },
     "metadata": {
      "needs_background": "light"
     },
     "output_type": "display_data"
    }
   ],
   "source": [
    "# Step 3: Analyze the data\n",
    "# Compare user and professional reviews affecting sales\n",
    "# Take a look at how user and professional reviews affect sales for one popular platform (choose \"PS4\"). \n",
    "# Build a scatter plot and calculate the correlation between reviews and critic_score and user_scores via sales.\n",
    "games_top_user_score_pivot = games_top.pivot_table(index=['name', 'platform'], values = ['user_score', 'total_sales'])\n",
    "games_user_score_ps4_pivot = games_top_user_score_pivot.query('platform == [\"PS4\"]')\n",
    "\n",
    "#finding correlation and making scatter plot\n",
    "user_score_sales_corr_ps4 = games_user_score_ps4_pivot.corr()\n",
    "print(user_score_sales_corr_ps4)\n",
    "games_user_score_ps4_pivot.plot(x= 'user_score', y = 'total_sales', kind='scatter', title = 'PS4 user score correlation with total sales')\n",
    "\n",
    "#spacing between correlation\n",
    "print()\n",
    "\n",
    "#doing the same thing again but for critic score\n",
    "games_top_critic_score_pivot = games_top.pivot_table(index=['name', 'platform'], values = ['critic_score', 'total_sales'])\n",
    "games_critic_score_ps4_pivot = games_top_critic_score_pivot.query('platform == [\"PS4\"]')\n",
    "\n",
    "\n",
    "corr_ps4 = games_critic_score_ps4_pivot.corr()\n",
    "print(corr_ps4)\n",
    "games_critic_score_ps4_pivot.plot(x= 'critic_score', y = 'total_sales', kind='scatter', title = 'PS4 critic score correlation with total sales')"
   ]
  },
  {
   "cell_type": "markdown",
   "metadata": {},
   "source": [
    "# Conclusion based on scatter and correlation\n",
    "\n",
    "There is a correlation between total sales and critic/user scores, though not very high. Just by looking at the graph, you can make the assumption that the better the score, the more sales the game will make. However, the correlation just isn't as linear as I would've wanted it to be."
   ]
  },
  {
   "cell_type": "code",
   "execution_count": 15,
   "metadata": {
    "scrolled": false
   },
   "outputs": [
    {
     "name": "stdout",
     "output_type": "stream",
     "text": [
      "             total_sales  user_score\n",
      "total_sales     1.000000   -0.089634\n",
      "user_score     -0.089634    1.000000\n",
      "\n",
      "              critic_score  total_sales\n",
      "critic_score      1.000000     0.371477\n",
      "total_sales       0.371477     1.000000\n"
     ]
    },
    {
     "data": {
      "text/plain": [
       "<matplotlib.axes._subplots.AxesSubplot at 0x7fc687d43450>"
      ]
     },
     "execution_count": 15,
     "metadata": {},
     "output_type": "execute_result"
    },
    {
     "data": {
      "image/png": "[encoded data removed]",
      "text/plain": [
       "<Figure size 432x288 with 1 Axes>"
      ]
     },
     "metadata": {
      "needs_background": "light"
     },
     "output_type": "display_data"
    },
    {
     "data": {
      "image/png": "[encoded data removed]",
      "text/plain": [
       "<Figure size 432x288 with 1 Axes>"
      ]
     },
     "metadata": {
      "needs_background": "light"
     },
     "output_type": "display_data"
    }
   ],
   "source": [
    "# Step 3: Analyze the data\n",
    "# Compare user and professional reviews affecting sales\n",
    "# Take a look at how user and professional reviews affect sales for one popular platform (choose \"PS4\"). \n",
    "# Build a scatter plot and calculate the correlation between reviews and critic_score and user_scores via sales.\n",
    "\n",
    "#making a pivot table for xbox \n",
    "games_top_user_score_pivot = games_top.pivot_table(index=['name', 'platform'], values = ['user_score', 'total_sales'])\n",
    "games_user_score_xbox_pivot = games_top_user_score_pivot.query('platform == [\"XOne\"]')\n",
    "\n",
    "#finding correlation and making scatter plot\n",
    "user_score_sales_corr_xbox = games_user_score_xbox_pivot.corr()\n",
    "print(user_score_sales_corr_xbox)\n",
    "games_user_score_xbox_pivot.plot(x= 'user_score', y = 'total_sales', kind='scatter', title = 'XBOX ONE user score correlation with total sales')\n",
    "\n",
    "#spacing between correlation\n",
    "print()\n",
    "\n",
    "#doing the same thing again but for critic score\n",
    "games_top_critic_score_pivot = games_top.pivot_table(index=['name', 'platform'], values = ['critic_score', 'total_sales'])\n",
    "games_critic_score_xbox_pivot = games_top_critic_score_pivot.query('platform == [\"XOne\"]')\n",
    "\n",
    "\n",
    "corr_xbox = games_critic_score_xbox_pivot.corr()\n",
    "print(corr_xbox)\n",
    "games_critic_score_xbox_pivot.plot(x= 'critic_score', y = 'total_sales', kind='scatter', title = 'XBOX ONE critic score correlation with total sales')"
   ]
  },
  {
   "cell_type": "markdown",
   "metadata": {},
   "source": [
    "# Comparing with PS4 scatterplot and data\n",
    "\n",
    "The correlations listed from XBOX ONE is a lot weaker compared to the correlations from the PS4."
   ]
  },
  {
   "cell_type": "code",
   "execution_count": 16,
   "metadata": {},
   "outputs": [
    {
     "data": {
      "text/html": [
       "<div>\n",
       "<style scoped>\n",
       "    .dataframe tbody tr th:only-of-type {\n",
       "        vertical-align: middle;\n",
       "    }\n",
       "\n",
       "    .dataframe tbody tr th {\n",
       "        vertical-align: top;\n",
       "    }\n",
       "\n",
       "    .dataframe thead th {\n",
       "        text-align: right;\n",
       "    }\n",
       "</style>\n",
       "<table border=\"1\" class=\"dataframe\">\n",
       "  <thead>\n",
       "    <tr style=\"text-align: right;\">\n",
       "      <th></th>\n",
       "      <th>total_sales</th>\n",
       "    </tr>\n",
       "    <tr>\n",
       "      <th>genre</th>\n",
       "      <th></th>\n",
       "    </tr>\n",
       "  </thead>\n",
       "  <tbody>\n",
       "    <tr>\n",
       "      <td>Shooter</td>\n",
       "      <td>1.245882</td>\n",
       "    </tr>\n",
       "    <tr>\n",
       "      <td>Sports</td>\n",
       "      <td>0.703972</td>\n",
       "    </tr>\n",
       "    <tr>\n",
       "      <td>Platform</td>\n",
       "      <td>0.576081</td>\n",
       "    </tr>\n",
       "    <tr>\n",
       "      <td>Role-Playing</td>\n",
       "      <td>0.499623</td>\n",
       "    </tr>\n",
       "    <tr>\n",
       "      <td>Racing</td>\n",
       "      <td>0.469294</td>\n",
       "    </tr>\n",
       "    <tr>\n",
       "      <td>Fighting</td>\n",
       "      <td>0.441375</td>\n",
       "    </tr>\n",
       "    <tr>\n",
       "      <td>Action</td>\n",
       "      <td>0.420196</td>\n",
       "    </tr>\n",
       "    <tr>\n",
       "      <td>Misc</td>\n",
       "      <td>0.405290</td>\n",
       "    </tr>\n",
       "    <tr>\n",
       "      <td>Simulation</td>\n",
       "      <td>0.350968</td>\n",
       "    </tr>\n",
       "    <tr>\n",
       "      <td>Puzzle</td>\n",
       "      <td>0.186471</td>\n",
       "    </tr>\n",
       "    <tr>\n",
       "      <td>Strategy</td>\n",
       "      <td>0.180000</td>\n",
       "    </tr>\n",
       "    <tr>\n",
       "      <td>Adventure</td>\n",
       "      <td>0.096490</td>\n",
       "    </tr>\n",
       "  </tbody>\n",
       "</table>\n",
       "</div>"
      ],
      "text/plain": [
       "              total_sales\n",
       "genre                    \n",
       "Shooter          1.245882\n",
       "Sports           0.703972\n",
       "Platform         0.576081\n",
       "Role-Playing     0.499623\n",
       "Racing           0.469294\n",
       "Fighting         0.441375\n",
       "Action           0.420196\n",
       "Misc             0.405290\n",
       "Simulation       0.350968\n",
       "Puzzle           0.186471\n",
       "Strategy         0.180000\n",
       "Adventure        0.096490"
      ]
     },
     "execution_count": 16,
     "metadata": {},
     "output_type": "execute_result"
    }
   ],
   "source": [
    "# Step 3: Analyze the data\n",
    "\n",
    "#making a pivot table to see most profitable genre\n",
    "games_genre_pivot = games_top.pivot_table(index=['genre'], values = ['total_sales'])\n",
    "games_genre_pivot = games_genre_pivot.sort_values('total_sales', ascending=False)\n",
    "games_genre_pivot"
   ]
  },
  {
   "cell_type": "markdown",
   "metadata": {},
   "source": [
    "# Conclusion for genres\n",
    "\n",
    "Just by judging by the pivot table, we can immediately see that the shooter genre is the most profitable, while adventure games are severely lacking selling the least amount."
   ]
  },
  {
   "cell_type": "markdown",
   "metadata": {},
   "source": [
    "# Conclusion for step 3\n",
    "\n",
    "From all the consoles, the PS4 is doing the best, and the best selling genre is shooter, while the worst is adventure. There is correlation with critic/user scores and total sales, but not very high. From the graphs, we were able to find that each platform generlaly dies out within 9 years"
   ]
  },
  {
   "cell_type": "markdown",
   "metadata": {},
   "source": [
    "# Step 4\n",
    "\n",
    "For each region (NA, EU, JP), determine:\n",
    "\n",
    "    The top five platforms. Describe variations in their market shares from region to region.\n",
    "\n",
    "    The top five genres. Explain the difference.\n",
    "\n",
    "    Do ESRB ratings affect sales in individual regions?"
   ]
  },
  {
   "cell_type": "code",
   "execution_count": 17,
   "metadata": {},
   "outputs": [
    {
     "name": "stdout",
     "output_type": "stream",
     "text": [
      "na top 5 platforms\n",
      "          na_sales\n",
      "platform          \n",
      "X360      0.439032\n",
      "XOne      0.377004\n",
      "Wii       0.285217\n",
      "PS4       0.277398\n",
      "WiiU      0.254000\n",
      "\n",
      "eu top 5 platforms\n",
      "          eu_sales\n",
      "platform          \n",
      "PS4       0.359923\n",
      "Wii       0.257826\n",
      "X360      0.228602\n",
      "XOne      0.208866\n",
      "PS3       0.196551\n",
      "\n",
      "jp top 5 platforms\n",
      "          jp_sales\n",
      "platform          \n",
      "3DS       0.223795\n",
      "WiiU      0.094609\n",
      "PS3       0.067681\n",
      "PSV       0.051927\n",
      "PSP       0.049104\n"
     ]
    }
   ],
   "source": [
    "#groupby platform\n",
    "games_top_na = games_top.pivot_table(index=['platform'], values = ['rating', 'na_sales'])\n",
    "games_top_eu = games_top.pivot_table(index=['platform'], values = ['rating', 'eu_sales'])\n",
    "games_top_jp = games_top.pivot_table(index=['platform'], values = ['rating', 'jp_sales'])\n",
    "\n",
    "games_top_na = games_top_na.sort_values('na_sales', ascending=False)\n",
    "games_top_eu = games_top_eu.sort_values('eu_sales', ascending=False)\n",
    "games_top_jp = games_top_jp.sort_values('jp_sales', ascending=False)\n",
    "\n",
    "\n",
    "print('na top 5 platforms')\n",
    "print(games_top_na.head())\n",
    "print('\\neu top 5 platforms')\n",
    "print(games_top_eu.head())\n",
    "print('\\njp top 5 platforms')\n",
    "print(games_top_jp.head())"
   ]
  },
  {
   "cell_type": "markdown",
   "metadata": {},
   "source": [
    "# Results from the tables\n",
    "\n",
    "For JP, the 3DS was the most successful, which is interesting because the 3DS doesn't appear in any other region in the top 5. \n",
    "\n",
    "It is also worth noting that for japan, the sales are much lower compared to other regions, where the 3ds is the only platform that surpasses 100k sales. \n",
    "\n",
    "For EU, the Wii did the best, while the PS4 isn't too far behind. \n",
    "\n",
    "And for NA, the XBOX 360 did the best, while the Wii is behind just a little bit"
   ]
  },
  {
   "cell_type": "code",
   "execution_count": 18,
   "metadata": {},
   "outputs": [
    {
     "name": "stdout",
     "output_type": "stream",
     "text": [
      "na top 5 genres\n",
      "          na_sales\n",
      "genre             \n",
      "Shooter   0.586845\n",
      "Sports    0.305000\n",
      "Platform  0.245135\n",
      "Fighting  0.194375\n",
      "Misc      0.177355\n",
      "\n",
      "eu top 5 genres\n",
      "            eu_sales\n",
      "genre               \n",
      "Shooter     0.469840\n",
      "Sports      0.282804\n",
      "Racing      0.237529\n",
      "Platform    0.210541\n",
      "Simulation  0.176129\n",
      "\n",
      "jp top 5 genres\n",
      "              jp_sales\n",
      "genre                 \n",
      "Role-Playing  0.174795\n",
      "Fighting      0.095625\n",
      "Simulation    0.072903\n",
      "Puzzle        0.069412\n",
      "Platform      0.064730\n"
     ]
    }
   ],
   "source": [
    "#groupby genre\n",
    "games_top_na = games_top.pivot_table(index=['genre'], values = ['rating', 'na_sales'])\n",
    "games_top_eu = games_top.pivot_table(index=['genre'], values = ['rating', 'eu_sales'])\n",
    "games_top_jp = games_top.pivot_table(index=['genre'], values = ['rating', 'jp_sales'])\n",
    "\n",
    "games_top_na = games_top_na.sort_values('na_sales', ascending=False)\n",
    "games_top_eu = games_top_eu.sort_values('eu_sales', ascending=False)\n",
    "games_top_jp = games_top_jp.sort_values('jp_sales', ascending=False)\n",
    "\n",
    "\n",
    "print('na top 5 genres')\n",
    "print(games_top_na.head())\n",
    "print('\\neu top 5 genres')\n",
    "print(games_top_eu.head())\n",
    "print('\\njp top 5 genres')\n",
    "print(games_top_jp.head())"
   ]
  },
  {
   "cell_type": "markdown",
   "metadata": {},
   "source": [
    "# Results from the tables\n",
    "\n",
    "For every other region other than JP, the shooter genre is the most successful and popular. For JP, Role-Playing is the top genre, while shooter isn't even on JP's top 5 genre list. Instead, JP has higher sales in Fighting, Puzzle, Simuilation, and finally Platform. Though, it is worth noting that JP has significantly less sales then NA and EU.\n",
    "\n",
    "For both NA and EU, Shooter and Sports are the top two in the same order, while for NA, platforming, fighting, and misc comes after.\n",
    "\n",
    "For EU, racing, Platform, and Simulation are the rest on the list."
   ]
  },
  {
   "cell_type": "code",
   "execution_count": 19,
   "metadata": {
    "scrolled": true
   },
   "outputs": [
    {
     "name": "stdout",
     "output_type": "stream",
     "text": [
      "na top ratings\n",
      "  rating  na_sales\n",
      "2      M    165.21\n",
      "0      E     79.05\n",
      "1   E10+     54.24\n",
      "3      T     49.79\n",
      "\n",
      "eu top ratings\n",
      "  rating  eu_sales\n",
      "2      M    145.32\n",
      "0      E     83.36\n",
      "1   E10+     42.69\n",
      "3      T     41.95\n",
      "\n",
      "jp top ratings\n",
      "  rating  jp_sales\n",
      "3      T     20.59\n",
      "0      E     15.14\n",
      "2      M     14.11\n",
      "1   E10+      5.89\n"
     ]
    }
   ],
   "source": [
    "#removing nulls on any rows without rating\n",
    "games_top_no_null = games_top.dropna()\n",
    "\n",
    "#groupby rating\n",
    "game_rating_na =  games_top_no_null.groupby(['rating'])['na_sales'].sum().reset_index()\n",
    "game_rating_eu =  games_top_no_null.groupby(['rating'])['eu_sales'].sum().reset_index()\n",
    "game_rating_jp =  games_top_no_null.groupby(['rating'])['jp_sales'].sum().reset_index()\n",
    "\n",
    "game_rating_na = game_rating_na.sort_values('na_sales', ascending=False)\n",
    "game_rating_eu = game_rating_eu.sort_values('eu_sales', ascending=False)\n",
    "game_rating_jp = game_rating_jp.sort_values('jp_sales', ascending=False)\n",
    "\n",
    "print('na top ratings')\n",
    "print(game_rating_na)\n",
    "print('\\neu top ratings')\n",
    "print(game_rating_eu)\n",
    "print('\\njp top ratings')\n",
    "print(game_rating_jp)"
   ]
  },
  {
   "cell_type": "markdown",
   "metadata": {},
   "source": [
    "# Results from the tables\n",
    "\n",
    "ESRB does in fact affect sales in certain regions. For JP, T is the most popular rating that is most sold, while in comparison to NA and EU, T is near the bottom. \n",
    "\n",
    "For NA and EU, M is the most popular, followed by E, then either T or E10+. \n",
    "\n",
    "Results makes sense comparing to genre, because generally shooters are considered rated M, while role-playing games generally gets a T rating."
   ]
  },
  {
   "cell_type": "markdown",
   "metadata": {},
   "source": [
    "# Conclusion for step 4\n",
    "\n",
    "From my observations NA and EU follow closely together in sales and genres. Both regions like shooters a lot, and cater towards the M rating. NA likes the XBOX 360 the most, while EU likes the Wii. \n",
    "\n",
    "JP on the other hand has different overall taste in terms of genre, being Role-playing, and having it's most popular platform being the 3DS. Granted, sales are a lot lower than the other regions, it's still very interesting to observe. "
   ]
  },
  {
   "cell_type": "markdown",
   "metadata": {},
   "source": [
    "# Step 5\n",
    "\n",
    "Average user ratings of the Xbox One and PC platforms are the same.\n",
    "\n",
    "Average user ratings for the Action and Sports genres are different.\n",
    "\n",
    "Set the alpha threshold value yourself.\n",
    "\n",
    "Explain:\n",
    "\n",
    "    —How you formulated the null and alternative hypotheses\n",
    "    —What significance level you chose to test the hypotheses, and why\n"
   ]
  },
  {
   "cell_type": "markdown",
   "metadata": {},
   "source": [
    "# Null hypothesis\n",
    "\n",
    "The null hypothesis:\n",
    "- h0 is to see if the average user rating of XBOX One is the same user rating as PC\n",
    "- h1 is to see if the average user rating of XBOX One is not the same user rating as PC"
   ]
  },
  {
   "cell_type": "code",
   "execution_count": 20,
   "metadata": {},
   "outputs": [
    {
     "name": "stdout",
     "output_type": "stream",
     "text": [
      "p-value: 0.06817560404247579\n",
      "We can't reject the null hypothesis\n"
     ]
    }
   ],
   "source": [
    "PC_games_top = games_top.query('platform == \"PC\"')\n",
    "XBOX_games_top = games_top.query('platform == \"XOne\"')\n",
    "\n",
    "alpha = 0.05\n",
    "\n",
    "results = st.ttest_ind(PC_games_top['user_score'], XBOX_games_top['user_score'], equal_var = False)\n",
    "\n",
    "print('p-value:', results.pvalue)\n",
    "\n",
    "if(results.pvalue < alpha):\n",
    "    print('We reject the null hypothesis')\n",
    "else:\n",
    "    print(\"We can't reject the null hypothesis\")\n",
    "    \n"
   ]
  },
  {
   "cell_type": "markdown",
   "metadata": {},
   "source": [
    "# Conclusion and explanation\n",
    "\n",
    "I set the alpha at 0.05 because the majority of the data will be in the 95 percent, and it's just a basic standard \n",
    "\n",
    "that will work well for these type of tests\n",
    "\n",
    "\n",
    "\n",
    "CONCLUSION FROM THIS TEST\n",
    "\n",
    "    The means are statistically different with a significance alpha value of 0.5, therefore We CAN'T REJECT the NULL HYPOTHESIS"
   ]
  },
  {
   "cell_type": "markdown",
   "metadata": {},
   "source": [
    "# Null hypothesis\n",
    "\n",
    "The null hypothesis:\n",
    "- h0 is to see if the average user rating of the action genre is the same user rating as the sports genre\n",
    "- h1 is to see if the average user rating of action genre is not the same user rating as sports genre"
   ]
  },
  {
   "cell_type": "code",
   "execution_count": 21,
   "metadata": {},
   "outputs": [
    {
     "name": "stdout",
     "output_type": "stream",
     "text": [
      "p-value: 1.4084155169856942e-20\n",
      "We reject the null hypothesis\n"
     ]
    }
   ],
   "source": [
    "action_games_top = games_top.query('genre == \"Action\"')\n",
    "sports_games_top = games_top.query('genre == \"Sports\"')\n",
    "\n",
    "alpha = 0.05\n",
    "\n",
    "results = st.ttest_ind(action_games_top['user_score'], sports_games_top['user_score'], equal_var = False)\n",
    "\n",
    "print('p-value:', results.pvalue)\n",
    "\n",
    "if(results.pvalue < alpha):\n",
    "    print('We reject the null hypothesis')\n",
    "else:\n",
    "    print(\"We can't reject the null hypothesis\")"
   ]
  },
  {
   "cell_type": "markdown",
   "metadata": {},
   "source": [
    "# Conclusion\n",
    "\n",
    "I set the alpha at 0.05 because the majority of the data will be in the 95 percent, and it's just a basic standard \n",
    "\n",
    "that will work well for these type of tests\n",
    "\n",
    "CONCLUSION FROM THIS TEST\n",
    "\n",
    "    The means are statistically different with a significance alpha value of 0.5, therefore We REJECT the NULL HYPOTHESIS  "
   ]
  },
  {
   "cell_type": "markdown",
   "metadata": {},
   "source": [
    "# Overall Conclusion\n",
    "\n",
    "It seems that currently, the best games that would sell well are shooters that have an M ESRB rating. For the JP market, it is worth noting that role playing games with an T ESRB rating on the 3DS will sell very well, just not nearly as high sales compared to NA and EU.\n",
    "\n",
    "Concering platforms, the top platforms that still haven't faded away are the PS4, XBOX ONE, and soon to be faded 3DS for the JP region. It is worth nothing that generally consoles fade away in 9 years prior to release, so the PS4 and XBOX ONE will still have some time left before they fade.\n",
    "\n",
    "Concering correlation between reviews and total sales, I've found that there is a slight correlation between user/critic scores and sales, but not as huge of a difference as I have thought. According to the graph, the higher the score, the higher the sales, but this only really reflects on games with high user/critic scores.\n",
    "\n",
    "From the null hypotheses that I have tested, we can't reject the null hypotheses that the average user rating is the same as PC. From this, we can conclude that perhaps PC released games is also worth investing into."
   ]
  }
 ],
 "metadata": {
  "ExecuteTimeLog": [
   {
    "duration": 1599,
    "start_time": "2021-10-03T01:53:22.893Z"
   },
   {
    "duration": 254,
    "start_time": "2021-10-03T01:54:47.646Z"
   },
   {
    "duration": 35,
    "start_time": "2021-10-03T01:54:51.245Z"
   },
   {
    "duration": 30,
    "start_time": "2021-10-03T07:07:34.582Z"
   },
   {
    "duration": 25,
    "start_time": "2021-10-03T07:07:57.498Z"
   },
   {
    "duration": 36,
    "start_time": "2021-10-03T07:08:09.398Z"
   },
   {
    "duration": 30,
    "start_time": "2021-10-03T08:33:31.660Z"
   },
   {
    "duration": 101,
    "start_time": "2021-10-03T08:33:45.388Z"
   },
   {
    "duration": 28,
    "start_time": "2021-10-03T08:33:50.240Z"
   },
   {
    "duration": 5,
    "start_time": "2021-10-03T08:34:08.212Z"
   },
   {
    "duration": 253,
    "start_time": "2021-10-03T08:34:08.221Z"
   },
   {
    "duration": 31,
    "start_time": "2021-10-03T08:34:09.738Z"
   },
   {
    "duration": 29,
    "start_time": "2021-10-03T08:34:21.839Z"
   },
   {
    "duration": 14,
    "start_time": "2021-10-03T09:36:19.912Z"
   },
   {
    "duration": 41,
    "start_time": "2021-10-03T10:08:05.769Z"
   },
   {
    "duration": 43,
    "start_time": "2021-10-03T10:24:11.689Z"
   },
   {
    "duration": 4,
    "start_time": "2021-10-03T10:24:17.344Z"
   },
   {
    "duration": 247,
    "start_time": "2021-10-03T10:24:17.351Z"
   },
   {
    "duration": 30,
    "start_time": "2021-10-03T10:24:17.601Z"
   },
   {
    "duration": 41,
    "start_time": "2021-10-03T10:24:20.288Z"
   },
   {
    "duration": 5,
    "start_time": "2021-10-03T10:26:37.308Z"
   },
   {
    "duration": 310,
    "start_time": "2021-10-03T10:26:37.315Z"
   },
   {
    "duration": 32,
    "start_time": "2021-10-03T10:26:37.628Z"
   },
   {
    "duration": 40,
    "start_time": "2021-10-03T10:26:41.238Z"
   },
   {
    "duration": 41,
    "start_time": "2021-10-03T10:26:44.655Z"
   },
   {
    "duration": 40,
    "start_time": "2021-10-03T10:27:02.873Z"
   },
   {
    "duration": 41,
    "start_time": "2021-10-03T10:28:41.708Z"
   },
   {
    "duration": 5,
    "start_time": "2021-10-03T10:28:49.479Z"
   },
   {
    "duration": 233,
    "start_time": "2021-10-03T10:28:49.487Z"
   },
   {
    "duration": 31,
    "start_time": "2021-10-03T10:28:49.722Z"
   },
   {
    "duration": 42,
    "start_time": "2021-10-03T10:28:55.602Z"
   },
   {
    "duration": 39,
    "start_time": "2021-10-03T10:29:11.545Z"
   },
   {
    "duration": 4,
    "start_time": "2021-10-03T10:29:16.665Z"
   },
   {
    "duration": 302,
    "start_time": "2021-10-03T10:29:16.672Z"
   },
   {
    "duration": 29,
    "start_time": "2021-10-03T10:29:16.977Z"
   },
   {
    "duration": 4,
    "start_time": "2021-10-03T10:29:19.422Z"
   },
   {
    "duration": 240,
    "start_time": "2021-10-03T10:29:19.429Z"
   },
   {
    "duration": 29,
    "start_time": "2021-10-03T10:29:19.671Z"
   },
   {
    "duration": 44,
    "start_time": "2021-10-03T10:29:19.703Z"
   },
   {
    "duration": 42,
    "start_time": "2021-10-03T10:29:25.745Z"
   },
   {
    "duration": 5,
    "start_time": "2021-10-03T10:29:28.870Z"
   },
   {
    "duration": 240,
    "start_time": "2021-10-03T10:29:28.877Z"
   },
   {
    "duration": 30,
    "start_time": "2021-10-03T10:29:29.119Z"
   },
   {
    "duration": 42,
    "start_time": "2021-10-03T10:29:29.151Z"
   },
   {
    "duration": 46,
    "start_time": "2021-10-03T10:31:03.501Z"
   },
   {
    "duration": 4,
    "start_time": "2021-10-03T10:31:14.712Z"
   },
   {
    "duration": 216,
    "start_time": "2021-10-03T10:31:14.719Z"
   },
   {
    "duration": 29,
    "start_time": "2021-10-03T10:31:14.938Z"
   },
   {
    "duration": 70,
    "start_time": "2021-10-03T10:31:14.970Z"
   },
   {
    "duration": 45,
    "start_time": "2021-10-03T10:31:21.211Z"
   },
   {
    "duration": 42,
    "start_time": "2021-10-03T10:31:25.895Z"
   },
   {
    "duration": 45,
    "start_time": "2021-10-03T10:31:30.854Z"
   },
   {
    "duration": 40,
    "start_time": "2021-10-03T10:31:39.609Z"
   },
   {
    "duration": 47,
    "start_time": "2021-10-03T10:46:47.466Z"
   },
   {
    "duration": 496,
    "start_time": "2021-10-03T12:20:41.592Z"
   },
   {
    "duration": 5,
    "start_time": "2021-10-03T12:45:05.414Z"
   },
   {
    "duration": 284,
    "start_time": "2021-10-03T12:45:05.422Z"
   },
   {
    "duration": 29,
    "start_time": "2021-10-03T12:45:05.709Z"
   },
   {
    "duration": 334,
    "start_time": "2021-10-03T12:45:05.741Z"
   },
   {
    "duration": 965,
    "start_time": "2021-10-03T21:56:49.446Z"
   },
   {
    "duration": 1520,
    "start_time": "2021-10-03T21:56:54.048Z"
   },
   {
    "duration": 300,
    "start_time": "2021-10-03T21:56:55.571Z"
   },
   {
    "duration": 36,
    "start_time": "2021-10-03T21:56:55.874Z"
   },
   {
    "duration": 11546,
    "start_time": "2021-10-03T21:56:58.350Z"
   },
   {
    "duration": 457,
    "start_time": "2021-10-03T21:57:39.171Z"
   },
   {
    "duration": 5,
    "start_time": "2021-10-03T21:57:48.965Z"
   },
   {
    "duration": 311,
    "start_time": "2021-10-03T21:57:48.972Z"
   },
   {
    "duration": 30,
    "start_time": "2021-10-03T21:57:49.286Z"
   },
   {
    "duration": 10477,
    "start_time": "2021-10-03T21:57:59.133Z"
   },
   {
    "duration": 450,
    "start_time": "2021-10-03T21:58:53.283Z"
   },
   {
    "duration": 4,
    "start_time": "2021-10-03T21:58:57.541Z"
   },
   {
    "duration": 305,
    "start_time": "2021-10-03T21:58:57.547Z"
   },
   {
    "duration": 46,
    "start_time": "2021-10-03T21:58:57.857Z"
   },
   {
    "duration": 49,
    "start_time": "2021-10-03T21:59:07.845Z"
   },
   {
    "duration": 535,
    "start_time": "2021-10-03T23:30:22.452Z"
   },
   {
    "duration": 4,
    "start_time": "2021-10-03T23:30:47.190Z"
   },
   {
    "duration": 331,
    "start_time": "2021-10-03T23:30:47.198Z"
   },
   {
    "duration": 34,
    "start_time": "2021-10-03T23:30:47.533Z"
   },
   {
    "duration": 52,
    "start_time": "2021-10-03T23:30:50.882Z"
   },
   {
    "duration": 531,
    "start_time": "2021-10-03T23:30:59.375Z"
   },
   {
    "duration": 19,
    "start_time": "2021-10-03T23:52:04.219Z"
   },
   {
    "duration": 401,
    "start_time": "2021-10-03T23:52:23.006Z"
   },
   {
    "duration": 376,
    "start_time": "2021-10-03T23:52:51.691Z"
   },
   {
    "duration": 19,
    "start_time": "2021-10-03T23:56:36.755Z"
   },
   {
    "duration": 390,
    "start_time": "2021-10-03T23:57:31.003Z"
   },
   {
    "duration": 20,
    "start_time": "2021-10-03T23:57:39.063Z"
   },
   {
    "duration": 34,
    "start_time": "2021-10-03T23:57:47.005Z"
   },
   {
    "duration": 85,
    "start_time": "2021-10-03T23:58:06.491Z"
   },
   {
    "duration": 4,
    "start_time": "2021-10-03T23:58:12.705Z"
   },
   {
    "duration": 308,
    "start_time": "2021-10-03T23:58:12.713Z"
   },
   {
    "duration": 30,
    "start_time": "2021-10-03T23:58:13.024Z"
   },
   {
    "duration": 75,
    "start_time": "2021-10-03T23:58:13.057Z"
   },
   {
    "duration": 81,
    "start_time": "2021-10-03T23:58:14.887Z"
   },
   {
    "duration": 34,
    "start_time": "2021-10-03T23:58:21.089Z"
   },
   {
    "duration": 33,
    "start_time": "2021-10-04T00:01:13.274Z"
   },
   {
    "duration": 5,
    "start_time": "2021-10-04T00:01:18.582Z"
   },
   {
    "duration": 374,
    "start_time": "2021-10-04T00:01:18.591Z"
   },
   {
    "duration": 29,
    "start_time": "2021-10-04T00:01:18.968Z"
   },
   {
    "duration": 45,
    "start_time": "2021-10-04T00:01:19.000Z"
   },
   {
    "duration": 33,
    "start_time": "2021-10-04T00:01:19.047Z"
   },
   {
    "duration": 406,
    "start_time": "2021-10-04T00:01:36.944Z"
   },
   {
    "duration": 14,
    "start_time": "2021-10-04T00:01:50.529Z"
   },
   {
    "duration": 21,
    "start_time": "2021-10-04T00:03:31.482Z"
   },
   {
    "duration": 18,
    "start_time": "2021-10-04T04:25:20.806Z"
   },
   {
    "duration": 20,
    "start_time": "2021-10-04T04:25:26.845Z"
   },
   {
    "duration": 388,
    "start_time": "2021-10-04T04:31:38.423Z"
   },
   {
    "duration": 4,
    "start_time": "2021-10-04T04:31:42.417Z"
   },
   {
    "duration": 324,
    "start_time": "2021-10-04T04:31:42.424Z"
   },
   {
    "duration": 29,
    "start_time": "2021-10-04T04:31:42.751Z"
   },
   {
    "duration": 62,
    "start_time": "2021-10-04T04:31:42.783Z"
   },
   {
    "duration": 20,
    "start_time": "2021-10-04T04:31:42.848Z"
   },
   {
    "duration": 386,
    "start_time": "2021-10-04T04:31:42.870Z"
   },
   {
    "duration": 35,
    "start_time": "2021-10-04T04:39:06.581Z"
   },
   {
    "duration": 42,
    "start_time": "2021-10-04T04:41:30.923Z"
   },
   {
    "duration": 4,
    "start_time": "2021-10-04T04:43:12.548Z"
   },
   {
    "duration": 319,
    "start_time": "2021-10-04T04:43:12.555Z"
   },
   {
    "duration": 30,
    "start_time": "2021-10-04T04:43:12.877Z"
   },
   {
    "duration": 49,
    "start_time": "2021-10-04T04:43:12.910Z"
   },
   {
    "duration": 22,
    "start_time": "2021-10-04T04:43:12.961Z"
   },
   {
    "duration": 68,
    "start_time": "2021-10-04T04:43:12.985Z"
   },
   {
    "duration": 550,
    "start_time": "2021-10-04T04:46:12.299Z"
   },
   {
    "duration": 131,
    "start_time": "2021-10-04T04:46:21.492Z"
   },
   {
    "duration": 389,
    "start_time": "2021-10-04T04:46:24.912Z"
   },
   {
    "duration": 44,
    "start_time": "2021-10-04T04:49:55.503Z"
   },
   {
    "duration": 462,
    "start_time": "2021-10-04T04:50:03.960Z"
   },
   {
    "duration": 40,
    "start_time": "2021-10-04T04:50:56.227Z"
   },
   {
    "duration": 44,
    "start_time": "2021-10-04T04:55:18.634Z"
   },
   {
    "duration": 1135,
    "start_time": "2021-10-04T19:20:26.003Z"
   },
   {
    "duration": 318,
    "start_time": "2021-10-04T19:20:27.140Z"
   },
   {
    "duration": 27,
    "start_time": "2021-10-04T19:20:27.461Z"
   },
   {
    "duration": 32,
    "start_time": "2021-10-04T19:20:27.490Z"
   },
   {
    "duration": 15,
    "start_time": "2021-10-04T19:20:27.523Z"
   },
   {
    "duration": 58,
    "start_time": "2021-10-04T19:20:27.539Z"
   },
   {
    "duration": 3,
    "start_time": "2021-10-04T19:20:45.531Z"
   },
   {
    "duration": 299,
    "start_time": "2021-10-04T19:20:45.536Z"
   },
   {
    "duration": 20,
    "start_time": "2021-10-04T19:20:45.838Z"
   },
   {
    "duration": 29,
    "start_time": "2021-10-04T19:20:45.860Z"
   },
   {
    "duration": 17,
    "start_time": "2021-10-04T19:20:45.891Z"
   },
   {
    "duration": 29,
    "start_time": "2021-10-04T19:20:45.909Z"
   },
   {
    "duration": 32,
    "start_time": "2021-10-04T19:24:40.471Z"
   },
   {
    "duration": 48,
    "start_time": "2021-10-04T20:22:48.588Z"
   },
   {
    "duration": 31,
    "start_time": "2021-10-05T01:31:08.661Z"
   },
   {
    "duration": 113,
    "start_time": "2021-10-05T01:31:27.711Z"
   },
   {
    "duration": 273,
    "start_time": "2021-10-05T01:40:28.372Z"
   },
   {
    "duration": 245,
    "start_time": "2021-10-05T01:45:55.605Z"
   },
   {
    "duration": 3,
    "start_time": "2021-10-05T01:46:00.951Z"
   },
   {
    "duration": 440,
    "start_time": "2021-10-05T01:46:00.956Z"
   },
   {
    "duration": 19,
    "start_time": "2021-10-05T01:46:01.398Z"
   },
   {
    "duration": 42,
    "start_time": "2021-10-05T01:46:01.419Z"
   },
   {
    "duration": 19,
    "start_time": "2021-10-05T01:46:01.463Z"
   },
   {
    "duration": 241,
    "start_time": "2021-10-05T01:46:01.483Z"
   },
   {
    "duration": 402,
    "start_time": "2021-10-05T02:21:15.758Z"
   },
   {
    "duration": 3,
    "start_time": "2021-10-05T02:21:19.885Z"
   },
   {
    "duration": 216,
    "start_time": "2021-10-05T02:21:19.890Z"
   },
   {
    "duration": 18,
    "start_time": "2021-10-05T02:21:20.108Z"
   },
   {
    "duration": 28,
    "start_time": "2021-10-05T02:21:20.128Z"
   },
   {
    "duration": 22,
    "start_time": "2021-10-05T02:21:20.157Z"
   },
   {
    "duration": 380,
    "start_time": "2021-10-05T02:21:20.181Z"
   },
   {
    "duration": 24,
    "start_time": "2021-10-05T02:22:14.688Z"
   },
   {
    "duration": 3,
    "start_time": "2021-10-05T02:22:47.911Z"
   },
   {
    "duration": 822,
    "start_time": "2021-10-05T02:22:47.916Z"
   },
   {
    "duration": 17,
    "start_time": "2021-10-05T02:22:48.740Z"
   },
   {
    "duration": 34,
    "start_time": "2021-10-05T02:22:48.758Z"
   },
   {
    "duration": 14,
    "start_time": "2021-10-05T02:22:48.794Z"
   },
   {
    "duration": 15,
    "start_time": "2021-10-05T02:22:48.809Z"
   },
   {
    "duration": 3,
    "start_time": "2021-10-05T04:26:07.706Z"
   },
   {
    "duration": 242,
    "start_time": "2021-10-05T04:26:07.711Z"
   },
   {
    "duration": 17,
    "start_time": "2021-10-05T04:26:07.955Z"
   },
   {
    "duration": 28,
    "start_time": "2021-10-05T04:26:07.974Z"
   },
   {
    "duration": 14,
    "start_time": "2021-10-05T04:26:08.004Z"
   },
   {
    "duration": 17,
    "start_time": "2021-10-05T04:26:08.020Z"
   },
   {
    "duration": 24,
    "start_time": "2021-10-05T04:32:19.995Z"
   },
   {
    "duration": 26,
    "start_time": "2021-10-05T04:47:27.552Z"
   },
   {
    "duration": 18,
    "start_time": "2021-10-05T04:56:09.517Z"
   },
   {
    "duration": 26,
    "start_time": "2021-10-05T04:58:45.479Z"
   },
   {
    "duration": 24,
    "start_time": "2021-10-05T05:04:16.635Z"
   },
   {
    "duration": 27,
    "start_time": "2021-10-05T05:05:15.026Z"
   },
   {
    "duration": 18,
    "start_time": "2021-10-05T05:07:20.677Z"
   },
   {
    "duration": 17,
    "start_time": "2021-10-05T05:07:28.448Z"
   },
   {
    "duration": 22,
    "start_time": "2021-10-05T05:08:13.938Z"
   },
   {
    "duration": 16,
    "start_time": "2021-10-05T05:08:25.989Z"
   },
   {
    "duration": 13,
    "start_time": "2021-10-05T05:10:03.667Z"
   },
   {
    "duration": 15,
    "start_time": "2021-10-05T05:11:03.178Z"
   },
   {
    "duration": 12,
    "start_time": "2021-10-05T05:11:12.364Z"
   },
   {
    "duration": 3,
    "start_time": "2021-10-05T05:11:39.262Z"
   },
   {
    "duration": 232,
    "start_time": "2021-10-05T05:11:39.268Z"
   },
   {
    "duration": 20,
    "start_time": "2021-10-05T05:11:39.502Z"
   },
   {
    "duration": 29,
    "start_time": "2021-10-05T05:11:39.524Z"
   },
   {
    "duration": 28,
    "start_time": "2021-10-05T05:11:39.555Z"
   },
   {
    "duration": 17,
    "start_time": "2021-10-05T05:11:39.585Z"
   },
   {
    "duration": 3,
    "start_time": "2021-10-05T05:46:49.935Z"
   },
   {
    "duration": 226,
    "start_time": "2021-10-05T05:46:49.940Z"
   },
   {
    "duration": 9,
    "start_time": "2021-10-05T05:46:50.169Z"
   },
   {
    "duration": 32,
    "start_time": "2021-10-05T05:46:50.180Z"
   },
   {
    "duration": 14,
    "start_time": "2021-10-05T05:46:50.213Z"
   },
   {
    "duration": 305,
    "start_time": "2021-10-05T05:46:50.229Z"
   },
   {
    "duration": 26,
    "start_time": "2021-10-05T05:55:12.021Z"
   },
   {
    "duration": 3,
    "start_time": "2021-10-05T06:14:53.199Z"
   },
   {
    "duration": 233,
    "start_time": "2021-10-05T06:14:53.204Z"
   },
   {
    "duration": 9,
    "start_time": "2021-10-05T06:14:53.439Z"
   },
   {
    "duration": 29,
    "start_time": "2021-10-05T06:14:53.450Z"
   },
   {
    "duration": 13,
    "start_time": "2021-10-05T06:14:53.481Z"
   },
   {
    "duration": 289,
    "start_time": "2021-10-05T06:14:53.496Z"
   },
   {
    "duration": 25,
    "start_time": "2021-10-05T06:14:53.786Z"
   },
   {
    "duration": 7,
    "start_time": "2021-10-05T06:15:16.908Z"
   },
   {
    "duration": 321,
    "start_time": "2021-10-05T06:19:10.350Z"
   },
   {
    "duration": 11,
    "start_time": "2021-10-05T06:19:56.899Z"
   },
   {
    "duration": 527,
    "start_time": "2021-10-05T06:20:40.632Z"
   },
   {
    "duration": 12,
    "start_time": "2021-10-05T06:20:50.315Z"
   },
   {
    "duration": 13,
    "start_time": "2021-10-05T08:20:40.789Z"
   },
   {
    "duration": 7,
    "start_time": "2021-10-05T08:20:42.927Z"
   },
   {
    "duration": 15,
    "start_time": "2021-10-05T08:24:11.416Z"
   },
   {
    "duration": 12,
    "start_time": "2021-10-05T08:24:21.359Z"
   },
   {
    "duration": 12,
    "start_time": "2021-10-05T08:25:30.695Z"
   },
   {
    "duration": 181,
    "start_time": "2021-10-05T08:27:01.561Z"
   },
   {
    "duration": 12,
    "start_time": "2021-10-05T08:27:10.598Z"
   },
   {
    "duration": 3,
    "start_time": "2021-10-05T08:32:34.117Z"
   },
   {
    "duration": 273,
    "start_time": "2021-10-05T08:32:34.122Z"
   },
   {
    "duration": 10,
    "start_time": "2021-10-05T08:32:34.397Z"
   },
   {
    "duration": 29,
    "start_time": "2021-10-05T08:32:34.409Z"
   },
   {
    "duration": 14,
    "start_time": "2021-10-05T08:32:34.440Z"
   },
   {
    "duration": 379,
    "start_time": "2021-10-05T08:32:34.455Z"
   },
   {
    "duration": 134,
    "start_time": "2021-10-05T08:32:34.702Z"
   },
   {
    "duration": 132,
    "start_time": "2021-10-05T08:32:34.705Z"
   },
   {
    "duration": 132,
    "start_time": "2021-10-05T08:32:34.706Z"
   },
   {
    "duration": 132,
    "start_time": "2021-10-05T08:32:34.707Z"
   },
   {
    "duration": 3,
    "start_time": "2021-10-05T08:33:03.017Z"
   },
   {
    "duration": 407,
    "start_time": "2021-10-05T08:33:03.022Z"
   },
   {
    "duration": 9,
    "start_time": "2021-10-05T08:33:03.431Z"
   },
   {
    "duration": 32,
    "start_time": "2021-10-05T08:33:03.442Z"
   },
   {
    "duration": 13,
    "start_time": "2021-10-05T08:33:03.476Z"
   },
   {
    "duration": 2131,
    "start_time": "2021-10-05T08:33:03.490Z"
   },
   {
    "duration": 24,
    "start_time": "2021-10-05T08:33:05.623Z"
   },
   {
    "duration": 6,
    "start_time": "2021-10-05T08:33:05.649Z"
   },
   {
    "duration": 12,
    "start_time": "2021-10-05T08:33:05.678Z"
   },
   {
    "duration": 10,
    "start_time": "2021-10-05T08:33:05.692Z"
   },
   {
    "duration": 176,
    "start_time": "2021-10-05T08:52:36.307Z"
   },
   {
    "duration": 13,
    "start_time": "2021-10-05T08:53:32.322Z"
   },
   {
    "duration": 203,
    "start_time": "2021-10-05T08:55:41.076Z"
   },
   {
    "duration": 229,
    "start_time": "2021-10-05T08:58:37.306Z"
   },
   {
    "duration": 13,
    "start_time": "2021-10-05T08:59:32.049Z"
   },
   {
    "duration": 17,
    "start_time": "2021-10-05T08:59:48.974Z"
   },
   {
    "duration": 185,
    "start_time": "2021-10-05T09:00:55.142Z"
   },
   {
    "duration": 186,
    "start_time": "2021-10-05T09:01:16.028Z"
   },
   {
    "duration": 137,
    "start_time": "2021-10-05T09:05:44.115Z"
   },
   {
    "duration": 3,
    "start_time": "2021-10-05T09:05:51.170Z"
   },
   {
    "duration": 214,
    "start_time": "2021-10-05T09:05:51.176Z"
   },
   {
    "duration": 10,
    "start_time": "2021-10-05T09:05:51.392Z"
   },
   {
    "duration": 28,
    "start_time": "2021-10-05T09:05:51.404Z"
   },
   {
    "duration": 15,
    "start_time": "2021-10-05T09:05:51.434Z"
   },
   {
    "duration": 2218,
    "start_time": "2021-10-05T09:05:51.450Z"
   },
   {
    "duration": 29,
    "start_time": "2021-10-05T09:05:53.669Z"
   },
   {
    "duration": 18,
    "start_time": "2021-10-05T09:05:53.700Z"
   },
   {
    "duration": 88,
    "start_time": "2021-10-05T09:05:53.721Z"
   },
   {
    "duration": 352,
    "start_time": "2021-10-05T09:06:13.697Z"
   },
   {
    "duration": 2628,
    "start_time": "2021-10-05T09:11:24.171Z"
   },
   {
    "duration": 227,
    "start_time": "2021-10-05T09:11:26.801Z"
   },
   {
    "duration": 11,
    "start_time": "2021-10-05T09:11:27.030Z"
   },
   {
    "duration": 31,
    "start_time": "2021-10-05T09:11:27.044Z"
   },
   {
    "duration": 14,
    "start_time": "2021-10-05T09:11:27.077Z"
   },
   {
    "duration": 2177,
    "start_time": "2021-10-05T09:11:27.093Z"
   },
   {
    "duration": 26,
    "start_time": "2021-10-05T09:11:29.277Z"
   },
   {
    "duration": 6,
    "start_time": "2021-10-05T09:11:29.305Z"
   },
   {
    "duration": 402,
    "start_time": "2021-10-05T09:11:29.313Z"
   },
   {
    "duration": 187,
    "start_time": "2021-10-06T00:02:59.438Z"
   },
   {
    "duration": 3214,
    "start_time": "2021-10-06T00:03:02.919Z"
   },
   {
    "duration": 127,
    "start_time": "2021-10-06T00:03:06.135Z"
   },
   {
    "duration": 10,
    "start_time": "2021-10-06T00:03:06.264Z"
   },
   {
    "duration": 32,
    "start_time": "2021-10-06T00:03:06.276Z"
   },
   {
    "duration": 14,
    "start_time": "2021-10-06T00:03:06.310Z"
   },
   {
    "duration": 2046,
    "start_time": "2021-10-06T00:03:06.325Z"
   },
   {
    "duration": 32,
    "start_time": "2021-10-06T00:03:08.373Z"
   },
   {
    "duration": 6,
    "start_time": "2021-10-06T00:03:08.406Z"
   },
   {
    "duration": 13,
    "start_time": "2021-10-06T00:03:08.414Z"
   },
   {
    "duration": 50,
    "start_time": "2021-10-06T00:04:17.703Z"
   },
   {
    "duration": 213,
    "start_time": "2021-10-06T00:04:34.528Z"
   },
   {
    "duration": 2191,
    "start_time": "2021-10-06T00:10:58.653Z"
   },
   {
    "duration": 197,
    "start_time": "2021-10-06T00:11:00.847Z"
   },
   {
    "duration": 11,
    "start_time": "2021-10-06T00:11:01.046Z"
   },
   {
    "duration": 29,
    "start_time": "2021-10-06T00:11:01.059Z"
   },
   {
    "duration": 14,
    "start_time": "2021-10-06T00:11:01.089Z"
   },
   {
    "duration": 2116,
    "start_time": "2021-10-06T00:11:01.105Z"
   },
   {
    "duration": 24,
    "start_time": "2021-10-06T00:11:03.223Z"
   },
   {
    "duration": 6,
    "start_time": "2021-10-06T00:11:03.249Z"
   },
   {
    "duration": 171,
    "start_time": "2021-10-06T00:11:03.256Z"
   },
   {
    "duration": 141,
    "start_time": "2021-10-06T00:11:18.122Z"
   },
   {
    "duration": 194,
    "start_time": "2021-10-06T00:40:02.624Z"
   },
   {
    "duration": 202,
    "start_time": "2021-10-06T01:24:41.607Z"
   },
   {
    "duration": 218,
    "start_time": "2021-10-06T01:44:38.768Z"
   },
   {
    "duration": 20,
    "start_time": "2021-10-06T02:15:15.404Z"
   },
   {
    "duration": 177,
    "start_time": "2021-10-06T02:15:29.614Z"
   },
   {
    "duration": 178,
    "start_time": "2021-10-06T02:15:38.338Z"
   },
   {
    "duration": 13,
    "start_time": "2021-10-06T02:16:10.994Z"
   },
   {
    "duration": 10,
    "start_time": "2021-10-06T02:16:19.508Z"
   },
   {
    "duration": 9,
    "start_time": "2021-10-06T02:16:32.275Z"
   },
   {
    "duration": 7,
    "start_time": "2021-10-06T02:18:55.466Z"
   },
   {
    "duration": 183,
    "start_time": "2021-10-06T02:19:04.310Z"
   },
   {
    "duration": 1791,
    "start_time": "2021-10-06T02:19:11.915Z"
   },
   {
    "duration": 131,
    "start_time": "2021-10-06T02:19:13.709Z"
   },
   {
    "duration": 11,
    "start_time": "2021-10-06T02:19:13.842Z"
   },
   {
    "duration": 34,
    "start_time": "2021-10-06T02:19:13.854Z"
   },
   {
    "duration": 20,
    "start_time": "2021-10-06T02:19:13.890Z"
   },
   {
    "duration": 2133,
    "start_time": "2021-10-06T02:19:13.912Z"
   },
   {
    "duration": 23,
    "start_time": "2021-10-06T02:19:16.047Z"
   },
   {
    "duration": 32,
    "start_time": "2021-10-06T02:19:16.072Z"
   },
   {
    "duration": 229,
    "start_time": "2021-10-06T02:19:16.106Z"
   },
   {
    "duration": 7,
    "start_time": "2021-10-06T02:19:16.336Z"
   },
   {
    "duration": 14,
    "start_time": "2021-10-06T02:25:44.720Z"
   },
   {
    "duration": 1795,
    "start_time": "2021-10-06T02:50:18.482Z"
   },
   {
    "duration": 121,
    "start_time": "2021-10-06T02:50:20.279Z"
   },
   {
    "duration": 10,
    "start_time": "2021-10-06T02:50:20.402Z"
   },
   {
    "duration": 33,
    "start_time": "2021-10-06T02:50:20.413Z"
   },
   {
    "duration": 13,
    "start_time": "2021-10-06T02:50:20.447Z"
   },
   {
    "duration": 2096,
    "start_time": "2021-10-06T02:50:20.462Z"
   },
   {
    "duration": 40,
    "start_time": "2021-10-06T02:50:22.560Z"
   },
   {
    "duration": 6,
    "start_time": "2021-10-06T02:50:22.602Z"
   },
   {
    "duration": 234,
    "start_time": "2021-10-06T02:50:22.610Z"
   },
   {
    "duration": 13,
    "start_time": "2021-10-06T02:50:22.846Z"
   },
   {
    "duration": 217,
    "start_time": "2021-10-06T03:02:23.543Z"
   },
   {
    "duration": 222,
    "start_time": "2021-10-06T03:05:48.174Z"
   },
   {
    "duration": 178,
    "start_time": "2021-10-06T03:06:42.528Z"
   },
   {
    "duration": 167,
    "start_time": "2021-10-06T03:07:36.864Z"
   },
   {
    "duration": 170,
    "start_time": "2021-10-06T03:08:51.668Z"
   },
   {
    "duration": 267,
    "start_time": "2021-10-06T03:12:42.493Z"
   },
   {
    "duration": 176,
    "start_time": "2021-10-06T03:13:43.267Z"
   },
   {
    "duration": 12,
    "start_time": "2021-10-06T03:14:55.407Z"
   },
   {
    "duration": 12,
    "start_time": "2021-10-06T03:16:16.928Z"
   },
   {
    "duration": 11,
    "start_time": "2021-10-06T03:16:56.999Z"
   },
   {
    "duration": 13,
    "start_time": "2021-10-06T03:17:17.284Z"
   },
   {
    "duration": 13,
    "start_time": "2021-10-06T03:17:41.535Z"
   },
   {
    "duration": 17,
    "start_time": "2021-10-06T03:18:05.732Z"
   },
   {
    "duration": 193,
    "start_time": "2021-10-06T03:24:06.878Z"
   },
   {
    "duration": 174,
    "start_time": "2021-10-06T03:25:58.315Z"
   },
   {
    "duration": 174,
    "start_time": "2021-10-06T03:26:35.515Z"
   },
   {
    "duration": 176,
    "start_time": "2021-10-06T03:28:15.325Z"
   },
   {
    "duration": 429,
    "start_time": "2021-10-06T03:45:13.528Z"
   },
   {
    "duration": 310,
    "start_time": "2021-10-06T03:47:57.816Z"
   },
   {
    "duration": 303,
    "start_time": "2021-10-06T03:48:26.456Z"
   },
   {
    "duration": 160,
    "start_time": "2021-10-06T03:49:17.227Z"
   },
   {
    "duration": 279,
    "start_time": "2021-10-06T03:50:00.419Z"
   },
   {
    "duration": 173,
    "start_time": "2021-10-06T03:50:15.537Z"
   },
   {
    "duration": 183,
    "start_time": "2021-10-06T03:56:56.148Z"
   },
   {
    "duration": 53,
    "start_time": "2021-10-06T03:57:38.653Z"
   },
   {
    "duration": 200,
    "start_time": "2021-10-06T03:57:47.189Z"
   },
   {
    "duration": 380,
    "start_time": "2021-10-06T03:58:07.398Z"
   },
   {
    "duration": 202,
    "start_time": "2021-10-06T03:58:38.828Z"
   },
   {
    "duration": 261,
    "start_time": "2021-10-06T03:59:01.973Z"
   },
   {
    "duration": 447,
    "start_time": "2021-10-06T03:59:20.829Z"
   },
   {
    "duration": 551,
    "start_time": "2021-10-06T03:59:41.285Z"
   },
   {
    "duration": 221,
    "start_time": "2021-10-06T04:00:31.678Z"
   },
   {
    "duration": 327,
    "start_time": "2021-10-06T04:02:33.249Z"
   },
   {
    "duration": 54,
    "start_time": "2021-10-06T04:03:43.977Z"
   },
   {
    "duration": 52,
    "start_time": "2021-10-06T04:03:56.654Z"
   },
   {
    "duration": 375,
    "start_time": "2021-10-06T04:03:59.923Z"
   },
   {
    "duration": 378,
    "start_time": "2021-10-06T04:04:26.870Z"
   },
   {
    "duration": 375,
    "start_time": "2021-10-06T04:04:36.922Z"
   },
   {
    "duration": 391,
    "start_time": "2021-10-06T04:04:44.997Z"
   },
   {
    "duration": 392,
    "start_time": "2021-10-06T04:05:36.997Z"
   },
   {
    "duration": 192,
    "start_time": "2021-10-06T04:13:58.610Z"
   },
   {
    "duration": 156,
    "start_time": "2021-10-06T04:16:47.901Z"
   },
   {
    "duration": 164,
    "start_time": "2021-10-06T04:17:26.085Z"
   },
   {
    "duration": 53,
    "start_time": "2021-10-06T04:17:45.729Z"
   },
   {
    "duration": 152,
    "start_time": "2021-10-06T04:17:49.502Z"
   },
   {
    "duration": 631,
    "start_time": "2021-10-06T04:19:32.588Z"
   },
   {
    "duration": 196,
    "start_time": "2021-10-06T04:19:44.815Z"
   },
   {
    "duration": 184,
    "start_time": "2021-10-06T04:23:51.138Z"
   },
   {
    "duration": 213,
    "start_time": "2021-10-06T04:24:15.217Z"
   },
   {
    "duration": 209,
    "start_time": "2021-10-06T04:24:54.580Z"
   },
   {
    "duration": 200,
    "start_time": "2021-10-06T04:25:14.779Z"
   },
   {
    "duration": 469,
    "start_time": "2021-10-06T04:28:13.042Z"
   },
   {
    "duration": 531,
    "start_time": "2021-10-06T04:29:06.013Z"
   },
   {
    "duration": 582,
    "start_time": "2021-10-06T04:29:56.884Z"
   },
   {
    "duration": 984,
    "start_time": "2021-10-06T04:30:37.619Z"
   },
   {
    "duration": 926,
    "start_time": "2021-10-06T04:49:59.167Z"
   },
   {
    "duration": 1087,
    "start_time": "2021-10-06T04:50:08.875Z"
   },
   {
    "duration": 173,
    "start_time": "2021-10-06T05:01:11.602Z"
   },
   {
    "duration": 239,
    "start_time": "2021-10-06T05:06:44.289Z"
   },
   {
    "duration": 51,
    "start_time": "2021-10-06T05:07:06.977Z"
   },
   {
    "duration": 12,
    "start_time": "2021-10-06T05:07:52.249Z"
   },
   {
    "duration": 203,
    "start_time": "2021-10-06T05:08:16.437Z"
   },
   {
    "duration": 1822,
    "start_time": "2021-10-06T05:08:34.329Z"
   },
   {
    "duration": 138,
    "start_time": "2021-10-06T05:08:36.153Z"
   },
   {
    "duration": 11,
    "start_time": "2021-10-06T05:08:36.293Z"
   },
   {
    "duration": 34,
    "start_time": "2021-10-06T05:08:36.306Z"
   },
   {
    "duration": 19,
    "start_time": "2021-10-06T05:08:36.342Z"
   },
   {
    "duration": 2118,
    "start_time": "2021-10-06T05:08:36.363Z"
   },
   {
    "duration": 37,
    "start_time": "2021-10-06T05:08:38.483Z"
   },
   {
    "duration": 8,
    "start_time": "2021-10-06T05:08:38.522Z"
   },
   {
    "duration": 230,
    "start_time": "2021-10-06T05:08:38.533Z"
   },
   {
    "duration": 991,
    "start_time": "2021-10-06T05:08:38.766Z"
   },
   {
    "duration": 151,
    "start_time": "2021-10-06T05:08:39.759Z"
   },
   {
    "duration": 780,
    "start_time": "2021-10-06T05:08:39.131Z"
   },
   {
    "duration": 156,
    "start_time": "2021-10-06T05:09:01.859Z"
   },
   {
    "duration": 1844,
    "start_time": "2021-10-06T05:09:04.389Z"
   },
   {
    "duration": 126,
    "start_time": "2021-10-06T05:09:06.236Z"
   },
   {
    "duration": 14,
    "start_time": "2021-10-06T05:09:06.364Z"
   },
   {
    "duration": 31,
    "start_time": "2021-10-06T05:09:06.380Z"
   },
   {
    "duration": 17,
    "start_time": "2021-10-06T05:09:06.413Z"
   },
   {
    "duration": 2089,
    "start_time": "2021-10-06T05:09:06.432Z"
   },
   {
    "duration": 26,
    "start_time": "2021-10-06T05:09:08.522Z"
   },
   {
    "duration": 6,
    "start_time": "2021-10-06T05:09:08.549Z"
   },
   {
    "duration": 212,
    "start_time": "2021-10-06T05:09:08.557Z"
   },
   {
    "duration": 1092,
    "start_time": "2021-10-06T05:09:08.771Z"
   },
   {
    "duration": 418,
    "start_time": "2021-10-06T05:09:09.865Z"
   },
   {
    "duration": 777,
    "start_time": "2021-10-06T05:09:09.507Z"
   },
   {
    "duration": 12,
    "start_time": "2021-10-06T05:10:08.084Z"
   },
   {
    "duration": 13,
    "start_time": "2021-10-06T05:10:15.489Z"
   },
   {
    "duration": 19,
    "start_time": "2021-10-06T05:10:48.715Z"
   },
   {
    "duration": 8,
    "start_time": "2021-10-06T05:11:22.654Z"
   },
   {
    "duration": 14,
    "start_time": "2021-10-06T05:11:32.675Z"
   },
   {
    "duration": 2364,
    "start_time": "2021-10-06T05:13:14.621Z"
   },
   {
    "duration": 132,
    "start_time": "2021-10-06T05:13:16.987Z"
   },
   {
    "duration": 12,
    "start_time": "2021-10-06T05:13:17.123Z"
   },
   {
    "duration": 32,
    "start_time": "2021-10-06T05:13:17.137Z"
   },
   {
    "duration": 52,
    "start_time": "2021-10-06T05:13:17.170Z"
   },
   {
    "duration": 2378,
    "start_time": "2021-10-06T05:13:17.226Z"
   },
   {
    "duration": 37,
    "start_time": "2021-10-06T05:13:19.608Z"
   },
   {
    "duration": 6,
    "start_time": "2021-10-06T05:13:19.647Z"
   },
   {
    "duration": 255,
    "start_time": "2021-10-06T05:13:19.655Z"
   },
   {
    "duration": 1119,
    "start_time": "2021-10-06T05:13:19.914Z"
   },
   {
    "duration": 13,
    "start_time": "2021-10-06T05:13:21.035Z"
   },
   {
    "duration": 1,
    "start_time": "2021-10-06T05:13:21.050Z"
   },
   {
    "duration": 3441,
    "start_time": "2021-10-06T05:16:55.408Z"
   },
   {
    "duration": 58,
    "start_time": "2021-10-06T05:17:27.607Z"
   },
   {
    "duration": 13,
    "start_time": "2021-10-06T05:17:32.854Z"
   },
   {
    "duration": 16,
    "start_time": "2021-10-06T05:17:48.154Z"
   },
   {
    "duration": 860,
    "start_time": "2021-10-06T05:17:58.949Z"
   },
   {
    "duration": 852,
    "start_time": "2021-10-06T05:20:03.424Z"
   },
   {
    "duration": 16,
    "start_time": "2021-10-06T05:21:56.018Z"
   },
   {
    "duration": 18,
    "start_time": "2021-10-06T05:22:50.525Z"
   },
   {
    "duration": 1993,
    "start_time": "2021-10-06T05:23:04.692Z"
   },
   {
    "duration": 477,
    "start_time": "2021-10-06T05:23:06.688Z"
   },
   {
    "duration": 11,
    "start_time": "2021-10-06T05:23:07.167Z"
   },
   {
    "duration": 35,
    "start_time": "2021-10-06T05:23:07.180Z"
   },
   {
    "duration": 16,
    "start_time": "2021-10-06T05:23:07.217Z"
   },
   {
    "duration": 2564,
    "start_time": "2021-10-06T05:23:07.235Z"
   },
   {
    "duration": 32,
    "start_time": "2021-10-06T05:23:09.801Z"
   },
   {
    "duration": 7,
    "start_time": "2021-10-06T05:23:09.835Z"
   },
   {
    "duration": 247,
    "start_time": "2021-10-06T05:23:09.844Z"
   },
   {
    "duration": 1056,
    "start_time": "2021-10-06T05:23:10.093Z"
   },
   {
    "duration": 161,
    "start_time": "2021-10-06T05:23:11.151Z"
   },
   {
    "duration": 795,
    "start_time": "2021-10-06T05:23:10.519Z"
   },
   {
    "duration": 20,
    "start_time": "2021-10-06T05:23:19.697Z"
   },
   {
    "duration": 18,
    "start_time": "2021-10-06T05:23:26.109Z"
   },
   {
    "duration": 22,
    "start_time": "2021-10-06T05:23:56.630Z"
   },
   {
    "duration": 150,
    "start_time": "2021-10-06T05:25:36.056Z"
   },
   {
    "duration": 14,
    "start_time": "2021-10-06T05:25:49.496Z"
   },
   {
    "duration": 730,
    "start_time": "2021-10-06T05:27:56.259Z"
   },
   {
    "duration": 13,
    "start_time": "2021-10-06T05:28:59.417Z"
   },
   {
    "duration": 1798,
    "start_time": "2021-10-06T05:29:25.971Z"
   },
   {
    "duration": 123,
    "start_time": "2021-10-06T05:29:27.772Z"
   },
   {
    "duration": 11,
    "start_time": "2021-10-06T05:29:27.897Z"
   },
   {
    "duration": 30,
    "start_time": "2021-10-06T05:29:27.910Z"
   },
   {
    "duration": 13,
    "start_time": "2021-10-06T05:29:27.941Z"
   },
   {
    "duration": 2057,
    "start_time": "2021-10-06T05:29:27.956Z"
   },
   {
    "duration": 26,
    "start_time": "2021-10-06T05:29:30.015Z"
   },
   {
    "duration": 6,
    "start_time": "2021-10-06T05:29:30.042Z"
   },
   {
    "duration": 204,
    "start_time": "2021-10-06T05:29:30.050Z"
   },
   {
    "duration": 934,
    "start_time": "2021-10-06T05:29:30.256Z"
   },
   {
    "duration": 14,
    "start_time": "2021-10-06T05:29:31.198Z"
   },
   {
    "duration": 4,
    "start_time": "2021-10-06T05:29:31.213Z"
   },
   {
    "duration": 1007,
    "start_time": "2021-10-06T05:30:00.219Z"
   },
   {
    "duration": 1897,
    "start_time": "2021-10-06T05:30:53.042Z"
   },
   {
    "duration": 154,
    "start_time": "2021-10-06T05:30:54.941Z"
   },
   {
    "duration": 16,
    "start_time": "2021-10-06T05:30:55.097Z"
   },
   {
    "duration": 33,
    "start_time": "2021-10-06T05:30:55.116Z"
   },
   {
    "duration": 56,
    "start_time": "2021-10-06T05:30:55.150Z"
   },
   {
    "duration": 2265,
    "start_time": "2021-10-06T05:30:55.209Z"
   },
   {
    "duration": 48,
    "start_time": "2021-10-06T05:30:57.476Z"
   },
   {
    "duration": 9,
    "start_time": "2021-10-06T05:30:57.526Z"
   },
   {
    "duration": 232,
    "start_time": "2021-10-06T05:30:57.538Z"
   },
   {
    "duration": 1040,
    "start_time": "2021-10-06T05:30:57.772Z"
   },
   {
    "duration": 904,
    "start_time": "2021-10-06T05:30:58.814Z"
   },
   {
    "duration": 2,
    "start_time": "2021-10-06T05:30:59.720Z"
   },
   {
    "duration": 1772,
    "start_time": "2021-10-06T05:31:58.179Z"
   },
   {
    "duration": 129,
    "start_time": "2021-10-06T05:31:59.954Z"
   },
   {
    "duration": 11,
    "start_time": "2021-10-06T05:32:00.085Z"
   },
   {
    "duration": 38,
    "start_time": "2021-10-06T05:32:00.098Z"
   },
   {
    "duration": 14,
    "start_time": "2021-10-06T05:32:00.137Z"
   },
   {
    "duration": 2105,
    "start_time": "2021-10-06T05:32:00.153Z"
   },
   {
    "duration": 46,
    "start_time": "2021-10-06T05:32:02.260Z"
   },
   {
    "duration": 7,
    "start_time": "2021-10-06T05:32:02.307Z"
   },
   {
    "duration": 200,
    "start_time": "2021-10-06T05:32:02.316Z"
   },
   {
    "duration": 1116,
    "start_time": "2021-10-06T05:32:02.518Z"
   },
   {
    "duration": 793,
    "start_time": "2021-10-06T05:32:03.635Z"
   },
   {
    "duration": 2,
    "start_time": "2021-10-06T05:32:04.430Z"
   },
   {
    "duration": 144,
    "start_time": "2021-10-06T05:38:49.343Z"
   },
   {
    "duration": 46,
    "start_time": "2021-10-06T05:39:22.395Z"
   },
   {
    "duration": 23,
    "start_time": "2021-10-06T05:39:25.957Z"
   },
   {
    "duration": 1815,
    "start_time": "2021-10-06T05:39:29.619Z"
   },
   {
    "duration": 133,
    "start_time": "2021-10-06T05:39:31.436Z"
   },
   {
    "duration": 11,
    "start_time": "2021-10-06T05:39:31.571Z"
   },
   {
    "duration": 66,
    "start_time": "2021-10-06T05:39:31.584Z"
   },
   {
    "duration": 15,
    "start_time": "2021-10-06T05:39:31.652Z"
   },
   {
    "duration": 2035,
    "start_time": "2021-10-06T05:39:31.668Z"
   },
   {
    "duration": 27,
    "start_time": "2021-10-06T05:39:33.705Z"
   },
   {
    "duration": 6,
    "start_time": "2021-10-06T05:39:33.733Z"
   },
   {
    "duration": 212,
    "start_time": "2021-10-06T05:39:33.741Z"
   },
   {
    "duration": 919,
    "start_time": "2021-10-06T05:39:33.954Z"
   },
   {
    "duration": 789,
    "start_time": "2021-10-06T05:39:34.875Z"
   },
   {
    "duration": 17,
    "start_time": "2021-10-06T05:39:35.665Z"
   },
   {
    "duration": 150,
    "start_time": "2021-10-06T05:40:39.531Z"
   },
   {
    "duration": 251,
    "start_time": "2021-10-06T05:41:37.105Z"
   },
   {
    "duration": 209,
    "start_time": "2021-10-06T05:42:10.256Z"
   },
   {
    "duration": 150,
    "start_time": "2021-10-06T05:51:38.965Z"
   },
   {
    "duration": 147,
    "start_time": "2021-10-06T05:52:09.034Z"
   },
   {
    "duration": 146,
    "start_time": "2021-10-06T05:53:31.623Z"
   },
   {
    "duration": 19,
    "start_time": "2021-10-06T05:54:00.641Z"
   },
   {
    "duration": 5081,
    "start_time": "2021-10-06T15:57:43.793Z"
   },
   {
    "duration": 241,
    "start_time": "2021-10-06T15:57:48.877Z"
   },
   {
    "duration": 15,
    "start_time": "2021-10-06T15:57:49.122Z"
   },
   {
    "duration": 52,
    "start_time": "2021-10-06T15:57:49.140Z"
   },
   {
    "duration": 22,
    "start_time": "2021-10-06T15:57:49.194Z"
   },
   {
    "duration": 4065,
    "start_time": "2021-10-06T15:57:49.218Z"
   },
   {
    "duration": 44,
    "start_time": "2021-10-06T15:57:53.286Z"
   },
   {
    "duration": 34,
    "start_time": "2021-10-06T15:57:53.334Z"
   },
   {
    "duration": 366,
    "start_time": "2021-10-06T15:57:53.371Z"
   },
   {
    "duration": 1525,
    "start_time": "2021-10-06T15:57:53.739Z"
   },
   {
    "duration": 1285,
    "start_time": "2021-10-06T15:57:55.267Z"
   },
   {
    "duration": 32,
    "start_time": "2021-10-06T15:57:56.554Z"
   },
   {
    "duration": 3329,
    "start_time": "2021-10-06T22:48:34.404Z"
   },
   {
    "duration": 266,
    "start_time": "2021-10-06T22:48:37.736Z"
   },
   {
    "duration": 16,
    "start_time": "2021-10-06T22:48:38.005Z"
   },
   {
    "duration": 70,
    "start_time": "2021-10-06T22:48:38.024Z"
   },
   {
    "duration": 25,
    "start_time": "2021-10-06T22:48:38.097Z"
   },
   {
    "duration": 4186,
    "start_time": "2021-10-06T22:48:38.125Z"
   },
   {
    "duration": 68,
    "start_time": "2021-10-06T22:48:42.313Z"
   },
   {
    "duration": 11,
    "start_time": "2021-10-06T22:48:42.383Z"
   },
   {
    "duration": 340,
    "start_time": "2021-10-06T22:48:42.398Z"
   },
   {
    "duration": 1539,
    "start_time": "2021-10-06T22:48:42.741Z"
   },
   {
    "duration": 1343,
    "start_time": "2021-10-06T22:48:44.283Z"
   },
   {
    "duration": 49,
    "start_time": "2021-10-06T22:48:45.628Z"
   },
   {
    "duration": 24,
    "start_time": "2021-10-06T22:49:16.620Z"
   },
   {
    "duration": 261,
    "start_time": "2021-10-06T23:16:46.162Z"
   },
   {
    "duration": 386,
    "start_time": "2021-10-06T23:19:19.266Z"
   },
   {
    "duration": 244,
    "start_time": "2021-10-06T23:19:27.909Z"
   },
   {
    "duration": 221,
    "start_time": "2021-10-06T23:19:34.431Z"
   },
   {
    "duration": 3248,
    "start_time": "2021-10-06T23:19:43.206Z"
   },
   {
    "duration": 278,
    "start_time": "2021-10-06T23:19:46.457Z"
   },
   {
    "duration": 16,
    "start_time": "2021-10-06T23:19:46.738Z"
   },
   {
    "duration": 49,
    "start_time": "2021-10-06T23:19:46.757Z"
   },
   {
    "duration": 22,
    "start_time": "2021-10-06T23:19:46.809Z"
   },
   {
    "duration": 4311,
    "start_time": "2021-10-06T23:19:46.833Z"
   },
   {
    "duration": 56,
    "start_time": "2021-10-06T23:19:51.146Z"
   },
   {
    "duration": 10,
    "start_time": "2021-10-06T23:19:51.205Z"
   },
   {
    "duration": 346,
    "start_time": "2021-10-06T23:19:51.219Z"
   },
   {
    "duration": 1712,
    "start_time": "2021-10-06T23:19:51.568Z"
   },
   {
    "duration": 1307,
    "start_time": "2021-10-06T23:19:53.282Z"
   },
   {
    "duration": 270,
    "start_time": "2021-10-06T23:19:54.592Z"
   },
   {
    "duration": 247,
    "start_time": "2021-10-06T23:22:24.430Z"
   },
   {
    "duration": 227,
    "start_time": "2021-10-06T23:41:04.111Z"
   },
   {
    "duration": 233,
    "start_time": "2021-10-06T23:44:07.846Z"
   },
   {
    "duration": 306,
    "start_time": "2021-10-06T23:44:47.873Z"
   },
   {
    "duration": 289,
    "start_time": "2021-10-06T23:45:23.217Z"
   },
   {
    "duration": 310,
    "start_time": "2021-10-06T23:46:22.195Z"
   },
   {
    "duration": 219,
    "start_time": "2021-10-06T23:46:35.545Z"
   },
   {
    "duration": 409,
    "start_time": "2021-10-06T23:46:46.210Z"
   },
   {
    "duration": 3319,
    "start_time": "2021-10-06T23:46:51.300Z"
   },
   {
    "duration": 265,
    "start_time": "2021-10-06T23:46:54.622Z"
   },
   {
    "duration": 19,
    "start_time": "2021-10-06T23:46:54.891Z"
   },
   {
    "duration": 80,
    "start_time": "2021-10-06T23:46:54.913Z"
   },
   {
    "duration": 22,
    "start_time": "2021-10-06T23:46:54.996Z"
   },
   {
    "duration": 4088,
    "start_time": "2021-10-06T23:46:55.020Z"
   },
   {
    "duration": 66,
    "start_time": "2021-10-06T23:46:59.110Z"
   },
   {
    "duration": 9,
    "start_time": "2021-10-06T23:46:59.179Z"
   },
   {
    "duration": 321,
    "start_time": "2021-10-06T23:46:59.192Z"
   },
   {
    "duration": 1687,
    "start_time": "2021-10-06T23:46:59.516Z"
   },
   {
    "duration": 1477,
    "start_time": "2021-10-06T23:47:01.207Z"
   },
   {
    "duration": 279,
    "start_time": "2021-10-06T23:47:02.687Z"
   },
   {
    "duration": 242,
    "start_time": "2021-10-06T23:47:02.969Z"
   },
   {
    "duration": 244,
    "start_time": "2021-10-06T23:47:03.213Z"
   },
   {
    "duration": 226,
    "start_time": "2021-10-06T23:47:03.461Z"
   },
   {
    "duration": 231,
    "start_time": "2021-10-07T01:29:57.923Z"
   },
   {
    "duration": 612,
    "start_time": "2021-10-07T01:33:21.267Z"
   },
   {
    "duration": 3432,
    "start_time": "2021-10-07T01:33:29.815Z"
   },
   {
    "duration": 249,
    "start_time": "2021-10-07T01:33:33.250Z"
   },
   {
    "duration": 16,
    "start_time": "2021-10-07T01:33:33.502Z"
   },
   {
    "duration": 74,
    "start_time": "2021-10-07T01:33:33.521Z"
   },
   {
    "duration": 21,
    "start_time": "2021-10-07T01:33:33.597Z"
   },
   {
    "duration": 4161,
    "start_time": "2021-10-07T01:33:33.621Z"
   },
   {
    "duration": 42,
    "start_time": "2021-10-07T01:33:37.785Z"
   },
   {
    "duration": 9,
    "start_time": "2021-10-07T01:33:37.863Z"
   },
   {
    "duration": 324,
    "start_time": "2021-10-07T01:33:37.875Z"
   },
   {
    "duration": 1719,
    "start_time": "2021-10-07T01:33:38.201Z"
   },
   {
    "duration": 1426,
    "start_time": "2021-10-07T01:33:39.923Z"
   },
   {
    "duration": 572,
    "start_time": "2021-10-07T01:33:41.353Z"
   },
   {
    "duration": 631,
    "start_time": "2021-10-07T01:33:41.297Z"
   },
   {
    "duration": 629,
    "start_time": "2021-10-07T01:33:41.302Z"
   },
   {
    "duration": 625,
    "start_time": "2021-10-07T01:33:41.308Z"
   },
   {
    "duration": 234,
    "start_time": "2021-10-07T01:54:15.477Z"
   },
   {
    "duration": 255,
    "start_time": "2021-10-07T01:54:38.752Z"
   },
   {
    "duration": 3174,
    "start_time": "2021-10-07T01:59:21.217Z"
   },
   {
    "duration": 258,
    "start_time": "2021-10-07T01:59:24.394Z"
   },
   {
    "duration": 16,
    "start_time": "2021-10-07T01:59:24.655Z"
   },
   {
    "duration": 47,
    "start_time": "2021-10-07T01:59:24.674Z"
   },
   {
    "duration": 54,
    "start_time": "2021-10-07T01:59:24.726Z"
   },
   {
    "duration": 3969,
    "start_time": "2021-10-07T01:59:24.783Z"
   },
   {
    "duration": 41,
    "start_time": "2021-10-07T01:59:28.761Z"
   },
   {
    "duration": 9,
    "start_time": "2021-10-07T01:59:28.804Z"
   },
   {
    "duration": 353,
    "start_time": "2021-10-07T01:59:28.817Z"
   },
   {
    "duration": 1576,
    "start_time": "2021-10-07T01:59:29.173Z"
   },
   {
    "duration": 1514,
    "start_time": "2021-10-07T01:59:30.752Z"
   },
   {
    "duration": 279,
    "start_time": "2021-10-07T01:59:32.268Z"
   },
   {
    "duration": 242,
    "start_time": "2021-10-07T01:59:32.550Z"
   },
   {
    "duration": 245,
    "start_time": "2021-10-07T01:59:32.794Z"
   },
   {
    "duration": 242,
    "start_time": "2021-10-07T01:59:33.042Z"
   },
   {
    "duration": 3192,
    "start_time": "2021-10-07T02:15:26.563Z"
   },
   {
    "duration": 298,
    "start_time": "2021-10-07T02:15:29.759Z"
   },
   {
    "duration": 23,
    "start_time": "2021-10-07T02:15:30.061Z"
   },
   {
    "duration": 100,
    "start_time": "2021-10-07T02:15:30.087Z"
   },
   {
    "duration": 32,
    "start_time": "2021-10-07T02:15:30.190Z"
   },
   {
    "duration": 2896,
    "start_time": "2021-10-07T02:15:55.313Z"
   },
   {
    "duration": 4303,
    "start_time": "2021-10-07T04:23:48.863Z"
   },
   {
    "duration": 3279,
    "start_time": "2021-10-07T04:30:24.545Z"
   },
   {
    "duration": 278,
    "start_time": "2021-10-07T04:30:27.827Z"
   },
   {
    "duration": 15,
    "start_time": "2021-10-07T04:30:28.108Z"
   },
   {
    "duration": 67,
    "start_time": "2021-10-07T04:30:28.126Z"
   },
   {
    "duration": 22,
    "start_time": "2021-10-07T04:30:28.195Z"
   },
   {
    "duration": 525,
    "start_time": "2021-10-07T04:30:28.219Z"
   },
   {
    "duration": 54,
    "start_time": "2021-10-07T04:30:28.747Z"
   },
   {
    "duration": 9,
    "start_time": "2021-10-07T04:30:28.805Z"
   },
   {
    "duration": 321,
    "start_time": "2021-10-07T04:30:28.817Z"
   },
   {
    "duration": 1734,
    "start_time": "2021-10-07T04:30:29.140Z"
   },
   {
    "duration": 1732,
    "start_time": "2021-10-07T04:30:30.876Z"
   },
   {
    "duration": 264,
    "start_time": "2021-10-07T04:30:32.611Z"
   },
   {
    "duration": 273,
    "start_time": "2021-10-07T04:30:32.877Z"
   },
   {
    "duration": 245,
    "start_time": "2021-10-07T04:30:33.153Z"
   },
   {
    "duration": 234,
    "start_time": "2021-10-07T04:30:33.401Z"
   },
   {
    "duration": 2,
    "start_time": "2021-10-07T04:30:33.638Z"
   },
   {
    "duration": 3478,
    "start_time": "2021-10-07T04:35:22.611Z"
   },
   {
    "duration": 265,
    "start_time": "2021-10-07T04:35:26.093Z"
   },
   {
    "duration": 16,
    "start_time": "2021-10-07T04:35:26.361Z"
   },
   {
    "duration": 47,
    "start_time": "2021-10-07T04:35:26.380Z"
   },
   {
    "duration": 45,
    "start_time": "2021-10-07T04:35:26.429Z"
   },
   {
    "duration": 2716,
    "start_time": "2021-10-07T04:35:29.320Z"
   },
   {
    "duration": 3219,
    "start_time": "2021-10-07T04:36:24.490Z"
   },
   {
    "duration": 235,
    "start_time": "2021-10-07T04:36:27.712Z"
   },
   {
    "duration": 15,
    "start_time": "2021-10-07T04:36:27.950Z"
   },
   {
    "duration": 48,
    "start_time": "2021-10-07T04:36:27.968Z"
   },
   {
    "duration": 44,
    "start_time": "2021-10-07T04:36:28.018Z"
   },
   {
    "duration": 508,
    "start_time": "2021-10-07T04:36:31.205Z"
   },
   {
    "duration": 3420,
    "start_time": "2021-10-07T04:39:37.059Z"
   },
   {
    "duration": 243,
    "start_time": "2021-10-07T04:39:40.483Z"
   },
   {
    "duration": 15,
    "start_time": "2021-10-07T04:39:40.729Z"
   },
   {
    "duration": 68,
    "start_time": "2021-10-07T04:39:40.747Z"
   },
   {
    "duration": 23,
    "start_time": "2021-10-07T04:39:40.818Z"
   },
   {
    "duration": 2697,
    "start_time": "2021-10-07T04:40:12.601Z"
   },
   {
    "duration": 6239,
    "start_time": "2021-10-07T05:29:57.148Z"
   },
   {
    "duration": 244,
    "start_time": "2021-10-07T05:30:03.391Z"
   },
   {
    "duration": 15,
    "start_time": "2021-10-07T05:30:03.638Z"
   },
   {
    "duration": 58,
    "start_time": "2021-10-07T05:30:03.656Z"
   },
   {
    "duration": 44,
    "start_time": "2021-10-07T05:30:03.717Z"
   },
   {
    "duration": 4103,
    "start_time": "2021-10-07T05:30:09.646Z"
   },
   {
    "duration": 3099,
    "start_time": "2021-10-07T05:31:01.467Z"
   },
   {
    "duration": 3366,
    "start_time": "2021-10-07T05:33:32.726Z"
   },
   {
    "duration": 272,
    "start_time": "2021-10-07T05:33:36.096Z"
   },
   {
    "duration": 16,
    "start_time": "2021-10-07T05:33:36.371Z"
   },
   {
    "duration": 72,
    "start_time": "2021-10-07T05:33:36.391Z"
   },
   {
    "duration": 21,
    "start_time": "2021-10-07T05:33:36.466Z"
   },
   {
    "duration": 4150,
    "start_time": "2021-10-07T05:33:36.490Z"
   },
   {
    "duration": 63,
    "start_time": "2021-10-07T05:33:40.643Z"
   },
   {
    "duration": 9,
    "start_time": "2021-10-07T05:33:40.708Z"
   },
   {
    "duration": 301,
    "start_time": "2021-10-07T05:33:40.761Z"
   },
   {
    "duration": 1698,
    "start_time": "2021-10-07T05:33:41.064Z"
   },
   {
    "duration": 1499,
    "start_time": "2021-10-07T05:33:42.765Z"
   },
   {
    "duration": 279,
    "start_time": "2021-10-07T05:33:44.267Z"
   },
   {
    "duration": 257,
    "start_time": "2021-10-07T05:33:44.549Z"
   },
   {
    "duration": 259,
    "start_time": "2021-10-07T05:33:44.809Z"
   },
   {
    "duration": 239,
    "start_time": "2021-10-07T05:33:45.071Z"
   },
   {
    "duration": 3,
    "start_time": "2021-10-07T05:33:45.313Z"
   },
   {
    "duration": 3195,
    "start_time": "2021-10-07T05:38:31.875Z"
   },
   {
    "duration": 274,
    "start_time": "2021-10-07T05:38:35.073Z"
   },
   {
    "duration": 17,
    "start_time": "2021-10-07T05:38:35.350Z"
   },
   {
    "duration": 57,
    "start_time": "2021-10-07T05:38:35.370Z"
   },
   {
    "duration": 39,
    "start_time": "2021-10-07T05:38:35.429Z"
   },
   {
    "duration": 319,
    "start_time": "2021-10-07T05:38:35.471Z"
   },
   {
    "duration": 73,
    "start_time": "2021-10-07T05:38:35.792Z"
   },
   {
    "duration": 10,
    "start_time": "2021-10-07T05:38:35.868Z"
   },
   {
    "duration": 328,
    "start_time": "2021-10-07T05:38:35.883Z"
   },
   {
    "duration": 1585,
    "start_time": "2021-10-07T05:38:36.214Z"
   },
   {
    "duration": 1314,
    "start_time": "2021-10-07T05:38:37.802Z"
   },
   {
    "duration": 271,
    "start_time": "2021-10-07T05:38:39.118Z"
   },
   {
    "duration": 242,
    "start_time": "2021-10-07T05:38:39.392Z"
   },
   {
    "duration": 246,
    "start_time": "2021-10-07T05:38:39.637Z"
   },
   {
    "duration": 261,
    "start_time": "2021-10-07T05:38:39.886Z"
   },
   {
    "duration": 12,
    "start_time": "2021-10-07T05:38:40.150Z"
   },
   {
    "duration": 3129,
    "start_time": "2021-10-07T05:39:46.192Z"
   },
   {
    "duration": 241,
    "start_time": "2021-10-07T05:39:49.324Z"
   },
   {
    "duration": 19,
    "start_time": "2021-10-07T05:39:49.569Z"
   },
   {
    "duration": 91,
    "start_time": "2021-10-07T05:39:49.592Z"
   },
   {
    "duration": 27,
    "start_time": "2021-10-07T05:39:49.686Z"
   },
   {
    "duration": 255,
    "start_time": "2021-10-07T05:43:37.190Z"
   },
   {
    "duration": 53,
    "start_time": "2021-10-07T05:44:44.963Z"
   },
   {
    "duration": 3276,
    "start_time": "2021-10-07T06:10:40.861Z"
   },
   {
    "duration": 232,
    "start_time": "2021-10-07T06:10:44.141Z"
   },
   {
    "duration": 18,
    "start_time": "2021-10-07T06:10:44.377Z"
   },
   {
    "duration": 81,
    "start_time": "2021-10-07T06:10:44.398Z"
   },
   {
    "duration": 23,
    "start_time": "2021-10-07T06:10:44.481Z"
   },
   {
    "duration": 95,
    "start_time": "2021-10-07T06:10:44.508Z"
   },
   {
    "duration": 79,
    "start_time": "2021-10-07T06:10:44.606Z"
   },
   {
    "duration": 10,
    "start_time": "2021-10-07T06:10:44.687Z"
   },
   {
    "duration": 343,
    "start_time": "2021-10-07T06:10:44.701Z"
   },
   {
    "duration": 1622,
    "start_time": "2021-10-07T06:10:45.047Z"
   },
   {
    "duration": 1319,
    "start_time": "2021-10-07T06:10:46.671Z"
   },
   {
    "duration": 268,
    "start_time": "2021-10-07T06:10:47.993Z"
   },
   {
    "duration": 236,
    "start_time": "2021-10-07T06:10:48.264Z"
   },
   {
    "duration": 253,
    "start_time": "2021-10-07T06:10:48.503Z"
   },
   {
    "duration": 228,
    "start_time": "2021-10-07T06:10:48.761Z"
   },
   {
    "duration": 3,
    "start_time": "2021-10-07T06:10:48.992Z"
   },
   {
    "duration": 256,
    "start_time": "2021-10-07T06:10:59.857Z"
   },
   {
    "duration": 226,
    "start_time": "2021-10-07T06:25:25.688Z"
   },
   {
    "duration": 251,
    "start_time": "2021-10-07T06:25:44.738Z"
   },
   {
    "duration": 237,
    "start_time": "2021-10-07T06:25:55.068Z"
   },
   {
    "duration": 280,
    "start_time": "2021-10-07T06:27:29.031Z"
   },
   {
    "duration": 265,
    "start_time": "2021-10-07T06:27:40.511Z"
   },
   {
    "duration": 8,
    "start_time": "2021-10-07T06:29:53.287Z"
   },
   {
    "duration": 15,
    "start_time": "2021-10-07T06:29:56.226Z"
   },
   {
    "duration": 11,
    "start_time": "2021-10-07T06:30:26.564Z"
   },
   {
    "duration": 16,
    "start_time": "2021-10-07T06:30:31.287Z"
   },
   {
    "duration": 3938,
    "start_time": "2021-10-07T06:32:05.771Z"
   },
   {
    "duration": 432,
    "start_time": "2021-10-07T06:32:09.712Z"
   },
   {
    "duration": 17,
    "start_time": "2021-10-07T06:32:10.147Z"
   },
   {
    "duration": 54,
    "start_time": "2021-10-07T06:32:10.167Z"
   },
   {
    "duration": 61,
    "start_time": "2021-10-07T06:32:10.224Z"
   },
   {
    "duration": 108,
    "start_time": "2021-10-07T06:32:10.289Z"
   },
   {
    "duration": 72,
    "start_time": "2021-10-07T06:32:10.401Z"
   },
   {
    "duration": 10,
    "start_time": "2021-10-07T06:32:10.477Z"
   },
   {
    "duration": 360,
    "start_time": "2021-10-07T06:32:10.489Z"
   },
   {
    "duration": 1883,
    "start_time": "2021-10-07T06:32:10.851Z"
   },
   {
    "duration": 1393,
    "start_time": "2021-10-07T06:32:12.736Z"
   },
   {
    "duration": 292,
    "start_time": "2021-10-07T06:32:14.133Z"
   },
   {
    "duration": 283,
    "start_time": "2021-10-07T06:32:14.427Z"
   },
   {
    "duration": 269,
    "start_time": "2021-10-07T06:32:14.712Z"
   },
   {
    "duration": 274,
    "start_time": "2021-10-07T06:32:14.984Z"
   },
   {
    "duration": 253,
    "start_time": "2021-10-07T06:32:15.260Z"
   },
   {
    "duration": 266,
    "start_time": "2021-10-07T06:32:15.515Z"
   },
   {
    "duration": 3,
    "start_time": "2021-10-07T06:32:15.783Z"
   },
   {
    "duration": 3631,
    "start_time": "2021-10-07T06:44:24.068Z"
   },
   {
    "duration": 261,
    "start_time": "2021-10-07T06:44:27.703Z"
   },
   {
    "duration": 15,
    "start_time": "2021-10-07T06:44:27.967Z"
   },
   {
    "duration": 77,
    "start_time": "2021-10-07T06:44:27.986Z"
   },
   {
    "duration": 22,
    "start_time": "2021-10-07T06:44:28.066Z"
   },
   {
    "duration": 90,
    "start_time": "2021-10-07T06:44:28.091Z"
   },
   {
    "duration": 47,
    "start_time": "2021-10-07T06:44:28.184Z"
   },
   {
    "duration": 35,
    "start_time": "2021-10-07T06:44:28.234Z"
   },
   {
    "duration": 325,
    "start_time": "2021-10-07T06:44:28.272Z"
   },
   {
    "duration": 1557,
    "start_time": "2021-10-07T06:44:28.600Z"
   },
   {
    "duration": 1310,
    "start_time": "2021-10-07T06:44:30.160Z"
   },
   {
    "duration": 272,
    "start_time": "2021-10-07T06:44:31.473Z"
   },
   {
    "duration": 260,
    "start_time": "2021-10-07T06:44:31.748Z"
   },
   {
    "duration": 234,
    "start_time": "2021-10-07T06:44:32.011Z"
   },
   {
    "duration": 258,
    "start_time": "2021-10-07T06:44:32.247Z"
   },
   {
    "duration": 252,
    "start_time": "2021-10-07T06:44:32.509Z"
   },
   {
    "duration": 247,
    "start_time": "2021-10-07T06:44:32.764Z"
   },
   {
    "duration": 4,
    "start_time": "2021-10-07T06:44:33.013Z"
   },
   {
    "duration": 355,
    "start_time": "2021-10-07T07:46:05.693Z"
   },
   {
    "duration": 29,
    "start_time": "2021-10-07T08:19:55.198Z"
   },
   {
    "duration": 3389,
    "start_time": "2021-10-07T09:12:01.740Z"
   },
   {
    "duration": 241,
    "start_time": "2021-10-07T09:12:05.132Z"
   },
   {
    "duration": 15,
    "start_time": "2021-10-07T09:12:05.377Z"
   },
   {
    "duration": 331,
    "start_time": "2021-10-07T09:12:05.395Z"
   },
   {
    "duration": 37,
    "start_time": "2021-10-07T09:12:05.729Z"
   },
   {
    "duration": 51,
    "start_time": "2021-10-07T09:12:05.769Z"
   },
   {
    "duration": 68,
    "start_time": "2021-10-07T09:12:05.823Z"
   },
   {
    "duration": 10,
    "start_time": "2021-10-07T09:12:05.893Z"
   },
   {
    "duration": 319,
    "start_time": "2021-10-07T09:12:05.906Z"
   },
   {
    "duration": 1572,
    "start_time": "2021-10-07T09:12:06.228Z"
   },
   {
    "duration": 1293,
    "start_time": "2021-10-07T09:12:07.803Z"
   },
   {
    "duration": 271,
    "start_time": "2021-10-07T09:12:09.099Z"
   },
   {
    "duration": 245,
    "start_time": "2021-10-07T09:12:09.373Z"
   },
   {
    "duration": 239,
    "start_time": "2021-10-07T09:12:09.621Z"
   },
   {
    "duration": 244,
    "start_time": "2021-10-07T09:12:09.862Z"
   },
   {
    "duration": 255,
    "start_time": "2021-10-07T09:12:10.109Z"
   },
   {
    "duration": 239,
    "start_time": "2021-10-07T09:12:10.367Z"
   },
   {
    "duration": 15,
    "start_time": "2021-10-07T09:12:10.609Z"
   },
   {
    "duration": 3173,
    "start_time": "2021-10-07T09:14:37.232Z"
   },
   {
    "duration": 257,
    "start_time": "2021-10-07T09:14:40.408Z"
   },
   {
    "duration": 25,
    "start_time": "2021-10-07T09:14:40.670Z"
   },
   {
    "duration": 94,
    "start_time": "2021-10-07T09:14:40.699Z"
   },
   {
    "duration": 31,
    "start_time": "2021-10-07T09:14:40.796Z"
   },
   {
    "duration": 99,
    "start_time": "2021-10-07T09:14:40.830Z"
   },
   {
    "duration": 65,
    "start_time": "2021-10-07T09:14:40.931Z"
   },
   {
    "duration": 9,
    "start_time": "2021-10-07T09:14:40.998Z"
   },
   {
    "duration": 313,
    "start_time": "2021-10-07T09:14:41.011Z"
   },
   {
    "duration": 1639,
    "start_time": "2021-10-07T09:14:41.326Z"
   },
   {
    "duration": 1657,
    "start_time": "2021-10-07T09:14:42.968Z"
   },
   {
    "duration": 267,
    "start_time": "2021-10-07T09:14:44.628Z"
   },
   {
    "duration": 263,
    "start_time": "2021-10-07T09:14:44.899Z"
   },
   {
    "duration": 263,
    "start_time": "2021-10-07T09:14:45.164Z"
   },
   {
    "duration": 235,
    "start_time": "2021-10-07T09:14:45.429Z"
   },
   {
    "duration": 259,
    "start_time": "2021-10-07T09:14:45.667Z"
   },
   {
    "duration": 243,
    "start_time": "2021-10-07T09:14:45.929Z"
   },
   {
    "duration": 36,
    "start_time": "2021-10-07T09:14:46.175Z"
   },
   {
    "duration": 18,
    "start_time": "2021-10-07T09:15:26.729Z"
   },
   {
    "duration": 317,
    "start_time": "2021-10-07T09:22:34.265Z"
   },
   {
    "duration": 18,
    "start_time": "2021-10-07T09:22:40.225Z"
   },
   {
    "duration": 15,
    "start_time": "2021-10-07T09:38:40.995Z"
   },
   {
    "duration": 26,
    "start_time": "2021-10-07T09:43:04.565Z"
   },
   {
    "duration": 24,
    "start_time": "2021-10-07T09:43:21.230Z"
   },
   {
    "duration": 415,
    "start_time": "2021-10-07T10:21:20.045Z"
   },
   {
    "duration": 4810,
    "start_time": "2021-10-07T10:21:24.379Z"
   },
   {
    "duration": 392,
    "start_time": "2021-10-07T10:21:29.192Z"
   },
   {
    "duration": 17,
    "start_time": "2021-10-07T10:21:29.587Z"
   },
   {
    "duration": 80,
    "start_time": "2021-10-07T10:21:29.607Z"
   },
   {
    "duration": 22,
    "start_time": "2021-10-07T10:21:29.689Z"
   },
   {
    "duration": 88,
    "start_time": "2021-10-07T10:21:29.713Z"
   },
   {
    "duration": 64,
    "start_time": "2021-10-07T10:21:29.805Z"
   },
   {
    "duration": 10,
    "start_time": "2021-10-07T10:21:29.872Z"
   },
   {
    "duration": 370,
    "start_time": "2021-10-07T10:21:29.886Z"
   },
   {
    "duration": 1707,
    "start_time": "2021-10-07T10:21:30.263Z"
   },
   {
    "duration": 1351,
    "start_time": "2021-10-07T10:21:31.972Z"
   },
   {
    "duration": 350,
    "start_time": "2021-10-07T10:21:33.325Z"
   },
   {
    "duration": 1032,
    "start_time": "2021-10-07T10:21:32.645Z"
   },
   {
    "duration": 1025,
    "start_time": "2021-10-07T10:21:32.654Z"
   },
   {
    "duration": 1021,
    "start_time": "2021-10-07T10:21:32.659Z"
   },
   {
    "duration": 1016,
    "start_time": "2021-10-07T10:21:32.666Z"
   },
   {
    "duration": 1011,
    "start_time": "2021-10-07T10:21:32.672Z"
   },
   {
    "duration": 1008,
    "start_time": "2021-10-07T10:21:32.677Z"
   },
   {
    "duration": 1004,
    "start_time": "2021-10-07T10:21:32.683Z"
   },
   {
    "duration": 12,
    "start_time": "2021-10-07T10:21:45.300Z"
   },
   {
    "duration": 3278,
    "start_time": "2021-10-07T10:22:24.728Z"
   },
   {
    "duration": 298,
    "start_time": "2021-10-07T10:22:28.009Z"
   },
   {
    "duration": 16,
    "start_time": "2021-10-07T10:22:28.311Z"
   },
   {
    "duration": 61,
    "start_time": "2021-10-07T10:22:28.331Z"
   },
   {
    "duration": 22,
    "start_time": "2021-10-07T10:22:28.395Z"
   },
   {
    "duration": 84,
    "start_time": "2021-10-07T10:22:28.420Z"
   },
   {
    "duration": 77,
    "start_time": "2021-10-07T10:22:28.506Z"
   },
   {
    "duration": 9,
    "start_time": "2021-10-07T10:22:28.586Z"
   },
   {
    "duration": 457,
    "start_time": "2021-10-07T10:22:28.600Z"
   },
   {
    "duration": 2428,
    "start_time": "2021-10-07T10:22:29.061Z"
   },
   {
    "duration": 2186,
    "start_time": "2021-10-07T10:22:31.492Z"
   },
   {
    "duration": 269,
    "start_time": "2021-10-07T10:22:33.681Z"
   },
   {
    "duration": 249,
    "start_time": "2021-10-07T10:22:33.952Z"
   },
   {
    "duration": 558,
    "start_time": "2021-10-07T10:22:34.204Z"
   },
   {
    "duration": 235,
    "start_time": "2021-10-07T10:22:34.764Z"
   },
   {
    "duration": 276,
    "start_time": "2021-10-07T10:22:35.002Z"
   },
   {
    "duration": 262,
    "start_time": "2021-10-07T10:22:35.281Z"
   },
   {
    "duration": 34,
    "start_time": "2021-10-07T10:22:35.545Z"
   },
   {
    "duration": 14,
    "start_time": "2021-10-07T10:22:42.470Z"
   },
   {
    "duration": 12,
    "start_time": "2021-10-07T10:31:23.416Z"
   },
   {
    "duration": 25,
    "start_time": "2021-10-07T10:33:06.914Z"
   },
   {
    "duration": 22,
    "start_time": "2021-10-07T10:33:15.217Z"
   },
   {
    "duration": 350,
    "start_time": "2021-10-07T10:34:39.181Z"
   },
   {
    "duration": 376,
    "start_time": "2021-10-07T10:35:01.071Z"
   },
   {
    "duration": 5047,
    "start_time": "2021-10-07T20:32:32.714Z"
   },
   {
    "duration": 215,
    "start_time": "2021-10-07T20:32:37.764Z"
   },
   {
    "duration": 17,
    "start_time": "2021-10-07T20:32:37.982Z"
   },
   {
    "duration": 86,
    "start_time": "2021-10-07T20:32:38.002Z"
   },
   {
    "duration": 22,
    "start_time": "2021-10-07T20:32:38.091Z"
   },
   {
    "duration": 96,
    "start_time": "2021-10-07T20:32:38.116Z"
   },
   {
    "duration": 72,
    "start_time": "2021-10-07T20:32:38.214Z"
   },
   {
    "duration": 9,
    "start_time": "2021-10-07T20:32:38.289Z"
   },
   {
    "duration": 327,
    "start_time": "2021-10-07T20:32:38.302Z"
   },
   {
    "duration": 1562,
    "start_time": "2021-10-07T20:32:38.632Z"
   },
   {
    "duration": 1317,
    "start_time": "2021-10-07T20:32:40.197Z"
   },
   {
    "duration": 373,
    "start_time": "2021-10-07T20:32:41.517Z"
   },
   {
    "duration": 264,
    "start_time": "2021-10-07T20:32:41.892Z"
   },
   {
    "duration": 265,
    "start_time": "2021-10-07T20:32:42.158Z"
   },
   {
    "duration": 258,
    "start_time": "2021-10-07T20:32:42.426Z"
   },
   {
    "duration": 276,
    "start_time": "2021-10-07T20:32:42.686Z"
   },
   {
    "duration": 267,
    "start_time": "2021-10-07T20:32:42.967Z"
   },
   {
    "duration": 438,
    "start_time": "2021-10-07T20:32:43.237Z"
   },
   {
    "duration": 1163,
    "start_time": "2021-10-07T20:32:42.514Z"
   },
   {
    "duration": 10,
    "start_time": "2021-10-07T23:26:38.749Z"
   },
   {
    "duration": 4630,
    "start_time": "2021-10-08T01:33:57.058Z"
   },
   {
    "duration": 258,
    "start_time": "2021-10-08T01:34:01.691Z"
   },
   {
    "duration": 16,
    "start_time": "2021-10-08T01:34:01.952Z"
   },
   {
    "duration": 52,
    "start_time": "2021-10-08T01:34:01.971Z"
   },
   {
    "duration": 41,
    "start_time": "2021-10-08T01:34:02.026Z"
   },
   {
    "duration": 53,
    "start_time": "2021-10-08T01:34:02.070Z"
   },
   {
    "duration": 72,
    "start_time": "2021-10-08T01:34:02.125Z"
   },
   {
    "duration": 10,
    "start_time": "2021-10-08T01:34:02.201Z"
   },
   {
    "duration": 314,
    "start_time": "2021-10-08T01:34:02.213Z"
   },
   {
    "duration": 1625,
    "start_time": "2021-10-08T01:34:02.529Z"
   },
   {
    "duration": 1486,
    "start_time": "2021-10-08T01:34:04.156Z"
   },
   {
    "duration": 283,
    "start_time": "2021-10-08T01:34:05.644Z"
   },
   {
    "duration": 239,
    "start_time": "2021-10-08T01:34:05.930Z"
   },
   {
    "duration": 253,
    "start_time": "2021-10-08T01:34:06.171Z"
   },
   {
    "duration": 232,
    "start_time": "2021-10-08T01:34:06.426Z"
   },
   {
    "duration": 239,
    "start_time": "2021-10-08T01:34:06.660Z"
   },
   {
    "duration": 237,
    "start_time": "2021-10-08T01:34:06.901Z"
   },
   {
    "duration": 294,
    "start_time": "2021-10-08T01:34:07.141Z"
   },
   {
    "duration": 11,
    "start_time": "2021-10-08T01:34:13.264Z"
   },
   {
    "duration": 308,
    "start_time": "2021-10-08T01:35:09.919Z"
   },
   {
    "duration": 20,
    "start_time": "2021-10-08T01:35:13.061Z"
   },
   {
    "duration": 280,
    "start_time": "2021-10-08T01:35:25.345Z"
   },
   {
    "duration": 19,
    "start_time": "2021-10-08T01:35:26.950Z"
   },
   {
    "duration": 307,
    "start_time": "2021-10-08T01:35:50.597Z"
   },
   {
    "duration": 20,
    "start_time": "2021-10-08T01:36:04.125Z"
   },
   {
    "duration": 19,
    "start_time": "2021-10-08T01:40:25.467Z"
   },
   {
    "duration": 495,
    "start_time": "2021-10-08T01:48:20.146Z"
   },
   {
    "duration": 436,
    "start_time": "2021-10-08T02:09:46.659Z"
   },
   {
    "duration": 432,
    "start_time": "2021-10-08T02:10:36.593Z"
   },
   {
    "duration": 404,
    "start_time": "2021-10-08T02:10:46.579Z"
   },
   {
    "duration": 409,
    "start_time": "2021-10-08T02:17:58.073Z"
   },
   {
    "duration": 444,
    "start_time": "2021-10-08T02:18:13.238Z"
   },
   {
    "duration": 3351,
    "start_time": "2021-10-08T03:49:42.031Z"
   },
   {
    "duration": 230,
    "start_time": "2021-10-08T03:49:45.386Z"
   },
   {
    "duration": 17,
    "start_time": "2021-10-08T03:49:45.619Z"
   },
   {
    "duration": 182,
    "start_time": "2021-10-08T03:49:45.639Z"
   },
   {
    "duration": 46,
    "start_time": "2021-10-08T03:49:45.823Z"
   },
   {
    "duration": 54,
    "start_time": "2021-10-08T03:49:45.871Z"
   },
   {
    "duration": 75,
    "start_time": "2021-10-08T03:49:45.928Z"
   },
   {
    "duration": 13,
    "start_time": "2021-10-08T03:49:46.006Z"
   },
   {
    "duration": 375,
    "start_time": "2021-10-08T03:49:46.025Z"
   },
   {
    "duration": 1705,
    "start_time": "2021-10-08T03:49:46.404Z"
   },
   {
    "duration": 1313,
    "start_time": "2021-10-08T03:49:48.111Z"
   },
   {
    "duration": 277,
    "start_time": "2021-10-08T03:49:49.426Z"
   },
   {
    "duration": 262,
    "start_time": "2021-10-08T03:49:49.705Z"
   },
   {
    "duration": 268,
    "start_time": "2021-10-08T03:49:49.969Z"
   },
   {
    "duration": 252,
    "start_time": "2021-10-08T03:49:50.240Z"
   },
   {
    "duration": 368,
    "start_time": "2021-10-08T03:49:50.494Z"
   },
   {
    "duration": 249,
    "start_time": "2021-10-08T03:49:50.868Z"
   },
   {
    "duration": 529,
    "start_time": "2021-10-08T03:49:51.120Z"
   },
   {
    "duration": 31,
    "start_time": "2021-10-08T03:49:51.652Z"
   },
   {
    "duration": 35,
    "start_time": "2021-10-08T03:49:51.685Z"
   },
   {
    "duration": 425,
    "start_time": "2021-10-08T03:57:37.951Z"
   },
   {
    "duration": 417,
    "start_time": "2021-10-08T03:58:44.374Z"
   },
   {
    "duration": 854,
    "start_time": "2021-10-08T04:01:42.170Z"
   },
   {
    "duration": 862,
    "start_time": "2021-10-08T04:02:56.676Z"
   },
   {
    "duration": 317,
    "start_time": "2021-10-08T05:04:53.935Z"
   },
   {
    "duration": 842,
    "start_time": "2021-10-08T05:06:06.197Z"
   },
   {
    "duration": 273,
    "start_time": "2021-10-08T05:06:25.339Z"
   },
   {
    "duration": 3024,
    "start_time": "2021-10-08T05:06:34.028Z"
   },
   {
    "duration": 205,
    "start_time": "2021-10-08T05:06:37.056Z"
   },
   {
    "duration": 16,
    "start_time": "2021-10-08T05:06:37.265Z"
   },
   {
    "duration": 52,
    "start_time": "2021-10-08T05:06:37.284Z"
   },
   {
    "duration": 24,
    "start_time": "2021-10-08T05:06:37.368Z"
   },
   {
    "duration": 94,
    "start_time": "2021-10-08T05:06:37.395Z"
   },
   {
    "duration": 46,
    "start_time": "2021-10-08T05:06:37.492Z"
   },
   {
    "duration": 11,
    "start_time": "2021-10-08T05:06:37.569Z"
   },
   {
    "duration": 341,
    "start_time": "2021-10-08T05:06:37.583Z"
   },
   {
    "duration": 1695,
    "start_time": "2021-10-08T05:06:37.927Z"
   },
   {
    "duration": 1346,
    "start_time": "2021-10-08T05:06:39.625Z"
   },
   {
    "duration": 294,
    "start_time": "2021-10-08T05:06:40.975Z"
   },
   {
    "duration": 270,
    "start_time": "2021-10-08T05:06:41.272Z"
   },
   {
    "duration": 269,
    "start_time": "2021-10-08T05:06:41.546Z"
   },
   {
    "duration": 257,
    "start_time": "2021-10-08T05:06:41.818Z"
   },
   {
    "duration": 261,
    "start_time": "2021-10-08T05:06:42.077Z"
   },
   {
    "duration": 243,
    "start_time": "2021-10-08T05:06:42.341Z"
   },
   {
    "duration": 876,
    "start_time": "2021-10-08T05:06:42.587Z"
   },
   {
    "duration": 289,
    "start_time": "2021-10-08T05:06:43.468Z"
   },
   {
    "duration": -30,
    "start_time": "2021-10-08T05:06:43.790Z"
   },
   {
    "duration": -40,
    "start_time": "2021-10-08T05:06:43.801Z"
   },
   {
    "duration": 864,
    "start_time": "2021-10-08T05:08:08.492Z"
   },
   {
    "duration": 1003,
    "start_time": "2021-10-08T05:08:19.946Z"
   },
   {
    "duration": 33,
    "start_time": "2021-10-08T05:13:49.771Z"
   },
   {
    "duration": 14,
    "start_time": "2021-10-08T05:18:59.009Z"
   },
   {
    "duration": 18,
    "start_time": "2021-10-08T05:19:04.640Z"
   },
   {
    "duration": 19,
    "start_time": "2021-10-08T05:19:12.629Z"
   },
   {
    "duration": 19,
    "start_time": "2021-10-08T05:38:04.133Z"
   },
   {
    "duration": 16,
    "start_time": "2021-10-08T06:26:20.484Z"
   },
   {
    "duration": 7,
    "start_time": "2021-10-08T06:27:37.505Z"
   },
   {
    "duration": 14,
    "start_time": "2021-10-08T06:27:42.214Z"
   },
   {
    "duration": 38,
    "start_time": "2021-10-08T06:27:59.848Z"
   },
   {
    "duration": 19,
    "start_time": "2021-10-08T06:29:47.944Z"
   },
   {
    "duration": 17,
    "start_time": "2021-10-08T06:31:48.657Z"
   },
   {
    "duration": 46,
    "start_time": "2021-10-08T06:32:17.660Z"
   },
   {
    "duration": 34,
    "start_time": "2021-10-08T06:34:35.415Z"
   },
   {
    "duration": 41,
    "start_time": "2021-10-08T06:36:15.651Z"
   },
   {
    "duration": 41,
    "start_time": "2021-10-08T06:45:47.593Z"
   },
   {
    "duration": 43,
    "start_time": "2021-10-08T07:18:51.816Z"
   },
   {
    "duration": 44,
    "start_time": "2021-10-08T08:41:17.857Z"
   },
   {
    "duration": 33,
    "start_time": "2021-10-08T08:45:40.343Z"
   },
   {
    "duration": 599,
    "start_time": "2021-10-08T08:46:17.188Z"
   },
   {
    "duration": 26,
    "start_time": "2021-10-08T08:46:32.500Z"
   },
   {
    "duration": 271,
    "start_time": "2021-10-08T08:46:52.149Z"
   },
   {
    "duration": 11,
    "start_time": "2021-10-08T08:46:58.821Z"
   },
   {
    "duration": 37,
    "start_time": "2021-10-08T08:50:08.239Z"
   },
   {
    "duration": 13,
    "start_time": "2021-10-08T08:50:13.388Z"
   },
   {
    "duration": 14,
    "start_time": "2021-10-08T08:50:19.977Z"
   },
   {
    "duration": 16,
    "start_time": "2021-10-08T08:53:00.481Z"
   },
   {
    "duration": 282,
    "start_time": "2021-10-08T08:53:22.543Z"
   },
   {
    "duration": 9,
    "start_time": "2021-10-08T08:53:43.711Z"
   },
   {
    "duration": 296,
    "start_time": "2021-10-08T08:53:46.940Z"
   },
   {
    "duration": 3146,
    "start_time": "2021-10-08T08:53:55.403Z"
   },
   {
    "duration": 228,
    "start_time": "2021-10-08T08:53:58.552Z"
   },
   {
    "duration": 17,
    "start_time": "2021-10-08T08:53:58.783Z"
   },
   {
    "duration": 69,
    "start_time": "2021-10-08T08:53:58.803Z"
   },
   {
    "duration": 21,
    "start_time": "2021-10-08T08:53:58.874Z"
   },
   {
    "duration": 77,
    "start_time": "2021-10-08T08:53:58.898Z"
   },
   {
    "duration": 47,
    "start_time": "2021-10-08T08:53:58.977Z"
   },
   {
    "duration": 9,
    "start_time": "2021-10-08T08:53:59.027Z"
   },
   {
    "duration": 309,
    "start_time": "2021-10-08T08:53:59.068Z"
   },
   {
    "duration": 1575,
    "start_time": "2021-10-08T08:53:59.380Z"
   },
   {
    "duration": 1518,
    "start_time": "2021-10-08T08:54:00.958Z"
   },
   {
    "duration": 270,
    "start_time": "2021-10-08T08:54:02.479Z"
   },
   {
    "duration": 239,
    "start_time": "2021-10-08T08:54:02.752Z"
   },
   {
    "duration": 262,
    "start_time": "2021-10-08T08:54:02.994Z"
   },
   {
    "duration": 264,
    "start_time": "2021-10-08T08:54:03.259Z"
   },
   {
    "duration": 253,
    "start_time": "2021-10-08T08:54:03.526Z"
   },
   {
    "duration": 247,
    "start_time": "2021-10-08T08:54:03.782Z"
   },
   {
    "duration": 923,
    "start_time": "2021-10-08T08:54:04.032Z"
   },
   {
    "duration": 883,
    "start_time": "2021-10-08T08:54:04.957Z"
   },
   {
    "duration": 30,
    "start_time": "2021-10-08T08:54:05.843Z"
   },
   {
    "duration": 41,
    "start_time": "2021-10-08T08:54:05.875Z"
   },
   {
    "duration": 66,
    "start_time": "2021-10-08T08:54:05.919Z"
   },
   {
    "duration": 304,
    "start_time": "2021-10-08T08:54:05.987Z"
   },
   {
    "duration": 136,
    "start_time": "2021-10-08T08:54:06.158Z"
   },
   {
    "duration": 245,
    "start_time": "2021-10-08T08:54:48.816Z"
   },
   {
    "duration": 3,
    "start_time": "2021-10-08T08:54:59.641Z"
   },
   {
    "duration": 3107,
    "start_time": "2021-10-08T08:55:10.274Z"
   },
   {
    "duration": 424,
    "start_time": "2021-10-08T08:55:13.384Z"
   },
   {
    "duration": 16,
    "start_time": "2021-10-08T08:55:13.811Z"
   },
   {
    "duration": 61,
    "start_time": "2021-10-08T08:55:13.830Z"
   },
   {
    "duration": 22,
    "start_time": "2021-10-08T08:55:13.893Z"
   },
   {
    "duration": 88,
    "start_time": "2021-10-08T08:55:13.918Z"
   },
   {
    "duration": 63,
    "start_time": "2021-10-08T08:55:14.008Z"
   },
   {
    "duration": 10,
    "start_time": "2021-10-08T08:55:14.073Z"
   },
   {
    "duration": 328,
    "start_time": "2021-10-08T08:55:14.087Z"
   },
   {
    "duration": 1557,
    "start_time": "2021-10-08T08:55:14.418Z"
   },
   {
    "duration": 1277,
    "start_time": "2021-10-08T08:55:15.977Z"
   },
   {
    "duration": 270,
    "start_time": "2021-10-08T08:55:17.256Z"
   },
   {
    "duration": 459,
    "start_time": "2021-10-08T08:55:17.528Z"
   },
   {
    "duration": 247,
    "start_time": "2021-10-08T08:55:17.989Z"
   },
   {
    "duration": 250,
    "start_time": "2021-10-08T08:55:18.239Z"
   },
   {
    "duration": 263,
    "start_time": "2021-10-08T08:55:18.493Z"
   },
   {
    "duration": 250,
    "start_time": "2021-10-08T08:55:18.759Z"
   },
   {
    "duration": 934,
    "start_time": "2021-10-08T08:55:19.012Z"
   },
   {
    "duration": 883,
    "start_time": "2021-10-08T08:55:19.949Z"
   },
   {
    "duration": 32,
    "start_time": "2021-10-08T08:55:20.835Z"
   },
   {
    "duration": 41,
    "start_time": "2021-10-08T08:55:20.870Z"
   },
   {
    "duration": 70,
    "start_time": "2021-10-08T08:55:20.913Z"
   },
   {
    "duration": 33,
    "start_time": "2021-10-08T08:55:20.986Z"
   },
   {
    "duration": 10,
    "start_time": "2021-10-08T08:59:37.412Z"
   },
   {
    "duration": 370,
    "start_time": "2021-10-08T09:00:01.735Z"
   },
   {
    "duration": 14,
    "start_time": "2021-10-08T09:01:05.116Z"
   },
   {
    "duration": 20,
    "start_time": "2021-10-08T09:01:30.822Z"
   },
   {
    "duration": 14,
    "start_time": "2021-10-08T09:56:02.980Z"
   },
   {
    "duration": 37,
    "start_time": "2021-10-08T09:56:09.744Z"
   },
   {
    "duration": 21,
    "start_time": "2021-10-08T10:07:26.477Z"
   },
   {
    "duration": 279,
    "start_time": "2021-10-08T10:23:12.057Z"
   },
   {
    "duration": 31,
    "start_time": "2021-10-08T10:23:31.672Z"
   },
   {
    "duration": 21,
    "start_time": "2021-10-08T11:07:28.248Z"
   },
   {
    "duration": 3653,
    "start_time": "2021-10-08T19:05:23.731Z"
   },
   {
    "duration": 161,
    "start_time": "2021-10-08T19:05:27.387Z"
   },
   {
    "duration": 11,
    "start_time": "2021-10-08T19:05:27.551Z"
   },
   {
    "duration": 35,
    "start_time": "2021-10-08T19:05:27.564Z"
   },
   {
    "duration": 48,
    "start_time": "2021-10-08T19:05:27.601Z"
   },
   {
    "duration": 35,
    "start_time": "2021-10-08T19:05:27.651Z"
   },
   {
    "duration": 29,
    "start_time": "2021-10-08T19:05:27.687Z"
   },
   {
    "duration": 7,
    "start_time": "2021-10-08T19:05:27.750Z"
   },
   {
    "duration": 192,
    "start_time": "2021-10-08T19:05:27.760Z"
   },
   {
    "duration": 958,
    "start_time": "2021-10-08T19:05:27.954Z"
   },
   {
    "duration": 790,
    "start_time": "2021-10-08T19:05:28.914Z"
   },
   {
    "duration": 254,
    "start_time": "2021-10-08T19:05:29.706Z"
   },
   {
    "duration": 154,
    "start_time": "2021-10-08T19:05:29.962Z"
   },
   {
    "duration": 148,
    "start_time": "2021-10-08T19:05:30.118Z"
   },
   {
    "duration": 149,
    "start_time": "2021-10-08T19:05:30.268Z"
   },
   {
    "duration": 151,
    "start_time": "2021-10-08T19:05:30.418Z"
   },
   {
    "duration": 154,
    "start_time": "2021-10-08T19:05:30.571Z"
   },
   {
    "duration": 684,
    "start_time": "2021-10-08T19:05:30.727Z"
   },
   {
    "duration": 581,
    "start_time": "2021-10-08T19:05:31.413Z"
   },
   {
    "duration": 14,
    "start_time": "2021-10-08T19:05:31.996Z"
   },
   {
    "duration": 53,
    "start_time": "2021-10-08T19:05:32.012Z"
   },
   {
    "duration": 29,
    "start_time": "2021-10-08T19:05:32.067Z"
   },
   {
    "duration": 51,
    "start_time": "2021-10-08T19:05:32.098Z"
   },
   {
    "duration": 15,
    "start_time": "2021-10-08T19:05:32.151Z"
   },
   {
    "duration": 1286,
    "start_time": "2021-10-08T19:11:36.465Z"
   },
   {
    "duration": 1190,
    "start_time": "2021-10-08T19:12:11.285Z"
   },
   {
    "duration": 13,
    "start_time": "2021-10-08T19:13:58.129Z"
   },
   {
    "duration": 9,
    "start_time": "2021-10-08T19:14:30.525Z"
   },
   {
    "duration": 214,
    "start_time": "2021-10-08T19:14:45.917Z"
   },
   {
    "duration": 8,
    "start_time": "2021-10-08T19:14:48.503Z"
   },
   {
    "duration": 1643,
    "start_time": "2021-10-08T19:15:12.229Z"
   },
   {
    "duration": 1443,
    "start_time": "2021-10-08T19:15:25.977Z"
   },
   {
    "duration": 482,
    "start_time": "2021-10-08T19:16:08.619Z"
   },
   {
    "duration": 209,
    "start_time": "2021-10-08T19:18:44.111Z"
   },
   {
    "duration": 181,
    "start_time": "2021-10-08T19:20:29.157Z"
   },
   {
    "duration": 166,
    "start_time": "2021-10-08T19:20:38.887Z"
   },
   {
    "duration": 186,
    "start_time": "2021-10-08T19:21:15.227Z"
   },
   {
    "duration": 181,
    "start_time": "2021-10-08T19:22:20.514Z"
   },
   {
    "duration": 207,
    "start_time": "2021-10-08T19:22:27.700Z"
   },
   {
    "duration": 2261,
    "start_time": "2021-10-08T19:22:31.308Z"
   },
   {
    "duration": 174,
    "start_time": "2021-10-08T19:22:33.572Z"
   },
   {
    "duration": 16,
    "start_time": "2021-10-08T19:22:33.748Z"
   },
   {
    "duration": 34,
    "start_time": "2021-10-08T19:22:33.766Z"
   },
   {
    "duration": 57,
    "start_time": "2021-10-08T19:22:33.802Z"
   },
   {
    "duration": 38,
    "start_time": "2021-10-08T19:22:33.861Z"
   },
   {
    "duration": 70,
    "start_time": "2021-10-08T19:22:33.901Z"
   },
   {
    "duration": 6,
    "start_time": "2021-10-08T19:22:33.973Z"
   },
   {
    "duration": 229,
    "start_time": "2021-10-08T19:22:33.982Z"
   },
   {
    "duration": 1004,
    "start_time": "2021-10-08T19:22:34.214Z"
   },
   {
    "duration": 198,
    "start_time": "2021-10-08T19:22:35.220Z"
   },
   {
    "duration": 10,
    "start_time": "2021-10-08T19:22:35.420Z"
   },
   {
    "duration": 997,
    "start_time": "2021-10-08T19:22:35.432Z"
   },
   {
    "duration": 170,
    "start_time": "2021-10-08T19:22:36.431Z"
   },
   {
    "duration": 158,
    "start_time": "2021-10-08T19:22:36.603Z"
   },
   {
    "duration": 215,
    "start_time": "2021-10-08T19:22:36.764Z"
   },
   {
    "duration": 213,
    "start_time": "2021-10-08T19:22:36.982Z"
   },
   {
    "duration": 228,
    "start_time": "2021-10-08T19:22:37.197Z"
   },
   {
    "duration": 236,
    "start_time": "2021-10-08T19:22:37.427Z"
   },
   {
    "duration": 761,
    "start_time": "2021-10-08T19:22:37.665Z"
   },
   {
    "duration": 599,
    "start_time": "2021-10-08T19:22:38.428Z"
   },
   {
    "duration": 26,
    "start_time": "2021-10-08T19:22:39.030Z"
   },
   {
    "duration": 33,
    "start_time": "2021-10-08T19:22:39.059Z"
   },
   {
    "duration": 189,
    "start_time": "2021-10-08T19:22:39.094Z"
   },
   {
    "duration": 22,
    "start_time": "2021-10-08T19:22:39.285Z"
   },
   {
    "duration": 44,
    "start_time": "2021-10-08T19:22:39.309Z"
   },
   {
    "duration": 162,
    "start_time": "2021-10-08T19:22:52.478Z"
   },
   {
    "duration": 214,
    "start_time": "2021-10-08T19:23:40.708Z"
   },
   {
    "duration": 526,
    "start_time": "2021-10-08T19:24:23.122Z"
   },
   {
    "duration": 385,
    "start_time": "2021-10-08T19:24:38.781Z"
   },
   {
    "duration": 197,
    "start_time": "2021-10-08T19:24:49.727Z"
   },
   {
    "duration": 232,
    "start_time": "2021-10-08T19:25:00.517Z"
   },
   {
    "duration": 192,
    "start_time": "2021-10-08T19:25:16.440Z"
   },
   {
    "duration": 208,
    "start_time": "2021-10-08T19:26:16.208Z"
   },
   {
    "duration": 203,
    "start_time": "2021-10-08T19:26:38.040Z"
   },
   {
    "duration": 188,
    "start_time": "2021-10-08T19:27:26.367Z"
   },
   {
    "duration": 12,
    "start_time": "2021-10-08T19:27:33.850Z"
   },
   {
    "duration": 153,
    "start_time": "2021-10-08T19:31:20.638Z"
   },
   {
    "duration": 261,
    "start_time": "2021-10-08T19:34:01.189Z"
   },
   {
    "duration": 373,
    "start_time": "2021-10-08T19:34:13.023Z"
   },
   {
    "duration": 362,
    "start_time": "2021-10-08T19:34:26.590Z"
   },
   {
    "duration": 5,
    "start_time": "2021-10-08T19:34:53.762Z"
   },
   {
    "duration": 213,
    "start_time": "2021-10-08T19:35:11.206Z"
   },
   {
    "duration": 8,
    "start_time": "2021-10-08T19:35:16.509Z"
   },
   {
    "duration": 164,
    "start_time": "2021-10-08T19:38:43.461Z"
   },
   {
    "duration": 382,
    "start_time": "2021-10-08T19:40:18.092Z"
   },
   {
    "duration": 283,
    "start_time": "2021-10-08T19:41:12.701Z"
   },
   {
    "duration": 152,
    "start_time": "2021-10-08T19:41:56.784Z"
   },
   {
    "duration": 300,
    "start_time": "2021-10-08T19:51:51.510Z"
   },
   {
    "duration": 10,
    "start_time": "2021-10-08T19:51:59.008Z"
   },
   {
    "duration": 11,
    "start_time": "2021-10-08T19:53:39.604Z"
   },
   {
    "duration": 2185,
    "start_time": "2021-10-08T20:02:52.346Z"
   },
   {
    "duration": 173,
    "start_time": "2021-10-08T20:02:54.533Z"
   },
   {
    "duration": 12,
    "start_time": "2021-10-08T20:02:54.708Z"
   },
   {
    "duration": 33,
    "start_time": "2021-10-08T20:02:54.722Z"
   },
   {
    "duration": 17,
    "start_time": "2021-10-08T20:02:54.757Z"
   },
   {
    "duration": 36,
    "start_time": "2021-10-08T20:02:54.776Z"
   },
   {
    "duration": 63,
    "start_time": "2021-10-08T20:02:54.813Z"
   },
   {
    "duration": 7,
    "start_time": "2021-10-08T20:02:54.878Z"
   },
   {
    "duration": 227,
    "start_time": "2021-10-08T20:02:54.887Z"
   },
   {
    "duration": 216,
    "start_time": "2021-10-08T20:02:55.116Z"
   },
   {
    "duration": 228,
    "start_time": "2021-10-08T20:02:55.334Z"
   },
   {
    "duration": 139,
    "start_time": "2021-10-08T20:02:55.425Z"
   },
   {
    "duration": 135,
    "start_time": "2021-10-08T20:02:55.430Z"
   },
   {
    "duration": 134,
    "start_time": "2021-10-08T20:02:55.432Z"
   },
   {
    "duration": 133,
    "start_time": "2021-10-08T20:02:55.434Z"
   },
   {
    "duration": 133,
    "start_time": "2021-10-08T20:02:55.435Z"
   },
   {
    "duration": 134,
    "start_time": "2021-10-08T20:02:55.436Z"
   },
   {
    "duration": 134,
    "start_time": "2021-10-08T20:02:55.437Z"
   },
   {
    "duration": 133,
    "start_time": "2021-10-08T20:02:55.439Z"
   },
   {
    "duration": 132,
    "start_time": "2021-10-08T20:02:55.441Z"
   },
   {
    "duration": 131,
    "start_time": "2021-10-08T20:02:55.443Z"
   },
   {
    "duration": 131,
    "start_time": "2021-10-08T20:02:55.444Z"
   },
   {
    "duration": 130,
    "start_time": "2021-10-08T20:02:55.446Z"
   },
   {
    "duration": 130,
    "start_time": "2021-10-08T20:02:55.447Z"
   },
   {
    "duration": 129,
    "start_time": "2021-10-08T20:02:55.449Z"
   },
   {
    "duration": 596,
    "start_time": "2021-10-08T22:36:56.910Z"
   },
   {
    "duration": 256,
    "start_time": "2021-10-08T22:37:59.509Z"
   },
   {
    "duration": 857,
    "start_time": "2021-10-08T22:38:24.820Z"
   },
   {
    "duration": 261,
    "start_time": "2021-10-08T22:39:29.002Z"
   },
   {
    "duration": 258,
    "start_time": "2021-10-08T22:39:38.560Z"
   },
   {
    "duration": 283,
    "start_time": "2021-10-08T22:39:45.793Z"
   },
   {
    "duration": 490,
    "start_time": "2021-10-08T22:41:59.636Z"
   },
   {
    "duration": 71,
    "start_time": "2021-10-08T22:43:48.403Z"
   },
   {
    "duration": 573,
    "start_time": "2021-10-08T22:44:23.096Z"
   },
   {
    "duration": 284,
    "start_time": "2021-10-08T22:44:52.240Z"
   },
   {
    "duration": 229,
    "start_time": "2021-10-08T22:47:00.453Z"
   },
   {
    "duration": 204,
    "start_time": "2021-10-08T22:48:16.034Z"
   },
   {
    "duration": 295,
    "start_time": "2021-10-08T22:48:25.210Z"
   },
   {
    "duration": 338,
    "start_time": "2021-10-08T22:48:28.365Z"
   },
   {
    "duration": 457,
    "start_time": "2021-10-08T22:49:14.188Z"
   },
   {
    "duration": 2312,
    "start_time": "2021-10-08T23:07:03.065Z"
   },
   {
    "duration": 175,
    "start_time": "2021-10-08T23:07:05.380Z"
   },
   {
    "duration": 15,
    "start_time": "2021-10-08T23:07:05.558Z"
   },
   {
    "duration": 33,
    "start_time": "2021-10-08T23:07:05.575Z"
   },
   {
    "duration": 43,
    "start_time": "2021-10-08T23:07:05.611Z"
   },
   {
    "duration": 41,
    "start_time": "2021-10-08T23:07:05.656Z"
   },
   {
    "duration": 28,
    "start_time": "2021-10-08T23:07:05.699Z"
   },
   {
    "duration": 11,
    "start_time": "2021-10-08T23:07:05.749Z"
   },
   {
    "duration": 207,
    "start_time": "2021-10-08T23:07:05.764Z"
   },
   {
    "duration": 214,
    "start_time": "2021-10-08T23:07:05.974Z"
   },
   {
    "duration": 316,
    "start_time": "2021-10-08T23:07:06.190Z"
   },
   {
    "duration": 170,
    "start_time": "2021-10-08T23:07:06.508Z"
   },
   {
    "duration": 238,
    "start_time": "2021-10-08T23:07:06.680Z"
   },
   {
    "duration": 162,
    "start_time": "2021-10-08T23:07:06.920Z"
   },
   {
    "duration": 162,
    "start_time": "2021-10-08T23:07:07.084Z"
   },
   {
    "duration": 164,
    "start_time": "2021-10-08T23:07:07.248Z"
   },
   {
    "duration": 149,
    "start_time": "2021-10-08T23:07:07.414Z"
   },
   {
    "duration": 669,
    "start_time": "2021-10-08T23:07:07.565Z"
   },
   {
    "duration": 697,
    "start_time": "2021-10-08T23:07:08.235Z"
   },
   {
    "duration": 21,
    "start_time": "2021-10-08T23:07:08.934Z"
   },
   {
    "duration": 35,
    "start_time": "2021-10-08T23:07:08.957Z"
   },
   {
    "duration": 27,
    "start_time": "2021-10-08T23:07:08.994Z"
   },
   {
    "duration": 47,
    "start_time": "2021-10-08T23:07:09.024Z"
   },
   {
    "duration": 11,
    "start_time": "2021-10-08T23:07:09.073Z"
   },
   {
    "duration": 11,
    "start_time": "2021-10-08T23:07:09.086Z"
   },
   {
    "duration": 241,
    "start_time": "2021-10-08T23:09:48.018Z"
   },
   {
    "duration": 275,
    "start_time": "2021-10-08T23:12:43.703Z"
   },
   {
    "duration": 236,
    "start_time": "2021-10-08T23:18:36.394Z"
   },
   {
    "duration": 79,
    "start_time": "2021-10-08T23:26:15.448Z"
   },
   {
    "duration": 540,
    "start_time": "2021-10-08T23:26:24.209Z"
   },
   {
    "duration": 786,
    "start_time": "2021-10-08T23:28:12.241Z"
   },
   {
    "duration": 755,
    "start_time": "2021-10-08T23:31:22.138Z"
   },
   {
    "duration": 655,
    "start_time": "2021-10-08T23:31:54.596Z"
   },
   {
    "duration": 3024,
    "start_time": "2021-10-09T01:05:18.729Z"
   },
   {
    "duration": 176,
    "start_time": "2021-10-09T01:05:21.755Z"
   },
   {
    "duration": 11,
    "start_time": "2021-10-09T01:05:21.933Z"
   },
   {
    "duration": 37,
    "start_time": "2021-10-09T01:05:21.946Z"
   },
   {
    "duration": 18,
    "start_time": "2021-10-09T01:05:21.985Z"
   },
   {
    "duration": 54,
    "start_time": "2021-10-09T01:05:22.005Z"
   },
   {
    "duration": 33,
    "start_time": "2021-10-09T01:05:22.061Z"
   },
   {
    "duration": 9,
    "start_time": "2021-10-09T01:05:22.096Z"
   },
   {
    "duration": 229,
    "start_time": "2021-10-09T01:05:22.109Z"
   },
   {
    "duration": 236,
    "start_time": "2021-10-09T01:05:22.340Z"
   },
   {
    "duration": 461,
    "start_time": "2021-10-09T01:05:22.578Z"
   },
   {
    "duration": 236,
    "start_time": "2021-10-09T01:05:23.041Z"
   },
   {
    "duration": 382,
    "start_time": "2021-10-09T01:05:23.279Z"
   },
   {
    "duration": 686,
    "start_time": "2021-10-09T01:05:23.663Z"
   },
   {
    "duration": 591,
    "start_time": "2021-10-09T01:05:24.351Z"
   },
   {
    "duration": 14,
    "start_time": "2021-10-09T01:05:24.943Z"
   },
   {
    "duration": 35,
    "start_time": "2021-10-09T01:05:24.959Z"
   },
   {
    "duration": 54,
    "start_time": "2021-10-09T01:05:24.995Z"
   },
   {
    "duration": 20,
    "start_time": "2021-10-09T01:05:25.052Z"
   },
   {
    "duration": 11,
    "start_time": "2021-10-09T01:05:25.074Z"
   },
   {
    "duration": 12,
    "start_time": "2021-10-09T01:05:25.086Z"
   },
   {
    "duration": 3637,
    "start_time": "2021-10-09T20:49:53.120Z"
   },
   {
    "duration": 223,
    "start_time": "2021-10-09T20:49:56.759Z"
   },
   {
    "duration": 11,
    "start_time": "2021-10-09T20:49:56.985Z"
   },
   {
    "duration": 34,
    "start_time": "2021-10-09T20:49:56.998Z"
   },
   {
    "duration": 15,
    "start_time": "2021-10-09T20:49:57.034Z"
   },
   {
    "duration": 58,
    "start_time": "2021-10-09T20:49:57.051Z"
   },
   {
    "duration": 26,
    "start_time": "2021-10-09T20:49:57.110Z"
   },
   {
    "duration": 6,
    "start_time": "2021-10-09T20:49:57.137Z"
   },
   {
    "duration": 198,
    "start_time": "2021-10-09T20:49:57.146Z"
   },
   {
    "duration": 211,
    "start_time": "2021-10-09T20:49:57.345Z"
   },
   {
    "duration": 263,
    "start_time": "2021-10-09T20:49:57.558Z"
   },
   {
    "duration": 140,
    "start_time": "2021-10-09T20:49:57.822Z"
   },
   {
    "duration": 240,
    "start_time": "2021-10-09T20:49:57.964Z"
   },
   {
    "duration": 656,
    "start_time": "2021-10-09T20:49:58.206Z"
   },
   {
    "duration": 681,
    "start_time": "2021-10-09T20:49:58.864Z"
   },
   {
    "duration": 13,
    "start_time": "2021-10-09T20:49:59.547Z"
   },
   {
    "duration": 40,
    "start_time": "2021-10-09T20:49:59.562Z"
   },
   {
    "duration": 27,
    "start_time": "2021-10-09T20:49:59.603Z"
   },
   {
    "duration": 19,
    "start_time": "2021-10-09T20:49:59.631Z"
   },
   {
    "duration": 30,
    "start_time": "2021-10-09T20:49:59.652Z"
   },
   {
    "duration": 9,
    "start_time": "2021-10-09T20:49:59.684Z"
   },
   {
    "duration": 2973,
    "start_time": "2021-10-10T05:05:50.865Z"
   },
   {
    "duration": 196,
    "start_time": "2021-10-10T05:05:53.841Z"
   },
   {
    "duration": 15,
    "start_time": "2021-10-10T05:05:54.040Z"
   },
   {
    "duration": 69,
    "start_time": "2021-10-10T05:05:54.058Z"
   },
   {
    "duration": 22,
    "start_time": "2021-10-10T05:05:54.129Z"
   },
   {
    "duration": 84,
    "start_time": "2021-10-10T05:05:54.153Z"
   },
   {
    "duration": 45,
    "start_time": "2021-10-10T05:05:54.240Z"
   },
   {
    "duration": 41,
    "start_time": "2021-10-10T05:05:54.288Z"
   },
   {
    "duration": 309,
    "start_time": "2021-10-10T05:05:54.333Z"
   },
   {
    "duration": 378,
    "start_time": "2021-10-10T05:05:54.645Z"
   },
   {
    "duration": 457,
    "start_time": "2021-10-10T05:05:55.025Z"
   },
   {
    "duration": 272,
    "start_time": "2021-10-10T05:05:55.486Z"
   },
   {
    "duration": 425,
    "start_time": "2021-10-10T05:05:58.416Z"
   },
   {
    "duration": 422,
    "start_time": "2021-10-10T05:08:01.141Z"
   },
   {
    "duration": 3001,
    "start_time": "2021-10-10T05:20:03.538Z"
   },
   {
    "duration": 293,
    "start_time": "2021-10-10T05:20:06.543Z"
   },
   {
    "duration": 16,
    "start_time": "2021-10-10T05:20:06.839Z"
   },
   {
    "duration": 69,
    "start_time": "2021-10-10T05:20:06.858Z"
   },
   {
    "duration": 22,
    "start_time": "2021-10-10T05:20:06.929Z"
   },
   {
    "duration": 78,
    "start_time": "2021-10-10T05:20:06.954Z"
   },
   {
    "duration": 43,
    "start_time": "2021-10-10T05:20:07.034Z"
   },
   {
    "duration": 10,
    "start_time": "2021-10-10T05:20:07.079Z"
   },
   {
    "duration": 311,
    "start_time": "2021-10-10T05:20:07.125Z"
   },
   {
    "duration": 364,
    "start_time": "2021-10-10T05:20:07.439Z"
   },
   {
    "duration": 603,
    "start_time": "2021-10-10T05:20:07.806Z"
   },
   {
    "duration": 359,
    "start_time": "2021-10-10T05:20:08.411Z"
   },
   {
    "duration": 436,
    "start_time": "2021-10-10T05:20:08.772Z"
   },
   {
    "duration": 893,
    "start_time": "2021-10-10T05:20:09.211Z"
   },
   {
    "duration": 883,
    "start_time": "2021-10-10T05:20:10.106Z"
   },
   {
    "duration": 34,
    "start_time": "2021-10-10T05:20:10.991Z"
   },
   {
    "duration": 47,
    "start_time": "2021-10-10T05:20:11.027Z"
   },
   {
    "duration": 78,
    "start_time": "2021-10-10T05:20:11.077Z"
   },
   {
    "duration": 32,
    "start_time": "2021-10-10T05:20:11.158Z"
   },
   {
    "duration": 36,
    "start_time": "2021-10-10T05:20:11.192Z"
   },
   {
    "duration": 19,
    "start_time": "2021-10-10T05:20:11.231Z"
   },
   {
    "duration": 14,
    "start_time": "2021-10-10T05:39:26.129Z"
   },
   {
    "duration": 14,
    "start_time": "2021-10-10T05:39:31.232Z"
   },
   {
    "duration": 14,
    "start_time": "2021-10-10T05:39:51.686Z"
   },
   {
    "duration": 17,
    "start_time": "2021-10-10T05:47:26.800Z"
   },
   {
    "duration": 3049,
    "start_time": "2021-10-10T05:47:30.356Z"
   },
   {
    "duration": 197,
    "start_time": "2021-10-10T05:47:33.408Z"
   },
   {
    "duration": 16,
    "start_time": "2021-10-10T05:47:33.608Z"
   },
   {
    "duration": 67,
    "start_time": "2021-10-10T05:47:33.626Z"
   },
   {
    "duration": 34,
    "start_time": "2021-10-10T05:47:36.166Z"
   },
   {
    "duration": 20,
    "start_time": "2021-10-10T05:47:41.315Z"
   },
   {
    "duration": 16,
    "start_time": "2021-10-10T05:48:00.779Z"
   },
   {
    "duration": 34,
    "start_time": "2021-10-10T05:48:05.398Z"
   },
   {
    "duration": 3019,
    "start_time": "2021-10-10T05:48:23.073Z"
   },
   {
    "duration": 205,
    "start_time": "2021-10-10T05:48:26.095Z"
   },
   {
    "duration": 15,
    "start_time": "2021-10-10T05:48:26.303Z"
   },
   {
    "duration": 47,
    "start_time": "2021-10-10T05:48:26.321Z"
   },
   {
    "duration": 18,
    "start_time": "2021-10-10T05:48:26.371Z"
   },
   {
    "duration": 421,
    "start_time": "2021-10-10T05:48:26.392Z"
   },
   {
    "duration": 210,
    "start_time": "2021-10-10T05:48:26.606Z"
   },
   {
    "duration": 204,
    "start_time": "2021-10-10T05:48:26.614Z"
   },
   {
    "duration": 195,
    "start_time": "2021-10-10T05:48:26.624Z"
   },
   {
    "duration": 188,
    "start_time": "2021-10-10T05:48:26.633Z"
   },
   {
    "duration": 181,
    "start_time": "2021-10-10T05:48:26.641Z"
   },
   {
    "duration": 175,
    "start_time": "2021-10-10T05:48:26.649Z"
   },
   {
    "duration": 76,
    "start_time": "2021-10-10T05:48:26.750Z"
   },
   {
    "duration": 68,
    "start_time": "2021-10-10T05:48:26.759Z"
   },
   {
    "duration": 62,
    "start_time": "2021-10-10T05:48:26.767Z"
   },
   {
    "duration": 55,
    "start_time": "2021-10-10T05:48:26.775Z"
   },
   {
    "duration": 49,
    "start_time": "2021-10-10T05:48:26.783Z"
   },
   {
    "duration": 42,
    "start_time": "2021-10-10T05:48:26.791Z"
   },
   {
    "duration": 35,
    "start_time": "2021-10-10T05:48:26.800Z"
   },
   {
    "duration": 28,
    "start_time": "2021-10-10T05:48:26.808Z"
   },
   {
    "duration": 21,
    "start_time": "2021-10-10T05:48:26.817Z"
   },
   {
    "duration": 3115,
    "start_time": "2021-10-10T05:50:05.662Z"
   },
   {
    "duration": 207,
    "start_time": "2021-10-10T05:50:08.781Z"
   },
   {
    "duration": 23,
    "start_time": "2021-10-10T05:50:08.992Z"
   },
   {
    "duration": 68,
    "start_time": "2021-10-10T05:50:09.018Z"
   },
   {
    "duration": 53,
    "start_time": "2021-10-10T05:50:09.089Z"
   },
   {
    "duration": 97,
    "start_time": "2021-10-10T05:50:09.145Z"
   },
   {
    "duration": 88,
    "start_time": "2021-10-10T05:50:09.245Z"
   },
   {
    "duration": 13,
    "start_time": "2021-10-10T05:50:09.336Z"
   },
   {
    "duration": 311,
    "start_time": "2021-10-10T05:50:09.353Z"
   },
   {
    "duration": 375,
    "start_time": "2021-10-10T05:50:09.667Z"
   },
   {
    "duration": 473,
    "start_time": "2021-10-10T05:50:10.044Z"
   },
   {
    "duration": 250,
    "start_time": "2021-10-10T05:50:10.522Z"
   },
   {
    "duration": 475,
    "start_time": "2021-10-10T05:50:10.774Z"
   },
   {
    "duration": 1207,
    "start_time": "2021-10-10T05:50:11.251Z"
   },
   {
    "duration": 1140,
    "start_time": "2021-10-10T05:50:12.461Z"
   },
   {
    "duration": 32,
    "start_time": "2021-10-10T05:50:13.604Z"
   },
   {
    "duration": 44,
    "start_time": "2021-10-10T05:50:13.640Z"
   },
   {
    "duration": 43,
    "start_time": "2021-10-10T05:50:13.723Z"
   },
   {
    "duration": 66,
    "start_time": "2021-10-10T05:50:13.768Z"
   },
   {
    "duration": 16,
    "start_time": "2021-10-10T05:50:13.836Z"
   },
   {
    "duration": 22,
    "start_time": "2021-10-10T05:50:13.855Z"
   },
   {
    "duration": 15,
    "start_time": "2021-10-10T05:50:58.374Z"
   },
   {
    "duration": 3107,
    "start_time": "2021-10-10T05:51:28.737Z"
   },
   {
    "duration": 198,
    "start_time": "2021-10-10T05:51:31.847Z"
   },
   {
    "duration": 20,
    "start_time": "2021-10-10T05:51:32.049Z"
   },
   {
    "duration": 79,
    "start_time": "2021-10-10T05:51:32.072Z"
   },
   {
    "duration": 23,
    "start_time": "2021-10-10T05:51:32.155Z"
   },
   {
    "duration": 33,
    "start_time": "2021-10-10T05:51:33.283Z"
   },
   {
    "duration": 7,
    "start_time": "2021-10-10T05:52:12.066Z"
   },
   {
    "duration": 16,
    "start_time": "2021-10-10T05:55:24.952Z"
   },
   {
    "duration": 3178,
    "start_time": "2021-10-10T05:59:15.311Z"
   },
   {
    "duration": 200,
    "start_time": "2021-10-10T05:59:18.492Z"
   },
   {
    "duration": 15,
    "start_time": "2021-10-10T05:59:18.695Z"
   },
   {
    "duration": 56,
    "start_time": "2021-10-10T05:59:18.713Z"
   },
   {
    "duration": 22,
    "start_time": "2021-10-10T05:59:18.771Z"
   },
   {
    "duration": 57,
    "start_time": "2021-10-10T05:59:18.823Z"
   },
   {
    "duration": 75,
    "start_time": "2021-10-10T05:59:18.883Z"
   },
   {
    "duration": 9,
    "start_time": "2021-10-10T05:59:18.961Z"
   },
   {
    "duration": 365,
    "start_time": "2021-10-10T05:59:18.974Z"
   },
   {
    "duration": 367,
    "start_time": "2021-10-10T05:59:19.342Z"
   },
   {
    "duration": 471,
    "start_time": "2021-10-10T05:59:19.712Z"
   },
   {
    "duration": 254,
    "start_time": "2021-10-10T05:59:20.185Z"
   },
   {
    "duration": 446,
    "start_time": "2021-10-10T05:59:20.441Z"
   },
   {
    "duration": 940,
    "start_time": "2021-10-10T05:59:20.889Z"
   },
   {
    "duration": 863,
    "start_time": "2021-10-10T05:59:21.831Z"
   },
   {
    "duration": 33,
    "start_time": "2021-10-10T05:59:22.697Z"
   },
   {
    "duration": 78,
    "start_time": "2021-10-10T05:59:22.732Z"
   },
   {
    "duration": 42,
    "start_time": "2021-10-10T05:59:22.812Z"
   },
   {
    "duration": 30,
    "start_time": "2021-10-10T05:59:22.857Z"
   },
   {
    "duration": 51,
    "start_time": "2021-10-10T05:59:22.889Z"
   },
   {
    "duration": 63,
    "start_time": "2021-10-10T05:59:22.942Z"
   },
   {
    "duration": 5127,
    "start_time": "2021-10-11T15:03:34.375Z"
   },
   {
    "duration": 248,
    "start_time": "2021-10-11T15:03:39.505Z"
   },
   {
    "duration": 17,
    "start_time": "2021-10-11T15:03:39.755Z"
   },
   {
    "duration": 51,
    "start_time": "2021-10-11T15:03:39.774Z"
   },
   {
    "duration": 37,
    "start_time": "2021-10-11T15:03:39.828Z"
   },
   {
    "duration": 52,
    "start_time": "2021-10-11T15:03:39.868Z"
   },
   {
    "duration": 69,
    "start_time": "2021-10-11T15:03:39.922Z"
   },
   {
    "duration": 9,
    "start_time": "2021-10-11T15:03:39.993Z"
   },
   {
    "duration": 316,
    "start_time": "2021-10-11T15:03:40.005Z"
   },
   {
    "duration": 345,
    "start_time": "2021-10-11T15:03:40.324Z"
   },
   {
    "duration": 455,
    "start_time": "2021-10-11T15:03:40.672Z"
   },
   {
    "duration": 248,
    "start_time": "2021-10-11T15:03:41.130Z"
   },
   {
    "duration": 427,
    "start_time": "2021-10-11T15:03:41.381Z"
   },
   {
    "duration": 938,
    "start_time": "2021-10-11T15:03:41.810Z"
   },
   {
    "duration": 974,
    "start_time": "2021-10-11T15:03:42.750Z"
   },
   {
    "duration": 30,
    "start_time": "2021-10-11T15:03:43.727Z"
   },
   {
    "duration": 41,
    "start_time": "2021-10-11T15:03:43.759Z"
   },
   {
    "duration": 72,
    "start_time": "2021-10-11T15:03:43.803Z"
   },
   {
    "duration": 29,
    "start_time": "2021-10-11T15:03:43.878Z"
   },
   {
    "duration": 13,
    "start_time": "2021-10-11T15:03:43.909Z"
   },
   {
    "duration": 42,
    "start_time": "2021-10-11T15:03:43.924Z"
   }
  ],
  "kernelspec": {
   "display_name": "Python 3 (ipykernel)",
   "language": "python",
   "name": "python3"
  },
  "language_info": {
   "codemirror_mode": {
    "name": "ipython",
    "version": 3
   },
   "file_extension": ".py",
   "mimetype": "text/x-python",
   "name": "python",
   "nbconvert_exporter": "python",
   "pygments_lexer": "ipython3",
   "version": "3.9.7"
  },
  "toc": {
   "base_numbering": 1,
   "nav_menu": {},
   "number_sections": true,
   "sideBar": true,
   "skip_h1_title": true,
   "title_cell": "Table of Contents",
   "title_sidebar": "Contents",
   "toc_cell": false,
   "toc_position": {},
   "toc_section_display": true,
   "toc_window_display": false
  }
 },
 "nbformat": 4,
 "nbformat_minor": 2
}
