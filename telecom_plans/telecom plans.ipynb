{
 "cells": [
  {
   "cell_type": "markdown",
   "metadata": {},
   "source": [
    "# Research on internet plans\n",
    "\n",
    "Megaline, a telecom operator company, wants to know which of the plans they offer will bring in more revenue in order to adjust the advertising budget."
   ]
  },
  {
   "cell_type": "markdown",
   "metadata": {},
   "source": [
    "# Step 1\n",
    "\n",
    "Opening the data file and studying the general information"
   ]
  },
  {
   "cell_type": "code",
   "execution_count": 1,
   "metadata": {},
   "outputs": [],
   "source": [
    "#import pandas and other important libraries\n",
    "import pandas as pd\n",
    "import matplotlib.pyplot as plt\n",
    "import seaborn as sns\n",
    "import warnings\n",
    "from scipy import stats as st\n",
    "import numpy as np\n",
    "\n",
    "warnings.filterwarnings(\"ignore\")"
   ]
  },
  {
   "cell_type": "code",
   "execution_count": 2,
   "metadata": {},
   "outputs": [],
   "source": [
    "#read all input data and assign each dataset to a variable\n",
    "try:\n",
    "    calls = pd.read_csv('megaline_calls.csv')\n",
    "except:\n",
    "    calls = pd.read_csv('/datasets/megaline_calls.csv')\n",
    "try:\n",
    "    internet = pd.read_csv('megaline_internet.csv')\n",
    "except:\n",
    "    internet = pd.read_csv('/datasets/megaline_internet.csv')\n",
    "try:\n",
    "    messages = pd.read_csv('megaline_messages.csv')\n",
    "except:\n",
    "    messages = pd.read_csv('/datasets/megaline_messages.csv')\n",
    "try:\n",
    "    plans = pd.read_csv('megaline_plans.csv')\n",
    "except:\n",
    "    plans = pd.read_csv('/datasets/megaline_plans.csv')\n",
    "try:\n",
    "    users = pd.read_csv('megaline_users.csv')\n",
    "except:\n",
    "    users = pd.read_csv('/datasets/megaline_users.csv')"
   ]
  },
  {
   "cell_type": "markdown",
   "metadata": {},
   "source": [
    "# Step 2\n",
    "\n",
    "Preparing the data"
   ]
  },
  {
   "cell_type": "code",
   "execution_count": 3,
   "metadata": {},
   "outputs": [],
   "source": [
    "#get all the users and plan, two columns only\n",
    "users_plan = users[[\"user_id\", \"plan\", \"city\"]]"
   ]
  },
  {
   "cell_type": "code",
   "execution_count": 4,
   "metadata": {
    "scrolled": false
   },
   "outputs": [
    {
     "data": {
      "text/html": [
       "<div>\n",
       "<style scoped>\n",
       "    .dataframe tbody tr th:only-of-type {\n",
       "        vertical-align: middle;\n",
       "    }\n",
       "\n",
       "    .dataframe tbody tr th {\n",
       "        vertical-align: top;\n",
       "    }\n",
       "\n",
       "    .dataframe thead th {\n",
       "        text-align: right;\n",
       "    }\n",
       "</style>\n",
       "<table border=\"1\" class=\"dataframe\">\n",
       "  <thead>\n",
       "    <tr style=\"text-align: right;\">\n",
       "      <th></th>\n",
       "      <th>user_id</th>\n",
       "      <th>month</th>\n",
       "      <th>duration</th>\n",
       "    </tr>\n",
       "  </thead>\n",
       "  <tbody>\n",
       "    <tr>\n",
       "      <td>0</td>\n",
       "      <td>1000</td>\n",
       "      <td>12</td>\n",
       "      <td>117.0</td>\n",
       "    </tr>\n",
       "    <tr>\n",
       "      <td>1</td>\n",
       "      <td>1001</td>\n",
       "      <td>8</td>\n",
       "      <td>172.0</td>\n",
       "    </tr>\n",
       "    <tr>\n",
       "      <td>2</td>\n",
       "      <td>1001</td>\n",
       "      <td>9</td>\n",
       "      <td>298.0</td>\n",
       "    </tr>\n",
       "    <tr>\n",
       "      <td>3</td>\n",
       "      <td>1001</td>\n",
       "      <td>10</td>\n",
       "      <td>375.0</td>\n",
       "    </tr>\n",
       "    <tr>\n",
       "      <td>4</td>\n",
       "      <td>1001</td>\n",
       "      <td>11</td>\n",
       "      <td>405.0</td>\n",
       "    </tr>\n",
       "    <tr>\n",
       "      <td>...</td>\n",
       "      <td>...</td>\n",
       "      <td>...</td>\n",
       "      <td>...</td>\n",
       "    </tr>\n",
       "    <tr>\n",
       "      <td>2251</td>\n",
       "      <td>1498</td>\n",
       "      <td>12</td>\n",
       "      <td>325.0</td>\n",
       "    </tr>\n",
       "    <tr>\n",
       "      <td>2252</td>\n",
       "      <td>1499</td>\n",
       "      <td>9</td>\n",
       "      <td>331.0</td>\n",
       "    </tr>\n",
       "    <tr>\n",
       "      <td>2253</td>\n",
       "      <td>1499</td>\n",
       "      <td>10</td>\n",
       "      <td>364.0</td>\n",
       "    </tr>\n",
       "    <tr>\n",
       "      <td>2254</td>\n",
       "      <td>1499</td>\n",
       "      <td>11</td>\n",
       "      <td>289.0</td>\n",
       "    </tr>\n",
       "    <tr>\n",
       "      <td>2255</td>\n",
       "      <td>1499</td>\n",
       "      <td>12</td>\n",
       "      <td>469.0</td>\n",
       "    </tr>\n",
       "  </tbody>\n",
       "</table>\n",
       "<p>2256 rows × 3 columns</p>\n",
       "</div>"
      ],
      "text/plain": [
       "      user_id  month  duration\n",
       "0        1000     12     117.0\n",
       "1        1001      8     172.0\n",
       "2        1001      9     298.0\n",
       "3        1001     10     375.0\n",
       "4        1001     11     405.0\n",
       "...       ...    ...       ...\n",
       "2251     1498     12     325.0\n",
       "2252     1499      9     331.0\n",
       "2253     1499     10     364.0\n",
       "2254     1499     11     289.0\n",
       "2255     1499     12     469.0\n",
       "\n",
       "[2256 rows x 3 columns]"
      ]
     },
     "execution_count": 4,
     "metadata": {},
     "output_type": "execute_result"
    }
   ],
   "source": [
    "# testing to see what it is\n",
    "# calls.head()\n",
    "calls['month'] = pd.to_datetime(calls['call_date']).dt.month\n",
    "\n",
    "#removing calls with 0 duration, because this means that the call was missed. This just adds pointless data, so \n",
    "#removing should be no problem\n",
    "calls = calls[calls['duration'] != 0.00]\n",
    "\n",
    "#testing\n",
    "calls.head()\n",
    "\n",
    "#aggregating calls\n",
    "calls_agg = calls.groupby(['user_id', 'month'])['duration'].sum().reset_index()\n",
    "\n",
    "#rounding duration up\n",
    "calls_agg['duration'] = (calls_agg['duration'] + 0.5).round()\n",
    "\n",
    "calls_agg"
   ]
  },
  {
   "cell_type": "code",
   "execution_count": 5,
   "metadata": {},
   "outputs": [
    {
     "data": {
      "text/html": [
       "<div>\n",
       "<style scoped>\n",
       "    .dataframe tbody tr th:only-of-type {\n",
       "        vertical-align: middle;\n",
       "    }\n",
       "\n",
       "    .dataframe tbody tr th {\n",
       "        vertical-align: top;\n",
       "    }\n",
       "\n",
       "    .dataframe thead th {\n",
       "        text-align: right;\n",
       "    }\n",
       "</style>\n",
       "<table border=\"1\" class=\"dataframe\">\n",
       "  <thead>\n",
       "    <tr style=\"text-align: right;\">\n",
       "      <th></th>\n",
       "      <th>id</th>\n",
       "      <th>user_id</th>\n",
       "      <th>session_date</th>\n",
       "      <th>mb_used</th>\n",
       "      <th>gb_used</th>\n",
       "      <th>month</th>\n",
       "    </tr>\n",
       "  </thead>\n",
       "  <tbody>\n",
       "    <tr>\n",
       "      <td>0</td>\n",
       "      <td>1000_13</td>\n",
       "      <td>1000</td>\n",
       "      <td>2018-12-29</td>\n",
       "      <td>89.86</td>\n",
       "      <td>0.087754</td>\n",
       "      <td>12</td>\n",
       "    </tr>\n",
       "    <tr>\n",
       "      <td>1</td>\n",
       "      <td>1000_204</td>\n",
       "      <td>1000</td>\n",
       "      <td>2018-12-31</td>\n",
       "      <td>0.00</td>\n",
       "      <td>0.000000</td>\n",
       "      <td>12</td>\n",
       "    </tr>\n",
       "    <tr>\n",
       "      <td>2</td>\n",
       "      <td>1000_379</td>\n",
       "      <td>1000</td>\n",
       "      <td>2018-12-28</td>\n",
       "      <td>660.40</td>\n",
       "      <td>0.644922</td>\n",
       "      <td>12</td>\n",
       "    </tr>\n",
       "    <tr>\n",
       "      <td>3</td>\n",
       "      <td>1000_413</td>\n",
       "      <td>1000</td>\n",
       "      <td>2018-12-26</td>\n",
       "      <td>270.99</td>\n",
       "      <td>0.264639</td>\n",
       "      <td>12</td>\n",
       "    </tr>\n",
       "    <tr>\n",
       "      <td>4</td>\n",
       "      <td>1000_442</td>\n",
       "      <td>1000</td>\n",
       "      <td>2018-12-27</td>\n",
       "      <td>880.22</td>\n",
       "      <td>0.859590</td>\n",
       "      <td>12</td>\n",
       "    </tr>\n",
       "    <tr>\n",
       "      <td>5</td>\n",
       "      <td>1001_0</td>\n",
       "      <td>1001</td>\n",
       "      <td>2018-08-24</td>\n",
       "      <td>284.68</td>\n",
       "      <td>0.278008</td>\n",
       "      <td>8</td>\n",
       "    </tr>\n",
       "    <tr>\n",
       "      <td>6</td>\n",
       "      <td>1001_3</td>\n",
       "      <td>1001</td>\n",
       "      <td>2018-12-09</td>\n",
       "      <td>656.04</td>\n",
       "      <td>0.640664</td>\n",
       "      <td>12</td>\n",
       "    </tr>\n",
       "    <tr>\n",
       "      <td>7</td>\n",
       "      <td>1001_4</td>\n",
       "      <td>1001</td>\n",
       "      <td>2018-11-04</td>\n",
       "      <td>16.97</td>\n",
       "      <td>0.016572</td>\n",
       "      <td>11</td>\n",
       "    </tr>\n",
       "    <tr>\n",
       "      <td>8</td>\n",
       "      <td>1001_10</td>\n",
       "      <td>1001</td>\n",
       "      <td>2018-11-27</td>\n",
       "      <td>135.18</td>\n",
       "      <td>0.132012</td>\n",
       "      <td>11</td>\n",
       "    </tr>\n",
       "    <tr>\n",
       "      <td>9</td>\n",
       "      <td>1001_15</td>\n",
       "      <td>1001</td>\n",
       "      <td>2018-12-13</td>\n",
       "      <td>761.92</td>\n",
       "      <td>0.744062</td>\n",
       "      <td>12</td>\n",
       "    </tr>\n",
       "    <tr>\n",
       "      <td>10</td>\n",
       "      <td>1001_16</td>\n",
       "      <td>1001</td>\n",
       "      <td>2018-10-28</td>\n",
       "      <td>501.53</td>\n",
       "      <td>0.489775</td>\n",
       "      <td>10</td>\n",
       "    </tr>\n",
       "    <tr>\n",
       "      <td>11</td>\n",
       "      <td>1001_17</td>\n",
       "      <td>1001</td>\n",
       "      <td>2018-09-05</td>\n",
       "      <td>727.29</td>\n",
       "      <td>0.710244</td>\n",
       "      <td>9</td>\n",
       "    </tr>\n",
       "    <tr>\n",
       "      <td>12</td>\n",
       "      <td>1001_24</td>\n",
       "      <td>1001</td>\n",
       "      <td>2018-09-05</td>\n",
       "      <td>622.03</td>\n",
       "      <td>0.607451</td>\n",
       "      <td>9</td>\n",
       "    </tr>\n",
       "    <tr>\n",
       "      <td>13</td>\n",
       "      <td>1001_25</td>\n",
       "      <td>1001</td>\n",
       "      <td>2018-10-14</td>\n",
       "      <td>310.43</td>\n",
       "      <td>0.303154</td>\n",
       "      <td>10</td>\n",
       "    </tr>\n",
       "    <tr>\n",
       "      <td>14</td>\n",
       "      <td>1001_26</td>\n",
       "      <td>1001</td>\n",
       "      <td>2018-09-17</td>\n",
       "      <td>0.00</td>\n",
       "      <td>0.000000</td>\n",
       "      <td>9</td>\n",
       "    </tr>\n",
       "  </tbody>\n",
       "</table>\n",
       "</div>"
      ],
      "text/plain": [
       "          id  user_id session_date  mb_used   gb_used  month\n",
       "0    1000_13     1000   2018-12-29    89.86  0.087754     12\n",
       "1   1000_204     1000   2018-12-31     0.00  0.000000     12\n",
       "2   1000_379     1000   2018-12-28   660.40  0.644922     12\n",
       "3   1000_413     1000   2018-12-26   270.99  0.264639     12\n",
       "4   1000_442     1000   2018-12-27   880.22  0.859590     12\n",
       "5     1001_0     1001   2018-08-24   284.68  0.278008      8\n",
       "6     1001_3     1001   2018-12-09   656.04  0.640664     12\n",
       "7     1001_4     1001   2018-11-04    16.97  0.016572     11\n",
       "8    1001_10     1001   2018-11-27   135.18  0.132012     11\n",
       "9    1001_15     1001   2018-12-13   761.92  0.744062     12\n",
       "10   1001_16     1001   2018-10-28   501.53  0.489775     10\n",
       "11   1001_17     1001   2018-09-05   727.29  0.710244      9\n",
       "12   1001_24     1001   2018-09-05   622.03  0.607451      9\n",
       "13   1001_25     1001   2018-10-14   310.43  0.303154     10\n",
       "14   1001_26     1001   2018-09-17     0.00  0.000000      9"
      ]
     },
     "execution_count": 5,
     "metadata": {},
     "output_type": "execute_result"
    }
   ],
   "source": [
    "# testing to see what internet has\n",
    "# internet.head()\n",
    "\n",
    "# setting to datetime format\n",
    "internet['session_date'] = pd.to_datetime(internet['session_date'], format = '%Y-%m-%d')\n",
    "\n",
    "#converting mb to gb for easy conversion\n",
    "internet['gb_used'] = internet['mb_used']/1024\n",
    "internet['month'] = internet['session_date'].dt.month\n",
    "\n",
    "#testing everything\n",
    "internet.head(15)"
   ]
  },
  {
   "cell_type": "code",
   "execution_count": 6,
   "metadata": {
    "scrolled": true
   },
   "outputs": [
    {
     "data": {
      "text/html": [
       "<div>\n",
       "<style scoped>\n",
       "    .dataframe tbody tr th:only-of-type {\n",
       "        vertical-align: middle;\n",
       "    }\n",
       "\n",
       "    .dataframe tbody tr th {\n",
       "        vertical-align: top;\n",
       "    }\n",
       "\n",
       "    .dataframe thead th {\n",
       "        text-align: right;\n",
       "    }\n",
       "</style>\n",
       "<table border=\"1\" class=\"dataframe\">\n",
       "  <thead>\n",
       "    <tr style=\"text-align: right;\">\n",
       "      <th></th>\n",
       "      <th>user_id</th>\n",
       "      <th>month</th>\n",
       "      <th>gb_used</th>\n",
       "    </tr>\n",
       "  </thead>\n",
       "  <tbody>\n",
       "    <tr>\n",
       "      <td>0</td>\n",
       "      <td>1000</td>\n",
       "      <td>12</td>\n",
       "      <td>1.856904</td>\n",
       "    </tr>\n",
       "    <tr>\n",
       "      <td>1</td>\n",
       "      <td>1001</td>\n",
       "      <td>8</td>\n",
       "      <td>6.756982</td>\n",
       "    </tr>\n",
       "    <tr>\n",
       "      <td>2</td>\n",
       "      <td>1001</td>\n",
       "      <td>9</td>\n",
       "      <td>13.002754</td>\n",
       "    </tr>\n",
       "    <tr>\n",
       "      <td>3</td>\n",
       "      <td>1001</td>\n",
       "      <td>10</td>\n",
       "      <td>21.807119</td>\n",
       "    </tr>\n",
       "    <tr>\n",
       "      <td>4</td>\n",
       "      <td>1001</td>\n",
       "      <td>11</td>\n",
       "      <td>18.070605</td>\n",
       "    </tr>\n",
       "    <tr>\n",
       "      <td>...</td>\n",
       "      <td>...</td>\n",
       "      <td>...</td>\n",
       "      <td>...</td>\n",
       "    </tr>\n",
       "    <tr>\n",
       "      <td>2272</td>\n",
       "      <td>1498</td>\n",
       "      <td>12</td>\n",
       "      <td>22.595400</td>\n",
       "    </tr>\n",
       "    <tr>\n",
       "      <td>2273</td>\n",
       "      <td>1499</td>\n",
       "      <td>9</td>\n",
       "      <td>12.680430</td>\n",
       "    </tr>\n",
       "    <tr>\n",
       "      <td>2274</td>\n",
       "      <td>1499</td>\n",
       "      <td>10</td>\n",
       "      <td>19.035576</td>\n",
       "    </tr>\n",
       "    <tr>\n",
       "      <td>2275</td>\n",
       "      <td>1499</td>\n",
       "      <td>11</td>\n",
       "      <td>16.419756</td>\n",
       "    </tr>\n",
       "    <tr>\n",
       "      <td>2276</td>\n",
       "      <td>1499</td>\n",
       "      <td>12</td>\n",
       "      <td>21.542197</td>\n",
       "    </tr>\n",
       "  </tbody>\n",
       "</table>\n",
       "<p>2277 rows × 3 columns</p>\n",
       "</div>"
      ],
      "text/plain": [
       "      user_id  month    gb_used\n",
       "0        1000     12   1.856904\n",
       "1        1001      8   6.756982\n",
       "2        1001      9  13.002754\n",
       "3        1001     10  21.807119\n",
       "4        1001     11  18.070605\n",
       "...       ...    ...        ...\n",
       "2272     1498     12  22.595400\n",
       "2273     1499      9  12.680430\n",
       "2274     1499     10  19.035576\n",
       "2275     1499     11  16.419756\n",
       "2276     1499     12  21.542197\n",
       "\n",
       "[2277 rows x 3 columns]"
      ]
     },
     "execution_count": 6,
     "metadata": {},
     "output_type": "execute_result"
    }
   ],
   "source": [
    "internet_agg = internet.groupby(['user_id', 'month'])['gb_used'].sum().reset_index()\n",
    "\n",
    "internet_agg"
   ]
  },
  {
   "cell_type": "code",
   "execution_count": 7,
   "metadata": {},
   "outputs": [
    {
     "data": {
      "text/html": [
       "<div>\n",
       "<style scoped>\n",
       "    .dataframe tbody tr th:only-of-type {\n",
       "        vertical-align: middle;\n",
       "    }\n",
       "\n",
       "    .dataframe tbody tr th {\n",
       "        vertical-align: top;\n",
       "    }\n",
       "\n",
       "    .dataframe thead th {\n",
       "        text-align: right;\n",
       "    }\n",
       "</style>\n",
       "<table border=\"1\" class=\"dataframe\">\n",
       "  <thead>\n",
       "    <tr style=\"text-align: right;\">\n",
       "      <th></th>\n",
       "      <th>user_id</th>\n",
       "      <th>month</th>\n",
       "      <th>duration</th>\n",
       "      <th>gb_used</th>\n",
       "    </tr>\n",
       "  </thead>\n",
       "  <tbody>\n",
       "    <tr>\n",
       "      <td>0</td>\n",
       "      <td>1000</td>\n",
       "      <td>12</td>\n",
       "      <td>117.0</td>\n",
       "      <td>2.0</td>\n",
       "    </tr>\n",
       "    <tr>\n",
       "      <td>1</td>\n",
       "      <td>1001</td>\n",
       "      <td>8</td>\n",
       "      <td>172.0</td>\n",
       "      <td>7.0</td>\n",
       "    </tr>\n",
       "    <tr>\n",
       "      <td>2</td>\n",
       "      <td>1001</td>\n",
       "      <td>9</td>\n",
       "      <td>298.0</td>\n",
       "      <td>14.0</td>\n",
       "    </tr>\n",
       "    <tr>\n",
       "      <td>3</td>\n",
       "      <td>1001</td>\n",
       "      <td>10</td>\n",
       "      <td>375.0</td>\n",
       "      <td>22.0</td>\n",
       "    </tr>\n",
       "    <tr>\n",
       "      <td>4</td>\n",
       "      <td>1001</td>\n",
       "      <td>11</td>\n",
       "      <td>405.0</td>\n",
       "      <td>19.0</td>\n",
       "    </tr>\n",
       "    <tr>\n",
       "      <td>5</td>\n",
       "      <td>1001</td>\n",
       "      <td>12</td>\n",
       "      <td>393.0</td>\n",
       "      <td>19.0</td>\n",
       "    </tr>\n",
       "    <tr>\n",
       "      <td>6</td>\n",
       "      <td>1002</td>\n",
       "      <td>10</td>\n",
       "      <td>55.0</td>\n",
       "      <td>7.0</td>\n",
       "    </tr>\n",
       "    <tr>\n",
       "      <td>7</td>\n",
       "      <td>1002</td>\n",
       "      <td>11</td>\n",
       "      <td>360.0</td>\n",
       "      <td>19.0</td>\n",
       "    </tr>\n",
       "    <tr>\n",
       "      <td>8</td>\n",
       "      <td>1002</td>\n",
       "      <td>12</td>\n",
       "      <td>364.0</td>\n",
       "      <td>15.0</td>\n",
       "    </tr>\n",
       "    <tr>\n",
       "      <td>9</td>\n",
       "      <td>1003</td>\n",
       "      <td>12</td>\n",
       "      <td>1041.0</td>\n",
       "      <td>27.0</td>\n",
       "    </tr>\n",
       "    <tr>\n",
       "      <td>10</td>\n",
       "      <td>1004</td>\n",
       "      <td>5</td>\n",
       "      <td>182.0</td>\n",
       "      <td>7.0</td>\n",
       "    </tr>\n",
       "    <tr>\n",
       "      <td>11</td>\n",
       "      <td>1004</td>\n",
       "      <td>6</td>\n",
       "      <td>262.0</td>\n",
       "      <td>21.0</td>\n",
       "    </tr>\n",
       "    <tr>\n",
       "      <td>12</td>\n",
       "      <td>1004</td>\n",
       "      <td>7</td>\n",
       "      <td>359.0</td>\n",
       "      <td>24.0</td>\n",
       "    </tr>\n",
       "    <tr>\n",
       "      <td>13</td>\n",
       "      <td>1004</td>\n",
       "      <td>8</td>\n",
       "      <td>335.0</td>\n",
       "      <td>28.0</td>\n",
       "    </tr>\n",
       "    <tr>\n",
       "      <td>14</td>\n",
       "      <td>1004</td>\n",
       "      <td>9</td>\n",
       "      <td>285.0</td>\n",
       "      <td>19.0</td>\n",
       "    </tr>\n",
       "  </tbody>\n",
       "</table>\n",
       "</div>"
      ],
      "text/plain": [
       "    user_id  month  duration  gb_used\n",
       "0      1000     12     117.0      2.0\n",
       "1      1001      8     172.0      7.0\n",
       "2      1001      9     298.0     14.0\n",
       "3      1001     10     375.0     22.0\n",
       "4      1001     11     405.0     19.0\n",
       "5      1001     12     393.0     19.0\n",
       "6      1002     10      55.0      7.0\n",
       "7      1002     11     360.0     19.0\n",
       "8      1002     12     364.0     15.0\n",
       "9      1003     12    1041.0     27.0\n",
       "10     1004      5     182.0      7.0\n",
       "11     1004      6     262.0     21.0\n",
       "12     1004      7     359.0     24.0\n",
       "13     1004      8     335.0     28.0\n",
       "14     1004      9     285.0     19.0"
      ]
     },
     "execution_count": 7,
     "metadata": {},
     "output_type": "execute_result"
    }
   ],
   "source": [
    "# merge the monthly data to the overall table monthly_call_minutes_data\n",
    "monthly_call_minutes_data = pd.merge(calls_agg, internet_agg, on=['user_id', 'month'], how='left')\n",
    "\n",
    "#rounding gb up\n",
    "monthly_call_minutes_data['gb_used'] = (monthly_call_minutes_data['gb_used'] + 0.5).round()\n",
    "monthly_call_minutes_data.head(15)"
   ]
  },
  {
   "cell_type": "code",
   "execution_count": 8,
   "metadata": {},
   "outputs": [
    {
     "data": {
      "text/html": [
       "<div>\n",
       "<style scoped>\n",
       "    .dataframe tbody tr th:only-of-type {\n",
       "        vertical-align: middle;\n",
       "    }\n",
       "\n",
       "    .dataframe tbody tr th {\n",
       "        vertical-align: top;\n",
       "    }\n",
       "\n",
       "    .dataframe thead th {\n",
       "        text-align: right;\n",
       "    }\n",
       "</style>\n",
       "<table border=\"1\" class=\"dataframe\">\n",
       "  <thead>\n",
       "    <tr style=\"text-align: right;\">\n",
       "      <th></th>\n",
       "      <th>user_id</th>\n",
       "      <th>month</th>\n",
       "      <th>number of calls</th>\n",
       "    </tr>\n",
       "  </thead>\n",
       "  <tbody>\n",
       "    <tr>\n",
       "      <td>0</td>\n",
       "      <td>1000</td>\n",
       "      <td>12</td>\n",
       "      <td>16</td>\n",
       "    </tr>\n",
       "    <tr>\n",
       "      <td>1</td>\n",
       "      <td>1001</td>\n",
       "      <td>8</td>\n",
       "      <td>22</td>\n",
       "    </tr>\n",
       "    <tr>\n",
       "      <td>2</td>\n",
       "      <td>1001</td>\n",
       "      <td>9</td>\n",
       "      <td>38</td>\n",
       "    </tr>\n",
       "    <tr>\n",
       "      <td>3</td>\n",
       "      <td>1001</td>\n",
       "      <td>10</td>\n",
       "      <td>47</td>\n",
       "    </tr>\n",
       "    <tr>\n",
       "      <td>4</td>\n",
       "      <td>1001</td>\n",
       "      <td>11</td>\n",
       "      <td>49</td>\n",
       "    </tr>\n",
       "    <tr>\n",
       "      <td>...</td>\n",
       "      <td>...</td>\n",
       "      <td>...</td>\n",
       "      <td>...</td>\n",
       "    </tr>\n",
       "    <tr>\n",
       "      <td>2251</td>\n",
       "      <td>1498</td>\n",
       "      <td>12</td>\n",
       "      <td>32</td>\n",
       "    </tr>\n",
       "    <tr>\n",
       "      <td>2252</td>\n",
       "      <td>1499</td>\n",
       "      <td>9</td>\n",
       "      <td>35</td>\n",
       "    </tr>\n",
       "    <tr>\n",
       "      <td>2253</td>\n",
       "      <td>1499</td>\n",
       "      <td>10</td>\n",
       "      <td>41</td>\n",
       "    </tr>\n",
       "    <tr>\n",
       "      <td>2254</td>\n",
       "      <td>1499</td>\n",
       "      <td>11</td>\n",
       "      <td>39</td>\n",
       "    </tr>\n",
       "    <tr>\n",
       "      <td>2255</td>\n",
       "      <td>1499</td>\n",
       "      <td>12</td>\n",
       "      <td>56</td>\n",
       "    </tr>\n",
       "  </tbody>\n",
       "</table>\n",
       "<p>2256 rows × 3 columns</p>\n",
       "</div>"
      ],
      "text/plain": [
       "      user_id  month  number of calls\n",
       "0        1000     12               16\n",
       "1        1001      8               22\n",
       "2        1001      9               38\n",
       "3        1001     10               47\n",
       "4        1001     11               49\n",
       "...       ...    ...              ...\n",
       "2251     1498     12               32\n",
       "2252     1499      9               35\n",
       "2253     1499     10               41\n",
       "2254     1499     11               39\n",
       "2255     1499     12               56\n",
       "\n",
       "[2256 rows x 3 columns]"
      ]
     },
     "execution_count": 8,
     "metadata": {},
     "output_type": "execute_result"
    }
   ],
   "source": [
    "# merge the monthly data to the overall table monthly_call_minutes_data\n",
    "number_of_calls = calls.groupby(['user_id', 'month'])['duration'].count().reset_index()\n",
    "number_of_calls.columns = ['user_id', 'month', 'number of calls']\n",
    "number_of_calls"
   ]
  },
  {
   "cell_type": "code",
   "execution_count": 9,
   "metadata": {},
   "outputs": [
    {
     "data": {
      "text/html": [
       "<div>\n",
       "<style scoped>\n",
       "    .dataframe tbody tr th:only-of-type {\n",
       "        vertical-align: middle;\n",
       "    }\n",
       "\n",
       "    .dataframe tbody tr th {\n",
       "        vertical-align: top;\n",
       "    }\n",
       "\n",
       "    .dataframe thead th {\n",
       "        text-align: right;\n",
       "    }\n",
       "</style>\n",
       "<table border=\"1\" class=\"dataframe\">\n",
       "  <thead>\n",
       "    <tr style=\"text-align: right;\">\n",
       "      <th></th>\n",
       "      <th>user_id</th>\n",
       "      <th>month</th>\n",
       "      <th>duration</th>\n",
       "      <th>gb_used</th>\n",
       "      <th>number of calls</th>\n",
       "    </tr>\n",
       "  </thead>\n",
       "  <tbody>\n",
       "    <tr>\n",
       "      <td>0</td>\n",
       "      <td>1000</td>\n",
       "      <td>12</td>\n",
       "      <td>117.0</td>\n",
       "      <td>2.0</td>\n",
       "      <td>16</td>\n",
       "    </tr>\n",
       "    <tr>\n",
       "      <td>1</td>\n",
       "      <td>1001</td>\n",
       "      <td>8</td>\n",
       "      <td>172.0</td>\n",
       "      <td>7.0</td>\n",
       "      <td>22</td>\n",
       "    </tr>\n",
       "    <tr>\n",
       "      <td>2</td>\n",
       "      <td>1001</td>\n",
       "      <td>9</td>\n",
       "      <td>298.0</td>\n",
       "      <td>14.0</td>\n",
       "      <td>38</td>\n",
       "    </tr>\n",
       "    <tr>\n",
       "      <td>3</td>\n",
       "      <td>1001</td>\n",
       "      <td>10</td>\n",
       "      <td>375.0</td>\n",
       "      <td>22.0</td>\n",
       "      <td>47</td>\n",
       "    </tr>\n",
       "    <tr>\n",
       "      <td>4</td>\n",
       "      <td>1001</td>\n",
       "      <td>11</td>\n",
       "      <td>405.0</td>\n",
       "      <td>19.0</td>\n",
       "      <td>49</td>\n",
       "    </tr>\n",
       "    <tr>\n",
       "      <td>...</td>\n",
       "      <td>...</td>\n",
       "      <td>...</td>\n",
       "      <td>...</td>\n",
       "      <td>...</td>\n",
       "      <td>...</td>\n",
       "    </tr>\n",
       "    <tr>\n",
       "      <td>2251</td>\n",
       "      <td>1498</td>\n",
       "      <td>12</td>\n",
       "      <td>325.0</td>\n",
       "      <td>23.0</td>\n",
       "      <td>32</td>\n",
       "    </tr>\n",
       "    <tr>\n",
       "      <td>2252</td>\n",
       "      <td>1499</td>\n",
       "      <td>9</td>\n",
       "      <td>331.0</td>\n",
       "      <td>13.0</td>\n",
       "      <td>35</td>\n",
       "    </tr>\n",
       "    <tr>\n",
       "      <td>2253</td>\n",
       "      <td>1499</td>\n",
       "      <td>10</td>\n",
       "      <td>364.0</td>\n",
       "      <td>20.0</td>\n",
       "      <td>41</td>\n",
       "    </tr>\n",
       "    <tr>\n",
       "      <td>2254</td>\n",
       "      <td>1499</td>\n",
       "      <td>11</td>\n",
       "      <td>289.0</td>\n",
       "      <td>17.0</td>\n",
       "      <td>39</td>\n",
       "    </tr>\n",
       "    <tr>\n",
       "      <td>2255</td>\n",
       "      <td>1499</td>\n",
       "      <td>12</td>\n",
       "      <td>469.0</td>\n",
       "      <td>22.0</td>\n",
       "      <td>56</td>\n",
       "    </tr>\n",
       "  </tbody>\n",
       "</table>\n",
       "<p>2256 rows × 5 columns</p>\n",
       "</div>"
      ],
      "text/plain": [
       "      user_id  month  duration  gb_used  number of calls\n",
       "0        1000     12     117.0      2.0               16\n",
       "1        1001      8     172.0      7.0               22\n",
       "2        1001      9     298.0     14.0               38\n",
       "3        1001     10     375.0     22.0               47\n",
       "4        1001     11     405.0     19.0               49\n",
       "...       ...    ...       ...      ...              ...\n",
       "2251     1498     12     325.0     23.0               32\n",
       "2252     1499      9     331.0     13.0               35\n",
       "2253     1499     10     364.0     20.0               41\n",
       "2254     1499     11     289.0     17.0               39\n",
       "2255     1499     12     469.0     22.0               56\n",
       "\n",
       "[2256 rows x 5 columns]"
      ]
     },
     "execution_count": 9,
     "metadata": {},
     "output_type": "execute_result"
    }
   ],
   "source": [
    "# merge the monthly number of calls to the overall table monthly_call_minutes_data_numbercalls\n",
    "monthly_call_minutes_data_numbercalls = pd.merge(monthly_call_minutes_data, number_of_calls, on=['user_id', 'month'], how='left')\n",
    "monthly_call_minutes_data_numbercalls"
   ]
  },
  {
   "cell_type": "code",
   "execution_count": 10,
   "metadata": {},
   "outputs": [
    {
     "data": {
      "text/html": [
       "<div>\n",
       "<style scoped>\n",
       "    .dataframe tbody tr th:only-of-type {\n",
       "        vertical-align: middle;\n",
       "    }\n",
       "\n",
       "    .dataframe tbody tr th {\n",
       "        vertical-align: top;\n",
       "    }\n",
       "\n",
       "    .dataframe thead th {\n",
       "        text-align: right;\n",
       "    }\n",
       "</style>\n",
       "<table border=\"1\" class=\"dataframe\">\n",
       "  <thead>\n",
       "    <tr style=\"text-align: right;\">\n",
       "      <th></th>\n",
       "      <th>user_id</th>\n",
       "      <th>month</th>\n",
       "      <th>number of messages</th>\n",
       "    </tr>\n",
       "  </thead>\n",
       "  <tbody>\n",
       "    <tr>\n",
       "      <td>0</td>\n",
       "      <td>1000</td>\n",
       "      <td>12</td>\n",
       "      <td>11</td>\n",
       "    </tr>\n",
       "    <tr>\n",
       "      <td>1</td>\n",
       "      <td>1001</td>\n",
       "      <td>8</td>\n",
       "      <td>30</td>\n",
       "    </tr>\n",
       "    <tr>\n",
       "      <td>2</td>\n",
       "      <td>1001</td>\n",
       "      <td>9</td>\n",
       "      <td>44</td>\n",
       "    </tr>\n",
       "    <tr>\n",
       "      <td>3</td>\n",
       "      <td>1001</td>\n",
       "      <td>10</td>\n",
       "      <td>53</td>\n",
       "    </tr>\n",
       "    <tr>\n",
       "      <td>4</td>\n",
       "      <td>1001</td>\n",
       "      <td>11</td>\n",
       "      <td>36</td>\n",
       "    </tr>\n",
       "    <tr>\n",
       "      <td>...</td>\n",
       "      <td>...</td>\n",
       "      <td>...</td>\n",
       "      <td>...</td>\n",
       "    </tr>\n",
       "    <tr>\n",
       "      <td>1801</td>\n",
       "      <td>1496</td>\n",
       "      <td>9</td>\n",
       "      <td>21</td>\n",
       "    </tr>\n",
       "    <tr>\n",
       "      <td>1802</td>\n",
       "      <td>1496</td>\n",
       "      <td>10</td>\n",
       "      <td>18</td>\n",
       "    </tr>\n",
       "    <tr>\n",
       "      <td>1803</td>\n",
       "      <td>1496</td>\n",
       "      <td>11</td>\n",
       "      <td>13</td>\n",
       "    </tr>\n",
       "    <tr>\n",
       "      <td>1804</td>\n",
       "      <td>1496</td>\n",
       "      <td>12</td>\n",
       "      <td>11</td>\n",
       "    </tr>\n",
       "    <tr>\n",
       "      <td>1805</td>\n",
       "      <td>1497</td>\n",
       "      <td>12</td>\n",
       "      <td>50</td>\n",
       "    </tr>\n",
       "  </tbody>\n",
       "</table>\n",
       "<p>1806 rows × 3 columns</p>\n",
       "</div>"
      ],
      "text/plain": [
       "      user_id  month  number of messages\n",
       "0        1000     12                  11\n",
       "1        1001      8                  30\n",
       "2        1001      9                  44\n",
       "3        1001     10                  53\n",
       "4        1001     11                  36\n",
       "...       ...    ...                 ...\n",
       "1801     1496      9                  21\n",
       "1802     1496     10                  18\n",
       "1803     1496     11                  13\n",
       "1804     1496     12                  11\n",
       "1805     1497     12                  50\n",
       "\n",
       "[1806 rows x 3 columns]"
      ]
     },
     "execution_count": 10,
     "metadata": {},
     "output_type": "execute_result"
    }
   ],
   "source": [
    "# setting to datetime format\n",
    "messages['message_date'] = pd.to_datetime(messages['message_date'], format = '%Y-%m-%d')\n",
    "messages['month'] = messages['message_date'].dt.month\n",
    "#print(messages.head(45))\n",
    "\n",
    "messages_agg = messages.groupby(['user_id', 'month'])['message_date'].count().reset_index()\n",
    "#messages_agg = messages.groupby(['user_id', 'month'])['id'].count().reset_index()\n",
    "#messages_agg\n",
    "messages_agg.columns = ['user_id', 'month', 'number of messages']\n",
    "messages_agg"
   ]
  },
  {
   "cell_type": "code",
   "execution_count": 11,
   "metadata": {},
   "outputs": [
    {
     "data": {
      "text/html": [
       "<div>\n",
       "<style scoped>\n",
       "    .dataframe tbody tr th:only-of-type {\n",
       "        vertical-align: middle;\n",
       "    }\n",
       "\n",
       "    .dataframe tbody tr th {\n",
       "        vertical-align: top;\n",
       "    }\n",
       "\n",
       "    .dataframe thead th {\n",
       "        text-align: right;\n",
       "    }\n",
       "</style>\n",
       "<table border=\"1\" class=\"dataframe\">\n",
       "  <thead>\n",
       "    <tr style=\"text-align: right;\">\n",
       "      <th></th>\n",
       "      <th>user_id</th>\n",
       "      <th>month</th>\n",
       "      <th>duration</th>\n",
       "      <th>gb_used</th>\n",
       "      <th>number of calls</th>\n",
       "      <th>number of messages</th>\n",
       "    </tr>\n",
       "  </thead>\n",
       "  <tbody>\n",
       "    <tr>\n",
       "      <td>0</td>\n",
       "      <td>1000</td>\n",
       "      <td>12</td>\n",
       "      <td>117.0</td>\n",
       "      <td>2.0</td>\n",
       "      <td>16</td>\n",
       "      <td>11.0</td>\n",
       "    </tr>\n",
       "    <tr>\n",
       "      <td>1</td>\n",
       "      <td>1001</td>\n",
       "      <td>8</td>\n",
       "      <td>172.0</td>\n",
       "      <td>7.0</td>\n",
       "      <td>22</td>\n",
       "      <td>30.0</td>\n",
       "    </tr>\n",
       "    <tr>\n",
       "      <td>2</td>\n",
       "      <td>1001</td>\n",
       "      <td>9</td>\n",
       "      <td>298.0</td>\n",
       "      <td>14.0</td>\n",
       "      <td>38</td>\n",
       "      <td>44.0</td>\n",
       "    </tr>\n",
       "    <tr>\n",
       "      <td>3</td>\n",
       "      <td>1001</td>\n",
       "      <td>10</td>\n",
       "      <td>375.0</td>\n",
       "      <td>22.0</td>\n",
       "      <td>47</td>\n",
       "      <td>53.0</td>\n",
       "    </tr>\n",
       "    <tr>\n",
       "      <td>4</td>\n",
       "      <td>1001</td>\n",
       "      <td>11</td>\n",
       "      <td>405.0</td>\n",
       "      <td>19.0</td>\n",
       "      <td>49</td>\n",
       "      <td>36.0</td>\n",
       "    </tr>\n",
       "    <tr>\n",
       "      <td>...</td>\n",
       "      <td>...</td>\n",
       "      <td>...</td>\n",
       "      <td>...</td>\n",
       "      <td>...</td>\n",
       "      <td>...</td>\n",
       "      <td>...</td>\n",
       "    </tr>\n",
       "    <tr>\n",
       "      <td>2251</td>\n",
       "      <td>1498</td>\n",
       "      <td>12</td>\n",
       "      <td>325.0</td>\n",
       "      <td>23.0</td>\n",
       "      <td>32</td>\n",
       "      <td>0.0</td>\n",
       "    </tr>\n",
       "    <tr>\n",
       "      <td>2252</td>\n",
       "      <td>1499</td>\n",
       "      <td>9</td>\n",
       "      <td>331.0</td>\n",
       "      <td>13.0</td>\n",
       "      <td>35</td>\n",
       "      <td>0.0</td>\n",
       "    </tr>\n",
       "    <tr>\n",
       "      <td>2253</td>\n",
       "      <td>1499</td>\n",
       "      <td>10</td>\n",
       "      <td>364.0</td>\n",
       "      <td>20.0</td>\n",
       "      <td>41</td>\n",
       "      <td>0.0</td>\n",
       "    </tr>\n",
       "    <tr>\n",
       "      <td>2254</td>\n",
       "      <td>1499</td>\n",
       "      <td>11</td>\n",
       "      <td>289.0</td>\n",
       "      <td>17.0</td>\n",
       "      <td>39</td>\n",
       "      <td>0.0</td>\n",
       "    </tr>\n",
       "    <tr>\n",
       "      <td>2255</td>\n",
       "      <td>1499</td>\n",
       "      <td>12</td>\n",
       "      <td>469.0</td>\n",
       "      <td>22.0</td>\n",
       "      <td>56</td>\n",
       "      <td>0.0</td>\n",
       "    </tr>\n",
       "  </tbody>\n",
       "</table>\n",
       "<p>2256 rows × 6 columns</p>\n",
       "</div>"
      ],
      "text/plain": [
       "      user_id  month  duration  gb_used  number of calls  number of messages\n",
       "0        1000     12     117.0      2.0               16                11.0\n",
       "1        1001      8     172.0      7.0               22                30.0\n",
       "2        1001      9     298.0     14.0               38                44.0\n",
       "3        1001     10     375.0     22.0               47                53.0\n",
       "4        1001     11     405.0     19.0               49                36.0\n",
       "...       ...    ...       ...      ...              ...                 ...\n",
       "2251     1498     12     325.0     23.0               32                 0.0\n",
       "2252     1499      9     331.0     13.0               35                 0.0\n",
       "2253     1499     10     364.0     20.0               41                 0.0\n",
       "2254     1499     11     289.0     17.0               39                 0.0\n",
       "2255     1499     12     469.0     22.0               56                 0.0\n",
       "\n",
       "[2256 rows x 6 columns]"
      ]
     },
     "execution_count": 11,
     "metadata": {},
     "output_type": "execute_result"
    }
   ],
   "source": [
    "#merging everything together\n",
    "# merge the monthly number of messaages to the overall table monthly_call_minutes_data_numbercalls\n",
    "monthly_overall = pd.merge(monthly_call_minutes_data_numbercalls, messages_agg, on=['user_id', 'month'], how='left')\n",
    "#merged = pd.merge(users, calls_agg, on='user_id', how='right')\n",
    "\n",
    "#filling na\n",
    "monthly_overall['number of messages'] = monthly_overall['number of messages'].fillna(value='0')\n",
    "\n",
    "# convert the grand_total field from data type of object to float:\n",
    "monthly_overall['number of messages'] = monthly_overall['number of messages'].astype(float, errors = 'raise')\n",
    "\n",
    "monthly_overall"
   ]
  },
  {
   "cell_type": "code",
   "execution_count": 12,
   "metadata": {},
   "outputs": [
    {
     "data": {
      "text/html": [
       "<div>\n",
       "<style scoped>\n",
       "    .dataframe tbody tr th:only-of-type {\n",
       "        vertical-align: middle;\n",
       "    }\n",
       "\n",
       "    .dataframe tbody tr th {\n",
       "        vertical-align: top;\n",
       "    }\n",
       "\n",
       "    .dataframe thead th {\n",
       "        text-align: right;\n",
       "    }\n",
       "</style>\n",
       "<table border=\"1\" class=\"dataframe\">\n",
       "  <thead>\n",
       "    <tr style=\"text-align: right;\">\n",
       "      <th></th>\n",
       "      <th>user_id</th>\n",
       "      <th>month</th>\n",
       "      <th>duration</th>\n",
       "      <th>gb_used</th>\n",
       "      <th>number of calls</th>\n",
       "      <th>number of messages</th>\n",
       "      <th>plan</th>\n",
       "      <th>city</th>\n",
       "    </tr>\n",
       "  </thead>\n",
       "  <tbody>\n",
       "    <tr>\n",
       "      <td>0</td>\n",
       "      <td>1000</td>\n",
       "      <td>12</td>\n",
       "      <td>117.0</td>\n",
       "      <td>2.0</td>\n",
       "      <td>16</td>\n",
       "      <td>11.0</td>\n",
       "      <td>ultimate</td>\n",
       "      <td>Atlanta-Sandy Springs-Roswell, GA MSA</td>\n",
       "    </tr>\n",
       "    <tr>\n",
       "      <td>1</td>\n",
       "      <td>1001</td>\n",
       "      <td>8</td>\n",
       "      <td>172.0</td>\n",
       "      <td>7.0</td>\n",
       "      <td>22</td>\n",
       "      <td>30.0</td>\n",
       "      <td>surf</td>\n",
       "      <td>Seattle-Tacoma-Bellevue, WA MSA</td>\n",
       "    </tr>\n",
       "    <tr>\n",
       "      <td>2</td>\n",
       "      <td>1001</td>\n",
       "      <td>9</td>\n",
       "      <td>298.0</td>\n",
       "      <td>14.0</td>\n",
       "      <td>38</td>\n",
       "      <td>44.0</td>\n",
       "      <td>surf</td>\n",
       "      <td>Seattle-Tacoma-Bellevue, WA MSA</td>\n",
       "    </tr>\n",
       "    <tr>\n",
       "      <td>3</td>\n",
       "      <td>1001</td>\n",
       "      <td>10</td>\n",
       "      <td>375.0</td>\n",
       "      <td>22.0</td>\n",
       "      <td>47</td>\n",
       "      <td>53.0</td>\n",
       "      <td>surf</td>\n",
       "      <td>Seattle-Tacoma-Bellevue, WA MSA</td>\n",
       "    </tr>\n",
       "    <tr>\n",
       "      <td>4</td>\n",
       "      <td>1001</td>\n",
       "      <td>11</td>\n",
       "      <td>405.0</td>\n",
       "      <td>19.0</td>\n",
       "      <td>49</td>\n",
       "      <td>36.0</td>\n",
       "      <td>surf</td>\n",
       "      <td>Seattle-Tacoma-Bellevue, WA MSA</td>\n",
       "    </tr>\n",
       "    <tr>\n",
       "      <td>...</td>\n",
       "      <td>...</td>\n",
       "      <td>...</td>\n",
       "      <td>...</td>\n",
       "      <td>...</td>\n",
       "      <td>...</td>\n",
       "      <td>...</td>\n",
       "      <td>...</td>\n",
       "      <td>...</td>\n",
       "    </tr>\n",
       "    <tr>\n",
       "      <td>2251</td>\n",
       "      <td>1498</td>\n",
       "      <td>12</td>\n",
       "      <td>325.0</td>\n",
       "      <td>23.0</td>\n",
       "      <td>32</td>\n",
       "      <td>0.0</td>\n",
       "      <td>surf</td>\n",
       "      <td>New York-Newark-Jersey City, NY-NJ-PA MSA</td>\n",
       "    </tr>\n",
       "    <tr>\n",
       "      <td>2252</td>\n",
       "      <td>1499</td>\n",
       "      <td>9</td>\n",
       "      <td>331.0</td>\n",
       "      <td>13.0</td>\n",
       "      <td>35</td>\n",
       "      <td>0.0</td>\n",
       "      <td>surf</td>\n",
       "      <td>Orlando-Kissimmee-Sanford, FL MSA</td>\n",
       "    </tr>\n",
       "    <tr>\n",
       "      <td>2253</td>\n",
       "      <td>1499</td>\n",
       "      <td>10</td>\n",
       "      <td>364.0</td>\n",
       "      <td>20.0</td>\n",
       "      <td>41</td>\n",
       "      <td>0.0</td>\n",
       "      <td>surf</td>\n",
       "      <td>Orlando-Kissimmee-Sanford, FL MSA</td>\n",
       "    </tr>\n",
       "    <tr>\n",
       "      <td>2254</td>\n",
       "      <td>1499</td>\n",
       "      <td>11</td>\n",
       "      <td>289.0</td>\n",
       "      <td>17.0</td>\n",
       "      <td>39</td>\n",
       "      <td>0.0</td>\n",
       "      <td>surf</td>\n",
       "      <td>Orlando-Kissimmee-Sanford, FL MSA</td>\n",
       "    </tr>\n",
       "    <tr>\n",
       "      <td>2255</td>\n",
       "      <td>1499</td>\n",
       "      <td>12</td>\n",
       "      <td>469.0</td>\n",
       "      <td>22.0</td>\n",
       "      <td>56</td>\n",
       "      <td>0.0</td>\n",
       "      <td>surf</td>\n",
       "      <td>Orlando-Kissimmee-Sanford, FL MSA</td>\n",
       "    </tr>\n",
       "  </tbody>\n",
       "</table>\n",
       "<p>2256 rows × 8 columns</p>\n",
       "</div>"
      ],
      "text/plain": [
       "      user_id  month  duration  gb_used  number of calls  number of messages  \\\n",
       "0        1000     12     117.0      2.0               16                11.0   \n",
       "1        1001      8     172.0      7.0               22                30.0   \n",
       "2        1001      9     298.0     14.0               38                44.0   \n",
       "3        1001     10     375.0     22.0               47                53.0   \n",
       "4        1001     11     405.0     19.0               49                36.0   \n",
       "...       ...    ...       ...      ...              ...                 ...   \n",
       "2251     1498     12     325.0     23.0               32                 0.0   \n",
       "2252     1499      9     331.0     13.0               35                 0.0   \n",
       "2253     1499     10     364.0     20.0               41                 0.0   \n",
       "2254     1499     11     289.0     17.0               39                 0.0   \n",
       "2255     1499     12     469.0     22.0               56                 0.0   \n",
       "\n",
       "          plan                                       city  \n",
       "0     ultimate      Atlanta-Sandy Springs-Roswell, GA MSA  \n",
       "1         surf            Seattle-Tacoma-Bellevue, WA MSA  \n",
       "2         surf            Seattle-Tacoma-Bellevue, WA MSA  \n",
       "3         surf            Seattle-Tacoma-Bellevue, WA MSA  \n",
       "4         surf            Seattle-Tacoma-Bellevue, WA MSA  \n",
       "...        ...                                        ...  \n",
       "2251      surf  New York-Newark-Jersey City, NY-NJ-PA MSA  \n",
       "2252      surf          Orlando-Kissimmee-Sanford, FL MSA  \n",
       "2253      surf          Orlando-Kissimmee-Sanford, FL MSA  \n",
       "2254      surf          Orlando-Kissimmee-Sanford, FL MSA  \n",
       "2255      surf          Orlando-Kissimmee-Sanford, FL MSA  \n",
       "\n",
       "[2256 rows x 8 columns]"
      ]
     },
     "execution_count": 12,
     "metadata": {},
     "output_type": "execute_result"
    }
   ],
   "source": [
    "# Add user plan and city to the final table\n",
    "monthly_overall_final = pd.merge(monthly_overall, users_plan, on='user_id', how='left')\n",
    "monthly_overall_final"
   ]
  },
  {
   "cell_type": "code",
   "execution_count": 13,
   "metadata": {
    "scrolled": true
   },
   "outputs": [
    {
     "data": {
      "text/html": [
       "<div>\n",
       "<style scoped>\n",
       "    .dataframe tbody tr th:only-of-type {\n",
       "        vertical-align: middle;\n",
       "    }\n",
       "\n",
       "    .dataframe tbody tr th {\n",
       "        vertical-align: top;\n",
       "    }\n",
       "\n",
       "    .dataframe thead th {\n",
       "        text-align: right;\n",
       "    }\n",
       "</style>\n",
       "<table border=\"1\" class=\"dataframe\">\n",
       "  <thead>\n",
       "    <tr style=\"text-align: right;\">\n",
       "      <th></th>\n",
       "      <th>user_id</th>\n",
       "      <th>month</th>\n",
       "      <th>duration</th>\n",
       "      <th>gb_used</th>\n",
       "      <th>number of calls</th>\n",
       "      <th>number of messages</th>\n",
       "      <th>plan</th>\n",
       "      <th>city</th>\n",
       "      <th>messages_included</th>\n",
       "      <th>mb_per_month_included</th>\n",
       "      <th>minutes_included</th>\n",
       "      <th>usd_monthly_pay</th>\n",
       "      <th>usd_per_gb</th>\n",
       "      <th>usd_per_message</th>\n",
       "      <th>usd_per_minute</th>\n",
       "      <th>plan_name</th>\n",
       "    </tr>\n",
       "  </thead>\n",
       "  <tbody>\n",
       "    <tr>\n",
       "      <td>0</td>\n",
       "      <td>1000</td>\n",
       "      <td>12</td>\n",
       "      <td>117.0</td>\n",
       "      <td>2.0</td>\n",
       "      <td>16</td>\n",
       "      <td>11.0</td>\n",
       "      <td>ultimate</td>\n",
       "      <td>Atlanta-Sandy Springs-Roswell, GA MSA</td>\n",
       "      <td>1000</td>\n",
       "      <td>30720</td>\n",
       "      <td>3000</td>\n",
       "      <td>70</td>\n",
       "      <td>7</td>\n",
       "      <td>0.01</td>\n",
       "      <td>0.01</td>\n",
       "      <td>ultimate</td>\n",
       "    </tr>\n",
       "    <tr>\n",
       "      <td>1</td>\n",
       "      <td>1006</td>\n",
       "      <td>11</td>\n",
       "      <td>10.0</td>\n",
       "      <td>3.0</td>\n",
       "      <td>2</td>\n",
       "      <td>15.0</td>\n",
       "      <td>ultimate</td>\n",
       "      <td>San Francisco-Oakland-Berkeley, CA MSA</td>\n",
       "      <td>1000</td>\n",
       "      <td>30720</td>\n",
       "      <td>3000</td>\n",
       "      <td>70</td>\n",
       "      <td>7</td>\n",
       "      <td>0.01</td>\n",
       "      <td>0.01</td>\n",
       "      <td>ultimate</td>\n",
       "    </tr>\n",
       "    <tr>\n",
       "      <td>2</td>\n",
       "      <td>1006</td>\n",
       "      <td>12</td>\n",
       "      <td>55.0</td>\n",
       "      <td>32.0</td>\n",
       "      <td>7</td>\n",
       "      <td>139.0</td>\n",
       "      <td>ultimate</td>\n",
       "      <td>San Francisco-Oakland-Berkeley, CA MSA</td>\n",
       "      <td>1000</td>\n",
       "      <td>30720</td>\n",
       "      <td>3000</td>\n",
       "      <td>70</td>\n",
       "      <td>7</td>\n",
       "      <td>0.01</td>\n",
       "      <td>0.01</td>\n",
       "      <td>ultimate</td>\n",
       "    </tr>\n",
       "    <tr>\n",
       "      <td>3</td>\n",
       "      <td>1008</td>\n",
       "      <td>10</td>\n",
       "      <td>451.0</td>\n",
       "      <td>17.0</td>\n",
       "      <td>54</td>\n",
       "      <td>21.0</td>\n",
       "      <td>ultimate</td>\n",
       "      <td>Orlando-Kissimmee-Sanford, FL MSA</td>\n",
       "      <td>1000</td>\n",
       "      <td>30720</td>\n",
       "      <td>3000</td>\n",
       "      <td>70</td>\n",
       "      <td>7</td>\n",
       "      <td>0.01</td>\n",
       "      <td>0.01</td>\n",
       "      <td>ultimate</td>\n",
       "    </tr>\n",
       "    <tr>\n",
       "      <td>4</td>\n",
       "      <td>1008</td>\n",
       "      <td>11</td>\n",
       "      <td>423.0</td>\n",
       "      <td>24.0</td>\n",
       "      <td>50</td>\n",
       "      <td>37.0</td>\n",
       "      <td>ultimate</td>\n",
       "      <td>Orlando-Kissimmee-Sanford, FL MSA</td>\n",
       "      <td>1000</td>\n",
       "      <td>30720</td>\n",
       "      <td>3000</td>\n",
       "      <td>70</td>\n",
       "      <td>7</td>\n",
       "      <td>0.01</td>\n",
       "      <td>0.01</td>\n",
       "      <td>ultimate</td>\n",
       "    </tr>\n",
       "    <tr>\n",
       "      <td>...</td>\n",
       "      <td>...</td>\n",
       "      <td>...</td>\n",
       "      <td>...</td>\n",
       "      <td>...</td>\n",
       "      <td>...</td>\n",
       "      <td>...</td>\n",
       "      <td>...</td>\n",
       "      <td>...</td>\n",
       "      <td>...</td>\n",
       "      <td>...</td>\n",
       "      <td>...</td>\n",
       "      <td>...</td>\n",
       "      <td>...</td>\n",
       "      <td>...</td>\n",
       "      <td>...</td>\n",
       "      <td>...</td>\n",
       "    </tr>\n",
       "    <tr>\n",
       "      <td>2251</td>\n",
       "      <td>1498</td>\n",
       "      <td>12</td>\n",
       "      <td>325.0</td>\n",
       "      <td>23.0</td>\n",
       "      <td>32</td>\n",
       "      <td>0.0</td>\n",
       "      <td>surf</td>\n",
       "      <td>New York-Newark-Jersey City, NY-NJ-PA MSA</td>\n",
       "      <td>50</td>\n",
       "      <td>15360</td>\n",
       "      <td>500</td>\n",
       "      <td>20</td>\n",
       "      <td>10</td>\n",
       "      <td>0.03</td>\n",
       "      <td>0.03</td>\n",
       "      <td>surf</td>\n",
       "    </tr>\n",
       "    <tr>\n",
       "      <td>2252</td>\n",
       "      <td>1499</td>\n",
       "      <td>9</td>\n",
       "      <td>331.0</td>\n",
       "      <td>13.0</td>\n",
       "      <td>35</td>\n",
       "      <td>0.0</td>\n",
       "      <td>surf</td>\n",
       "      <td>Orlando-Kissimmee-Sanford, FL MSA</td>\n",
       "      <td>50</td>\n",
       "      <td>15360</td>\n",
       "      <td>500</td>\n",
       "      <td>20</td>\n",
       "      <td>10</td>\n",
       "      <td>0.03</td>\n",
       "      <td>0.03</td>\n",
       "      <td>surf</td>\n",
       "    </tr>\n",
       "    <tr>\n",
       "      <td>2253</td>\n",
       "      <td>1499</td>\n",
       "      <td>10</td>\n",
       "      <td>364.0</td>\n",
       "      <td>20.0</td>\n",
       "      <td>41</td>\n",
       "      <td>0.0</td>\n",
       "      <td>surf</td>\n",
       "      <td>Orlando-Kissimmee-Sanford, FL MSA</td>\n",
       "      <td>50</td>\n",
       "      <td>15360</td>\n",
       "      <td>500</td>\n",
       "      <td>20</td>\n",
       "      <td>10</td>\n",
       "      <td>0.03</td>\n",
       "      <td>0.03</td>\n",
       "      <td>surf</td>\n",
       "    </tr>\n",
       "    <tr>\n",
       "      <td>2254</td>\n",
       "      <td>1499</td>\n",
       "      <td>11</td>\n",
       "      <td>289.0</td>\n",
       "      <td>17.0</td>\n",
       "      <td>39</td>\n",
       "      <td>0.0</td>\n",
       "      <td>surf</td>\n",
       "      <td>Orlando-Kissimmee-Sanford, FL MSA</td>\n",
       "      <td>50</td>\n",
       "      <td>15360</td>\n",
       "      <td>500</td>\n",
       "      <td>20</td>\n",
       "      <td>10</td>\n",
       "      <td>0.03</td>\n",
       "      <td>0.03</td>\n",
       "      <td>surf</td>\n",
       "    </tr>\n",
       "    <tr>\n",
       "      <td>2255</td>\n",
       "      <td>1499</td>\n",
       "      <td>12</td>\n",
       "      <td>469.0</td>\n",
       "      <td>22.0</td>\n",
       "      <td>56</td>\n",
       "      <td>0.0</td>\n",
       "      <td>surf</td>\n",
       "      <td>Orlando-Kissimmee-Sanford, FL MSA</td>\n",
       "      <td>50</td>\n",
       "      <td>15360</td>\n",
       "      <td>500</td>\n",
       "      <td>20</td>\n",
       "      <td>10</td>\n",
       "      <td>0.03</td>\n",
       "      <td>0.03</td>\n",
       "      <td>surf</td>\n",
       "    </tr>\n",
       "  </tbody>\n",
       "</table>\n",
       "<p>2256 rows × 16 columns</p>\n",
       "</div>"
      ],
      "text/plain": [
       "      user_id  month  duration  gb_used  number of calls  number of messages  \\\n",
       "0        1000     12     117.0      2.0               16                11.0   \n",
       "1        1006     11      10.0      3.0                2                15.0   \n",
       "2        1006     12      55.0     32.0                7               139.0   \n",
       "3        1008     10     451.0     17.0               54                21.0   \n",
       "4        1008     11     423.0     24.0               50                37.0   \n",
       "...       ...    ...       ...      ...              ...                 ...   \n",
       "2251     1498     12     325.0     23.0               32                 0.0   \n",
       "2252     1499      9     331.0     13.0               35                 0.0   \n",
       "2253     1499     10     364.0     20.0               41                 0.0   \n",
       "2254     1499     11     289.0     17.0               39                 0.0   \n",
       "2255     1499     12     469.0     22.0               56                 0.0   \n",
       "\n",
       "          plan                                       city  messages_included  \\\n",
       "0     ultimate      Atlanta-Sandy Springs-Roswell, GA MSA               1000   \n",
       "1     ultimate     San Francisco-Oakland-Berkeley, CA MSA               1000   \n",
       "2     ultimate     San Francisco-Oakland-Berkeley, CA MSA               1000   \n",
       "3     ultimate          Orlando-Kissimmee-Sanford, FL MSA               1000   \n",
       "4     ultimate          Orlando-Kissimmee-Sanford, FL MSA               1000   \n",
       "...        ...                                        ...                ...   \n",
       "2251      surf  New York-Newark-Jersey City, NY-NJ-PA MSA                 50   \n",
       "2252      surf          Orlando-Kissimmee-Sanford, FL MSA                 50   \n",
       "2253      surf          Orlando-Kissimmee-Sanford, FL MSA                 50   \n",
       "2254      surf          Orlando-Kissimmee-Sanford, FL MSA                 50   \n",
       "2255      surf          Orlando-Kissimmee-Sanford, FL MSA                 50   \n",
       "\n",
       "      mb_per_month_included  minutes_included  usd_monthly_pay  usd_per_gb  \\\n",
       "0                     30720              3000               70           7   \n",
       "1                     30720              3000               70           7   \n",
       "2                     30720              3000               70           7   \n",
       "3                     30720              3000               70           7   \n",
       "4                     30720              3000               70           7   \n",
       "...                     ...               ...              ...         ...   \n",
       "2251                  15360               500               20          10   \n",
       "2252                  15360               500               20          10   \n",
       "2253                  15360               500               20          10   \n",
       "2254                  15360               500               20          10   \n",
       "2255                  15360               500               20          10   \n",
       "\n",
       "      usd_per_message  usd_per_minute plan_name  \n",
       "0                0.01            0.01  ultimate  \n",
       "1                0.01            0.01  ultimate  \n",
       "2                0.01            0.01  ultimate  \n",
       "3                0.01            0.01  ultimate  \n",
       "4                0.01            0.01  ultimate  \n",
       "...               ...             ...       ...  \n",
       "2251             0.03            0.03      surf  \n",
       "2252             0.03            0.03      surf  \n",
       "2253             0.03            0.03      surf  \n",
       "2254             0.03            0.03      surf  \n",
       "2255             0.03            0.03      surf  \n",
       "\n",
       "[2256 rows x 16 columns]"
      ]
     },
     "execution_count": 13,
     "metadata": {},
     "output_type": "execute_result"
    }
   ],
   "source": [
    "#doing the final merge with plans so all money prices are together in the table\n",
    "monthly_overall_final = pd.merge(monthly_overall_final, plans, left_on='plan', right_on='plan_name')\n",
    "monthly_overall_final"
   ]
  },
  {
   "cell_type": "code",
   "execution_count": 14,
   "metadata": {
    "scrolled": false
   },
   "outputs": [
    {
     "data": {
      "text/html": [
       "<div>\n",
       "<style scoped>\n",
       "    .dataframe tbody tr th:only-of-type {\n",
       "        vertical-align: middle;\n",
       "    }\n",
       "\n",
       "    .dataframe tbody tr th {\n",
       "        vertical-align: top;\n",
       "    }\n",
       "\n",
       "    .dataframe thead th {\n",
       "        text-align: right;\n",
       "    }\n",
       "</style>\n",
       "<table border=\"1\" class=\"dataframe\">\n",
       "  <thead>\n",
       "    <tr style=\"text-align: right;\">\n",
       "      <th></th>\n",
       "      <th>user_id</th>\n",
       "      <th>month</th>\n",
       "      <th>duration</th>\n",
       "      <th>gb_used</th>\n",
       "      <th>number of calls</th>\n",
       "      <th>number of messages</th>\n",
       "      <th>plan</th>\n",
       "      <th>city</th>\n",
       "      <th>messages_included</th>\n",
       "      <th>mb_per_month_included</th>\n",
       "      <th>minutes_included</th>\n",
       "      <th>usd_monthly_pay</th>\n",
       "      <th>usd_per_gb</th>\n",
       "      <th>usd_per_message</th>\n",
       "      <th>usd_per_minute</th>\n",
       "      <th>plan_name</th>\n",
       "      <th>duration_revenue</th>\n",
       "      <th>messages_revenue</th>\n",
       "      <th>data_revenue</th>\n",
       "      <th>grand_total</th>\n",
       "    </tr>\n",
       "  </thead>\n",
       "  <tbody>\n",
       "    <tr>\n",
       "      <td>0</td>\n",
       "      <td>1000</td>\n",
       "      <td>12</td>\n",
       "      <td>117.0</td>\n",
       "      <td>2</td>\n",
       "      <td>16</td>\n",
       "      <td>11.0</td>\n",
       "      <td>ultimate</td>\n",
       "      <td>Atlanta-Sandy Springs-Roswell, GA MSA</td>\n",
       "      <td>1000</td>\n",
       "      <td>30720</td>\n",
       "      <td>3000</td>\n",
       "      <td>70</td>\n",
       "      <td>7</td>\n",
       "      <td>0.01</td>\n",
       "      <td>0.01</td>\n",
       "      <td>ultimate</td>\n",
       "      <td>0.0</td>\n",
       "      <td>0.0</td>\n",
       "      <td>0.0</td>\n",
       "      <td>70.0</td>\n",
       "    </tr>\n",
       "    <tr>\n",
       "      <td>1</td>\n",
       "      <td>1006</td>\n",
       "      <td>11</td>\n",
       "      <td>10.0</td>\n",
       "      <td>3</td>\n",
       "      <td>2</td>\n",
       "      <td>15.0</td>\n",
       "      <td>ultimate</td>\n",
       "      <td>San Francisco-Oakland-Berkeley, CA MSA</td>\n",
       "      <td>1000</td>\n",
       "      <td>30720</td>\n",
       "      <td>3000</td>\n",
       "      <td>70</td>\n",
       "      <td>7</td>\n",
       "      <td>0.01</td>\n",
       "      <td>0.01</td>\n",
       "      <td>ultimate</td>\n",
       "      <td>0.0</td>\n",
       "      <td>0.0</td>\n",
       "      <td>0.0</td>\n",
       "      <td>70.0</td>\n",
       "    </tr>\n",
       "    <tr>\n",
       "      <td>2</td>\n",
       "      <td>1006</td>\n",
       "      <td>12</td>\n",
       "      <td>55.0</td>\n",
       "      <td>32</td>\n",
       "      <td>7</td>\n",
       "      <td>139.0</td>\n",
       "      <td>ultimate</td>\n",
       "      <td>San Francisco-Oakland-Berkeley, CA MSA</td>\n",
       "      <td>1000</td>\n",
       "      <td>30720</td>\n",
       "      <td>3000</td>\n",
       "      <td>70</td>\n",
       "      <td>7</td>\n",
       "      <td>0.01</td>\n",
       "      <td>0.01</td>\n",
       "      <td>ultimate</td>\n",
       "      <td>0.0</td>\n",
       "      <td>0.0</td>\n",
       "      <td>14.0</td>\n",
       "      <td>84.0</td>\n",
       "    </tr>\n",
       "    <tr>\n",
       "      <td>3</td>\n",
       "      <td>1008</td>\n",
       "      <td>10</td>\n",
       "      <td>451.0</td>\n",
       "      <td>17</td>\n",
       "      <td>54</td>\n",
       "      <td>21.0</td>\n",
       "      <td>ultimate</td>\n",
       "      <td>Orlando-Kissimmee-Sanford, FL MSA</td>\n",
       "      <td>1000</td>\n",
       "      <td>30720</td>\n",
       "      <td>3000</td>\n",
       "      <td>70</td>\n",
       "      <td>7</td>\n",
       "      <td>0.01</td>\n",
       "      <td>0.01</td>\n",
       "      <td>ultimate</td>\n",
       "      <td>0.0</td>\n",
       "      <td>0.0</td>\n",
       "      <td>0.0</td>\n",
       "      <td>70.0</td>\n",
       "    </tr>\n",
       "    <tr>\n",
       "      <td>4</td>\n",
       "      <td>1008</td>\n",
       "      <td>11</td>\n",
       "      <td>423.0</td>\n",
       "      <td>24</td>\n",
       "      <td>50</td>\n",
       "      <td>37.0</td>\n",
       "      <td>ultimate</td>\n",
       "      <td>Orlando-Kissimmee-Sanford, FL MSA</td>\n",
       "      <td>1000</td>\n",
       "      <td>30720</td>\n",
       "      <td>3000</td>\n",
       "      <td>70</td>\n",
       "      <td>7</td>\n",
       "      <td>0.01</td>\n",
       "      <td>0.01</td>\n",
       "      <td>ultimate</td>\n",
       "      <td>0.0</td>\n",
       "      <td>0.0</td>\n",
       "      <td>0.0</td>\n",
       "      <td>70.0</td>\n",
       "    </tr>\n",
       "    <tr>\n",
       "      <td>...</td>\n",
       "      <td>...</td>\n",
       "      <td>...</td>\n",
       "      <td>...</td>\n",
       "      <td>...</td>\n",
       "      <td>...</td>\n",
       "      <td>...</td>\n",
       "      <td>...</td>\n",
       "      <td>...</td>\n",
       "      <td>...</td>\n",
       "      <td>...</td>\n",
       "      <td>...</td>\n",
       "      <td>...</td>\n",
       "      <td>...</td>\n",
       "      <td>...</td>\n",
       "      <td>...</td>\n",
       "      <td>...</td>\n",
       "      <td>...</td>\n",
       "      <td>...</td>\n",
       "      <td>...</td>\n",
       "      <td>...</td>\n",
       "    </tr>\n",
       "    <tr>\n",
       "      <td>2251</td>\n",
       "      <td>1498</td>\n",
       "      <td>12</td>\n",
       "      <td>325.0</td>\n",
       "      <td>23</td>\n",
       "      <td>32</td>\n",
       "      <td>0.0</td>\n",
       "      <td>surf</td>\n",
       "      <td>New York-Newark-Jersey City, NY-NJ-PA MSA</td>\n",
       "      <td>50</td>\n",
       "      <td>15360</td>\n",
       "      <td>500</td>\n",
       "      <td>20</td>\n",
       "      <td>10</td>\n",
       "      <td>0.03</td>\n",
       "      <td>0.03</td>\n",
       "      <td>surf</td>\n",
       "      <td>0.0</td>\n",
       "      <td>0.0</td>\n",
       "      <td>80.0</td>\n",
       "      <td>100.0</td>\n",
       "    </tr>\n",
       "    <tr>\n",
       "      <td>2252</td>\n",
       "      <td>1499</td>\n",
       "      <td>9</td>\n",
       "      <td>331.0</td>\n",
       "      <td>13</td>\n",
       "      <td>35</td>\n",
       "      <td>0.0</td>\n",
       "      <td>surf</td>\n",
       "      <td>Orlando-Kissimmee-Sanford, FL MSA</td>\n",
       "      <td>50</td>\n",
       "      <td>15360</td>\n",
       "      <td>500</td>\n",
       "      <td>20</td>\n",
       "      <td>10</td>\n",
       "      <td>0.03</td>\n",
       "      <td>0.03</td>\n",
       "      <td>surf</td>\n",
       "      <td>0.0</td>\n",
       "      <td>0.0</td>\n",
       "      <td>0.0</td>\n",
       "      <td>20.0</td>\n",
       "    </tr>\n",
       "    <tr>\n",
       "      <td>2253</td>\n",
       "      <td>1499</td>\n",
       "      <td>10</td>\n",
       "      <td>364.0</td>\n",
       "      <td>20</td>\n",
       "      <td>41</td>\n",
       "      <td>0.0</td>\n",
       "      <td>surf</td>\n",
       "      <td>Orlando-Kissimmee-Sanford, FL MSA</td>\n",
       "      <td>50</td>\n",
       "      <td>15360</td>\n",
       "      <td>500</td>\n",
       "      <td>20</td>\n",
       "      <td>10</td>\n",
       "      <td>0.03</td>\n",
       "      <td>0.03</td>\n",
       "      <td>surf</td>\n",
       "      <td>0.0</td>\n",
       "      <td>0.0</td>\n",
       "      <td>50.0</td>\n",
       "      <td>70.0</td>\n",
       "    </tr>\n",
       "    <tr>\n",
       "      <td>2254</td>\n",
       "      <td>1499</td>\n",
       "      <td>11</td>\n",
       "      <td>289.0</td>\n",
       "      <td>17</td>\n",
       "      <td>39</td>\n",
       "      <td>0.0</td>\n",
       "      <td>surf</td>\n",
       "      <td>Orlando-Kissimmee-Sanford, FL MSA</td>\n",
       "      <td>50</td>\n",
       "      <td>15360</td>\n",
       "      <td>500</td>\n",
       "      <td>20</td>\n",
       "      <td>10</td>\n",
       "      <td>0.03</td>\n",
       "      <td>0.03</td>\n",
       "      <td>surf</td>\n",
       "      <td>0.0</td>\n",
       "      <td>0.0</td>\n",
       "      <td>20.0</td>\n",
       "      <td>40.0</td>\n",
       "    </tr>\n",
       "    <tr>\n",
       "      <td>2255</td>\n",
       "      <td>1499</td>\n",
       "      <td>12</td>\n",
       "      <td>469.0</td>\n",
       "      <td>22</td>\n",
       "      <td>56</td>\n",
       "      <td>0.0</td>\n",
       "      <td>surf</td>\n",
       "      <td>Orlando-Kissimmee-Sanford, FL MSA</td>\n",
       "      <td>50</td>\n",
       "      <td>15360</td>\n",
       "      <td>500</td>\n",
       "      <td>20</td>\n",
       "      <td>10</td>\n",
       "      <td>0.03</td>\n",
       "      <td>0.03</td>\n",
       "      <td>surf</td>\n",
       "      <td>0.0</td>\n",
       "      <td>0.0</td>\n",
       "      <td>70.0</td>\n",
       "      <td>90.0</td>\n",
       "    </tr>\n",
       "  </tbody>\n",
       "</table>\n",
       "<p>2256 rows × 20 columns</p>\n",
       "</div>"
      ],
      "text/plain": [
       "      user_id  month  duration  gb_used  number of calls  number of messages  \\\n",
       "0        1000     12     117.0        2               16                11.0   \n",
       "1        1006     11      10.0        3                2                15.0   \n",
       "2        1006     12      55.0       32                7               139.0   \n",
       "3        1008     10     451.0       17               54                21.0   \n",
       "4        1008     11     423.0       24               50                37.0   \n",
       "...       ...    ...       ...      ...              ...                 ...   \n",
       "2251     1498     12     325.0       23               32                 0.0   \n",
       "2252     1499      9     331.0       13               35                 0.0   \n",
       "2253     1499     10     364.0       20               41                 0.0   \n",
       "2254     1499     11     289.0       17               39                 0.0   \n",
       "2255     1499     12     469.0       22               56                 0.0   \n",
       "\n",
       "          plan                                       city  messages_included  \\\n",
       "0     ultimate      Atlanta-Sandy Springs-Roswell, GA MSA               1000   \n",
       "1     ultimate     San Francisco-Oakland-Berkeley, CA MSA               1000   \n",
       "2     ultimate     San Francisco-Oakland-Berkeley, CA MSA               1000   \n",
       "3     ultimate          Orlando-Kissimmee-Sanford, FL MSA               1000   \n",
       "4     ultimate          Orlando-Kissimmee-Sanford, FL MSA               1000   \n",
       "...        ...                                        ...                ...   \n",
       "2251      surf  New York-Newark-Jersey City, NY-NJ-PA MSA                 50   \n",
       "2252      surf          Orlando-Kissimmee-Sanford, FL MSA                 50   \n",
       "2253      surf          Orlando-Kissimmee-Sanford, FL MSA                 50   \n",
       "2254      surf          Orlando-Kissimmee-Sanford, FL MSA                 50   \n",
       "2255      surf          Orlando-Kissimmee-Sanford, FL MSA                 50   \n",
       "\n",
       "      mb_per_month_included  minutes_included  usd_monthly_pay  usd_per_gb  \\\n",
       "0                     30720              3000               70           7   \n",
       "1                     30720              3000               70           7   \n",
       "2                     30720              3000               70           7   \n",
       "3                     30720              3000               70           7   \n",
       "4                     30720              3000               70           7   \n",
       "...                     ...               ...              ...         ...   \n",
       "2251                  15360               500               20          10   \n",
       "2252                  15360               500               20          10   \n",
       "2253                  15360               500               20          10   \n",
       "2254                  15360               500               20          10   \n",
       "2255                  15360               500               20          10   \n",
       "\n",
       "      usd_per_message  usd_per_minute plan_name  duration_revenue  \\\n",
       "0                0.01            0.01  ultimate               0.0   \n",
       "1                0.01            0.01  ultimate               0.0   \n",
       "2                0.01            0.01  ultimate               0.0   \n",
       "3                0.01            0.01  ultimate               0.0   \n",
       "4                0.01            0.01  ultimate               0.0   \n",
       "...               ...             ...       ...               ...   \n",
       "2251             0.03            0.03      surf               0.0   \n",
       "2252             0.03            0.03      surf               0.0   \n",
       "2253             0.03            0.03      surf               0.0   \n",
       "2254             0.03            0.03      surf               0.0   \n",
       "2255             0.03            0.03      surf               0.0   \n",
       "\n",
       "      messages_revenue  data_revenue  grand_total  \n",
       "0                  0.0           0.0         70.0  \n",
       "1                  0.0           0.0         70.0  \n",
       "2                  0.0          14.0         84.0  \n",
       "3                  0.0           0.0         70.0  \n",
       "4                  0.0           0.0         70.0  \n",
       "...                ...           ...          ...  \n",
       "2251               0.0          80.0        100.0  \n",
       "2252               0.0           0.0         20.0  \n",
       "2253               0.0          50.0         70.0  \n",
       "2254               0.0          20.0         40.0  \n",
       "2255               0.0          70.0         90.0  \n",
       "\n",
       "[2256 rows x 20 columns]"
      ]
     },
     "execution_count": 14,
     "metadata": {},
     "output_type": "execute_result"
    }
   ],
   "source": [
    "# calculating money for duration, gb used, number of messages, and getting the grand total\n",
    "\n",
    "# finding cost of duration revenue\n",
    "monthly_overall_final['duration_revenue'] = monthly_overall_final['duration'] - monthly_overall_final['minutes_included']\n",
    "monthly_overall_final.loc[monthly_overall_final['duration_revenue'] < 0, 'duration_revenue'] = 0\n",
    "monthly_overall_final['duration_revenue'] = monthly_overall_final['duration_revenue'] * monthly_overall_final['usd_per_minute']\n",
    "\n",
    "\n",
    "# finding cost of messages revenue\n",
    "monthly_overall_final['messages_revenue'] = monthly_overall_final['number of messages'] - monthly_overall_final['messages_included']\n",
    "monthly_overall_final.loc[monthly_overall_final['messages_revenue'] < 0, 'messages_revenue'] = 0\n",
    "monthly_overall_final['messages_revenue'] = monthly_overall_final['messages_revenue'] * monthly_overall_final['usd_per_message']\n",
    "\n",
    "\n",
    "\n",
    "# finding cost of data (converting mb to gb, and also filling na to avoid errors)\n",
    "monthly_overall_final['gb_used'] = monthly_overall_final['gb_used'] + 0.5\n",
    "monthly_overall_final['gb_used'] = monthly_overall_final['gb_used'].fillna(value='0')\n",
    "monthly_overall_final['gb_used'] = monthly_overall_final['gb_used'].astype(int)\n",
    "monthly_overall_final['data_revenue'] = monthly_overall_final['gb_used'] - (monthly_overall_final['mb_per_month_included'] / 1024)\n",
    "monthly_overall_final.loc[monthly_overall_final['data_revenue'] < 0, 'data_revenue'] = 0\n",
    "monthly_overall_final['data_revenue'] = monthly_overall_final['data_revenue'] * monthly_overall_final['usd_per_gb']\n",
    "\n",
    "monthly_overall_final['grand_total'] = monthly_overall_final['data_revenue'] + monthly_overall_final['messages_revenue'] + monthly_overall_final['duration_revenue'] + monthly_overall_final['usd_monthly_pay']\n",
    "\n",
    "monthly_overall_final"
   ]
  },
  {
   "cell_type": "markdown",
   "metadata": {},
   "source": [
    "# Conclusion\n",
    "\n",
    "There is a lot of data to work with, and I had to calculate the total amount of messages, calls, the duration of those calls and gb per user. After finding the total amount for each user, I had to calculate the grand total based on whatever plan that each user may have. The final table,  Monthly_overall_final will be used for the next steps"
   ]
  },
  {
   "cell_type": "markdown",
   "metadata": {},
   "source": [
    "# Step 3\n",
    "Graph everything "
   ]
  },
  {
   "cell_type": "code",
   "execution_count": 15,
   "metadata": {},
   "outputs": [
    {
     "name": "stdout",
     "output_type": "stream",
     "text": [
      "call duration mean monthly: 412.364804964539\n",
      "\n",
      "call duration dispersion monthly: 47962.50033932366\n",
      "\n",
      "call duration standard deviation monthly: 219.00342540545722\n"
     ]
    },
    {
     "data": {
      "image/png": "[encoded data removed]",
      "text/plain": [
       "<Figure size 432x288 with 1 Axes>"
      ]
     },
     "metadata": {
      "needs_background": "light"
     },
     "output_type": "display_data"
    }
   ],
   "source": [
    "#graphing calls_agg, while also calculating mean, variance, and standard deviation\n",
    "\n",
    "#getting ultimate users and getting surf users\n",
    "ultimate_users = monthly_overall_final.query('plan == \"ultimate\"')\n",
    "surf_users = monthly_overall_final.query('plan == \"surf\"')\n",
    "\n",
    "#graphing both ultimate and surf\n",
    "ax = surf_users['duration'].plot(kind='hist', legend=True, title='call duration per month')\n",
    "ultimate_users['duration'].plot(kind='hist', ax=ax, legend=True)\n",
    "\n",
    "ax.legend([\"surf duration\", \"ultimate duration\"]);\n",
    "\n",
    "calls_mean = calls_agg['duration'].mean()\n",
    "calls_variance = np.var(calls_agg['duration'])\n",
    "calls_std = np.std(calls_agg['duration'])\n",
    "print('call duration mean monthly:', calls_mean)\n",
    "print('\\ncall duration dispersion monthly:', calls_variance)\n",
    "print('\\ncall duration standard deviation monthly:', calls_std)\n"
   ]
  },
  {
   "cell_type": "code",
   "execution_count": 16,
   "metadata": {},
   "outputs": [],
   "source": [
    "#the majority of users spend around 400 min monthly, which reflects on the mean calculated above.\n",
    "#some users spend a lot more, nearing the 1000 min mark, but not many."
   ]
  },
  {
   "cell_type": "code",
   "execution_count": 17,
   "metadata": {},
   "outputs": [
    {
     "name": "stdout",
     "output_type": "stream",
     "text": [
      "number of messages mean monthly: 42.110188261351055\n",
      "\n",
      "number of messages dispersion monthly: 1096.5210811384227\n",
      "\n",
      "number of messages standard deviation monthly: 33.11375969500327\n"
     ]
    },
    {
     "data": {
      "image/png": "[encoded data removed]",
      "text/plain": [
       "<Figure size 432x288 with 1 Axes>"
      ]
     },
     "metadata": {
      "needs_background": "light"
     },
     "output_type": "display_data"
    }
   ],
   "source": [
    "#graphing messages_agg, while also calculating mean, variance, and standard deviation\n",
    "\n",
    "#graphing both ultimate and surf\n",
    "ax = surf_users['number of messages'].plot(kind='hist', legend=True, title='number of messages monthly')\n",
    "ultimate_users['number of messages'].plot(kind='hist', ax=ax, legend=True)\n",
    "\n",
    "ax.legend([\"surf number of messages\", \"ultimate number of messages\"]);\n",
    "\n",
    "messages_mean = messages_agg['number of messages'].mean()\n",
    "messages_variance = np.var(messages_agg['number of messages'])\n",
    "messages_std = np.std(messages_agg['number of messages'])\n",
    "print('number of messages mean monthly:', messages_mean)\n",
    "print('\\nnumber of messages dispersion monthly:', messages_variance)\n",
    "print('\\nnumber of messages standard deviation monthly:', messages_std)"
   ]
  },
  {
   "cell_type": "code",
   "execution_count": 18,
   "metadata": {},
   "outputs": [],
   "source": [
    "#The graph here isn't that well represented, and is hard to see what majority sends a month.\n",
    "#according to the mean calculated, each user messages around 42 messages a month"
   ]
  },
  {
   "cell_type": "code",
   "execution_count": 19,
   "metadata": {},
   "outputs": [
    {
     "name": "stdout",
     "output_type": "stream",
     "text": [
      "gb used mean monthly: 16.48652099716595\n",
      "\n",
      "gb used dispersion monthly: 59.03846162679782\n",
      "\n",
      "gb used standard deviation monthly: 7.683648978629738\n"
     ]
    },
    {
     "data": {
      "image/png": "[encoded data removed]",
      "text/plain": [
       "<Figure size 432x288 with 1 Axes>"
      ]
     },
     "metadata": {
      "needs_background": "light"
     },
     "output_type": "display_data"
    }
   ],
   "source": [
    "#graphing internet_agg, while also calculating mean, variance, and standard deviation\n",
    "\n",
    "#graphing both ultimate and surf\n",
    "ax = surf_users['gb_used'].plot(kind='hist', legend=True, title='gb used monthly')\n",
    "ultimate_users['gb_used'].plot(kind='hist', ax=ax, legend=True)\n",
    "\n",
    "ax.legend([\"surf number of gb used\", \"ultimate number of gb used\"]);\n",
    "\n",
    "internet_mean = internet_agg['gb_used'].mean()\n",
    "internet_variance = np.var(internet_agg['gb_used'])\n",
    "internet_std = np.std(internet_agg['gb_used'])\n",
    "print('gb used mean monthly:', internet_mean)\n",
    "print('\\ngb used dispersion monthly:', internet_variance)\n",
    "print('\\ngb used standard deviation monthly:', internet_std)"
   ]
  },
  {
   "cell_type": "code",
   "execution_count": 20,
   "metadata": {},
   "outputs": [],
   "source": [
    "#the majority of users spend around 16 gb monthly, which reflects on the mean calculated above"
   ]
  },
  {
   "cell_type": "code",
   "execution_count": 21,
   "metadata": {},
   "outputs": [
    {
     "name": "stdout",
     "output_type": "stream",
     "text": [
      "p-value: 3.5606309563615155e-18\n",
      "We reject the null hypothesis\n",
      "\n",
      "The average revenue for ultimate users: $ 72.28089887640449\n",
      "The average revenue for surf users: $ 59.77003238341968\n"
     ]
    }
   ],
   "source": [
    "# Step 4, testing the hypotheses\n",
    "# fill all the null value to 0\n",
    "monthly_overall_final['grand_total'] = monthly_overall_final['grand_total'].fillna(value='0')\n",
    "\n",
    "# convert the grand_total field from data type of object to float:\n",
    "monthly_overall_final['grand_total'] = monthly_overall_final['grand_total'].astype(float, errors = 'raise')\n",
    "\n",
    "# get the ultimate and surf users into two different\n",
    "ultimate_users = monthly_overall_final.query('plan == \"ultimate\"')\n",
    "surf_users = monthly_overall_final.query('plan == \"surf\"')\n",
    "\n",
    "alpha = 0.05\n",
    "\n",
    "results = st.ttest_ind(ultimate_users['grand_total'], surf_users['grand_total'], equal_var = False)\n",
    "\n",
    "print('p-value:', results.pvalue)\n",
    "\n",
    "if(results.pvalue < alpha):\n",
    "    print('We reject the null hypothesis')\n",
    "else:\n",
    "    print(\"We can't reject the null hypothesis\")\n",
    "    \n",
    "print(\"\\nThe average revenue for ultimate users: $\", ultimate_users['grand_total'].mean())\n",
    "print(\"The average revenue for surf users: $\", surf_users['grand_total'].mean())\n",
    "\n",
    "# CONCLUSION FROM THIS TEST\n",
    "# The means are statistically different with a significance alpha value of 0.5, therefore We REJECT the NULL HYPOTHESIS"
   ]
  },
  {
   "cell_type": "code",
   "execution_count": 22,
   "metadata": {
    "scrolled": true
   },
   "outputs": [
    {
     "name": "stdout",
     "output_type": "stream",
     "text": [
      "p-value: 0.011490399093320948\n",
      "We reject the null hypothesis\n"
     ]
    }
   ],
   "source": [
    "# get the users of NY-NJ\n",
    "ny_monthly = monthly_overall_final[monthly_overall_final['city'].str.contains('NY-NJ')]\n",
    "not_ny_monthly = monthly_overall_final[monthly_overall_final['city'].str.contains(\"NY-NJ\") == False]\n",
    "\n",
    "\n",
    "alpha = 0.05\n",
    "\n",
    "results = st.ttest_ind(ny_monthly['grand_total'], not_ny_monthly['grand_total'], equal_var = False)\n",
    "\n",
    "print('p-value:', results.pvalue)\n",
    "\n",
    "if(results.pvalue < alpha):\n",
    "    print('We reject the null hypothesis')\n",
    "else:\n",
    "    print(\"We can't reject the null hypothesis\")\n",
    "    \n",
    "    \n",
    "    \n",
    "# CONCLUSION FROM THIS TEST\n",
    "# The means are statistically different with a significance alpha value of 0.5, therefore We REJECT the NULL HYPOTHESIS"
   ]
  },
  {
   "cell_type": "markdown",
   "metadata": {},
   "source": [
    "# Conclusion\n",
    "\n",
    "In terms of what plans should be focused on, ultimate generates more revenue. However, just by judging by graphs and means, people in surf tend to spend more extra money than their base price ($20). \n",
    "\n",
    "For the first hypotheses that was tested, the P-Value was incredibly small, going into e-18, which shows that the average revenue of both surf and ultimate are very similar, thus rejecting the null hypothses. \n",
    "For the second hypotheses that was tested, while the null hypotheses is rejected, the p-value isn't as significant as the previous test, which had e-18. "
   ]
  }
 ],
 "metadata": {
  "ExecuteTimeLog": [
   {
    "duration": 1513,
    "start_time": "2021-09-28T01:14:53.122Z"
   },
   {
    "duration": 1641,
    "start_time": "2021-09-28T01:14:58.263Z"
   },
   {
    "duration": 13,
    "start_time": "2021-09-28T01:15:11.639Z"
   },
   {
    "duration": 10,
    "start_time": "2021-09-28T01:15:26.536Z"
   },
   {
    "duration": 19,
    "start_time": "2021-09-28T01:15:38.216Z"
   },
   {
    "duration": 12,
    "start_time": "2021-09-28T03:34:50.022Z"
   },
   {
    "duration": 21,
    "start_time": "2021-09-28T03:35:16.487Z"
   },
   {
    "duration": 72,
    "start_time": "2021-09-28T03:35:21.775Z"
   },
   {
    "duration": 63,
    "start_time": "2021-09-28T03:35:26.825Z"
   },
   {
    "duration": 5,
    "start_time": "2021-09-28T03:35:38.743Z"
   },
   {
    "duration": 1257,
    "start_time": "2021-09-28T03:35:38.750Z"
   },
   {
    "duration": 22,
    "start_time": "2021-09-28T03:35:40.253Z"
   },
   {
    "duration": 444,
    "start_time": "2021-09-28T10:51:40.905Z"
   },
   {
    "duration": 4,
    "start_time": "2021-09-28T10:54:23.175Z"
   },
   {
    "duration": 1324,
    "start_time": "2021-09-28T10:54:23.182Z"
   },
   {
    "duration": 303,
    "start_time": "2021-09-28T10:54:25.670Z"
   },
   {
    "duration": 43,
    "start_time": "2021-09-28T10:54:48.668Z"
   },
   {
    "duration": 63,
    "start_time": "2021-09-28T10:55:09.500Z"
   },
   {
    "duration": 13,
    "start_time": "2021-09-28T11:00:00.649Z"
   },
   {
    "duration": 58,
    "start_time": "2021-09-28T11:26:23.703Z"
   },
   {
    "duration": 29,
    "start_time": "2021-09-28T11:38:45.237Z"
   },
   {
    "duration": 211,
    "start_time": "2021-09-28T22:47:53.659Z"
   },
   {
    "duration": 1023,
    "start_time": "2021-09-28T22:48:00.222Z"
   },
   {
    "duration": 934,
    "start_time": "2021-09-28T22:48:01.247Z"
   },
   {
    "duration": 41,
    "start_time": "2021-09-28T22:48:02.183Z"
   },
   {
    "duration": 36,
    "start_time": "2021-09-28T22:48:02.225Z"
   },
   {
    "duration": 18,
    "start_time": "2021-09-28T22:48:04.187Z"
   },
   {
    "duration": 18,
    "start_time": "2021-09-28T22:48:16.728Z"
   },
   {
    "duration": 9,
    "start_time": "2021-09-28T22:49:56.748Z"
   },
   {
    "duration": 20,
    "start_time": "2021-09-28T22:51:09.871Z"
   },
   {
    "duration": 9,
    "start_time": "2021-09-28T22:56:16.007Z"
   },
   {
    "duration": 238,
    "start_time": "2021-09-28T22:58:00.875Z"
   },
   {
    "duration": 807,
    "start_time": "2021-09-28T22:58:03.840Z"
   },
   {
    "duration": 7,
    "start_time": "2021-09-28T22:59:08.213Z"
   },
   {
    "duration": 41,
    "start_time": "2021-09-28T22:59:18.792Z"
   },
   {
    "duration": 27,
    "start_time": "2021-09-28T22:59:24.140Z"
   },
   {
    "duration": 178,
    "start_time": "2021-09-29T03:16:32.147Z"
   },
   {
    "duration": 3,
    "start_time": "2021-09-29T03:16:37.878Z"
   },
   {
    "duration": 912,
    "start_time": "2021-09-29T03:16:37.883Z"
   },
   {
    "duration": 33,
    "start_time": "2021-09-29T03:16:38.797Z"
   },
   {
    "duration": 35,
    "start_time": "2021-09-29T03:16:38.831Z"
   },
   {
    "duration": 39,
    "start_time": "2021-09-29T03:16:38.867Z"
   },
   {
    "duration": 17,
    "start_time": "2021-09-29T03:16:38.908Z"
   },
   {
    "duration": 34,
    "start_time": "2021-09-29T03:16:38.927Z"
   },
   {
    "duration": 188,
    "start_time": "2021-09-29T03:16:40.944Z"
   },
   {
    "duration": 1225,
    "start_time": "2021-09-29T03:16:55.694Z"
   },
   {
    "duration": 1291,
    "start_time": "2021-09-29T03:17:04.584Z"
   },
   {
    "duration": 47,
    "start_time": "2021-09-29T04:25:48.853Z"
   },
   {
    "duration": 3,
    "start_time": "2021-09-29T05:13:35.968Z"
   },
   {
    "duration": 909,
    "start_time": "2021-09-29T05:13:35.973Z"
   },
   {
    "duration": 35,
    "start_time": "2021-09-29T05:13:36.884Z"
   },
   {
    "duration": 33,
    "start_time": "2021-09-29T05:13:36.921Z"
   },
   {
    "duration": 17,
    "start_time": "2021-09-29T05:13:36.956Z"
   },
   {
    "duration": 1305,
    "start_time": "2021-09-29T05:13:36.975Z"
   },
   {
    "duration": 26,
    "start_time": "2021-09-29T05:13:38.282Z"
   },
   {
    "duration": 36,
    "start_time": "2021-09-29T05:13:38.310Z"
   },
   {
    "duration": 19,
    "start_time": "2021-09-29T05:13:42.191Z"
   },
   {
    "duration": 43,
    "start_time": "2021-09-29T05:13:44.568Z"
   },
   {
    "duration": 7,
    "start_time": "2021-09-29T06:56:35.571Z"
   },
   {
    "duration": 21,
    "start_time": "2021-09-29T06:56:39.945Z"
   },
   {
    "duration": 3,
    "start_time": "2021-09-29T11:05:15.629Z"
   },
   {
    "duration": 1396,
    "start_time": "2021-09-29T11:05:15.634Z"
   },
   {
    "duration": 43,
    "start_time": "2021-09-29T11:05:17.033Z"
   },
   {
    "duration": 38,
    "start_time": "2021-09-29T11:05:17.079Z"
   },
   {
    "duration": 17,
    "start_time": "2021-09-29T11:05:17.119Z"
   },
   {
    "duration": 1099,
    "start_time": "2021-09-29T11:05:17.138Z"
   },
   {
    "duration": 17,
    "start_time": "2021-09-29T11:05:18.239Z"
   },
   {
    "duration": 71,
    "start_time": "2021-09-29T11:05:18.258Z"
   },
   {
    "duration": 26,
    "start_time": "2021-09-29T11:05:18.333Z"
   },
   {
    "duration": 45,
    "start_time": "2021-09-29T11:05:23.944Z"
   },
   {
    "duration": 1048,
    "start_time": "2021-09-29T11:51:28.678Z"
   },
   {
    "duration": 4,
    "start_time": "2021-09-29T11:51:39.182Z"
   },
   {
    "duration": 1027,
    "start_time": "2021-09-29T11:51:39.188Z"
   },
   {
    "duration": 46,
    "start_time": "2021-09-29T11:51:40.217Z"
   },
   {
    "duration": 34,
    "start_time": "2021-09-29T11:51:40.266Z"
   },
   {
    "duration": 18,
    "start_time": "2021-09-29T11:51:40.302Z"
   },
   {
    "duration": 1003,
    "start_time": "2021-09-29T11:51:40.321Z"
   },
   {
    "duration": 15,
    "start_time": "2021-09-29T11:51:41.326Z"
   },
   {
    "duration": 34,
    "start_time": "2021-09-29T11:51:41.343Z"
   },
   {
    "duration": 30,
    "start_time": "2021-09-29T11:51:41.379Z"
   },
   {
    "duration": 20,
    "start_time": "2021-09-29T11:51:45.032Z"
   },
   {
    "duration": 46,
    "start_time": "2021-09-29T11:51:56.571Z"
   },
   {
    "duration": 19,
    "start_time": "2021-09-29T11:52:21.956Z"
   },
   {
    "duration": 24,
    "start_time": "2021-09-29T12:00:17.364Z"
   },
   {
    "duration": 3,
    "start_time": "2021-09-29T12:00:42.281Z"
   },
   {
    "duration": 1136,
    "start_time": "2021-09-29T12:00:42.286Z"
   },
   {
    "duration": 47,
    "start_time": "2021-09-29T12:00:43.424Z"
   },
   {
    "duration": 37,
    "start_time": "2021-09-29T12:00:43.473Z"
   },
   {
    "duration": 18,
    "start_time": "2021-09-29T12:00:43.512Z"
   },
   {
    "duration": 1068,
    "start_time": "2021-09-29T12:00:43.532Z"
   },
   {
    "duration": 15,
    "start_time": "2021-09-29T12:00:44.602Z"
   },
   {
    "duration": 35,
    "start_time": "2021-09-29T12:00:44.619Z"
   },
   {
    "duration": 20,
    "start_time": "2021-09-29T12:00:44.656Z"
   },
   {
    "duration": 41,
    "start_time": "2021-09-29T12:00:44.700Z"
   },
   {
    "duration": 116,
    "start_time": "2021-09-29T12:00:48.492Z"
   },
   {
    "duration": 4,
    "start_time": "2021-09-29T13:31:11.138Z"
   },
   {
    "duration": 959,
    "start_time": "2021-09-29T13:31:11.143Z"
   },
   {
    "duration": 43,
    "start_time": "2021-09-29T13:31:12.104Z"
   },
   {
    "duration": 51,
    "start_time": "2021-09-29T13:31:12.149Z"
   },
   {
    "duration": 18,
    "start_time": "2021-09-29T13:31:12.202Z"
   },
   {
    "duration": 1012,
    "start_time": "2021-09-29T13:31:12.222Z"
   },
   {
    "duration": 17,
    "start_time": "2021-09-29T13:31:13.236Z"
   },
   {
    "duration": 58,
    "start_time": "2021-09-29T13:31:13.255Z"
   },
   {
    "duration": 21,
    "start_time": "2021-09-29T13:31:13.316Z"
   },
   {
    "duration": 67,
    "start_time": "2021-09-29T13:31:13.339Z"
   },
   {
    "duration": 114,
    "start_time": "2021-09-29T13:31:13.407Z"
   },
   {
    "duration": 3,
    "start_time": "2021-09-29T13:31:30.301Z"
   },
   {
    "duration": 1093,
    "start_time": "2021-09-29T13:31:30.306Z"
   },
   {
    "duration": 44,
    "start_time": "2021-09-29T13:31:31.401Z"
   },
   {
    "duration": 33,
    "start_time": "2021-09-29T13:31:31.447Z"
   },
   {
    "duration": 34,
    "start_time": "2021-09-29T13:31:31.481Z"
   },
   {
    "duration": 1025,
    "start_time": "2021-09-29T13:31:31.516Z"
   },
   {
    "duration": 15,
    "start_time": "2021-09-29T13:31:32.543Z"
   },
   {
    "duration": 54,
    "start_time": "2021-09-29T13:31:32.560Z"
   },
   {
    "duration": 19,
    "start_time": "2021-09-29T13:31:32.616Z"
   },
   {
    "duration": 39,
    "start_time": "2021-09-29T13:31:32.637Z"
   },
   {
    "duration": 123,
    "start_time": "2021-09-29T13:31:32.678Z"
   },
   {
    "duration": 6,
    "start_time": "2021-09-30T00:26:58.414Z"
   },
   {
    "duration": 198,
    "start_time": "2021-09-30T00:31:25.081Z"
   },
   {
    "duration": 189,
    "start_time": "2021-09-30T00:40:29.497Z"
   },
   {
    "duration": 178,
    "start_time": "2021-09-30T00:41:19.509Z"
   },
   {
    "duration": 177,
    "start_time": "2021-09-30T00:41:39.980Z"
   },
   {
    "duration": 192,
    "start_time": "2021-09-30T00:44:18.446Z"
   },
   {
    "duration": 192,
    "start_time": "2021-09-30T00:44:43.370Z"
   },
   {
    "duration": 183,
    "start_time": "2021-09-30T00:44:49.277Z"
   },
   {
    "duration": 201,
    "start_time": "2021-09-30T00:45:03.937Z"
   },
   {
    "duration": 187,
    "start_time": "2021-09-30T00:45:17.355Z"
   },
   {
    "duration": 180,
    "start_time": "2021-09-30T01:12:02.879Z"
   },
   {
    "duration": 256,
    "start_time": "2021-09-30T01:15:21.101Z"
   },
   {
    "duration": 177,
    "start_time": "2021-09-30T01:17:09.164Z"
   },
   {
    "duration": 9,
    "start_time": "2021-09-30T01:17:46.176Z"
   },
   {
    "duration": 21,
    "start_time": "2021-09-30T01:19:09.022Z"
   },
   {
    "duration": 200,
    "start_time": "2021-09-30T01:20:23.129Z"
   },
   {
    "duration": 637,
    "start_time": "2021-09-30T01:20:30.409Z"
   },
   {
    "duration": 24,
    "start_time": "2021-09-30T01:21:18.202Z"
   },
   {
    "duration": 23,
    "start_time": "2021-09-30T01:21:26.075Z"
   },
   {
    "duration": 210,
    "start_time": "2021-09-30T02:24:46.111Z"
   },
   {
    "duration": 4,
    "start_time": "2021-09-30T02:24:53.696Z"
   },
   {
    "duration": 1271,
    "start_time": "2021-09-30T02:24:53.702Z"
   },
   {
    "duration": 42,
    "start_time": "2021-09-30T02:24:54.975Z"
   },
   {
    "duration": 36,
    "start_time": "2021-09-30T02:24:55.019Z"
   },
   {
    "duration": 17,
    "start_time": "2021-09-30T02:24:55.057Z"
   },
   {
    "duration": 1083,
    "start_time": "2021-09-30T02:24:55.076Z"
   },
   {
    "duration": 15,
    "start_time": "2021-09-30T02:24:56.161Z"
   },
   {
    "duration": 31,
    "start_time": "2021-09-30T02:25:30.601Z"
   },
   {
    "duration": 210,
    "start_time": "2021-09-30T02:25:36.880Z"
   },
   {
    "duration": 6,
    "start_time": "2021-09-30T02:30:16.405Z"
   },
   {
    "duration": 7,
    "start_time": "2021-09-30T02:38:14.994Z"
   },
   {
    "duration": 4,
    "start_time": "2021-09-30T03:00:21.742Z"
   },
   {
    "duration": 893,
    "start_time": "2021-09-30T03:00:21.748Z"
   },
   {
    "duration": 47,
    "start_time": "2021-09-30T03:00:22.643Z"
   },
   {
    "duration": 36,
    "start_time": "2021-09-30T03:00:22.693Z"
   },
   {
    "duration": 21,
    "start_time": "2021-09-30T03:00:22.731Z"
   },
   {
    "duration": 1088,
    "start_time": "2021-09-30T03:00:22.754Z"
   },
   {
    "duration": 18,
    "start_time": "2021-09-30T03:00:23.844Z"
   },
   {
    "duration": 229,
    "start_time": "2021-09-30T03:00:23.864Z"
   },
   {
    "duration": 1217,
    "start_time": "2021-09-30T03:00:22.878Z"
   },
   {
    "duration": 1217,
    "start_time": "2021-09-30T03:00:22.880Z"
   },
   {
    "duration": 1217,
    "start_time": "2021-09-30T03:00:22.881Z"
   },
   {
    "duration": 1217,
    "start_time": "2021-09-30T03:00:22.882Z"
   },
   {
    "duration": 1217,
    "start_time": "2021-09-30T03:00:22.883Z"
   },
   {
    "duration": 1217,
    "start_time": "2021-09-30T03:00:22.884Z"
   },
   {
    "duration": 1217,
    "start_time": "2021-09-30T03:00:22.885Z"
   },
   {
    "duration": 3,
    "start_time": "2021-09-30T03:27:57.430Z"
   },
   {
    "duration": 895,
    "start_time": "2021-09-30T03:27:57.435Z"
   },
   {
    "duration": 44,
    "start_time": "2021-09-30T03:27:58.332Z"
   },
   {
    "duration": 33,
    "start_time": "2021-09-30T03:27:58.378Z"
   },
   {
    "duration": 18,
    "start_time": "2021-09-30T03:27:58.413Z"
   },
   {
    "duration": 1079,
    "start_time": "2021-09-30T03:27:58.432Z"
   },
   {
    "duration": 15,
    "start_time": "2021-09-30T03:27:59.513Z"
   },
   {
    "duration": 208,
    "start_time": "2021-09-30T03:27:59.529Z"
   },
   {
    "duration": 1184,
    "start_time": "2021-09-30T03:27:58.555Z"
   },
   {
    "duration": 1184,
    "start_time": "2021-09-30T03:27:58.556Z"
   },
   {
    "duration": 1184,
    "start_time": "2021-09-30T03:27:58.557Z"
   },
   {
    "duration": 1184,
    "start_time": "2021-09-30T03:27:58.558Z"
   },
   {
    "duration": 1184,
    "start_time": "2021-09-30T03:27:58.559Z"
   },
   {
    "duration": 1184,
    "start_time": "2021-09-30T03:27:58.560Z"
   },
   {
    "duration": 1184,
    "start_time": "2021-09-30T03:27:58.561Z"
   },
   {
    "duration": 3,
    "start_time": "2021-09-30T03:28:06.414Z"
   },
   {
    "duration": 1007,
    "start_time": "2021-09-30T03:28:06.419Z"
   },
   {
    "duration": 44,
    "start_time": "2021-09-30T03:28:07.428Z"
   },
   {
    "duration": 34,
    "start_time": "2021-09-30T03:28:07.474Z"
   },
   {
    "duration": 18,
    "start_time": "2021-09-30T03:28:07.510Z"
   },
   {
    "duration": 1082,
    "start_time": "2021-09-30T03:28:07.529Z"
   },
   {
    "duration": 16,
    "start_time": "2021-09-30T03:28:08.612Z"
   },
   {
    "duration": 214,
    "start_time": "2021-09-30T03:28:08.630Z"
   },
   {
    "duration": 1277,
    "start_time": "2021-09-30T03:28:07.569Z"
   },
   {
    "duration": 1200,
    "start_time": "2021-09-30T03:28:07.647Z"
   },
   {
    "duration": 1200,
    "start_time": "2021-09-30T03:28:07.648Z"
   },
   {
    "duration": 1200,
    "start_time": "2021-09-30T03:28:07.649Z"
   },
   {
    "duration": 1199,
    "start_time": "2021-09-30T03:28:07.651Z"
   },
   {
    "duration": 1199,
    "start_time": "2021-09-30T03:28:07.652Z"
   },
   {
    "duration": 1199,
    "start_time": "2021-09-30T03:28:07.653Z"
   },
   {
    "duration": 4,
    "start_time": "2021-09-30T03:28:23.294Z"
   },
   {
    "duration": 964,
    "start_time": "2021-09-30T03:28:23.299Z"
   },
   {
    "duration": 45,
    "start_time": "2021-09-30T03:28:24.265Z"
   },
   {
    "duration": 35,
    "start_time": "2021-09-30T03:28:24.312Z"
   },
   {
    "duration": 18,
    "start_time": "2021-09-30T03:28:24.349Z"
   },
   {
    "duration": 1104,
    "start_time": "2021-09-30T03:28:24.368Z"
   },
   {
    "duration": 27,
    "start_time": "2021-09-30T03:28:25.473Z"
   },
   {
    "duration": 36,
    "start_time": "2021-09-30T03:28:25.502Z"
   },
   {
    "duration": 19,
    "start_time": "2021-09-30T03:28:25.540Z"
   },
   {
    "duration": 73,
    "start_time": "2021-09-30T03:28:25.561Z"
   },
   {
    "duration": 135,
    "start_time": "2021-09-30T03:28:25.636Z"
   },
   {
    "duration": 197,
    "start_time": "2021-09-30T03:28:25.773Z"
   },
   {
    "duration": 204,
    "start_time": "2021-09-30T03:28:25.972Z"
   },
   {
    "duration": 6,
    "start_time": "2021-09-30T03:28:26.178Z"
   },
   {
    "duration": 16,
    "start_time": "2021-09-30T03:28:26.186Z"
   },
   {
    "duration": 213,
    "start_time": "2021-09-30T03:48:09.817Z"
   },
   {
    "duration": 29,
    "start_time": "2021-09-30T03:48:20.361Z"
   },
   {
    "duration": 32,
    "start_time": "2021-09-30T03:48:51.075Z"
   },
   {
    "duration": 33,
    "start_time": "2021-09-30T03:49:53.428Z"
   },
   {
    "duration": 34,
    "start_time": "2021-09-30T03:51:08.505Z"
   },
   {
    "duration": 35,
    "start_time": "2021-09-30T03:52:16.232Z"
   },
   {
    "duration": 32,
    "start_time": "2021-09-30T03:54:45.794Z"
   },
   {
    "duration": 40,
    "start_time": "2021-09-30T03:58:12.904Z"
   },
   {
    "duration": 35,
    "start_time": "2021-09-30T03:58:35.606Z"
   },
   {
    "duration": 26,
    "start_time": "2021-09-30T03:58:56.285Z"
   },
   {
    "duration": 314,
    "start_time": "2021-09-30T03:59:29.525Z"
   },
   {
    "duration": 25,
    "start_time": "2021-09-30T03:59:49.031Z"
   },
   {
    "duration": 28,
    "start_time": "2021-09-30T04:00:29.798Z"
   },
   {
    "duration": 29,
    "start_time": "2021-09-30T04:00:34.534Z"
   },
   {
    "duration": 24,
    "start_time": "2021-09-30T04:00:49.462Z"
   },
   {
    "duration": 29,
    "start_time": "2021-09-30T04:01:47.095Z"
   },
   {
    "duration": 34,
    "start_time": "2021-09-30T04:02:12.367Z"
   },
   {
    "duration": 3,
    "start_time": "2021-09-30T04:02:42.010Z"
   },
   {
    "duration": 888,
    "start_time": "2021-09-30T04:02:42.015Z"
   },
   {
    "duration": 45,
    "start_time": "2021-09-30T04:02:42.905Z"
   },
   {
    "duration": 51,
    "start_time": "2021-09-30T04:02:42.952Z"
   },
   {
    "duration": 18,
    "start_time": "2021-09-30T04:02:43.005Z"
   },
   {
    "duration": 1070,
    "start_time": "2021-09-30T04:02:43.025Z"
   },
   {
    "duration": 16,
    "start_time": "2021-09-30T04:02:44.096Z"
   },
   {
    "duration": 39,
    "start_time": "2021-09-30T04:02:44.114Z"
   },
   {
    "duration": 52,
    "start_time": "2021-09-30T04:02:44.155Z"
   },
   {
    "duration": 40,
    "start_time": "2021-09-30T04:02:44.208Z"
   },
   {
    "duration": 136,
    "start_time": "2021-09-30T04:02:44.250Z"
   },
   {
    "duration": 187,
    "start_time": "2021-09-30T04:02:44.387Z"
   },
   {
    "duration": 194,
    "start_time": "2021-09-30T04:02:44.575Z"
   },
   {
    "duration": 6,
    "start_time": "2021-09-30T04:02:44.770Z"
   },
   {
    "duration": 25,
    "start_time": "2021-09-30T04:02:44.778Z"
   },
   {
    "duration": 28,
    "start_time": "2021-09-30T04:02:58.439Z"
   },
   {
    "duration": 26,
    "start_time": "2021-09-30T04:03:09.351Z"
   },
   {
    "duration": 9,
    "start_time": "2021-09-30T05:36:44.395Z"
   },
   {
    "duration": 213,
    "start_time": "2021-09-30T05:37:09.272Z"
   },
   {
    "duration": 3,
    "start_time": "2021-09-30T05:48:44.776Z"
   },
   {
    "duration": 2161,
    "start_time": "2021-09-30T05:48:44.781Z"
   },
   {
    "duration": 43,
    "start_time": "2021-09-30T05:48:46.944Z"
   },
   {
    "duration": 33,
    "start_time": "2021-09-30T05:48:46.989Z"
   },
   {
    "duration": 16,
    "start_time": "2021-09-30T05:48:47.023Z"
   },
   {
    "duration": 1060,
    "start_time": "2021-09-30T05:48:47.040Z"
   },
   {
    "duration": 14,
    "start_time": "2021-09-30T05:48:48.102Z"
   },
   {
    "duration": 32,
    "start_time": "2021-09-30T05:48:48.118Z"
   },
   {
    "duration": 17,
    "start_time": "2021-09-30T05:48:48.152Z"
   },
   {
    "duration": 41,
    "start_time": "2021-09-30T05:48:48.200Z"
   },
   {
    "duration": 134,
    "start_time": "2021-09-30T05:48:48.243Z"
   },
   {
    "duration": 225,
    "start_time": "2021-09-30T05:48:48.379Z"
   },
   {
    "duration": 1316,
    "start_time": "2021-09-30T05:48:47.290Z"
   },
   {
    "duration": 1316,
    "start_time": "2021-09-30T05:48:47.291Z"
   },
   {
    "duration": 1310,
    "start_time": "2021-09-30T05:48:47.299Z"
   },
   {
    "duration": 1309,
    "start_time": "2021-09-30T05:48:47.301Z"
   },
   {
    "duration": 67,
    "start_time": "2021-09-30T05:54:11.838Z"
   },
   {
    "duration": 1056,
    "start_time": "2021-09-30T05:55:23.355Z"
   },
   {
    "duration": 72,
    "start_time": "2021-09-30T05:55:56.387Z"
   },
   {
    "duration": 41,
    "start_time": "2021-09-30T06:00:52.476Z"
   },
   {
    "duration": 47,
    "start_time": "2021-09-30T06:01:10.502Z"
   },
   {
    "duration": 15,
    "start_time": "2021-09-30T06:02:20.502Z"
   },
   {
    "duration": 16,
    "start_time": "2021-09-30T06:05:41.121Z"
   },
   {
    "duration": 16,
    "start_time": "2021-09-30T06:10:36.952Z"
   },
   {
    "duration": 4,
    "start_time": "2021-09-30T06:10:54.064Z"
   },
   {
    "duration": 902,
    "start_time": "2021-09-30T06:10:54.070Z"
   },
   {
    "duration": 56,
    "start_time": "2021-09-30T06:10:54.974Z"
   },
   {
    "duration": 36,
    "start_time": "2021-09-30T06:10:55.031Z"
   },
   {
    "duration": 34,
    "start_time": "2021-09-30T06:10:55.069Z"
   },
   {
    "duration": 13,
    "start_time": "2021-09-30T06:10:55.105Z"
   },
   {
    "duration": 17,
    "start_time": "2021-09-30T06:10:55.119Z"
   },
   {
    "duration": 63,
    "start_time": "2021-09-30T06:10:55.138Z"
   },
   {
    "duration": 23,
    "start_time": "2021-09-30T06:10:55.203Z"
   },
   {
    "duration": 73,
    "start_time": "2021-09-30T06:10:55.228Z"
   },
   {
    "duration": 137,
    "start_time": "2021-09-30T06:10:55.303Z"
   },
   {
    "duration": 194,
    "start_time": "2021-09-30T06:10:55.442Z"
   },
   {
    "duration": 1325,
    "start_time": "2021-09-30T06:10:54.313Z"
   },
   {
    "duration": 1324,
    "start_time": "2021-09-30T06:10:54.315Z"
   },
   {
    "duration": 1324,
    "start_time": "2021-09-30T06:10:54.316Z"
   },
   {
    "duration": 1325,
    "start_time": "2021-09-30T06:10:54.317Z"
   },
   {
    "duration": 3,
    "start_time": "2021-09-30T06:11:04.056Z"
   },
   {
    "duration": 910,
    "start_time": "2021-09-30T06:11:04.061Z"
   },
   {
    "duration": 52,
    "start_time": "2021-09-30T06:11:04.974Z"
   },
   {
    "duration": 38,
    "start_time": "2021-09-30T06:11:05.027Z"
   },
   {
    "duration": 40,
    "start_time": "2021-09-30T06:11:05.067Z"
   },
   {
    "duration": 13,
    "start_time": "2021-09-30T06:11:05.109Z"
   },
   {
    "duration": 17,
    "start_time": "2021-09-30T06:11:05.123Z"
   },
   {
    "duration": 67,
    "start_time": "2021-09-30T06:11:05.141Z"
   },
   {
    "duration": 23,
    "start_time": "2021-09-30T06:11:05.211Z"
   },
   {
    "duration": 73,
    "start_time": "2021-09-30T06:11:05.236Z"
   },
   {
    "duration": 128,
    "start_time": "2021-09-30T06:11:05.311Z"
   },
   {
    "duration": 227,
    "start_time": "2021-09-30T06:11:05.441Z"
   },
   {
    "duration": 1320,
    "start_time": "2021-09-30T06:11:04.350Z"
   },
   {
    "duration": 1320,
    "start_time": "2021-09-30T06:11:04.352Z"
   },
   {
    "duration": 1319,
    "start_time": "2021-09-30T06:11:04.354Z"
   },
   {
    "duration": 1318,
    "start_time": "2021-09-30T06:11:04.355Z"
   },
   {
    "duration": 21,
    "start_time": "2021-09-30T06:12:53.557Z"
   },
   {
    "duration": 21,
    "start_time": "2021-09-30T06:12:58.651Z"
   },
   {
    "duration": 29,
    "start_time": "2021-09-30T06:13:20.403Z"
   },
   {
    "duration": 812,
    "start_time": "2021-09-30T06:13:32.027Z"
   },
   {
    "duration": 28,
    "start_time": "2021-09-30T06:13:50.229Z"
   },
   {
    "duration": 13,
    "start_time": "2021-09-30T06:15:49.797Z"
   },
   {
    "duration": 17,
    "start_time": "2021-09-30T06:18:50.301Z"
   },
   {
    "duration": 23,
    "start_time": "2021-09-30T06:20:49.634Z"
   },
   {
    "duration": 271,
    "start_time": "2021-09-30T06:22:51.913Z"
   },
   {
    "duration": 17,
    "start_time": "2021-09-30T06:22:59.824Z"
   },
   {
    "duration": 183,
    "start_time": "2021-09-30T06:27:43.969Z"
   },
   {
    "duration": 3,
    "start_time": "2021-09-30T06:28:57.513Z"
   },
   {
    "duration": 928,
    "start_time": "2021-09-30T06:28:57.518Z"
   },
   {
    "duration": 4,
    "start_time": "2021-09-30T06:28:58.448Z"
   },
   {
    "duration": 57,
    "start_time": "2021-09-30T06:28:58.454Z"
   },
   {
    "duration": 35,
    "start_time": "2021-09-30T06:28:58.513Z"
   },
   {
    "duration": 17,
    "start_time": "2021-09-30T06:28:58.549Z"
   },
   {
    "duration": 38,
    "start_time": "2021-09-30T06:28:58.568Z"
   },
   {
    "duration": 16,
    "start_time": "2021-09-30T06:28:58.608Z"
   },
   {
    "duration": 16,
    "start_time": "2021-09-30T06:28:58.626Z"
   },
   {
    "duration": 64,
    "start_time": "2021-09-30T06:28:58.645Z"
   },
   {
    "duration": 20,
    "start_time": "2021-09-30T06:28:58.711Z"
   },
   {
    "duration": 70,
    "start_time": "2021-09-30T06:28:58.733Z"
   },
   {
    "duration": 1333,
    "start_time": "2021-09-30T06:28:57.473Z"
   },
   {
    "duration": 1334,
    "start_time": "2021-09-30T06:28:57.474Z"
   },
   {
    "duration": 1333,
    "start_time": "2021-09-30T06:28:57.476Z"
   },
   {
    "duration": 1332,
    "start_time": "2021-09-30T06:28:57.478Z"
   },
   {
    "duration": 1332,
    "start_time": "2021-09-30T06:28:57.480Z"
   },
   {
    "duration": 1329,
    "start_time": "2021-09-30T06:28:57.484Z"
   },
   {
    "duration": 1330,
    "start_time": "2021-09-30T06:28:57.485Z"
   },
   {
    "duration": 4,
    "start_time": "2021-09-30T06:29:02.940Z"
   },
   {
    "duration": 987,
    "start_time": "2021-09-30T06:29:02.946Z"
   },
   {
    "duration": 3,
    "start_time": "2021-09-30T06:29:03.935Z"
   },
   {
    "duration": 56,
    "start_time": "2021-09-30T06:29:03.940Z"
   },
   {
    "duration": 35,
    "start_time": "2021-09-30T06:29:03.998Z"
   },
   {
    "duration": 18,
    "start_time": "2021-09-30T06:29:04.034Z"
   },
   {
    "duration": 12,
    "start_time": "2021-09-30T06:29:04.054Z"
   },
   {
    "duration": 45,
    "start_time": "2021-09-30T06:29:04.068Z"
   },
   {
    "duration": 15,
    "start_time": "2021-09-30T06:29:04.116Z"
   },
   {
    "duration": 32,
    "start_time": "2021-09-30T06:29:04.133Z"
   },
   {
    "duration": 45,
    "start_time": "2021-09-30T06:29:04.166Z"
   },
   {
    "duration": 63,
    "start_time": "2021-09-30T06:29:04.213Z"
   },
   {
    "duration": 1339,
    "start_time": "2021-09-30T06:29:02.938Z"
   },
   {
    "duration": 1339,
    "start_time": "2021-09-30T06:29:02.939Z"
   },
   {
    "duration": 1333,
    "start_time": "2021-09-30T06:29:02.946Z"
   },
   {
    "duration": 1332,
    "start_time": "2021-09-30T06:29:02.948Z"
   },
   {
    "duration": 1332,
    "start_time": "2021-09-30T06:29:02.949Z"
   },
   {
    "duration": 1331,
    "start_time": "2021-09-30T06:29:02.951Z"
   },
   {
    "duration": 1331,
    "start_time": "2021-09-30T06:29:02.952Z"
   },
   {
    "duration": 6,
    "start_time": "2021-09-30T06:29:13.736Z"
   },
   {
    "duration": 19,
    "start_time": "2021-09-30T06:29:26.954Z"
   },
   {
    "duration": 22,
    "start_time": "2021-09-30T06:30:31.499Z"
   },
   {
    "duration": 191,
    "start_time": "2021-09-30T06:31:21.029Z"
   },
   {
    "duration": 4,
    "start_time": "2021-09-30T06:31:24.275Z"
   },
   {
    "duration": 908,
    "start_time": "2021-09-30T06:31:24.281Z"
   },
   {
    "duration": 3,
    "start_time": "2021-09-30T06:31:25.192Z"
   },
   {
    "duration": 58,
    "start_time": "2021-09-30T06:31:25.198Z"
   },
   {
    "duration": 57,
    "start_time": "2021-09-30T06:31:25.258Z"
   },
   {
    "duration": 24,
    "start_time": "2021-09-30T06:31:25.318Z"
   },
   {
    "duration": 13,
    "start_time": "2021-09-30T06:31:25.345Z"
   },
   {
    "duration": 44,
    "start_time": "2021-09-30T06:31:25.360Z"
   },
   {
    "duration": 15,
    "start_time": "2021-09-30T06:31:25.407Z"
   },
   {
    "duration": 33,
    "start_time": "2021-09-30T06:31:25.424Z"
   },
   {
    "duration": 49,
    "start_time": "2021-09-30T06:31:25.458Z"
   },
   {
    "duration": 19,
    "start_time": "2021-09-30T06:31:25.508Z"
   },
   {
    "duration": 209,
    "start_time": "2021-09-30T06:31:25.529Z"
   },
   {
    "duration": 38,
    "start_time": "2021-09-30T06:36:45.777Z"
   },
   {
    "duration": 21,
    "start_time": "2021-09-30T06:42:41.432Z"
   },
   {
    "duration": 195,
    "start_time": "2021-09-30T06:43:07.555Z"
   },
   {
    "duration": 203,
    "start_time": "2021-09-30T06:43:33.790Z"
   },
   {
    "duration": 197,
    "start_time": "2021-09-30T06:43:41.733Z"
   },
   {
    "duration": 22,
    "start_time": "2021-09-30T06:44:02.454Z"
   },
   {
    "duration": 24,
    "start_time": "2021-09-30T06:53:03.135Z"
   },
   {
    "duration": 216,
    "start_time": "2021-09-30T06:53:33.806Z"
   },
   {
    "duration": 3,
    "start_time": "2021-09-30T06:53:38.931Z"
   },
   {
    "duration": 976,
    "start_time": "2021-09-30T06:53:38.936Z"
   },
   {
    "duration": 3,
    "start_time": "2021-09-30T06:53:39.915Z"
   },
   {
    "duration": 56,
    "start_time": "2021-09-30T06:53:39.920Z"
   },
   {
    "duration": 48,
    "start_time": "2021-09-30T06:53:39.977Z"
   },
   {
    "duration": 20,
    "start_time": "2021-09-30T06:53:40.026Z"
   },
   {
    "duration": 13,
    "start_time": "2021-09-30T06:53:40.048Z"
   },
   {
    "duration": 45,
    "start_time": "2021-09-30T06:53:40.062Z"
   },
   {
    "duration": 16,
    "start_time": "2021-09-30T06:53:40.109Z"
   },
   {
    "duration": 32,
    "start_time": "2021-09-30T06:53:40.127Z"
   },
   {
    "duration": 44,
    "start_time": "2021-09-30T06:53:40.161Z"
   },
   {
    "duration": 20,
    "start_time": "2021-09-30T06:53:40.207Z"
   },
   {
    "duration": 26,
    "start_time": "2021-09-30T06:53:40.229Z"
   },
   {
    "duration": 219,
    "start_time": "2021-09-30T06:53:42.383Z"
   },
   {
    "duration": 198,
    "start_time": "2021-09-30T06:53:52.327Z"
   },
   {
    "duration": 65,
    "start_time": "2021-09-30T06:53:55.639Z"
   },
   {
    "duration": 32,
    "start_time": "2021-09-30T06:53:57.737Z"
   },
   {
    "duration": 198,
    "start_time": "2021-09-30T06:54:00.356Z"
   },
   {
    "duration": 205,
    "start_time": "2021-09-30T06:55:03.578Z"
   },
   {
    "duration": 200,
    "start_time": "2021-09-30T06:55:07.447Z"
   },
   {
    "duration": 680,
    "start_time": "2021-09-30T06:58:23.016Z"
   },
   {
    "duration": 195,
    "start_time": "2021-09-30T07:01:39.618Z"
   },
   {
    "duration": 4,
    "start_time": "2021-09-30T07:01:47.093Z"
   },
   {
    "duration": 1037,
    "start_time": "2021-09-30T07:01:47.099Z"
   },
   {
    "duration": 3,
    "start_time": "2021-09-30T07:01:48.138Z"
   },
   {
    "duration": 56,
    "start_time": "2021-09-30T07:01:48.143Z"
   },
   {
    "duration": 36,
    "start_time": "2021-09-30T07:01:48.200Z"
   },
   {
    "duration": 19,
    "start_time": "2021-09-30T07:01:48.238Z"
   },
   {
    "duration": 42,
    "start_time": "2021-09-30T07:01:48.259Z"
   },
   {
    "duration": 17,
    "start_time": "2021-09-30T07:01:48.302Z"
   },
   {
    "duration": 16,
    "start_time": "2021-09-30T07:01:48.321Z"
   },
   {
    "duration": 66,
    "start_time": "2021-09-30T07:01:48.339Z"
   },
   {
    "duration": 17,
    "start_time": "2021-09-30T07:01:48.407Z"
   },
   {
    "duration": 19,
    "start_time": "2021-09-30T07:01:48.425Z"
   },
   {
    "duration": 54,
    "start_time": "2021-09-30T07:01:48.446Z"
   },
   {
    "duration": 10,
    "start_time": "2021-09-30T07:01:50.980Z"
   },
   {
    "duration": 5,
    "start_time": "2021-09-30T07:01:58.604Z"
   },
   {
    "duration": 21,
    "start_time": "2021-09-30T07:02:03.056Z"
   },
   {
    "duration": 33,
    "start_time": "2021-09-30T07:02:22.712Z"
   },
   {
    "duration": 26,
    "start_time": "2021-09-30T07:03:03.189Z"
   },
   {
    "duration": 27,
    "start_time": "2021-09-30T07:03:24.767Z"
   },
   {
    "duration": 206,
    "start_time": "2021-09-30T07:03:41.320Z"
   },
   {
    "duration": 202,
    "start_time": "2021-09-30T07:03:46.510Z"
   },
   {
    "duration": 21,
    "start_time": "2021-09-30T07:03:54.792Z"
   },
   {
    "duration": 19,
    "start_time": "2021-09-30T07:06:37.928Z"
   },
   {
    "duration": 22,
    "start_time": "2021-09-30T07:07:56.236Z"
   },
   {
    "duration": 22,
    "start_time": "2021-09-30T07:08:01.056Z"
   },
   {
    "duration": 17,
    "start_time": "2021-09-30T07:09:03.002Z"
   },
   {
    "duration": 17,
    "start_time": "2021-09-30T07:09:07.761Z"
   },
   {
    "duration": 18,
    "start_time": "2021-09-30T07:09:42.935Z"
   },
   {
    "duration": 19,
    "start_time": "2021-09-30T07:10:54.965Z"
   },
   {
    "duration": 22,
    "start_time": "2021-09-30T07:11:18.437Z"
   },
   {
    "duration": 21,
    "start_time": "2021-09-30T07:11:39.335Z"
   },
   {
    "duration": 19,
    "start_time": "2021-09-30T07:11:48.893Z"
   },
   {
    "duration": 34,
    "start_time": "2021-09-30T07:13:51.254Z"
   },
   {
    "duration": 6023,
    "start_time": "2021-09-30T07:14:56.688Z"
   },
   {
    "duration": 29,
    "start_time": "2021-09-30T07:15:59.769Z"
   },
   {
    "duration": 23,
    "start_time": "2021-09-30T07:16:14.930Z"
   },
   {
    "duration": 33,
    "start_time": "2021-09-30T07:16:49.820Z"
   },
   {
    "duration": 35,
    "start_time": "2021-09-30T07:19:02.321Z"
   },
   {
    "duration": 239,
    "start_time": "2021-09-30T07:21:06.814Z"
   },
   {
    "duration": 189,
    "start_time": "2021-09-30T07:21:59.191Z"
   },
   {
    "duration": 207,
    "start_time": "2021-09-30T07:22:29.128Z"
   },
   {
    "duration": 219,
    "start_time": "2021-09-30T07:23:20.844Z"
   },
   {
    "duration": 38,
    "start_time": "2021-09-30T07:24:38.540Z"
   },
   {
    "duration": 39,
    "start_time": "2021-09-30T07:26:30.595Z"
   },
   {
    "duration": 39,
    "start_time": "2021-09-30T07:27:21.651Z"
   },
   {
    "duration": 190,
    "start_time": "2021-09-30T07:28:52.449Z"
   },
   {
    "duration": 253,
    "start_time": "2021-09-30T07:28:54.886Z"
   },
   {
    "duration": 7,
    "start_time": "2021-09-30T07:32:35.356Z"
   },
   {
    "duration": 188,
    "start_time": "2021-09-30T07:33:36.893Z"
   },
   {
    "duration": 202,
    "start_time": "2021-09-30T07:35:46.976Z"
   },
   {
    "duration": 387,
    "start_time": "2021-09-30T07:40:52.434Z"
   },
   {
    "duration": 295,
    "start_time": "2021-09-30T23:56:50.677Z"
   },
   {
    "duration": 303,
    "start_time": "2021-10-01T00:09:12.226Z"
   },
   {
    "duration": 316,
    "start_time": "2021-10-01T00:09:25.770Z"
   },
   {
    "duration": 321,
    "start_time": "2021-10-01T00:11:01.272Z"
   },
   {
    "duration": 338,
    "start_time": "2021-10-01T00:11:53.714Z"
   },
   {
    "duration": 387,
    "start_time": "2021-10-01T00:21:07.658Z"
   },
   {
    "duration": 322,
    "start_time": "2021-10-01T00:27:09.018Z"
   },
   {
    "duration": 1338,
    "start_time": "2021-10-01T00:30:08.951Z"
   },
   {
    "duration": 456,
    "start_time": "2021-10-01T00:30:25.944Z"
   },
   {
    "duration": 46,
    "start_time": "2021-10-01T01:22:34.245Z"
   },
   {
    "duration": 49,
    "start_time": "2021-10-01T02:41:04.977Z"
   },
   {
    "duration": 46,
    "start_time": "2021-10-01T02:41:10.052Z"
   },
   {
    "duration": 525,
    "start_time": "2021-10-01T02:42:54.748Z"
   },
   {
    "duration": 504,
    "start_time": "2021-10-01T02:43:10.553Z"
   },
   {
    "duration": 5,
    "start_time": "2021-10-01T02:43:20.715Z"
   },
   {
    "duration": 1442,
    "start_time": "2021-10-01T02:43:20.723Z"
   },
   {
    "duration": 5,
    "start_time": "2021-10-01T02:43:22.168Z"
   },
   {
    "duration": 81,
    "start_time": "2021-10-01T02:43:22.176Z"
   },
   {
    "duration": 65,
    "start_time": "2021-10-01T02:43:22.259Z"
   },
   {
    "duration": 25,
    "start_time": "2021-10-01T02:43:22.326Z"
   },
   {
    "duration": 19,
    "start_time": "2021-10-01T02:43:22.353Z"
   },
   {
    "duration": 54,
    "start_time": "2021-10-01T02:43:22.374Z"
   },
   {
    "duration": 23,
    "start_time": "2021-10-01T02:43:22.432Z"
   },
   {
    "duration": 73,
    "start_time": "2021-10-01T02:43:22.458Z"
   },
   {
    "duration": 26,
    "start_time": "2021-10-01T02:43:22.533Z"
   },
   {
    "duration": 30,
    "start_time": "2021-10-01T02:43:22.561Z"
   },
   {
    "duration": 65,
    "start_time": "2021-10-01T02:43:22.593Z"
   },
   {
    "duration": 84,
    "start_time": "2021-10-01T02:43:22.661Z"
   },
   {
    "duration": 344,
    "start_time": "2021-10-01T02:43:22.748Z"
   },
   {
    "duration": 313,
    "start_time": "2021-10-01T02:43:23.095Z"
   },
   {
    "duration": 408,
    "start_time": "2021-10-01T02:43:23.423Z"
   },
   {
    "duration": 319,
    "start_time": "2021-10-01T02:43:23.833Z"
   },
   {
    "duration": 41,
    "start_time": "2021-10-01T02:43:35.947Z"
   },
   {
    "duration": 15,
    "start_time": "2021-10-01T02:45:18.584Z"
   },
   {
    "duration": 68,
    "start_time": "2021-10-01T02:49:33.873Z"
   },
   {
    "duration": 317,
    "start_time": "2021-10-01T02:50:28.948Z"
   },
   {
    "duration": 5,
    "start_time": "2021-10-01T02:50:44.131Z"
   },
   {
    "duration": 1376,
    "start_time": "2021-10-01T02:50:44.139Z"
   },
   {
    "duration": 5,
    "start_time": "2021-10-01T02:50:45.518Z"
   },
   {
    "duration": 86,
    "start_time": "2021-10-01T02:50:45.526Z"
   },
   {
    "duration": 52,
    "start_time": "2021-10-01T02:50:45.623Z"
   },
   {
    "duration": 47,
    "start_time": "2021-10-01T02:50:45.677Z"
   },
   {
    "duration": 20,
    "start_time": "2021-10-01T02:50:45.726Z"
   },
   {
    "duration": 25,
    "start_time": "2021-10-01T02:50:45.748Z"
   },
   {
    "duration": 57,
    "start_time": "2021-10-01T02:50:45.776Z"
   },
   {
    "duration": 49,
    "start_time": "2021-10-01T02:50:45.835Z"
   },
   {
    "duration": 52,
    "start_time": "2021-10-01T02:50:45.887Z"
   },
   {
    "duration": 30,
    "start_time": "2021-10-01T02:50:45.941Z"
   },
   {
    "duration": 75,
    "start_time": "2021-10-01T02:50:45.973Z"
   },
   {
    "duration": 308,
    "start_time": "2021-10-01T02:50:48.136Z"
   },
   {
    "duration": 315,
    "start_time": "2021-10-01T02:50:57.970Z"
   },
   {
    "duration": 63,
    "start_time": "2021-10-01T02:51:01.731Z"
   },
   {
    "duration": 5,
    "start_time": "2021-10-01T02:51:20.216Z"
   },
   {
    "duration": 1305,
    "start_time": "2021-10-01T02:51:20.223Z"
   },
   {
    "duration": 4,
    "start_time": "2021-10-01T02:51:21.532Z"
   },
   {
    "duration": 90,
    "start_time": "2021-10-01T02:51:21.539Z"
   },
   {
    "duration": 51,
    "start_time": "2021-10-01T02:51:21.631Z"
   },
   {
    "duration": 49,
    "start_time": "2021-10-01T02:51:21.685Z"
   },
   {
    "duration": 18,
    "start_time": "2021-10-01T02:51:21.737Z"
   },
   {
    "duration": 27,
    "start_time": "2021-10-01T02:51:21.757Z"
   },
   {
    "duration": 53,
    "start_time": "2021-10-01T02:51:21.788Z"
   },
   {
    "duration": 47,
    "start_time": "2021-10-01T02:51:21.844Z"
   },
   {
    "duration": 59,
    "start_time": "2021-10-01T02:51:21.894Z"
   },
   {
    "duration": 28,
    "start_time": "2021-10-01T02:51:21.955Z"
   },
   {
    "duration": 69,
    "start_time": "2021-10-01T02:51:21.986Z"
   },
   {
    "duration": 82,
    "start_time": "2021-10-01T02:51:22.057Z"
   },
   {
    "duration": 329,
    "start_time": "2021-10-01T02:51:22.141Z"
   },
   {
    "duration": 378,
    "start_time": "2021-10-01T02:51:22.473Z"
   },
   {
    "duration": 313,
    "start_time": "2021-10-01T02:51:22.854Z"
   },
   {
    "duration": 499,
    "start_time": "2021-10-01T02:51:23.170Z"
   },
   {
    "duration": 54,
    "start_time": "2021-10-01T02:51:23.671Z"
   },
   {
    "duration": 631,
    "start_time": "2021-10-01T02:51:26.040Z"
   },
   {
    "duration": 5,
    "start_time": "2021-10-01T02:55:36.810Z"
   },
   {
    "duration": 1290,
    "start_time": "2021-10-01T02:55:36.819Z"
   },
   {
    "duration": 5,
    "start_time": "2021-10-01T02:55:38.112Z"
   },
   {
    "duration": 95,
    "start_time": "2021-10-01T02:55:38.120Z"
   },
   {
    "duration": 53,
    "start_time": "2021-10-01T02:55:38.217Z"
   },
   {
    "duration": 26,
    "start_time": "2021-10-01T02:55:38.272Z"
   },
   {
    "duration": 38,
    "start_time": "2021-10-01T02:55:38.300Z"
   },
   {
    "duration": 55,
    "start_time": "2021-10-01T02:55:38.340Z"
   },
   {
    "duration": 46,
    "start_time": "2021-10-01T02:55:38.400Z"
   },
   {
    "duration": 50,
    "start_time": "2021-10-01T02:55:38.449Z"
   },
   {
    "duration": 53,
    "start_time": "2021-10-01T02:55:38.501Z"
   },
   {
    "duration": 34,
    "start_time": "2021-10-01T02:55:38.556Z"
   },
   {
    "duration": 61,
    "start_time": "2021-10-01T02:55:38.592Z"
   },
   {
    "duration": 91,
    "start_time": "2021-10-01T02:55:38.655Z"
   },
   {
    "duration": 350,
    "start_time": "2021-10-01T02:55:38.748Z"
   },
   {
    "duration": 341,
    "start_time": "2021-10-01T02:55:39.100Z"
   },
   {
    "duration": 316,
    "start_time": "2021-10-01T02:55:39.444Z"
   },
   {
    "duration": 319,
    "start_time": "2021-10-01T02:55:39.763Z"
   },
   {
    "duration": 59,
    "start_time": "2021-10-01T02:55:40.085Z"
   },
   {
    "duration": 17,
    "start_time": "2021-10-01T02:55:43.127Z"
   },
   {
    "duration": 289,
    "start_time": "2021-10-01T03:08:31.835Z"
   },
   {
    "duration": 10590,
    "start_time": "2021-10-01T03:10:59.686Z"
   },
   {
    "duration": 43,
    "start_time": "2021-10-01T03:12:39.240Z"
   },
   {
    "duration": 4,
    "start_time": "2021-10-01T03:14:34.464Z"
   },
   {
    "duration": 1360,
    "start_time": "2021-10-01T03:14:34.471Z"
   },
   {
    "duration": 6,
    "start_time": "2021-10-01T03:14:35.834Z"
   },
   {
    "duration": 88,
    "start_time": "2021-10-01T03:14:35.843Z"
   },
   {
    "duration": 51,
    "start_time": "2021-10-01T03:14:35.934Z"
   },
   {
    "duration": 54,
    "start_time": "2021-10-01T03:14:35.987Z"
   },
   {
    "duration": 19,
    "start_time": "2021-10-01T03:14:36.044Z"
   },
   {
    "duration": 62,
    "start_time": "2021-10-01T03:14:36.066Z"
   },
   {
    "duration": 26,
    "start_time": "2021-10-01T03:14:36.132Z"
   },
   {
    "duration": 78,
    "start_time": "2021-10-01T03:14:36.161Z"
   },
   {
    "duration": 28,
    "start_time": "2021-10-01T03:14:36.242Z"
   },
   {
    "duration": 61,
    "start_time": "2021-10-01T03:14:36.273Z"
   },
   {
    "duration": 42,
    "start_time": "2021-10-01T03:14:36.337Z"
   },
   {
    "duration": 92,
    "start_time": "2021-10-01T03:14:36.381Z"
   },
   {
    "duration": 350,
    "start_time": "2021-10-01T03:14:36.475Z"
   },
   {
    "duration": 331,
    "start_time": "2021-10-01T03:14:36.828Z"
   },
   {
    "duration": 407,
    "start_time": "2021-10-01T03:14:37.162Z"
   },
   {
    "duration": 316,
    "start_time": "2021-10-01T03:14:37.572Z"
   },
   {
    "duration": 38,
    "start_time": "2021-10-01T03:14:37.890Z"
   },
   {
    "duration": 54,
    "start_time": "2021-10-01T03:14:37.930Z"
   },
   {
    "duration": 5,
    "start_time": "2021-10-01T03:14:37.986Z"
   },
   {
    "duration": 5,
    "start_time": "2021-10-01T03:14:47.926Z"
   },
   {
    "duration": 1932,
    "start_time": "2021-10-01T03:14:47.933Z"
   },
   {
    "duration": 4,
    "start_time": "2021-10-01T03:14:49.868Z"
   },
   {
    "duration": 79,
    "start_time": "2021-10-01T03:14:49.875Z"
   },
   {
    "duration": 69,
    "start_time": "2021-10-01T03:14:49.956Z"
   },
   {
    "duration": 26,
    "start_time": "2021-10-01T03:14:50.027Z"
   },
   {
    "duration": 20,
    "start_time": "2021-10-01T03:14:50.055Z"
   },
   {
    "duration": 65,
    "start_time": "2021-10-01T03:14:50.077Z"
   },
   {
    "duration": 24,
    "start_time": "2021-10-01T03:14:50.146Z"
   },
   {
    "duration": 82,
    "start_time": "2021-10-01T03:14:50.173Z"
   },
   {
    "duration": 28,
    "start_time": "2021-10-01T03:14:50.258Z"
   },
   {
    "duration": 57,
    "start_time": "2021-10-01T03:14:50.289Z"
   },
   {
    "duration": 43,
    "start_time": "2021-10-01T03:14:50.348Z"
   },
   {
    "duration": 86,
    "start_time": "2021-10-01T03:14:50.393Z"
   },
   {
    "duration": 350,
    "start_time": "2021-10-01T03:14:50.482Z"
   },
   {
    "duration": 321,
    "start_time": "2021-10-01T03:14:50.835Z"
   },
   {
    "duration": 320,
    "start_time": "2021-10-01T03:14:51.158Z"
   },
   {
    "duration": 327,
    "start_time": "2021-10-01T03:14:51.481Z"
   },
   {
    "duration": 25,
    "start_time": "2021-10-01T03:14:51.810Z"
   },
   {
    "duration": 49,
    "start_time": "2021-10-01T03:14:51.838Z"
   },
   {
    "duration": 36,
    "start_time": "2021-10-01T03:14:51.889Z"
   },
   {
    "duration": 367,
    "start_time": "2021-10-01T03:20:10.470Z"
   },
   {
    "duration": 31,
    "start_time": "2021-10-01T03:20:21.566Z"
   },
   {
    "duration": 34,
    "start_time": "2021-10-01T03:23:03.847Z"
   },
   {
    "duration": 1237,
    "start_time": "2021-10-01T03:23:42.141Z"
   },
   {
    "duration": 489,
    "start_time": "2021-10-01T03:24:18.666Z"
   },
   {
    "duration": 479,
    "start_time": "2021-10-01T03:24:50.280Z"
   },
   {
    "duration": 536,
    "start_time": "2021-10-01T03:25:32.742Z"
   },
   {
    "duration": 29,
    "start_time": "2021-10-01T03:29:07.080Z"
   },
   {
    "duration": 20,
    "start_time": "2021-10-01T03:32:04.507Z"
   },
   {
    "duration": 38,
    "start_time": "2021-10-01T03:40:32.391Z"
   },
   {
    "duration": 7981,
    "start_time": "2021-10-01T03:47:10.279Z"
   },
   {
    "duration": 293,
    "start_time": "2021-10-01T03:47:41.800Z"
   },
   {
    "duration": 305,
    "start_time": "2021-10-01T03:47:56.017Z"
   },
   {
    "duration": 300,
    "start_time": "2021-10-01T03:48:02.796Z"
   },
   {
    "duration": 95,
    "start_time": "2021-10-01T04:11:08.404Z"
   },
   {
    "duration": 10,
    "start_time": "2021-10-01T04:11:32.353Z"
   },
   {
    "duration": 45,
    "start_time": "2021-10-01T04:12:28.205Z"
   },
   {
    "duration": 152,
    "start_time": "2021-10-01T04:12:43.920Z"
   },
   {
    "duration": 18,
    "start_time": "2021-10-01T04:12:50.325Z"
   },
   {
    "duration": 13,
    "start_time": "2021-10-01T04:13:50.630Z"
   },
   {
    "duration": 5,
    "start_time": "2021-10-01T04:14:27.433Z"
   },
   {
    "duration": 1295,
    "start_time": "2021-10-01T04:14:27.440Z"
   },
   {
    "duration": 5,
    "start_time": "2021-10-01T04:14:28.738Z"
   },
   {
    "duration": 93,
    "start_time": "2021-10-01T04:14:28.746Z"
   },
   {
    "duration": 52,
    "start_time": "2021-10-01T04:14:28.842Z"
   },
   {
    "duration": 47,
    "start_time": "2021-10-01T04:14:28.897Z"
   },
   {
    "duration": 19,
    "start_time": "2021-10-01T04:14:28.947Z"
   },
   {
    "duration": 23,
    "start_time": "2021-10-01T04:14:28.968Z"
   },
   {
    "duration": 51,
    "start_time": "2021-10-01T04:14:28.995Z"
   },
   {
    "duration": 94,
    "start_time": "2021-10-01T04:14:29.048Z"
   },
   {
    "duration": 29,
    "start_time": "2021-10-01T04:14:29.144Z"
   },
   {
    "duration": 63,
    "start_time": "2021-10-01T04:14:29.175Z"
   },
   {
    "duration": 42,
    "start_time": "2021-10-01T04:14:29.241Z"
   },
   {
    "duration": 94,
    "start_time": "2021-10-01T04:14:29.286Z"
   },
   {
    "duration": 349,
    "start_time": "2021-10-01T04:14:29.382Z"
   },
   {
    "duration": 326,
    "start_time": "2021-10-01T04:14:29.733Z"
   },
   {
    "duration": 325,
    "start_time": "2021-10-01T04:14:30.062Z"
   },
   {
    "duration": 333,
    "start_time": "2021-10-01T04:14:30.389Z"
   },
   {
    "duration": 19,
    "start_time": "2021-10-01T04:14:30.725Z"
   },
   {
    "duration": 13,
    "start_time": "2021-10-01T04:14:32.568Z"
   },
   {
    "duration": 43,
    "start_time": "2021-10-01T04:15:02.584Z"
   },
   {
    "duration": 48,
    "start_time": "2021-10-01T04:15:11.689Z"
   },
   {
    "duration": 15,
    "start_time": "2021-10-01T04:15:31.553Z"
   },
   {
    "duration": 4,
    "start_time": "2021-10-01T05:03:27.719Z"
   },
   {
    "duration": 1432,
    "start_time": "2021-10-01T05:03:32.458Z"
   },
   {
    "duration": 1291,
    "start_time": "2021-10-01T05:03:33.893Z"
   },
   {
    "duration": 5,
    "start_time": "2021-10-01T05:03:35.187Z"
   },
   {
    "duration": 102,
    "start_time": "2021-10-01T05:03:35.194Z"
   },
   {
    "duration": 64,
    "start_time": "2021-10-01T05:03:35.299Z"
   },
   {
    "duration": 28,
    "start_time": "2021-10-01T05:03:35.365Z"
   },
   {
    "duration": 37,
    "start_time": "2021-10-01T05:03:35.396Z"
   },
   {
    "duration": 23,
    "start_time": "2021-10-01T05:03:35.436Z"
   },
   {
    "duration": 23,
    "start_time": "2021-10-01T05:03:35.462Z"
   },
   {
    "duration": 75,
    "start_time": "2021-10-01T05:03:35.488Z"
   },
   {
    "duration": 27,
    "start_time": "2021-10-01T05:03:35.565Z"
   },
   {
    "duration": 55,
    "start_time": "2021-10-01T05:03:35.594Z"
   },
   {
    "duration": 40,
    "start_time": "2021-10-01T05:03:35.651Z"
   },
   {
    "duration": 87,
    "start_time": "2021-10-01T05:03:35.693Z"
   },
   {
    "duration": 321,
    "start_time": "2021-10-01T05:03:35.782Z"
   },
   {
    "duration": 3,
    "start_time": "2021-10-01T05:03:36.106Z"
   },
   {
    "duration": 304,
    "start_time": "2021-10-01T05:03:36.123Z"
   },
   {
    "duration": 3,
    "start_time": "2021-10-01T05:03:36.429Z"
   },
   {
    "duration": 327,
    "start_time": "2021-10-01T05:03:36.434Z"
   },
   {
    "duration": 4,
    "start_time": "2021-10-01T05:03:36.763Z"
   },
   {
    "duration": 23,
    "start_time": "2021-10-01T05:03:36.769Z"
   },
   {
    "duration": 33,
    "start_time": "2021-10-01T05:03:36.794Z"
   },
   {
    "duration": 35,
    "start_time": "2021-10-01T05:03:36.831Z"
   },
   {
    "duration": 1197,
    "start_time": "2021-10-01T14:34:39.159Z"
   },
   {
    "duration": 1416,
    "start_time": "2021-10-01T14:34:40.358Z"
   },
   {
    "duration": 4,
    "start_time": "2021-10-01T14:34:41.779Z"
   },
   {
    "duration": 71,
    "start_time": "2021-10-01T14:34:41.785Z"
   },
   {
    "duration": 63,
    "start_time": "2021-10-01T14:34:41.858Z"
   },
   {
    "duration": 24,
    "start_time": "2021-10-01T14:34:41.923Z"
   },
   {
    "duration": 28,
    "start_time": "2021-10-01T14:34:41.951Z"
   },
   {
    "duration": 19,
    "start_time": "2021-10-01T14:34:41.981Z"
   },
   {
    "duration": 16,
    "start_time": "2021-10-01T14:34:42.002Z"
   },
   {
    "duration": 61,
    "start_time": "2021-10-01T14:34:42.020Z"
   },
   {
    "duration": 20,
    "start_time": "2021-10-01T14:34:42.084Z"
   },
   {
    "duration": 30,
    "start_time": "2021-10-01T14:34:42.107Z"
   },
   {
    "duration": 67,
    "start_time": "2021-10-01T14:34:42.140Z"
   },
   {
    "duration": 72,
    "start_time": "2021-10-01T14:34:42.209Z"
   },
   {
    "duration": 221,
    "start_time": "2021-10-01T14:34:42.283Z"
   },
   {
    "duration": 3,
    "start_time": "2021-10-01T14:34:42.506Z"
   },
   {
    "duration": 320,
    "start_time": "2021-10-01T14:34:42.512Z"
   },
   {
    "duration": 3,
    "start_time": "2021-10-01T14:34:42.834Z"
   },
   {
    "duration": 212,
    "start_time": "2021-10-01T14:34:42.839Z"
   },
   {
    "duration": 3,
    "start_time": "2021-10-01T14:34:43.054Z"
   },
   {
    "duration": 32,
    "start_time": "2021-10-01T14:34:43.058Z"
   },
   {
    "duration": 10,
    "start_time": "2021-10-01T14:34:43.093Z"
   },
   {
    "duration": 9,
    "start_time": "2021-10-01T14:34:43.105Z"
   },
   {
    "duration": 3,
    "start_time": "2021-10-02T01:46:57.786Z"
   },
   {
    "duration": 124,
    "start_time": "2021-10-02T02:08:28.281Z"
   },
   {
    "duration": 883,
    "start_time": "2021-10-02T02:45:30.037Z"
   },
   {
    "duration": 1395,
    "start_time": "2021-10-02T02:45:34.757Z"
   },
   {
    "duration": 1415,
    "start_time": "2021-10-02T02:45:36.154Z"
   },
   {
    "duration": 4,
    "start_time": "2021-10-02T02:45:37.572Z"
   },
   {
    "duration": 76,
    "start_time": "2021-10-02T02:45:37.578Z"
   },
   {
    "duration": 56,
    "start_time": "2021-10-02T02:45:37.655Z"
   },
   {
    "duration": 21,
    "start_time": "2021-10-02T02:45:37.712Z"
   },
   {
    "duration": 57,
    "start_time": "2021-10-02T02:45:37.736Z"
   },
   {
    "duration": 30,
    "start_time": "2021-10-02T02:45:37.795Z"
   },
   {
    "duration": 55,
    "start_time": "2021-10-02T02:45:37.828Z"
   },
   {
    "duration": 63,
    "start_time": "2021-10-02T02:45:37.886Z"
   },
   {
    "duration": 39,
    "start_time": "2021-10-02T02:45:40.903Z"
   },
   {
    "duration": 1784,
    "start_time": "2021-10-02T02:53:42.186Z"
   },
   {
    "duration": 4,
    "start_time": "2021-10-02T02:53:51.041Z"
   },
   {
    "duration": 1602,
    "start_time": "2021-10-02T02:53:51.047Z"
   },
   {
    "duration": 3,
    "start_time": "2021-10-02T02:53:52.651Z"
   },
   {
    "duration": 57,
    "start_time": "2021-10-02T02:53:52.656Z"
   },
   {
    "duration": 36,
    "start_time": "2021-10-02T02:53:52.715Z"
   },
   {
    "duration": 35,
    "start_time": "2021-10-02T02:53:52.753Z"
   },
   {
    "duration": 13,
    "start_time": "2021-10-02T02:53:52.790Z"
   },
   {
    "duration": 17,
    "start_time": "2021-10-02T02:53:52.804Z"
   },
   {
    "duration": 65,
    "start_time": "2021-10-02T02:53:52.824Z"
   },
   {
    "duration": 36,
    "start_time": "2021-10-02T02:53:52.891Z"
   },
   {
    "duration": 52,
    "start_time": "2021-10-02T02:53:52.928Z"
   },
   {
    "duration": 20,
    "start_time": "2021-10-02T02:53:52.982Z"
   },
   {
    "duration": 26,
    "start_time": "2021-10-02T02:53:53.004Z"
   },
   {
    "duration": 337,
    "start_time": "2021-10-02T02:53:53.076Z"
   },
   {
    "duration": 893,
    "start_time": "2021-10-02T02:53:52.522Z"
   },
   {
    "duration": 892,
    "start_time": "2021-10-02T02:53:52.524Z"
   },
   {
    "duration": 878,
    "start_time": "2021-10-02T02:53:52.540Z"
   },
   {
    "duration": 876,
    "start_time": "2021-10-02T02:53:52.543Z"
   },
   {
    "duration": 875,
    "start_time": "2021-10-02T02:53:52.545Z"
   },
   {
    "duration": 875,
    "start_time": "2021-10-02T02:53:52.546Z"
   },
   {
    "duration": 874,
    "start_time": "2021-10-02T02:53:52.547Z"
   },
   {
    "duration": 873,
    "start_time": "2021-10-02T02:53:52.549Z"
   },
   {
    "duration": 873,
    "start_time": "2021-10-02T02:53:52.550Z"
   },
   {
    "duration": 3,
    "start_time": "2021-10-02T02:54:05.431Z"
   },
   {
    "duration": 1559,
    "start_time": "2021-10-02T02:54:05.436Z"
   },
   {
    "duration": 5,
    "start_time": "2021-10-02T02:54:06.998Z"
   },
   {
    "duration": 58,
    "start_time": "2021-10-02T02:54:07.006Z"
   },
   {
    "duration": 38,
    "start_time": "2021-10-02T02:54:07.077Z"
   },
   {
    "duration": 20,
    "start_time": "2021-10-02T02:54:07.117Z"
   },
   {
    "duration": 47,
    "start_time": "2021-10-02T02:54:07.139Z"
   },
   {
    "duration": 19,
    "start_time": "2021-10-02T02:54:07.188Z"
   },
   {
    "duration": 18,
    "start_time": "2021-10-02T02:54:07.209Z"
   },
   {
    "duration": 69,
    "start_time": "2021-10-02T02:54:07.229Z"
   },
   {
    "duration": 21,
    "start_time": "2021-10-02T02:54:07.300Z"
   },
   {
    "duration": 56,
    "start_time": "2021-10-02T02:54:07.323Z"
   },
   {
    "duration": 26,
    "start_time": "2021-10-02T02:54:07.381Z"
   },
   {
    "duration": 361,
    "start_time": "2021-10-02T02:54:08.997Z"
   },
   {
    "duration": 979,
    "start_time": "2021-10-02T02:54:13.595Z"
   },
   {
    "duration": 13,
    "start_time": "2021-10-02T02:55:19.412Z"
   },
   {
    "duration": 15,
    "start_time": "2021-10-02T02:56:57.498Z"
   },
   {
    "duration": 31,
    "start_time": "2021-10-02T02:57:01.944Z"
   },
   {
    "duration": 23,
    "start_time": "2021-10-02T02:57:04.452Z"
   },
   {
    "duration": 364,
    "start_time": "2021-10-02T02:57:21.663Z"
   },
   {
    "duration": 3,
    "start_time": "2021-10-02T02:57:24.529Z"
   },
   {
    "duration": 1403,
    "start_time": "2021-10-02T02:57:24.534Z"
   },
   {
    "duration": 4,
    "start_time": "2021-10-02T02:57:25.940Z"
   },
   {
    "duration": 60,
    "start_time": "2021-10-02T02:57:25.946Z"
   },
   {
    "duration": 42,
    "start_time": "2021-10-02T02:57:26.009Z"
   },
   {
    "duration": 42,
    "start_time": "2021-10-02T02:57:26.053Z"
   },
   {
    "duration": 14,
    "start_time": "2021-10-02T02:57:26.097Z"
   },
   {
    "duration": 19,
    "start_time": "2021-10-02T02:57:26.112Z"
   },
   {
    "duration": 58,
    "start_time": "2021-10-02T02:57:26.134Z"
   },
   {
    "duration": 36,
    "start_time": "2021-10-02T02:57:26.194Z"
   },
   {
    "duration": 51,
    "start_time": "2021-10-02T02:57:26.232Z"
   },
   {
    "duration": 21,
    "start_time": "2021-10-02T02:57:26.285Z"
   },
   {
    "duration": 30,
    "start_time": "2021-10-02T02:57:26.307Z"
   },
   {
    "duration": 44,
    "start_time": "2021-10-02T02:57:28.056Z"
   },
   {
    "duration": 47,
    "start_time": "2021-10-02T02:57:44.045Z"
   },
   {
    "duration": 3,
    "start_time": "2021-10-02T02:57:48.173Z"
   },
   {
    "duration": 1427,
    "start_time": "2021-10-02T02:57:48.178Z"
   },
   {
    "duration": 3,
    "start_time": "2021-10-02T02:57:49.608Z"
   },
   {
    "duration": 58,
    "start_time": "2021-10-02T02:57:49.613Z"
   },
   {
    "duration": 47,
    "start_time": "2021-10-02T02:57:49.673Z"
   },
   {
    "duration": 19,
    "start_time": "2021-10-02T02:57:49.721Z"
   },
   {
    "duration": 38,
    "start_time": "2021-10-02T02:57:49.742Z"
   },
   {
    "duration": 22,
    "start_time": "2021-10-02T02:57:49.781Z"
   },
   {
    "duration": 18,
    "start_time": "2021-10-02T02:57:49.807Z"
   },
   {
    "duration": 80,
    "start_time": "2021-10-02T02:57:49.826Z"
   },
   {
    "duration": 20,
    "start_time": "2021-10-02T02:57:49.907Z"
   },
   {
    "duration": 49,
    "start_time": "2021-10-02T02:57:49.929Z"
   },
   {
    "duration": 33,
    "start_time": "2021-10-02T02:57:49.980Z"
   },
   {
    "duration": 77,
    "start_time": "2021-10-02T02:57:50.014Z"
   },
   {
    "duration": 217,
    "start_time": "2021-10-02T02:57:50.093Z"
   },
   {
    "duration": 2,
    "start_time": "2021-10-02T02:57:50.311Z"
   },
   {
    "duration": 220,
    "start_time": "2021-10-02T02:57:50.315Z"
   },
   {
    "duration": 2,
    "start_time": "2021-10-02T02:57:50.537Z"
   },
   {
    "duration": 218,
    "start_time": "2021-10-02T02:57:50.541Z"
   },
   {
    "duration": 2,
    "start_time": "2021-10-02T02:57:50.761Z"
   },
   {
    "duration": 14,
    "start_time": "2021-10-02T02:57:50.776Z"
   },
   {
    "duration": 13,
    "start_time": "2021-10-02T02:57:50.792Z"
   },
   {
    "duration": 3,
    "start_time": "2021-10-02T02:57:50.807Z"
   },
   {
    "duration": 470,
    "start_time": "2021-10-02T03:22:53.630Z"
   },
   {
    "duration": 239,
    "start_time": "2021-10-02T03:23:33.324Z"
   },
   {
    "duration": 346,
    "start_time": "2021-10-02T03:24:18.564Z"
   },
   {
    "duration": 288,
    "start_time": "2021-10-02T03:24:27.845Z"
   },
   {
    "duration": 252,
    "start_time": "2021-10-02T03:24:35.225Z"
   },
   {
    "duration": 313,
    "start_time": "2021-10-02T03:24:44.398Z"
   },
   {
    "duration": 236,
    "start_time": "2021-10-02T03:24:55.441Z"
   },
   {
    "duration": 260,
    "start_time": "2021-10-02T03:26:14.710Z"
   },
   {
    "duration": 239,
    "start_time": "2021-10-02T03:26:19.594Z"
   },
   {
    "duration": 312,
    "start_time": "2021-10-02T03:26:37.993Z"
   },
   {
    "duration": 234,
    "start_time": "2021-10-02T03:26:49.585Z"
   },
   {
    "duration": 257,
    "start_time": "2021-10-02T03:26:53.721Z"
   },
   {
    "duration": 244,
    "start_time": "2021-10-02T03:27:01.388Z"
   },
   {
    "duration": 348,
    "start_time": "2021-10-02T03:27:11.890Z"
   },
   {
    "duration": 550,
    "start_time": "2021-10-02T03:27:24.573Z"
   },
   {
    "duration": 246,
    "start_time": "2021-10-02T03:27:29.533Z"
   },
   {
    "duration": 245,
    "start_time": "2021-10-02T03:27:34.801Z"
   },
   {
    "duration": 3,
    "start_time": "2021-10-02T04:54:52.945Z"
   },
   {
    "duration": 1601,
    "start_time": "2021-10-02T04:54:52.951Z"
   },
   {
    "duration": 4,
    "start_time": "2021-10-02T04:54:54.554Z"
   },
   {
    "duration": 64,
    "start_time": "2021-10-02T04:54:54.560Z"
   },
   {
    "duration": 53,
    "start_time": "2021-10-02T04:54:54.626Z"
   },
   {
    "duration": 27,
    "start_time": "2021-10-02T04:54:54.680Z"
   },
   {
    "duration": 14,
    "start_time": "2021-10-02T04:54:54.709Z"
   },
   {
    "duration": 61,
    "start_time": "2021-10-02T04:54:54.725Z"
   },
   {
    "duration": 19,
    "start_time": "2021-10-02T04:54:54.790Z"
   },
   {
    "duration": 73,
    "start_time": "2021-10-02T04:54:54.812Z"
   },
   {
    "duration": 26,
    "start_time": "2021-10-02T04:54:54.894Z"
   },
   {
    "duration": 57,
    "start_time": "2021-10-02T04:54:54.922Z"
   },
   {
    "duration": 31,
    "start_time": "2021-10-02T04:54:54.981Z"
   },
   {
    "duration": 79,
    "start_time": "2021-10-02T04:54:55.014Z"
   },
   {
    "duration": 578,
    "start_time": "2021-10-02T04:54:55.095Z"
   },
   {
    "duration": -107,
    "start_time": "2021-10-02T04:54:55.784Z"
   },
   {
    "duration": -109,
    "start_time": "2021-10-02T04:54:55.787Z"
   },
   {
    "duration": -110,
    "start_time": "2021-10-02T04:54:55.789Z"
   },
   {
    "duration": -110,
    "start_time": "2021-10-02T04:54:55.790Z"
   },
   {
    "duration": -114,
    "start_time": "2021-10-02T04:54:55.795Z"
   },
   {
    "duration": -116,
    "start_time": "2021-10-02T04:54:55.798Z"
   },
   {
    "duration": -119,
    "start_time": "2021-10-02T04:54:55.802Z"
   },
   {
    "duration": -120,
    "start_time": "2021-10-02T04:54:55.804Z"
   },
   {
    "duration": 4,
    "start_time": "2021-10-02T04:55:02.144Z"
   },
   {
    "duration": 1437,
    "start_time": "2021-10-02T04:55:02.150Z"
   },
   {
    "duration": 4,
    "start_time": "2021-10-02T04:55:03.589Z"
   },
   {
    "duration": 57,
    "start_time": "2021-10-02T04:55:03.594Z"
   },
   {
    "duration": 55,
    "start_time": "2021-10-02T04:55:03.653Z"
   },
   {
    "duration": 20,
    "start_time": "2021-10-02T04:55:03.709Z"
   },
   {
    "duration": 15,
    "start_time": "2021-10-02T04:55:03.731Z"
   },
   {
    "duration": 44,
    "start_time": "2021-10-02T04:55:03.748Z"
   },
   {
    "duration": 17,
    "start_time": "2021-10-02T04:55:03.794Z"
   },
   {
    "duration": 69,
    "start_time": "2021-10-02T04:55:03.813Z"
   },
   {
    "duration": 21,
    "start_time": "2021-10-02T04:55:03.884Z"
   },
   {
    "duration": 21,
    "start_time": "2021-10-02T04:55:03.906Z"
   },
   {
    "duration": 68,
    "start_time": "2021-10-02T04:55:03.929Z"
   },
   {
    "duration": 44,
    "start_time": "2021-10-02T04:55:03.999Z"
   },
   {
    "duration": 1117,
    "start_time": "2021-10-02T04:55:04.045Z"
   },
   {
    "duration": -111,
    "start_time": "2021-10-02T04:55:05.275Z"
   },
   {
    "duration": -112,
    "start_time": "2021-10-02T04:55:05.277Z"
   },
   {
    "duration": -113,
    "start_time": "2021-10-02T04:55:05.279Z"
   },
   {
    "duration": -115,
    "start_time": "2021-10-02T04:55:05.281Z"
   },
   {
    "duration": -117,
    "start_time": "2021-10-02T04:55:05.285Z"
   },
   {
    "duration": -119,
    "start_time": "2021-10-02T04:55:05.287Z"
   },
   {
    "duration": -115,
    "start_time": "2021-10-02T04:55:05.290Z"
   },
   {
    "duration": -115,
    "start_time": "2021-10-02T04:55:05.292Z"
   },
   {
    "duration": 247,
    "start_time": "2021-10-02T04:56:33.649Z"
   },
   {
    "duration": 365,
    "start_time": "2021-10-02T05:00:27.755Z"
   },
   {
    "duration": 16,
    "start_time": "2021-10-02T05:01:28.043Z"
   },
   {
    "duration": 16,
    "start_time": "2021-10-02T05:02:01.420Z"
   },
   {
    "duration": 17,
    "start_time": "2021-10-02T05:02:14.107Z"
   },
   {
    "duration": 19,
    "start_time": "2021-10-02T05:02:25.836Z"
   },
   {
    "duration": 57,
    "start_time": "2021-10-02T05:30:31.078Z"
   },
   {
    "duration": 408,
    "start_time": "2021-10-02T05:32:30.690Z"
   },
   {
    "duration": 55,
    "start_time": "2021-10-02T05:32:52.813Z"
   },
   {
    "duration": 256,
    "start_time": "2021-10-02T05:44:13.886Z"
   },
   {
    "duration": 346,
    "start_time": "2021-10-02T05:45:31.218Z"
   },
   {
    "duration": 248,
    "start_time": "2021-10-02T05:46:16.555Z"
   },
   {
    "duration": 13,
    "start_time": "2021-10-02T05:49:28.347Z"
   },
   {
    "duration": 193,
    "start_time": "2021-10-02T05:49:32.042Z"
   },
   {
    "duration": 246,
    "start_time": "2021-10-02T05:49:56.257Z"
   },
   {
    "duration": 271,
    "start_time": "2021-10-02T05:50:00.551Z"
   },
   {
    "duration": 230,
    "start_time": "2021-10-02T05:50:09.711Z"
   },
   {
    "duration": 245,
    "start_time": "2021-10-02T05:50:40.874Z"
   },
   {
    "duration": 247,
    "start_time": "2021-10-02T05:54:09.384Z"
   },
   {
    "duration": 252,
    "start_time": "2021-10-02T05:54:46.175Z"
   },
   {
    "duration": 240,
    "start_time": "2021-10-02T05:55:48.234Z"
   },
   {
    "duration": 240,
    "start_time": "2021-10-02T05:56:21.715Z"
   },
   {
    "duration": 5,
    "start_time": "2021-10-02T06:05:30.861Z"
   },
   {
    "duration": 1517,
    "start_time": "2021-10-02T06:05:30.869Z"
   },
   {
    "duration": 5,
    "start_time": "2021-10-02T06:05:32.388Z"
   },
   {
    "duration": 82,
    "start_time": "2021-10-02T06:05:32.396Z"
   },
   {
    "duration": 190,
    "start_time": "2021-10-02T06:05:32.480Z"
   },
   {
    "duration": 23,
    "start_time": "2021-10-02T06:05:32.676Z"
   },
   {
    "duration": 19,
    "start_time": "2021-10-02T06:05:32.701Z"
   },
   {
    "duration": 63,
    "start_time": "2021-10-02T06:05:32.723Z"
   },
   {
    "duration": 17,
    "start_time": "2021-10-02T06:05:32.789Z"
   },
   {
    "duration": 70,
    "start_time": "2021-10-02T06:05:32.808Z"
   },
   {
    "duration": 23,
    "start_time": "2021-10-02T06:05:32.879Z"
   },
   {
    "duration": 27,
    "start_time": "2021-10-02T06:05:32.903Z"
   },
   {
    "duration": 72,
    "start_time": "2021-10-02T06:05:32.933Z"
   },
   {
    "duration": 70,
    "start_time": "2021-10-02T06:05:33.007Z"
   },
   {
    "duration": 299,
    "start_time": "2021-10-02T06:05:33.079Z"
   },
   {
    "duration": 2,
    "start_time": "2021-10-02T06:05:33.380Z"
   },
   {
    "duration": 279,
    "start_time": "2021-10-02T06:05:33.384Z"
   },
   {
    "duration": 12,
    "start_time": "2021-10-02T06:05:33.665Z"
   },
   {
    "duration": 297,
    "start_time": "2021-10-02T06:05:33.679Z"
   },
   {
    "duration": 3,
    "start_time": "2021-10-02T06:05:33.979Z"
   },
   {
    "duration": 25,
    "start_time": "2021-10-02T06:05:33.984Z"
   },
   {
    "duration": 11,
    "start_time": "2021-10-02T06:05:34.011Z"
   },
   {
    "duration": 10,
    "start_time": "2021-10-02T06:05:34.024Z"
   },
   {
    "duration": 16,
    "start_time": "2021-10-02T06:15:33.823Z"
   },
   {
    "duration": 16,
    "start_time": "2021-10-02T06:16:56.333Z"
   },
   {
    "duration": 15,
    "start_time": "2021-10-02T06:17:22.427Z"
   },
   {
    "duration": 15,
    "start_time": "2021-10-02T06:19:41.797Z"
   },
   {
    "duration": 15,
    "start_time": "2021-10-02T06:19:52.637Z"
   },
   {
    "duration": 15,
    "start_time": "2021-10-02T07:25:16.654Z"
   },
   {
    "duration": 3,
    "start_time": "2021-10-02T07:25:19.956Z"
   },
   {
    "duration": 1550,
    "start_time": "2021-10-02T07:25:19.961Z"
   },
   {
    "duration": 4,
    "start_time": "2021-10-02T07:25:21.513Z"
   },
   {
    "duration": 77,
    "start_time": "2021-10-02T07:25:21.519Z"
   },
   {
    "duration": 39,
    "start_time": "2021-10-02T07:25:21.598Z"
   },
   {
    "duration": 41,
    "start_time": "2021-10-02T07:25:21.639Z"
   },
   {
    "duration": 16,
    "start_time": "2021-10-02T07:25:21.681Z"
   },
   {
    "duration": 22,
    "start_time": "2021-10-02T07:25:21.699Z"
   },
   {
    "duration": 18,
    "start_time": "2021-10-02T07:25:21.724Z"
   },
   {
    "duration": 36,
    "start_time": "2021-10-02T07:25:21.776Z"
   },
   {
    "duration": 23,
    "start_time": "2021-10-02T07:25:21.813Z"
   },
   {
    "duration": 45,
    "start_time": "2021-10-02T07:25:21.838Z"
   },
   {
    "duration": 27,
    "start_time": "2021-10-02T07:25:21.885Z"
   },
   {
    "duration": 69,
    "start_time": "2021-10-02T07:25:21.914Z"
   },
   {
    "duration": 267,
    "start_time": "2021-10-02T07:25:21.985Z"
   },
   {
    "duration": 2,
    "start_time": "2021-10-02T07:25:22.254Z"
   },
   {
    "duration": 282,
    "start_time": "2021-10-02T07:25:22.259Z"
   },
   {
    "duration": 2,
    "start_time": "2021-10-02T07:25:22.544Z"
   },
   {
    "duration": 268,
    "start_time": "2021-10-02T07:25:22.548Z"
   },
   {
    "duration": 2,
    "start_time": "2021-10-02T07:25:22.818Z"
   },
   {
    "duration": 14,
    "start_time": "2021-10-02T07:25:22.822Z"
   },
   {
    "duration": 39,
    "start_time": "2021-10-02T07:25:22.838Z"
   },
   {
    "duration": 1856,
    "start_time": "2021-12-31T13:47:18.200Z"
   },
   {
    "duration": 1700,
    "start_time": "2021-12-31T13:47:20.061Z"
   },
   {
    "duration": 5,
    "start_time": "2021-12-31T13:47:21.764Z"
   },
   {
    "duration": 104,
    "start_time": "2021-12-31T13:47:21.771Z"
   },
   {
    "duration": 64,
    "start_time": "2021-12-31T13:47:21.878Z"
   },
   {
    "duration": 29,
    "start_time": "2021-12-31T13:47:21.945Z"
   },
   {
    "duration": 51,
    "start_time": "2021-12-31T13:47:21.978Z"
   },
   {
    "duration": 36,
    "start_time": "2021-12-31T13:47:22.032Z"
   },
   {
    "duration": 62,
    "start_time": "2021-12-31T13:47:22.074Z"
   },
   {
    "duration": 85,
    "start_time": "2021-12-31T13:47:22.140Z"
   },
   {
    "duration": 32,
    "start_time": "2021-12-31T13:47:22.228Z"
   },
   {
    "duration": 33,
    "start_time": "2021-12-31T13:47:22.263Z"
   },
   {
    "duration": 39,
    "start_time": "2021-12-31T13:47:22.323Z"
   },
   {
    "duration": 82,
    "start_time": "2021-12-31T13:47:22.364Z"
   },
   {
    "duration": 440,
    "start_time": "2021-12-31T13:47:22.449Z"
   },
   {
    "duration": 3,
    "start_time": "2021-12-31T13:47:22.892Z"
   },
   {
    "duration": 432,
    "start_time": "2021-12-31T13:47:22.899Z"
   },
   {
    "duration": 3,
    "start_time": "2021-12-31T13:47:23.334Z"
   },
   {
    "duration": 418,
    "start_time": "2021-12-31T13:47:23.339Z"
   },
   {
    "duration": 4,
    "start_time": "2021-12-31T13:47:23.759Z"
   },
   {
    "duration": 21,
    "start_time": "2021-12-31T13:47:23.766Z"
   },
   {
    "duration": 17,
    "start_time": "2021-12-31T13:47:23.822Z"
   }
  ],
  "kernelspec": {
   "display_name": "Python 3 (ipykernel)",
   "language": "python",
   "name": "python3"
  },
  "language_info": {
   "codemirror_mode": {
    "name": "ipython",
    "version": 3
   },
   "file_extension": ".py",
   "mimetype": "text/x-python",
   "name": "python",
   "nbconvert_exporter": "python",
   "pygments_lexer": "ipython3",
   "version": "3.9.7"
  },
  "toc": {
   "base_numbering": 1,
   "nav_menu": {},
   "number_sections": true,
   "sideBar": true,
   "skip_h1_title": true,
   "title_cell": "Table of Contents",
   "title_sidebar": "Contents",
   "toc_cell": false,
   "toc_position": {},
   "toc_section_display": true,
   "toc_window_display": false
  }
 },
 "nbformat": 4,
 "nbformat_minor": 2
}
