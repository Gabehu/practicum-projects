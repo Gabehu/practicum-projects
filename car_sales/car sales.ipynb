{
 "cells": [
  {
   "cell_type": "markdown",
   "metadata": {},
   "source": [
    "# Research on car sales ads\n",
    "\n",
    "You're an analyst at Crankshaft List. Hundreds of free advertisements for vehicles are published on your site every day.\n",
    "\n",
    "You need to study data collected over the last few years and determine which factors influence the price of a vehicle. "
   ]
  },
  {
   "cell_type": "markdown",
   "metadata": {},
   "source": [
    "## Open the data file and study the general information. "
   ]
  },
  {
   "cell_type": "code",
   "execution_count": 66,
   "metadata": {},
   "outputs": [],
   "source": [
    "#import pandas and other important\n",
    "import pandas as pd\n",
    "import matplotlib.pyplot as plt\n",
    "import seaborn as sns\n",
    "import warnings\n",
    "\n",
    "warnings.filterwarnings(\"ignore\")"
   ]
  },
  {
   "cell_type": "code",
   "execution_count": 67,
   "metadata": {},
   "outputs": [
    {
     "data": {
      "text/html": [
       "<div>\n",
       "<style scoped>\n",
       "    .dataframe tbody tr th:only-of-type {\n",
       "        vertical-align: middle;\n",
       "    }\n",
       "\n",
       "    .dataframe tbody tr th {\n",
       "        vertical-align: top;\n",
       "    }\n",
       "\n",
       "    .dataframe thead th {\n",
       "        text-align: right;\n",
       "    }\n",
       "</style>\n",
       "<table border=\"1\" class=\"dataframe\">\n",
       "  <thead>\n",
       "    <tr style=\"text-align: right;\">\n",
       "      <th></th>\n",
       "      <th>price</th>\n",
       "      <th>model_year</th>\n",
       "      <th>model</th>\n",
       "      <th>condition</th>\n",
       "      <th>cylinders</th>\n",
       "      <th>fuel</th>\n",
       "      <th>odometer</th>\n",
       "      <th>transmission</th>\n",
       "      <th>type</th>\n",
       "      <th>paint_color</th>\n",
       "      <th>is_4wd</th>\n",
       "      <th>date_posted</th>\n",
       "      <th>days_listed</th>\n",
       "    </tr>\n",
       "  </thead>\n",
       "  <tbody>\n",
       "    <tr>\n",
       "      <td>0</td>\n",
       "      <td>9400</td>\n",
       "      <td>2011.0</td>\n",
       "      <td>bmw x5</td>\n",
       "      <td>good</td>\n",
       "      <td>6.0</td>\n",
       "      <td>gas</td>\n",
       "      <td>145000.0</td>\n",
       "      <td>automatic</td>\n",
       "      <td>SUV</td>\n",
       "      <td>NaN</td>\n",
       "      <td>1.0</td>\n",
       "      <td>2018-06-23</td>\n",
       "      <td>19</td>\n",
       "    </tr>\n",
       "    <tr>\n",
       "      <td>1</td>\n",
       "      <td>25500</td>\n",
       "      <td>NaN</td>\n",
       "      <td>ford f-150</td>\n",
       "      <td>good</td>\n",
       "      <td>6.0</td>\n",
       "      <td>gas</td>\n",
       "      <td>88705.0</td>\n",
       "      <td>automatic</td>\n",
       "      <td>pickup</td>\n",
       "      <td>white</td>\n",
       "      <td>1.0</td>\n",
       "      <td>2018-10-19</td>\n",
       "      <td>50</td>\n",
       "    </tr>\n",
       "    <tr>\n",
       "      <td>2</td>\n",
       "      <td>5500</td>\n",
       "      <td>2013.0</td>\n",
       "      <td>hyundai sonata</td>\n",
       "      <td>like new</td>\n",
       "      <td>4.0</td>\n",
       "      <td>gas</td>\n",
       "      <td>110000.0</td>\n",
       "      <td>automatic</td>\n",
       "      <td>sedan</td>\n",
       "      <td>red</td>\n",
       "      <td>NaN</td>\n",
       "      <td>2019-02-07</td>\n",
       "      <td>79</td>\n",
       "    </tr>\n",
       "    <tr>\n",
       "      <td>3</td>\n",
       "      <td>1500</td>\n",
       "      <td>2003.0</td>\n",
       "      <td>ford f-150</td>\n",
       "      <td>fair</td>\n",
       "      <td>8.0</td>\n",
       "      <td>gas</td>\n",
       "      <td>NaN</td>\n",
       "      <td>automatic</td>\n",
       "      <td>pickup</td>\n",
       "      <td>NaN</td>\n",
       "      <td>NaN</td>\n",
       "      <td>2019-03-22</td>\n",
       "      <td>9</td>\n",
       "    </tr>\n",
       "    <tr>\n",
       "      <td>4</td>\n",
       "      <td>14900</td>\n",
       "      <td>2017.0</td>\n",
       "      <td>chrysler 200</td>\n",
       "      <td>excellent</td>\n",
       "      <td>4.0</td>\n",
       "      <td>gas</td>\n",
       "      <td>80903.0</td>\n",
       "      <td>automatic</td>\n",
       "      <td>sedan</td>\n",
       "      <td>black</td>\n",
       "      <td>NaN</td>\n",
       "      <td>2019-04-02</td>\n",
       "      <td>28</td>\n",
       "    </tr>\n",
       "    <tr>\n",
       "      <td>5</td>\n",
       "      <td>14990</td>\n",
       "      <td>2014.0</td>\n",
       "      <td>chrysler 300</td>\n",
       "      <td>excellent</td>\n",
       "      <td>6.0</td>\n",
       "      <td>gas</td>\n",
       "      <td>57954.0</td>\n",
       "      <td>automatic</td>\n",
       "      <td>sedan</td>\n",
       "      <td>black</td>\n",
       "      <td>1.0</td>\n",
       "      <td>2018-06-20</td>\n",
       "      <td>15</td>\n",
       "    </tr>\n",
       "    <tr>\n",
       "      <td>6</td>\n",
       "      <td>12990</td>\n",
       "      <td>2015.0</td>\n",
       "      <td>toyota camry</td>\n",
       "      <td>excellent</td>\n",
       "      <td>4.0</td>\n",
       "      <td>gas</td>\n",
       "      <td>79212.0</td>\n",
       "      <td>automatic</td>\n",
       "      <td>sedan</td>\n",
       "      <td>white</td>\n",
       "      <td>NaN</td>\n",
       "      <td>2018-12-27</td>\n",
       "      <td>73</td>\n",
       "    </tr>\n",
       "    <tr>\n",
       "      <td>7</td>\n",
       "      <td>15990</td>\n",
       "      <td>2013.0</td>\n",
       "      <td>honda pilot</td>\n",
       "      <td>excellent</td>\n",
       "      <td>6.0</td>\n",
       "      <td>gas</td>\n",
       "      <td>109473.0</td>\n",
       "      <td>automatic</td>\n",
       "      <td>SUV</td>\n",
       "      <td>black</td>\n",
       "      <td>1.0</td>\n",
       "      <td>2019-01-07</td>\n",
       "      <td>68</td>\n",
       "    </tr>\n",
       "    <tr>\n",
       "      <td>8</td>\n",
       "      <td>11500</td>\n",
       "      <td>2012.0</td>\n",
       "      <td>kia sorento</td>\n",
       "      <td>excellent</td>\n",
       "      <td>4.0</td>\n",
       "      <td>gas</td>\n",
       "      <td>104174.0</td>\n",
       "      <td>automatic</td>\n",
       "      <td>SUV</td>\n",
       "      <td>NaN</td>\n",
       "      <td>1.0</td>\n",
       "      <td>2018-07-16</td>\n",
       "      <td>19</td>\n",
       "    </tr>\n",
       "    <tr>\n",
       "      <td>9</td>\n",
       "      <td>9200</td>\n",
       "      <td>2008.0</td>\n",
       "      <td>honda pilot</td>\n",
       "      <td>excellent</td>\n",
       "      <td>NaN</td>\n",
       "      <td>gas</td>\n",
       "      <td>147191.0</td>\n",
       "      <td>automatic</td>\n",
       "      <td>SUV</td>\n",
       "      <td>blue</td>\n",
       "      <td>1.0</td>\n",
       "      <td>2019-02-15</td>\n",
       "      <td>17</td>\n",
       "    </tr>\n",
       "    <tr>\n",
       "      <td>10</td>\n",
       "      <td>19500</td>\n",
       "      <td>2011.0</td>\n",
       "      <td>chevrolet silverado 1500</td>\n",
       "      <td>excellent</td>\n",
       "      <td>8.0</td>\n",
       "      <td>gas</td>\n",
       "      <td>128413.0</td>\n",
       "      <td>automatic</td>\n",
       "      <td>pickup</td>\n",
       "      <td>black</td>\n",
       "      <td>1.0</td>\n",
       "      <td>2018-09-17</td>\n",
       "      <td>38</td>\n",
       "    </tr>\n",
       "    <tr>\n",
       "      <td>11</td>\n",
       "      <td>8990</td>\n",
       "      <td>2012.0</td>\n",
       "      <td>honda accord</td>\n",
       "      <td>excellent</td>\n",
       "      <td>4.0</td>\n",
       "      <td>gas</td>\n",
       "      <td>111142.0</td>\n",
       "      <td>automatic</td>\n",
       "      <td>sedan</td>\n",
       "      <td>grey</td>\n",
       "      <td>NaN</td>\n",
       "      <td>2019-03-28</td>\n",
       "      <td>29</td>\n",
       "    </tr>\n",
       "    <tr>\n",
       "      <td>12</td>\n",
       "      <td>18990</td>\n",
       "      <td>2012.0</td>\n",
       "      <td>ram 1500</td>\n",
       "      <td>excellent</td>\n",
       "      <td>8.0</td>\n",
       "      <td>gas</td>\n",
       "      <td>140742.0</td>\n",
       "      <td>automatic</td>\n",
       "      <td>pickup</td>\n",
       "      <td>NaN</td>\n",
       "      <td>1.0</td>\n",
       "      <td>2019-04-02</td>\n",
       "      <td>37</td>\n",
       "    </tr>\n",
       "    <tr>\n",
       "      <td>13</td>\n",
       "      <td>16500</td>\n",
       "      <td>2018.0</td>\n",
       "      <td>hyundai sonata</td>\n",
       "      <td>excellent</td>\n",
       "      <td>4.0</td>\n",
       "      <td>gas</td>\n",
       "      <td>22104.0</td>\n",
       "      <td>automatic</td>\n",
       "      <td>sedan</td>\n",
       "      <td>silver</td>\n",
       "      <td>NaN</td>\n",
       "      <td>2019-01-14</td>\n",
       "      <td>29</td>\n",
       "    </tr>\n",
       "    <tr>\n",
       "      <td>14</td>\n",
       "      <td>12990</td>\n",
       "      <td>2009.0</td>\n",
       "      <td>gmc yukon</td>\n",
       "      <td>excellent</td>\n",
       "      <td>8.0</td>\n",
       "      <td>gas</td>\n",
       "      <td>132285.0</td>\n",
       "      <td>automatic</td>\n",
       "      <td>SUV</td>\n",
       "      <td>black</td>\n",
       "      <td>1.0</td>\n",
       "      <td>2019-01-31</td>\n",
       "      <td>24</td>\n",
       "    </tr>\n",
       "  </tbody>\n",
       "</table>\n",
       "</div>"
      ],
      "text/plain": [
       "    price  model_year                     model  condition  cylinders fuel  \\\n",
       "0    9400      2011.0                    bmw x5       good        6.0  gas   \n",
       "1   25500         NaN                ford f-150       good        6.0  gas   \n",
       "2    5500      2013.0            hyundai sonata   like new        4.0  gas   \n",
       "3    1500      2003.0                ford f-150       fair        8.0  gas   \n",
       "4   14900      2017.0              chrysler 200  excellent        4.0  gas   \n",
       "5   14990      2014.0              chrysler 300  excellent        6.0  gas   \n",
       "6   12990      2015.0              toyota camry  excellent        4.0  gas   \n",
       "7   15990      2013.0               honda pilot  excellent        6.0  gas   \n",
       "8   11500      2012.0               kia sorento  excellent        4.0  gas   \n",
       "9    9200      2008.0               honda pilot  excellent        NaN  gas   \n",
       "10  19500      2011.0  chevrolet silverado 1500  excellent        8.0  gas   \n",
       "11   8990      2012.0              honda accord  excellent        4.0  gas   \n",
       "12  18990      2012.0                  ram 1500  excellent        8.0  gas   \n",
       "13  16500      2018.0            hyundai sonata  excellent        4.0  gas   \n",
       "14  12990      2009.0                 gmc yukon  excellent        8.0  gas   \n",
       "\n",
       "    odometer transmission    type paint_color  is_4wd date_posted  days_listed  \n",
       "0   145000.0    automatic     SUV         NaN     1.0  2018-06-23           19  \n",
       "1    88705.0    automatic  pickup       white     1.0  2018-10-19           50  \n",
       "2   110000.0    automatic   sedan         red     NaN  2019-02-07           79  \n",
       "3        NaN    automatic  pickup         NaN     NaN  2019-03-22            9  \n",
       "4    80903.0    automatic   sedan       black     NaN  2019-04-02           28  \n",
       "5    57954.0    automatic   sedan       black     1.0  2018-06-20           15  \n",
       "6    79212.0    automatic   sedan       white     NaN  2018-12-27           73  \n",
       "7   109473.0    automatic     SUV       black     1.0  2019-01-07           68  \n",
       "8   104174.0    automatic     SUV         NaN     1.0  2018-07-16           19  \n",
       "9   147191.0    automatic     SUV        blue     1.0  2019-02-15           17  \n",
       "10  128413.0    automatic  pickup       black     1.0  2018-09-17           38  \n",
       "11  111142.0    automatic   sedan        grey     NaN  2019-03-28           29  \n",
       "12  140742.0    automatic  pickup         NaN     1.0  2019-04-02           37  \n",
       "13   22104.0    automatic   sedan      silver     NaN  2019-01-14           29  \n",
       "14  132285.0    automatic     SUV       black     1.0  2019-01-31           24  "
      ]
     },
     "execution_count": 67,
     "metadata": {},
     "output_type": "execute_result"
    }
   ],
   "source": [
    "#read all input data\n",
    "try:\n",
    "    df = pd.read_csv('vehicles_us.csv')\n",
    "except:\n",
    "    df = pd.read_csv('/datasets/vehicles_us.csv')\n",
    "\n",
    "#looking at data, checking info to see what float values need to be changed and what columns are missing    \n",
    "#df.info()    \n",
    "df.head(15)"
   ]
  },
  {
   "cell_type": "markdown",
   "metadata": {},
   "source": [
    "### Conclusion"
   ]
  },
  {
   "cell_type": "markdown",
   "metadata": {},
   "source": [
    "There are a lot of missing values in a lot of the columns and differences in models such as ford f150 and ford f-150"
   ]
  },
  {
   "cell_type": "markdown",
   "metadata": {},
   "source": [
    "## Data preprocessing"
   ]
  },
  {
   "cell_type": "code",
   "execution_count": 74,
   "metadata": {},
   "outputs": [
    {
     "name": "stdout",
     "output_type": "stream",
     "text": [
      "ford f-150                           2796\n",
      "chevrolet silverado 1500             2171\n",
      "ram 1500                             1750\n",
      "chevrolet silverado                  1271\n",
      "jeep wrangler                        1119\n",
      "                                     ... \n",
      "ford f-250 super duty                 241\n",
      "acura tl                              236\n",
      "kia sorento                           236\n",
      "nissan murano                         235\n",
      "mercedes-benz benze sprinter 2500      41\n",
      "Name: model, Length: 100, dtype: int64\n"
     ]
    },
    {
     "data": {
      "text/html": [
       "<div>\n",
       "<style scoped>\n",
       "    .dataframe tbody tr th:only-of-type {\n",
       "        vertical-align: middle;\n",
       "    }\n",
       "\n",
       "    .dataframe tbody tr th {\n",
       "        vertical-align: top;\n",
       "    }\n",
       "\n",
       "    .dataframe thead th {\n",
       "        text-align: right;\n",
       "    }\n",
       "</style>\n",
       "<table border=\"1\" class=\"dataframe\">\n",
       "  <thead>\n",
       "    <tr style=\"text-align: right;\">\n",
       "      <th></th>\n",
       "      <th>price</th>\n",
       "      <th>model_year</th>\n",
       "      <th>model</th>\n",
       "      <th>condition</th>\n",
       "      <th>cylinders</th>\n",
       "      <th>fuel</th>\n",
       "      <th>odometer</th>\n",
       "      <th>transmission</th>\n",
       "      <th>type</th>\n",
       "      <th>paint_color</th>\n",
       "      <th>is_4wd</th>\n",
       "      <th>date_posted</th>\n",
       "      <th>days_listed</th>\n",
       "    </tr>\n",
       "  </thead>\n",
       "  <tbody>\n",
       "    <tr>\n",
       "      <td>0</td>\n",
       "      <td>9400</td>\n",
       "      <td>2011</td>\n",
       "      <td>bmw x5</td>\n",
       "      <td>good</td>\n",
       "      <td>6</td>\n",
       "      <td>gas</td>\n",
       "      <td>145000</td>\n",
       "      <td>automatic</td>\n",
       "      <td>SUV</td>\n",
       "      <td>unknown</td>\n",
       "      <td>1</td>\n",
       "      <td>2018-06-23</td>\n",
       "      <td>19</td>\n",
       "    </tr>\n",
       "    <tr>\n",
       "      <td>1</td>\n",
       "      <td>25500</td>\n",
       "      <td>2011</td>\n",
       "      <td>ford f-150</td>\n",
       "      <td>good</td>\n",
       "      <td>6</td>\n",
       "      <td>gas</td>\n",
       "      <td>88705</td>\n",
       "      <td>automatic</td>\n",
       "      <td>pickup</td>\n",
       "      <td>white</td>\n",
       "      <td>1</td>\n",
       "      <td>2018-10-19</td>\n",
       "      <td>50</td>\n",
       "    </tr>\n",
       "    <tr>\n",
       "      <td>2</td>\n",
       "      <td>5500</td>\n",
       "      <td>2013</td>\n",
       "      <td>hyundai sonata</td>\n",
       "      <td>like new</td>\n",
       "      <td>4</td>\n",
       "      <td>gas</td>\n",
       "      <td>110000</td>\n",
       "      <td>automatic</td>\n",
       "      <td>sedan</td>\n",
       "      <td>red</td>\n",
       "      <td>1</td>\n",
       "      <td>2019-02-07</td>\n",
       "      <td>79</td>\n",
       "    </tr>\n",
       "    <tr>\n",
       "      <td>3</td>\n",
       "      <td>1500</td>\n",
       "      <td>2003</td>\n",
       "      <td>ford f-150</td>\n",
       "      <td>fair</td>\n",
       "      <td>8</td>\n",
       "      <td>gas</td>\n",
       "      <td>161397</td>\n",
       "      <td>automatic</td>\n",
       "      <td>pickup</td>\n",
       "      <td>unknown</td>\n",
       "      <td>1</td>\n",
       "      <td>2019-03-22</td>\n",
       "      <td>9</td>\n",
       "    </tr>\n",
       "    <tr>\n",
       "      <td>4</td>\n",
       "      <td>14900</td>\n",
       "      <td>2017</td>\n",
       "      <td>chrysler 200</td>\n",
       "      <td>excellent</td>\n",
       "      <td>4</td>\n",
       "      <td>gas</td>\n",
       "      <td>80903</td>\n",
       "      <td>automatic</td>\n",
       "      <td>sedan</td>\n",
       "      <td>black</td>\n",
       "      <td>1</td>\n",
       "      <td>2019-04-02</td>\n",
       "      <td>28</td>\n",
       "    </tr>\n",
       "    <tr>\n",
       "      <td>5</td>\n",
       "      <td>14990</td>\n",
       "      <td>2014</td>\n",
       "      <td>chrysler 300</td>\n",
       "      <td>excellent</td>\n",
       "      <td>6</td>\n",
       "      <td>gas</td>\n",
       "      <td>57954</td>\n",
       "      <td>automatic</td>\n",
       "      <td>sedan</td>\n",
       "      <td>black</td>\n",
       "      <td>1</td>\n",
       "      <td>2018-06-20</td>\n",
       "      <td>15</td>\n",
       "    </tr>\n",
       "    <tr>\n",
       "      <td>6</td>\n",
       "      <td>12990</td>\n",
       "      <td>2015</td>\n",
       "      <td>toyota camry</td>\n",
       "      <td>excellent</td>\n",
       "      <td>4</td>\n",
       "      <td>gas</td>\n",
       "      <td>79212</td>\n",
       "      <td>automatic</td>\n",
       "      <td>sedan</td>\n",
       "      <td>white</td>\n",
       "      <td>1</td>\n",
       "      <td>2018-12-27</td>\n",
       "      <td>73</td>\n",
       "    </tr>\n",
       "    <tr>\n",
       "      <td>7</td>\n",
       "      <td>15990</td>\n",
       "      <td>2013</td>\n",
       "      <td>honda pilot</td>\n",
       "      <td>excellent</td>\n",
       "      <td>6</td>\n",
       "      <td>gas</td>\n",
       "      <td>109473</td>\n",
       "      <td>automatic</td>\n",
       "      <td>SUV</td>\n",
       "      <td>black</td>\n",
       "      <td>1</td>\n",
       "      <td>2019-01-07</td>\n",
       "      <td>68</td>\n",
       "    </tr>\n",
       "    <tr>\n",
       "      <td>8</td>\n",
       "      <td>11500</td>\n",
       "      <td>2012</td>\n",
       "      <td>kia sorento</td>\n",
       "      <td>excellent</td>\n",
       "      <td>4</td>\n",
       "      <td>gas</td>\n",
       "      <td>104174</td>\n",
       "      <td>automatic</td>\n",
       "      <td>SUV</td>\n",
       "      <td>unknown</td>\n",
       "      <td>1</td>\n",
       "      <td>2018-07-16</td>\n",
       "      <td>19</td>\n",
       "    </tr>\n",
       "    <tr>\n",
       "      <td>9</td>\n",
       "      <td>9200</td>\n",
       "      <td>2008</td>\n",
       "      <td>honda pilot</td>\n",
       "      <td>excellent</td>\n",
       "      <td>6</td>\n",
       "      <td>gas</td>\n",
       "      <td>147191</td>\n",
       "      <td>automatic</td>\n",
       "      <td>SUV</td>\n",
       "      <td>blue</td>\n",
       "      <td>1</td>\n",
       "      <td>2019-02-15</td>\n",
       "      <td>17</td>\n",
       "    </tr>\n",
       "    <tr>\n",
       "      <td>10</td>\n",
       "      <td>19500</td>\n",
       "      <td>2011</td>\n",
       "      <td>chevrolet silverado 1500</td>\n",
       "      <td>excellent</td>\n",
       "      <td>8</td>\n",
       "      <td>gas</td>\n",
       "      <td>128413</td>\n",
       "      <td>automatic</td>\n",
       "      <td>pickup</td>\n",
       "      <td>black</td>\n",
       "      <td>1</td>\n",
       "      <td>2018-09-17</td>\n",
       "      <td>38</td>\n",
       "    </tr>\n",
       "    <tr>\n",
       "      <td>11</td>\n",
       "      <td>8990</td>\n",
       "      <td>2012</td>\n",
       "      <td>honda accord</td>\n",
       "      <td>excellent</td>\n",
       "      <td>4</td>\n",
       "      <td>gas</td>\n",
       "      <td>111142</td>\n",
       "      <td>automatic</td>\n",
       "      <td>sedan</td>\n",
       "      <td>grey</td>\n",
       "      <td>1</td>\n",
       "      <td>2019-03-28</td>\n",
       "      <td>29</td>\n",
       "    </tr>\n",
       "    <tr>\n",
       "      <td>12</td>\n",
       "      <td>18990</td>\n",
       "      <td>2012</td>\n",
       "      <td>ram 1500</td>\n",
       "      <td>excellent</td>\n",
       "      <td>8</td>\n",
       "      <td>gas</td>\n",
       "      <td>140742</td>\n",
       "      <td>automatic</td>\n",
       "      <td>pickup</td>\n",
       "      <td>unknown</td>\n",
       "      <td>1</td>\n",
       "      <td>2019-04-02</td>\n",
       "      <td>37</td>\n",
       "    </tr>\n",
       "    <tr>\n",
       "      <td>13</td>\n",
       "      <td>16500</td>\n",
       "      <td>2018</td>\n",
       "      <td>hyundai sonata</td>\n",
       "      <td>excellent</td>\n",
       "      <td>4</td>\n",
       "      <td>gas</td>\n",
       "      <td>22104</td>\n",
       "      <td>automatic</td>\n",
       "      <td>sedan</td>\n",
       "      <td>silver</td>\n",
       "      <td>1</td>\n",
       "      <td>2019-01-14</td>\n",
       "      <td>29</td>\n",
       "    </tr>\n",
       "    <tr>\n",
       "      <td>14</td>\n",
       "      <td>12990</td>\n",
       "      <td>2009</td>\n",
       "      <td>gmc yukon</td>\n",
       "      <td>excellent</td>\n",
       "      <td>8</td>\n",
       "      <td>gas</td>\n",
       "      <td>132285</td>\n",
       "      <td>automatic</td>\n",
       "      <td>SUV</td>\n",
       "      <td>black</td>\n",
       "      <td>1</td>\n",
       "      <td>2019-01-31</td>\n",
       "      <td>24</td>\n",
       "    </tr>\n",
       "  </tbody>\n",
       "</table>\n",
       "</div>"
      ],
      "text/plain": [
       "    price  model_year                     model  condition  cylinders fuel  \\\n",
       "0    9400        2011                    bmw x5       good          6  gas   \n",
       "1   25500        2011                ford f-150       good          6  gas   \n",
       "2    5500        2013            hyundai sonata   like new          4  gas   \n",
       "3    1500        2003                ford f-150       fair          8  gas   \n",
       "4   14900        2017              chrysler 200  excellent          4  gas   \n",
       "5   14990        2014              chrysler 300  excellent          6  gas   \n",
       "6   12990        2015              toyota camry  excellent          4  gas   \n",
       "7   15990        2013               honda pilot  excellent          6  gas   \n",
       "8   11500        2012               kia sorento  excellent          4  gas   \n",
       "9    9200        2008               honda pilot  excellent          6  gas   \n",
       "10  19500        2011  chevrolet silverado 1500  excellent          8  gas   \n",
       "11   8990        2012              honda accord  excellent          4  gas   \n",
       "12  18990        2012                  ram 1500  excellent          8  gas   \n",
       "13  16500        2018            hyundai sonata  excellent          4  gas   \n",
       "14  12990        2009                 gmc yukon  excellent          8  gas   \n",
       "\n",
       "    odometer transmission    type paint_color  is_4wd date_posted  days_listed  \n",
       "0     145000    automatic     SUV     unknown       1  2018-06-23           19  \n",
       "1      88705    automatic  pickup       white       1  2018-10-19           50  \n",
       "2     110000    automatic   sedan         red       1  2019-02-07           79  \n",
       "3     161397    automatic  pickup     unknown       1  2019-03-22            9  \n",
       "4      80903    automatic   sedan       black       1  2019-04-02           28  \n",
       "5      57954    automatic   sedan       black       1  2018-06-20           15  \n",
       "6      79212    automatic   sedan       white       1  2018-12-27           73  \n",
       "7     109473    automatic     SUV       black       1  2019-01-07           68  \n",
       "8     104174    automatic     SUV     unknown       1  2018-07-16           19  \n",
       "9     147191    automatic     SUV        blue       1  2019-02-15           17  \n",
       "10    128413    automatic  pickup       black       1  2018-09-17           38  \n",
       "11    111142    automatic   sedan        grey       1  2019-03-28           29  \n",
       "12    140742    automatic  pickup     unknown       1  2019-04-02           37  \n",
       "13     22104    automatic   sedan      silver       1  2019-01-14           29  \n",
       "14    132285    automatic     SUV       black       1  2019-01-31           24  "
      ]
     },
     "execution_count": 74,
     "metadata": {},
     "output_type": "execute_result"
    }
   ],
   "source": [
    "#2  Data preprocessing\n",
    "\n",
    "#was used to identify how many missing values existed which showed various amounts missing in model_year\n",
    "#cylinders, odometer, paint_color, and is_4wd\n",
    "#df.isna().sum()\n",
    "\n",
    "    #listing all the info on the dataset to find what columns are missing\n",
    "#print(df.info())\n",
    "\n",
    "    #checking to see how many duplicates we have\n",
    "#print(df.duplicated().sum())\n",
    "#there weren't any duplicates, maybe there might be in model cars\n",
    "\n",
    "\n",
    "    #checking to see if we have duplicate model cars\n",
    "#print(df['model'].value_counts())\n",
    "\n",
    "#columns where numbers were missing\n",
    "missing_num = ['model_year', 'cylinders', 'odometer', 'paint_color', 'is_4wd']\n",
    "\n",
    "#this shows the means and medians of the missing numbers so we could potentially use them for filling in.\n",
    "#The mean is higher than the median in a lot of cases, so I think it's better to use median to fill in the missing values\n",
    "#print('These are the means:')\n",
    "#print(df.groupby('model')[missing_num].mean())\n",
    "#print()\n",
    "#print('These are the medians:')\n",
    "#print(df.groupby('model')[missing_num].median())\n",
    "\n",
    "#filling na by using groupby and calculating everything as median because the means are too high, meaning there are outliers\n",
    "#in the data. Also filling in missing colors as \"unknown\", will need to fix later\n",
    "df['model_year'] = df['model_year'].fillna(df.groupby('model')['model_year'].transform('median'))\n",
    "df['cylinders'] = df['cylinders'].fillna(df.groupby('model')['cylinders'].transform('median'))\n",
    "df['odometer'] = df['odometer'].fillna(df.groupby('model_year')['odometer'].transform('median'))\n",
    "df['odometer'] = df['odometer'].fillna(df.groupby('model')['odometer'].transform('median'))\n",
    "df['is_4wd'] = df['is_4wd'].fillna(df.groupby('model_year')['is_4wd'].transform('median'))\n",
    "df['is_4wd'] = df['is_4wd'].fillna(df.groupby('model')['is_4wd'].transform('median'))\n",
    "df['paint_color'] = df['paint_color'].fillna('unknown')\n",
    "\n",
    "#double checking to see if there are still any more missing values\n",
    "#df.isna().sum()\n",
    "\n",
    "#there are still columns that are considered float values, so we'll have to change that for easier appearance\n",
    "#df.info()\n",
    "\n",
    "#turning float values to int using astype. There shouldn't be any float values or decimals for amonut of cylinders,\n",
    "#what model_year the car is, if it's 4wd or not, or how much is in the odometer. It just makes more sense to \n",
    "#convert these to int for easier appearance.\n",
    "df['model_year'] = df['model_year'].astype('int')\n",
    "df['cylinders'] = df['cylinders'].astype('int')\n",
    "df['odometer'] = df['odometer'].astype('int')\n",
    "df['is_4wd'] = df['is_4wd'].astype('int')\n",
    "\n",
    "#checking to see if changing values worked\n",
    "#df.info()\n",
    "\n",
    "df.head(15)"
   ]
  },
  {
   "cell_type": "markdown",
   "metadata": {},
   "source": [
    "# Conclusion\n",
    "\n",
    "There are too many models to look through, will probably have to find a way to look at the data eventually. For now, everything \"seems\" ok.\n",
    "\n",
    "What could've caused the missing values could be entirely human error, or some data loss through corrupted file. Nothing seems too out of the ordinary, so I would suggest it's just human error"
   ]
  },
  {
   "cell_type": "markdown",
   "metadata": {},
   "source": [
    "## Make calculations and add them to the table"
   ]
  },
  {
   "cell_type": "code",
   "execution_count": 34,
   "metadata": {
    "scrolled": false
   },
   "outputs": [
    {
     "name": "stdout",
     "output_type": "stream",
     "text": [
      "<class 'pandas.core.frame.DataFrame'>\n",
      "RangeIndex: 51525 entries, 0 to 51524\n",
      "Data columns (total 18 columns):\n",
      "price           51525 non-null int64\n",
      "model_year      51525 non-null int64\n",
      "model           51525 non-null object\n",
      "condition       51525 non-null int64\n",
      "cylinders       51525 non-null int64\n",
      "fuel            51525 non-null object\n",
      "odometer        51525 non-null int64\n",
      "transmission    51525 non-null object\n",
      "type            51525 non-null object\n",
      "paint_color     51525 non-null object\n",
      "is_4wd          51525 non-null int64\n",
      "date_posted     51525 non-null datetime64[ns]\n",
      "days_listed     51525 non-null int64\n",
      "week_posted     51525 non-null int64\n",
      "month_posted    51525 non-null int64\n",
      "year_posted     51525 non-null int64\n",
      "vehicle_age     51525 non-null int64\n",
      "mileage         51525 non-null int64\n",
      "dtypes: datetime64[ns](1), int64(12), object(5)\n",
      "memory usage: 7.1+ MB\n"
     ]
    }
   ],
   "source": [
    "# Step 3. Make calculations and add them to the table\n",
    "\n",
    "#formatting datetime so day of the week, month, and year will be added\n",
    "df['date_posted'] = pd.to_datetime(df['date_posted'], format = '%Y-%m-%d')\n",
    "df['week_posted'] = df['date_posted'].dt.weekday\n",
    "df['month_posted'] = df['date_posted'].dt.month\n",
    "df['year_posted'] = df['date_posted'].dt.year\n",
    "\n",
    "#finding vehicle age and calculating average vehicle mileage\n",
    "#replacing vehicle age from 0 to 0.5 so infinity won't be a result from mileage calc\n",
    "df['vehicle_age'] = df['year_posted'] - df['model_year'] + 1\n",
    "df['mileage'] = df['odometer'] / df['vehicle_age']\n",
    "\n",
    "#checking to see if there were any messups from doing all the code\n",
    "#df.info()\n",
    "\n",
    "#converting to int for easier appearance\n",
    "df['mileage'] = df['mileage'].astype('int')\n",
    "\n",
    "#checking if there are any other conditions\n",
    "df['condition'].value_counts()\n",
    "\n",
    "#making a condition dictionary and applying to the column\n",
    "condition_dictionary = {'salvage': 0, 'fair' : 1, 'good' : 2, 'excellent' : 3, 'like new' : 4, 'new' : 5 }\n",
    "df['condition'] = df['condition'].apply(lambda x: condition_dictionary[x])\n",
    "\n",
    "#checking work to see if all columns check out\n",
    "df['condition'].value_counts()\n",
    "\n",
    "df.info()"
   ]
  },
  {
   "cell_type": "markdown",
   "metadata": {},
   "source": [
    "## Carry out exploratory data analysis"
   ]
  },
  {
   "cell_type": "code",
   "execution_count": 35,
   "metadata": {},
   "outputs": [
    {
     "name": "stdout",
     "output_type": "stream",
     "text": [
      "Lower bound: -12758.5\n",
      "Upper bound: 34597.5\n"
     ]
    },
    {
     "data": {
      "text/plain": [
       "<matplotlib.collections.LineCollection at 0x7f288f190a10>"
      ]
     },
     "execution_count": 35,
     "metadata": {},
     "output_type": "execute_result"
    },
    {
     "data": {
      "image/png": "[encoded data removed]",
      "text/plain": [
       "<Figure size 432x288 with 1 Axes>"
      ]
     },
     "metadata": {
      "needs_background": "light"
     },
     "output_type": "display_data"
    }
   ],
   "source": [
    "# Step 4. Carry out exploratory data analysis, following the instructions below (section #1)\n",
    "\n",
    "# making simple histograms for every variable\n",
    "#df['price'].plot(kind='hist', range=(0, 70000))\n",
    "#df['vehicle_age'].plot(kind='hist', range=(0, 60))\n",
    "#df['mileage'].plot(kind='hist', range=(0, 180000))\n",
    "#df['cylinders'].plot(kind='hist', range=(0, 11))\n",
    "#df['condition'].plot(kind='hist')\n",
    "\n",
    "# this bottom code is to find general outliers and outputting with red lines for easy readability. Multiple\n",
    "# blocks of code will show each variable with a histogram outputting outliers. This doesn't look pretty, and could\n",
    "# probably be done in loops, but god i feel stupid trying to figure this out rn\n",
    "\n",
    "Q1 = df['price'].quantile(.25)\n",
    "Q3 = df['price'].quantile(.75)\n",
    "IQR = Q3-Q1\n",
    "outlier_upper_bound = Q3 + 1.5*IQR\n",
    "outlier_lower_bound = Q1 - 1.5*IQR\n",
    "\n",
    "df['price'].plot(kind='hist', range=(0,70000))\n",
    "plt.ylabel('cars')\n",
    "plt.xlabel('prices')\n",
    "\n",
    "print('Lower bound:', outlier_lower_bound)\n",
    "print('Upper bound:', outlier_upper_bound)\n",
    "\n",
    "# plot red vertical lines at upper and lower bounds\n",
    "plt.vlines(x=[outlier_lower_bound, outlier_upper_bound], ymin=0, ymax=30000, colors='red')"
   ]
  },
  {
   "cell_type": "code",
   "execution_count": 36,
   "metadata": {},
   "outputs": [
    {
     "name": "stdout",
     "output_type": "stream",
     "text": [
      "Lower bound: -7.0\n",
      "Upper bound: 25.0\n"
     ]
    },
    {
     "data": {
      "text/plain": [
       "<matplotlib.collections.LineCollection at 0x7f288f04a150>"
      ]
     },
     "execution_count": 36,
     "metadata": {},
     "output_type": "execute_result"
    },
    {
     "data": {
      "image/png": "[encoded data removed]",
      "text/plain": [
       "<Figure size 432x288 with 1 Axes>"
      ]
     },
     "metadata": {
      "needs_background": "light"
     },
     "output_type": "display_data"
    }
   ],
   "source": [
    "# vehicle_age\n",
    "Q1 = df['vehicle_age'].quantile(.25)\n",
    "Q3 = df['vehicle_age'].quantile(.75)\n",
    "IQR = Q3-Q1\n",
    "outlier_upper_bound = Q3 + 1.5*IQR\n",
    "outlier_lower_bound = Q1 - 1.5*IQR\n",
    "\n",
    "df['vehicle_age'].plot(kind='hist', range=(0,60))\n",
    "plt.ylabel('cars')\n",
    "plt.xlabel('vehicle_age')\n",
    "\n",
    "print('Lower bound:', outlier_lower_bound)\n",
    "print('Upper bound:', outlier_upper_bound)\n",
    "\n",
    "# plot red vertical lines at upper and lower bounds\n",
    "plt.vlines(x=[outlier_lower_bound, outlier_upper_bound], ymin=0, ymax=30000, colors='red')"
   ]
  },
  {
   "cell_type": "code",
   "execution_count": 37,
   "metadata": {},
   "outputs": [
    {
     "name": "stdout",
     "output_type": "stream",
     "text": [
      "Lower bound: -1889.0\n",
      "Upper bound: 29399.0\n"
     ]
    },
    {
     "data": {
      "text/plain": [
       "<matplotlib.collections.LineCollection at 0x7f288f36d3d0>"
      ]
     },
     "execution_count": 37,
     "metadata": {},
     "output_type": "execute_result"
    },
    {
     "data": {
      "image/png": "[encoded data removed]",
      "text/plain": [
       "<Figure size 432x288 with 1 Axes>"
      ]
     },
     "metadata": {
      "needs_background": "light"
     },
     "output_type": "display_data"
    }
   ],
   "source": [
    "# Mileage\n",
    "Q1 = df['mileage'].quantile(.25)\n",
    "Q3 = df['mileage'].quantile(.75)\n",
    "IQR = Q3-Q1\n",
    "outlier_upper_bound = Q3 + 1.5*IQR\n",
    "outlier_lower_bound = Q1 - 1.5*IQR\n",
    "\n",
    "df['mileage'].plot(kind='hist', range=(0,120000))\n",
    "plt.ylabel('cars')\n",
    "plt.xlabel('mileage')\n",
    "\n",
    "print('Lower bound:', outlier_lower_bound)\n",
    "print('Upper bound:', outlier_upper_bound)\n",
    "\n",
    "# plot red vertical lines at upper and lower bounds\n",
    "plt.vlines(x=[outlier_lower_bound, outlier_upper_bound], ymin=0, ymax=30000, colors='red')"
   ]
  },
  {
   "cell_type": "code",
   "execution_count": 38,
   "metadata": {},
   "outputs": [
    {
     "name": "stdout",
     "output_type": "stream",
     "text": [
      "Lower bound: -2.0\n",
      "Upper bound: 14.0\n"
     ]
    },
    {
     "data": {
      "text/plain": [
       "<matplotlib.collections.LineCollection at 0x7f288f081d90>"
      ]
     },
     "execution_count": 38,
     "metadata": {},
     "output_type": "execute_result"
    },
    {
     "data": {
      "image/png": "[encoded data removed]",
      "text/plain": [
       "<Figure size 432x288 with 1 Axes>"
      ]
     },
     "metadata": {
      "needs_background": "light"
     },
     "output_type": "display_data"
    }
   ],
   "source": [
    "# Cylinders\n",
    "Q1 = df['cylinders'].quantile(.25)\n",
    "Q3 = df['cylinders'].quantile(.75)\n",
    "IQR = Q3-Q1\n",
    "outlier_upper_bound = Q3 + 1.5*IQR\n",
    "outlier_lower_bound = Q1 - 1.5*IQR\n",
    "\n",
    "df['cylinders'].plot(kind='hist', range=(0,11))\n",
    "plt.ylabel('cars')\n",
    "plt.xlabel('cylinders')\n",
    "\n",
    "print('Lower bound:', outlier_lower_bound)\n",
    "print('Upper bound:', outlier_upper_bound)\n",
    "\n",
    "# plot red vertical lines at upper and lower bounds\n",
    "plt.vlines(x=[outlier_lower_bound, outlier_upper_bound], ymin=0, ymax=20000, colors='red')"
   ]
  },
  {
   "cell_type": "code",
   "execution_count": 39,
   "metadata": {
    "scrolled": true
   },
   "outputs": [
    {
     "name": "stdout",
     "output_type": "stream",
     "text": [
      "Lower bound: 0.5\n",
      "Upper bound: 4.5\n"
     ]
    },
    {
     "data": {
      "text/plain": [
       "<matplotlib.collections.LineCollection at 0x7f288f4930d0>"
      ]
     },
     "execution_count": 39,
     "metadata": {},
     "output_type": "execute_result"
    },
    {
     "data": {
      "image/png": "[encoded data removed]",
      "text/plain": [
       "<Figure size 432x288 with 1 Axes>"
      ]
     },
     "metadata": {
      "needs_background": "light"
     },
     "output_type": "display_data"
    }
   ],
   "source": [
    "#Condition\n",
    "Q1 = df['condition'].quantile(.25)\n",
    "Q3 = df['condition'].quantile(.75)\n",
    "IQR = Q3-Q1\n",
    "outlier_upper_bound = Q3 + 1.5*IQR\n",
    "outlier_lower_bound = Q1 - 1.5*IQR\n",
    "\n",
    "df['condition'].plot(kind='hist')\n",
    "plt.ylabel('cars')\n",
    "plt.xlabel('condition')\n",
    "\n",
    "print('Lower bound:', outlier_lower_bound)\n",
    "print('Upper bound:', outlier_upper_bound)\n",
    "\n",
    "# plot red vertical lines at upper and lower bounds\n",
    "plt.vlines(x=[outlier_lower_bound, outlier_upper_bound], ymin=0, ymax=30000, colors='red')"
   ]
  },
  {
   "cell_type": "code",
   "execution_count": 41,
   "metadata": {
    "scrolled": true
   },
   "outputs": [
    {
     "name": "stdout",
     "output_type": "stream",
     "text": [
      "Upper limit: 34597.5\n"
     ]
    },
    {
     "data": {
      "text/plain": [
       "Text(0.5, 0, 'price')"
      ]
     },
     "execution_count": 41,
     "metadata": {},
     "output_type": "execute_result"
    },
    {
     "data": {
      "image/png": "[encoded data removed]",
      "text/plain": [
       "<Figure size 432x288 with 1 Axes>"
      ]
     },
     "metadata": {
      "needs_background": "light"
     },
     "output_type": "display_data"
    }
   ],
   "source": [
    "# Step 4. Carry out exploratory data analysis, following the instructions below (section #2)\n",
    "\n",
    "#creating a copy of df to modify and get rid of outliers\n",
    "filtered = df\n",
    "\n",
    "#double checking to see if filtered has everything updated from df\n",
    "#filtered.info()\n",
    "\n",
    "Q1 = filtered['price'].quantile(.25)\n",
    "Q3 = filtered['price'].quantile(.75)\n",
    "IQR = Q3-Q1\n",
    "upper = Q3 + 1.5*IQR\n",
    "\n",
    "#this works, but I wish it was in a loop. Not sure how to do that though. This same code will be copied and pasted\n",
    "#in the next upcoming cells. \n",
    "filtered = filtered.query('price < @upper')\n",
    "\n",
    "# Step 4. Carry out exploratory data analysis, following the instructions below (section #3)\n",
    "\n",
    "print('Upper limit:', upper)\n",
    "filtered['price'].plot(kind='hist', range=(0, 36000))\n",
    "\n",
    "plt.ylabel('cars')\n",
    "plt.xlabel('price')\n",
    "\n",
    "# There are a lot more vehicles that are around 5k available for purchase, and gradually becomes\n",
    "# more rare the more expensive the cars get. Compared to the original histogram with outliers,\n",
    "# there are some that are selling their cars for 40k, and some 60k. In this case, they are counted as outliers."
   ]
  },
  {
   "cell_type": "code",
   "execution_count": 42,
   "metadata": {},
   "outputs": [
    {
     "name": "stdout",
     "output_type": "stream",
     "text": [
      "Upper limit: 25.0\n"
     ]
    },
    {
     "data": {
      "text/plain": [
       "Text(0.5, 0, 'vehicle_age')"
      ]
     },
     "execution_count": 42,
     "metadata": {},
     "output_type": "execute_result"
    },
    {
     "data": {
      "image/png": "[encoded data removed]",
      "text/plain": [
       "<Figure size 432x288 with 1 Axes>"
      ]
     },
     "metadata": {
      "needs_background": "light"
     },
     "output_type": "display_data"
    }
   ],
   "source": [
    "Q1 = filtered['vehicle_age'].quantile(.25)\n",
    "Q3 = filtered['vehicle_age'].quantile(.75)\n",
    "IQR = Q3-Q1\n",
    "upper = Q3 + 1.5*IQR\n",
    "\n",
    "filtered = filtered.query('vehicle_age < @upper')\n",
    "\n",
    "#print(upper)\n",
    "print('Upper limit:', upper)\n",
    "filtered['vehicle_age'].plot(kind='hist', range=(0, 30))\n",
    "\n",
    "plt.ylabel('cars')\n",
    "plt.xlabel('vehicle_age')\n",
    "\n",
    "# The majority of cars listed on the site are only a few years old, around 7.\n",
    "# The outliers removed are any cars older than 24.\n",
    "# Comparing to the original histogram, there weren't many cars older than 24 anyway."
   ]
  },
  {
   "cell_type": "code",
   "execution_count": 43,
   "metadata": {},
   "outputs": [
    {
     "name": "stdout",
     "output_type": "stream",
     "text": [
      "Upper limit: 29076.0\n"
     ]
    },
    {
     "data": {
      "text/plain": [
       "Text(0.5, 0, 'mileage')"
      ]
     },
     "execution_count": 43,
     "metadata": {},
     "output_type": "execute_result"
    },
    {
     "data": {
      "image/png": "[encoded data removed]",
      "text/plain": [
       "<Figure size 432x288 with 1 Axes>"
      ]
     },
     "metadata": {
      "needs_background": "light"
     },
     "output_type": "display_data"
    }
   ],
   "source": [
    "Q1 = filtered['mileage'].quantile(.25)\n",
    "Q3 = filtered['mileage'].quantile(.75)\n",
    "IQR = Q3-Q1\n",
    "upper = Q3 + 1.5*IQR\n",
    "\n",
    "filtered = filtered.query('mileage < @upper')\n",
    "\n",
    "# print(upper)\n",
    "print('Upper limit:', upper)\n",
    "filtered['mileage'].plot(kind='hist', range=(0, 40000))\n",
    "\n",
    "plt.ylabel('cars')\n",
    "plt.xlabel('mileage')\n",
    "\n",
    "# The average mileage on the cars is 15000, and seems to decrease steeply after anything over 20,000 mileage.\n",
    "# Compared to the original histogram, there are a lot of outliers that have been removed, \n",
    "# some cars even reaching 120,000 mileage"
   ]
  },
  {
   "cell_type": "code",
   "execution_count": 44,
   "metadata": {},
   "outputs": [
    {
     "name": "stdout",
     "output_type": "stream",
     "text": [
      "Upper limit: 14.0\n"
     ]
    },
    {
     "data": {
      "text/plain": [
       "Text(0.5, 0, 'cylinders')"
      ]
     },
     "execution_count": 44,
     "metadata": {},
     "output_type": "execute_result"
    },
    {
     "data": {
      "image/png": "[encoded data removed]",
      "text/plain": [
       "<Figure size 432x288 with 1 Axes>"
      ]
     },
     "metadata": {
      "needs_background": "light"
     },
     "output_type": "display_data"
    }
   ],
   "source": [
    "Q1 = filtered['cylinders'].quantile(.25)\n",
    "Q3 = filtered['cylinders'].quantile(.75)\n",
    "IQR = Q3-Q1\n",
    "upper = Q3 + 1.5*IQR\n",
    "\n",
    "print('Upper limit:', upper)\n",
    "filtered = filtered.query('cylinders < @upper')\n",
    "\n",
    "filtered['cylinders'].plot(kind='hist', range=(0, 11))\n",
    "\n",
    "plt.ylabel('cars')\n",
    "plt.xlabel('cylinders')\n",
    "\n",
    "# There wasn't anything changed with cylinders, because everything was within range. No outliers, nothing to take away in \n",
    "# comparison to the original histogram"
   ]
  },
  {
   "cell_type": "code",
   "execution_count": 45,
   "metadata": {
    "scrolled": true
   },
   "outputs": [
    {
     "data": {
      "text/plain": [
       "Text(0.5, 0, 'condition')"
      ]
     },
     "execution_count": 45,
     "metadata": {},
     "output_type": "execute_result"
    },
    {
     "data": {
      "image/png": "[encoded data removed]",
      "text/plain": [
       "<Figure size 432x288 with 1 Axes>"
      ]
     },
     "metadata": {
      "needs_background": "light"
     },
     "output_type": "display_data"
    }
   ],
   "source": [
    "Q1 = filtered['condition'].quantile(.25)\n",
    "Q3 = filtered['condition'].quantile(.75)\n",
    "IQR = Q3-Q1\n",
    "upper = Q3 + 1.5*IQR\n",
    "\n",
    "filtered = filtered.query('condition < @upper')\n",
    "\n",
    "filtered['condition'].plot(kind='hist')\n",
    "\n",
    "plt.ylabel('cars')\n",
    "plt.xlabel('condition')\n",
    "\n",
    "# There wasn't much changed in comparison to the original histogram. The only change is that anything in the best condition\n",
    "# (5), was removed. There aren't many 5 rated cars anyways, so there isn't much of a loss if it was removed. "
   ]
  },
  {
   "cell_type": "code",
   "execution_count": 46,
   "metadata": {
    "scrolled": true
   },
   "outputs": [
    {
     "name": "stdout",
     "output_type": "stream",
     "text": [
      "The mean of how many days listed:  40.0\n",
      "the median of how many days listed:  33.0\n"
     ]
    },
    {
     "data": {
      "image/png": "[encoded data removed]",
      "text/plain": [
       "<Figure size 432x288 with 1 Axes>"
      ]
     },
     "metadata": {
      "needs_background": "light"
     },
     "output_type": "display_data"
    }
   ],
   "source": [
    "# Step 4. Carry out exploratory data analysis, following the instructions below (section #4)\n",
    "\n",
    "# outputting days_listed and seeing what we're dealing with\n",
    "filtered['days_listed'].plot(kind='hist', range=(0, 230), bins=20)\n",
    "\n",
    "plt.ylabel('cars')\n",
    "plt.xlabel('days_listed')\n",
    "\n",
    "print('The mean of how many days listed: ', filtered['days_listed'].mean().round())\n",
    "print('the median of how many days listed: ', filtered['days_listed'].median().round())\n",
    "\n",
    "# The typical amount of days an ad is up for is around 40 days. It seems that the majority\n",
    "# of vehicles ads would be removed quickly, very few would take a long time over 100 days"
   ]
  },
  {
   "cell_type": "code",
   "execution_count": 47,
   "metadata": {},
   "outputs": [
    {
     "name": "stdout",
     "output_type": "stream",
     "text": [
      "\n",
      "Average price for for each type:\n",
      "                    price\n",
      "type                     \n",
      "SUV          10253.770792\n",
      "bus          19276.947368\n",
      "convertible  13040.407186\n",
      "coupe        13435.951171\n",
      "hatchback     6709.169734\n",
      "mini-van      7720.791513\n",
      "offroad      14211.205556\n",
      "other        10054.827273\n",
      "pickup       14652.532832\n",
      "sedan         6803.592471\n",
      "truck        14678.473408\n",
      "van           8454.321818\n",
      "wagon         8822.362416\n",
      "\n",
      "Number of ADs for each type:\n",
      "SUV            11579\n",
      "sedan          11528\n",
      "truck          10661\n",
      "pickup          6122\n",
      "coupe           2007\n",
      "wagon           1490\n",
      "mini-van        1084\n",
      "hatchback        978\n",
      "van              550\n",
      "convertible      334\n",
      "other            220\n",
      "offroad          180\n",
      "bus               19\n",
      "Name: type, dtype: int64\n",
      "\n",
      "Graph of Number of ADs via Types of vehicle:\n"
     ]
    },
    {
     "data": {
      "image/png": "[encoded data removed]",
      "text/plain": [
       "<Figure size 432x288 with 1 Axes>"
      ]
     },
     "metadata": {
      "needs_background": "light"
     },
     "output_type": "display_data"
    }
   ],
   "source": [
    "# Step 4. Carry out exploratory data analysis, following the instructions below (section #5)\n",
    "\n",
    "#used to analyze the number of ads and the average price for each type of vehicle\n",
    "filtered['type'].value_counts()\n",
    "\n",
    "filtered_pivot = filtered.pivot_table(index='type', values='price')\n",
    "\n",
    "print(\"\\nAverage price for for each type:\")\n",
    "print(filtered_pivot)\n",
    "\n",
    "# print the ad number for the each type\n",
    "print(\"\\nNumber of ADs for each type:\")\n",
    "print(filtered['type'].value_counts())\n",
    "\n",
    "print(\"\\nGraph of Number of ADs via Types of vehicle:\")\n",
    "\n",
    "bar_width = 0.75\n",
    "carType = filtered['type'].value_counts()\n",
    "plt.bar(carType.index, carType.values, bar_width)\n",
    "\n",
    "# naming the axis of x and y\n",
    "plt.xlabel('x - car Types')\n",
    "plt.ylabel('y - Number of ADs')\n",
    "\n",
    "# plot the title\n",
    "plt.title('Dependence of number of ads - types!')\n",
    " \n",
    "# function to show the plot\n",
    "plt.show()\n",
    "\n",
    "# The histogram doesn't look pretty, but it does show the two types with the greatest number of ads. "
   ]
  },
  {
   "cell_type": "code",
   "execution_count": 48,
   "metadata": {
    "scrolled": true
   },
   "outputs": [
    {
     "name": "stdout",
     "output_type": "stream",
     "text": [
      "SUV      11579\n",
      "sedan    11528\n",
      "Name: type, dtype: int64\n"
     ]
    },
    {
     "data": {
      "image/png": "[encoded data removed]",
      "text/plain": [
       "<Figure size 432x288 with 1 Axes>"
      ]
     },
     "metadata": {
      "needs_background": "light"
     },
     "output_type": "display_data"
    }
   ],
   "source": [
    "# Select the two top types with most ADs.\n",
    "bar_width = 0.75\n",
    "carType = filtered['type'].value_counts().head(2)\n",
    "print(carType)\n",
    "\n",
    "chartType = [\"SUV\", \"Sedan\"]\n",
    "plt.bar(chartType, carType.values, bar_width)\n",
    "\n",
    "# naming the axis of x and y\n",
    "plt.xlabel('x - car Types')\n",
    "plt.ylabel('y - Number of ADs')\n",
    "\n",
    "# plot the title\n",
    "plt.title('Top two types with the greatest number of ads')\n",
    " \n",
    "# function to show the plot\n",
    "plt.show()\n",
    "\n",
    "# The two types from the previous histograms that were most popular were SUVs and Sedans. Both of which will now be\n",
    "# the main focus"
   ]
  },
  {
   "cell_type": "code",
   "execution_count": 79,
   "metadata": {},
   "outputs": [
    {
     "name": "stdout",
     "output_type": "stream",
     "text": [
      "automatic    10960\n",
      "manual         460\n",
      "other          159\n",
      "Name: transmission, dtype: int64\n"
     ]
    },
    {
     "data": {
      "image/png": "[encoded data removed]",
      "text/plain": [
       "<Figure size 720x504 with 1 Axes>"
      ]
     },
     "metadata": {
      "needs_background": "light"
     },
     "output_type": "display_data"
    }
   ],
   "source": [
    "# Step 4. Carry out exploratory data analysis, following the instructions below (section #6)\n",
    "\n",
    "# get the top #1 type (SUV)\n",
    "top1type = filtered.query('type == \"SUV\"')\n",
    "# get the top #2 type (sedan)\n",
    "top2type = filtered.query('type == \"sedan\"')\n",
    "\n",
    "#checking to see if any values are below 50.\n",
    "print(top1type['transmission'].value_counts())\n",
    "\n",
    "#since all transmission types are above 50, we can use all of them\n",
    "#pulling transmission data from top1 type and assigning each to the following variables\n",
    "transmission_auto = top1type.query('transmission == \"automatic\"')\n",
    "transmission_manual = top1type.query('transmission == \"manual\"')\n",
    "transmission_other = top1type.query('transmission == \"other\"')\n",
    "\n",
    "#reassign variables to leave one column of price\n",
    "transmission_auto = transmission_auto['price']\n",
    "transmission_manual = transmission_manual['price']\n",
    "transmission_other = transmission_other['price']\n",
    "transmissions = [transmission_auto, transmission_manual, transmission_other]\n",
    "\n",
    "\n",
    "#outputting boxplot settings\n",
    "fig = plt.figure(figsize = (10, 7))\n",
    "\n",
    "ax = fig.add_axes([0,0,1,1])\n",
    "\n",
    "bp = ax.boxplot(transmissions, showfliers=False)\n",
    "\n",
    "ticks = range(1, len(transmissions)+1)\n",
    "labels = ['automatic', 'manual', 'other']\n",
    "\n",
    "plt.xticks(ticks,labels)\n",
    "plt.title('SUV Transmission Type')\n",
    "\n",
    "plt.show()\n",
    "\n",
    "# What's interesting about this, is that manual is higher than the other variables"
   ]
  },
  {
   "cell_type": "code",
   "execution_count": 81,
   "metadata": {},
   "outputs": [
    {
     "name": "stdout",
     "output_type": "stream",
     "text": [
      "automatic    10839\n",
      "manual         566\n",
      "other          123\n",
      "Name: transmission, dtype: int64\n"
     ]
    },
    {
     "data": {
      "image/png": "[encoded data removed]",
      "text/plain": [
       "<Figure size 720x504 with 1 Axes>"
      ]
     },
     "metadata": {
      "needs_background": "light"
     },
     "output_type": "display_data"
    }
   ],
   "source": [
    "#sedan using top2 variable from before\n",
    "\n",
    "#checking to see if any values are below 50.\n",
    "print(top2type['transmission'].value_counts())\n",
    "\n",
    "#since all transmission types are above 50, we can use all of them\n",
    "#pulling transmission data from top2 type and assigning each to the following variables\n",
    "transmission_auto = top2type.query('transmission == \"automatic\"')\n",
    "transmission_manual = top2type.query('transmission == \"manual\"')\n",
    "transmission_other = top2type.query('transmission == \"other\"')\n",
    "\n",
    "#reassign variables to leave one column of price\n",
    "transmission_auto = transmission_auto['price']\n",
    "transmission_manual = transmission_manual['price']\n",
    "transmission_other = transmission_other['price']\n",
    "transmissions = [transmission_auto, transmission_manual, transmission_other]\n",
    "\n",
    "\n",
    "#outputting boxplot settings\n",
    "fig = plt.figure(figsize = (10, 7))\n",
    "\n",
    "ax = fig.add_axes([0,0,1,1])\n",
    "\n",
    "bp = ax.boxplot(transmissions, showfliers=False)\n",
    "\n",
    "ticks = range(1, len(transmissions)+1)\n",
    "labels = ['automatic', 'manual', 'other']\n",
    "\n",
    "plt.xticks(ticks,labels)\n",
    "plt.title('Sedan Transmission Type')\n",
    "\n",
    "plt.show()\n",
    "\n",
    "# In comparison to SUV, Manual is lower than others in terms of outliers. "
   ]
  },
  {
   "cell_type": "code",
   "execution_count": 82,
   "metadata": {},
   "outputs": [
    {
     "name": "stdout",
     "output_type": "stream",
     "text": [
      "unknown    2089\n",
      "black      2047\n",
      "white      1800\n",
      "silver     1474\n",
      "grey       1097\n",
      "blue        977\n",
      "red         862\n",
      "green       423\n",
      "brown       354\n",
      "custom      295\n",
      "orange       78\n",
      "yellow       44\n",
      "purple       39\n",
      "Name: paint_color, dtype: int64\n"
     ]
    },
    {
     "data": {
      "image/png": "[encoded data removed]",
      "text/plain": [
       "<Figure size 720x504 with 1 Axes>"
      ]
     },
     "metadata": {
      "needs_background": "light"
     },
     "output_type": "display_data"
    }
   ],
   "source": [
    "#checking to see what colors are above 50, anything below we don't include in the boxplot\n",
    "#print(top1type['paint_color'].value_counts())\n",
    "\n",
    "#checking to see if any values are below 50.\n",
    "print(top1type['paint_color'].value_counts())\n",
    "\n",
    "#Yellow and purple do not fit the criterea of 50, so they won't be included. Everything else is included\n",
    "\n",
    "#pulling transmission data from top1 type and assigning each to the following variables\n",
    "color_black_price = top1type.query('paint_color == \"black\"')\n",
    "color_blue_price = top1type.query('paint_color == \"blue\"')\n",
    "color_white_price = top1type.query('paint_color == \"white\"')\n",
    "color_grey_price = top1type.query('paint_color == \"grey\"')\n",
    "color_silver_price = top1type.query('paint_color == \"silver\"')\n",
    "color_red_price = top1type.query('paint_color == \"red\"')\n",
    "color_green_price = top1type.query('paint_color == \"green\"')\n",
    "color_brown_price = top1type.query('paint_color == \"brown\"')\n",
    "color_custom_price = top1type.query('paint_color == \"custom\"')\n",
    "color_orange_price = top1type.query('paint_color == \"orange\"')\n",
    "\n",
    "#reassign variables to leave one column of price\n",
    "cblack = color_black_price['price']\n",
    "cblue = color_blue_price['price']\n",
    "cwhite = color_white_price['price']\n",
    "cgrey = color_grey_price['price']\n",
    "csilver = color_silver_price['price']\n",
    "cred = color_red_price['price']\n",
    "cgreen = color_green_price['price']\n",
    "cbrown = color_brown_price['price']\n",
    "ccustom = color_custom_price['price']\n",
    "corange = color_orange_price['price']\n",
    "color = [cblack, cblue, cwhite, cgrey, csilver, cred, cgreen, cbrown, ccustom, corange]\n",
    "\n",
    "\n",
    "#outputting boxplot settings\n",
    "fig = plt.figure(figsize = (10, 7))\n",
    "\n",
    "ax = fig.add_axes([0,0,1,1])\n",
    "\n",
    "bp = ax.boxplot(color, showfliers=False)\n",
    "\n",
    "ticks = range(1, len(color)+1)\n",
    "labels = [\"black\", \"blue\", \"white\", \"grey\", \"silver\", \"red\", \"green\", \"brown\", \"custom\", \"orange\"]\n",
    "\n",
    "plt.xticks(ticks,labels)\n",
    "plt.title('SUV Paint color')\n",
    "\n",
    "plt.show()\n",
    "\n",
    "# Black is a more popular choice in terms of color for SUV. Orange has a higher median, but this could be due to less\n",
    "# cars chosing orange in general."
   ]
  },
  {
   "cell_type": "code",
   "execution_count": 83,
   "metadata": {},
   "outputs": [
    {
     "name": "stdout",
     "output_type": "stream",
     "text": [
      "unknown    2085\n",
      "silver     1936\n",
      "black      1668\n",
      "grey       1541\n",
      "white      1410\n",
      "blue       1185\n",
      "red         914\n",
      "custom      277\n",
      "brown       251\n",
      "green       204\n",
      "purple       26\n",
      "yellow       22\n",
      "orange        9\n",
      "Name: paint_color, dtype: int64\n"
     ]
    },
    {
     "data": {
      "image/png": "[encoded data removed]",
      "text/plain": [
       "<Figure size 720x504 with 1 Axes>"
      ]
     },
     "metadata": {
      "needs_background": "light"
     },
     "output_type": "display_data"
    }
   ],
   "source": [
    "#checking to see what colors are above 50, anything below we don't include in the boxplot\n",
    "#print(top1type['paint_color'].value_counts())\n",
    "\n",
    "#checking to see if any values are below 50.\n",
    "print(top2type['paint_color'].value_counts())\n",
    "\n",
    "#Purple, yellow, and orange do not fit the criterea of 50, so they won't be included. Everything else is included\n",
    "\n",
    "#pulling transmission data from top2 type and assigning each to the following variables\n",
    "color_black_price = top2type.query('paint_color == \"black\"')\n",
    "color_blue_price = top2type.query('paint_color == \"blue\"')\n",
    "color_white_price = top2type.query('paint_color == \"white\"')\n",
    "color_grey_price = top2type.query('paint_color == \"grey\"')\n",
    "color_silver_price = top2type.query('paint_color == \"silver\"')\n",
    "color_red_price = top2type.query('paint_color == \"red\"')\n",
    "color_green_price = top2type.query('paint_color == \"green\"')\n",
    "color_brown_price = top2type.query('paint_color == \"brown\"')\n",
    "color_custom_price = top2type.query('paint_color == \"custom\"')\n",
    "\n",
    "#reassign variables to leave one column of price\n",
    "cblack = color_black_price['price']\n",
    "cblue = color_blue_price['price']\n",
    "cwhite = color_white_price['price']\n",
    "cgrey = color_grey_price['price']\n",
    "csilver = color_silver_price['price']\n",
    "cred = color_red_price['price']\n",
    "cgreen = color_green_price['price']\n",
    "cbrown = color_brown_price['price']\n",
    "ccustom = color_custom_price['price']\n",
    "color = [cblack, cblue, cwhite, cgrey, csilver, cred, cgreen, cbrown, ccustom]\n",
    "\n",
    "\n",
    "#outputting boxplot settings\n",
    "fig = plt.figure(figsize = (10, 7))\n",
    "\n",
    "ax = fig.add_axes([0,0,1,1])\n",
    "\n",
    "bp = ax.boxplot(color, showfliers=False)\n",
    "\n",
    "ticks = range(1, len(color)+1)\n",
    "labels = [\"black\", \"blue\", \"white\", \"grey\", \"silver\", \"red\", \"green\", \"brown\", \"custom\"]\n",
    "\n",
    "plt.xticks(ticks,labels)\n",
    "plt.title('Sedan Paint Color')\n",
    "\n",
    "plt.show()\n",
    "\n",
    "# Black is also a very popular choice in terms of color for Sedans."
   ]
  },
  {
   "cell_type": "code",
   "execution_count": 53,
   "metadata": {},
   "outputs": [
    {
     "data": {
      "text/plain": [
       "(0, 40000)"
      ]
     },
     "execution_count": 53,
     "metadata": {},
     "output_type": "execute_result"
    },
    {
     "data": {
      "image/png": "[encoded data removed]",
      "text/plain": [
       "<Figure size 432x288 with 1 Axes>"
      ]
     },
     "metadata": {
      "needs_background": "light"
     },
     "output_type": "display_data"
    },
    {
     "data": {
      "image/png": "[encoded data removed]",
      "text/plain": [
       "<Figure size 432x288 with 1 Axes>"
      ]
     },
     "metadata": {
      "needs_background": "light"
     },
     "output_type": "display_data"
    },
    {
     "data": {
      "image/png": "[encoded data removed]",
      "text/plain": [
       "<Figure size 432x288 with 1 Axes>"
      ]
     },
     "metadata": {
      "needs_background": "light"
     },
     "output_type": "display_data"
    }
   ],
   "source": [
    "#scatterplot for vehicle age, condition, mileage for SUVs\n",
    "\n",
    "top1type.plot(kind='scatter', x='vehicle_age', y='price', title='SUV vehicle_age via price')\n",
    "plt.ylim(ymin=0, ymax=40000)\n",
    "top1type.plot(kind='scatter', x='condition', y='price', title='SUV condition via price')\n",
    "plt.ylim(ymin=0, ymax=40000)\n",
    "top1type.plot(kind='scatter', x='mileage', y='price', alpha=0.3, title='SUV mileage via price')\n",
    "plt.ylim(ymin=0, ymax=40000)"
   ]
  },
  {
   "cell_type": "code",
   "execution_count": 54,
   "metadata": {
    "scrolled": true
   },
   "outputs": [
    {
     "data": {
      "text/plain": [
       "(0, 35000)"
      ]
     },
     "execution_count": 54,
     "metadata": {},
     "output_type": "execute_result"
    },
    {
     "data": {
      "image/png": "[encoded data removed]",
      "text/plain": [
       "<Figure size 432x288 with 1 Axes>"
      ]
     },
     "metadata": {
      "needs_background": "light"
     },
     "output_type": "display_data"
    },
    {
     "data": {
      "image/png": "[encoded data removed]",
      "text/plain": [
       "<Figure size 432x288 with 1 Axes>"
      ]
     },
     "metadata": {
      "needs_background": "light"
     },
     "output_type": "display_data"
    },
    {
     "data": {
      "image/png": "[encoded data removed]",
      "text/plain": [
       "<Figure size 432x288 with 1 Axes>"
      ]
     },
     "metadata": {
      "needs_background": "light"
     },
     "output_type": "display_data"
    }
   ],
   "source": [
    "#scatterplot for vehicle age, condition, mileage for Sedans\n",
    "\n",
    "top2type.plot(kind='scatter', x='vehicle_age', y='price', title='Sedan vehicle_age via price')\n",
    "plt.ylim(ymin=0, ymax=40000)\n",
    "top2type.plot(kind='scatter', x='condition', y='price', title='Sedan condition via price')\n",
    "plt.ylim(ymin=0, ymax=40000)\n",
    "top2type.plot(kind='scatter', x='mileage', y='price', alpha=0.3, title='Sedan mileage via price')\n",
    "plt.ylim(ymin=0, ymax=35000)"
   ]
  },
  {
   "cell_type": "code",
   "execution_count": 55,
   "metadata": {},
   "outputs": [
    {
     "name": "stdout",
     "output_type": "stream",
     "text": [
      "             condition   mileage  vehicle_age\n",
      "condition     1.000000  0.054419    -0.404410\n",
      "mileage       0.054419  1.000000    -0.463692\n",
      "vehicle_age  -0.404410 -0.463692     1.000000\n"
     ]
    },
    {
     "data": {
      "text/plain": [
       "<matplotlib.axes._subplots.AxesSubplot at 0x7f288d564c10>"
      ]
     },
     "execution_count": 55,
     "metadata": {},
     "output_type": "execute_result"
    },
    {
     "data": {
      "image/png": "[encoded data removed]",
      "text/plain": [
       "<Figure size 432x288 with 2 Axes>"
      ]
     },
     "metadata": {
      "needs_background": "light"
     },
     "output_type": "display_data"
    }
   ],
   "source": [
    "#checking for correlation between condition, mileage, and vehicle age for SUVs\n",
    "\n",
    "filtered_corr_suv = filtered.query('type == \"SUV\"')\n",
    "                      \n",
    "#pivot table to correlate\n",
    "filtered_corr_suv = filtered_corr_suv.pivot_table(index = 'price', values = ['vehicle_age', 'mileage', 'condition']) \n",
    "filtered_corr_final_suv = filtered_corr_suv.corr()\n",
    "\n",
    "#printing correlation\n",
    "print(filtered_corr_final_suv)\n",
    "\n",
    "#visualizing the correlation data \n",
    "sns.heatmap(filtered_corr_final_suv, cmap=\"BrBG\", annot=True)\n",
    "\n",
    "# Mileage has the least correlation between mileage and condition. In contrast, there is a strong \n",
    "# correlation between mileage and vehicle age, even if negative. "
   ]
  },
  {
   "cell_type": "code",
   "execution_count": 56,
   "metadata": {},
   "outputs": [
    {
     "name": "stdout",
     "output_type": "stream",
     "text": [
      "             condition   mileage  vehicle_age\n",
      "condition     1.000000 -0.022192    -0.468054\n",
      "mileage      -0.022192  1.000000    -0.309786\n",
      "vehicle_age  -0.468054 -0.309786     1.000000\n"
     ]
    },
    {
     "data": {
      "text/plain": [
       "<matplotlib.axes._subplots.AxesSubplot at 0x7f288d4a5590>"
      ]
     },
     "execution_count": 56,
     "metadata": {},
     "output_type": "execute_result"
    },
    {
     "data": {
      "image/png": "[encoded data removed]",
      "text/plain": [
       "<Figure size 432x288 with 2 Axes>"
      ]
     },
     "metadata": {
      "needs_background": "light"
     },
     "output_type": "display_data"
    }
   ],
   "source": [
    "#checking for correlation between condition, mileage, and vehicle age for Sedans\n",
    "\n",
    "filtered_corr_sedan = filtered.query('type == \"sedan\"')\n",
    "                      \n",
    "#pivot table to correlate\n",
    "filtered_corr_sedan = filtered_corr_sedan.pivot_table(index = 'price', values = ['vehicle_age', 'mileage', 'condition']) \n",
    "filtered_corr_final_sedan = filtered_corr_sedan.corr()\n",
    "\n",
    "#printing correlation\n",
    "print(filtered_corr_final_sedan)\n",
    "\n",
    "#visualizing the correlation data\n",
    "sns.heatmap(filtered_corr_final_sedan, cmap=\"BrBG\", annot=True)\n",
    "\n",
    "# Just like SUVs, Mileage has the least correlation between mileage and condition. While the correlation is strong\n",
    "# between mileage and vehicle age, the correlation between condition and vehicle age also seems to be a bit strong as well."
   ]
  },
  {
   "cell_type": "code",
   "execution_count": 57,
   "metadata": {
    "scrolled": false
   },
   "outputs": [],
   "source": [
    "# In terms of what factors that impacts the price the most, it seems that having a SUV that has good low mileage, is black,\n",
    "# and is also automatic will yield the best results in terms of price"
   ]
  },
  {
   "cell_type": "markdown",
   "metadata": {},
   "source": [
    "## Overall conclusion"
   ]
  },
  {
   "cell_type": "markdown",
   "metadata": {},
   "source": [
    "Throughout this entire project, I didn't find many anomalies in data other than missing values, and a misprint in the vehicle name. I fixed the missing values but didn't fix the misprint, due to the name not being important for this project. I also added extra columns to the table regarding when the ad was placed, the vehicle's age, and the vehicle's average mileage per year. As asked, I was also able to replace the string values from the condition column with a numeric scale. \n",
    "\n",
    "There are a lot of factors that can influence the price of a vehicle. Such as the vehicle age, the condition of the car, the mileage, the color, the type of vehicle, and what transmission type the vehicle is. From the data I've gathered, it seems that the most popular vehicle shown in ads is an SUV that has good low mileage, has a black paint job, and is also an automatic transmission type. There seems to be a strong correlation between the mileage of the vehicle and the vehicle's age, with a close second being condition of the vehicle and the age. "
   ]
  }
 ],
 "metadata": {
  "ExecuteTimeLog": [
   {
    "duration": 1142,
    "start_time": "2021-08-23T19:42:29.135Z"
   },
   {
    "duration": 297,
    "start_time": "2021-08-23T20:12:41.640Z"
   },
   {
    "duration": 23,
    "start_time": "2021-08-23T20:17:56.153Z"
   },
   {
    "duration": 51,
    "start_time": "2021-08-23T20:28:47.950Z"
   },
   {
    "duration": 28,
    "start_time": "2021-08-23T20:44:27.052Z"
   },
   {
    "duration": 54,
    "start_time": "2021-08-23T20:52:23.640Z"
   },
   {
    "duration": 59,
    "start_time": "2021-08-23T21:07:00.824Z"
   },
   {
    "duration": 62,
    "start_time": "2021-08-23T21:12:06.571Z"
   },
   {
    "duration": 64,
    "start_time": "2021-08-23T21:13:02.939Z"
   },
   {
    "duration": 61,
    "start_time": "2021-08-23T21:13:48.566Z"
   },
   {
    "duration": 314,
    "start_time": "2021-08-23T21:13:55.691Z"
   },
   {
    "duration": 73,
    "start_time": "2021-08-23T21:13:56.008Z"
   },
   {
    "duration": 59,
    "start_time": "2021-08-23T21:17:57.699Z"
   },
   {
    "duration": 400,
    "start_time": "2021-08-23T21:27:25.997Z"
   },
   {
    "duration": 295,
    "start_time": "2021-08-23T21:28:04.712Z"
   },
   {
    "duration": 308,
    "start_time": "2021-08-23T21:28:10.930Z"
   },
   {
    "duration": 326,
    "start_time": "2021-08-23T21:28:21.921Z"
   },
   {
    "duration": 64,
    "start_time": "2021-08-23T21:28:54.611Z"
   },
   {
    "duration": 328,
    "start_time": "2021-08-23T21:45:57.410Z"
   },
   {
    "duration": 273,
    "start_time": "2021-08-23T21:46:37.413Z"
   },
   {
    "duration": 289,
    "start_time": "2021-08-23T21:47:01.297Z"
   },
   {
    "duration": 336,
    "start_time": "2021-08-23T21:47:20.366Z"
   },
   {
    "duration": 59,
    "start_time": "2021-08-23T21:47:27.604Z"
   },
   {
    "duration": 289,
    "start_time": "2021-08-23T21:47:36.789Z"
   },
   {
    "duration": 59,
    "start_time": "2021-08-23T21:47:37.080Z"
   },
   {
    "duration": 63,
    "start_time": "2021-08-23T21:48:39.931Z"
   },
   {
    "duration": 284,
    "start_time": "2021-08-23T21:48:46.761Z"
   },
   {
    "duration": 288,
    "start_time": "2021-08-23T21:48:49.977Z"
   },
   {
    "duration": 277,
    "start_time": "2021-08-23T21:48:50.267Z"
   },
   {
    "duration": 61,
    "start_time": "2021-08-23T21:48:55.011Z"
   },
   {
    "duration": 61,
    "start_time": "2021-08-23T21:49:32.945Z"
   },
   {
    "duration": 285,
    "start_time": "2021-08-23T21:49:38.322Z"
   },
   {
    "duration": 70,
    "start_time": "2021-08-23T21:49:38.610Z"
   },
   {
    "duration": 58,
    "start_time": "2021-08-23T21:50:32.987Z"
   },
   {
    "duration": 269,
    "start_time": "2021-08-23T21:50:37.601Z"
   },
   {
    "duration": 61,
    "start_time": "2021-08-23T21:50:37.872Z"
   },
   {
    "duration": 279,
    "start_time": "2021-08-23T21:51:31.701Z"
   },
   {
    "duration": 24,
    "start_time": "2021-08-23T21:51:39.502Z"
   },
   {
    "duration": 62,
    "start_time": "2021-08-23T21:51:58.768Z"
   },
   {
    "duration": 300,
    "start_time": "2021-08-23T21:52:16.868Z"
   },
   {
    "duration": 23,
    "start_time": "2021-08-23T21:52:19.234Z"
   },
   {
    "duration": 85,
    "start_time": "2021-08-23T21:53:43.055Z"
   },
   {
    "duration": 283,
    "start_time": "2021-08-23T21:54:05.276Z"
   },
   {
    "duration": 73,
    "start_time": "2021-08-23T21:54:08.981Z"
   },
   {
    "duration": 75,
    "start_time": "2021-08-23T21:54:38.931Z"
   },
   {
    "duration": 294,
    "start_time": "2021-08-23T22:01:44.423Z"
   },
   {
    "duration": 360,
    "start_time": "2021-08-23T22:01:53.222Z"
   },
   {
    "duration": 75,
    "start_time": "2021-08-23T22:01:55.821Z"
   },
   {
    "duration": 72,
    "start_time": "2021-08-23T22:02:05.150Z"
   },
   {
    "duration": 77,
    "start_time": "2021-08-23T22:02:29.710Z"
   },
   {
    "duration": 91,
    "start_time": "2021-08-23T22:02:41.049Z"
   },
   {
    "duration": 296,
    "start_time": "2021-08-23T22:02:47.435Z"
   },
   {
    "duration": 99,
    "start_time": "2021-08-23T22:02:47.734Z"
   },
   {
    "duration": 86,
    "start_time": "2021-08-23T22:02:56.060Z"
   },
   {
    "duration": 97,
    "start_time": "2021-08-23T22:03:06.256Z"
   },
   {
    "duration": 92,
    "start_time": "2021-08-23T22:06:04.491Z"
   },
   {
    "duration": 96,
    "start_time": "2021-08-23T22:16:26.379Z"
   },
   {
    "duration": 98,
    "start_time": "2021-08-23T22:20:43.384Z"
   },
   {
    "duration": 77,
    "start_time": "2021-08-23T22:29:43.187Z"
   },
   {
    "duration": 325,
    "start_time": "2021-08-23T22:29:46.593Z"
   },
   {
    "duration": 92,
    "start_time": "2021-08-23T22:29:46.921Z"
   },
   {
    "duration": 353,
    "start_time": "2021-08-23T22:36:29.250Z"
   },
   {
    "duration": 114,
    "start_time": "2021-08-23T22:36:41.485Z"
   },
   {
    "duration": 87,
    "start_time": "2021-08-23T22:37:41.800Z"
   },
   {
    "duration": 257,
    "start_time": "2021-08-23T23:32:37.337Z"
   },
   {
    "duration": 98,
    "start_time": "2021-08-23T23:32:49.331Z"
   },
   {
    "duration": 85,
    "start_time": "2021-08-23T23:35:30.626Z"
   },
   {
    "duration": 21,
    "start_time": "2021-08-23T23:42:25.157Z"
   },
   {
    "duration": 417,
    "start_time": "2021-08-24T22:03:50.666Z"
   },
   {
    "duration": 1164,
    "start_time": "2021-08-24T22:04:01.565Z"
   },
   {
    "duration": 42,
    "start_time": "2021-08-24T22:04:02.731Z"
   },
   {
    "duration": 402,
    "start_time": "2021-08-24T22:04:02.775Z"
   },
   {
    "duration": 14,
    "start_time": "2021-08-24T22:04:43.509Z"
   },
   {
    "duration": 405,
    "start_time": "2021-08-24T22:04:51.341Z"
   },
   {
    "duration": 521,
    "start_time": "2021-08-25T00:23:47.883Z"
   },
   {
    "duration": 55,
    "start_time": "2021-08-25T01:47:54.710Z"
   },
   {
    "duration": 29,
    "start_time": "2021-08-25T01:50:51.133Z"
   },
   {
    "duration": 389,
    "start_time": "2021-08-25T01:52:16.194Z"
   },
   {
    "duration": 23,
    "start_time": "2021-08-25T01:52:20.543Z"
   },
   {
    "duration": 416,
    "start_time": "2021-08-25T01:52:55.025Z"
   },
   {
    "duration": 20,
    "start_time": "2021-08-25T01:53:32.345Z"
   },
   {
    "duration": 378,
    "start_time": "2021-08-25T01:53:46.501Z"
   },
   {
    "duration": 23,
    "start_time": "2021-08-25T01:53:51.953Z"
   },
   {
    "duration": 607,
    "start_time": "2021-08-25T02:03:59.842Z"
   },
   {
    "duration": 9632,
    "start_time": "2021-08-25T02:18:23.375Z"
   },
   {
    "duration": 34,
    "start_time": "2021-08-25T02:18:34.009Z"
   },
   {
    "duration": 357,
    "start_time": "2021-08-25T02:18:48.199Z"
   },
   {
    "duration": 54,
    "start_time": "2021-08-25T02:18:48.559Z"
   },
   {
    "duration": 58,
    "start_time": "2021-08-25T02:18:48.615Z"
   },
   {
    "duration": 43,
    "start_time": "2021-08-25T02:46:14.545Z"
   },
   {
    "duration": 41,
    "start_time": "2021-08-25T02:49:34.749Z"
   },
   {
    "duration": 446,
    "start_time": "2021-08-25T02:51:51.763Z"
   },
   {
    "duration": 38,
    "start_time": "2021-08-25T02:52:18.928Z"
   },
   {
    "duration": 36,
    "start_time": "2021-08-25T02:52:26.835Z"
   },
   {
    "duration": 30,
    "start_time": "2021-08-25T03:04:28.749Z"
   },
   {
    "duration": 60,
    "start_time": "2021-08-25T03:16:06.585Z"
   },
   {
    "duration": 1012,
    "start_time": "2021-08-25T23:30:02.985Z"
   },
   {
    "duration": 51,
    "start_time": "2021-08-25T23:30:03.999Z"
   },
   {
    "duration": 224,
    "start_time": "2021-08-25T23:33:33.270Z"
   },
   {
    "duration": 5790,
    "start_time": "2021-08-25T23:44:17.437Z"
   },
   {
    "duration": 5753,
    "start_time": "2021-08-25T23:45:22.909Z"
   },
   {
    "duration": 370,
    "start_time": "2021-08-25T23:45:36.156Z"
   },
   {
    "duration": 91,
    "start_time": "2021-08-25T23:45:36.528Z"
   },
   {
    "duration": 71,
    "start_time": "2021-08-25T23:45:36.621Z"
   },
   {
    "duration": 6063,
    "start_time": "2021-08-25T23:45:36.693Z"
   },
   {
    "duration": 575,
    "start_time": "2021-08-25T23:46:20.247Z"
   },
   {
    "duration": 252,
    "start_time": "2021-08-25T23:46:59.750Z"
   },
   {
    "duration": 50,
    "start_time": "2021-08-25T23:47:00.004Z"
   },
   {
    "duration": 76,
    "start_time": "2021-08-25T23:47:00.056Z"
   },
   {
    "duration": 240,
    "start_time": "2021-08-25T23:47:14.429Z"
   },
   {
    "duration": 49,
    "start_time": "2021-08-25T23:47:14.670Z"
   },
   {
    "duration": 60,
    "start_time": "2021-08-25T23:47:14.720Z"
   },
   {
    "duration": 596,
    "start_time": "2021-08-25T23:47:42.945Z"
   },
   {
    "duration": 640,
    "start_time": "2021-08-25T23:47:59.442Z"
   },
   {
    "duration": 1260,
    "start_time": "2021-08-25T23:48:03.017Z"
   },
   {
    "duration": 247,
    "start_time": "2021-08-25T23:48:10.042Z"
   },
   {
    "duration": 56,
    "start_time": "2021-08-25T23:48:10.291Z"
   },
   {
    "duration": 80,
    "start_time": "2021-08-25T23:48:10.349Z"
   },
   {
    "duration": 251,
    "start_time": "2021-08-25T23:48:15.109Z"
   },
   {
    "duration": 49,
    "start_time": "2021-08-25T23:48:15.362Z"
   },
   {
    "duration": 62,
    "start_time": "2021-08-25T23:48:15.413Z"
   },
   {
    "duration": 236,
    "start_time": "2021-08-25T23:49:39.280Z"
   },
   {
    "duration": 52,
    "start_time": "2021-08-25T23:49:39.518Z"
   },
   {
    "duration": 245,
    "start_time": "2021-08-25T23:49:52.220Z"
   },
   {
    "duration": 51,
    "start_time": "2021-08-25T23:49:54.578Z"
   },
   {
    "duration": 6034,
    "start_time": "2021-08-25T23:49:58.493Z"
   },
   {
    "duration": 56,
    "start_time": "2021-08-25T23:50:25.231Z"
   },
   {
    "duration": 569,
    "start_time": "2021-08-25T23:50:38.000Z"
   },
   {
    "duration": 244,
    "start_time": "2021-08-25T23:50:47.505Z"
   },
   {
    "duration": 185,
    "start_time": "2021-08-25T23:50:53.101Z"
   },
   {
    "duration": 581,
    "start_time": "2021-08-25T23:51:14.241Z"
   },
   {
    "duration": 184,
    "start_time": "2021-08-25T23:51:21.667Z"
   },
   {
    "duration": 156,
    "start_time": "2021-08-25T23:51:25.693Z"
   },
   {
    "duration": 236,
    "start_time": "2021-08-25T23:51:30.529Z"
   },
   {
    "duration": 400,
    "start_time": "2021-08-25T23:51:40.495Z"
   },
   {
    "duration": 442,
    "start_time": "2021-08-25T23:53:41.096Z"
   },
   {
    "duration": 155,
    "start_time": "2021-08-25T23:54:07.825Z"
   },
   {
    "duration": 154,
    "start_time": "2021-08-25T23:54:19.692Z"
   },
   {
    "duration": 1150,
    "start_time": "2021-08-25T23:54:46.210Z"
   },
   {
    "duration": 237,
    "start_time": "2021-08-25T23:55:01.566Z"
   },
   {
    "duration": 50,
    "start_time": "2021-08-25T23:55:01.805Z"
   },
   {
    "duration": 65,
    "start_time": "2021-08-25T23:55:03.818Z"
   },
   {
    "duration": 257,
    "start_time": "2021-08-25T23:55:40.597Z"
   },
   {
    "duration": 235,
    "start_time": "2021-08-25T23:55:45.983Z"
   },
   {
    "duration": 51,
    "start_time": "2021-08-25T23:55:46.220Z"
   },
   {
    "duration": 286,
    "start_time": "2021-08-25T23:55:46.273Z"
   },
   {
    "duration": 306,
    "start_time": "2021-08-25T23:56:00.529Z"
   },
   {
    "duration": 235,
    "start_time": "2021-08-25T23:56:16.430Z"
   },
   {
    "duration": 50,
    "start_time": "2021-08-25T23:56:19.412Z"
   },
   {
    "duration": 267,
    "start_time": "2021-08-25T23:56:22.295Z"
   },
   {
    "duration": 61,
    "start_time": "2021-08-25T23:56:40.651Z"
   },
   {
    "duration": 1103,
    "start_time": "2021-08-25T23:59:15.889Z"
   },
   {
    "duration": 250,
    "start_time": "2021-08-25T23:59:22.904Z"
   },
   {
    "duration": 52,
    "start_time": "2021-08-25T23:59:23.156Z"
   },
   {
    "duration": 86,
    "start_time": "2021-08-25T23:59:23.210Z"
   },
   {
    "duration": 300,
    "start_time": "2021-08-26T00:00:17.695Z"
   },
   {
    "duration": 239,
    "start_time": "2021-08-26T00:00:20.520Z"
   },
   {
    "duration": 53,
    "start_time": "2021-08-26T00:00:20.760Z"
   },
   {
    "duration": 265,
    "start_time": "2021-08-26T00:00:20.815Z"
   },
   {
    "duration": 67,
    "start_time": "2021-08-26T00:00:39.023Z"
   },
   {
    "duration": 1182,
    "start_time": "2021-08-26T00:00:54.470Z"
   },
   {
    "duration": 255,
    "start_time": "2021-08-26T00:01:16.582Z"
   },
   {
    "duration": 55,
    "start_time": "2021-08-26T00:01:16.838Z"
   },
   {
    "duration": 77,
    "start_time": "2021-08-26T00:01:16.895Z"
   },
   {
    "duration": 1176,
    "start_time": "2021-08-26T00:01:24.711Z"
   },
   {
    "duration": 255,
    "start_time": "2021-08-26T00:01:31.643Z"
   },
   {
    "duration": 52,
    "start_time": "2021-08-26T00:01:31.900Z"
   },
   {
    "duration": 83,
    "start_time": "2021-08-26T00:01:31.954Z"
   },
   {
    "duration": 289,
    "start_time": "2021-08-26T00:01:40.220Z"
   },
   {
    "duration": 249,
    "start_time": "2021-08-26T00:01:42.585Z"
   },
   {
    "duration": 52,
    "start_time": "2021-08-26T00:01:42.836Z"
   },
   {
    "duration": 290,
    "start_time": "2021-08-26T00:01:42.891Z"
   },
   {
    "duration": 278,
    "start_time": "2021-08-26T00:02:16.546Z"
   },
   {
    "duration": 257,
    "start_time": "2021-08-26T00:02:24.366Z"
   },
   {
    "duration": 49,
    "start_time": "2021-08-26T00:02:24.625Z"
   },
   {
    "duration": 270,
    "start_time": "2021-08-26T00:02:24.675Z"
   },
   {
    "duration": 64,
    "start_time": "2021-08-26T00:02:40.731Z"
   },
   {
    "duration": 1111,
    "start_time": "2021-08-26T00:04:19.885Z"
   },
   {
    "duration": 233,
    "start_time": "2021-08-26T00:04:23.850Z"
   },
   {
    "duration": 50,
    "start_time": "2021-08-26T00:04:24.085Z"
   },
   {
    "duration": 60,
    "start_time": "2021-08-26T00:04:27.420Z"
   },
   {
    "duration": 1092,
    "start_time": "2021-08-26T00:04:39.685Z"
   },
   {
    "duration": 235,
    "start_time": "2021-08-26T00:04:43.212Z"
   },
   {
    "duration": 150,
    "start_time": "2021-08-26T00:04:43.449Z"
   },
   {
    "duration": 65,
    "start_time": "2021-08-26T00:04:43.601Z"
   },
   {
    "duration": 1111,
    "start_time": "2021-08-26T00:07:12.890Z"
   },
   {
    "duration": 239,
    "start_time": "2021-08-26T00:07:16.260Z"
   },
   {
    "duration": 51,
    "start_time": "2021-08-26T00:07:16.500Z"
   },
   {
    "duration": 90,
    "start_time": "2021-08-26T00:07:16.553Z"
   },
   {
    "duration": 1139,
    "start_time": "2021-08-26T00:07:30.730Z"
   },
   {
    "duration": 249,
    "start_time": "2021-08-26T00:07:34.506Z"
   },
   {
    "duration": 55,
    "start_time": "2021-08-26T00:07:34.756Z"
   },
   {
    "duration": 86,
    "start_time": "2021-08-26T00:07:34.813Z"
   },
   {
    "duration": 1133,
    "start_time": "2021-08-26T00:07:42.112Z"
   },
   {
    "duration": 234,
    "start_time": "2021-08-26T00:07:45.366Z"
   },
   {
    "duration": 48,
    "start_time": "2021-08-26T00:07:45.602Z"
   },
   {
    "duration": 78,
    "start_time": "2021-08-26T00:07:45.652Z"
   },
   {
    "duration": 285,
    "start_time": "2021-08-26T00:08:13.295Z"
   },
   {
    "duration": 244,
    "start_time": "2021-08-26T00:08:15.813Z"
   },
   {
    "duration": 48,
    "start_time": "2021-08-26T00:08:16.059Z"
   },
   {
    "duration": 374,
    "start_time": "2021-08-26T00:08:16.109Z"
   },
   {
    "duration": 246,
    "start_time": "2021-08-26T00:19:40.625Z"
   },
   {
    "duration": 52,
    "start_time": "2021-08-26T00:19:40.873Z"
   },
   {
    "duration": 70,
    "start_time": "2021-08-26T00:19:43.389Z"
   },
   {
    "duration": 372,
    "start_time": "2021-08-26T00:23:18.730Z"
   },
   {
    "duration": 149,
    "start_time": "2021-08-26T00:23:31.777Z"
   },
   {
    "duration": 982,
    "start_time": "2021-08-26T23:27:39.016Z"
   },
   {
    "duration": 77,
    "start_time": "2021-08-26T23:28:05.694Z"
   },
   {
    "duration": 79,
    "start_time": "2021-08-26T23:28:33.038Z"
   },
   {
    "duration": 73,
    "start_time": "2021-08-26T23:28:39.493Z"
   },
   {
    "duration": 121,
    "start_time": "2021-08-26T23:30:00.666Z"
   },
   {
    "duration": 1307,
    "start_time": "2021-08-26T23:31:09.794Z"
   },
   {
    "duration": 311,
    "start_time": "2021-08-26T23:31:14.497Z"
   },
   {
    "duration": 89,
    "start_time": "2021-08-26T23:31:14.810Z"
   },
   {
    "duration": 111,
    "start_time": "2021-08-26T23:31:14.902Z"
   },
   {
    "duration": 1300,
    "start_time": "2021-08-26T23:31:46.723Z"
   },
   {
    "duration": 309,
    "start_time": "2021-08-26T23:31:52.132Z"
   },
   {
    "duration": 88,
    "start_time": "2021-08-26T23:31:52.444Z"
   },
   {
    "duration": 91,
    "start_time": "2021-08-26T23:31:52.534Z"
   },
   {
    "duration": 1183,
    "start_time": "2021-08-26T23:33:11.138Z"
   },
   {
    "duration": 308,
    "start_time": "2021-08-26T23:33:16.982Z"
   },
   {
    "duration": 77,
    "start_time": "2021-08-26T23:33:17.293Z"
   },
   {
    "duration": 112,
    "start_time": "2021-08-26T23:33:17.373Z"
   },
   {
    "duration": 1299,
    "start_time": "2021-08-26T23:33:27.868Z"
   },
   {
    "duration": 321,
    "start_time": "2021-08-26T23:33:32.951Z"
   },
   {
    "duration": 79,
    "start_time": "2021-08-26T23:33:33.275Z"
   },
   {
    "duration": 145,
    "start_time": "2021-08-26T23:33:33.358Z"
   },
   {
    "duration": 1235,
    "start_time": "2021-08-26T23:33:58.687Z"
   },
   {
    "duration": 300,
    "start_time": "2021-08-26T23:34:02.396Z"
   },
   {
    "duration": 86,
    "start_time": "2021-08-26T23:34:02.699Z"
   },
   {
    "duration": 124,
    "start_time": "2021-08-26T23:34:02.788Z"
   },
   {
    "duration": 407,
    "start_time": "2021-08-26T23:46:18.461Z"
   },
   {
    "duration": 309,
    "start_time": "2021-08-26T23:46:29.567Z"
   },
   {
    "duration": 254,
    "start_time": "2021-08-26T23:46:33.228Z"
   },
   {
    "duration": 475,
    "start_time": "2021-08-26T23:46:40.613Z"
   },
   {
    "duration": 329,
    "start_time": "2021-08-26T23:46:53.590Z"
   },
   {
    "duration": 282,
    "start_time": "2021-08-26T23:53:21.879Z"
   },
   {
    "duration": 86,
    "start_time": "2021-08-26T23:53:22.164Z"
   },
   {
    "duration": 108,
    "start_time": "2021-08-26T23:54:45.247Z"
   },
   {
    "duration": 1249,
    "start_time": "2021-08-27T00:12:46.025Z"
   },
   {
    "duration": 305,
    "start_time": "2021-08-27T00:12:50.155Z"
   },
   {
    "duration": 81,
    "start_time": "2021-08-27T00:12:50.463Z"
   },
   {
    "duration": 121,
    "start_time": "2021-08-27T00:12:50.547Z"
   },
   {
    "duration": 1324,
    "start_time": "2021-08-27T00:13:44.322Z"
   },
   {
    "duration": 297,
    "start_time": "2021-08-27T00:13:48.933Z"
   },
   {
    "duration": 88,
    "start_time": "2021-08-27T00:13:49.232Z"
   },
   {
    "duration": 293,
    "start_time": "2021-08-27T00:13:52.648Z"
   },
   {
    "duration": 88,
    "start_time": "2021-08-27T00:13:52.944Z"
   },
   {
    "duration": 97,
    "start_time": "2021-08-27T00:14:00.578Z"
   },
   {
    "duration": 452,
    "start_time": "2021-08-27T00:14:06.579Z"
   },
   {
    "duration": 333,
    "start_time": "2021-08-27T00:14:11.726Z"
   },
   {
    "duration": 86,
    "start_time": "2021-08-27T00:14:12.062Z"
   },
   {
    "duration": 92,
    "start_time": "2021-08-27T00:34:09.179Z"
   },
   {
    "duration": 1293,
    "start_time": "2021-08-27T00:35:10.540Z"
   },
   {
    "duration": 300,
    "start_time": "2021-08-27T00:35:18.960Z"
   },
   {
    "duration": 81,
    "start_time": "2021-08-27T00:35:19.263Z"
   },
   {
    "duration": 152,
    "start_time": "2021-08-27T00:35:19.347Z"
   },
   {
    "duration": 397,
    "start_time": "2021-08-27T00:43:56.262Z"
   },
   {
    "duration": 362,
    "start_time": "2021-08-28T01:36:29.376Z"
   },
   {
    "duration": 884,
    "start_time": "2021-08-28T01:36:34.808Z"
   },
   {
    "duration": 56,
    "start_time": "2021-08-28T01:36:35.693Z"
   },
   {
    "duration": 40,
    "start_time": "2021-08-28T01:36:35.751Z"
   },
   {
    "duration": 26,
    "start_time": "2021-08-28T01:37:21.275Z"
   },
   {
    "duration": 35,
    "start_time": "2021-08-28T01:37:52.466Z"
   },
   {
    "duration": 62,
    "start_time": "2021-08-28T01:41:50.103Z"
   },
   {
    "duration": 48,
    "start_time": "2021-08-28T01:56:56.591Z"
   },
   {
    "duration": 326,
    "start_time": "2021-08-28T01:57:15.380Z"
   },
   {
    "duration": 59,
    "start_time": "2021-08-28T01:57:15.707Z"
   },
   {
    "duration": 53,
    "start_time": "2021-08-28T01:57:17.531Z"
   },
   {
    "duration": 42,
    "start_time": "2021-08-28T01:58:05.671Z"
   },
   {
    "duration": 33,
    "start_time": "2021-08-28T01:58:29.916Z"
   },
   {
    "duration": 52,
    "start_time": "2021-08-28T01:58:36.260Z"
   },
   {
    "duration": 44,
    "start_time": "2021-08-28T02:00:21.044Z"
   },
   {
    "duration": 83,
    "start_time": "2021-08-28T02:01:15.993Z"
   },
   {
    "duration": 1364,
    "start_time": "2021-08-28T02:01:35.002Z"
   },
   {
    "duration": 264,
    "start_time": "2021-08-28T02:01:39.131Z"
   },
   {
    "duration": 59,
    "start_time": "2021-08-28T02:01:39.397Z"
   },
   {
    "duration": 273,
    "start_time": "2021-08-28T02:01:42.870Z"
   },
   {
    "duration": 53,
    "start_time": "2021-08-28T02:01:43.145Z"
   },
   {
    "duration": 48,
    "start_time": "2021-08-28T02:02:04.203Z"
   },
   {
    "duration": 262,
    "start_time": "2021-08-28T02:02:14.002Z"
   },
   {
    "duration": 57,
    "start_time": "2021-08-28T02:02:14.265Z"
   },
   {
    "duration": 58,
    "start_time": "2021-08-28T02:02:16.122Z"
   },
   {
    "duration": 240,
    "start_time": "2021-08-28T02:02:44.949Z"
   },
   {
    "duration": 167,
    "start_time": "2021-08-28T02:02:50.154Z"
   },
   {
    "duration": 169,
    "start_time": "2021-08-28T02:04:57.319Z"
   },
   {
    "duration": 9,
    "start_time": "2021-08-28T02:12:39.277Z"
   },
   {
    "duration": 355,
    "start_time": "2021-08-28T07:11:37.767Z"
   },
   {
    "duration": 168,
    "start_time": "2021-08-28T07:12:44.210Z"
   },
   {
    "duration": 164,
    "start_time": "2021-08-28T07:12:56.883Z"
   },
   {
    "duration": 170,
    "start_time": "2021-08-28T07:13:03.468Z"
   },
   {
    "duration": 163,
    "start_time": "2021-08-28T07:13:09.209Z"
   },
   {
    "duration": 173,
    "start_time": "2021-08-28T07:13:32.278Z"
   },
   {
    "duration": 159,
    "start_time": "2021-08-28T07:13:45.704Z"
   },
   {
    "duration": 54,
    "start_time": "2021-08-28T07:14:45.911Z"
   },
   {
    "duration": 94,
    "start_time": "2021-08-28T07:16:30.289Z"
   },
   {
    "duration": 87,
    "start_time": "2021-08-28T07:16:43.993Z"
   },
   {
    "duration": 77,
    "start_time": "2021-08-28T07:16:55.717Z"
   },
   {
    "duration": 368,
    "start_time": "2021-08-28T07:17:21.919Z"
   },
   {
    "duration": 98,
    "start_time": "2021-08-28T07:18:29.758Z"
   },
   {
    "duration": 49,
    "start_time": "2021-08-28T07:18:33.156Z"
   },
   {
    "duration": 23,
    "start_time": "2021-08-28T07:20:27.004Z"
   },
   {
    "duration": 263,
    "start_time": "2021-08-28T07:22:42.882Z"
   },
   {
    "duration": 486,
    "start_time": "2021-08-28T07:59:45.989Z"
   },
   {
    "duration": 52,
    "start_time": "2021-08-28T07:59:46.477Z"
   },
   {
    "duration": 67,
    "start_time": "2021-08-28T07:59:46.530Z"
   },
   {
    "duration": 421,
    "start_time": "2021-08-28T08:01:30.729Z"
   },
   {
    "duration": 492,
    "start_time": "2021-08-28T08:01:50.648Z"
   },
   {
    "duration": 276,
    "start_time": "2021-08-28T08:02:25.549Z"
   },
   {
    "duration": 60,
    "start_time": "2021-08-28T08:02:25.827Z"
   },
   {
    "duration": 71,
    "start_time": "2021-08-28T08:02:25.889Z"
   },
   {
    "duration": 189,
    "start_time": "2021-08-28T08:02:28.773Z"
   },
   {
    "duration": 227,
    "start_time": "2021-08-28T08:03:24.897Z"
   },
   {
    "duration": 241,
    "start_time": "2021-08-28T08:06:43.720Z"
   },
   {
    "duration": 230,
    "start_time": "2021-08-29T23:22:29.642Z"
   },
   {
    "duration": 835,
    "start_time": "2021-08-29T23:22:32.873Z"
   },
   {
    "duration": 49,
    "start_time": "2021-08-29T23:22:33.710Z"
   },
   {
    "duration": 120,
    "start_time": "2021-08-29T23:22:33.773Z"
   },
   {
    "duration": 177,
    "start_time": "2021-08-29T23:25:25.040Z"
   },
   {
    "duration": 209,
    "start_time": "2021-08-29T23:27:49.930Z"
   },
   {
    "duration": 447,
    "start_time": "2021-08-29T23:29:30.242Z"
   },
   {
    "duration": 201,
    "start_time": "2021-08-29T23:29:37.663Z"
   },
   {
    "duration": 55,
    "start_time": "2021-08-29T23:29:37.866Z"
   },
   {
    "duration": 74,
    "start_time": "2021-08-29T23:29:37.923Z"
   },
   {
    "duration": 202,
    "start_time": "2021-08-29T23:29:42.833Z"
   },
   {
    "duration": 57,
    "start_time": "2021-08-29T23:29:43.036Z"
   },
   {
    "duration": 66,
    "start_time": "2021-08-29T23:29:43.096Z"
   },
   {
    "duration": 193,
    "start_time": "2021-08-29T23:30:09.810Z"
   },
   {
    "duration": 178,
    "start_time": "2021-08-29T23:34:08.366Z"
   },
   {
    "duration": 172,
    "start_time": "2021-08-29T23:34:25.889Z"
   },
   {
    "duration": 182,
    "start_time": "2021-08-29T23:35:02.865Z"
   },
   {
    "duration": 185,
    "start_time": "2021-08-29T23:35:40.393Z"
   },
   {
    "duration": 165,
    "start_time": "2021-08-29T23:35:52.447Z"
   },
   {
    "duration": 296,
    "start_time": "2021-08-29T23:35:59.728Z"
   },
   {
    "duration": 178,
    "start_time": "2021-08-29T23:36:07.197Z"
   },
   {
    "duration": 182,
    "start_time": "2021-08-29T23:36:19.449Z"
   },
   {
    "duration": 168,
    "start_time": "2021-08-29T23:36:33.561Z"
   },
   {
    "duration": 181,
    "start_time": "2021-08-29T23:36:40.753Z"
   },
   {
    "duration": 230,
    "start_time": "2021-08-29T23:36:51.104Z"
   },
   {
    "duration": 174,
    "start_time": "2021-08-29T23:37:09.065Z"
   },
   {
    "duration": 173,
    "start_time": "2021-08-29T23:37:22.386Z"
   },
   {
    "duration": 280,
    "start_time": "2021-08-29T23:38:31.390Z"
   },
   {
    "duration": 239,
    "start_time": "2021-08-29T23:38:34.748Z"
   },
   {
    "duration": 223,
    "start_time": "2021-08-29T23:39:18.709Z"
   },
   {
    "duration": 171,
    "start_time": "2021-08-30T02:02:37.755Z"
   },
   {
    "duration": 180,
    "start_time": "2021-08-30T02:05:49.633Z"
   },
   {
    "duration": 192,
    "start_time": "2021-08-30T02:06:01.176Z"
   },
   {
    "duration": 185,
    "start_time": "2021-08-30T02:34:41.609Z"
   },
   {
    "duration": 187,
    "start_time": "2021-08-30T02:34:59.189Z"
   },
   {
    "duration": 966,
    "start_time": "2021-08-31T01:20:04.255Z"
   },
   {
    "duration": 66,
    "start_time": "2021-08-31T01:20:05.224Z"
   },
   {
    "duration": 98,
    "start_time": "2021-08-31T01:20:05.292Z"
   },
   {
    "duration": 200,
    "start_time": "2021-08-31T01:20:05.392Z"
   },
   {
    "duration": 213,
    "start_time": "2021-08-31T01:20:05.594Z"
   },
   {
    "duration": 206,
    "start_time": "2021-08-31T01:20:07.123Z"
   },
   {
    "duration": 757,
    "start_time": "2021-08-31T01:20:32.705Z"
   },
   {
    "duration": 206,
    "start_time": "2021-08-31T01:20:57.604Z"
   },
   {
    "duration": 185,
    "start_time": "2021-08-31T01:21:17.614Z"
   },
   {
    "duration": 195,
    "start_time": "2021-08-31T01:21:40.931Z"
   },
   {
    "duration": 298,
    "start_time": "2021-08-31T01:21:53.259Z"
   },
   {
    "duration": 200,
    "start_time": "2021-08-31T01:21:58.078Z"
   },
   {
    "duration": 209,
    "start_time": "2021-08-31T01:22:07.701Z"
   },
   {
    "duration": 200,
    "start_time": "2021-08-31T01:22:24.857Z"
   },
   {
    "duration": 208,
    "start_time": "2021-08-31T01:22:38.672Z"
   },
   {
    "duration": 212,
    "start_time": "2021-08-31T01:22:47.635Z"
   },
   {
    "duration": 206,
    "start_time": "2021-08-31T01:23:05.860Z"
   },
   {
    "duration": 259,
    "start_time": "2021-08-31T01:23:25.570Z"
   },
   {
    "duration": 218,
    "start_time": "2021-08-31T01:23:31.037Z"
   },
   {
    "duration": 210,
    "start_time": "2021-08-31T01:25:34.336Z"
   },
   {
    "duration": 208,
    "start_time": "2021-08-31T01:25:48.817Z"
   },
   {
    "duration": 192,
    "start_time": "2021-08-31T01:26:35.024Z"
   },
   {
    "duration": 186,
    "start_time": "2021-08-31T01:26:44.637Z"
   },
   {
    "duration": 195,
    "start_time": "2021-08-31T01:29:42.222Z"
   },
   {
    "duration": 194,
    "start_time": "2021-08-31T01:29:54.003Z"
   },
   {
    "duration": 192,
    "start_time": "2021-08-31T01:30:52.845Z"
   },
   {
    "duration": 199,
    "start_time": "2021-08-31T01:30:56.660Z"
   },
   {
    "duration": 371,
    "start_time": "2021-09-01T05:17:02.887Z"
   },
   {
    "duration": 403,
    "start_time": "2021-09-01T05:17:04.470Z"
   },
   {
    "duration": 382,
    "start_time": "2021-09-01T05:17:05.375Z"
   },
   {
    "duration": 395,
    "start_time": "2021-09-01T05:17:15.356Z"
   },
   {
    "duration": 83,
    "start_time": "2021-09-01T06:12:54.819Z"
   },
   {
    "duration": 88,
    "start_time": "2021-09-01T06:13:03.907Z"
   },
   {
    "duration": 399,
    "start_time": "2021-09-01T12:39:00.386Z"
   },
   {
    "duration": 1066,
    "start_time": "2021-09-01T12:39:05.530Z"
   },
   {
    "duration": 54,
    "start_time": "2021-09-01T12:39:06.598Z"
   },
   {
    "duration": 101,
    "start_time": "2021-09-01T12:39:06.654Z"
   },
   {
    "duration": 186,
    "start_time": "2021-09-01T12:39:06.757Z"
   },
   {
    "duration": 405,
    "start_time": "2021-09-01T12:39:06.945Z"
   },
   {
    "duration": 513,
    "start_time": "2021-09-01T12:39:06.839Z"
   },
   {
    "duration": 512,
    "start_time": "2021-09-01T12:39:06.841Z"
   },
   {
    "duration": 511,
    "start_time": "2021-09-01T12:39:06.843Z"
   },
   {
    "duration": 507,
    "start_time": "2021-09-01T12:39:06.848Z"
   },
   {
    "duration": 21,
    "start_time": "2021-09-01T12:39:08.469Z"
   },
   {
    "duration": 183,
    "start_time": "2021-09-01T12:47:38.235Z"
   },
   {
    "duration": 383,
    "start_time": "2021-09-01T12:52:04.248Z"
   },
   {
    "duration": 485,
    "start_time": "2021-09-01T12:52:14.765Z"
   },
   {
    "duration": 66,
    "start_time": "2021-09-01T12:52:15.252Z"
   },
   {
    "duration": 130,
    "start_time": "2021-09-01T12:52:15.321Z"
   },
   {
    "duration": 321,
    "start_time": "2021-09-01T12:52:15.453Z"
   },
   {
    "duration": 424,
    "start_time": "2021-09-01T12:52:18.287Z"
   },
   {
    "duration": 261,
    "start_time": "2021-09-01T12:54:07.865Z"
   },
   {
    "duration": 203,
    "start_time": "2021-09-01T13:06:08.030Z"
   },
   {
    "duration": 218,
    "start_time": "2021-09-01T13:59:59.591Z"
   },
   {
    "duration": 186,
    "start_time": "2021-09-01T14:00:09.178Z"
   },
   {
    "duration": 202,
    "start_time": "2021-09-01T14:11:45.815Z"
   },
   {
    "duration": 185,
    "start_time": "2021-09-01T19:03:08.011Z"
   },
   {
    "duration": 245,
    "start_time": "2021-09-01T19:04:05.813Z"
   },
   {
    "duration": 269,
    "start_time": "2021-09-01T19:04:32.690Z"
   },
   {
    "duration": 181,
    "start_time": "2021-09-01T22:22:21.360Z"
   },
   {
    "duration": 294,
    "start_time": "2021-09-01T22:22:32.703Z"
   },
   {
    "duration": 186,
    "start_time": "2021-09-01T22:22:44.440Z"
   },
   {
    "duration": 203,
    "start_time": "2021-09-01T22:23:34.385Z"
   },
   {
    "duration": 186,
    "start_time": "2021-09-01T22:23:48.936Z"
   },
   {
    "duration": 187,
    "start_time": "2021-09-01T22:25:32.114Z"
   },
   {
    "duration": 201,
    "start_time": "2021-09-01T22:25:45.116Z"
   },
   {
    "duration": 175,
    "start_time": "2021-09-01T22:25:53.452Z"
   },
   {
    "duration": 282,
    "start_time": "2021-09-01T22:26:01.516Z"
   },
   {
    "duration": 198,
    "start_time": "2021-09-01T22:31:49.489Z"
   },
   {
    "duration": 203,
    "start_time": "2021-09-01T22:32:00.431Z"
   },
   {
    "duration": 216,
    "start_time": "2021-09-01T22:32:41.375Z"
   },
   {
    "duration": 210,
    "start_time": "2021-09-01T22:33:01.212Z"
   },
   {
    "duration": 1803,
    "start_time": "2021-09-01T22:33:14.800Z"
   },
   {
    "duration": 339,
    "start_time": "2021-09-01T22:33:19.428Z"
   },
   {
    "duration": 66,
    "start_time": "2021-09-01T22:33:19.770Z"
   },
   {
    "duration": 87,
    "start_time": "2021-09-01T22:33:21.981Z"
   },
   {
    "duration": 189,
    "start_time": "2021-09-01T22:33:30.220Z"
   },
   {
    "duration": 246,
    "start_time": "2021-09-01T22:34:11.112Z"
   },
   {
    "duration": 179,
    "start_time": "2021-09-01T22:47:07.965Z"
   },
   {
    "duration": 190,
    "start_time": "2021-09-01T22:47:30.201Z"
   },
   {
    "duration": 355,
    "start_time": "2021-09-01T22:47:36.237Z"
   },
   {
    "duration": 53,
    "start_time": "2021-09-01T22:47:36.593Z"
   },
   {
    "duration": 88,
    "start_time": "2021-09-01T22:47:36.648Z"
   },
   {
    "duration": 246,
    "start_time": "2021-09-01T22:47:36.738Z"
   },
   {
    "duration": 272,
    "start_time": "2021-09-01T22:47:36.986Z"
   },
   {
    "duration": 187,
    "start_time": "2021-09-01T22:47:37.260Z"
   },
   {
    "duration": 192,
    "start_time": "2021-09-01T22:47:37.449Z"
   },
   {
    "duration": 288,
    "start_time": "2021-09-01T22:47:37.643Z"
   },
   {
    "duration": 200,
    "start_time": "2021-09-01T22:47:37.933Z"
   },
   {
    "duration": 166,
    "start_time": "2021-09-01T23:52:50.427Z"
   },
   {
    "duration": 181,
    "start_time": "2021-09-02T00:02:41.063Z"
   },
   {
    "duration": 179,
    "start_time": "2021-09-02T00:02:49.388Z"
   },
   {
    "duration": 177,
    "start_time": "2021-09-02T00:04:39.949Z"
   },
   {
    "duration": 176,
    "start_time": "2021-09-02T04:37:40.426Z"
   },
   {
    "duration": 182,
    "start_time": "2021-09-02T04:37:46.517Z"
   },
   {
    "duration": 188,
    "start_time": "2021-09-02T04:37:54.728Z"
   },
   {
    "duration": 194,
    "start_time": "2021-09-02T04:38:10.380Z"
   },
   {
    "duration": 171,
    "start_time": "2021-09-02T04:38:15.339Z"
   },
   {
    "duration": 184,
    "start_time": "2021-09-02T04:38:24.160Z"
   },
   {
    "duration": 348,
    "start_time": "2021-09-02T04:38:29.340Z"
   },
   {
    "duration": 190,
    "start_time": "2021-09-02T04:38:35.633Z"
   },
   {
    "duration": 186,
    "start_time": "2021-09-02T04:38:41.318Z"
   },
   {
    "duration": 180,
    "start_time": "2021-09-02T04:38:47.698Z"
   },
   {
    "duration": 172,
    "start_time": "2021-09-02T04:38:55.198Z"
   },
   {
    "duration": 165,
    "start_time": "2021-09-02T05:32:50.489Z"
   },
   {
    "duration": 180,
    "start_time": "2021-09-02T05:50:12.848Z"
   },
   {
    "duration": 187,
    "start_time": "2021-09-02T05:51:20.412Z"
   },
   {
    "duration": 170,
    "start_time": "2021-09-02T05:52:03.354Z"
   },
   {
    "duration": 197,
    "start_time": "2021-09-02T05:52:31.192Z"
   },
   {
    "duration": 176,
    "start_time": "2021-09-02T05:53:33.533Z"
   },
   {
    "duration": 2241,
    "start_time": "2021-09-02T06:01:13.744Z"
   },
   {
    "duration": 174,
    "start_time": "2021-09-02T06:01:56.396Z"
   },
   {
    "duration": 9279,
    "start_time": "2021-09-02T06:02:52.347Z"
   },
   {
    "duration": 855,
    "start_time": "2021-09-02T06:04:15.159Z"
   },
   {
    "duration": 166,
    "start_time": "2021-09-02T06:05:33.147Z"
   },
   {
    "duration": 278,
    "start_time": "2021-09-02T06:17:19.474Z"
   },
   {
    "duration": 168,
    "start_time": "2021-09-02T06:17:27.154Z"
   },
   {
    "duration": 170,
    "start_time": "2021-09-02T06:17:42.297Z"
   },
   {
    "duration": 164,
    "start_time": "2021-09-02T06:18:00.021Z"
   },
   {
    "duration": 198,
    "start_time": "2021-09-02T06:18:11.312Z"
   },
   {
    "duration": 5,
    "start_time": "2021-09-02T06:21:12.896Z"
   },
   {
    "duration": 10,
    "start_time": "2021-09-02T06:21:59.730Z"
   },
   {
    "duration": 403,
    "start_time": "2021-09-02T06:27:08.317Z"
   },
   {
    "duration": 9,
    "start_time": "2021-09-02T06:27:17.465Z"
   },
   {
    "duration": 9929,
    "start_time": "2021-09-02T06:34:26.456Z"
   },
   {
    "duration": 898,
    "start_time": "2021-09-02T06:37:29.767Z"
   },
   {
    "duration": 298,
    "start_time": "2021-09-02T06:38:53.755Z"
   },
   {
    "duration": 29,
    "start_time": "2021-09-02T06:39:43.849Z"
   },
   {
    "duration": 198,
    "start_time": "2021-09-02T06:42:57.684Z"
   },
   {
    "duration": 16899,
    "start_time": "2021-09-02T06:44:08.299Z"
   },
   {
    "duration": 195,
    "start_time": "2021-09-02T06:44:27.204Z"
   },
   {
    "duration": 1077,
    "start_time": "2021-09-02T19:35:52.295Z"
   },
   {
    "duration": 1042,
    "start_time": "2021-09-02T19:36:02.691Z"
   },
   {
    "duration": 841,
    "start_time": "2021-09-02T19:36:53.237Z"
   },
   {
    "duration": 2383,
    "start_time": "2021-09-02T19:37:03.715Z"
   },
   {
    "duration": 92,
    "start_time": "2021-09-02T19:37:06.100Z"
   },
   {
    "duration": 151,
    "start_time": "2021-09-02T19:37:06.195Z"
   },
   {
    "duration": 337,
    "start_time": "2021-09-02T19:37:06.349Z"
   },
   {
    "duration": 369,
    "start_time": "2021-09-02T19:37:06.690Z"
   },
   {
    "duration": 357,
    "start_time": "2021-09-02T19:37:07.062Z"
   },
   {
    "duration": 435,
    "start_time": "2021-09-02T19:37:07.424Z"
   },
   {
    "duration": 360,
    "start_time": "2021-09-02T19:37:07.863Z"
   },
   {
    "duration": 363,
    "start_time": "2021-09-02T19:37:08.227Z"
   },
   {
    "duration": 339,
    "start_time": "2021-09-02T19:37:08.593Z"
   },
   {
    "duration": 354,
    "start_time": "2021-09-02T19:37:08.935Z"
   },
   {
    "duration": 342,
    "start_time": "2021-09-02T19:37:09.291Z"
   },
   {
    "duration": 340,
    "start_time": "2021-09-02T19:37:09.635Z"
   },
   {
    "duration": 391,
    "start_time": "2021-09-02T19:37:09.977Z"
   },
   {
    "duration": 565,
    "start_time": "2021-09-02T19:37:10.370Z"
   },
   {
    "duration": 37,
    "start_time": "2021-09-02T19:37:32.141Z"
   },
   {
    "duration": 375,
    "start_time": "2021-09-02T19:39:00.362Z"
   },
   {
    "duration": 346,
    "start_time": "2021-09-02T19:39:23.237Z"
   },
   {
    "duration": 432,
    "start_time": "2021-09-02T19:39:33.196Z"
   },
   {
    "duration": 359,
    "start_time": "2021-09-02T19:40:19.485Z"
   },
   {
    "duration": 363,
    "start_time": "2021-09-02T19:46:15.182Z"
   },
   {
    "duration": 359,
    "start_time": "2021-09-02T19:47:11.720Z"
   },
   {
    "duration": 376,
    "start_time": "2021-09-02T19:47:32.798Z"
   },
   {
    "duration": 355,
    "start_time": "2021-09-02T19:47:47.954Z"
   },
   {
    "duration": 370,
    "start_time": "2021-09-02T19:48:29.827Z"
   },
   {
    "duration": 361,
    "start_time": "2021-09-02T19:48:51.142Z"
   },
   {
    "duration": 521,
    "start_time": "2021-09-02T20:05:54.277Z"
   },
   {
    "duration": 587,
    "start_time": "2021-09-02T20:06:31.985Z"
   },
   {
    "duration": 542,
    "start_time": "2021-09-02T20:13:11.105Z"
   },
   {
    "duration": 413,
    "start_time": "2021-09-02T20:14:06.001Z"
   },
   {
    "duration": 402,
    "start_time": "2021-09-02T20:14:50.779Z"
   },
   {
    "duration": 439,
    "start_time": "2021-09-02T20:15:06.813Z"
   },
   {
    "duration": 2390,
    "start_time": "2021-09-02T20:15:11.621Z"
   },
   {
    "duration": 88,
    "start_time": "2021-09-02T20:15:14.014Z"
   },
   {
    "duration": 164,
    "start_time": "2021-09-02T20:15:14.117Z"
   },
   {
    "duration": 374,
    "start_time": "2021-09-02T20:15:14.284Z"
   },
   {
    "duration": 361,
    "start_time": "2021-09-02T20:15:14.660Z"
   },
   {
    "duration": 359,
    "start_time": "2021-09-02T20:15:15.024Z"
   },
   {
    "duration": 431,
    "start_time": "2021-09-02T20:15:15.385Z"
   },
   {
    "duration": 374,
    "start_time": "2021-09-02T20:15:15.822Z"
   },
   {
    "duration": 378,
    "start_time": "2021-09-02T20:15:16.199Z"
   },
   {
    "duration": 355,
    "start_time": "2021-09-02T20:15:16.579Z"
   },
   {
    "duration": 361,
    "start_time": "2021-09-02T20:15:16.939Z"
   },
   {
    "duration": 398,
    "start_time": "2021-09-02T20:15:17.302Z"
   },
   {
    "duration": 358,
    "start_time": "2021-09-02T20:15:17.703Z"
   },
   {
    "duration": 341,
    "start_time": "2021-09-02T20:15:18.063Z"
   },
   {
    "duration": 62,
    "start_time": "2021-09-02T20:15:18.406Z"
   },
   {
    "duration": 46,
    "start_time": "2021-09-02T20:15:36.901Z"
   },
   {
    "duration": 1992,
    "start_time": "2021-09-02T20:23:19.167Z"
   },
   {
    "duration": 520,
    "start_time": "2021-09-02T20:24:45.427Z"
   },
   {
    "duration": 519,
    "start_time": "2021-09-02T20:25:47.072Z"
   },
   {
    "duration": 439,
    "start_time": "2021-09-02T20:26:26.484Z"
   },
   {
    "duration": 602,
    "start_time": "2021-09-02T20:31:27.576Z"
   },
   {
    "duration": 617,
    "start_time": "2021-09-02T20:34:25.690Z"
   },
   {
    "duration": 318,
    "start_time": "2021-09-02T20:35:01.455Z"
   },
   {
    "duration": 1101,
    "start_time": "2021-09-02T20:35:31.811Z"
   },
   {
    "duration": 321,
    "start_time": "2021-09-02T20:36:38.815Z"
   },
   {
    "duration": 297,
    "start_time": "2021-09-02T20:45:07.609Z"
   },
   {
    "duration": 490,
    "start_time": "2021-09-02T20:46:08.496Z"
   },
   {
    "duration": 422,
    "start_time": "2021-09-02T20:46:43.764Z"
   },
   {
    "duration": 392,
    "start_time": "2021-09-02T20:47:05.195Z"
   },
   {
    "duration": 483,
    "start_time": "2021-09-02T20:51:29.959Z"
   },
   {
    "duration": 740,
    "start_time": "2021-09-02T20:51:50.688Z"
   },
   {
    "duration": 377,
    "start_time": "2021-09-02T20:52:08.827Z"
   },
   {
    "duration": 364,
    "start_time": "2021-09-02T21:11:01.790Z"
   },
   {
    "duration": 213,
    "start_time": "2021-09-02T21:12:10.244Z"
   },
   {
    "duration": 11198,
    "start_time": "2021-09-02T21:12:21.584Z"
   },
   {
    "duration": 423,
    "start_time": "2021-09-02T21:13:18.254Z"
   },
   {
    "duration": 1260,
    "start_time": "2021-09-02T21:14:18.522Z"
   },
   {
    "duration": 622,
    "start_time": "2021-09-02T21:15:12.868Z"
   },
   {
    "duration": 410,
    "start_time": "2021-09-02T21:15:47.606Z"
   },
   {
    "duration": 2045,
    "start_time": "2021-09-02T21:16:39.763Z"
   },
   {
    "duration": 676,
    "start_time": "2021-09-02T21:17:21.811Z"
   },
   {
    "duration": 491,
    "start_time": "2021-09-02T21:17:56.599Z"
   },
   {
    "duration": 409,
    "start_time": "2021-09-02T21:18:16.576Z"
   },
   {
    "duration": 1052,
    "start_time": "2021-09-02T21:20:50.516Z"
   },
   {
    "duration": 172,
    "start_time": "2021-09-02T21:21:11.318Z"
   },
   {
    "duration": 410,
    "start_time": "2021-09-02T21:21:33.836Z"
   },
   {
    "duration": 400,
    "start_time": "2021-09-02T21:22:36.961Z"
   },
   {
    "duration": 504,
    "start_time": "2021-09-02T21:23:26.971Z"
   },
   {
    "duration": 379,
    "start_time": "2021-09-02T21:23:42.107Z"
   },
   {
    "duration": 132,
    "start_time": "2021-09-02T21:24:45.352Z"
   },
   {
    "duration": 411,
    "start_time": "2021-09-02T21:25:14.139Z"
   },
   {
    "duration": 533,
    "start_time": "2021-09-02T21:25:39.220Z"
   },
   {
    "duration": 442,
    "start_time": "2021-09-02T21:26:18.195Z"
   },
   {
    "duration": 414,
    "start_time": "2021-09-02T21:27:09.399Z"
   },
   {
    "duration": 415,
    "start_time": "2021-09-02T21:27:23.936Z"
   },
   {
    "duration": 423,
    "start_time": "2021-09-02T21:27:32.347Z"
   },
   {
    "duration": 404,
    "start_time": "2021-09-02T21:29:09.080Z"
   },
   {
    "duration": 379,
    "start_time": "2021-09-02T21:31:09.938Z"
   },
   {
    "duration": 396,
    "start_time": "2021-09-02T21:32:47.292Z"
   },
   {
    "duration": 892,
    "start_time": "2021-09-02T21:33:24.778Z"
   },
   {
    "duration": 15,
    "start_time": "2021-09-02T21:34:38.618Z"
   },
   {
    "duration": 12,
    "start_time": "2021-09-02T21:35:04.729Z"
   },
   {
    "duration": 12,
    "start_time": "2021-09-02T21:35:31.009Z"
   },
   {
    "duration": 219,
    "start_time": "2021-09-02T21:35:46.270Z"
   },
   {
    "duration": 344,
    "start_time": "2021-09-02T22:58:48.996Z"
   },
   {
    "duration": 362,
    "start_time": "2021-09-02T22:58:54.786Z"
   },
   {
    "duration": 348,
    "start_time": "2021-09-02T22:59:10.052Z"
   },
   {
    "duration": 335,
    "start_time": "2021-09-02T22:59:32.567Z"
   },
   {
    "duration": 433,
    "start_time": "2021-09-02T22:59:44.073Z"
   },
   {
    "duration": 346,
    "start_time": "2021-09-02T22:59:51.047Z"
   },
   {
    "duration": 19,
    "start_time": "2021-09-03T01:19:03.490Z"
   },
   {
    "duration": 11,
    "start_time": "2021-09-03T01:20:22.362Z"
   },
   {
    "duration": 5,
    "start_time": "2021-09-03T01:20:35.594Z"
   },
   {
    "duration": 11,
    "start_time": "2021-09-03T01:20:58.589Z"
   },
   {
    "duration": 11,
    "start_time": "2021-09-03T01:21:40.172Z"
   },
   {
    "duration": 443,
    "start_time": "2021-09-03T01:24:10.975Z"
   },
   {
    "duration": 32,
    "start_time": "2021-09-03T01:26:42.975Z"
   },
   {
    "duration": 33,
    "start_time": "2021-09-03T01:27:48.006Z"
   },
   {
    "duration": 59,
    "start_time": "2021-09-03T01:31:11.200Z"
   },
   {
    "duration": 33,
    "start_time": "2021-09-03T01:31:32.233Z"
   },
   {
    "duration": 40,
    "start_time": "2021-09-03T01:32:26.560Z"
   },
   {
    "duration": 1160,
    "start_time": "2021-09-03T01:35:21.121Z"
   },
   {
    "duration": 1269,
    "start_time": "2021-09-03T01:35:38.587Z"
   },
   {
    "duration": 43,
    "start_time": "2021-09-03T01:36:00.877Z"
   },
   {
    "duration": 39,
    "start_time": "2021-09-03T01:36:36.209Z"
   },
   {
    "duration": 41,
    "start_time": "2021-09-03T01:37:02.985Z"
   },
   {
    "duration": 39,
    "start_time": "2021-09-03T01:37:13.838Z"
   },
   {
    "duration": 40,
    "start_time": "2021-09-03T01:37:23.675Z"
   },
   {
    "duration": 378,
    "start_time": "2021-09-03T01:37:29.635Z"
   },
   {
    "duration": 39,
    "start_time": "2021-09-03T01:37:33.970Z"
   },
   {
    "duration": 39,
    "start_time": "2021-09-03T01:37:41.860Z"
   },
   {
    "duration": 435,
    "start_time": "2021-09-03T01:38:10.997Z"
   },
   {
    "duration": 33,
    "start_time": "2021-09-03T01:38:56.140Z"
   },
   {
    "duration": 339,
    "start_time": "2021-09-03T01:47:04.161Z"
   },
   {
    "duration": 335,
    "start_time": "2021-09-03T01:53:53.492Z"
   },
   {
    "duration": 63,
    "start_time": "2021-09-03T02:03:41.278Z"
   },
   {
    "duration": 45,
    "start_time": "2021-09-03T02:05:11.102Z"
   },
   {
    "duration": 30,
    "start_time": "2021-09-03T02:05:40.703Z"
   },
   {
    "duration": 49,
    "start_time": "2021-09-03T02:07:01.115Z"
   },
   {
    "duration": 45,
    "start_time": "2021-09-03T02:07:17.878Z"
   },
   {
    "duration": 218,
    "start_time": "2021-09-03T02:08:19.988Z"
   },
   {
    "duration": 27,
    "start_time": "2021-09-03T02:15:06.284Z"
   },
   {
    "duration": 14,
    "start_time": "2021-09-03T02:21:37.808Z"
   },
   {
    "duration": 25,
    "start_time": "2021-09-03T02:21:54.633Z"
   },
   {
    "duration": 28,
    "start_time": "2021-09-03T02:22:34.834Z"
   },
   {
    "duration": 390,
    "start_time": "2021-09-03T02:23:27.452Z"
   },
   {
    "duration": 410,
    "start_time": "2021-09-03T02:23:41.157Z"
   },
   {
    "duration": 826,
    "start_time": "2021-09-03T02:23:46.607Z"
   },
   {
    "duration": 100,
    "start_time": "2021-09-03T02:23:47.436Z"
   },
   {
    "duration": 131,
    "start_time": "2021-09-03T02:23:47.540Z"
   },
   {
    "duration": 328,
    "start_time": "2021-09-03T02:23:47.675Z"
   },
   {
    "duration": 353,
    "start_time": "2021-09-03T02:23:48.006Z"
   },
   {
    "duration": 435,
    "start_time": "2021-09-03T02:23:48.362Z"
   },
   {
    "duration": 359,
    "start_time": "2021-09-03T02:23:48.800Z"
   },
   {
    "duration": 337,
    "start_time": "2021-09-03T02:23:49.165Z"
   },
   {
    "duration": 341,
    "start_time": "2021-09-03T02:23:49.516Z"
   },
   {
    "duration": 600,
    "start_time": "2021-09-03T02:23:49.859Z"
   },
   {
    "duration": 440,
    "start_time": "2021-09-03T02:23:50.461Z"
   },
   {
    "duration": 369,
    "start_time": "2021-09-03T02:23:50.904Z"
   },
   {
    "duration": 404,
    "start_time": "2021-09-03T02:23:51.276Z"
   },
   {
    "duration": 367,
    "start_time": "2021-09-03T02:23:51.682Z"
   },
   {
    "duration": 359,
    "start_time": "2021-09-03T02:23:52.051Z"
   },
   {
    "duration": 217,
    "start_time": "2021-09-03T02:23:52.416Z"
   },
   {
    "duration": 157,
    "start_time": "2021-09-03T02:23:52.635Z"
   },
   {
    "duration": 46,
    "start_time": "2021-09-03T02:24:17.969Z"
   },
   {
    "duration": 30,
    "start_time": "2021-09-03T02:26:28.200Z"
   },
   {
    "duration": 1594,
    "start_time": "2021-09-03T02:28:28.449Z"
   },
   {
    "duration": 13,
    "start_time": "2021-09-03T02:35:39.820Z"
   },
   {
    "duration": 11270,
    "start_time": "2021-09-03T02:35:50.744Z"
   },
   {
    "duration": 12,
    "start_time": "2021-09-03T02:36:03.916Z"
   },
   {
    "duration": 398,
    "start_time": "2021-09-03T02:38:25.147Z"
   },
   {
    "duration": 406,
    "start_time": "2021-09-03T02:39:17.601Z"
   },
   {
    "duration": 372,
    "start_time": "2021-09-03T02:39:23.196Z"
   },
   {
    "duration": 93,
    "start_time": "2021-09-03T02:39:23.570Z"
   },
   {
    "duration": 123,
    "start_time": "2021-09-03T02:39:23.666Z"
   },
   {
    "duration": 314,
    "start_time": "2021-09-03T02:39:23.791Z"
   },
   {
    "duration": 345,
    "start_time": "2021-09-03T02:39:24.108Z"
   },
   {
    "duration": 336,
    "start_time": "2021-09-03T02:39:24.455Z"
   },
   {
    "duration": 373,
    "start_time": "2021-09-03T02:39:24.794Z"
   },
   {
    "duration": 322,
    "start_time": "2021-09-03T02:39:25.171Z"
   },
   {
    "duration": 355,
    "start_time": "2021-09-03T02:39:25.496Z"
   },
   {
    "duration": 339,
    "start_time": "2021-09-03T02:39:25.853Z"
   },
   {
    "duration": 461,
    "start_time": "2021-09-03T02:39:26.195Z"
   },
   {
    "duration": 346,
    "start_time": "2021-09-03T02:39:26.658Z"
   },
   {
    "duration": 328,
    "start_time": "2021-09-03T02:39:27.007Z"
   },
   {
    "duration": 328,
    "start_time": "2021-09-03T02:39:27.337Z"
   },
   {
    "duration": 362,
    "start_time": "2021-09-03T02:39:27.668Z"
   },
   {
    "duration": 223,
    "start_time": "2021-09-03T02:39:28.033Z"
   },
   {
    "duration": 68,
    "start_time": "2021-09-03T02:39:28.258Z"
   },
   {
    "duration": 1598,
    "start_time": "2021-09-03T02:39:28.329Z"
   },
   {
    "duration": 379,
    "start_time": "2021-09-03T02:39:34.206Z"
   },
   {
    "duration": 24,
    "start_time": "2021-09-03T02:40:07.368Z"
   },
   {
    "duration": 251,
    "start_time": "2021-09-03T02:40:23.508Z"
   },
   {
    "duration": 24,
    "start_time": "2021-09-03T02:41:16.148Z"
   },
   {
    "duration": 409,
    "start_time": "2021-09-03T02:41:56.370Z"
   },
   {
    "duration": 366,
    "start_time": "2021-09-03T02:42:17.511Z"
   },
   {
    "duration": 24,
    "start_time": "2021-09-03T02:42:22.416Z"
   },
   {
    "duration": 242,
    "start_time": "2021-09-03T02:43:09.610Z"
   },
   {
    "duration": 9294,
    "start_time": "2021-09-03T02:43:36.216Z"
   },
   {
    "duration": 10581,
    "start_time": "2021-09-03T02:43:52.815Z"
   },
   {
    "duration": 24,
    "start_time": "2021-09-03T02:44:06.893Z"
   },
   {
    "duration": 472,
    "start_time": "2021-09-03T02:45:28.289Z"
   },
   {
    "duration": 23,
    "start_time": "2021-09-03T02:45:34.023Z"
   },
   {
    "duration": 27,
    "start_time": "2021-09-03T02:46:09.406Z"
   },
   {
    "duration": 24,
    "start_time": "2021-09-03T02:46:15.543Z"
   },
   {
    "duration": 24,
    "start_time": "2021-09-03T02:50:04.668Z"
   },
   {
    "duration": 29,
    "start_time": "2021-09-03T02:50:27.483Z"
   },
   {
    "duration": 42,
    "start_time": "2021-09-03T02:50:31.388Z"
   },
   {
    "duration": 24,
    "start_time": "2021-09-03T02:52:03.836Z"
   },
   {
    "duration": 389,
    "start_time": "2021-09-03T02:58:41.230Z"
   },
   {
    "duration": 1084,
    "start_time": "2021-09-03T02:58:59.368Z"
   },
   {
    "duration": 103,
    "start_time": "2021-09-03T02:59:00.455Z"
   },
   {
    "duration": 134,
    "start_time": "2021-09-03T02:59:00.561Z"
   },
   {
    "duration": 334,
    "start_time": "2021-09-03T02:59:00.698Z"
   },
   {
    "duration": 347,
    "start_time": "2021-09-03T02:59:01.035Z"
   },
   {
    "duration": 355,
    "start_time": "2021-09-03T02:59:01.384Z"
   },
   {
    "duration": 377,
    "start_time": "2021-09-03T02:59:01.742Z"
   },
   {
    "duration": 323,
    "start_time": "2021-09-03T02:59:02.122Z"
   },
   {
    "duration": 336,
    "start_time": "2021-09-03T02:59:02.447Z"
   },
   {
    "duration": 334,
    "start_time": "2021-09-03T02:59:02.786Z"
   },
   {
    "duration": 348,
    "start_time": "2021-09-03T02:59:03.123Z"
   },
   {
    "duration": 343,
    "start_time": "2021-09-03T02:59:03.473Z"
   },
   {
    "duration": 330,
    "start_time": "2021-09-03T02:59:03.818Z"
   },
   {
    "duration": 333,
    "start_time": "2021-09-03T02:59:04.151Z"
   },
   {
    "duration": 526,
    "start_time": "2021-09-03T02:59:04.486Z"
   },
   {
    "duration": 235,
    "start_time": "2021-09-03T02:59:05.014Z"
   },
   {
    "duration": 68,
    "start_time": "2021-09-03T02:59:05.252Z"
   },
   {
    "duration": 445,
    "start_time": "2021-09-03T02:59:18.296Z"
   },
   {
    "duration": 412,
    "start_time": "2021-09-03T02:59:48.473Z"
   },
   {
    "duration": 416,
    "start_time": "2021-09-03T02:59:53.631Z"
   },
   {
    "duration": 400,
    "start_time": "2021-09-03T03:00:21.779Z"
   },
   {
    "duration": 11523,
    "start_time": "2021-09-03T03:03:55.825Z"
   },
   {
    "duration": 1388,
    "start_time": "2021-09-03T03:04:26.643Z"
   },
   {
    "duration": 2319,
    "start_time": "2021-09-03T03:05:01.290Z"
   },
   {
    "duration": 2324,
    "start_time": "2021-09-03T03:07:29.925Z"
   },
   {
    "duration": 2402,
    "start_time": "2021-09-03T03:08:32.551Z"
   },
   {
    "duration": 2363,
    "start_time": "2021-09-03T03:08:51.383Z"
   },
   {
    "duration": 3611,
    "start_time": "2021-09-03T03:09:10.046Z"
   },
   {
    "duration": 3650,
    "start_time": "2021-09-03T03:10:21.196Z"
   },
   {
    "duration": 1069,
    "start_time": "2021-09-03T03:46:25.386Z"
   },
   {
    "duration": 299,
    "start_time": "2021-09-03T03:46:46.371Z"
   },
   {
    "duration": 298,
    "start_time": "2021-09-03T03:48:13.458Z"
   },
   {
    "duration": 301,
    "start_time": "2021-09-03T03:49:10.661Z"
   },
   {
    "duration": 48,
    "start_time": "2021-09-03T03:50:05.237Z"
   },
   {
    "duration": 299,
    "start_time": "2021-09-03T03:50:38.457Z"
   },
   {
    "duration": 650,
    "start_time": "2021-09-03T03:51:39.998Z"
   },
   {
    "duration": 574,
    "start_time": "2021-09-03T03:52:42.874Z"
   },
   {
    "duration": 311,
    "start_time": "2021-09-03T03:52:54.540Z"
   },
   {
    "duration": 757,
    "start_time": "2021-09-03T03:53:56.263Z"
   },
   {
    "duration": 563,
    "start_time": "2021-09-03T03:54:17.855Z"
   },
   {
    "duration": 312,
    "start_time": "2021-09-03T03:54:33.112Z"
   },
   {
    "duration": 640,
    "start_time": "2021-09-03T03:54:47.684Z"
   },
   {
    "duration": 418,
    "start_time": "2021-09-03T03:59:40.647Z"
   },
   {
    "duration": 472,
    "start_time": "2021-09-03T04:03:17.447Z"
   },
   {
    "duration": 668,
    "start_time": "2021-09-03T04:04:26.573Z"
   },
   {
    "duration": 448,
    "start_time": "2021-09-03T04:06:03.812Z"
   },
   {
    "duration": 3573,
    "start_time": "2021-09-03T04:06:18.036Z"
   },
   {
    "duration": 533,
    "start_time": "2021-09-03T04:06:56.193Z"
   },
   {
    "duration": 477,
    "start_time": "2021-09-03T04:07:35.678Z"
   },
   {
    "duration": 4194,
    "start_time": "2021-09-03T04:09:11.478Z"
   },
   {
    "duration": 642,
    "start_time": "2021-09-03T04:10:11.739Z"
   },
   {
    "duration": 1012,
    "start_time": "2021-09-03T04:10:40.715Z"
   },
   {
    "duration": 669,
    "start_time": "2021-09-03T04:11:21.591Z"
   },
   {
    "duration": 635,
    "start_time": "2021-09-03T04:18:56.859Z"
   },
   {
    "duration": 51,
    "start_time": "2021-09-03T04:21:29.343Z"
   },
   {
    "duration": 39,
    "start_time": "2021-09-03T04:22:38.000Z"
   },
   {
    "duration": 2837,
    "start_time": "2021-09-03T04:27:29.595Z"
   },
   {
    "duration": 2126,
    "start_time": "2021-09-03T04:28:37.850Z"
   },
   {
    "duration": 1716,
    "start_time": "2021-09-03T04:29:36.869Z"
   },
   {
    "duration": 45,
    "start_time": "2021-09-03T04:30:08.778Z"
   },
   {
    "duration": 1648,
    "start_time": "2021-09-03T04:30:15.934Z"
   },
   {
    "duration": 1816,
    "start_time": "2021-09-03T04:30:28.726Z"
   },
   {
    "duration": 2529,
    "start_time": "2021-09-03T04:30:46.292Z"
   },
   {
    "duration": 31,
    "start_time": "2021-09-03T04:33:59.177Z"
   },
   {
    "duration": 44,
    "start_time": "2021-09-03T04:34:03.620Z"
   },
   {
    "duration": 180,
    "start_time": "2021-09-03T04:34:39.067Z"
   },
   {
    "duration": 9990,
    "start_time": "2021-09-03T04:34:50.771Z"
   },
   {
    "duration": 33,
    "start_time": "2021-09-03T04:35:54.885Z"
   },
   {
    "duration": 51,
    "start_time": "2021-09-03T04:40:38.157Z"
   },
   {
    "duration": 32,
    "start_time": "2021-09-03T04:41:07.537Z"
   },
   {
    "duration": 42,
    "start_time": "2021-09-03T04:44:03.147Z"
   },
   {
    "duration": 445,
    "start_time": "2021-09-03T04:44:23.282Z"
   },
   {
    "duration": 539,
    "start_time": "2021-09-03T04:48:04.190Z"
   },
   {
    "duration": 459,
    "start_time": "2021-09-03T04:50:09.081Z"
   },
   {
    "duration": 450,
    "start_time": "2021-09-03T04:53:30.089Z"
   },
   {
    "duration": 784,
    "start_time": "2021-09-03T04:54:00.316Z"
   },
   {
    "duration": 466,
    "start_time": "2021-09-03T04:56:20.117Z"
   },
   {
    "duration": 763,
    "start_time": "2021-09-03T04:57:02.496Z"
   },
   {
    "duration": 476,
    "start_time": "2021-09-03T04:57:37.881Z"
   },
   {
    "duration": 46,
    "start_time": "2021-09-03T04:58:44.791Z"
   },
   {
    "duration": 6222,
    "start_time": "2021-09-03T05:00:08.333Z"
   },
   {
    "duration": 6103,
    "start_time": "2021-09-03T05:00:36.653Z"
   },
   {
    "duration": 490,
    "start_time": "2021-09-03T05:01:03.600Z"
   },
   {
    "duration": 423,
    "start_time": "2021-09-03T05:07:49.860Z"
   },
   {
    "duration": 441,
    "start_time": "2021-09-03T05:09:53.807Z"
   },
   {
    "duration": 471,
    "start_time": "2021-09-03T05:10:14.326Z"
   },
   {
    "duration": 500,
    "start_time": "2021-09-03T05:19:14.181Z"
   },
   {
    "duration": 495,
    "start_time": "2021-09-03T05:20:11.654Z"
   },
   {
    "duration": 486,
    "start_time": "2021-09-03T05:21:12.470Z"
   },
   {
    "duration": 475,
    "start_time": "2021-09-03T05:21:37.419Z"
   },
   {
    "duration": 493,
    "start_time": "2021-09-03T05:22:42.164Z"
   },
   {
    "duration": 472,
    "start_time": "2021-09-03T05:26:05.358Z"
   },
   {
    "duration": 472,
    "start_time": "2021-09-03T05:30:45.676Z"
   },
   {
    "duration": 838,
    "start_time": "2021-09-03T05:33:37.037Z"
   },
   {
    "duration": 821,
    "start_time": "2021-09-03T05:34:13.257Z"
   },
   {
    "duration": 799,
    "start_time": "2021-09-03T05:34:47.095Z"
   },
   {
    "duration": 500,
    "start_time": "2021-09-03T05:38:03.922Z"
   },
   {
    "duration": 569,
    "start_time": "2021-09-03T05:44:30.163Z"
   },
   {
    "duration": 445,
    "start_time": "2021-09-03T05:47:25.647Z"
   },
   {
    "duration": 611,
    "start_time": "2021-09-03T05:48:08.626Z"
   },
   {
    "duration": 565,
    "start_time": "2021-09-03T05:49:22.489Z"
   },
   {
    "duration": 586,
    "start_time": "2021-09-03T05:57:26.985Z"
   },
   {
    "duration": 991,
    "start_time": "2021-09-03T05:59:51.090Z"
   },
   {
    "duration": 1038,
    "start_time": "2021-09-03T06:00:14.524Z"
   },
   {
    "duration": 1038,
    "start_time": "2021-09-03T06:00:53.599Z"
   },
   {
    "duration": 947,
    "start_time": "2021-09-03T06:01:51.395Z"
   },
   {
    "duration": 587,
    "start_time": "2021-09-03T06:03:21.819Z"
   },
   {
    "duration": 596,
    "start_time": "2021-09-03T06:06:04.282Z"
   },
   {
    "duration": 548,
    "start_time": "2021-09-03T06:06:13.577Z"
   },
   {
    "duration": 22,
    "start_time": "2021-09-03T06:07:25.755Z"
   },
   {
    "duration": 557,
    "start_time": "2021-09-03T06:11:00.872Z"
   },
   {
    "duration": 443,
    "start_time": "2021-09-03T06:11:14.932Z"
   },
   {
    "duration": 112,
    "start_time": "2021-09-03T06:11:15.378Z"
   },
   {
    "duration": 144,
    "start_time": "2021-09-03T06:11:15.493Z"
   },
   {
    "duration": 343,
    "start_time": "2021-09-03T06:11:15.640Z"
   },
   {
    "duration": 668,
    "start_time": "2021-09-03T06:11:15.985Z"
   },
   {
    "duration": 348,
    "start_time": "2021-09-03T06:11:16.656Z"
   },
   {
    "duration": 373,
    "start_time": "2021-09-03T06:11:17.006Z"
   },
   {
    "duration": 343,
    "start_time": "2021-09-03T06:11:17.383Z"
   },
   {
    "duration": 370,
    "start_time": "2021-09-03T06:11:17.729Z"
   },
   {
    "duration": 355,
    "start_time": "2021-09-03T06:11:18.102Z"
   },
   {
    "duration": 366,
    "start_time": "2021-09-03T06:11:18.459Z"
   },
   {
    "duration": 361,
    "start_time": "2021-09-03T06:11:18.828Z"
   },
   {
    "duration": 361,
    "start_time": "2021-09-03T06:11:19.192Z"
   },
   {
    "duration": 340,
    "start_time": "2021-09-03T06:11:19.556Z"
   },
   {
    "duration": 377,
    "start_time": "2021-09-03T06:11:19.899Z"
   },
   {
    "duration": 250,
    "start_time": "2021-09-03T06:11:20.278Z"
   },
   {
    "duration": 603,
    "start_time": "2021-09-03T06:11:24.697Z"
   },
   {
    "duration": 425,
    "start_time": "2021-09-03T06:11:41.369Z"
   },
   {
    "duration": 438,
    "start_time": "2021-09-03T06:11:56.338Z"
   },
   {
    "duration": 433,
    "start_time": "2021-09-03T06:12:38.913Z"
   },
   {
    "duration": 598,
    "start_time": "2021-09-03T06:19:25.156Z"
   },
   {
    "duration": 1958,
    "start_time": "2021-09-03T06:29:58.813Z"
   },
   {
    "duration": 2201,
    "start_time": "2021-09-03T06:30:08.955Z"
   },
   {
    "duration": 1916,
    "start_time": "2021-09-03T06:31:00.000Z"
   },
   {
    "duration": 1935,
    "start_time": "2021-09-03T06:31:06.368Z"
   },
   {
    "duration": 2092,
    "start_time": "2021-09-03T06:31:27.915Z"
   },
   {
    "duration": 2151,
    "start_time": "2021-09-03T06:32:22.883Z"
   },
   {
    "duration": 2439,
    "start_time": "2021-09-03T06:33:15.753Z"
   },
   {
    "duration": 2066,
    "start_time": "2021-09-03T06:33:54.944Z"
   },
   {
    "duration": 1917,
    "start_time": "2021-09-03T06:34:23.076Z"
   },
   {
    "duration": 842,
    "start_time": "2021-09-03T06:35:17.297Z"
   },
   {
    "duration": 108,
    "start_time": "2021-09-03T06:35:18.142Z"
   },
   {
    "duration": 143,
    "start_time": "2021-09-03T06:35:18.253Z"
   },
   {
    "duration": 363,
    "start_time": "2021-09-03T06:35:18.400Z"
   },
   {
    "duration": 357,
    "start_time": "2021-09-03T06:35:18.765Z"
   },
   {
    "duration": 357,
    "start_time": "2021-09-03T06:35:19.125Z"
   },
   {
    "duration": 428,
    "start_time": "2021-09-03T06:35:19.484Z"
   },
   {
    "duration": 354,
    "start_time": "2021-09-03T06:35:19.918Z"
   },
   {
    "duration": 369,
    "start_time": "2021-09-03T06:35:20.275Z"
   },
   {
    "duration": 366,
    "start_time": "2021-09-03T06:35:20.647Z"
   },
   {
    "duration": 375,
    "start_time": "2021-09-03T06:35:21.015Z"
   },
   {
    "duration": 368,
    "start_time": "2021-09-03T06:35:21.392Z"
   },
   {
    "duration": 364,
    "start_time": "2021-09-03T06:35:21.762Z"
   },
   {
    "duration": 352,
    "start_time": "2021-09-03T06:35:22.129Z"
   },
   {
    "duration": 384,
    "start_time": "2021-09-03T06:35:22.484Z"
   },
   {
    "duration": 248,
    "start_time": "2021-09-03T06:35:22.871Z"
   },
   {
    "duration": 451,
    "start_time": "2021-09-03T06:35:23.122Z"
   },
   {
    "duration": 979,
    "start_time": "2021-09-03T06:35:23.576Z"
   },
   {
    "duration": 413,
    "start_time": "2021-09-03T06:35:24.144Z"
   },
   {
    "duration": 410,
    "start_time": "2021-09-03T06:35:24.149Z"
   },
   {
    "duration": 407,
    "start_time": "2021-09-03T06:35:24.153Z"
   },
   {
    "duration": 656,
    "start_time": "2021-09-03T06:36:03.289Z"
   },
   {
    "duration": 105,
    "start_time": "2021-09-03T06:36:03.948Z"
   },
   {
    "duration": 143,
    "start_time": "2021-09-03T06:36:04.056Z"
   },
   {
    "duration": 356,
    "start_time": "2021-09-03T06:36:04.203Z"
   },
   {
    "duration": 393,
    "start_time": "2021-09-03T06:36:04.562Z"
   },
   {
    "duration": 399,
    "start_time": "2021-09-03T06:36:04.959Z"
   },
   {
    "duration": 391,
    "start_time": "2021-09-03T06:36:05.361Z"
   },
   {
    "duration": 344,
    "start_time": "2021-09-03T06:36:05.756Z"
   },
   {
    "duration": 383,
    "start_time": "2021-09-03T06:36:06.103Z"
   },
   {
    "duration": 388,
    "start_time": "2021-09-03T06:36:06.489Z"
   },
   {
    "duration": 386,
    "start_time": "2021-09-03T06:36:06.881Z"
   },
   {
    "duration": 371,
    "start_time": "2021-09-03T06:36:07.269Z"
   },
   {
    "duration": 350,
    "start_time": "2021-09-03T06:36:07.643Z"
   },
   {
    "duration": 351,
    "start_time": "2021-09-03T06:36:07.996Z"
   },
   {
    "duration": 378,
    "start_time": "2021-09-03T06:36:08.349Z"
   },
   {
    "duration": 674,
    "start_time": "2021-09-03T06:36:08.730Z"
   },
   {
    "duration": 460,
    "start_time": "2021-09-03T06:36:09.416Z"
   },
   {
    "duration": 462,
    "start_time": "2021-09-03T06:36:09.879Z"
   },
   {
    "duration": 624,
    "start_time": "2021-09-03T06:36:10.344Z"
   },
   {
    "duration": 595,
    "start_time": "2021-09-03T06:36:10.970Z"
   },
   {
    "duration": 2016,
    "start_time": "2021-09-03T06:36:16.513Z"
   },
   {
    "duration": 1822,
    "start_time": "2021-09-03T06:36:22.347Z"
   },
   {
    "duration": 1871,
    "start_time": "2021-09-03T06:37:41.197Z"
   },
   {
    "duration": 483,
    "start_time": "2021-09-03T06:37:58.444Z"
   },
   {
    "duration": 115,
    "start_time": "2021-09-03T06:37:58.930Z"
   },
   {
    "duration": 131,
    "start_time": "2021-09-03T06:37:59.048Z"
   },
   {
    "duration": 343,
    "start_time": "2021-09-03T06:37:59.182Z"
   },
   {
    "duration": 366,
    "start_time": "2021-09-03T06:37:59.528Z"
   },
   {
    "duration": 369,
    "start_time": "2021-09-03T06:37:59.896Z"
   },
   {
    "duration": 504,
    "start_time": "2021-09-03T06:38:00.268Z"
   },
   {
    "duration": 350,
    "start_time": "2021-09-03T06:38:00.775Z"
   },
   {
    "duration": 374,
    "start_time": "2021-09-03T06:38:01.130Z"
   },
   {
    "duration": 379,
    "start_time": "2021-09-03T06:38:01.507Z"
   },
   {
    "duration": 376,
    "start_time": "2021-09-03T06:38:01.889Z"
   },
   {
    "duration": 387,
    "start_time": "2021-09-03T06:38:02.268Z"
   },
   {
    "duration": 371,
    "start_time": "2021-09-03T06:38:02.658Z"
   },
   {
    "duration": 358,
    "start_time": "2021-09-03T06:38:03.033Z"
   },
   {
    "duration": 399,
    "start_time": "2021-09-03T06:38:03.394Z"
   },
   {
    "duration": 255,
    "start_time": "2021-09-03T06:38:03.795Z"
   },
   {
    "duration": 432,
    "start_time": "2021-09-03T06:38:04.053Z"
   },
   {
    "duration": 506,
    "start_time": "2021-09-03T06:38:04.487Z"
   },
   {
    "duration": 620,
    "start_time": "2021-09-03T06:38:04.995Z"
   },
   {
    "duration": 586,
    "start_time": "2021-09-03T06:38:05.618Z"
   },
   {
    "duration": 2362,
    "start_time": "2021-09-03T06:38:51.529Z"
   },
   {
    "duration": 463,
    "start_time": "2021-09-03T06:39:54.735Z"
   },
   {
    "duration": 441,
    "start_time": "2021-09-03T06:40:00.916Z"
   },
   {
    "duration": 1859,
    "start_time": "2021-09-03T06:41:49.190Z"
   },
   {
    "duration": 1763,
    "start_time": "2021-09-03T06:42:34.216Z"
   },
   {
    "duration": 522,
    "start_time": "2021-09-03T06:47:25.514Z"
   },
   {
    "duration": 413,
    "start_time": "2021-09-03T06:47:37.053Z"
   },
   {
    "duration": 103,
    "start_time": "2021-09-03T06:47:37.469Z"
   },
   {
    "duration": 126,
    "start_time": "2021-09-03T06:47:37.575Z"
   },
   {
    "duration": 321,
    "start_time": "2021-09-03T06:47:37.716Z"
   },
   {
    "duration": 342,
    "start_time": "2021-09-03T06:47:38.039Z"
   },
   {
    "duration": 346,
    "start_time": "2021-09-03T06:47:38.384Z"
   },
   {
    "duration": 374,
    "start_time": "2021-09-03T06:47:38.733Z"
   },
   {
    "duration": 333,
    "start_time": "2021-09-03T06:47:39.115Z"
   },
   {
    "duration": 365,
    "start_time": "2021-09-03T06:47:39.451Z"
   },
   {
    "duration": 345,
    "start_time": "2021-09-03T06:47:39.819Z"
   },
   {
    "duration": 351,
    "start_time": "2021-09-03T06:47:40.167Z"
   },
   {
    "duration": 347,
    "start_time": "2021-09-03T06:47:40.521Z"
   },
   {
    "duration": 338,
    "start_time": "2021-09-03T06:47:40.871Z"
   },
   {
    "duration": 335,
    "start_time": "2021-09-03T06:47:41.212Z"
   },
   {
    "duration": 385,
    "start_time": "2021-09-03T06:47:41.549Z"
   },
   {
    "duration": 245,
    "start_time": "2021-09-03T06:47:41.937Z"
   },
   {
    "duration": 446,
    "start_time": "2021-09-03T06:47:42.185Z"
   },
   {
    "duration": 417,
    "start_time": "2021-09-03T06:47:42.634Z"
   },
   {
    "duration": 588,
    "start_time": "2021-09-03T06:47:43.053Z"
   },
   {
    "duration": 576,
    "start_time": "2021-09-03T06:47:43.644Z"
   },
   {
    "duration": 405,
    "start_time": "2021-09-03T06:48:11.360Z"
   },
   {
    "duration": 3,
    "start_time": "2021-09-03T06:53:09.275Z"
   },
   {
    "duration": 327,
    "start_time": "2021-09-03T07:37:42.314Z"
   },
   {
    "duration": 364,
    "start_time": "2021-09-03T07:39:57.879Z"
   },
   {
    "duration": 219,
    "start_time": "2021-09-03T07:40:51.528Z"
   },
   {
    "duration": 224,
    "start_time": "2021-09-03T07:41:03.596Z"
   },
   {
    "duration": 216,
    "start_time": "2021-09-03T07:41:08.895Z"
   },
   {
    "duration": 87,
    "start_time": "2021-09-03T08:22:08.880Z"
   },
   {
    "duration": 3,
    "start_time": "2021-09-03T08:23:02.956Z"
   },
   {
    "duration": 1898,
    "start_time": "2021-09-03T16:32:50.713Z"
   },
   {
    "duration": 97,
    "start_time": "2021-09-03T16:32:52.614Z"
   },
   {
    "duration": 4,
    "start_time": "2021-09-03T16:32:52.718Z"
   },
   {
    "duration": 156,
    "start_time": "2021-09-03T16:32:52.725Z"
   },
   {
    "duration": 330,
    "start_time": "2021-09-03T16:32:52.884Z"
   },
   {
    "duration": 351,
    "start_time": "2021-09-03T16:32:53.216Z"
   },
   {
    "duration": 342,
    "start_time": "2021-09-03T16:32:53.571Z"
   },
   {
    "duration": 351,
    "start_time": "2021-09-03T16:32:53.916Z"
   },
   {
    "duration": 325,
    "start_time": "2021-09-03T16:32:54.270Z"
   },
   {
    "duration": 3,
    "start_time": "2021-09-03T16:32:54.597Z"
   },
   {
    "duration": 345,
    "start_time": "2021-09-03T16:32:54.602Z"
   },
   {
    "duration": 352,
    "start_time": "2021-09-03T16:32:54.950Z"
   },
   {
    "duration": 430,
    "start_time": "2021-09-03T16:32:55.304Z"
   },
   {
    "duration": 348,
    "start_time": "2021-09-03T16:32:55.736Z"
   },
   {
    "duration": 333,
    "start_time": "2021-09-03T16:32:56.086Z"
   },
   {
    "duration": 330,
    "start_time": "2021-09-03T16:32:56.422Z"
   },
   {
    "duration": 366,
    "start_time": "2021-09-03T16:32:56.755Z"
   },
   {
    "duration": 229,
    "start_time": "2021-09-03T16:32:57.124Z"
   },
   {
    "duration": 449,
    "start_time": "2021-09-03T16:32:57.356Z"
   },
   {
    "duration": 520,
    "start_time": "2021-09-03T16:32:57.808Z"
   },
   {
    "duration": 1075,
    "start_time": "2021-09-03T16:32:58.333Z"
   },
   {
    "duration": 1016,
    "start_time": "2021-09-03T16:32:59.417Z"
   },
   {
    "duration": 1870,
    "start_time": "2021-09-03T16:33:00.436Z"
   },
   {
    "duration": 1773,
    "start_time": "2021-09-03T16:33:02.309Z"
   },
   {
    "duration": 443,
    "start_time": "2021-09-03T16:33:04.085Z"
   },
   {
    "duration": 407,
    "start_time": "2021-09-03T16:33:04.532Z"
   },
   {
    "duration": 3,
    "start_time": "2021-09-03T16:33:04.941Z"
   },
   {
    "duration": 7,
    "start_time": "2021-09-03T16:33:04.947Z"
   },
   {
    "duration": 330,
    "start_time": "2021-09-03T23:52:29.633Z"
   },
   {
    "duration": 1943,
    "start_time": "2021-09-03T23:52:36.542Z"
   },
   {
    "duration": 77,
    "start_time": "2021-09-03T23:52:38.488Z"
   },
   {
    "duration": 15,
    "start_time": "2021-09-03T23:52:38.568Z"
   },
   {
    "duration": 129,
    "start_time": "2021-09-03T23:52:38.586Z"
   },
   {
    "duration": 293,
    "start_time": "2021-09-03T23:52:38.718Z"
   },
   {
    "duration": 310,
    "start_time": "2021-09-03T23:52:39.014Z"
   },
   {
    "duration": 316,
    "start_time": "2021-09-03T23:52:39.326Z"
   },
   {
    "duration": 349,
    "start_time": "2021-09-03T23:52:39.646Z"
   },
   {
    "duration": 324,
    "start_time": "2021-09-03T23:52:39.998Z"
   },
   {
    "duration": 3,
    "start_time": "2021-09-03T23:52:40.324Z"
   },
   {
    "duration": 333,
    "start_time": "2021-09-03T23:52:40.329Z"
   },
   {
    "duration": 319,
    "start_time": "2021-09-03T23:52:40.666Z"
   },
   {
    "duration": 386,
    "start_time": "2021-09-03T23:52:40.988Z"
   },
   {
    "duration": 323,
    "start_time": "2021-09-03T23:52:41.376Z"
   },
   {
    "duration": 293,
    "start_time": "2021-09-03T23:52:41.702Z"
   },
   {
    "duration": 299,
    "start_time": "2021-09-03T23:52:41.998Z"
   },
   {
    "duration": 335,
    "start_time": "2021-09-03T23:52:42.300Z"
   },
   {
    "duration": 218,
    "start_time": "2021-09-03T23:52:42.637Z"
   },
   {
    "duration": 371,
    "start_time": "2021-09-03T23:52:42.857Z"
   },
   {
    "duration": 307,
    "start_time": "2021-09-03T23:53:13.756Z"
   },
   {
    "duration": 3,
    "start_time": "2021-09-03T23:53:18.584Z"
   },
   {
    "duration": 347,
    "start_time": "2021-09-04T01:18:00.745Z"
   },
   {
    "duration": 5,
    "start_time": "2021-09-04T01:18:12.788Z"
   },
   {
    "duration": 300,
    "start_time": "2021-09-04T01:18:12.796Z"
   },
   {
    "duration": 84,
    "start_time": "2021-09-04T01:18:13.099Z"
   },
   {
    "duration": 3,
    "start_time": "2021-09-04T01:18:13.186Z"
   },
   {
    "duration": 113,
    "start_time": "2021-09-04T01:18:16.634Z"
   },
   {
    "duration": 1325,
    "start_time": "2021-09-04T01:18:26.201Z"
   },
   {
    "duration": 4,
    "start_time": "2021-09-04T01:18:30.252Z"
   },
   {
    "duration": 313,
    "start_time": "2021-09-04T01:18:30.259Z"
   },
   {
    "duration": 84,
    "start_time": "2021-09-04T01:18:30.575Z"
   },
   {
    "duration": 3,
    "start_time": "2021-09-04T01:18:30.662Z"
   },
   {
    "duration": 116,
    "start_time": "2021-09-04T01:18:30.684Z"
   },
   {
    "duration": 319,
    "start_time": "2021-09-04T01:18:30.803Z"
   },
   {
    "duration": 312,
    "start_time": "2021-09-04T01:18:31.125Z"
   },
   {
    "duration": 332,
    "start_time": "2021-09-04T01:18:31.443Z"
   },
   {
    "duration": 327,
    "start_time": "2021-09-04T01:18:31.782Z"
   },
   {
    "duration": 385,
    "start_time": "2021-09-04T01:18:32.113Z"
   },
   {
    "duration": 4,
    "start_time": "2021-09-04T01:18:32.501Z"
   },
   {
    "duration": 335,
    "start_time": "2021-09-04T01:18:32.508Z"
   },
   {
    "duration": 316,
    "start_time": "2021-09-04T01:18:32.846Z"
   },
   {
    "duration": 326,
    "start_time": "2021-09-04T01:18:33.165Z"
   },
   {
    "duration": 320,
    "start_time": "2021-09-04T01:18:33.494Z"
   },
   {
    "duration": 323,
    "start_time": "2021-09-04T01:18:33.817Z"
   },
   {
    "duration": 339,
    "start_time": "2021-09-04T01:18:34.144Z"
   },
   {
    "duration": 359,
    "start_time": "2021-09-04T01:18:34.486Z"
   },
   {
    "duration": 229,
    "start_time": "2021-09-04T01:18:34.848Z"
   },
   {
    "duration": 376,
    "start_time": "2021-09-04T01:18:35.084Z"
   },
   {
    "duration": 361,
    "start_time": "2021-09-04T01:18:35.464Z"
   },
   {
    "duration": 625,
    "start_time": "2021-09-04T01:18:35.829Z"
   },
   {
    "duration": 496,
    "start_time": "2021-09-04T01:18:36.461Z"
   },
   {
    "duration": 1650,
    "start_time": "2021-09-04T01:18:36.960Z"
   },
   {
    "duration": 1679,
    "start_time": "2021-09-04T01:18:38.613Z"
   },
   {
    "duration": 491,
    "start_time": "2021-09-04T01:18:40.295Z"
   },
   {
    "duration": 393,
    "start_time": "2021-09-04T01:18:40.792Z"
   },
   {
    "duration": 4,
    "start_time": "2021-09-04T01:18:41.187Z"
   },
   {
    "duration": 7,
    "start_time": "2021-09-04T01:18:41.193Z"
   },
   {
    "duration": 267,
    "start_time": "2021-09-04T05:42:48.776Z"
   },
   {
    "duration": 4,
    "start_time": "2021-09-04T05:42:58.474Z"
   },
   {
    "duration": 314,
    "start_time": "2021-09-04T05:42:58.481Z"
   },
   {
    "duration": 4,
    "start_time": "2021-09-04T05:43:09.829Z"
   },
   {
    "duration": 298,
    "start_time": "2021-09-04T05:43:09.836Z"
   },
   {
    "duration": 80,
    "start_time": "2021-09-04T05:44:00.589Z"
   },
   {
    "duration": 18,
    "start_time": "2021-09-04T05:44:22.445Z"
   },
   {
    "duration": 4,
    "start_time": "2021-09-04T05:44:30.358Z"
   },
   {
    "duration": 301,
    "start_time": "2021-09-04T05:44:30.364Z"
   },
   {
    "duration": 24,
    "start_time": "2021-09-04T05:44:34.893Z"
   },
   {
    "duration": 282,
    "start_time": "2021-09-04T05:44:41.287Z"
   },
   {
    "duration": 27,
    "start_time": "2021-09-04T05:44:52.860Z"
   },
   {
    "duration": 110,
    "start_time": "2021-09-04T05:45:16.480Z"
   },
   {
    "duration": 115,
    "start_time": "2021-09-04T05:48:08.213Z"
   },
   {
    "duration": 117,
    "start_time": "2021-09-04T05:48:15.369Z"
   },
   {
    "duration": 86,
    "start_time": "2021-09-04T05:50:42.265Z"
   },
   {
    "duration": 256,
    "start_time": "2021-09-04T05:54:33.456Z"
   },
   {
    "duration": 401,
    "start_time": "2021-09-04T05:54:57.482Z"
   },
   {
    "duration": 363,
    "start_time": "2021-09-04T05:55:08.196Z"
   },
   {
    "duration": 372,
    "start_time": "2021-09-04T05:55:39.396Z"
   },
   {
    "duration": 384,
    "start_time": "2021-09-04T05:56:26.801Z"
   },
   {
    "duration": 495,
    "start_time": "2021-09-04T05:57:12.710Z"
   },
   {
    "duration": 370,
    "start_time": "2021-09-04T05:57:24.016Z"
   },
   {
    "duration": 537,
    "start_time": "2021-09-04T05:57:51.678Z"
   },
   {
    "duration": 518,
    "start_time": "2021-09-04T05:58:36.190Z"
   }
  ],
  "kernelspec": {
   "display_name": "Python 3 (ipykernel)",
   "language": "python",
   "name": "python3"
  },
  "language_info": {
   "codemirror_mode": {
    "name": "ipython",
    "version": 3
   },
   "file_extension": ".py",
   "mimetype": "text/x-python",
   "name": "python",
   "nbconvert_exporter": "python",
   "pygments_lexer": "ipython3",
   "version": "3.9.7"
  },
  "toc": {
   "base_numbering": 1,
   "nav_menu": {},
   "number_sections": true,
   "sideBar": true,
   "skip_h1_title": true,
   "title_cell": "Table of Contents",
   "title_sidebar": "Contents",
   "toc_cell": false,
   "toc_position": {},
   "toc_section_display": true,
   "toc_window_display": false
  }
 },
 "nbformat": 4,
 "nbformat_minor": 2
}
