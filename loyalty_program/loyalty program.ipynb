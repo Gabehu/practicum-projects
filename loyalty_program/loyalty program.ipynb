{
 "cells": [
  {
   "cell_type": "markdown",
   "id": "7e8594c2",
   "metadata": {},
   "source": [
    "## Loyalty Program Analysis\n",
    "Dataset contains data on purchases made at the building-material retailer Home World. Analyze the store's loyalty program and do the following tasks:\n",
    "- Carry out exploratory data analysis\n",
    "- Analyze the loyalty program\n",
    "- Formulate and test statsistical hypotheses"
   ]
  },
  {
   "cell_type": "markdown",
   "id": "5a38ca6f",
   "metadata": {},
   "source": [
    "## Dashboard\n",
    "https://public.tableau.com/views/RetailPurchasesDashboard/FinalDashboard?:language=en-US&:display_count=n&:origin=viz_share_link"
   ]
  },
  {
   "cell_type": "markdown",
   "id": "c7620315",
   "metadata": {},
   "source": [
    "## Presentation\n",
    "https://drive.google.com/file/d/11OcK1N_drTXHJRLHhd3fN0kY8py7OmEP/view?usp=sharing"
   ]
  },
  {
   "cell_type": "markdown",
   "id": "2bf4f47f",
   "metadata": {},
   "source": [
    "### Data Preprocessing\n",
    "- Importing the data\n",
    "- Changing datatypes on dates\n",
    "- Changing datatypes in general (float to int)\n",
    "- Checking for duplicates and missing values and taking action if necessary"
   ]
  },
  {
   "cell_type": "code",
   "execution_count": 53,
   "id": "3bff7d13",
   "metadata": {},
   "outputs": [],
   "source": [
    "#import pandas and other important libraries\n",
    "import pandas as pd\n",
    "import warnings\n",
    "import matplotlib.pyplot as plt\n",
    "import numpy as np\n",
    "from scipy import stats as st\n",
    "import seaborn as sns\n",
    "import scipy.stats as stats\n",
    "import plotly.express as px\n",
    "from plotly import graph_objects as go\n",
    "import re\n",
    "import math as mth\n",
    "from statsmodels.stats.proportion import proportions_ztest\n",
    "from datetime import datetime\n",
    "from datetime import timedelta\n",
    "from scipy.stats import levene\n",
    "\n",
    "warnings.filterwarnings('ignore')"
   ]
  },
  {
   "cell_type": "code",
   "execution_count": 54,
   "id": "2bacdab8",
   "metadata": {},
   "outputs": [],
   "source": [
    "#read all input data and assign each dataset to a variable\n",
    "try:\n",
    "    retail = pd.read_csv('retail_dataset_us.csv', parse_dates=['purchasedate'])\n",
    "except:\n",
    "    retail = pd.read_csv('/datasets/retail_dataset_us.csv', parse_dates=['purchasedate'])\n",
    "    \n",
    "try:\n",
    "    products = pd.read_csv('product_codes_us.csv', sep=';')\n",
    "except:\n",
    "    products = pd.read_csv('/datasets/product_codes_us.csv', sep=';')"
   ]
  },
  {
   "cell_type": "code",
   "execution_count": 55,
   "id": "ad6ae795",
   "metadata": {},
   "outputs": [
    {
     "name": "stdout",
     "output_type": "stream",
     "text": [
      "<class 'pandas.core.frame.DataFrame'>\n",
      "RangeIndex: 105335 entries, 0 to 105334\n",
      "Data columns (total 7 columns):\n",
      " #   Column           Non-Null Count   Dtype         \n",
      "---  ------           --------------   -----         \n",
      " 0   purchaseid       105335 non-null  object        \n",
      " 1   item_ID          105335 non-null  object        \n",
      " 2   Quantity         105335 non-null  int64         \n",
      " 3   purchasedate     105335 non-null  datetime64[ns]\n",
      " 4   CustomerID       69125 non-null   float64       \n",
      " 5   loyalty_program  105335 non-null  int64         \n",
      " 6   ShopID           105335 non-null  object        \n",
      "dtypes: datetime64[ns](1), float64(1), int64(2), object(3)\n",
      "memory usage: 5.6+ MB\n",
      "\n",
      "Number of duplicates found:  1033\n",
      "\n",
      "Number of duplicates found:  0\n",
      "\n",
      "Number of missing values found: \n",
      "purchaseid             0\n",
      "item_ID                0\n",
      "Quantity               0\n",
      "purchasedate           0\n",
      "CustomerID         36148\n",
      "loyalty_program        0\n",
      "ShopID                 0\n",
      "dtype: int64\n"
     ]
    },
    {
     "data": {
      "text/html": [
       "<div>\n",
       "<style scoped>\n",
       "    .dataframe tbody tr th:only-of-type {\n",
       "        vertical-align: middle;\n",
       "    }\n",
       "\n",
       "    .dataframe tbody tr th {\n",
       "        vertical-align: top;\n",
       "    }\n",
       "\n",
       "    .dataframe thead th {\n",
       "        text-align: right;\n",
       "    }\n",
       "</style>\n",
       "<table border=\"1\" class=\"dataframe\">\n",
       "  <thead>\n",
       "    <tr style=\"text-align: right;\">\n",
       "      <th></th>\n",
       "      <th>purchaseid</th>\n",
       "      <th>item_ID</th>\n",
       "      <th>Quantity</th>\n",
       "      <th>purchasedate</th>\n",
       "      <th>CustomerID</th>\n",
       "      <th>loyalty_program</th>\n",
       "      <th>ShopID</th>\n",
       "      <th>Date</th>\n",
       "      <th>Time</th>\n",
       "    </tr>\n",
       "  </thead>\n",
       "  <tbody>\n",
       "    <tr>\n",
       "      <th>0</th>\n",
       "      <td>538280</td>\n",
       "      <td>21873</td>\n",
       "      <td>11</td>\n",
       "      <td>2016-12-10 12:50:00</td>\n",
       "      <td>18427.0</td>\n",
       "      <td>0</td>\n",
       "      <td>Shop 3</td>\n",
       "      <td>2016-12-10</td>\n",
       "      <td>12:50:00</td>\n",
       "    </tr>\n",
       "    <tr>\n",
       "      <th>1</th>\n",
       "      <td>538862</td>\n",
       "      <td>22195</td>\n",
       "      <td>0</td>\n",
       "      <td>2016-12-14 14:11:00</td>\n",
       "      <td>22389.0</td>\n",
       "      <td>1</td>\n",
       "      <td>Shop 2</td>\n",
       "      <td>2016-12-14</td>\n",
       "      <td>14:11:00</td>\n",
       "    </tr>\n",
       "    <tr>\n",
       "      <th>2</th>\n",
       "      <td>538855</td>\n",
       "      <td>21239</td>\n",
       "      <td>7</td>\n",
       "      <td>2016-12-14 13:50:00</td>\n",
       "      <td>22182.0</td>\n",
       "      <td>1</td>\n",
       "      <td>Shop 3</td>\n",
       "      <td>2016-12-14</td>\n",
       "      <td>13:50:00</td>\n",
       "    </tr>\n",
       "    <tr>\n",
       "      <th>3</th>\n",
       "      <td>543543</td>\n",
       "      <td>22271</td>\n",
       "      <td>0</td>\n",
       "      <td>2017-02-09 15:33:00</td>\n",
       "      <td>23522.0</td>\n",
       "      <td>1</td>\n",
       "      <td>Shop 28</td>\n",
       "      <td>2017-02-09</td>\n",
       "      <td>15:33:00</td>\n",
       "    </tr>\n",
       "    <tr>\n",
       "      <th>4</th>\n",
       "      <td>543812</td>\n",
       "      <td>79321</td>\n",
       "      <td>0</td>\n",
       "      <td>2017-02-13 14:40:00</td>\n",
       "      <td>23151.0</td>\n",
       "      <td>1</td>\n",
       "      <td>Shop 28</td>\n",
       "      <td>2017-02-13</td>\n",
       "      <td>14:40:00</td>\n",
       "    </tr>\n",
       "  </tbody>\n",
       "</table>\n",
       "</div>"
      ],
      "text/plain": [
       "  purchaseid item_ID  Quantity        purchasedate  CustomerID  \\\n",
       "0     538280   21873        11 2016-12-10 12:50:00     18427.0   \n",
       "1     538862   22195         0 2016-12-14 14:11:00     22389.0   \n",
       "2     538855   21239         7 2016-12-14 13:50:00     22182.0   \n",
       "3     543543   22271         0 2017-02-09 15:33:00     23522.0   \n",
       "4     543812   79321         0 2017-02-13 14:40:00     23151.0   \n",
       "\n",
       "   loyalty_program   ShopID       Date      Time  \n",
       "0                0   Shop 3 2016-12-10  12:50:00  \n",
       "1                1   Shop 2 2016-12-14  14:11:00  \n",
       "2                1   Shop 3 2016-12-14  13:50:00  \n",
       "3                1  Shop 28 2017-02-09  15:33:00  \n",
       "4                1  Shop 28 2017-02-13  14:40:00  "
      ]
     },
     "execution_count": 55,
     "metadata": {},
     "output_type": "execute_result"
    }
   ],
   "source": [
    "#checking info and looking for duplicates and missing values\n",
    "retail.info()\n",
    "print('\\nNumber of duplicates found: ', retail.duplicated().sum())\n",
    "retail.drop_duplicates(inplace=True)\n",
    "print('\\nNumber of duplicates found: ', retail.duplicated().sum())\n",
    "print('\\nNumber of missing values found: ')\n",
    "print(retail.isna().sum())\n",
    "\n",
    "#creating new columns for date and time\n",
    "retail['Date'] = pd.DatetimeIndex(retail['purchasedate']).date.astype('datetime64[ns]')\n",
    "retail['Time'] = pd.DatetimeIndex(retail['purchasedate']).time\n",
    "\n",
    "retail.head()"
   ]
  },
  {
   "cell_type": "code",
   "execution_count": 56,
   "id": "b069abb4",
   "metadata": {},
   "outputs": [
    {
     "name": "stdout",
     "output_type": "stream",
     "text": [
      "<class 'pandas.core.frame.DataFrame'>\n",
      "RangeIndex: 3159 entries, 0 to 3158\n",
      "Data columns (total 2 columns):\n",
      " #   Column         Non-Null Count  Dtype  \n",
      "---  ------         --------------  -----  \n",
      " 0   productID      3159 non-null   object \n",
      " 1   price_per_one  3159 non-null   float64\n",
      "dtypes: float64(1), object(1)\n",
      "memory usage: 49.5+ KB\n",
      "\n",
      "Number of duplicates found:  0\n",
      "\n",
      "Number of missing values found: \n",
      "productID        0\n",
      "price_per_one    0\n",
      "dtype: int64\n"
     ]
    },
    {
     "data": {
      "text/html": [
       "<div>\n",
       "<style scoped>\n",
       "    .dataframe tbody tr th:only-of-type {\n",
       "        vertical-align: middle;\n",
       "    }\n",
       "\n",
       "    .dataframe tbody tr th {\n",
       "        vertical-align: top;\n",
       "    }\n",
       "\n",
       "    .dataframe thead th {\n",
       "        text-align: right;\n",
       "    }\n",
       "</style>\n",
       "<table border=\"1\" class=\"dataframe\">\n",
       "  <thead>\n",
       "    <tr style=\"text-align: right;\">\n",
       "      <th></th>\n",
       "      <th>item_ID</th>\n",
       "      <th>price_per_one</th>\n",
       "    </tr>\n",
       "  </thead>\n",
       "  <tbody>\n",
       "    <tr>\n",
       "      <th>0</th>\n",
       "      <td>10002</td>\n",
       "      <td>0.85</td>\n",
       "    </tr>\n",
       "    <tr>\n",
       "      <th>1</th>\n",
       "      <td>10080</td>\n",
       "      <td>0.85</td>\n",
       "    </tr>\n",
       "    <tr>\n",
       "      <th>2</th>\n",
       "      <td>10120</td>\n",
       "      <td>0.21</td>\n",
       "    </tr>\n",
       "    <tr>\n",
       "      <th>3</th>\n",
       "      <td>10123C</td>\n",
       "      <td>0.65</td>\n",
       "    </tr>\n",
       "    <tr>\n",
       "      <th>4</th>\n",
       "      <td>10124A</td>\n",
       "      <td>0.42</td>\n",
       "    </tr>\n",
       "  </tbody>\n",
       "</table>\n",
       "</div>"
      ],
      "text/plain": [
       "  item_ID  price_per_one\n",
       "0   10002           0.85\n",
       "1   10080           0.85\n",
       "2   10120           0.21\n",
       "3  10123C           0.65\n",
       "4  10124A           0.42"
      ]
     },
     "execution_count": 56,
     "metadata": {},
     "output_type": "execute_result"
    }
   ],
   "source": [
    "#checking info and looking for duplicates and missing values\n",
    "products.info()\n",
    "print('\\nNumber of duplicates found: ', products.duplicated().sum())\n",
    "print('\\nNumber of missing values found: ')\n",
    "print(products.isna().sum())\n",
    "products.columns = ['item_ID', 'price_per_one']\n",
    "products.head()"
   ]
  },
  {
   "cell_type": "code",
   "execution_count": 57,
   "id": "90b7b74d",
   "metadata": {},
   "outputs": [
    {
     "data": {
      "text/html": [
       "<div>\n",
       "<style scoped>\n",
       "    .dataframe tbody tr th:only-of-type {\n",
       "        vertical-align: middle;\n",
       "    }\n",
       "\n",
       "    .dataframe tbody tr th {\n",
       "        vertical-align: top;\n",
       "    }\n",
       "\n",
       "    .dataframe thead th {\n",
       "        text-align: right;\n",
       "    }\n",
       "</style>\n",
       "<table border=\"1\" class=\"dataframe\">\n",
       "  <thead>\n",
       "    <tr style=\"text-align: right;\">\n",
       "      <th></th>\n",
       "      <th>purchaseid</th>\n",
       "      <th>item_ID</th>\n",
       "      <th>Quantity</th>\n",
       "      <th>purchasedate</th>\n",
       "      <th>CustomerID</th>\n",
       "      <th>loyalty_program</th>\n",
       "      <th>ShopID</th>\n",
       "      <th>Date</th>\n",
       "      <th>Time</th>\n",
       "      <th>price_per_one</th>\n",
       "    </tr>\n",
       "  </thead>\n",
       "  <tbody>\n",
       "    <tr>\n",
       "      <th>0</th>\n",
       "      <td>538280</td>\n",
       "      <td>21873</td>\n",
       "      <td>11</td>\n",
       "      <td>2016-12-10 12:50:00</td>\n",
       "      <td>18427.0</td>\n",
       "      <td>0</td>\n",
       "      <td>Shop 3</td>\n",
       "      <td>2016-12-10</td>\n",
       "      <td>12:50:00</td>\n",
       "      <td>0.42</td>\n",
       "    </tr>\n",
       "    <tr>\n",
       "      <th>1</th>\n",
       "      <td>538862</td>\n",
       "      <td>22195</td>\n",
       "      <td>0</td>\n",
       "      <td>2016-12-14 14:11:00</td>\n",
       "      <td>22389.0</td>\n",
       "      <td>1</td>\n",
       "      <td>Shop 2</td>\n",
       "      <td>2016-12-14</td>\n",
       "      <td>14:11:00</td>\n",
       "      <td>1.65</td>\n",
       "    </tr>\n",
       "    <tr>\n",
       "      <th>2</th>\n",
       "      <td>538855</td>\n",
       "      <td>21239</td>\n",
       "      <td>7</td>\n",
       "      <td>2016-12-14 13:50:00</td>\n",
       "      <td>22182.0</td>\n",
       "      <td>1</td>\n",
       "      <td>Shop 3</td>\n",
       "      <td>2016-12-14</td>\n",
       "      <td>13:50:00</td>\n",
       "      <td>0.72</td>\n",
       "    </tr>\n",
       "    <tr>\n",
       "      <th>3</th>\n",
       "      <td>543543</td>\n",
       "      <td>22271</td>\n",
       "      <td>0</td>\n",
       "      <td>2017-02-09 15:33:00</td>\n",
       "      <td>23522.0</td>\n",
       "      <td>1</td>\n",
       "      <td>Shop 28</td>\n",
       "      <td>2017-02-09</td>\n",
       "      <td>15:33:00</td>\n",
       "      <td>2.55</td>\n",
       "    </tr>\n",
       "    <tr>\n",
       "      <th>4</th>\n",
       "      <td>543812</td>\n",
       "      <td>79321</td>\n",
       "      <td>0</td>\n",
       "      <td>2017-02-13 14:40:00</td>\n",
       "      <td>23151.0</td>\n",
       "      <td>1</td>\n",
       "      <td>Shop 28</td>\n",
       "      <td>2017-02-13</td>\n",
       "      <td>14:40:00</td>\n",
       "      <td>0.00</td>\n",
       "    </tr>\n",
       "    <tr>\n",
       "      <th>...</th>\n",
       "      <td>...</td>\n",
       "      <td>...</td>\n",
       "      <td>...</td>\n",
       "      <td>...</td>\n",
       "      <td>...</td>\n",
       "      <td>...</td>\n",
       "      <td>...</td>\n",
       "      <td>...</td>\n",
       "      <td>...</td>\n",
       "      <td>...</td>\n",
       "    </tr>\n",
       "    <tr>\n",
       "      <th>104297</th>\n",
       "      <td>538566</td>\n",
       "      <td>21826</td>\n",
       "      <td>1</td>\n",
       "      <td>2016-12-13 11:21:00</td>\n",
       "      <td>NaN</td>\n",
       "      <td>0</td>\n",
       "      <td>Shop 0</td>\n",
       "      <td>2016-12-13</td>\n",
       "      <td>11:21:00</td>\n",
       "      <td>1.25</td>\n",
       "    </tr>\n",
       "    <tr>\n",
       "      <th>104298</th>\n",
       "      <td>540247</td>\n",
       "      <td>21742</td>\n",
       "      <td>0</td>\n",
       "      <td>2017-01-05 15:56:00</td>\n",
       "      <td>21143.0</td>\n",
       "      <td>0</td>\n",
       "      <td>Shop 24</td>\n",
       "      <td>2017-01-05</td>\n",
       "      <td>15:56:00</td>\n",
       "      <td>5.95</td>\n",
       "    </tr>\n",
       "    <tr>\n",
       "      <th>104299</th>\n",
       "      <td>538068</td>\n",
       "      <td>85048</td>\n",
       "      <td>1</td>\n",
       "      <td>2016-12-09 14:05:00</td>\n",
       "      <td>23657.0</td>\n",
       "      <td>1</td>\n",
       "      <td>Shop 16</td>\n",
       "      <td>2016-12-09</td>\n",
       "      <td>14:05:00</td>\n",
       "      <td>6.95</td>\n",
       "    </tr>\n",
       "    <tr>\n",
       "      <th>104300</th>\n",
       "      <td>538207</td>\n",
       "      <td>22818</td>\n",
       "      <td>11</td>\n",
       "      <td>2016-12-10 11:33:00</td>\n",
       "      <td>18427.0</td>\n",
       "      <td>0</td>\n",
       "      <td>Shop 29</td>\n",
       "      <td>2016-12-10</td>\n",
       "      <td>11:33:00</td>\n",
       "      <td>0.42</td>\n",
       "    </tr>\n",
       "    <tr>\n",
       "      <th>104301</th>\n",
       "      <td>543977</td>\n",
       "      <td>22384</td>\n",
       "      <td>9</td>\n",
       "      <td>2017-02-14 15:35:00</td>\n",
       "      <td>21294.0</td>\n",
       "      <td>0</td>\n",
       "      <td>Shop 19</td>\n",
       "      <td>2017-02-14</td>\n",
       "      <td>15:35:00</td>\n",
       "      <td>1.45</td>\n",
       "    </tr>\n",
       "  </tbody>\n",
       "</table>\n",
       "<p>104302 rows × 10 columns</p>\n",
       "</div>"
      ],
      "text/plain": [
       "       purchaseid item_ID  Quantity        purchasedate  CustomerID  \\\n",
       "0          538280   21873        11 2016-12-10 12:50:00     18427.0   \n",
       "1          538862   22195         0 2016-12-14 14:11:00     22389.0   \n",
       "2          538855   21239         7 2016-12-14 13:50:00     22182.0   \n",
       "3          543543   22271         0 2017-02-09 15:33:00     23522.0   \n",
       "4          543812   79321         0 2017-02-13 14:40:00     23151.0   \n",
       "...           ...     ...       ...                 ...         ...   \n",
       "104297     538566   21826         1 2016-12-13 11:21:00         NaN   \n",
       "104298     540247   21742         0 2017-01-05 15:56:00     21143.0   \n",
       "104299     538068   85048         1 2016-12-09 14:05:00     23657.0   \n",
       "104300     538207   22818        11 2016-12-10 11:33:00     18427.0   \n",
       "104301     543977   22384         9 2017-02-14 15:35:00     21294.0   \n",
       "\n",
       "        loyalty_program   ShopID       Date      Time  price_per_one  \n",
       "0                     0   Shop 3 2016-12-10  12:50:00           0.42  \n",
       "1                     1   Shop 2 2016-12-14  14:11:00           1.65  \n",
       "2                     1   Shop 3 2016-12-14  13:50:00           0.72  \n",
       "3                     1  Shop 28 2017-02-09  15:33:00           2.55  \n",
       "4                     1  Shop 28 2017-02-13  14:40:00           0.00  \n",
       "...                 ...      ...        ...       ...            ...  \n",
       "104297                0   Shop 0 2016-12-13  11:21:00           1.25  \n",
       "104298                0  Shop 24 2017-01-05  15:56:00           5.95  \n",
       "104299                1  Shop 16 2016-12-09  14:05:00           6.95  \n",
       "104300                0  Shop 29 2016-12-10  11:33:00           0.42  \n",
       "104301                0  Shop 19 2017-02-14  15:35:00           1.45  \n",
       "\n",
       "[104302 rows x 10 columns]"
      ]
     },
     "execution_count": 57,
     "metadata": {},
     "output_type": "execute_result"
    }
   ],
   "source": [
    "#merging products to retail_full\n",
    "retail_full = retail.merge(products, on='item_ID', how='left')\n",
    "retail_full"
   ]
  },
  {
   "cell_type": "markdown",
   "id": "e69e1df7",
   "metadata": {},
   "source": [
    "##### Conclusion\n",
    "\n",
    "All the necessary data has been converted. There were some duplicated rows, but it was solved with no issue. There are missing values under CustomerID, but I decided to keep it that way. Missing CustomerID most likely just means that the customer didn't sign up, and just purchased directly. \n",
    "\n",
    "I then merged everything together, and now the dataset is ready."
   ]
  },
  {
   "cell_type": "markdown",
   "id": "0bacb1e9",
   "metadata": {},
   "source": [
    "### EDA\n",
    "- Find the first date and end date\n",
    "- Find how many people are in the loyalty program\n",
    "- Find total amount per purchase\n",
    "- Find the average total by loyalty program\n",
    "- Find the average quantity by loyalty program\n",
    "- Find the average purchase frequency by loyalty program\n",
    "- Plot the distribution of purchases by day\n",
    "- Plot out the different stores, see if there is a difference in popularity\n",
    "- Checking which items are bought the most and which are not bought at all\n",
    "\n"
   ]
  },
  {
   "cell_type": "markdown",
   "id": "037b6028",
   "metadata": {},
   "source": [
    "#### Finding first date and end date"
   ]
  },
  {
   "cell_type": "code",
   "execution_count": 58,
   "id": "d258b00b",
   "metadata": {},
   "outputs": [
    {
     "name": "stdout",
     "output_type": "stream",
     "text": [
      "2016-12-01 00:00:00\n",
      "2017-02-28 00:00:00\n"
     ]
    }
   ],
   "source": [
    "#finding first and end date by doing min and max\n",
    "print(retail_full['Date'].min())\n",
    "print(retail_full['Date'].max())"
   ]
  },
  {
   "cell_type": "markdown",
   "id": "8cba18fe",
   "metadata": {},
   "source": [
    "##### Conclusion\n",
    "\n",
    "The first date found in the dataset is 2016 December 1st while the last most recent date is 2017 February 28th"
   ]
  },
  {
   "cell_type": "markdown",
   "id": "7dba3c00",
   "metadata": {},
   "source": [
    "#### How many people are in the loyalty program?"
   ]
  },
  {
   "cell_type": "code",
   "execution_count": 59,
   "id": "1b57e61a",
   "metadata": {},
   "outputs": [
    {
     "data": {
      "text/plain": [
       "0    80890\n",
       "1    23412\n",
       "Name: loyalty_program, dtype: int64"
      ]
     },
     "execution_count": 59,
     "metadata": {},
     "output_type": "execute_result"
    }
   ],
   "source": [
    "#finding how many people are under the loyalty program\n",
    "retail_full['loyalty_program'].value_counts()"
   ]
  },
  {
   "cell_type": "markdown",
   "id": "6514b717",
   "metadata": {},
   "source": [
    "##### Conclusion\n",
    "\n",
    "23412 users are under the loyalty program, which means that 22% of the total users are under the loyalty program"
   ]
  },
  {
   "cell_type": "markdown",
   "id": "d9defbdd",
   "metadata": {},
   "source": [
    "#### Add a new column to the dataset and find total amount per purchase"
   ]
  },
  {
   "cell_type": "code",
   "execution_count": 60,
   "id": "a9b8aba6",
   "metadata": {},
   "outputs": [
    {
     "data": {
      "text/plain": [
       "0       32362\n",
       "1       16137\n",
       "11      10302\n",
       "2        8281\n",
       "5        8059\n",
       "        ...  \n",
       "899         1\n",
       "178         1\n",
       "201         1\n",
       "1299        1\n",
       "2601        1\n",
       "Name: Quantity, Length: 235, dtype: int64"
      ]
     },
     "execution_count": 60,
     "metadata": {},
     "output_type": "execute_result"
    }
   ],
   "source": [
    "#checking to see what values I'm dealing with, and if I have negative values\n",
    "#retail_full['Quantity'].value_counts()\n",
    "\n",
    "#changing negative values to positive\n",
    "retail_full['Quantity'] = retail_full['Quantity'].abs()\n",
    "\n",
    "#checking if there is a difference\n",
    "retail_full['Quantity'].value_counts()"
   ]
  },
  {
   "cell_type": "code",
   "execution_count": 61,
   "id": "78baa704",
   "metadata": {},
   "outputs": [],
   "source": [
    "#adding 1 to each quantity so I can calculate total in the next block.\n",
    "retail_full['Quantity'] += 1"
   ]
  },
  {
   "cell_type": "code",
   "execution_count": 62,
   "id": "41f77d28",
   "metadata": {},
   "outputs": [
    {
     "data": {
      "text/html": [
       "<div>\n",
       "<style scoped>\n",
       "    .dataframe tbody tr th:only-of-type {\n",
       "        vertical-align: middle;\n",
       "    }\n",
       "\n",
       "    .dataframe tbody tr th {\n",
       "        vertical-align: top;\n",
       "    }\n",
       "\n",
       "    .dataframe thead th {\n",
       "        text-align: right;\n",
       "    }\n",
       "</style>\n",
       "<table border=\"1\" class=\"dataframe\">\n",
       "  <thead>\n",
       "    <tr style=\"text-align: right;\">\n",
       "      <th></th>\n",
       "      <th>purchaseid</th>\n",
       "      <th>item_ID</th>\n",
       "      <th>Quantity</th>\n",
       "      <th>purchasedate</th>\n",
       "      <th>CustomerID</th>\n",
       "      <th>loyalty_program</th>\n",
       "      <th>ShopID</th>\n",
       "      <th>Date</th>\n",
       "      <th>Time</th>\n",
       "      <th>price_per_one</th>\n",
       "      <th>Total</th>\n",
       "    </tr>\n",
       "  </thead>\n",
       "  <tbody>\n",
       "    <tr>\n",
       "      <th>0</th>\n",
       "      <td>538280</td>\n",
       "      <td>21873</td>\n",
       "      <td>12</td>\n",
       "      <td>2016-12-10 12:50:00</td>\n",
       "      <td>18427.0</td>\n",
       "      <td>0</td>\n",
       "      <td>Shop 3</td>\n",
       "      <td>2016-12-10</td>\n",
       "      <td>12:50:00</td>\n",
       "      <td>0.42</td>\n",
       "      <td>5.04</td>\n",
       "    </tr>\n",
       "    <tr>\n",
       "      <th>1</th>\n",
       "      <td>538862</td>\n",
       "      <td>22195</td>\n",
       "      <td>1</td>\n",
       "      <td>2016-12-14 14:11:00</td>\n",
       "      <td>22389.0</td>\n",
       "      <td>1</td>\n",
       "      <td>Shop 2</td>\n",
       "      <td>2016-12-14</td>\n",
       "      <td>14:11:00</td>\n",
       "      <td>1.65</td>\n",
       "      <td>1.65</td>\n",
       "    </tr>\n",
       "    <tr>\n",
       "      <th>2</th>\n",
       "      <td>538855</td>\n",
       "      <td>21239</td>\n",
       "      <td>8</td>\n",
       "      <td>2016-12-14 13:50:00</td>\n",
       "      <td>22182.0</td>\n",
       "      <td>1</td>\n",
       "      <td>Shop 3</td>\n",
       "      <td>2016-12-14</td>\n",
       "      <td>13:50:00</td>\n",
       "      <td>0.72</td>\n",
       "      <td>5.76</td>\n",
       "    </tr>\n",
       "    <tr>\n",
       "      <th>3</th>\n",
       "      <td>543543</td>\n",
       "      <td>22271</td>\n",
       "      <td>1</td>\n",
       "      <td>2017-02-09 15:33:00</td>\n",
       "      <td>23522.0</td>\n",
       "      <td>1</td>\n",
       "      <td>Shop 28</td>\n",
       "      <td>2017-02-09</td>\n",
       "      <td>15:33:00</td>\n",
       "      <td>2.55</td>\n",
       "      <td>2.55</td>\n",
       "    </tr>\n",
       "    <tr>\n",
       "      <th>4</th>\n",
       "      <td>543812</td>\n",
       "      <td>79321</td>\n",
       "      <td>1</td>\n",
       "      <td>2017-02-13 14:40:00</td>\n",
       "      <td>23151.0</td>\n",
       "      <td>1</td>\n",
       "      <td>Shop 28</td>\n",
       "      <td>2017-02-13</td>\n",
       "      <td>14:40:00</td>\n",
       "      <td>0.00</td>\n",
       "      <td>0.00</td>\n",
       "    </tr>\n",
       "    <tr>\n",
       "      <th>...</th>\n",
       "      <td>...</td>\n",
       "      <td>...</td>\n",
       "      <td>...</td>\n",
       "      <td>...</td>\n",
       "      <td>...</td>\n",
       "      <td>...</td>\n",
       "      <td>...</td>\n",
       "      <td>...</td>\n",
       "      <td>...</td>\n",
       "      <td>...</td>\n",
       "      <td>...</td>\n",
       "    </tr>\n",
       "    <tr>\n",
       "      <th>104297</th>\n",
       "      <td>538566</td>\n",
       "      <td>21826</td>\n",
       "      <td>2</td>\n",
       "      <td>2016-12-13 11:21:00</td>\n",
       "      <td>NaN</td>\n",
       "      <td>0</td>\n",
       "      <td>Shop 0</td>\n",
       "      <td>2016-12-13</td>\n",
       "      <td>11:21:00</td>\n",
       "      <td>1.25</td>\n",
       "      <td>2.50</td>\n",
       "    </tr>\n",
       "    <tr>\n",
       "      <th>104298</th>\n",
       "      <td>540247</td>\n",
       "      <td>21742</td>\n",
       "      <td>1</td>\n",
       "      <td>2017-01-05 15:56:00</td>\n",
       "      <td>21143.0</td>\n",
       "      <td>0</td>\n",
       "      <td>Shop 24</td>\n",
       "      <td>2017-01-05</td>\n",
       "      <td>15:56:00</td>\n",
       "      <td>5.95</td>\n",
       "      <td>5.95</td>\n",
       "    </tr>\n",
       "    <tr>\n",
       "      <th>104299</th>\n",
       "      <td>538068</td>\n",
       "      <td>85048</td>\n",
       "      <td>2</td>\n",
       "      <td>2016-12-09 14:05:00</td>\n",
       "      <td>23657.0</td>\n",
       "      <td>1</td>\n",
       "      <td>Shop 16</td>\n",
       "      <td>2016-12-09</td>\n",
       "      <td>14:05:00</td>\n",
       "      <td>6.95</td>\n",
       "      <td>13.90</td>\n",
       "    </tr>\n",
       "    <tr>\n",
       "      <th>104300</th>\n",
       "      <td>538207</td>\n",
       "      <td>22818</td>\n",
       "      <td>12</td>\n",
       "      <td>2016-12-10 11:33:00</td>\n",
       "      <td>18427.0</td>\n",
       "      <td>0</td>\n",
       "      <td>Shop 29</td>\n",
       "      <td>2016-12-10</td>\n",
       "      <td>11:33:00</td>\n",
       "      <td>0.42</td>\n",
       "      <td>5.04</td>\n",
       "    </tr>\n",
       "    <tr>\n",
       "      <th>104301</th>\n",
       "      <td>543977</td>\n",
       "      <td>22384</td>\n",
       "      <td>10</td>\n",
       "      <td>2017-02-14 15:35:00</td>\n",
       "      <td>21294.0</td>\n",
       "      <td>0</td>\n",
       "      <td>Shop 19</td>\n",
       "      <td>2017-02-14</td>\n",
       "      <td>15:35:00</td>\n",
       "      <td>1.45</td>\n",
       "      <td>14.50</td>\n",
       "    </tr>\n",
       "  </tbody>\n",
       "</table>\n",
       "<p>104302 rows × 11 columns</p>\n",
       "</div>"
      ],
      "text/plain": [
       "       purchaseid item_ID  Quantity        purchasedate  CustomerID  \\\n",
       "0          538280   21873        12 2016-12-10 12:50:00     18427.0   \n",
       "1          538862   22195         1 2016-12-14 14:11:00     22389.0   \n",
       "2          538855   21239         8 2016-12-14 13:50:00     22182.0   \n",
       "3          543543   22271         1 2017-02-09 15:33:00     23522.0   \n",
       "4          543812   79321         1 2017-02-13 14:40:00     23151.0   \n",
       "...           ...     ...       ...                 ...         ...   \n",
       "104297     538566   21826         2 2016-12-13 11:21:00         NaN   \n",
       "104298     540247   21742         1 2017-01-05 15:56:00     21143.0   \n",
       "104299     538068   85048         2 2016-12-09 14:05:00     23657.0   \n",
       "104300     538207   22818        12 2016-12-10 11:33:00     18427.0   \n",
       "104301     543977   22384        10 2017-02-14 15:35:00     21294.0   \n",
       "\n",
       "        loyalty_program   ShopID       Date      Time  price_per_one  Total  \n",
       "0                     0   Shop 3 2016-12-10  12:50:00           0.42   5.04  \n",
       "1                     1   Shop 2 2016-12-14  14:11:00           1.65   1.65  \n",
       "2                     1   Shop 3 2016-12-14  13:50:00           0.72   5.76  \n",
       "3                     1  Shop 28 2017-02-09  15:33:00           2.55   2.55  \n",
       "4                     1  Shop 28 2017-02-13  14:40:00           0.00   0.00  \n",
       "...                 ...      ...        ...       ...            ...    ...  \n",
       "104297                0   Shop 0 2016-12-13  11:21:00           1.25   2.50  \n",
       "104298                0  Shop 24 2017-01-05  15:56:00           5.95   5.95  \n",
       "104299                1  Shop 16 2016-12-09  14:05:00           6.95  13.90  \n",
       "104300                0  Shop 29 2016-12-10  11:33:00           0.42   5.04  \n",
       "104301                0  Shop 19 2017-02-14  15:35:00           1.45  14.50  \n",
       "\n",
       "[104302 rows x 11 columns]"
      ]
     },
     "execution_count": 62,
     "metadata": {},
     "output_type": "execute_result"
    }
   ],
   "source": [
    "#calculating total for each purchase row\n",
    "retail_full['Total'] = retail_full['price_per_one'] * retail_full['Quantity']\n",
    "retail_full"
   ]
  },
  {
   "cell_type": "markdown",
   "id": "f2973072",
   "metadata": {},
   "source": [
    "The reason why I added 1 to quantity is because some quantities are listed as 0. Seeing this, it would make sense that the customer actually did purchase 1 instead of 0. This also means that if a person had their Quantity listed as 11, it means that they actually purchased 12."
   ]
  },
  {
   "cell_type": "markdown",
   "id": "569f7079",
   "metadata": {},
   "source": [
    "#### Average purchase total between loyalty groups"
   ]
  },
  {
   "cell_type": "code",
   "execution_count": 63,
   "id": "b7d39163",
   "metadata": {},
   "outputs": [],
   "source": [
    "#separating retail_full by those who are under the loyalty program for future tasks\n",
    "loyalty1 = retail_full.query('loyalty_program == 1')\n",
    "loyalty0 = retail_full.query('loyalty_program == 0')"
   ]
  },
  {
   "cell_type": "code",
   "execution_count": 64,
   "id": "3f4b6cb1",
   "metadata": {},
   "outputs": [
    {
     "name": "stdout",
     "output_type": "stream",
     "text": [
      "Customers NOT under loyalty program average purchase total: 13\n",
      "Customers under loyalty program average purchase total: 14\n"
     ]
    }
   ],
   "source": [
    "print('Customers NOT under loyalty program average purchase total:',round(loyalty0['Total'].mean()))\n",
    "print('Customers under loyalty program average purchase total:',round(loyalty1['Total'].mean()))"
   ]
  },
  {
   "cell_type": "markdown",
   "id": "8997a638",
   "metadata": {},
   "source": [
    "##### Conclusion\n",
    "\n",
    "From looking at the average total from each customers by loyalty program, we can see that the difference isn't much. If anything there IS a slight increase by 1 dollar from customers that are under the loyalty program."
   ]
  },
  {
   "cell_type": "markdown",
   "id": "30f92b0e",
   "metadata": {},
   "source": [
    "#### Average purchase quantity between loyalty groups"
   ]
  },
  {
   "cell_type": "code",
   "execution_count": 65,
   "id": "8d56ed91",
   "metadata": {},
   "outputs": [
    {
     "name": "stdout",
     "output_type": "stream",
     "text": [
      "Customers NOT under loyalty program average quantity: 11\n",
      "Customers under loyalty program average quantity: 11\n"
     ]
    }
   ],
   "source": [
    "print('Customers NOT under loyalty program average quantity:',round(loyalty0['Quantity'].mean()))\n",
    "print('Customers under loyalty program average quantity:',round(loyalty1['Quantity'].mean()))"
   ]
  },
  {
   "cell_type": "markdown",
   "id": "284f024c",
   "metadata": {},
   "source": [
    "##### Conclusion\n",
    "\n",
    "Looking at the average quantity purchased from each customer by loyalty program, we can see that there is no visible difference. "
   ]
  },
  {
   "cell_type": "markdown",
   "id": "fc04b0b3",
   "metadata": {},
   "source": [
    "#### Average purchase frequency for loyal/non-loyal customers"
   ]
  },
  {
   "cell_type": "code",
   "execution_count": 66,
   "id": "ba793ac4",
   "metadata": {},
   "outputs": [
    {
     "name": "stdout",
     "output_type": "stream",
     "text": [
      "Customers NOT under loyalty program average purchase frequency: 23\n",
      "Customers under loyalty program average purchase frequency: 17\n"
     ]
    }
   ],
   "source": [
    "print('Customers NOT under loyalty program average purchase frequency:',round(loyalty0['purchaseid'].value_counts().mean()))\n",
    "print('Customers under loyalty program average purchase frequency:',round(loyalty1['purchaseid'].value_counts().mean()))"
   ]
  },
  {
   "cell_type": "markdown",
   "id": "d4b16a3d",
   "metadata": {},
   "source": [
    "##### Conclusion\n",
    "\n",
    "From the average purchase frequency for loyal/non-loyal customers, we can see that customers NOT under the program have an average frequency of 23 purchases. Interestingly enough, customers under the loyalty program have the average frequency of 17, which is surprisingly lower considering the fact that loyalty customers get special offers, discounts, and more incentive to come back to the store."
   ]
  },
  {
   "cell_type": "markdown",
   "id": "baf1c984",
   "metadata": {},
   "source": [
    "#### What are the purchases distributed by day?"
   ]
  },
  {
   "cell_type": "code",
   "execution_count": 67,
   "id": "dd32e7be",
   "metadata": {},
   "outputs": [
    {
     "data": {
      "image/png": "[encoded data removed]",
      "text/plain": [
       "<Figure size 1224x432 with 1 Axes>"
      ]
     },
     "metadata": {
      "needs_background": "light"
     },
     "output_type": "display_data"
    }
   ],
   "source": [
    "#plotting the graph\n",
    "plt.figure(figsize= (17, 6))\n",
    "retail_full['Date'].hist(bins=45)\n",
    "plt.xticks(rotation=30)\n",
    "plt.title('Number of event purchases distributed by dates')\n",
    "plt.xlabel('Dates')\n",
    "plt.ylabel('Number of events')\n",
    "plt.show()"
   ]
  },
  {
   "cell_type": "markdown",
   "id": "6c1588e0",
   "metadata": {},
   "source": [
    "##### Conclusion\n",
    "\n",
    "From this graph, we learn learn the purchases from each customer distributed by day. The day with the most number of purchases (peaking near 5k) is around the 6th of December 2016."
   ]
  },
  {
   "cell_type": "markdown",
   "id": "aa59fe83",
   "metadata": {},
   "source": [
    "#### Plot out the different stores, see if there is a difference in popularity"
   ]
  },
  {
   "cell_type": "code",
   "execution_count": 68,
   "id": "d841c9e9",
   "metadata": {
    "scrolled": false
   },
   "outputs": [
    {
     "data": {
      "image/png": "[encoded data removed]",
      "text/plain": [
       "<Figure size 1224x432 with 1 Axes>"
      ]
     },
     "metadata": {
      "needs_background": "light"
     },
     "output_type": "display_data"
    }
   ],
   "source": [
    "#plotting the graph\n",
    "plt.figure(figsize= (17, 6))\n",
    "loyalty0['ShopID'].hist(bins=45, label='Loyalty 0', alpha = 0.7)\n",
    "loyalty1['ShopID'].hist(bins=45, label='Loyalty 1', alpha = 0.7)\n",
    "plt.xticks(rotation=30)\n",
    "plt.title('Number of event purchases distributed by shop popularity')\n",
    "plt.xlabel('Shops')\n",
    "plt.ylabel('Number of events')\n",
    "plt.legend()\n",
    "plt.show()"
   ]
  },
  {
   "cell_type": "code",
   "execution_count": 69,
   "id": "ce4944f0",
   "metadata": {
    "scrolled": false
   },
   "outputs": [
    {
     "data": {
      "text/plain": [
       "Shop 0     38303\n",
       "Shop 1      2689\n",
       "Shop 15     2679\n",
       "Shop 24     2624\n",
       "Shop 22     2538\n",
       "Shop 5      2469\n",
       "Shop 9      2447\n",
       "Shop 13     2411\n",
       "Shop 20     2402\n",
       "Shop 14     2366\n",
       "Shop 30     2359\n",
       "Shop 7      2311\n",
       "Shop 28     2306\n",
       "Shop 26     2299\n",
       "Shop 27     2296\n",
       "Shop 11     2274\n",
       "Shop 2      2224\n",
       "Shop 19     2209\n",
       "Shop 29     2181\n",
       "Shop 10     2181\n",
       "Shop 17     2164\n",
       "Shop 23     2041\n",
       "Shop 18     1995\n",
       "Shop 4      1964\n",
       "Shop 8      1963\n",
       "Shop 16     1920\n",
       "Shop 25     1902\n",
       "Shop 12     1758\n",
       "Shop 3      1703\n",
       "Shop 6      1673\n",
       "Shop 21     1651\n",
       "Name: ShopID, dtype: int64"
      ]
     },
     "execution_count": 69,
     "metadata": {},
     "output_type": "execute_result"
    }
   ],
   "source": [
    "#outputting a simple table of how many purchases are made in each shop\n",
    "retail_full['ShopID'].value_counts()"
   ]
  },
  {
   "cell_type": "markdown",
   "id": "4a5bb334",
   "metadata": {},
   "source": [
    "##### Conclusion\n",
    "\n",
    "As we can see with this graph and table, Shop 0 is clearly the winner here having an astounding difference compared to every other store."
   ]
  },
  {
   "cell_type": "markdown",
   "id": "6e26033d",
   "metadata": {},
   "source": [
    "#### Checking which items are bought the most and which are not bought at all"
   ]
  },
  {
   "cell_type": "code",
   "execution_count": 70,
   "id": "2cdd9550",
   "metadata": {},
   "outputs": [
    {
     "name": "stdout",
     "output_type": "stream",
     "text": [
      "These are the items that are the most bought\n",
      "85123A    561\n",
      "22423     497\n",
      "22469     412\n",
      "22720     375\n",
      "85099B    372\n",
      "Name: item_ID, dtype: int64\n",
      "\n",
      "These are the items that are the least bought\n",
      "DCGS0072    1\n",
      "22125       1\n",
      "21226       1\n",
      "84977       1\n",
      "79320       1\n",
      "Name: item_ID, dtype: int64\n"
     ]
    }
   ],
   "source": [
    "print('These are the items that are the most bought')\n",
    "print(retail_full['item_ID'].value_counts().head())\n",
    "print('\\nThese are the items that are the least bought')\n",
    "print(retail_full['item_ID'].value_counts().tail())"
   ]
  },
  {
   "cell_type": "code",
   "execution_count": 71,
   "id": "0305c439",
   "metadata": {},
   "outputs": [
    {
     "name": "stdout",
     "output_type": "stream",
     "text": [
      "     item_ID  price_per_one\n",
      "2700  85123A            0.0\n",
      "     item_ID  price_per_one\n",
      "1287   22423            0.0\n",
      "     item_ID  price_per_one\n",
      "1330   22469           1.45\n"
     ]
    }
   ],
   "source": [
    "print(products.query('item_ID == \"85123A\"'))\n",
    "print(products.query('item_ID == \"22423\"'))\n",
    "print(products.query('item_ID == \"22469\"'))"
   ]
  },
  {
   "cell_type": "code",
   "execution_count": 72,
   "id": "16af813b",
   "metadata": {},
   "outputs": [
    {
     "name": "stdout",
     "output_type": "stream",
     "text": [
      "    item_ID  price_per_one\n",
      "428   21226           1.25\n",
      "     item_ID  price_per_one\n",
      "2562   84977            0.0\n",
      "     item_ID  price_per_one\n",
      "2184   79320           4.95\n"
     ]
    }
   ],
   "source": [
    "print(products.query('item_ID == \"21226\"'))\n",
    "print(products.query('item_ID == \"84977\"'))\n",
    "print(products.query('item_ID == \"79320\"'))"
   ]
  },
  {
   "cell_type": "markdown",
   "id": "bfd42e20",
   "metadata": {},
   "source": [
    "##### Conclusion\n",
    "Items that are the most bought, and the least bought are listed above. Most popular being 85123A with 561 purchases, and least bought seemingly a lot.\n",
    "\n",
    "However, when looking into pricing of these most popular and least popular items, we can see that some of these items actually cost 0 per item."
   ]
  },
  {
   "cell_type": "markdown",
   "id": "9d77d529",
   "metadata": {},
   "source": [
    "### Testing null hypotheses regarding if having a loyalty program would get the customers to spend/buy more than those customers that aren't under the program\n",
    "\n",
    "#### The null hypotheses used\n",
    "- H0 is to see if customers under the loyalty program DON'T spend more then those regular customers without the program.\n",
    "- H1 is to see if customers under the loyalty program DO spend more than those regular customers without the program."
   ]
  },
  {
   "cell_type": "code",
   "execution_count": 73,
   "id": "53f696be",
   "metadata": {},
   "outputs": [
    {
     "data": {
      "text/plain": [
       "0.978447836307335"
      ]
     },
     "execution_count": 73,
     "metadata": {},
     "output_type": "execute_result"
    }
   ],
   "source": [
    "stat, p = levene(loyalty0['Total'], loyalty1['Total'])\n",
    "p"
   ]
  },
  {
   "cell_type": "markdown",
   "id": "75073163",
   "metadata": {},
   "source": [
    "Because the p value is close to 1, this suggests that Total has equal variances. Because of this, I will set equal_var on the t-test as True."
   ]
  },
  {
   "cell_type": "code",
   "execution_count": 74,
   "id": "f9ecfa6a",
   "metadata": {},
   "outputs": [
    {
     "name": "stdout",
     "output_type": "stream",
     "text": [
      "p-value: 0.8174724003340338\n",
      "We can't reject the null hypothesis\n"
     ]
    }
   ],
   "source": [
    "#separating retail_full by those who are under the loyalty program for the t-test\n",
    "loyalty1 = retail_full.query('loyalty_program == 1')\n",
    "loyalty0 = retail_full.query('loyalty_program == 0')\n",
    "\n",
    "alpha = 0.05\n",
    "\n",
    "results = st.ttest_ind(loyalty1['Total'], loyalty0['Total'], equal_var = True)\n",
    "\n",
    "print('p-value:', results.pvalue)\n",
    "\n",
    "if(results.pvalue < alpha):\n",
    "    print('We reject the null hypothesis')\n",
    "else:\n",
    "    print(\"We can't reject the null hypothesis\")"
   ]
  },
  {
   "cell_type": "markdown",
   "id": "9576d9fa",
   "metadata": {},
   "source": [
    "##### Conclusion\n",
    "\n",
    "From the t-test i've conducted, we can't reject the null hypothesis, and that customers under the loyalty program DON'T spend more then those regular customers without the program."
   ]
  },
  {
   "cell_type": "markdown",
   "id": "3a406416",
   "metadata": {},
   "source": [
    "#### The null hypotheses used\n",
    "- H0 is to see if customers under the loyalty program DON'T buy more then those regular customers without the program.\n",
    "- H1 is to see if customers under the loyalty program DO buy more than those regular customers without the program."
   ]
  },
  {
   "cell_type": "code",
   "execution_count": 75,
   "id": "5ce20833",
   "metadata": {},
   "outputs": [
    {
     "data": {
      "text/plain": [
       "0.8783813731356556"
      ]
     },
     "execution_count": 75,
     "metadata": {},
     "output_type": "execute_result"
    }
   ],
   "source": [
    "#checking if quantity has equal variances\n",
    "stat, p = levene(loyalty0['Quantity'], loyalty1['Quantity'])\n",
    "p"
   ]
  },
  {
   "cell_type": "markdown",
   "id": "ac204dc5",
   "metadata": {},
   "source": [
    "Because the p value is close to 1, this suggests that Total has equal variances. Because of this, I will set equal_var on the t-test as True."
   ]
  },
  {
   "cell_type": "code",
   "execution_count": 76,
   "id": "5e33069e",
   "metadata": {},
   "outputs": [
    {
     "name": "stdout",
     "output_type": "stream",
     "text": [
      "p-value: 0.9958864529714223\n",
      "We can't reject the null hypothesis\n"
     ]
    }
   ],
   "source": [
    "#separating retail_full by those who are under the loyalty program for the t-test\n",
    "loyalty1 = retail_full.query('loyalty_program == 1')\n",
    "loyalty0 = retail_full.query('loyalty_program == 0')\n",
    "\n",
    "alpha = 0.05\n",
    "\n",
    "results = st.ttest_ind(loyalty1['Quantity'], loyalty0['Quantity'], equal_var = True)\n",
    "\n",
    "print('p-value:', results.pvalue)\n",
    "\n",
    "if(results.pvalue < alpha):\n",
    "    print('We reject the null hypothesis')\n",
    "else:\n",
    "    print(\"We can't reject the null hypothesis\")"
   ]
  },
  {
   "cell_type": "markdown",
   "id": "8a3f31a7",
   "metadata": {},
   "source": [
    "##### Conclusion\n",
    "\n",
    "From the t-test i've conducted, we can't reject the null hypothesis, and that customers under the loyalty program DON'T buy more then those regular customers without the program."
   ]
  },
  {
   "cell_type": "markdown",
   "id": "8312cc2c",
   "metadata": {},
   "source": [
    "## Conclusion\n",
    "\n",
    "From what I can conclude from the t-tests is that there is NO statstical difference between customers that are under the loyalty program and those customers who aren't. Between quantity and final buy total, there is NO statstical difference."
   ]
  },
  {
   "cell_type": "markdown",
   "id": "17f480b2",
   "metadata": {},
   "source": [
    "### Sources"
   ]
  },
  {
   "cell_type": "markdown",
   "id": "215e4fe1",
   "metadata": {},
   "source": [
    "https://stackoverflow.com/questions/29077188/absolute-value-for-column-in-python\n",
    "\n",
    "This article helped me with changing negative values to positive.\n",
    "\n",
    "https://plotly.com/python/bar-charts/\n",
    "\n",
    "This article helped me with the making of bar charts for EDA. With this, I was able to output both loyalty groups for shop purchases, and date purchases.\n",
    "\n",
    "https://www.bristol.ac.uk/medical-school/media/rms/red/which_test.html\n",
    "\n",
    "This source helped me determine which type of test to conduct for my null hypotheses. With this, I was able to conclude that I should use t-test for this type of data.\n",
    "\n",
    "https://scipy.github.io/devdocs/reference/generated/scipy.stats.levene.html?highlight=levene#scipy.stats.levene\n",
    "\n",
    "This doc helped with testing variance, and determining whether or not the variances were equal\n",
    "\n",
    "https://docs.scipy.org/doc/scipy/reference/stats.html\n",
    "\n",
    "This documentation helped me with conducting the actual t-test. I was able to get correct syntex and usage from this page, and it helped with testing my null hypotheses.\n",
    "\n",
    "https://help.tableau.com/current/pro/desktop/en-us/calculations_calculatedfields_formulas.htm\n",
    "\n",
    "This article helped with creating calculated fields for my dashboard, which I then used to calculate % of total.\n",
    "\n",
    "https://community.tableau.com/s/question/0D54T00000C6BQCSA3/size-of-pie-charts\n",
    "\n",
    "This article helped with increasing the size of the pie chart for my dashboard. This helped with making the visual look bigger and nicer "
   ]
  },
  {
   "cell_type": "code",
   "execution_count": null,
   "id": "84cc418f",
   "metadata": {},
   "outputs": [],
   "source": []
  }
 ],
 "metadata": {
  "kernelspec": {
   "display_name": "Python 3 (ipykernel)",
   "language": "python",
   "name": "python3"
  },
  "language_info": {
   "codemirror_mode": {
    "name": "ipython",
    "version": 3
   },
   "file_extension": ".py",
   "mimetype": "text/x-python",
   "name": "python",
   "nbconvert_exporter": "python",
   "pygments_lexer": "ipython3",
   "version": "3.9.7"
  }
 },
 "nbformat": 4,
 "nbformat_minor": 5
}
