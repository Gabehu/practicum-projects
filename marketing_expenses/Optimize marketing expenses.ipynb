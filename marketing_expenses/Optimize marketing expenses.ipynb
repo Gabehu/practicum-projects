{
 "cells": [
  {
   "cell_type": "markdown",
   "metadata": {},
   "source": [
    "# Optimize Marketing Expenses\n",
    "\n",
    "You've been offered an internship in the analytical department at Yandex.Afisha. Your first task is to help optimize marketing expenses."
   ]
  },
  {
   "cell_type": "markdown",
   "metadata": {},
   "source": [
    "# Step 1\n",
    "Store the data on visits, orders, and expenses in variables. Optimize the data for analysis. Make sure each column contains the correct data type."
   ]
  },
  {
   "cell_type": "code",
   "execution_count": 56,
   "metadata": {},
   "outputs": [],
   "source": [
    "#import pandas and other important libraries\n",
    "import pandas as pd\n",
    "import warnings\n",
    "import matplotlib.pyplot as plt\n",
    "import numpy as np\n",
    "from scipy import stats as st\n",
    "import seaborn as sns\n",
    "\n",
    "warnings.filterwarnings('ignore')"
   ]
  },
  {
   "cell_type": "code",
   "execution_count": 57,
   "metadata": {},
   "outputs": [],
   "source": [
    "#read all input data and assign each dataset to a variable\n",
    "\n",
    "#after looking into specifically visits_log_us, we can see there are a lot of optimization using .info(). We apply conversion\n",
    "#in the read csv for less clutter\n",
    "try:\n",
    "    visits = pd.read_csv('visits_log_us.csv', dtype={'Device': 'category'}, parse_dates=['Start Ts', 'End Ts'])\n",
    "except:\n",
    "    visits = pd.read_csv('/datasets/visits_log_us.csv', dtype={'Device': 'category'}, parse_dates=['Start Ts', 'End Ts'])\n",
    "\n",
    "try:\n",
    "    orders = pd.read_csv('orders_log_us.csv', parse_dates=['Buy Ts'])\n",
    "except:\n",
    "    orders = pd.read_csv('/datasets/orders_log_us.csv', parse_dates=['Buy Ts'])\n",
    "\n",
    "try:\n",
    "    costs = pd.read_csv('costs_us.csv', parse_dates=['dt'])\n",
    "except:\n",
    "    costs = pd.read_csv('/datasets/costs_us.csv', parse_dates=['dt'])"
   ]
  },
  {
   "cell_type": "code",
   "execution_count": 58,
   "metadata": {},
   "outputs": [
    {
     "name": "stdout",
     "output_type": "stream",
     "text": [
      "<class 'pandas.core.frame.DataFrame'>\n",
      "RangeIndex: 359400 entries, 0 to 359399\n",
      "Data columns (total 5 columns):\n",
      "Device       359400 non-null category\n",
      "End Ts       359400 non-null datetime64[ns]\n",
      "Source Id    359400 non-null int64\n",
      "Start Ts     359400 non-null datetime64[ns]\n",
      "Uid          359400 non-null uint64\n",
      "dtypes: category(1), datetime64[ns](2), int64(1), uint64(1)\n",
      "memory usage: 11.3 MB\n"
     ]
    },
    {
     "data": {
      "text/html": [
       "<div>\n",
       "<style scoped>\n",
       "    .dataframe tbody tr th:only-of-type {\n",
       "        vertical-align: middle;\n",
       "    }\n",
       "\n",
       "    .dataframe tbody tr th {\n",
       "        vertical-align: top;\n",
       "    }\n",
       "\n",
       "    .dataframe thead th {\n",
       "        text-align: right;\n",
       "    }\n",
       "</style>\n",
       "<table border=\"1\" class=\"dataframe\">\n",
       "  <thead>\n",
       "    <tr style=\"text-align: right;\">\n",
       "      <th></th>\n",
       "      <th>Device</th>\n",
       "      <th>End Ts</th>\n",
       "      <th>Source Id</th>\n",
       "      <th>Start Ts</th>\n",
       "      <th>Uid</th>\n",
       "    </tr>\n",
       "  </thead>\n",
       "  <tbody>\n",
       "    <tr>\n",
       "      <td>0</td>\n",
       "      <td>touch</td>\n",
       "      <td>2017-12-20 17:38:00</td>\n",
       "      <td>4</td>\n",
       "      <td>2017-12-20 17:20:00</td>\n",
       "      <td>16879256277535980062</td>\n",
       "    </tr>\n",
       "    <tr>\n",
       "      <td>1</td>\n",
       "      <td>desktop</td>\n",
       "      <td>2018-02-19 17:21:00</td>\n",
       "      <td>2</td>\n",
       "      <td>2018-02-19 16:53:00</td>\n",
       "      <td>104060357244891740</td>\n",
       "    </tr>\n",
       "    <tr>\n",
       "      <td>2</td>\n",
       "      <td>touch</td>\n",
       "      <td>2017-07-01 01:54:00</td>\n",
       "      <td>5</td>\n",
       "      <td>2017-07-01 01:54:00</td>\n",
       "      <td>7459035603376831527</td>\n",
       "    </tr>\n",
       "    <tr>\n",
       "      <td>3</td>\n",
       "      <td>desktop</td>\n",
       "      <td>2018-05-20 11:23:00</td>\n",
       "      <td>9</td>\n",
       "      <td>2018-05-20 10:59:00</td>\n",
       "      <td>16174680259334210214</td>\n",
       "    </tr>\n",
       "    <tr>\n",
       "      <td>4</td>\n",
       "      <td>desktop</td>\n",
       "      <td>2017-12-27 14:06:00</td>\n",
       "      <td>3</td>\n",
       "      <td>2017-12-27 14:06:00</td>\n",
       "      <td>9969694820036681168</td>\n",
       "    </tr>\n",
       "    <tr>\n",
       "      <td>5</td>\n",
       "      <td>desktop</td>\n",
       "      <td>2017-09-03 21:36:00</td>\n",
       "      <td>5</td>\n",
       "      <td>2017-09-03 21:35:00</td>\n",
       "      <td>16007536194108375387</td>\n",
       "    </tr>\n",
       "    <tr>\n",
       "      <td>6</td>\n",
       "      <td>desktop</td>\n",
       "      <td>2018-01-30 12:09:00</td>\n",
       "      <td>1</td>\n",
       "      <td>2018-01-30 11:13:00</td>\n",
       "      <td>6661610529277171451</td>\n",
       "    </tr>\n",
       "    <tr>\n",
       "      <td>7</td>\n",
       "      <td>touch</td>\n",
       "      <td>2017-11-05 15:15:00</td>\n",
       "      <td>3</td>\n",
       "      <td>2017-11-05 15:14:00</td>\n",
       "      <td>11423865690854540312</td>\n",
       "    </tr>\n",
       "    <tr>\n",
       "      <td>8</td>\n",
       "      <td>desktop</td>\n",
       "      <td>2017-07-19 10:44:00</td>\n",
       "      <td>3</td>\n",
       "      <td>2017-07-19 10:41:00</td>\n",
       "      <td>2987360259350925644</td>\n",
       "    </tr>\n",
       "    <tr>\n",
       "      <td>9</td>\n",
       "      <td>desktop</td>\n",
       "      <td>2017-11-08 13:43:00</td>\n",
       "      <td>5</td>\n",
       "      <td>2017-11-08 13:42:00</td>\n",
       "      <td>1289240080042562063</td>\n",
       "    </tr>\n",
       "    <tr>\n",
       "      <td>10</td>\n",
       "      <td>desktop</td>\n",
       "      <td>2017-07-14 12:44:00</td>\n",
       "      <td>5</td>\n",
       "      <td>2017-07-14 12:43:00</td>\n",
       "      <td>14879997728223227242</td>\n",
       "    </tr>\n",
       "    <tr>\n",
       "      <td>11</td>\n",
       "      <td>desktop</td>\n",
       "      <td>2018-01-25 19:41:00</td>\n",
       "      <td>1</td>\n",
       "      <td>2018-01-25 19:37:00</td>\n",
       "      <td>7478054213403174082</td>\n",
       "    </tr>\n",
       "    <tr>\n",
       "      <td>12</td>\n",
       "      <td>desktop</td>\n",
       "      <td>2018-02-06 15:50:00</td>\n",
       "      <td>4</td>\n",
       "      <td>2018-02-06 15:45:00</td>\n",
       "      <td>8056418121947262981</td>\n",
       "    </tr>\n",
       "    <tr>\n",
       "      <td>13</td>\n",
       "      <td>desktop</td>\n",
       "      <td>2017-11-27 14:43:00</td>\n",
       "      <td>3</td>\n",
       "      <td>2017-11-27 14:42:00</td>\n",
       "      <td>1989613820989570316</td>\n",
       "    </tr>\n",
       "    <tr>\n",
       "      <td>14</td>\n",
       "      <td>touch</td>\n",
       "      <td>2018-04-23 18:01:00</td>\n",
       "      <td>9</td>\n",
       "      <td>2018-04-23 18:00:00</td>\n",
       "      <td>18026419100367255411</td>\n",
       "    </tr>\n",
       "  </tbody>\n",
       "</table>\n",
       "</div>"
      ],
      "text/plain": [
       "     Device              End Ts  Source Id            Start Ts  \\\n",
       "0     touch 2017-12-20 17:38:00          4 2017-12-20 17:20:00   \n",
       "1   desktop 2018-02-19 17:21:00          2 2018-02-19 16:53:00   \n",
       "2     touch 2017-07-01 01:54:00          5 2017-07-01 01:54:00   \n",
       "3   desktop 2018-05-20 11:23:00          9 2018-05-20 10:59:00   \n",
       "4   desktop 2017-12-27 14:06:00          3 2017-12-27 14:06:00   \n",
       "5   desktop 2017-09-03 21:36:00          5 2017-09-03 21:35:00   \n",
       "6   desktop 2018-01-30 12:09:00          1 2018-01-30 11:13:00   \n",
       "7     touch 2017-11-05 15:15:00          3 2017-11-05 15:14:00   \n",
       "8   desktop 2017-07-19 10:44:00          3 2017-07-19 10:41:00   \n",
       "9   desktop 2017-11-08 13:43:00          5 2017-11-08 13:42:00   \n",
       "10  desktop 2017-07-14 12:44:00          5 2017-07-14 12:43:00   \n",
       "11  desktop 2018-01-25 19:41:00          1 2018-01-25 19:37:00   \n",
       "12  desktop 2018-02-06 15:50:00          4 2018-02-06 15:45:00   \n",
       "13  desktop 2017-11-27 14:43:00          3 2017-11-27 14:42:00   \n",
       "14    touch 2018-04-23 18:01:00          9 2018-04-23 18:00:00   \n",
       "\n",
       "                     Uid  \n",
       "0   16879256277535980062  \n",
       "1     104060357244891740  \n",
       "2    7459035603376831527  \n",
       "3   16174680259334210214  \n",
       "4    9969694820036681168  \n",
       "5   16007536194108375387  \n",
       "6    6661610529277171451  \n",
       "7   11423865690854540312  \n",
       "8    2987360259350925644  \n",
       "9    1289240080042562063  \n",
       "10  14879997728223227242  \n",
       "11   7478054213403174082  \n",
       "12   8056418121947262981  \n",
       "13   1989613820989570316  \n",
       "14  18026419100367255411  "
      ]
     },
     "execution_count": 58,
     "metadata": {},
     "output_type": "execute_result"
    }
   ],
   "source": [
    "#doing visits.info to see what data we're working with, and finding it's 13.7+ MB in it's default state\n",
    "#we can also see that end ts and start ts can be converted to datetime\n",
    "#visits.info()\n",
    "\n",
    "#doing value_counts to see what types of devices there are, we can put them under category\n",
    "#visits['Device'].value_counts()\n",
    "\n",
    "#after applying conversion in pd.read_csv, we can see datetime, category, and memory usage changed. It is now 11.3 MB compared \n",
    "#to 13.7+ MB\n",
    "\n",
    "# Sort visits by \"End Ts\" and \"Uid\" before it's used\n",
    "visits.sort_values(by=['End Ts', 'Uid'], ascending=[1,1])\n",
    "visits.info()\n",
    "visits.head(15)"
   ]
  },
  {
   "cell_type": "markdown",
   "metadata": {},
   "source": [
    "<div class=\"alert alert-warning\">\n",
    "<b>Reviewer's comment: </b> Please, pay attention to data frame formatting in your project. Don't forget to use head(), tail(), or sample() when outputting large tables. If you leave everything \"as is\", when you save the project to github, all the tables will expand to their full length and take up most of the project. Plus, the jupyter notebook wastes extra resources when loading such tables. \n",
    "</div>"
   ]
  },
  {
   "cell_type": "code",
   "execution_count": 59,
   "metadata": {},
   "outputs": [
    {
     "name": "stdout",
     "output_type": "stream",
     "text": [
      "<class 'pandas.core.frame.DataFrame'>\n",
      "RangeIndex: 50415 entries, 0 to 50414\n",
      "Data columns (total 3 columns):\n",
      "Buy Ts     50415 non-null datetime64[ns]\n",
      "Revenue    50415 non-null float64\n",
      "Uid        50415 non-null uint64\n",
      "dtypes: datetime64[ns](1), float64(1), uint64(1)\n",
      "memory usage: 1.2 MB\n"
     ]
    },
    {
     "data": {
      "text/html": [
       "<div>\n",
       "<style scoped>\n",
       "    .dataframe tbody tr th:only-of-type {\n",
       "        vertical-align: middle;\n",
       "    }\n",
       "\n",
       "    .dataframe tbody tr th {\n",
       "        vertical-align: top;\n",
       "    }\n",
       "\n",
       "    .dataframe thead th {\n",
       "        text-align: right;\n",
       "    }\n",
       "</style>\n",
       "<table border=\"1\" class=\"dataframe\">\n",
       "  <thead>\n",
       "    <tr style=\"text-align: right;\">\n",
       "      <th></th>\n",
       "      <th>Buy Ts</th>\n",
       "      <th>Revenue</th>\n",
       "      <th>Uid</th>\n",
       "    </tr>\n",
       "  </thead>\n",
       "  <tbody>\n",
       "    <tr>\n",
       "      <td>0</td>\n",
       "      <td>2017-06-01 00:10:00</td>\n",
       "      <td>17.00</td>\n",
       "      <td>10329302124590727494</td>\n",
       "    </tr>\n",
       "    <tr>\n",
       "      <td>1</td>\n",
       "      <td>2017-06-01 00:25:00</td>\n",
       "      <td>0.55</td>\n",
       "      <td>11627257723692907447</td>\n",
       "    </tr>\n",
       "    <tr>\n",
       "      <td>2</td>\n",
       "      <td>2017-06-01 00:27:00</td>\n",
       "      <td>0.37</td>\n",
       "      <td>17903680561304213844</td>\n",
       "    </tr>\n",
       "    <tr>\n",
       "      <td>3</td>\n",
       "      <td>2017-06-01 00:29:00</td>\n",
       "      <td>0.55</td>\n",
       "      <td>16109239769442553005</td>\n",
       "    </tr>\n",
       "    <tr>\n",
       "      <td>4</td>\n",
       "      <td>2017-06-01 07:58:00</td>\n",
       "      <td>0.37</td>\n",
       "      <td>14200605875248379450</td>\n",
       "    </tr>\n",
       "    <tr>\n",
       "      <td>5</td>\n",
       "      <td>2017-06-01 08:43:00</td>\n",
       "      <td>0.18</td>\n",
       "      <td>10402394430196413321</td>\n",
       "    </tr>\n",
       "    <tr>\n",
       "      <td>6</td>\n",
       "      <td>2017-06-01 08:54:00</td>\n",
       "      <td>1.83</td>\n",
       "      <td>12464626743129688638</td>\n",
       "    </tr>\n",
       "    <tr>\n",
       "      <td>7</td>\n",
       "      <td>2017-06-01 09:22:00</td>\n",
       "      <td>1.22</td>\n",
       "      <td>3644482766749211722</td>\n",
       "    </tr>\n",
       "    <tr>\n",
       "      <td>8</td>\n",
       "      <td>2017-06-01 09:22:00</td>\n",
       "      <td>3.30</td>\n",
       "      <td>17542070709969841479</td>\n",
       "    </tr>\n",
       "    <tr>\n",
       "      <td>9</td>\n",
       "      <td>2017-06-01 09:23:00</td>\n",
       "      <td>0.37</td>\n",
       "      <td>1074355127080856382</td>\n",
       "    </tr>\n",
       "  </tbody>\n",
       "</table>\n",
       "</div>"
      ],
      "text/plain": [
       "               Buy Ts  Revenue                   Uid\n",
       "0 2017-06-01 00:10:00    17.00  10329302124590727494\n",
       "1 2017-06-01 00:25:00     0.55  11627257723692907447\n",
       "2 2017-06-01 00:27:00     0.37  17903680561304213844\n",
       "3 2017-06-01 00:29:00     0.55  16109239769442553005\n",
       "4 2017-06-01 07:58:00     0.37  14200605875248379450\n",
       "5 2017-06-01 08:43:00     0.18  10402394430196413321\n",
       "6 2017-06-01 08:54:00     1.83  12464626743129688638\n",
       "7 2017-06-01 09:22:00     1.22   3644482766749211722\n",
       "8 2017-06-01 09:22:00     3.30  17542070709969841479\n",
       "9 2017-06-01 09:23:00     0.37   1074355127080856382"
      ]
     },
     "execution_count": 59,
     "metadata": {},
     "output_type": "execute_result"
    }
   ],
   "source": [
    "#checking to see what datatypes should be replaced, Buy Ts should be datetime. Will be replaced in the initial data import\n",
    "orders.info()\n",
    "\n",
    "#double checking if the conversion worked\n",
    "orders.head(10)"
   ]
  },
  {
   "cell_type": "code",
   "execution_count": 60,
   "metadata": {},
   "outputs": [
    {
     "name": "stdout",
     "output_type": "stream",
     "text": [
      "<class 'pandas.core.frame.DataFrame'>\n",
      "RangeIndex: 2542 entries, 0 to 2541\n",
      "Data columns (total 3 columns):\n",
      "source_id    2542 non-null int64\n",
      "dt           2542 non-null datetime64[ns]\n",
      "costs        2542 non-null float64\n",
      "dtypes: datetime64[ns](1), float64(1), int64(1)\n",
      "memory usage: 59.7 KB\n"
     ]
    },
    {
     "data": {
      "text/html": [
       "<div>\n",
       "<style scoped>\n",
       "    .dataframe tbody tr th:only-of-type {\n",
       "        vertical-align: middle;\n",
       "    }\n",
       "\n",
       "    .dataframe tbody tr th {\n",
       "        vertical-align: top;\n",
       "    }\n",
       "\n",
       "    .dataframe thead th {\n",
       "        text-align: right;\n",
       "    }\n",
       "</style>\n",
       "<table border=\"1\" class=\"dataframe\">\n",
       "  <thead>\n",
       "    <tr style=\"text-align: right;\">\n",
       "      <th></th>\n",
       "      <th>source_id</th>\n",
       "      <th>dt</th>\n",
       "      <th>costs</th>\n",
       "    </tr>\n",
       "  </thead>\n",
       "  <tbody>\n",
       "    <tr>\n",
       "      <td>0</td>\n",
       "      <td>1</td>\n",
       "      <td>2017-06-01</td>\n",
       "      <td>75.20</td>\n",
       "    </tr>\n",
       "    <tr>\n",
       "      <td>1</td>\n",
       "      <td>1</td>\n",
       "      <td>2017-06-02</td>\n",
       "      <td>62.25</td>\n",
       "    </tr>\n",
       "    <tr>\n",
       "      <td>2</td>\n",
       "      <td>1</td>\n",
       "      <td>2017-06-03</td>\n",
       "      <td>36.53</td>\n",
       "    </tr>\n",
       "    <tr>\n",
       "      <td>3</td>\n",
       "      <td>1</td>\n",
       "      <td>2017-06-04</td>\n",
       "      <td>55.00</td>\n",
       "    </tr>\n",
       "    <tr>\n",
       "      <td>4</td>\n",
       "      <td>1</td>\n",
       "      <td>2017-06-05</td>\n",
       "      <td>57.08</td>\n",
       "    </tr>\n",
       "    <tr>\n",
       "      <td>5</td>\n",
       "      <td>1</td>\n",
       "      <td>2017-06-06</td>\n",
       "      <td>40.39</td>\n",
       "    </tr>\n",
       "    <tr>\n",
       "      <td>6</td>\n",
       "      <td>1</td>\n",
       "      <td>2017-06-07</td>\n",
       "      <td>40.59</td>\n",
       "    </tr>\n",
       "    <tr>\n",
       "      <td>7</td>\n",
       "      <td>1</td>\n",
       "      <td>2017-06-08</td>\n",
       "      <td>56.63</td>\n",
       "    </tr>\n",
       "    <tr>\n",
       "      <td>8</td>\n",
       "      <td>1</td>\n",
       "      <td>2017-06-09</td>\n",
       "      <td>40.16</td>\n",
       "    </tr>\n",
       "    <tr>\n",
       "      <td>9</td>\n",
       "      <td>1</td>\n",
       "      <td>2017-06-10</td>\n",
       "      <td>43.24</td>\n",
       "    </tr>\n",
       "    <tr>\n",
       "      <td>10</td>\n",
       "      <td>1</td>\n",
       "      <td>2017-06-11</td>\n",
       "      <td>21.68</td>\n",
       "    </tr>\n",
       "    <tr>\n",
       "      <td>11</td>\n",
       "      <td>1</td>\n",
       "      <td>2017-06-12</td>\n",
       "      <td>27.48</td>\n",
       "    </tr>\n",
       "    <tr>\n",
       "      <td>12</td>\n",
       "      <td>1</td>\n",
       "      <td>2017-06-13</td>\n",
       "      <td>44.66</td>\n",
       "    </tr>\n",
       "    <tr>\n",
       "      <td>13</td>\n",
       "      <td>1</td>\n",
       "      <td>2017-06-14</td>\n",
       "      <td>30.70</td>\n",
       "    </tr>\n",
       "    <tr>\n",
       "      <td>14</td>\n",
       "      <td>1</td>\n",
       "      <td>2017-06-15</td>\n",
       "      <td>39.71</td>\n",
       "    </tr>\n",
       "  </tbody>\n",
       "</table>\n",
       "</div>"
      ],
      "text/plain": [
       "    source_id         dt  costs\n",
       "0           1 2017-06-01  75.20\n",
       "1           1 2017-06-02  62.25\n",
       "2           1 2017-06-03  36.53\n",
       "3           1 2017-06-04  55.00\n",
       "4           1 2017-06-05  57.08\n",
       "5           1 2017-06-06  40.39\n",
       "6           1 2017-06-07  40.59\n",
       "7           1 2017-06-08  56.63\n",
       "8           1 2017-06-09  40.16\n",
       "9           1 2017-06-10  43.24\n",
       "10          1 2017-06-11  21.68\n",
       "11          1 2017-06-12  27.48\n",
       "12          1 2017-06-13  44.66\n",
       "13          1 2017-06-14  30.70\n",
       "14          1 2017-06-15  39.71"
      ]
     },
     "execution_count": 60,
     "metadata": {},
     "output_type": "execute_result"
    }
   ],
   "source": [
    "#checking to see what datatypes should be replaced, dt should be datetime. Will be replaced in the initial data import\n",
    "costs.info()\n",
    "\n",
    "#double checking if the conversion worked\n",
    "costs.head(15)"
   ]
  },
  {
   "cell_type": "markdown",
   "metadata": {},
   "source": [
    "# Step 1 conclusion\n",
    "\n",
    "I was able to optimize the data, and convert some columns to the correct datatype. \n",
    "\n",
    "This included converting start ts, end ts, and dt to datetime. I also converted dtype on device to category to save more memory on the table"
   ]
  },
  {
   "cell_type": "markdown",
   "metadata": {},
   "source": [
    "# Step 2\n",
    "\n",
    "Product\n",
    " - How many people use it every day, week, and month?\n",
    " - How many sessions are there per day? \n",
    " - What is the length of each session?\n",
    " - How often do users come back?\n",
    "\n",
    "Sales\n",
    " - When do people start buying?\n",
    " - How many orders do they make during a given period of time?\n",
    " - What is the average purchase size?\n",
    " - How much money do they bring(LTV)\n",
    "\n",
    "Marketing\n",
    " - How much money was spent? Overall/per source/over time\n",
    " - How much did customer acquisition from each of the sources cost?\n",
    " - How worthwhile were the investments? (ROI)\n",
    "\n",
    "Plot graphs to display how these metrics differ for various devices and ad sources and how they change in time"
   ]
  },
  {
   "cell_type": "markdown",
   "metadata": {},
   "source": [
    "### How many people use it every day, week, and month? (Finding DAU, WAU, MAU)"
   ]
  },
  {
   "cell_type": "code",
   "execution_count": 61,
   "metadata": {},
   "outputs": [
    {
     "name": "stdout",
     "output_type": "stream",
     "text": [
      "<class 'pandas.core.frame.DataFrame'>\n",
      "RangeIndex: 359400 entries, 0 to 359399\n",
      "Data columns (total 8 columns):\n",
      "Device         359400 non-null category\n",
      "End Ts         359400 non-null datetime64[ns]\n",
      "Source Id      359400 non-null int64\n",
      "Start Ts       359400 non-null datetime64[ns]\n",
      "Uid            359400 non-null uint64\n",
      "event_date     359400 non-null datetime64[ns]\n",
      "event_week     359400 non-null datetime64[ns]\n",
      "event_month    359400 non-null datetime64[ns]\n",
      "dtypes: category(1), datetime64[ns](5), int64(1), uint64(1)\n",
      "memory usage: 19.5 MB\n"
     ]
    },
    {
     "data": {
      "text/html": [
       "<div>\n",
       "<style scoped>\n",
       "    .dataframe tbody tr th:only-of-type {\n",
       "        vertical-align: middle;\n",
       "    }\n",
       "\n",
       "    .dataframe tbody tr th {\n",
       "        vertical-align: top;\n",
       "    }\n",
       "\n",
       "    .dataframe thead th {\n",
       "        text-align: right;\n",
       "    }\n",
       "</style>\n",
       "<table border=\"1\" class=\"dataframe\">\n",
       "  <thead>\n",
       "    <tr style=\"text-align: right;\">\n",
       "      <th></th>\n",
       "      <th>Device</th>\n",
       "      <th>End Ts</th>\n",
       "      <th>Source Id</th>\n",
       "      <th>Start Ts</th>\n",
       "      <th>Uid</th>\n",
       "      <th>event_date</th>\n",
       "      <th>event_week</th>\n",
       "      <th>event_month</th>\n",
       "    </tr>\n",
       "  </thead>\n",
       "  <tbody>\n",
       "    <tr>\n",
       "      <td>0</td>\n",
       "      <td>touch</td>\n",
       "      <td>2017-12-20 17:38:00</td>\n",
       "      <td>4</td>\n",
       "      <td>2017-12-20 17:20:00</td>\n",
       "      <td>16879256277535980062</td>\n",
       "      <td>2017-12-20</td>\n",
       "      <td>2017-12-14</td>\n",
       "      <td>2017-12-01</td>\n",
       "    </tr>\n",
       "    <tr>\n",
       "      <td>1</td>\n",
       "      <td>desktop</td>\n",
       "      <td>2018-02-19 17:21:00</td>\n",
       "      <td>2</td>\n",
       "      <td>2018-02-19 16:53:00</td>\n",
       "      <td>104060357244891740</td>\n",
       "      <td>2018-02-19</td>\n",
       "      <td>2018-02-15</td>\n",
       "      <td>2018-02-01</td>\n",
       "    </tr>\n",
       "    <tr>\n",
       "      <td>2</td>\n",
       "      <td>touch</td>\n",
       "      <td>2017-07-01 01:54:00</td>\n",
       "      <td>5</td>\n",
       "      <td>2017-07-01 01:54:00</td>\n",
       "      <td>7459035603376831527</td>\n",
       "      <td>2017-07-01</td>\n",
       "      <td>2017-06-29</td>\n",
       "      <td>2017-07-01</td>\n",
       "    </tr>\n",
       "    <tr>\n",
       "      <td>3</td>\n",
       "      <td>desktop</td>\n",
       "      <td>2018-05-20 11:23:00</td>\n",
       "      <td>9</td>\n",
       "      <td>2018-05-20 10:59:00</td>\n",
       "      <td>16174680259334210214</td>\n",
       "      <td>2018-05-20</td>\n",
       "      <td>2018-05-17</td>\n",
       "      <td>2018-05-01</td>\n",
       "    </tr>\n",
       "    <tr>\n",
       "      <td>4</td>\n",
       "      <td>desktop</td>\n",
       "      <td>2017-12-27 14:06:00</td>\n",
       "      <td>3</td>\n",
       "      <td>2017-12-27 14:06:00</td>\n",
       "      <td>9969694820036681168</td>\n",
       "      <td>2017-12-27</td>\n",
       "      <td>2017-12-21</td>\n",
       "      <td>2017-12-01</td>\n",
       "    </tr>\n",
       "    <tr>\n",
       "      <td>5</td>\n",
       "      <td>desktop</td>\n",
       "      <td>2017-09-03 21:36:00</td>\n",
       "      <td>5</td>\n",
       "      <td>2017-09-03 21:35:00</td>\n",
       "      <td>16007536194108375387</td>\n",
       "      <td>2017-09-03</td>\n",
       "      <td>2017-08-31</td>\n",
       "      <td>2017-09-01</td>\n",
       "    </tr>\n",
       "    <tr>\n",
       "      <td>6</td>\n",
       "      <td>desktop</td>\n",
       "      <td>2018-01-30 12:09:00</td>\n",
       "      <td>1</td>\n",
       "      <td>2018-01-30 11:13:00</td>\n",
       "      <td>6661610529277171451</td>\n",
       "      <td>2018-01-30</td>\n",
       "      <td>2018-01-25</td>\n",
       "      <td>2018-01-01</td>\n",
       "    </tr>\n",
       "    <tr>\n",
       "      <td>7</td>\n",
       "      <td>touch</td>\n",
       "      <td>2017-11-05 15:15:00</td>\n",
       "      <td>3</td>\n",
       "      <td>2017-11-05 15:14:00</td>\n",
       "      <td>11423865690854540312</td>\n",
       "      <td>2017-11-05</td>\n",
       "      <td>2017-11-02</td>\n",
       "      <td>2017-11-01</td>\n",
       "    </tr>\n",
       "    <tr>\n",
       "      <td>8</td>\n",
       "      <td>desktop</td>\n",
       "      <td>2017-07-19 10:44:00</td>\n",
       "      <td>3</td>\n",
       "      <td>2017-07-19 10:41:00</td>\n",
       "      <td>2987360259350925644</td>\n",
       "      <td>2017-07-19</td>\n",
       "      <td>2017-07-13</td>\n",
       "      <td>2017-07-01</td>\n",
       "    </tr>\n",
       "    <tr>\n",
       "      <td>9</td>\n",
       "      <td>desktop</td>\n",
       "      <td>2017-11-08 13:43:00</td>\n",
       "      <td>5</td>\n",
       "      <td>2017-11-08 13:42:00</td>\n",
       "      <td>1289240080042562063</td>\n",
       "      <td>2017-11-08</td>\n",
       "      <td>2017-11-02</td>\n",
       "      <td>2017-11-01</td>\n",
       "    </tr>\n",
       "    <tr>\n",
       "      <td>10</td>\n",
       "      <td>desktop</td>\n",
       "      <td>2017-07-14 12:44:00</td>\n",
       "      <td>5</td>\n",
       "      <td>2017-07-14 12:43:00</td>\n",
       "      <td>14879997728223227242</td>\n",
       "      <td>2017-07-14</td>\n",
       "      <td>2017-07-13</td>\n",
       "      <td>2017-07-01</td>\n",
       "    </tr>\n",
       "    <tr>\n",
       "      <td>11</td>\n",
       "      <td>desktop</td>\n",
       "      <td>2018-01-25 19:41:00</td>\n",
       "      <td>1</td>\n",
       "      <td>2018-01-25 19:37:00</td>\n",
       "      <td>7478054213403174082</td>\n",
       "      <td>2018-01-25</td>\n",
       "      <td>2018-01-25</td>\n",
       "      <td>2018-01-01</td>\n",
       "    </tr>\n",
       "    <tr>\n",
       "      <td>12</td>\n",
       "      <td>desktop</td>\n",
       "      <td>2018-02-06 15:50:00</td>\n",
       "      <td>4</td>\n",
       "      <td>2018-02-06 15:45:00</td>\n",
       "      <td>8056418121947262981</td>\n",
       "      <td>2018-02-06</td>\n",
       "      <td>2018-02-01</td>\n",
       "      <td>2018-02-01</td>\n",
       "    </tr>\n",
       "    <tr>\n",
       "      <td>13</td>\n",
       "      <td>desktop</td>\n",
       "      <td>2017-11-27 14:43:00</td>\n",
       "      <td>3</td>\n",
       "      <td>2017-11-27 14:42:00</td>\n",
       "      <td>1989613820989570316</td>\n",
       "      <td>2017-11-27</td>\n",
       "      <td>2017-11-23</td>\n",
       "      <td>2017-11-01</td>\n",
       "    </tr>\n",
       "    <tr>\n",
       "      <td>14</td>\n",
       "      <td>touch</td>\n",
       "      <td>2018-04-23 18:01:00</td>\n",
       "      <td>9</td>\n",
       "      <td>2018-04-23 18:00:00</td>\n",
       "      <td>18026419100367255411</td>\n",
       "      <td>2018-04-23</td>\n",
       "      <td>2018-04-19</td>\n",
       "      <td>2018-04-01</td>\n",
       "    </tr>\n",
       "  </tbody>\n",
       "</table>\n",
       "</div>"
      ],
      "text/plain": [
       "     Device              End Ts  Source Id            Start Ts  \\\n",
       "0     touch 2017-12-20 17:38:00          4 2017-12-20 17:20:00   \n",
       "1   desktop 2018-02-19 17:21:00          2 2018-02-19 16:53:00   \n",
       "2     touch 2017-07-01 01:54:00          5 2017-07-01 01:54:00   \n",
       "3   desktop 2018-05-20 11:23:00          9 2018-05-20 10:59:00   \n",
       "4   desktop 2017-12-27 14:06:00          3 2017-12-27 14:06:00   \n",
       "5   desktop 2017-09-03 21:36:00          5 2017-09-03 21:35:00   \n",
       "6   desktop 2018-01-30 12:09:00          1 2018-01-30 11:13:00   \n",
       "7     touch 2017-11-05 15:15:00          3 2017-11-05 15:14:00   \n",
       "8   desktop 2017-07-19 10:44:00          3 2017-07-19 10:41:00   \n",
       "9   desktop 2017-11-08 13:43:00          5 2017-11-08 13:42:00   \n",
       "10  desktop 2017-07-14 12:44:00          5 2017-07-14 12:43:00   \n",
       "11  desktop 2018-01-25 19:41:00          1 2018-01-25 19:37:00   \n",
       "12  desktop 2018-02-06 15:50:00          4 2018-02-06 15:45:00   \n",
       "13  desktop 2017-11-27 14:43:00          3 2017-11-27 14:42:00   \n",
       "14    touch 2018-04-23 18:01:00          9 2018-04-23 18:00:00   \n",
       "\n",
       "                     Uid event_date event_week event_month  \n",
       "0   16879256277535980062 2017-12-20 2017-12-14  2017-12-01  \n",
       "1     104060357244891740 2018-02-19 2018-02-15  2018-02-01  \n",
       "2    7459035603376831527 2017-07-01 2017-06-29  2017-07-01  \n",
       "3   16174680259334210214 2018-05-20 2018-05-17  2018-05-01  \n",
       "4    9969694820036681168 2017-12-27 2017-12-21  2017-12-01  \n",
       "5   16007536194108375387 2017-09-03 2017-08-31  2017-09-01  \n",
       "6    6661610529277171451 2018-01-30 2018-01-25  2018-01-01  \n",
       "7   11423865690854540312 2017-11-05 2017-11-02  2017-11-01  \n",
       "8    2987360259350925644 2017-07-19 2017-07-13  2017-07-01  \n",
       "9    1289240080042562063 2017-11-08 2017-11-02  2017-11-01  \n",
       "10  14879997728223227242 2017-07-14 2017-07-13  2017-07-01  \n",
       "11   7478054213403174082 2018-01-25 2018-01-25  2018-01-01  \n",
       "12   8056418121947262981 2018-02-06 2018-02-01  2018-02-01  \n",
       "13   1989613820989570316 2017-11-27 2017-11-23  2017-11-01  \n",
       "14  18026419100367255411 2018-04-23 2018-04-19  2018-04-01  "
      ]
     },
     "execution_count": 61,
     "metadata": {},
     "output_type": "execute_result"
    }
   ],
   "source": [
    "#make new columns for date, week, and month\n",
    "visits['event_date'] = visits['Start Ts'].astype('datetime64[D]')\n",
    "visits['event_week'] = visits['Start Ts'].astype('datetime64[W]')\n",
    "visits['event_month'] = visits['Start Ts'].astype('datetime64[M]')\n",
    "\n",
    "#double checking to see if everything is correct\n",
    "visits.info()\n",
    "visits.head(15)"
   ]
  },
  {
   "cell_type": "code",
   "execution_count": 62,
   "metadata": {},
   "outputs": [
    {
     "name": "stdout",
     "output_type": "stream",
     "text": [
      "Number of visits per day is: 908 users\n",
      "Number of visits per week is: 5724 users\n",
      "Number of visits per month is: 23228 users\n"
     ]
    }
   ],
   "source": [
    "#calculating DAU, WAU, and MAU\n",
    "dau_total = visits.groupby('event_date').agg({\"Uid\": 'nunique'}).mean().round()\n",
    "wau_total = visits.groupby('event_week').agg({\"Uid\": 'nunique'}).mean().round()\n",
    "mau_total = visits.groupby('event_month').agg({\"Uid\": 'nunique'}).mean().round()\n",
    "\n",
    "print('Number of visits per day is:', int(dau_total), 'users')\n",
    "print('Number of visits per week is:', int(wau_total), 'users')\n",
    "print('Number of visits per month is:', int(mau_total), 'users')"
   ]
  },
  {
   "cell_type": "markdown",
   "metadata": {},
   "source": [
    "### Conclusion \n",
    "\n",
    "As we can see, there are 908 daily active users, 5724 weekly, and 23228 monthly."
   ]
  },
  {
   "cell_type": "markdown",
   "metadata": {},
   "source": [
    "### How many sessions are there per day?"
   ]
  },
  {
   "cell_type": "code",
   "execution_count": 63,
   "metadata": {},
   "outputs": [
    {
     "name": "stdout",
     "output_type": "stream",
     "text": [
      "The number of sessions per day is:  987\n"
     ]
    }
   ],
   "source": [
    "#doing a groupby event_date so we can find how many users go on each day.\n",
    "sessions_per_day = visits.groupby('event_date').agg({'Start Ts':'count'}).mean().round()\n",
    "print('The number of sessions per day is: ', int(sessions_per_day))"
   ]
  },
  {
   "cell_type": "markdown",
   "metadata": {},
   "source": [
    "### What is the length of each session"
   ]
  },
  {
   "cell_type": "code",
   "execution_count": 64,
   "metadata": {},
   "outputs": [
    {
     "name": "stdout",
     "output_type": "stream",
     "text": [
      "Average length of each session is  0    60\n",
      "dtype: int64 seconds\n"
     ]
    },
    {
     "data": {
      "text/html": [
       "<div>\n",
       "<style scoped>\n",
       "    .dataframe tbody tr th:only-of-type {\n",
       "        vertical-align: middle;\n",
       "    }\n",
       "\n",
       "    .dataframe tbody tr th {\n",
       "        vertical-align: top;\n",
       "    }\n",
       "\n",
       "    .dataframe thead th {\n",
       "        text-align: right;\n",
       "    }\n",
       "</style>\n",
       "<table border=\"1\" class=\"dataframe\">\n",
       "  <thead>\n",
       "    <tr style=\"text-align: right;\">\n",
       "      <th></th>\n",
       "      <th>Device</th>\n",
       "      <th>End Ts</th>\n",
       "      <th>Source Id</th>\n",
       "      <th>Start Ts</th>\n",
       "      <th>Uid</th>\n",
       "      <th>event_date</th>\n",
       "      <th>event_week</th>\n",
       "      <th>event_month</th>\n",
       "      <th>length_of_visits_sec</th>\n",
       "    </tr>\n",
       "  </thead>\n",
       "  <tbody>\n",
       "    <tr>\n",
       "      <td>0</td>\n",
       "      <td>touch</td>\n",
       "      <td>2017-12-20 17:38:00</td>\n",
       "      <td>4</td>\n",
       "      <td>2017-12-20 17:20:00</td>\n",
       "      <td>16879256277535980062</td>\n",
       "      <td>2017-12-20</td>\n",
       "      <td>2017-12-14</td>\n",
       "      <td>2017-12-01</td>\n",
       "      <td>1080</td>\n",
       "    </tr>\n",
       "    <tr>\n",
       "      <td>1</td>\n",
       "      <td>desktop</td>\n",
       "      <td>2018-02-19 17:21:00</td>\n",
       "      <td>2</td>\n",
       "      <td>2018-02-19 16:53:00</td>\n",
       "      <td>104060357244891740</td>\n",
       "      <td>2018-02-19</td>\n",
       "      <td>2018-02-15</td>\n",
       "      <td>2018-02-01</td>\n",
       "      <td>1680</td>\n",
       "    </tr>\n",
       "    <tr>\n",
       "      <td>2</td>\n",
       "      <td>touch</td>\n",
       "      <td>2017-07-01 01:54:00</td>\n",
       "      <td>5</td>\n",
       "      <td>2017-07-01 01:54:00</td>\n",
       "      <td>7459035603376831527</td>\n",
       "      <td>2017-07-01</td>\n",
       "      <td>2017-06-29</td>\n",
       "      <td>2017-07-01</td>\n",
       "      <td>0</td>\n",
       "    </tr>\n",
       "    <tr>\n",
       "      <td>3</td>\n",
       "      <td>desktop</td>\n",
       "      <td>2018-05-20 11:23:00</td>\n",
       "      <td>9</td>\n",
       "      <td>2018-05-20 10:59:00</td>\n",
       "      <td>16174680259334210214</td>\n",
       "      <td>2018-05-20</td>\n",
       "      <td>2018-05-17</td>\n",
       "      <td>2018-05-01</td>\n",
       "      <td>1440</td>\n",
       "    </tr>\n",
       "    <tr>\n",
       "      <td>4</td>\n",
       "      <td>desktop</td>\n",
       "      <td>2017-12-27 14:06:00</td>\n",
       "      <td>3</td>\n",
       "      <td>2017-12-27 14:06:00</td>\n",
       "      <td>9969694820036681168</td>\n",
       "      <td>2017-12-27</td>\n",
       "      <td>2017-12-21</td>\n",
       "      <td>2017-12-01</td>\n",
       "      <td>0</td>\n",
       "    </tr>\n",
       "    <tr>\n",
       "      <td>5</td>\n",
       "      <td>desktop</td>\n",
       "      <td>2017-09-03 21:36:00</td>\n",
       "      <td>5</td>\n",
       "      <td>2017-09-03 21:35:00</td>\n",
       "      <td>16007536194108375387</td>\n",
       "      <td>2017-09-03</td>\n",
       "      <td>2017-08-31</td>\n",
       "      <td>2017-09-01</td>\n",
       "      <td>60</td>\n",
       "    </tr>\n",
       "    <tr>\n",
       "      <td>6</td>\n",
       "      <td>desktop</td>\n",
       "      <td>2018-01-30 12:09:00</td>\n",
       "      <td>1</td>\n",
       "      <td>2018-01-30 11:13:00</td>\n",
       "      <td>6661610529277171451</td>\n",
       "      <td>2018-01-30</td>\n",
       "      <td>2018-01-25</td>\n",
       "      <td>2018-01-01</td>\n",
       "      <td>3360</td>\n",
       "    </tr>\n",
       "    <tr>\n",
       "      <td>7</td>\n",
       "      <td>touch</td>\n",
       "      <td>2017-11-05 15:15:00</td>\n",
       "      <td>3</td>\n",
       "      <td>2017-11-05 15:14:00</td>\n",
       "      <td>11423865690854540312</td>\n",
       "      <td>2017-11-05</td>\n",
       "      <td>2017-11-02</td>\n",
       "      <td>2017-11-01</td>\n",
       "      <td>60</td>\n",
       "    </tr>\n",
       "    <tr>\n",
       "      <td>8</td>\n",
       "      <td>desktop</td>\n",
       "      <td>2017-07-19 10:44:00</td>\n",
       "      <td>3</td>\n",
       "      <td>2017-07-19 10:41:00</td>\n",
       "      <td>2987360259350925644</td>\n",
       "      <td>2017-07-19</td>\n",
       "      <td>2017-07-13</td>\n",
       "      <td>2017-07-01</td>\n",
       "      <td>180</td>\n",
       "    </tr>\n",
       "    <tr>\n",
       "      <td>9</td>\n",
       "      <td>desktop</td>\n",
       "      <td>2017-11-08 13:43:00</td>\n",
       "      <td>5</td>\n",
       "      <td>2017-11-08 13:42:00</td>\n",
       "      <td>1289240080042562063</td>\n",
       "      <td>2017-11-08</td>\n",
       "      <td>2017-11-02</td>\n",
       "      <td>2017-11-01</td>\n",
       "      <td>60</td>\n",
       "    </tr>\n",
       "    <tr>\n",
       "      <td>10</td>\n",
       "      <td>desktop</td>\n",
       "      <td>2017-07-14 12:44:00</td>\n",
       "      <td>5</td>\n",
       "      <td>2017-07-14 12:43:00</td>\n",
       "      <td>14879997728223227242</td>\n",
       "      <td>2017-07-14</td>\n",
       "      <td>2017-07-13</td>\n",
       "      <td>2017-07-01</td>\n",
       "      <td>60</td>\n",
       "    </tr>\n",
       "    <tr>\n",
       "      <td>11</td>\n",
       "      <td>desktop</td>\n",
       "      <td>2018-01-25 19:41:00</td>\n",
       "      <td>1</td>\n",
       "      <td>2018-01-25 19:37:00</td>\n",
       "      <td>7478054213403174082</td>\n",
       "      <td>2018-01-25</td>\n",
       "      <td>2018-01-25</td>\n",
       "      <td>2018-01-01</td>\n",
       "      <td>240</td>\n",
       "    </tr>\n",
       "    <tr>\n",
       "      <td>12</td>\n",
       "      <td>desktop</td>\n",
       "      <td>2018-02-06 15:50:00</td>\n",
       "      <td>4</td>\n",
       "      <td>2018-02-06 15:45:00</td>\n",
       "      <td>8056418121947262981</td>\n",
       "      <td>2018-02-06</td>\n",
       "      <td>2018-02-01</td>\n",
       "      <td>2018-02-01</td>\n",
       "      <td>300</td>\n",
       "    </tr>\n",
       "    <tr>\n",
       "      <td>13</td>\n",
       "      <td>desktop</td>\n",
       "      <td>2017-11-27 14:43:00</td>\n",
       "      <td>3</td>\n",
       "      <td>2017-11-27 14:42:00</td>\n",
       "      <td>1989613820989570316</td>\n",
       "      <td>2017-11-27</td>\n",
       "      <td>2017-11-23</td>\n",
       "      <td>2017-11-01</td>\n",
       "      <td>60</td>\n",
       "    </tr>\n",
       "    <tr>\n",
       "      <td>14</td>\n",
       "      <td>touch</td>\n",
       "      <td>2018-04-23 18:01:00</td>\n",
       "      <td>9</td>\n",
       "      <td>2018-04-23 18:00:00</td>\n",
       "      <td>18026419100367255411</td>\n",
       "      <td>2018-04-23</td>\n",
       "      <td>2018-04-19</td>\n",
       "      <td>2018-04-01</td>\n",
       "      <td>60</td>\n",
       "    </tr>\n",
       "  </tbody>\n",
       "</table>\n",
       "</div>"
      ],
      "text/plain": [
       "     Device              End Ts  Source Id            Start Ts  \\\n",
       "0     touch 2017-12-20 17:38:00          4 2017-12-20 17:20:00   \n",
       "1   desktop 2018-02-19 17:21:00          2 2018-02-19 16:53:00   \n",
       "2     touch 2017-07-01 01:54:00          5 2017-07-01 01:54:00   \n",
       "3   desktop 2018-05-20 11:23:00          9 2018-05-20 10:59:00   \n",
       "4   desktop 2017-12-27 14:06:00          3 2017-12-27 14:06:00   \n",
       "5   desktop 2017-09-03 21:36:00          5 2017-09-03 21:35:00   \n",
       "6   desktop 2018-01-30 12:09:00          1 2018-01-30 11:13:00   \n",
       "7     touch 2017-11-05 15:15:00          3 2017-11-05 15:14:00   \n",
       "8   desktop 2017-07-19 10:44:00          3 2017-07-19 10:41:00   \n",
       "9   desktop 2017-11-08 13:43:00          5 2017-11-08 13:42:00   \n",
       "10  desktop 2017-07-14 12:44:00          5 2017-07-14 12:43:00   \n",
       "11  desktop 2018-01-25 19:41:00          1 2018-01-25 19:37:00   \n",
       "12  desktop 2018-02-06 15:50:00          4 2018-02-06 15:45:00   \n",
       "13  desktop 2017-11-27 14:43:00          3 2017-11-27 14:42:00   \n",
       "14    touch 2018-04-23 18:01:00          9 2018-04-23 18:00:00   \n",
       "\n",
       "                     Uid event_date event_week event_month  \\\n",
       "0   16879256277535980062 2017-12-20 2017-12-14  2017-12-01   \n",
       "1     104060357244891740 2018-02-19 2018-02-15  2018-02-01   \n",
       "2    7459035603376831527 2017-07-01 2017-06-29  2017-07-01   \n",
       "3   16174680259334210214 2018-05-20 2018-05-17  2018-05-01   \n",
       "4    9969694820036681168 2017-12-27 2017-12-21  2017-12-01   \n",
       "5   16007536194108375387 2017-09-03 2017-08-31  2017-09-01   \n",
       "6    6661610529277171451 2018-01-30 2018-01-25  2018-01-01   \n",
       "7   11423865690854540312 2017-11-05 2017-11-02  2017-11-01   \n",
       "8    2987360259350925644 2017-07-19 2017-07-13  2017-07-01   \n",
       "9    1289240080042562063 2017-11-08 2017-11-02  2017-11-01   \n",
       "10  14879997728223227242 2017-07-14 2017-07-13  2017-07-01   \n",
       "11   7478054213403174082 2018-01-25 2018-01-25  2018-01-01   \n",
       "12   8056418121947262981 2018-02-06 2018-02-01  2018-02-01   \n",
       "13   1989613820989570316 2017-11-27 2017-11-23  2017-11-01   \n",
       "14  18026419100367255411 2018-04-23 2018-04-19  2018-04-01   \n",
       "\n",
       "    length_of_visits_sec  \n",
       "0                   1080  \n",
       "1                   1680  \n",
       "2                      0  \n",
       "3                   1440  \n",
       "4                      0  \n",
       "5                     60  \n",
       "6                   3360  \n",
       "7                     60  \n",
       "8                    180  \n",
       "9                     60  \n",
       "10                    60  \n",
       "11                   240  \n",
       "12                   300  \n",
       "13                    60  \n",
       "14                    60  "
      ]
     },
     "execution_count": 64,
     "metadata": {},
     "output_type": "execute_result"
    }
   ],
   "source": [
    "#calculating the length of each session by doing End Ts - Start Ts and outputting as seconds on a new column under Length\n",
    "visits['length_of_visits_sec'] = (visits['End Ts'] - visits['Start Ts']).dt.seconds\n",
    "\n",
    "print('Average length of each session is ', visits['length_of_visits_sec'].mode(), 'seconds')\n",
    "visits.head(15)"
   ]
  },
  {
   "cell_type": "markdown",
   "metadata": {},
   "source": [
    "### Meaning of the results\n",
    "\n",
    "From the table, we can see that in length of each visit in seconds. We can also see from the use of .mode, 0 seconds and 60 are the most appearing. Something isn't right."
   ]
  },
  {
   "cell_type": "markdown",
   "metadata": {},
   "source": [
    "### How often do users come back?"
   ]
  },
  {
   "cell_type": "code",
   "execution_count": 65,
   "metadata": {},
   "outputs": [
    {
     "name": "stdout",
     "output_type": "stream",
     "text": [
      "% of users that come back in the next month:  6.516659710392834\n",
      "% of users that come back at the end of the year:  4.495059959272947\n"
     ]
    },
    {
     "data": {
      "image/png": "[encoded data removed]",
      "text/plain": [
       "<Figure size 936x648 with 2 Axes>"
      ]
     },
     "metadata": {
      "needs_background": "light"
     },
     "output_type": "display_data"
    }
   ],
   "source": [
    "#make a groupby Uid to find first event time\n",
    "first_visits = visits.groupby('Uid').agg({'Start Ts': 'min'}).reset_index()\n",
    "first_visits.columns = ['Uid', 'first_event_time']\n",
    "\n",
    "#getting date, month, and week of first event time\n",
    "first_visits['first_event_time_week'] = first_visits['first_event_time'].astype('datetime64[W]')\n",
    "first_visits['first_event_time_month'] = first_visits['first_event_time'].astype('datetime64[M]')\n",
    "first_visits['first_event_time_date'] = first_visits['first_event_time'].dt.date\n",
    "\n",
    "#calculating the time between first user session and every following session and\n",
    "#merging visits with first visits, and calculating cohort lifetime\n",
    "visits = pd.merge(first_visits, visits, on ='Uid')\n",
    "visits['cohort_lifetime'] = visits['event_month']-visits['first_event_time_month']\n",
    "visits['cohort_lifetime'] = (visits['cohort_lifetime']/np.timedelta64(1,'M')).round()\n",
    "visits['cohort_lifetime'] = visits['cohort_lifetime'].astype(int)\n",
    "\n",
    "#doing a groupby cohort by cohort lifetime, and first event by month\n",
    "cohorts = visits.groupby(['first_event_time_month', 'cohort_lifetime']).agg({'Uid':'nunique'}).reset_index()\n",
    "initial_users_count = cohorts[cohorts['cohort_lifetime']==0][['first_event_time_month','Uid']]\n",
    "initial_users_count = initial_users_count.rename(columns={'Uid':'cohort_users'})\n",
    "\n",
    "#doing another merge with cohorts and initial users count, and making retention pivot\n",
    "cohorts = cohorts.merge(initial_users_count, on='first_event_time_month')\n",
    "cohorts['retention'] = cohorts['Uid']/cohorts['cohort_users']\n",
    "retention_pivot = cohorts.pivot_table(index='first_event_time_month', columns='cohort_lifetime', values='retention',aggfunc='sum')\n",
    "\n",
    "#outputting how many users come back by percentage\n",
    "print(\"% of users that come back in the next month: \" , retention_pivot[1].mean()*100)\n",
    "print(\"% of users that come back at the end of the year: \" , retention_pivot[11].mean()*100)\n",
    "\n",
    "#making a heatmap using sns.heatmap to better output the table\n",
    "plt.figure(figsize=(13,9))\n",
    "plt.title('User Retention based on Cohorts')\n",
    "sns.heatmap(\n",
    "    retention_pivot,\n",
    "    annot=True,\n",
    "    fmt='.1%',\n",
    "    linecolor='gray'\n",
    ")\n",
    "\n",
    "plt.show()"
   ]
  },
  {
   "cell_type": "markdown",
   "metadata": {},
   "source": [
    "### Conclusion\n",
    "\n",
    "The % of users that come back in the next month is around 6.52, and the % of users that come back at the end of the year is around 4.5.\n",
    "\n",
    "Looking at the heatmap, we can see that the retention rate gets considerably lower after each cohort lifetime. The highest retention rate is usually on the first month back. After that, the rates just get lower and lower, many cohorts not recovering. The only cohort that recovered is the first one, which on the 5th month came back from 6.9% to 7.1%. After which, it dipped down."
   ]
  },
  {
   "cell_type": "markdown",
   "metadata": {},
   "source": [
    "### How many visits per device?"
   ]
  },
  {
   "cell_type": "code",
   "execution_count": 66,
   "metadata": {},
   "outputs": [
    {
     "data": {
      "text/plain": [
       "Text(0, 0.5, 'Number of Devices')"
      ]
     },
     "execution_count": 66,
     "metadata": {},
     "output_type": "execute_result"
    },
    {
     "data": {
      "image/png": "[encoded data removed]",
      "text/plain": [
       "<Figure size 432x288 with 1 Axes>"
      ]
     },
     "metadata": {
      "needs_background": "light"
     },
     "output_type": "display_data"
    }
   ],
   "source": [
    "#making a graph to see number of visits per device. Starting with a groupby, then making plots with labels\n",
    "device_visits = visits.groupby('Device')['Start Ts'].count()\n",
    "\n",
    "device_visits.plot(kind='bar')\n",
    "plt.title('Number of visits per device')\n",
    "plt.xlabel('Type of Device')\n",
    "plt.ylabel('Number of Devices')"
   ]
  },
  {
   "cell_type": "markdown",
   "metadata": {},
   "source": [
    "### Conclusion\n",
    "\n",
    " From the graph we can see that there are more desktop users than touch users that visit"
   ]
  },
  {
   "cell_type": "markdown",
   "metadata": {},
   "source": [
    "### How do the visits change over time?"
   ]
  },
  {
   "cell_type": "code",
   "execution_count": 67,
   "metadata": {},
   "outputs": [
    {
     "data": {
      "image/png": "[encoded data removed]",
      "text/plain": [
       "<Figure size 432x288 with 1 Axes>"
      ]
     },
     "metadata": {
      "needs_background": "light"
     },
     "output_type": "display_data"
    }
   ],
   "source": [
    "visits_over_time = visits.groupby('event_month')['Uid'].count().reset_index()\n",
    "visits_over_time = visits_over_time.rename(columns={'Uid':'count'})\n",
    "visits_over_time['visit_month'] = visits_over_time['event_month'].dt.strftime('%Y-%m-%d')\n",
    "visits_over_time.plot(x='visit_month', y='count', kind='bar')\n",
    "plt.title('number of visits per month')\n",
    "plt.ylabel('visit count')\n",
    "plt.xlabel('visit months')\n",
    "plt.show()"
   ]
  },
  {
   "cell_type": "markdown",
   "metadata": {},
   "source": [
    "### Conclusion\n",
    "\n",
    "From the graph, we can see that most visits were on months 10 - 12 in 2017"
   ]
  },
  {
   "cell_type": "markdown",
   "metadata": {},
   "source": [
    "### When do people start buying?"
   ]
  },
  {
   "cell_type": "code",
   "execution_count": 70,
   "metadata": {},
   "outputs": [
    {
     "data": {
      "text/html": [
       "<div>\n",
       "<style scoped>\n",
       "    .dataframe tbody tr th:only-of-type {\n",
       "        vertical-align: middle;\n",
       "    }\n",
       "\n",
       "    .dataframe tbody tr th {\n",
       "        vertical-align: top;\n",
       "    }\n",
       "\n",
       "    .dataframe thead th {\n",
       "        text-align: right;\n",
       "    }\n",
       "</style>\n",
       "<table border=\"1\" class=\"dataframe\">\n",
       "  <thead>\n",
       "    <tr style=\"text-align: right;\">\n",
       "      <th></th>\n",
       "      <th>Uid</th>\n",
       "      <th>first_event_time</th>\n",
       "      <th>first_event_time_week</th>\n",
       "      <th>first_event_time_month</th>\n",
       "      <th>first_event_time_date</th>\n",
       "      <th>Device</th>\n",
       "      <th>End Ts</th>\n",
       "      <th>Source Id</th>\n",
       "      <th>Start Ts</th>\n",
       "      <th>event_date</th>\n",
       "      <th>event_week</th>\n",
       "      <th>event_month</th>\n",
       "      <th>length_of_visits_sec</th>\n",
       "      <th>cohort_lifetime</th>\n",
       "      <th>min_order_datetime</th>\n",
       "      <th>minute_diff</th>\n",
       "    </tr>\n",
       "  </thead>\n",
       "  <tbody>\n",
       "    <tr>\n",
       "      <td>0</td>\n",
       "      <td>313578113262317</td>\n",
       "      <td>2017-09-18 22:49:00</td>\n",
       "      <td>2017-09-14</td>\n",
       "      <td>2017-09-01</td>\n",
       "      <td>2017-09-18</td>\n",
       "      <td>desktop</td>\n",
       "      <td>2018-03-11 17:29:00</td>\n",
       "      <td>2</td>\n",
       "      <td>2018-03-11 17:23:00</td>\n",
       "      <td>2018-03-11</td>\n",
       "      <td>2018-03-08</td>\n",
       "      <td>2018-03-01</td>\n",
       "      <td>360</td>\n",
       "      <td>6</td>\n",
       "      <td>2018-01-03</td>\n",
       "      <td>154080.0</td>\n",
       "    </tr>\n",
       "    <tr>\n",
       "      <td>1</td>\n",
       "      <td>313578113262317</td>\n",
       "      <td>2017-09-18 22:49:00</td>\n",
       "      <td>2017-09-14</td>\n",
       "      <td>2017-09-01</td>\n",
       "      <td>2017-09-18</td>\n",
       "      <td>desktop</td>\n",
       "      <td>2017-09-18 23:07:00</td>\n",
       "      <td>2</td>\n",
       "      <td>2017-09-18 22:49:00</td>\n",
       "      <td>2017-09-18</td>\n",
       "      <td>2017-09-14</td>\n",
       "      <td>2017-09-01</td>\n",
       "      <td>1080</td>\n",
       "      <td>0</td>\n",
       "      <td>2018-01-03</td>\n",
       "      <td>154080.0</td>\n",
       "    </tr>\n",
       "    <tr>\n",
       "      <td>2</td>\n",
       "      <td>313578113262317</td>\n",
       "      <td>2017-09-18 22:49:00</td>\n",
       "      <td>2017-09-14</td>\n",
       "      <td>2017-09-01</td>\n",
       "      <td>2017-09-18</td>\n",
       "      <td>desktop</td>\n",
       "      <td>2018-02-18 15:26:00</td>\n",
       "      <td>2</td>\n",
       "      <td>2018-02-18 15:17:00</td>\n",
       "      <td>2018-02-18</td>\n",
       "      <td>2018-02-15</td>\n",
       "      <td>2018-02-01</td>\n",
       "      <td>540</td>\n",
       "      <td>5</td>\n",
       "      <td>2018-01-03</td>\n",
       "      <td>154080.0</td>\n",
       "    </tr>\n",
       "    <tr>\n",
       "      <td>3</td>\n",
       "      <td>1575281904278712</td>\n",
       "      <td>2017-06-03 10:13:00</td>\n",
       "      <td>2017-06-01</td>\n",
       "      <td>2017-06-01</td>\n",
       "      <td>2017-06-03</td>\n",
       "      <td>touch</td>\n",
       "      <td>2017-06-03 10:17:00</td>\n",
       "      <td>10</td>\n",
       "      <td>2017-06-03 10:13:00</td>\n",
       "      <td>2017-06-03</td>\n",
       "      <td>2017-06-01</td>\n",
       "      <td>2017-06-01</td>\n",
       "      <td>240</td>\n",
       "      <td>0</td>\n",
       "      <td>2017-06-03</td>\n",
       "      <td>0.0</td>\n",
       "    </tr>\n",
       "    <tr>\n",
       "      <td>4</td>\n",
       "      <td>1575281904278712</td>\n",
       "      <td>2017-06-03 10:13:00</td>\n",
       "      <td>2017-06-01</td>\n",
       "      <td>2017-06-01</td>\n",
       "      <td>2017-06-03</td>\n",
       "      <td>touch</td>\n",
       "      <td>2017-06-03 17:48:00</td>\n",
       "      <td>10</td>\n",
       "      <td>2017-06-03 17:36:00</td>\n",
       "      <td>2017-06-03</td>\n",
       "      <td>2017-06-01</td>\n",
       "      <td>2017-06-01</td>\n",
       "      <td>720</td>\n",
       "      <td>0</td>\n",
       "      <td>2017-06-03</td>\n",
       "      <td>0.0</td>\n",
       "    </tr>\n",
       "  </tbody>\n",
       "</table>\n",
       "</div>"
      ],
      "text/plain": [
       "                Uid    first_event_time first_event_time_week  \\\n",
       "0   313578113262317 2017-09-18 22:49:00            2017-09-14   \n",
       "1   313578113262317 2017-09-18 22:49:00            2017-09-14   \n",
       "2   313578113262317 2017-09-18 22:49:00            2017-09-14   \n",
       "3  1575281904278712 2017-06-03 10:13:00            2017-06-01   \n",
       "4  1575281904278712 2017-06-03 10:13:00            2017-06-01   \n",
       "\n",
       "  first_event_time_month first_event_time_date   Device              End Ts  \\\n",
       "0             2017-09-01            2017-09-18  desktop 2018-03-11 17:29:00   \n",
       "1             2017-09-01            2017-09-18  desktop 2017-09-18 23:07:00   \n",
       "2             2017-09-01            2017-09-18  desktop 2018-02-18 15:26:00   \n",
       "3             2017-06-01            2017-06-03    touch 2017-06-03 10:17:00   \n",
       "4             2017-06-01            2017-06-03    touch 2017-06-03 17:48:00   \n",
       "\n",
       "   Source Id            Start Ts event_date event_week event_month  \\\n",
       "0          2 2018-03-11 17:23:00 2018-03-11 2018-03-08  2018-03-01   \n",
       "1          2 2017-09-18 22:49:00 2017-09-18 2017-09-14  2017-09-01   \n",
       "2          2 2018-02-18 15:17:00 2018-02-18 2018-02-15  2018-02-01   \n",
       "3         10 2017-06-03 10:13:00 2017-06-03 2017-06-01  2017-06-01   \n",
       "4         10 2017-06-03 17:36:00 2017-06-03 2017-06-01  2017-06-01   \n",
       "\n",
       "   length_of_visits_sec  cohort_lifetime min_order_datetime  minute_diff  \n",
       "0                   360                6         2018-01-03     154080.0  \n",
       "1                  1080                0         2018-01-03     154080.0  \n",
       "2                   540                5         2018-01-03     154080.0  \n",
       "3                   240                0         2017-06-03          0.0  \n",
       "4                   720                0         2017-06-03          0.0  "
      ]
     },
     "execution_count": 70,
     "metadata": {},
     "output_type": "execute_result"
    }
   ],
   "source": [
    "#converting to datetime to prevent future errors\n",
    "visits['first_event_time_date'] = pd.to_datetime(visits['first_event_time_date'])\n",
    "orders['order_date'] = pd.to_datetime(orders['Buy Ts'].dt.date)\n",
    "\n",
    "#finding minimum order date by uid\n",
    "min_order_datetime = orders.groupby(['Uid'])['order_date'].min()\n",
    "min_order_datetime.name = 'min_order_datetime'\n",
    "\n",
    "#merging and finding the month difference\n",
    "visits_orders = visits.merge(min_order_datetime, on='Uid')\n",
    "visits_orders['minute_diff'] = (visits_orders['min_order_datetime'] - visits_orders['first_event_time_date'])/ np.timedelta64(1, 'm')\n",
    "\n",
    "\n",
    "visits_orders.head()"
   ]
  },
  {
   "cell_type": "code",
   "execution_count": 77,
   "metadata": {},
   "outputs": [
    {
     "name": "stdout",
     "output_type": "stream",
     "text": [
      "Average difference between first visit time and order in minutes: 48547.80048052241\n",
      "\n",
      "Average difference between visit time and order by minutes cohorts event_month\n",
      "2017-06-01    62276.119017\n",
      "2017-07-01    56096.905660\n",
      "2017-08-01    56232.723214\n",
      "2017-09-01    48138.510046\n",
      "2017-10-01    40519.462704\n",
      "2017-11-01    46324.115630\n",
      "2017-12-01    41487.945950\n",
      "2018-01-01    45444.995270\n",
      "2018-02-01    45749.534860\n",
      "2018-03-01    50717.976363\n",
      "2018-04-01    55278.599909\n",
      "2018-05-01    57017.011737\n",
      "Name: minute_diff, dtype: float64\n"
     ]
    },
    {
     "data": {
      "image/png": "[encoded data removed]",
      "text/plain": [
       "<Figure size 576x432 with 1 Axes>"
      ]
     },
     "metadata": {
      "needs_background": "light"
     },
     "output_type": "display_data"
    }
   ],
   "source": [
    "#finding average minutes difference in month\n",
    "avg_minutes=visits_orders['minute_diff'].mean()\n",
    "print('Average difference between first visit time and order in minutes:', avg_minutes)\n",
    "\n",
    "cohort_visit_orders = visits_orders.groupby('event_week')['minute_diff'].mean()\n",
    "cohort_visit_orders = visits_orders.groupby('event_month')['minute_diff'].mean()\n",
    "print('\\nAverage difference between visit time and order by minutes cohorts', cohort_visit_orders)\n",
    "\n",
    "cohort_visit_orders.plot(x='event_month', y='minute_diff', figsize=(8,6), kind='bar')\n",
    "plt.title('aveage number of visits between visit time and order over time')\n",
    "\n",
    "#plt.ylabel(\n",
    "plt.show()\n"
   ]
  },
  {
   "cell_type": "markdown",
   "metadata": {},
   "source": [
    "### How many orders do they make during a given period of time"
   ]
  },
  {
   "cell_type": "code",
   "execution_count": 35,
   "metadata": {},
   "outputs": [
    {
     "name": "stdout",
     "output_type": "stream",
     "text": [
      "<class 'pandas.core.frame.DataFrame'>\n",
      "RangeIndex: 228169 entries, 0 to 228168\n",
      "Data columns (total 2 columns):\n",
      "Uid                 228169 non-null uint64\n",
      "first_visit_date    228169 non-null datetime64[ns]\n",
      "dtypes: datetime64[ns](1), uint64(1)\n",
      "memory usage: 3.5 MB\n"
     ]
    },
    {
     "data": {
      "text/html": [
       "<div>\n",
       "<style scoped>\n",
       "    .dataframe tbody tr th:only-of-type {\n",
       "        vertical-align: middle;\n",
       "    }\n",
       "\n",
       "    .dataframe tbody tr th {\n",
       "        vertical-align: top;\n",
       "    }\n",
       "\n",
       "    .dataframe thead th {\n",
       "        text-align: right;\n",
       "    }\n",
       "</style>\n",
       "<table border=\"1\" class=\"dataframe\">\n",
       "  <thead>\n",
       "    <tr style=\"text-align: right;\">\n",
       "      <th></th>\n",
       "      <th>Uid</th>\n",
       "      <th>first_visit_date</th>\n",
       "    </tr>\n",
       "  </thead>\n",
       "  <tbody>\n",
       "    <tr>\n",
       "      <td>0</td>\n",
       "      <td>11863502262781</td>\n",
       "      <td>2018-03-01</td>\n",
       "    </tr>\n",
       "    <tr>\n",
       "      <td>1</td>\n",
       "      <td>49537067089222</td>\n",
       "      <td>2018-02-06</td>\n",
       "    </tr>\n",
       "    <tr>\n",
       "      <td>2</td>\n",
       "      <td>297729379853735</td>\n",
       "      <td>2017-06-07</td>\n",
       "    </tr>\n",
       "    <tr>\n",
       "      <td>3</td>\n",
       "      <td>313578113262317</td>\n",
       "      <td>2017-09-18</td>\n",
       "    </tr>\n",
       "    <tr>\n",
       "      <td>4</td>\n",
       "      <td>325320750514679</td>\n",
       "      <td>2017-09-30</td>\n",
       "    </tr>\n",
       "  </tbody>\n",
       "</table>\n",
       "</div>"
      ],
      "text/plain": [
       "               Uid first_visit_date\n",
       "0   11863502262781       2018-03-01\n",
       "1   49537067089222       2018-02-06\n",
       "2  297729379853735       2017-06-07\n",
       "3  313578113262317       2017-09-18\n",
       "4  325320750514679       2017-09-30"
      ]
     },
     "execution_count": 35,
     "metadata": {},
     "output_type": "execute_result"
    }
   ],
   "source": [
    "#making groupby to find minimum visits by uid and doing proper formatting\n",
    "min_visits_datetime = visits.groupby(['Uid'])['event_date'].min().reset_index()\n",
    "min_visits_datetime.name = 'min_visits_datetime'\n",
    "min_visits_datetime.columns=['Uid','first_visit_date']\n",
    "min_visits_datetime['first_visit_date'] = pd.to_datetime(min_visits_datetime['first_visit_date'], format='%Y-%m-%d')\n",
    "\n",
    "min_visits_datetime.info()\n",
    "min_visits_datetime.head()"
   ]
  },
  {
   "cell_type": "code",
   "execution_count": 36,
   "metadata": {},
   "outputs": [
    {
     "name": "stdout",
     "output_type": "stream",
     "text": [
      "Within the given period, users do on average 1.38 orders\n"
     ]
    },
    {
     "data": {
      "text/html": [
       "<div>\n",
       "<style scoped>\n",
       "    .dataframe tbody tr th:only-of-type {\n",
       "        vertical-align: middle;\n",
       "    }\n",
       "\n",
       "    .dataframe tbody tr th {\n",
       "        vertical-align: top;\n",
       "    }\n",
       "\n",
       "    .dataframe thead th {\n",
       "        text-align: right;\n",
       "    }\n",
       "</style>\n",
       "<table border=\"1\" class=\"dataframe\">\n",
       "  <thead>\n",
       "    <tr style=\"text-align: right;\">\n",
       "      <th></th>\n",
       "      <th>Buy Ts</th>\n",
       "      <th>Revenue</th>\n",
       "      <th>Uid</th>\n",
       "      <th>order_date</th>\n",
       "      <th>first_visit_date</th>\n",
       "      <th>order_visit_diff</th>\n",
       "    </tr>\n",
       "  </thead>\n",
       "  <tbody>\n",
       "    <tr>\n",
       "      <td>0</td>\n",
       "      <td>2017-06-01 00:10:00</td>\n",
       "      <td>17.00</td>\n",
       "      <td>10329302124590727494</td>\n",
       "      <td>2017-06-01</td>\n",
       "      <td>2017-06-01</td>\n",
       "      <td>0.0</td>\n",
       "    </tr>\n",
       "    <tr>\n",
       "      <td>1</td>\n",
       "      <td>2017-06-01 00:25:00</td>\n",
       "      <td>0.55</td>\n",
       "      <td>11627257723692907447</td>\n",
       "      <td>2017-06-01</td>\n",
       "      <td>2017-06-01</td>\n",
       "      <td>0.0</td>\n",
       "    </tr>\n",
       "    <tr>\n",
       "      <td>2</td>\n",
       "      <td>2017-06-01 00:27:00</td>\n",
       "      <td>0.37</td>\n",
       "      <td>17903680561304213844</td>\n",
       "      <td>2017-06-01</td>\n",
       "      <td>2017-06-01</td>\n",
       "      <td>0.0</td>\n",
       "    </tr>\n",
       "    <tr>\n",
       "      <td>3</td>\n",
       "      <td>2017-06-01 00:29:00</td>\n",
       "      <td>0.55</td>\n",
       "      <td>16109239769442553005</td>\n",
       "      <td>2017-06-01</td>\n",
       "      <td>2017-06-01</td>\n",
       "      <td>0.0</td>\n",
       "    </tr>\n",
       "    <tr>\n",
       "      <td>4</td>\n",
       "      <td>2017-06-01 07:58:00</td>\n",
       "      <td>0.37</td>\n",
       "      <td>14200605875248379450</td>\n",
       "      <td>2017-06-01</td>\n",
       "      <td>2017-06-01</td>\n",
       "      <td>0.0</td>\n",
       "    </tr>\n",
       "  </tbody>\n",
       "</table>\n",
       "</div>"
      ],
      "text/plain": [
       "               Buy Ts  Revenue                   Uid order_date  \\\n",
       "0 2017-06-01 00:10:00    17.00  10329302124590727494 2017-06-01   \n",
       "1 2017-06-01 00:25:00     0.55  11627257723692907447 2017-06-01   \n",
       "2 2017-06-01 00:27:00     0.37  17903680561304213844 2017-06-01   \n",
       "3 2017-06-01 00:29:00     0.55  16109239769442553005 2017-06-01   \n",
       "4 2017-06-01 07:58:00     0.37  14200605875248379450 2017-06-01   \n",
       "\n",
       "  first_visit_date  order_visit_diff  \n",
       "0       2017-06-01               0.0  \n",
       "1       2017-06-01               0.0  \n",
       "2       2017-06-01               0.0  \n",
       "3       2017-06-01               0.0  \n",
       "4       2017-06-01               0.0  "
      ]
     },
     "execution_count": 36,
     "metadata": {},
     "output_type": "execute_result"
    }
   ],
   "source": [
    "#merging min_visits_datetime\n",
    "orders = orders.merge(min_visits_datetime, on='Uid')\n",
    "orders['order_visit_diff'] = (orders['order_date'] - orders['first_visit_date'])/ np.timedelta64(1, 'M')\n",
    "orders_filtered = orders[orders['order_visit_diff']<avg_time]\n",
    "amount = orders_filtered.groupby(['Uid'])['Buy Ts'].count().mean()\n",
    "print('Within the given period, users do on average {:.2f} orders'.format(amount))\n",
    "\n",
    "orders.head()"
   ]
  },
  {
   "cell_type": "markdown",
   "metadata": {},
   "source": [
    "### What is the average purchase size?"
   ]
  },
  {
   "cell_type": "code",
   "execution_count": 37,
   "metadata": {},
   "outputs": [
    {
     "name": "stdout",
     "output_type": "stream",
     "text": [
      "The average purchase size is 6.9\n"
     ]
    },
    {
     "data": {
      "text/html": [
       "<div>\n",
       "<style scoped>\n",
       "    .dataframe tbody tr th:only-of-type {\n",
       "        vertical-align: middle;\n",
       "    }\n",
       "\n",
       "    .dataframe tbody tr th {\n",
       "        vertical-align: top;\n",
       "    }\n",
       "\n",
       "    .dataframe thead th {\n",
       "        text-align: right;\n",
       "    }\n",
       "</style>\n",
       "<table border=\"1\" class=\"dataframe\">\n",
       "  <thead>\n",
       "    <tr style=\"text-align: right;\">\n",
       "      <th></th>\n",
       "      <th>Buy Ts</th>\n",
       "      <th>Revenue</th>\n",
       "      <th>Uid</th>\n",
       "      <th>order_date</th>\n",
       "      <th>first_visit_date</th>\n",
       "      <th>order_visit_diff</th>\n",
       "    </tr>\n",
       "  </thead>\n",
       "  <tbody>\n",
       "    <tr>\n",
       "      <td>0</td>\n",
       "      <td>2017-06-01 00:10:00</td>\n",
       "      <td>17.00</td>\n",
       "      <td>10329302124590727494</td>\n",
       "      <td>2017-06-01</td>\n",
       "      <td>2017-06-01</td>\n",
       "      <td>0.0</td>\n",
       "    </tr>\n",
       "    <tr>\n",
       "      <td>1</td>\n",
       "      <td>2017-06-01 00:25:00</td>\n",
       "      <td>0.55</td>\n",
       "      <td>11627257723692907447</td>\n",
       "      <td>2017-06-01</td>\n",
       "      <td>2017-06-01</td>\n",
       "      <td>0.0</td>\n",
       "    </tr>\n",
       "    <tr>\n",
       "      <td>2</td>\n",
       "      <td>2017-06-01 00:27:00</td>\n",
       "      <td>0.37</td>\n",
       "      <td>17903680561304213844</td>\n",
       "      <td>2017-06-01</td>\n",
       "      <td>2017-06-01</td>\n",
       "      <td>0.0</td>\n",
       "    </tr>\n",
       "    <tr>\n",
       "      <td>3</td>\n",
       "      <td>2017-06-01 00:29:00</td>\n",
       "      <td>0.55</td>\n",
       "      <td>16109239769442553005</td>\n",
       "      <td>2017-06-01</td>\n",
       "      <td>2017-06-01</td>\n",
       "      <td>0.0</td>\n",
       "    </tr>\n",
       "    <tr>\n",
       "      <td>4</td>\n",
       "      <td>2017-06-01 07:58:00</td>\n",
       "      <td>0.37</td>\n",
       "      <td>14200605875248379450</td>\n",
       "      <td>2017-06-01</td>\n",
       "      <td>2017-06-01</td>\n",
       "      <td>0.0</td>\n",
       "    </tr>\n",
       "  </tbody>\n",
       "</table>\n",
       "</div>"
      ],
      "text/plain": [
       "               Buy Ts  Revenue                   Uid order_date  \\\n",
       "0 2017-06-01 00:10:00    17.00  10329302124590727494 2017-06-01   \n",
       "1 2017-06-01 00:25:00     0.55  11627257723692907447 2017-06-01   \n",
       "2 2017-06-01 00:27:00     0.37  17903680561304213844 2017-06-01   \n",
       "3 2017-06-01 00:29:00     0.55  16109239769442553005 2017-06-01   \n",
       "4 2017-06-01 07:58:00     0.37  14200605875248379450 2017-06-01   \n",
       "\n",
       "  first_visit_date  order_visit_diff  \n",
       "0       2017-06-01               0.0  \n",
       "1       2017-06-01               0.0  \n",
       "2       2017-06-01               0.0  \n",
       "3       2017-06-01               0.0  \n",
       "4       2017-06-01               0.0  "
      ]
     },
     "execution_count": 37,
     "metadata": {},
     "output_type": "execute_result"
    }
   ],
   "source": [
    "avg_size = orders.groupby('Uid')['Revenue'].sum().mean()\n",
    "print('The average purchase size is {:.3}'.format(avg_size))\n",
    "orders.head()"
   ]
  },
  {
   "cell_type": "markdown",
   "metadata": {},
   "source": [
    "### How much money do they bring? (LTV)"
   ]
  },
  {
   "cell_type": "code",
   "execution_count": 38,
   "metadata": {
    "scrolled": false
   },
   "outputs": [
    {
     "name": "stdout",
     "output_type": "stream",
     "text": [
      "   first_order_month  n_buyers order_month   Revenue  age       ltv\n",
      "0         2017-06-01      2023  2017-06-01   9557.49    0  4.724414\n",
      "1         2017-06-01      2023  2017-07-01    981.82    1  0.485329\n",
      "2         2017-06-01      2023  2017-08-01    885.34    2  0.437637\n",
      "3         2017-06-01      2023  2017-09-01   1931.30    3  0.954671\n",
      "4         2017-06-01      2023  2017-10-01   2068.58    4  1.022531\n",
      "..               ...       ...         ...       ...  ...       ...\n",
      "74        2018-03-01      3533  2018-05-01   1114.87    2  0.315559\n",
      "75        2018-04-01      2276  2018-04-01  10600.69    0  4.657597\n",
      "76        2018-04-01      2276  2018-05-01   1209.92    1  0.531599\n",
      "77        2018-05-01      2988  2018-05-01  13925.76    0  4.660562\n",
      "78        2018-06-01         1  2018-06-01      3.42    0  3.420000\n",
      "\n",
      "[79 rows x 6 columns]\n"
     ]
    },
    {
     "data": {
      "image/png": "[encoded data removed]",
      "text/plain": [
       "<Figure size 936x648 with 2 Axes>"
      ]
     },
     "metadata": {
      "needs_background": "light"
     },
     "output_type": "display_data"
    }
   ],
   "source": [
    "#capturing the months from the dates \n",
    "orders['order_month'] = orders['Buy Ts'].astype('datetime64[M]')\n",
    "costs['month'] = costs['dt'].astype('datetime64[M]')\n",
    "\n",
    "#finding the month of each customer's first purchase\n",
    "first_orders = orders.groupby('Uid').agg({'order_month': 'min'}).reset_index()\n",
    "first_orders.columns = ['Uid', 'first_order_month']\n",
    "\n",
    "#calculate number of new customers for each month\n",
    "cohort_sizes = first_orders.groupby('first_order_month').agg({'Uid': 'nunique'}).reset_index()\n",
    "cohort_sizes.columns = ['first_order_month', 'n_buyers']\n",
    "\n",
    "#adding customers first purchase months to the table of orders\n",
    "orders_ = pd.merge(orders, first_orders, on='Uid')\n",
    "\n",
    "#group table of orders by month of first purcahse and month of purchase and sum the revenue\n",
    "cohorts = orders_.groupby(['first_order_month', 'order_month']).agg({'Revenue': 'sum'}).reset_index()\n",
    "\n",
    "#add data on how many users made their first purchases in each month to the cohorts table\n",
    "report = pd.merge(cohort_sizes, cohorts, on='first_order_month')\n",
    "\n",
    "#I need to find gp first in order to find LTV. I will also calculate the cohorts age for the table to look nicer\n",
    "report['age'] = (\n",
    "    report['order_month'] - report['first_order_month']\n",
    ") / np.timedelta64(1, 'M')\n",
    "report['age'] = report['age'].round().astype('int')\n",
    "\n",
    "#calculating LTV\n",
    "report['ltv'] = report['Revenue'] / report['n_buyers']\n",
    "\n",
    "output = report.pivot_table(\n",
    "    index='first_order_month', columns='age', values='ltv', aggfunc='mean'\n",
    ").round(decimals=2)\n",
    "\n",
    "print(report)\n",
    "\n",
    "plt.figure(figsize=(13, 9))\n",
    "plt.title('Cohorts: LTV')\n",
    "sns.heatmap(\n",
    "    output.cumsum(axis=1), annot=True, fmt='.1f', linewidths=1, linecolor='gray') \n",
    "plt.show()\n"
   ]
  },
  {
   "cell_type": "code",
   "execution_count": 39,
   "metadata": {},
   "outputs": [
    {
     "data": {
      "text/plain": [
       "'How much each cohort lifetime brings'"
      ]
     },
     "metadata": {},
     "output_type": "display_data"
    },
    {
     "data": {
      "text/plain": [
       "age\n",
       "0     4.801538\n",
       "1     0.456364\n",
       "2     0.406000\n",
       "3     0.826667\n",
       "4     0.345000\n",
       "5     0.334286\n",
       "6     0.361667\n",
       "7     0.298000\n",
       "8     0.295000\n",
       "9     0.316667\n",
       "10    0.365000\n",
       "11    0.260000\n",
       "dtype: float64"
      ]
     },
     "metadata": {},
     "output_type": "display_data"
    },
    {
     "data": {
      "text/plain": [
       "'How much each cohort brings'"
      ]
     },
     "metadata": {},
     "output_type": "display_data"
    },
    {
     "data": {
      "text/plain": [
       "first_order_month\n",
       "2017-06-01    0.990000\n",
       "2017-07-01    0.763636\n",
       "2017-08-01    0.847000\n",
       "2017-09-01    1.492222\n",
       "2017-10-01    0.795000\n",
       "2017-11-01    0.911429\n",
       "2017-12-01    1.275000\n",
       "2018-01-01    0.986000\n",
       "2018-02-01    1.147500\n",
       "2018-03-01    1.820000\n",
       "2018-04-01    2.595000\n",
       "2018-05-01    4.660000\n",
       "2018-06-01    3.420000\n",
       "dtype: float64"
      ]
     },
     "metadata": {},
     "output_type": "display_data"
    }
   ],
   "source": [
    "display('How much each cohort lifetime brings', output.mean(axis=0))\n",
    "display('How much each cohort brings', output.mean(axis=1))"
   ]
  },
  {
   "cell_type": "markdown",
   "metadata": {},
   "source": [
    "### Conclusion\n",
    "\n",
    "From the cohorts ltv heatmap, we can see taht the june cohort (top) brings more money after 2018. We also see due to color differences, that the september cohort brings in a lot of money near the new year.\n",
    "\n",
    "From the cohorts table, we can see that 2018 cohorts start to do a lot better then the 2017 cohorts, especially bringing the most money on average near march through june."
   ]
  },
  {
   "cell_type": "markdown",
   "metadata": {},
   "source": [
    "### How much money was spent? (Overall/per source/over time)"
   ]
  },
  {
   "cell_type": "code",
   "execution_count": 40,
   "metadata": {},
   "outputs": [
    {
     "name": "stdout",
     "output_type": "stream",
     "text": [
      "329131.62 was spent overall\n"
     ]
    }
   ],
   "source": [
    "#finding how much was spent overall\n",
    "print(costs['costs'].sum(), 'was spent overall')"
   ]
  },
  {
   "cell_type": "code",
   "execution_count": 41,
   "metadata": {},
   "outputs": [
    {
     "name": "stdout",
     "output_type": "stream",
     "text": [
      "How much was spent per source id\n"
     ]
    },
    {
     "data": {
      "text/html": [
       "<div>\n",
       "<style scoped>\n",
       "    .dataframe tbody tr th:only-of-type {\n",
       "        vertical-align: middle;\n",
       "    }\n",
       "\n",
       "    .dataframe tbody tr th {\n",
       "        vertical-align: top;\n",
       "    }\n",
       "\n",
       "    .dataframe thead th {\n",
       "        text-align: right;\n",
       "    }\n",
       "</style>\n",
       "<table border=\"1\" class=\"dataframe\">\n",
       "  <thead>\n",
       "    <tr style=\"text-align: right;\">\n",
       "      <th></th>\n",
       "      <th>source_id</th>\n",
       "      <th>costs sum</th>\n",
       "    </tr>\n",
       "  </thead>\n",
       "  <tbody>\n",
       "    <tr>\n",
       "      <td>0</td>\n",
       "      <td>1</td>\n",
       "      <td>20833.27</td>\n",
       "    </tr>\n",
       "    <tr>\n",
       "      <td>1</td>\n",
       "      <td>2</td>\n",
       "      <td>42806.04</td>\n",
       "    </tr>\n",
       "    <tr>\n",
       "      <td>2</td>\n",
       "      <td>3</td>\n",
       "      <td>141321.63</td>\n",
       "    </tr>\n",
       "    <tr>\n",
       "      <td>3</td>\n",
       "      <td>4</td>\n",
       "      <td>61073.60</td>\n",
       "    </tr>\n",
       "    <tr>\n",
       "      <td>4</td>\n",
       "      <td>5</td>\n",
       "      <td>51757.10</td>\n",
       "    </tr>\n",
       "    <tr>\n",
       "      <td>5</td>\n",
       "      <td>9</td>\n",
       "      <td>5517.49</td>\n",
       "    </tr>\n",
       "    <tr>\n",
       "      <td>6</td>\n",
       "      <td>10</td>\n",
       "      <td>5822.49</td>\n",
       "    </tr>\n",
       "  </tbody>\n",
       "</table>\n",
       "</div>"
      ],
      "text/plain": [
       "   source_id  costs sum\n",
       "0          1   20833.27\n",
       "1          2   42806.04\n",
       "2          3  141321.63\n",
       "3          4   61073.60\n",
       "4          5   51757.10\n",
       "5          9    5517.49\n",
       "6         10    5822.49"
      ]
     },
     "execution_count": 41,
     "metadata": {},
     "output_type": "execute_result"
    }
   ],
   "source": [
    "#finding how much per source\n",
    "source = costs.groupby('source_id').agg({'costs': 'sum'}).reset_index()\n",
    "source.columns = ['source_id', 'costs sum']\n",
    "print('How much was spent per source id')\n",
    "source"
   ]
  },
  {
   "cell_type": "code",
   "execution_count": 42,
   "metadata": {},
   "outputs": [
    {
     "name": "stdout",
     "output_type": "stream",
     "text": [
      "How much was spent per month\n"
     ]
    },
    {
     "data": {
      "text/html": [
       "<div>\n",
       "<style scoped>\n",
       "    .dataframe tbody tr th:only-of-type {\n",
       "        vertical-align: middle;\n",
       "    }\n",
       "\n",
       "    .dataframe tbody tr th {\n",
       "        vertical-align: top;\n",
       "    }\n",
       "\n",
       "    .dataframe thead th {\n",
       "        text-align: right;\n",
       "    }\n",
       "</style>\n",
       "<table border=\"1\" class=\"dataframe\">\n",
       "  <thead>\n",
       "    <tr style=\"text-align: right;\">\n",
       "      <th></th>\n",
       "      <th>month</th>\n",
       "      <th>costs sum</th>\n",
       "    </tr>\n",
       "  </thead>\n",
       "  <tbody>\n",
       "    <tr>\n",
       "      <td>0</td>\n",
       "      <td>2017-06-01</td>\n",
       "      <td>18015.00</td>\n",
       "    </tr>\n",
       "    <tr>\n",
       "      <td>1</td>\n",
       "      <td>2017-07-01</td>\n",
       "      <td>18240.59</td>\n",
       "    </tr>\n",
       "    <tr>\n",
       "      <td>2</td>\n",
       "      <td>2017-08-01</td>\n",
       "      <td>14790.54</td>\n",
       "    </tr>\n",
       "    <tr>\n",
       "      <td>3</td>\n",
       "      <td>2017-09-01</td>\n",
       "      <td>24368.91</td>\n",
       "    </tr>\n",
       "    <tr>\n",
       "      <td>4</td>\n",
       "      <td>2017-10-01</td>\n",
       "      <td>36322.88</td>\n",
       "    </tr>\n",
       "    <tr>\n",
       "      <td>5</td>\n",
       "      <td>2017-11-01</td>\n",
       "      <td>37907.88</td>\n",
       "    </tr>\n",
       "    <tr>\n",
       "      <td>6</td>\n",
       "      <td>2017-12-01</td>\n",
       "      <td>38315.35</td>\n",
       "    </tr>\n",
       "    <tr>\n",
       "      <td>7</td>\n",
       "      <td>2018-01-01</td>\n",
       "      <td>33518.52</td>\n",
       "    </tr>\n",
       "    <tr>\n",
       "      <td>8</td>\n",
       "      <td>2018-02-01</td>\n",
       "      <td>32723.03</td>\n",
       "    </tr>\n",
       "    <tr>\n",
       "      <td>9</td>\n",
       "      <td>2018-03-01</td>\n",
       "      <td>30415.27</td>\n",
       "    </tr>\n",
       "    <tr>\n",
       "      <td>10</td>\n",
       "      <td>2018-04-01</td>\n",
       "      <td>22289.38</td>\n",
       "    </tr>\n",
       "    <tr>\n",
       "      <td>11</td>\n",
       "      <td>2018-05-01</td>\n",
       "      <td>22224.27</td>\n",
       "    </tr>\n",
       "  </tbody>\n",
       "</table>\n",
       "</div>"
      ],
      "text/plain": [
       "        month  costs sum\n",
       "0  2017-06-01   18015.00\n",
       "1  2017-07-01   18240.59\n",
       "2  2017-08-01   14790.54\n",
       "3  2017-09-01   24368.91\n",
       "4  2017-10-01   36322.88\n",
       "5  2017-11-01   37907.88\n",
       "6  2017-12-01   38315.35\n",
       "7  2018-01-01   33518.52\n",
       "8  2018-02-01   32723.03\n",
       "9  2018-03-01   30415.27\n",
       "10 2018-04-01   22289.38\n",
       "11 2018-05-01   22224.27"
      ]
     },
     "execution_count": 42,
     "metadata": {},
     "output_type": "execute_result"
    }
   ],
   "source": [
    "#finding how much per month\n",
    "monthly_cost = costs.groupby('month').agg({'costs': 'sum'}).reset_index()\n",
    "monthly_cost.columns = ['month', 'costs sum']\n",
    "print('How much was spent per month')\n",
    "monthly_cost"
   ]
  },
  {
   "cell_type": "markdown",
   "metadata": {},
   "source": [
    "### Conclusions\n",
    "\n",
    "From calculating the sum of costs, I was able to find that 329131.62 was spent overall.\n",
    "\n",
    "From all the Source Ids shown, Source Id 3 cost the most.\n",
    "\n",
    "The final table shows that the months of October, November, and December of 2017 cost the most."
   ]
  },
  {
   "cell_type": "markdown",
   "metadata": {},
   "source": [
    "### How much did customer acquisition from each of the sources cost?, and How worthwhile were the investments? (ROI)"
   ]
  },
  {
   "cell_type": "code",
   "execution_count": 43,
   "metadata": {},
   "outputs": [
    {
     "data": {
      "text/html": [
       "<div>\n",
       "<style scoped>\n",
       "    .dataframe tbody tr th:only-of-type {\n",
       "        vertical-align: middle;\n",
       "    }\n",
       "\n",
       "    .dataframe tbody tr th {\n",
       "        vertical-align: top;\n",
       "    }\n",
       "\n",
       "    .dataframe thead th {\n",
       "        text-align: right;\n",
       "    }\n",
       "</style>\n",
       "<table border=\"1\" class=\"dataframe\">\n",
       "  <thead>\n",
       "    <tr style=\"text-align: right;\">\n",
       "      <th></th>\n",
       "      <th>Source Id</th>\n",
       "      <th>costs_per_source_id</th>\n",
       "    </tr>\n",
       "  </thead>\n",
       "  <tbody>\n",
       "    <tr>\n",
       "      <td>0</td>\n",
       "      <td>1</td>\n",
       "      <td>20833.27</td>\n",
       "    </tr>\n",
       "    <tr>\n",
       "      <td>1</td>\n",
       "      <td>2</td>\n",
       "      <td>42806.04</td>\n",
       "    </tr>\n",
       "    <tr>\n",
       "      <td>2</td>\n",
       "      <td>3</td>\n",
       "      <td>141321.63</td>\n",
       "    </tr>\n",
       "    <tr>\n",
       "      <td>3</td>\n",
       "      <td>4</td>\n",
       "      <td>61073.60</td>\n",
       "    </tr>\n",
       "    <tr>\n",
       "      <td>4</td>\n",
       "      <td>5</td>\n",
       "      <td>51757.10</td>\n",
       "    </tr>\n",
       "    <tr>\n",
       "      <td>5</td>\n",
       "      <td>9</td>\n",
       "      <td>5517.49</td>\n",
       "    </tr>\n",
       "    <tr>\n",
       "      <td>6</td>\n",
       "      <td>10</td>\n",
       "      <td>5822.49</td>\n",
       "    </tr>\n",
       "  </tbody>\n",
       "</table>\n",
       "</div>"
      ],
      "text/plain": [
       "   Source Id  costs_per_source_id\n",
       "0          1             20833.27\n",
       "1          2             42806.04\n",
       "2          3            141321.63\n",
       "3          4             61073.60\n",
       "4          5             51757.10\n",
       "5          9              5517.49\n",
       "6         10              5822.49"
      ]
     },
     "execution_count": 43,
     "metadata": {},
     "output_type": "execute_result"
    }
   ],
   "source": [
    "#making a groupby for costs so we can just have source id and the sum of costs for each\n",
    "monthly_costs = costs.groupby(['source_id'])['costs'].sum().reset_index()\n",
    "monthly_costs.columns=['Source Id', 'costs_per_source_id']\n",
    "monthly_costs"
   ]
  },
  {
   "cell_type": "code",
   "execution_count": 44,
   "metadata": {},
   "outputs": [
    {
     "name": "stdout",
     "output_type": "stream",
     "text": [
      "<class 'pandas.core.frame.DataFrame'>\n",
      "Int64Index: 50415 entries, 0 to 50414\n",
      "Data columns (total 8 columns):\n",
      "Buy Ts              50415 non-null datetime64[ns]\n",
      "Revenue             50415 non-null float64\n",
      "Uid                 50415 non-null uint64\n",
      "order_date          50415 non-null datetime64[ns]\n",
      "first_visit_date    50415 non-null datetime64[ns]\n",
      "order_visit_diff    50415 non-null float64\n",
      "order_month         50415 non-null datetime64[ns]\n",
      "Source Id           50415 non-null int64\n",
      "dtypes: datetime64[ns](4), float64(2), int64(1), uint64(1)\n",
      "memory usage: 3.5 MB\n"
     ]
    },
    {
     "data": {
      "text/html": [
       "<div>\n",
       "<style scoped>\n",
       "    .dataframe tbody tr th:only-of-type {\n",
       "        vertical-align: middle;\n",
       "    }\n",
       "\n",
       "    .dataframe tbody tr th {\n",
       "        vertical-align: top;\n",
       "    }\n",
       "\n",
       "    .dataframe thead th {\n",
       "        text-align: right;\n",
       "    }\n",
       "</style>\n",
       "<table border=\"1\" class=\"dataframe\">\n",
       "  <thead>\n",
       "    <tr style=\"text-align: right;\">\n",
       "      <th></th>\n",
       "      <th>Buy Ts</th>\n",
       "      <th>Revenue</th>\n",
       "      <th>Uid</th>\n",
       "      <th>order_date</th>\n",
       "      <th>first_visit_date</th>\n",
       "      <th>order_visit_diff</th>\n",
       "      <th>order_month</th>\n",
       "      <th>Source Id</th>\n",
       "    </tr>\n",
       "  </thead>\n",
       "  <tbody>\n",
       "    <tr>\n",
       "      <td>0</td>\n",
       "      <td>2017-06-01 00:10:00</td>\n",
       "      <td>17.00</td>\n",
       "      <td>10329302124590727494</td>\n",
       "      <td>2017-06-01</td>\n",
       "      <td>2017-06-01</td>\n",
       "      <td>0.0</td>\n",
       "      <td>2017-06-01</td>\n",
       "      <td>1</td>\n",
       "    </tr>\n",
       "    <tr>\n",
       "      <td>1</td>\n",
       "      <td>2017-06-01 00:25:00</td>\n",
       "      <td>0.55</td>\n",
       "      <td>11627257723692907447</td>\n",
       "      <td>2017-06-01</td>\n",
       "      <td>2017-06-01</td>\n",
       "      <td>0.0</td>\n",
       "      <td>2017-06-01</td>\n",
       "      <td>2</td>\n",
       "    </tr>\n",
       "    <tr>\n",
       "      <td>2</td>\n",
       "      <td>2017-06-01 00:27:00</td>\n",
       "      <td>0.37</td>\n",
       "      <td>17903680561304213844</td>\n",
       "      <td>2017-06-01</td>\n",
       "      <td>2017-06-01</td>\n",
       "      <td>0.0</td>\n",
       "      <td>2017-06-01</td>\n",
       "      <td>2</td>\n",
       "    </tr>\n",
       "    <tr>\n",
       "      <td>3</td>\n",
       "      <td>2017-06-01 00:29:00</td>\n",
       "      <td>0.55</td>\n",
       "      <td>16109239769442553005</td>\n",
       "      <td>2017-06-01</td>\n",
       "      <td>2017-06-01</td>\n",
       "      <td>0.0</td>\n",
       "      <td>2017-06-01</td>\n",
       "      <td>2</td>\n",
       "    </tr>\n",
       "    <tr>\n",
       "      <td>4</td>\n",
       "      <td>2017-06-01 07:58:00</td>\n",
       "      <td>0.37</td>\n",
       "      <td>14200605875248379450</td>\n",
       "      <td>2017-06-01</td>\n",
       "      <td>2017-06-01</td>\n",
       "      <td>0.0</td>\n",
       "      <td>2017-06-01</td>\n",
       "      <td>3</td>\n",
       "    </tr>\n",
       "  </tbody>\n",
       "</table>\n",
       "</div>"
      ],
      "text/plain": [
       "               Buy Ts  Revenue                   Uid order_date  \\\n",
       "0 2017-06-01 00:10:00    17.00  10329302124590727494 2017-06-01   \n",
       "1 2017-06-01 00:25:00     0.55  11627257723692907447 2017-06-01   \n",
       "2 2017-06-01 00:27:00     0.37  17903680561304213844 2017-06-01   \n",
       "3 2017-06-01 00:29:00     0.55  16109239769442553005 2017-06-01   \n",
       "4 2017-06-01 07:58:00     0.37  14200605875248379450 2017-06-01   \n",
       "\n",
       "  first_visit_date  order_visit_diff order_month  Source Id  \n",
       "0       2017-06-01               0.0  2017-06-01          1  \n",
       "1       2017-06-01               0.0  2017-06-01          2  \n",
       "2       2017-06-01               0.0  2017-06-01          2  \n",
       "3       2017-06-01               0.0  2017-06-01          2  \n",
       "4       2017-06-01               0.0  2017-06-01          3  "
      ]
     },
     "execution_count": 44,
     "metadata": {},
     "output_type": "execute_result"
    }
   ],
   "source": [
    "#making a groupby for visits by uid and source id, and merging with orders.\n",
    "# Sort visits by \"Source Id\" before it's used\n",
    "visits = visits.sort_values(by=['Source Id'], ascending=[1])\n",
    "\n",
    "id_source = visits[['Uid', 'Source Id']].groupby('Uid')['Source Id'].first()\n",
    "orders = orders.merge(id_source, how='inner', on='Uid')\n",
    "\n",
    "orders.sort_values(by=['Uid', 'Revenue'], ascending=[1,0])\n",
    "\n",
    "orders.info()\n",
    "orders.head()"
   ]
  },
  {
   "cell_type": "code",
   "execution_count": 62,
   "metadata": {},
   "outputs": [
    {
     "name": "stdout",
     "output_type": "stream",
     "text": [
      "<class 'pandas.core.frame.DataFrame'>\n",
      "Int64Index: 7 entries, 0 to 6\n",
      "Data columns (total 7 columns):\n",
      "Source Id              7 non-null int64\n",
      "Revenue                7 non-null float64\n",
      "Uid                    7 non-null int64\n",
      "costs_per_source_id    7 non-null float64\n",
      "ltv                    7 non-null float64\n",
      "cac                    7 non-null float64\n",
      "roi                    7 non-null float64\n",
      "dtypes: float64(5), int64(2)\n",
      "memory usage: 448.0 bytes\n"
     ]
    },
    {
     "data": {
      "text/html": [
       "<div>\n",
       "<style scoped>\n",
       "    .dataframe tbody tr th:only-of-type {\n",
       "        vertical-align: middle;\n",
       "    }\n",
       "\n",
       "    .dataframe tbody tr th {\n",
       "        vertical-align: top;\n",
       "    }\n",
       "\n",
       "    .dataframe thead th {\n",
       "        text-align: right;\n",
       "    }\n",
       "</style>\n",
       "<table border=\"1\" class=\"dataframe\">\n",
       "  <thead>\n",
       "    <tr style=\"text-align: right;\">\n",
       "      <th></th>\n",
       "      <th>Source Id</th>\n",
       "      <th>Revenue</th>\n",
       "      <th>Uid</th>\n",
       "      <th>costs_per_source_id</th>\n",
       "      <th>ltv</th>\n",
       "      <th>cac</th>\n",
       "      <th>roi</th>\n",
       "    </tr>\n",
       "  </thead>\n",
       "  <tbody>\n",
       "    <tr>\n",
       "      <td>0</td>\n",
       "      <td>1</td>\n",
       "      <td>38560.06</td>\n",
       "      <td>3743</td>\n",
       "      <td>20833.27</td>\n",
       "      <td>10.301913</td>\n",
       "      <td>5.565928</td>\n",
       "      <td>1.850889</td>\n",
       "    </tr>\n",
       "    <tr>\n",
       "      <td>1</td>\n",
       "      <td>2</td>\n",
       "      <td>65152.26</td>\n",
       "      <td>4323</td>\n",
       "      <td>42806.04</td>\n",
       "      <td>15.071076</td>\n",
       "      <td>9.901929</td>\n",
       "      <td>1.522034</td>\n",
       "    </tr>\n",
       "    <tr>\n",
       "      <td>2</td>\n",
       "      <td>3</td>\n",
       "      <td>44317.68</td>\n",
       "      <td>9138</td>\n",
       "      <td>141321.63</td>\n",
       "      <td>4.849823</td>\n",
       "      <td>15.465269</td>\n",
       "      <td>0.313594</td>\n",
       "    </tr>\n",
       "    <tr>\n",
       "      <td>3</td>\n",
       "      <td>4</td>\n",
       "      <td>52479.75</td>\n",
       "      <td>9823</td>\n",
       "      <td>61073.60</td>\n",
       "      <td>5.342538</td>\n",
       "      <td>6.217408</td>\n",
       "      <td>0.859287</td>\n",
       "    </tr>\n",
       "    <tr>\n",
       "      <td>4</td>\n",
       "      <td>5</td>\n",
       "      <td>40357.91</td>\n",
       "      <td>6839</td>\n",
       "      <td>51757.10</td>\n",
       "      <td>5.901142</td>\n",
       "      <td>7.567934</td>\n",
       "      <td>0.779756</td>\n",
       "    </tr>\n",
       "  </tbody>\n",
       "</table>\n",
       "</div>"
      ],
      "text/plain": [
       "   Source Id   Revenue   Uid  costs_per_source_id        ltv        cac  \\\n",
       "0          1  38560.06  3743             20833.27  10.301913   5.565928   \n",
       "1          2  65152.26  4323             42806.04  15.071076   9.901929   \n",
       "2          3  44317.68  9138            141321.63   4.849823  15.465269   \n",
       "3          4  52479.75  9823             61073.60   5.342538   6.217408   \n",
       "4          5  40357.91  6839             51757.10   5.901142   7.567934   \n",
       "\n",
       "        roi  \n",
       "0  1.850889  \n",
       "1  1.522034  \n",
       "2  0.313594  \n",
       "3  0.859287  \n",
       "4  0.779756  "
      ]
     },
     "execution_count": 62,
     "metadata": {},
     "output_type": "execute_result"
    }
   ],
   "source": [
    "#making two different groupbys for revenue per source id and buyers per source id, and merging everything to a new report table\n",
    "revenue = orders.groupby('Source Id')['Revenue'].sum().reset_index()\n",
    "buyers = orders.groupby('Source Id').agg({'Uid':'nunique'}).reset_index()\n",
    "\n",
    "#merging everything together\n",
    "report2 = revenue.merge(buyers, on='Source Id')\n",
    "report2 = report2.merge(monthly_costs, on='Source Id')\n",
    "\n",
    "#calculating LTV, CAC, and ROI\n",
    "report2['ltv'] = report2['Revenue']/report2['Uid']\n",
    "report2['cac'] = report2['costs_per_source_id']/report2['Uid']\n",
    "report2['roi'] = report2['ltv']/report2['cac']\n",
    "\n",
    "report2.info()\n",
    "report2.head()"
   ]
  },
  {
   "cell_type": "code",
   "execution_count": 63,
   "metadata": {},
   "outputs": [
    {
     "data": {
      "image/png": "[encoded data removed]",
      "text/plain": [
       "<Figure size 432x288 with 1 Axes>"
      ]
     },
     "metadata": {
      "needs_background": "light"
     },
     "output_type": "display_data"
    },
    {
     "data": {
      "image/png": "[encoded data removed]",
      "text/plain": [
       "<Figure size 432x288 with 1 Axes>"
      ]
     },
     "metadata": {
      "needs_background": "light"
     },
     "output_type": "display_data"
    },
    {
     "data": {
      "image/png": "[encoded data removed]",
      "text/plain": [
       "<Figure size 432x288 with 1 Axes>"
      ]
     },
     "metadata": {
      "needs_background": "light"
     },
     "output_type": "display_data"
    }
   ],
   "source": [
    "#plotting the graphs for LTV, CAC, and ROI.\n",
    "report2.plot(x='Source Id', y='ltv', kind='bar')\n",
    "plt.title('LTV- how much customer brings to the company')\n",
    "plt.ylabel('How much customer brings')\n",
    "plt.show()\n",
    "\n",
    "report2.plot(x='Source Id', y='cac' , kind='bar')\n",
    "plt.title('CAC - How much customers cost to the company')\n",
    "plt.ylabel('How much it costs')\n",
    "plt.ylabel('')\n",
    "\n",
    "report2.plot(x='Source Id', y='roi' , kind='bar')\n",
    "plt.title('Return of Investment')\n",
    "plt.ylabel('ROI')\n",
    "plt.show()"
   ]
  },
  {
   "cell_type": "markdown",
   "metadata": {},
   "source": [
    "### Conclusion\n",
    "\n",
    "The LTV graph shows how much customers buy from each Source Id, and it shows that Source Id 1 and 2 bring the most money for the company.\n",
    "\n",
    "The CAC graph shows how much customers cost from each Source Id, Source Id 3 being the most expensive while Souce Id 9 being the least.\n",
    "\n",
    "The ROI graph shows how worthwhile the investment is, and it clearly shows that Source Id 1 and 2 are the best, while 3 isn't worthwhile \n",
    "\n",
    "From these graphs, we can clearly see that Source Id costs the most for each customer, and does NOT pay off in the long run. It's better to invest in Source Id 1 and 2 due to the low CAC and high LTV value while having the highest ROI. Source Id 9 may also be worth considering due to also having a high ROI and low CAC."
   ]
  },
  {
   "cell_type": "markdown",
   "metadata": {},
   "source": [
    "# Step 3 \n",
    "\n",
    "Conclusion: advise marketing experts how much money to invest and where.\n",
    "\n",
    "What sources and platforms are recommended?"
   ]
  },
  {
   "cell_type": "code",
   "execution_count": 64,
   "metadata": {},
   "outputs": [
    {
     "name": "stdout",
     "output_type": "stream",
     "text": [
      "Device\n",
      "desktop    6.447894e+06\n",
      "touch      5.143134e+05\n",
      "Name: Revenue, dtype: float64\n"
     ]
    },
    {
     "data": {
      "text/plain": [
       "Text(0, 0.5, 'Number of Devices')"
      ]
     },
     "execution_count": 64,
     "metadata": {},
     "output_type": "execute_result"
    },
    {
     "data": {
      "image/png": "[encoded data removed]",
      "text/plain": [
       "<Figure size 432x288 with 1 Axes>"
      ]
     },
     "metadata": {
      "needs_background": "light"
     },
     "output_type": "display_data"
    }
   ],
   "source": [
    "revenue_orders = visits.merge(orders, on='Uid')\n",
    "revenue_orders = revenue_orders.groupby('Device')['Revenue'].sum()\n",
    "print(revenue_orders)\n",
    "\n",
    "device_visits.plot(kind='bar')\n",
    "plt.title('Number of visits per device')\n",
    "plt.xlabel('Type of Device')\n",
    "plt.ylabel('Number of Devices')"
   ]
  },
  {
   "cell_type": "markdown",
   "metadata": {},
   "source": [
    "As we can see with the graph, most visits come from Desktop. Therefore it would be smart to invest into the desktop platform. This can be further proven with revenue table, which shows that desktop is more profitable compared to touch.\n",
    "\n",
    "However, even though desktop is more profitable, it doesn't mean to neglect touch devices either. They still bring in a lot of money compared to desktop, even though the amount of visits is a lot lower."
   ]
  },
  {
   "cell_type": "code",
   "execution_count": 65,
   "metadata": {},
   "outputs": [
    {
     "data": {
      "image/png": "[encoded data removed]",
      "text/plain": [
       "<Figure size 432x288 with 1 Axes>"
      ]
     },
     "metadata": {
      "needs_background": "light"
     },
     "output_type": "display_data"
    }
   ],
   "source": [
    "visits_over_time.plot(x='visit_month', y='count', kind='bar')\n",
    "plt.title('number of visits per month')\n",
    "plt.ylabel('visit count')\n",
    "plt.xlabel('visit months')\n",
    "plt.show()"
   ]
  },
  {
   "cell_type": "markdown",
   "metadata": {},
   "source": [
    "From this table, we can also see that a lot of the visits came from October, November, and December. I suggest it's better to invest more into ads in these months."
   ]
  },
  {
   "cell_type": "code",
   "execution_count": 66,
   "metadata": {},
   "outputs": [
    {
     "data": {
      "image/png": "[encoded data removed]",
      "text/plain": [
       "<Figure size 432x288 with 1 Axes>"
      ]
     },
     "metadata": {
      "needs_background": "light"
     },
     "output_type": "display_data"
    },
    {
     "data": {
      "image/png": "[encoded data removed]",
      "text/plain": [
       "<Figure size 432x288 with 1 Axes>"
      ]
     },
     "metadata": {
      "needs_background": "light"
     },
     "output_type": "display_data"
    },
    {
     "data": {
      "image/png": "[encoded data removed]",
      "text/plain": [
       "<Figure size 432x288 with 1 Axes>"
      ]
     },
     "metadata": {
      "needs_background": "light"
     },
     "output_type": "display_data"
    }
   ],
   "source": [
    "report2.plot(x='Source Id', y='ltv', kind='bar')\n",
    "plt.title('LTV- how much customer brings to the company')\n",
    "plt.ylabel('How much customer brings')\n",
    "plt.show()\n",
    "\n",
    "report2.plot(x='Source Id', y='cac' , kind='bar')\n",
    "plt.title('CAC - How much customers cost to the company')\n",
    "plt.ylabel('How much it costs')\n",
    "plt.ylabel('')\n",
    "\n",
    "report2.plot(x='Source Id', y='roi' , kind='bar')\n",
    "plt.title('Return of Investment')\n",
    "plt.ylabel('ROI')\n",
    "plt.show()"
   ]
  },
  {
   "cell_type": "markdown",
   "metadata": {},
   "source": [
    "From the LTV graph, we can see how many customers buy from each source id. Comparing it with the Return of Investment graph, we can clearly see that Source Id 1 and 2 are completely worth the money. Source Id 9, while not bringing as much money as 1 and 2, still has a high ROI making it worth the money to invest in.\n",
    "\n",
    "Comparitively, Source Id 3 should not be as invested as it is right now. It costs too much to acquire customers as seen in the CAC graph, and the amount of money that the customer brings to the company is very low as seen in the LTV graph. Compared to all the other Source Ids, Source Id 3 has by far the lowest ROI."
   ]
  }
 ],
 "metadata": {
  "ExecuteTimeLog": [
   {
    "duration": 957,
    "start_time": "2021-11-08T00:59:35.594Z"
   },
   {
    "duration": 1762,
    "start_time": "2021-11-08T01:58:22.423Z"
   },
   {
    "duration": 51,
    "start_time": "2021-11-08T01:58:27.219Z"
   },
   {
    "duration": 9,
    "start_time": "2021-11-08T01:58:33.675Z"
   },
   {
    "duration": 6,
    "start_time": "2021-11-08T01:58:40.845Z"
   },
   {
    "duration": 33,
    "start_time": "2021-11-08T02:00:14.196Z"
   },
   {
    "duration": 51,
    "start_time": "2021-11-08T02:01:50.782Z"
   },
   {
    "duration": 2005,
    "start_time": "2021-11-08T02:05:12.985Z"
   },
   {
    "duration": 10,
    "start_time": "2021-11-08T02:05:17.671Z"
   },
   {
    "duration": 10,
    "start_time": "2021-11-08T02:10:14.616Z"
   },
   {
    "duration": 19,
    "start_time": "2021-11-08T02:11:39.380Z"
   },
   {
    "duration": 10,
    "start_time": "2021-11-08T03:09:31.455Z"
   },
   {
    "duration": 13,
    "start_time": "2021-11-08T03:09:36.875Z"
   },
   {
    "duration": 1312,
    "start_time": "2021-11-08T03:54:45.007Z"
   },
   {
    "duration": 1095,
    "start_time": "2021-11-08T03:55:05.405Z"
   },
   {
    "duration": 19,
    "start_time": "2021-11-08T03:55:08.467Z"
   },
   {
    "duration": 14,
    "start_time": "2021-11-08T03:55:28.722Z"
   },
   {
    "duration": 12,
    "start_time": "2021-11-08T03:55:47.044Z"
   },
   {
    "duration": 4497,
    "start_time": "2021-11-08T04:37:58.390Z"
   },
   {
    "duration": 101,
    "start_time": "2021-11-08T04:38:38.639Z"
   },
   {
    "duration": 19,
    "start_time": "2021-11-08T04:38:44.659Z"
   },
   {
    "duration": 20,
    "start_time": "2021-11-08T04:43:43.161Z"
   },
   {
    "duration": 14,
    "start_time": "2021-11-08T04:45:25.131Z"
   },
   {
    "duration": 12,
    "start_time": "2021-11-08T04:45:30.479Z"
   },
   {
    "duration": 159,
    "start_time": "2021-11-08T04:45:40.881Z"
   },
   {
    "duration": 42,
    "start_time": "2021-11-08T04:45:45.381Z"
   },
   {
    "duration": 82,
    "start_time": "2021-11-08T04:46:42.980Z"
   },
   {
    "duration": 33,
    "start_time": "2021-11-08T04:46:44.411Z"
   },
   {
    "duration": 261,
    "start_time": "2021-11-08T04:49:04.874Z"
   },
   {
    "duration": 4,
    "start_time": "2021-11-08T04:49:10.931Z"
   },
   {
    "duration": 1046,
    "start_time": "2021-11-08T04:49:10.937Z"
   },
   {
    "duration": 20,
    "start_time": "2021-11-08T04:49:11.985Z"
   },
   {
    "duration": 13,
    "start_time": "2021-11-08T04:49:12.007Z"
   },
   {
    "duration": 12,
    "start_time": "2021-11-08T04:49:12.022Z"
   },
   {
    "duration": 110,
    "start_time": "2021-11-08T04:49:12.036Z"
   },
   {
    "duration": 43,
    "start_time": "2021-11-08T04:49:12.148Z"
   },
   {
    "duration": 244,
    "start_time": "2021-11-08T04:49:13.806Z"
   },
   {
    "duration": 173,
    "start_time": "2021-11-08T05:14:09.662Z"
   },
   {
    "duration": 93,
    "start_time": "2021-11-08T05:14:13.887Z"
   },
   {
    "duration": 20,
    "start_time": "2021-11-08T06:28:05.207Z"
   },
   {
    "duration": 19,
    "start_time": "2021-11-08T06:37:20.581Z"
   },
   {
    "duration": 101,
    "start_time": "2021-11-08T06:37:33.559Z"
   },
   {
    "duration": 106,
    "start_time": "2021-11-08T06:37:41.285Z"
   },
   {
    "duration": 19,
    "start_time": "2021-11-08T06:38:47.922Z"
   },
   {
    "duration": 12,
    "start_time": "2021-11-08T06:40:25.218Z"
   },
   {
    "duration": 30,
    "start_time": "2021-11-08T06:41:42.308Z"
   },
   {
    "duration": 22,
    "start_time": "2021-11-08T06:44:19.941Z"
   },
   {
    "duration": 20,
    "start_time": "2021-11-08T06:44:27.296Z"
   },
   {
    "duration": 75,
    "start_time": "2021-11-08T06:51:09.496Z"
   },
   {
    "duration": 78,
    "start_time": "2021-11-08T06:51:15.539Z"
   },
   {
    "duration": 71,
    "start_time": "2021-11-08T06:51:43.143Z"
   },
   {
    "duration": 74,
    "start_time": "2021-11-08T06:51:49.710Z"
   },
   {
    "duration": 3,
    "start_time": "2021-11-08T06:52:34.368Z"
   },
   {
    "duration": 1050,
    "start_time": "2021-11-08T06:52:34.373Z"
   },
   {
    "duration": 19,
    "start_time": "2021-11-08T06:52:35.425Z"
   },
   {
    "duration": 5,
    "start_time": "2021-11-08T06:52:37.730Z"
   },
   {
    "duration": 85,
    "start_time": "2021-11-08T06:54:21.482Z"
   },
   {
    "duration": 3,
    "start_time": "2021-11-08T06:54:53.962Z"
   },
   {
    "duration": 1028,
    "start_time": "2021-11-08T06:54:53.967Z"
   },
   {
    "duration": 19,
    "start_time": "2021-11-08T06:54:54.996Z"
   },
   {
    "duration": 11,
    "start_time": "2021-11-08T06:54:55.017Z"
   },
   {
    "duration": 12,
    "start_time": "2021-11-08T06:54:55.029Z"
   },
   {
    "duration": 113,
    "start_time": "2021-11-08T06:54:55.042Z"
   },
   {
    "duration": 44,
    "start_time": "2021-11-08T06:54:55.156Z"
   },
   {
    "duration": 259,
    "start_time": "2021-11-08T06:54:55.202Z"
   },
   {
    "duration": 28,
    "start_time": "2021-11-08T06:54:55.463Z"
   },
   {
    "duration": 31,
    "start_time": "2021-11-08T06:54:55.493Z"
   },
   {
    "duration": 80,
    "start_time": "2021-11-08T06:54:58.944Z"
   },
   {
    "duration": 138,
    "start_time": "2021-11-08T06:59:09.846Z"
   },
   {
    "duration": 99,
    "start_time": "2021-11-08T06:59:14.105Z"
   },
   {
    "duration": 147,
    "start_time": "2021-11-08T06:59:15.299Z"
   },
   {
    "duration": 3,
    "start_time": "2021-11-08T06:59:25.660Z"
   },
   {
    "duration": 1083,
    "start_time": "2021-11-08T06:59:25.664Z"
   },
   {
    "duration": 19,
    "start_time": "2021-11-08T06:59:26.749Z"
   },
   {
    "duration": 12,
    "start_time": "2021-11-08T06:59:26.770Z"
   },
   {
    "duration": 12,
    "start_time": "2021-11-08T06:59:26.783Z"
   },
   {
    "duration": 78,
    "start_time": "2021-11-08T06:59:26.797Z"
   },
   {
    "duration": 46,
    "start_time": "2021-11-08T06:59:26.876Z"
   },
   {
    "duration": 256,
    "start_time": "2021-11-08T06:59:26.924Z"
   },
   {
    "duration": 21,
    "start_time": "2021-11-08T06:59:27.183Z"
   },
   {
    "duration": 29,
    "start_time": "2021-11-08T06:59:27.205Z"
   },
   {
    "duration": 102,
    "start_time": "2021-11-08T06:59:27.236Z"
   },
   {
    "duration": 107,
    "start_time": "2021-11-08T06:59:27.340Z"
   },
   {
    "duration": 146,
    "start_time": "2021-11-08T06:59:29.720Z"
   },
   {
    "duration": 38,
    "start_time": "2021-11-08T07:01:05.609Z"
   },
   {
    "duration": 14,
    "start_time": "2021-11-08T07:01:12.354Z"
   },
   {
    "duration": 14,
    "start_time": "2021-11-08T07:01:17.535Z"
   },
   {
    "duration": 36,
    "start_time": "2021-11-08T07:04:08.476Z"
   },
   {
    "duration": 34,
    "start_time": "2021-11-08T07:04:33.838Z"
   },
   {
    "duration": 20,
    "start_time": "2021-11-08T07:05:24.928Z"
   },
   {
    "duration": 15,
    "start_time": "2021-11-08T07:10:18.735Z"
   },
   {
    "duration": 15,
    "start_time": "2021-11-08T07:10:24.047Z"
   },
   {
    "duration": 14,
    "start_time": "2021-11-08T07:10:28.722Z"
   },
   {
    "duration": 187,
    "start_time": "2021-11-08T07:14:40.285Z"
   },
   {
    "duration": 37,
    "start_time": "2021-11-08T07:15:01.335Z"
   },
   {
    "duration": 4,
    "start_time": "2021-11-08T07:15:10.193Z"
   },
   {
    "duration": 1015,
    "start_time": "2021-11-08T07:15:10.198Z"
   },
   {
    "duration": 18,
    "start_time": "2021-11-08T07:15:11.215Z"
   },
   {
    "duration": 10,
    "start_time": "2021-11-08T07:15:11.235Z"
   },
   {
    "duration": 15,
    "start_time": "2021-11-08T07:15:11.247Z"
   },
   {
    "duration": 86,
    "start_time": "2021-11-08T07:15:11.263Z"
   },
   {
    "duration": 41,
    "start_time": "2021-11-08T07:15:11.351Z"
   },
   {
    "duration": 245,
    "start_time": "2021-11-08T07:15:11.394Z"
   },
   {
    "duration": 17,
    "start_time": "2021-11-08T07:15:11.642Z"
   },
   {
    "duration": 45,
    "start_time": "2021-11-08T07:15:11.660Z"
   },
   {
    "duration": 85,
    "start_time": "2021-11-08T07:15:11.706Z"
   },
   {
    "duration": 107,
    "start_time": "2021-11-08T07:15:11.793Z"
   },
   {
    "duration": 139,
    "start_time": "2021-11-08T07:15:11.901Z"
   },
   {
    "duration": 34,
    "start_time": "2021-11-08T07:15:12.041Z"
   },
   {
    "duration": 37,
    "start_time": "2021-11-08T07:15:15.040Z"
   },
   {
    "duration": 1516,
    "start_time": "2021-11-08T07:15:18.010Z"
   },
   {
    "duration": 11,
    "start_time": "2021-11-08T07:24:53.075Z"
   },
   {
    "duration": 12,
    "start_time": "2021-11-08T07:25:01.724Z"
   },
   {
    "duration": 13,
    "start_time": "2021-11-08T07:25:05.272Z"
   },
   {
    "duration": 265,
    "start_time": "2021-11-08T07:27:25.715Z"
   },
   {
    "duration": 344,
    "start_time": "2021-11-08T07:27:34.349Z"
   },
   {
    "duration": 278,
    "start_time": "2021-11-08T07:29:30.815Z"
   },
   {
    "duration": 10,
    "start_time": "2021-11-08T07:34:38.109Z"
   },
   {
    "duration": 178,
    "start_time": "2021-11-08T07:36:05.778Z"
   },
   {
    "duration": 4,
    "start_time": "2021-11-08T07:36:11.565Z"
   },
   {
    "duration": 3,
    "start_time": "2021-11-08T07:36:23.662Z"
   },
   {
    "duration": 14,
    "start_time": "2021-11-08T07:36:49.124Z"
   },
   {
    "duration": 18,
    "start_time": "2021-11-08T07:37:52.611Z"
   },
   {
    "duration": 17,
    "start_time": "2021-11-08T07:40:30.088Z"
   },
   {
    "duration": 17,
    "start_time": "2021-11-08T07:40:43.374Z"
   },
   {
    "duration": 10,
    "start_time": "2021-11-08T07:41:18.558Z"
   },
   {
    "duration": 180,
    "start_time": "2021-11-08T08:16:11.853Z"
   },
   {
    "duration": 13,
    "start_time": "2021-11-08T08:16:18.199Z"
   },
   {
    "duration": 19,
    "start_time": "2021-11-08T08:16:24.270Z"
   },
   {
    "duration": 5,
    "start_time": "2021-11-08T08:24:24.487Z"
   },
   {
    "duration": 67,
    "start_time": "2021-11-08T08:24:45.450Z"
   },
   {
    "duration": 4,
    "start_time": "2021-11-08T08:24:50.840Z"
   },
   {
    "duration": 5,
    "start_time": "2021-11-08T08:28:11.003Z"
   },
   {
    "duration": 5,
    "start_time": "2021-11-08T08:28:14.643Z"
   },
   {
    "duration": 7,
    "start_time": "2021-11-08T08:28:23.081Z"
   },
   {
    "duration": 4,
    "start_time": "2021-11-08T08:28:28.173Z"
   },
   {
    "duration": 10,
    "start_time": "2021-11-08T08:52:49.178Z"
   },
   {
    "duration": 6,
    "start_time": "2021-11-08T08:52:54.039Z"
   },
   {
    "duration": 9,
    "start_time": "2021-11-08T08:53:15.224Z"
   },
   {
    "duration": 18,
    "start_time": "2021-11-08T08:54:50.185Z"
   },
   {
    "duration": 21,
    "start_time": "2021-11-08T08:59:32.567Z"
   },
   {
    "duration": 22,
    "start_time": "2021-11-08T08:59:37.023Z"
   },
   {
    "duration": 1530,
    "start_time": "2021-11-09T00:35:16.264Z"
   },
   {
    "duration": 1922,
    "start_time": "2021-11-09T00:35:17.796Z"
   },
   {
    "duration": 37,
    "start_time": "2021-11-09T00:35:19.721Z"
   },
   {
    "duration": 18,
    "start_time": "2021-11-09T00:35:19.761Z"
   },
   {
    "duration": 36,
    "start_time": "2021-11-09T00:35:19.781Z"
   },
   {
    "duration": 140,
    "start_time": "2021-11-09T00:35:19.819Z"
   },
   {
    "duration": 61,
    "start_time": "2021-11-09T00:35:19.961Z"
   },
   {
    "duration": 345,
    "start_time": "2021-11-09T00:35:20.024Z"
   },
   {
    "duration": 40,
    "start_time": "2021-11-09T00:35:20.374Z"
   },
   {
    "duration": 46,
    "start_time": "2021-11-09T00:35:20.416Z"
   },
   {
    "duration": 157,
    "start_time": "2021-11-09T00:35:20.465Z"
   },
   {
    "duration": 176,
    "start_time": "2021-11-09T00:35:20.624Z"
   },
   {
    "duration": 282,
    "start_time": "2021-11-09T00:35:20.803Z"
   },
   {
    "duration": 62,
    "start_time": "2021-11-09T00:35:21.088Z"
   },
   {
    "duration": 2165,
    "start_time": "2021-11-09T00:35:21.152Z"
   },
   {
    "duration": 440,
    "start_time": "2021-11-09T00:35:23.319Z"
   },
   {
    "duration": 40,
    "start_time": "2021-11-09T00:35:23.761Z"
   },
   {
    "duration": 5,
    "start_time": "2021-11-09T00:35:23.804Z"
   },
   {
    "duration": 27,
    "start_time": "2021-11-09T00:35:23.812Z"
   },
   {
    "duration": 64,
    "start_time": "2021-11-09T00:35:23.841Z"
   },
   {
    "duration": 15,
    "start_time": "2021-11-09T00:35:28.071Z"
   },
   {
    "duration": 16,
    "start_time": "2021-11-09T00:35:58.306Z"
   },
   {
    "duration": 11,
    "start_time": "2021-11-09T00:37:11.876Z"
   },
   {
    "duration": 9,
    "start_time": "2021-11-09T00:37:24.117Z"
   },
   {
    "duration": 16,
    "start_time": "2021-11-09T00:37:30.794Z"
   },
   {
    "duration": 11,
    "start_time": "2021-11-09T00:37:53.319Z"
   },
   {
    "duration": 28,
    "start_time": "2021-11-09T00:39:57.616Z"
   },
   {
    "duration": 27,
    "start_time": "2021-11-09T00:40:08.980Z"
   },
   {
    "duration": 12,
    "start_time": "2021-11-09T00:40:20.990Z"
   },
   {
    "duration": 6,
    "start_time": "2021-11-09T00:40:38.498Z"
   },
   {
    "duration": 2209,
    "start_time": "2021-11-09T00:40:38.507Z"
   },
   {
    "duration": 28,
    "start_time": "2021-11-09T00:40:40.719Z"
   },
   {
    "duration": 18,
    "start_time": "2021-11-09T00:40:40.750Z"
   },
   {
    "duration": 19,
    "start_time": "2021-11-09T00:40:40.770Z"
   },
   {
    "duration": 172,
    "start_time": "2021-11-09T00:40:40.792Z"
   },
   {
    "duration": 52,
    "start_time": "2021-11-09T00:40:40.967Z"
   },
   {
    "duration": 410,
    "start_time": "2021-11-09T00:40:41.022Z"
   },
   {
    "duration": 27,
    "start_time": "2021-11-09T00:40:41.435Z"
   },
   {
    "duration": 67,
    "start_time": "2021-11-09T00:40:41.464Z"
   },
   {
    "duration": 128,
    "start_time": "2021-11-09T00:40:41.534Z"
   },
   {
    "duration": 169,
    "start_time": "2021-11-09T00:40:41.664Z"
   },
   {
    "duration": 257,
    "start_time": "2021-11-09T00:40:41.835Z"
   },
   {
    "duration": 60,
    "start_time": "2021-11-09T00:40:42.095Z"
   },
   {
    "duration": 2179,
    "start_time": "2021-11-09T00:40:42.157Z"
   },
   {
    "duration": 407,
    "start_time": "2021-11-09T00:40:44.340Z"
   },
   {
    "duration": 28,
    "start_time": "2021-11-09T00:40:44.751Z"
   },
   {
    "duration": 6,
    "start_time": "2021-11-09T00:40:44.801Z"
   },
   {
    "duration": 14,
    "start_time": "2021-11-09T00:40:44.810Z"
   },
   {
    "duration": 27,
    "start_time": "2021-11-09T00:40:48.552Z"
   },
   {
    "duration": 20,
    "start_time": "2021-11-09T00:41:23.725Z"
   },
   {
    "duration": 35,
    "start_time": "2021-11-09T00:42:25.220Z"
   },
   {
    "duration": 36,
    "start_time": "2021-11-09T00:48:48.907Z"
   },
   {
    "duration": 9740,
    "start_time": "2021-11-09T00:50:07.174Z"
   },
   {
    "duration": 27,
    "start_time": "2021-11-09T00:50:35.555Z"
   },
   {
    "duration": 32,
    "start_time": "2021-11-09T00:52:48.064Z"
   },
   {
    "duration": 9554,
    "start_time": "2021-11-09T00:53:48.241Z"
   },
   {
    "duration": 27,
    "start_time": "2021-11-09T00:54:14.152Z"
   },
   {
    "duration": 57,
    "start_time": "2021-11-09T00:57:12.794Z"
   },
   {
    "duration": 5,
    "start_time": "2021-11-09T00:57:35.526Z"
   },
   {
    "duration": 1784,
    "start_time": "2021-11-09T00:57:35.533Z"
   },
   {
    "duration": 31,
    "start_time": "2021-11-09T00:57:37.321Z"
   },
   {
    "duration": 21,
    "start_time": "2021-11-09T00:57:37.355Z"
   },
   {
    "duration": 39,
    "start_time": "2021-11-09T00:57:37.378Z"
   },
   {
    "duration": 138,
    "start_time": "2021-11-09T00:57:37.419Z"
   },
   {
    "duration": 56,
    "start_time": "2021-11-09T00:57:37.559Z"
   },
   {
    "duration": 335,
    "start_time": "2021-11-09T00:57:37.617Z"
   },
   {
    "duration": 28,
    "start_time": "2021-11-09T00:57:37.956Z"
   },
   {
    "duration": 47,
    "start_time": "2021-11-09T00:57:38.001Z"
   },
   {
    "duration": 144,
    "start_time": "2021-11-09T00:57:38.051Z"
   },
   {
    "duration": 166,
    "start_time": "2021-11-09T00:57:38.201Z"
   },
   {
    "duration": 245,
    "start_time": "2021-11-09T00:57:38.370Z"
   },
   {
    "duration": 55,
    "start_time": "2021-11-09T00:57:38.618Z"
   },
   {
    "duration": 2177,
    "start_time": "2021-11-09T00:57:38.675Z"
   },
   {
    "duration": 412,
    "start_time": "2021-11-09T00:57:40.854Z"
   },
   {
    "duration": 40,
    "start_time": "2021-11-09T00:57:41.269Z"
   },
   {
    "duration": 4,
    "start_time": "2021-11-09T00:57:41.311Z"
   },
   {
    "duration": 18,
    "start_time": "2021-11-09T00:57:41.317Z"
   },
   {
    "duration": 29,
    "start_time": "2021-11-09T00:57:41.338Z"
   },
   {
    "duration": 44,
    "start_time": "2021-11-09T00:57:41.369Z"
   },
   {
    "duration": 33,
    "start_time": "2021-11-09T00:57:41.415Z"
   },
   {
    "duration": 53,
    "start_time": "2021-11-09T00:57:41.450Z"
   },
   {
    "duration": 20,
    "start_time": "2021-11-09T00:57:41.506Z"
   },
   {
    "duration": 28,
    "start_time": "2021-11-09T00:57:41.529Z"
   },
   {
    "duration": 58,
    "start_time": "2021-11-09T00:57:43.986Z"
   },
   {
    "duration": 4,
    "start_time": "2021-11-09T01:08:17.875Z"
   },
   {
    "duration": 1827,
    "start_time": "2021-11-09T01:08:17.882Z"
   },
   {
    "duration": 32,
    "start_time": "2021-11-09T01:08:19.712Z"
   },
   {
    "duration": 19,
    "start_time": "2021-11-09T01:08:19.747Z"
   },
   {
    "duration": 41,
    "start_time": "2021-11-09T01:08:19.768Z"
   },
   {
    "duration": 132,
    "start_time": "2021-11-09T01:08:19.811Z"
   },
   {
    "duration": 59,
    "start_time": "2021-11-09T01:08:19.945Z"
   },
   {
    "duration": 344,
    "start_time": "2021-11-09T01:08:20.006Z"
   },
   {
    "duration": 28,
    "start_time": "2021-11-09T01:08:20.353Z"
   },
   {
    "duration": 46,
    "start_time": "2021-11-09T01:08:20.400Z"
   },
   {
    "duration": 138,
    "start_time": "2021-11-09T01:08:20.449Z"
   },
   {
    "duration": 168,
    "start_time": "2021-11-09T01:08:20.589Z"
   },
   {
    "duration": 274,
    "start_time": "2021-11-09T01:08:20.760Z"
   },
   {
    "duration": 65,
    "start_time": "2021-11-09T01:08:21.037Z"
   },
   {
    "duration": 2165,
    "start_time": "2021-11-09T01:08:21.104Z"
   },
   {
    "duration": 424,
    "start_time": "2021-11-09T01:08:23.272Z"
   },
   {
    "duration": 28,
    "start_time": "2021-11-09T01:08:23.701Z"
   },
   {
    "duration": 6,
    "start_time": "2021-11-09T01:08:23.732Z"
   },
   {
    "duration": 13,
    "start_time": "2021-11-09T01:08:23.741Z"
   },
   {
    "duration": 22,
    "start_time": "2021-11-09T01:08:24.954Z"
   },
   {
    "duration": 6,
    "start_time": "2021-11-09T01:10:30.294Z"
   },
   {
    "duration": 1940,
    "start_time": "2021-11-09T01:10:30.304Z"
   },
   {
    "duration": 34,
    "start_time": "2021-11-09T01:10:32.248Z"
   },
   {
    "duration": 23,
    "start_time": "2021-11-09T01:10:32.285Z"
   },
   {
    "duration": 21,
    "start_time": "2021-11-09T01:10:32.310Z"
   },
   {
    "duration": 144,
    "start_time": "2021-11-09T01:10:32.334Z"
   },
   {
    "duration": 57,
    "start_time": "2021-11-09T01:10:32.481Z"
   },
   {
    "duration": 403,
    "start_time": "2021-11-09T01:10:32.540Z"
   },
   {
    "duration": 31,
    "start_time": "2021-11-09T01:10:32.947Z"
   },
   {
    "duration": 68,
    "start_time": "2021-11-09T01:10:32.981Z"
   },
   {
    "duration": 152,
    "start_time": "2021-11-09T01:10:33.052Z"
   },
   {
    "duration": 180,
    "start_time": "2021-11-09T01:10:33.206Z"
   },
   {
    "duration": 304,
    "start_time": "2021-11-09T01:10:33.389Z"
   },
   {
    "duration": 81,
    "start_time": "2021-11-09T01:10:33.696Z"
   },
   {
    "duration": 2812,
    "start_time": "2021-11-09T01:10:33.779Z"
   },
   {
    "duration": 440,
    "start_time": "2021-11-09T01:10:36.601Z"
   },
   {
    "duration": 29,
    "start_time": "2021-11-09T01:10:37.044Z"
   },
   {
    "duration": 27,
    "start_time": "2021-11-09T01:10:37.076Z"
   },
   {
    "duration": 19,
    "start_time": "2021-11-09T01:10:37.105Z"
   },
   {
    "duration": 31,
    "start_time": "2021-11-09T01:10:37.126Z"
   },
   {
    "duration": 52,
    "start_time": "2021-11-09T01:10:37.159Z"
   },
   {
    "duration": 35,
    "start_time": "2021-11-09T01:10:37.214Z"
   },
   {
    "duration": 52,
    "start_time": "2021-11-09T01:10:37.251Z"
   },
   {
    "duration": 19,
    "start_time": "2021-11-09T01:10:46.938Z"
   },
   {
    "duration": 5,
    "start_time": "2021-11-09T01:12:51.928Z"
   },
   {
    "duration": 3345,
    "start_time": "2021-11-09T01:12:51.936Z"
   },
   {
    "duration": 31,
    "start_time": "2021-11-09T01:12:55.284Z"
   },
   {
    "duration": 23,
    "start_time": "2021-11-09T01:12:55.318Z"
   },
   {
    "duration": 57,
    "start_time": "2021-11-09T01:12:55.344Z"
   },
   {
    "duration": 131,
    "start_time": "2021-11-09T01:12:55.404Z"
   },
   {
    "duration": 65,
    "start_time": "2021-11-09T01:12:55.537Z"
   },
   {
    "duration": 341,
    "start_time": "2021-11-09T01:12:55.606Z"
   },
   {
    "duration": 29,
    "start_time": "2021-11-09T01:12:55.952Z"
   },
   {
    "duration": 46,
    "start_time": "2021-11-09T01:12:56.001Z"
   },
   {
    "duration": 155,
    "start_time": "2021-11-09T01:12:56.050Z"
   },
   {
    "duration": 170,
    "start_time": "2021-11-09T01:12:56.209Z"
   },
   {
    "duration": 255,
    "start_time": "2021-11-09T01:12:56.382Z"
   },
   {
    "duration": 75,
    "start_time": "2021-11-09T01:12:56.640Z"
   },
   {
    "duration": 2186,
    "start_time": "2021-11-09T01:12:56.718Z"
   },
   {
    "duration": 400,
    "start_time": "2021-11-09T01:12:58.907Z"
   },
   {
    "duration": 29,
    "start_time": "2021-11-09T01:12:59.310Z"
   },
   {
    "duration": 5,
    "start_time": "2021-11-09T01:12:59.342Z"
   },
   {
    "duration": 12,
    "start_time": "2021-11-09T01:12:59.350Z"
   },
   {
    "duration": 60,
    "start_time": "2021-11-09T01:12:59.365Z"
   },
   {
    "duration": 19,
    "start_time": "2021-11-09T01:12:59.428Z"
   },
   {
    "duration": 62,
    "start_time": "2021-11-09T01:12:59.450Z"
   },
   {
    "duration": 25,
    "start_time": "2021-11-09T01:12:59.515Z"
   },
   {
    "duration": 16,
    "start_time": "2021-11-09T01:12:59.542Z"
   },
   {
    "duration": 51,
    "start_time": "2021-11-09T01:12:59.561Z"
   },
   {
    "duration": 56,
    "start_time": "2021-11-09T01:12:59.615Z"
   },
   {
    "duration": 8,
    "start_time": "2021-11-09T01:13:22.330Z"
   },
   {
    "duration": 4,
    "start_time": "2021-11-09T01:20:05.009Z"
   },
   {
    "duration": 1834,
    "start_time": "2021-11-09T01:20:05.015Z"
   },
   {
    "duration": 32,
    "start_time": "2021-11-09T01:20:06.852Z"
   },
   {
    "duration": 20,
    "start_time": "2021-11-09T01:20:06.888Z"
   },
   {
    "duration": 22,
    "start_time": "2021-11-09T01:20:06.911Z"
   },
   {
    "duration": 148,
    "start_time": "2021-11-09T01:20:06.935Z"
   },
   {
    "duration": 55,
    "start_time": "2021-11-09T01:20:07.086Z"
   },
   {
    "duration": 353,
    "start_time": "2021-11-09T01:20:07.143Z"
   },
   {
    "duration": 29,
    "start_time": "2021-11-09T01:20:07.502Z"
   },
   {
    "duration": 68,
    "start_time": "2021-11-09T01:20:07.534Z"
   },
   {
    "duration": 145,
    "start_time": "2021-11-09T01:20:07.604Z"
   },
   {
    "duration": 173,
    "start_time": "2021-11-09T01:20:07.752Z"
   },
   {
    "duration": 277,
    "start_time": "2021-11-09T01:20:07.927Z"
   },
   {
    "duration": 59,
    "start_time": "2021-11-09T01:20:08.207Z"
   },
   {
    "duration": 2241,
    "start_time": "2021-11-09T01:20:08.269Z"
   },
   {
    "duration": 414,
    "start_time": "2021-11-09T01:20:10.513Z"
   },
   {
    "duration": 29,
    "start_time": "2021-11-09T01:20:10.930Z"
   },
   {
    "duration": 5,
    "start_time": "2021-11-09T01:20:10.961Z"
   },
   {
    "duration": 39,
    "start_time": "2021-11-09T01:20:10.969Z"
   },
   {
    "duration": 28,
    "start_time": "2021-11-09T01:20:11.010Z"
   },
   {
    "duration": 18,
    "start_time": "2021-11-09T01:20:11.041Z"
   },
   {
    "duration": 63,
    "start_time": "2021-11-09T01:20:11.061Z"
   },
   {
    "duration": 27,
    "start_time": "2021-11-09T01:20:11.126Z"
   },
   {
    "duration": 16,
    "start_time": "2021-11-09T01:20:11.155Z"
   },
   {
    "duration": 20,
    "start_time": "2021-11-09T01:20:11.201Z"
   },
   {
    "duration": 78,
    "start_time": "2021-11-09T01:20:11.224Z"
   },
   {
    "duration": 7,
    "start_time": "2021-11-09T01:20:11.306Z"
   },
   {
    "duration": 20,
    "start_time": "2021-11-09T01:39:11.815Z"
   },
   {
    "duration": 6,
    "start_time": "2021-11-09T01:40:17.678Z"
   },
   {
    "duration": 5,
    "start_time": "2021-11-09T01:40:42.012Z"
   },
   {
    "duration": 19,
    "start_time": "2021-11-09T01:40:58.936Z"
   },
   {
    "duration": 13,
    "start_time": "2021-11-09T01:44:21.562Z"
   },
   {
    "duration": 502,
    "start_time": "2021-11-09T01:45:39.114Z"
   },
   {
    "duration": 14,
    "start_time": "2021-11-09T01:45:50.750Z"
   },
   {
    "duration": 18,
    "start_time": "2021-11-09T01:48:18.967Z"
   },
   {
    "duration": 18,
    "start_time": "2021-11-09T01:49:41.404Z"
   },
   {
    "duration": 51,
    "start_time": "2021-11-09T02:23:17.613Z"
   },
   {
    "duration": 5,
    "start_time": "2021-11-09T02:23:25.349Z"
   },
   {
    "duration": 1717,
    "start_time": "2021-11-09T02:23:25.357Z"
   },
   {
    "duration": 30,
    "start_time": "2021-11-09T02:23:27.078Z"
   },
   {
    "duration": 20,
    "start_time": "2021-11-09T02:23:27.110Z"
   },
   {
    "duration": 22,
    "start_time": "2021-11-09T02:23:27.133Z"
   },
   {
    "duration": 156,
    "start_time": "2021-11-09T02:23:27.158Z"
   },
   {
    "duration": 50,
    "start_time": "2021-11-09T02:23:27.317Z"
   },
   {
    "duration": 357,
    "start_time": "2021-11-09T02:23:27.369Z"
   },
   {
    "duration": 29,
    "start_time": "2021-11-09T02:23:27.730Z"
   },
   {
    "duration": 69,
    "start_time": "2021-11-09T02:23:27.761Z"
   },
   {
    "duration": 136,
    "start_time": "2021-11-09T02:23:27.832Z"
   },
   {
    "duration": 182,
    "start_time": "2021-11-09T02:23:27.970Z"
   },
   {
    "duration": 249,
    "start_time": "2021-11-09T02:23:28.155Z"
   },
   {
    "duration": 54,
    "start_time": "2021-11-09T02:23:28.407Z"
   },
   {
    "duration": 2346,
    "start_time": "2021-11-09T02:23:28.463Z"
   },
   {
    "duration": 427,
    "start_time": "2021-11-09T02:23:30.811Z"
   },
   {
    "duration": 28,
    "start_time": "2021-11-09T02:23:31.240Z"
   },
   {
    "duration": 5,
    "start_time": "2021-11-09T02:23:31.270Z"
   },
   {
    "duration": 30,
    "start_time": "2021-11-09T02:23:31.277Z"
   },
   {
    "duration": 30,
    "start_time": "2021-11-09T02:23:31.309Z"
   },
   {
    "duration": 19,
    "start_time": "2021-11-09T02:23:31.341Z"
   },
   {
    "duration": 73,
    "start_time": "2021-11-09T02:23:31.363Z"
   },
   {
    "duration": 27,
    "start_time": "2021-11-09T02:23:31.439Z"
   },
   {
    "duration": 48,
    "start_time": "2021-11-09T02:23:31.468Z"
   },
   {
    "duration": 63,
    "start_time": "2021-11-09T02:23:31.519Z"
   },
   {
    "duration": 395,
    "start_time": "2021-11-09T02:24:56.313Z"
   },
   {
    "duration": 58,
    "start_time": "2021-11-09T02:26:13.139Z"
   },
   {
    "duration": 7,
    "start_time": "2021-11-09T02:26:20.892Z"
   },
   {
    "duration": 19,
    "start_time": "2021-11-09T02:28:03.892Z"
   },
   {
    "duration": 411,
    "start_time": "2021-11-09T02:33:26.312Z"
   },
   {
    "duration": 157,
    "start_time": "2021-11-09T02:34:16.969Z"
   },
   {
    "duration": 21,
    "start_time": "2021-11-09T02:34:41.254Z"
   },
   {
    "duration": 431,
    "start_time": "2021-11-09T02:35:50.227Z"
   },
   {
    "duration": 1821,
    "start_time": "2021-11-09T02:35:55.552Z"
   },
   {
    "duration": 1916,
    "start_time": "2021-11-09T02:35:57.376Z"
   },
   {
    "duration": 36,
    "start_time": "2021-11-09T02:35:59.295Z"
   },
   {
    "duration": 19,
    "start_time": "2021-11-09T02:35:59.334Z"
   },
   {
    "duration": 48,
    "start_time": "2021-11-09T02:35:59.355Z"
   },
   {
    "duration": 135,
    "start_time": "2021-11-09T02:35:59.406Z"
   },
   {
    "duration": 62,
    "start_time": "2021-11-09T02:35:59.543Z"
   },
   {
    "duration": 347,
    "start_time": "2021-11-09T02:35:59.608Z"
   },
   {
    "duration": 42,
    "start_time": "2021-11-09T02:35:59.959Z"
   },
   {
    "duration": 49,
    "start_time": "2021-11-09T02:36:00.005Z"
   },
   {
    "duration": 162,
    "start_time": "2021-11-09T02:36:00.056Z"
   },
   {
    "duration": 171,
    "start_time": "2021-11-09T02:36:00.220Z"
   },
   {
    "duration": 302,
    "start_time": "2021-11-09T02:36:00.394Z"
   },
   {
    "duration": 57,
    "start_time": "2021-11-09T02:36:00.698Z"
   },
   {
    "duration": 2293,
    "start_time": "2021-11-09T02:36:00.757Z"
   },
   {
    "duration": 423,
    "start_time": "2021-11-09T02:36:03.052Z"
   },
   {
    "duration": 45,
    "start_time": "2021-11-09T02:36:03.477Z"
   },
   {
    "duration": 5,
    "start_time": "2021-11-09T02:36:03.524Z"
   },
   {
    "duration": 16,
    "start_time": "2021-11-09T02:36:03.532Z"
   },
   {
    "duration": 50,
    "start_time": "2021-11-09T02:36:03.551Z"
   },
   {
    "duration": 20,
    "start_time": "2021-11-09T02:36:03.603Z"
   },
   {
    "duration": 34,
    "start_time": "2021-11-09T02:36:03.626Z"
   },
   {
    "duration": 57,
    "start_time": "2021-11-09T02:36:03.663Z"
   },
   {
    "duration": 18,
    "start_time": "2021-11-09T02:36:03.723Z"
   },
   {
    "duration": 28,
    "start_time": "2021-11-09T02:36:03.743Z"
   },
   {
    "duration": 82,
    "start_time": "2021-11-09T02:36:03.774Z"
   },
   {
    "duration": 7,
    "start_time": "2021-11-09T02:36:03.862Z"
   },
   {
    "duration": 32,
    "start_time": "2021-11-09T02:36:03.872Z"
   },
   {
    "duration": 19,
    "start_time": "2021-11-09T02:36:03.907Z"
   },
   {
    "duration": 20,
    "start_time": "2021-11-09T02:36:03.929Z"
   },
   {
    "duration": 1488,
    "start_time": "2021-11-09T02:37:03.088Z"
   },
   {
    "duration": 1867,
    "start_time": "2021-11-09T02:37:04.579Z"
   },
   {
    "duration": 36,
    "start_time": "2021-11-09T02:37:06.449Z"
   },
   {
    "duration": 22,
    "start_time": "2021-11-09T02:37:06.489Z"
   },
   {
    "duration": 22,
    "start_time": "2021-11-09T02:37:06.514Z"
   },
   {
    "duration": 147,
    "start_time": "2021-11-09T02:37:06.539Z"
   },
   {
    "duration": 55,
    "start_time": "2021-11-09T02:37:06.689Z"
   },
   {
    "duration": 366,
    "start_time": "2021-11-09T02:37:06.747Z"
   },
   {
    "duration": 30,
    "start_time": "2021-11-09T02:37:07.120Z"
   },
   {
    "duration": 79,
    "start_time": "2021-11-09T02:37:07.155Z"
   },
   {
    "duration": 139,
    "start_time": "2021-11-09T02:37:07.237Z"
   },
   {
    "duration": 171,
    "start_time": "2021-11-09T02:37:07.380Z"
   },
   {
    "duration": 271,
    "start_time": "2021-11-09T02:37:07.554Z"
   },
   {
    "duration": 74,
    "start_time": "2021-11-09T02:37:07.828Z"
   },
   {
    "duration": 2171,
    "start_time": "2021-11-09T02:37:07.905Z"
   },
   {
    "duration": 421,
    "start_time": "2021-11-09T02:37:10.080Z"
   },
   {
    "duration": 28,
    "start_time": "2021-11-09T02:37:10.504Z"
   },
   {
    "duration": 6,
    "start_time": "2021-11-09T02:37:10.534Z"
   },
   {
    "duration": 14,
    "start_time": "2021-11-09T02:37:10.542Z"
   },
   {
    "duration": 56,
    "start_time": "2021-11-09T02:37:10.558Z"
   },
   {
    "duration": 22,
    "start_time": "2021-11-09T02:37:10.617Z"
   },
   {
    "duration": 66,
    "start_time": "2021-11-09T02:37:10.642Z"
   },
   {
    "duration": 29,
    "start_time": "2021-11-09T02:37:10.711Z"
   },
   {
    "duration": 18,
    "start_time": "2021-11-09T02:37:10.743Z"
   },
   {
    "duration": 61,
    "start_time": "2021-11-09T02:37:10.764Z"
   },
   {
    "duration": 83,
    "start_time": "2021-11-09T02:37:10.828Z"
   },
   {
    "duration": 8,
    "start_time": "2021-11-09T02:37:10.918Z"
   },
   {
    "duration": 9,
    "start_time": "2021-11-09T02:37:10.929Z"
   },
   {
    "duration": 17,
    "start_time": "2021-11-09T02:37:10.941Z"
   },
   {
    "duration": 55,
    "start_time": "2021-11-09T02:37:10.961Z"
   },
   {
    "duration": 1424,
    "start_time": "2021-11-09T02:37:28.761Z"
   },
   {
    "duration": 1851,
    "start_time": "2021-11-09T02:37:30.187Z"
   },
   {
    "duration": 34,
    "start_time": "2021-11-09T02:37:32.041Z"
   },
   {
    "duration": 20,
    "start_time": "2021-11-09T02:37:32.078Z"
   },
   {
    "duration": 19,
    "start_time": "2021-11-09T02:37:32.100Z"
   },
   {
    "duration": 138,
    "start_time": "2021-11-09T02:37:32.121Z"
   },
   {
    "duration": 60,
    "start_time": "2021-11-09T02:37:32.262Z"
   },
   {
    "duration": 352,
    "start_time": "2021-11-09T02:37:32.325Z"
   },
   {
    "duration": 39,
    "start_time": "2021-11-09T02:37:32.682Z"
   },
   {
    "duration": 47,
    "start_time": "2021-11-09T02:37:32.725Z"
   },
   {
    "duration": 156,
    "start_time": "2021-11-09T02:37:32.775Z"
   },
   {
    "duration": 170,
    "start_time": "2021-11-09T02:37:32.934Z"
   },
   {
    "duration": 273,
    "start_time": "2021-11-09T02:37:33.106Z"
   },
   {
    "duration": 66,
    "start_time": "2021-11-09T02:37:33.381Z"
   },
   {
    "duration": 2542,
    "start_time": "2021-11-09T02:37:33.449Z"
   },
   {
    "duration": 419,
    "start_time": "2021-11-09T02:37:36.000Z"
   },
   {
    "duration": 29,
    "start_time": "2021-11-09T02:37:36.422Z"
   },
   {
    "duration": 6,
    "start_time": "2021-11-09T02:37:36.454Z"
   },
   {
    "duration": 47,
    "start_time": "2021-11-09T02:37:36.463Z"
   },
   {
    "duration": 29,
    "start_time": "2021-11-09T02:37:36.512Z"
   },
   {
    "duration": 21,
    "start_time": "2021-11-09T02:37:36.544Z"
   },
   {
    "duration": 36,
    "start_time": "2021-11-09T02:37:36.601Z"
   },
   {
    "duration": 28,
    "start_time": "2021-11-09T02:37:36.640Z"
   },
   {
    "duration": 46,
    "start_time": "2021-11-09T02:37:36.670Z"
   },
   {
    "duration": 28,
    "start_time": "2021-11-09T02:37:36.718Z"
   },
   {
    "duration": 81,
    "start_time": "2021-11-09T02:37:36.749Z"
   },
   {
    "duration": 7,
    "start_time": "2021-11-09T02:37:36.836Z"
   },
   {
    "duration": 8,
    "start_time": "2021-11-09T02:37:36.846Z"
   },
   {
    "duration": 46,
    "start_time": "2021-11-09T02:37:36.856Z"
   },
   {
    "duration": 18,
    "start_time": "2021-11-09T02:37:36.905Z"
   },
   {
    "duration": 4,
    "start_time": "2021-11-09T02:37:43.352Z"
   },
   {
    "duration": 18,
    "start_time": "2021-11-09T02:37:45.526Z"
   },
   {
    "duration": 1438,
    "start_time": "2021-11-09T02:41:53.533Z"
   },
   {
    "duration": 1802,
    "start_time": "2021-11-09T02:41:54.974Z"
   },
   {
    "duration": 34,
    "start_time": "2021-11-09T02:41:56.779Z"
   },
   {
    "duration": 19,
    "start_time": "2021-11-09T02:41:56.816Z"
   },
   {
    "duration": 20,
    "start_time": "2021-11-09T02:41:56.837Z"
   },
   {
    "duration": 160,
    "start_time": "2021-11-09T02:41:56.859Z"
   },
   {
    "duration": 55,
    "start_time": "2021-11-09T02:41:57.022Z"
   },
   {
    "duration": 358,
    "start_time": "2021-11-09T02:41:57.080Z"
   },
   {
    "duration": 27,
    "start_time": "2021-11-09T02:41:57.442Z"
   },
   {
    "duration": 66,
    "start_time": "2021-11-09T02:41:57.472Z"
   },
   {
    "duration": 137,
    "start_time": "2021-11-09T02:41:57.541Z"
   },
   {
    "duration": 169,
    "start_time": "2021-11-09T02:41:57.680Z"
   },
   {
    "duration": 278,
    "start_time": "2021-11-09T02:41:57.851Z"
   },
   {
    "duration": 70,
    "start_time": "2021-11-09T02:41:58.132Z"
   },
   {
    "duration": 2192,
    "start_time": "2021-11-09T02:41:58.204Z"
   },
   {
    "duration": 430,
    "start_time": "2021-11-09T02:42:00.401Z"
   },
   {
    "duration": 28,
    "start_time": "2021-11-09T02:42:00.834Z"
   },
   {
    "duration": 5,
    "start_time": "2021-11-09T02:42:00.865Z"
   },
   {
    "duration": 36,
    "start_time": "2021-11-09T02:42:00.872Z"
   },
   {
    "duration": 29,
    "start_time": "2021-11-09T02:42:00.911Z"
   },
   {
    "duration": 19,
    "start_time": "2021-11-09T02:42:00.943Z"
   },
   {
    "duration": 68,
    "start_time": "2021-11-09T02:42:00.964Z"
   },
   {
    "duration": 26,
    "start_time": "2021-11-09T02:42:01.035Z"
   },
   {
    "duration": 38,
    "start_time": "2021-11-09T02:42:01.063Z"
   },
   {
    "duration": 27,
    "start_time": "2021-11-09T02:42:01.104Z"
   },
   {
    "duration": 79,
    "start_time": "2021-11-09T02:42:01.134Z"
   },
   {
    "duration": 7,
    "start_time": "2021-11-09T02:42:01.218Z"
   },
   {
    "duration": 31,
    "start_time": "2021-11-09T02:42:01.228Z"
   },
   {
    "duration": 24,
    "start_time": "2021-11-09T02:42:01.261Z"
   },
   {
    "duration": 24,
    "start_time": "2021-11-09T02:42:01.287Z"
   },
   {
    "duration": 21,
    "start_time": "2021-11-09T02:42:01.314Z"
   },
   {
    "duration": 437,
    "start_time": "2021-11-09T02:44:37.453Z"
   },
   {
    "duration": 1415,
    "start_time": "2021-11-09T02:44:42.955Z"
   },
   {
    "duration": 1759,
    "start_time": "2021-11-09T02:44:44.373Z"
   },
   {
    "duration": 36,
    "start_time": "2021-11-09T02:44:46.136Z"
   },
   {
    "duration": 24,
    "start_time": "2021-11-09T02:44:46.176Z"
   },
   {
    "duration": 22,
    "start_time": "2021-11-09T02:44:46.203Z"
   },
   {
    "duration": 148,
    "start_time": "2021-11-09T02:44:46.227Z"
   },
   {
    "duration": 64,
    "start_time": "2021-11-09T02:44:46.378Z"
   },
   {
    "duration": 358,
    "start_time": "2021-11-09T02:44:46.445Z"
   },
   {
    "duration": 31,
    "start_time": "2021-11-09T02:44:46.809Z"
   },
   {
    "duration": 81,
    "start_time": "2021-11-09T02:44:46.844Z"
   },
   {
    "duration": 142,
    "start_time": "2021-11-09T02:44:46.928Z"
   },
   {
    "duration": 271,
    "start_time": "2021-11-09T02:44:47.073Z"
   },
   {
    "duration": 277,
    "start_time": "2021-11-09T02:44:47.346Z"
   },
   {
    "duration": 57,
    "start_time": "2021-11-09T02:44:47.626Z"
   },
   {
    "duration": 2211,
    "start_time": "2021-11-09T02:44:47.701Z"
   },
   {
    "duration": 417,
    "start_time": "2021-11-09T02:44:49.914Z"
   },
   {
    "duration": 28,
    "start_time": "2021-11-09T02:44:50.333Z"
   },
   {
    "duration": 5,
    "start_time": "2021-11-09T02:44:50.363Z"
   },
   {
    "duration": 42,
    "start_time": "2021-11-09T02:44:50.370Z"
   },
   {
    "duration": 27,
    "start_time": "2021-11-09T02:44:50.415Z"
   },
   {
    "duration": 19,
    "start_time": "2021-11-09T02:44:50.445Z"
   },
   {
    "duration": 57,
    "start_time": "2021-11-09T02:44:50.466Z"
   },
   {
    "duration": 26,
    "start_time": "2021-11-09T02:44:50.526Z"
   },
   {
    "duration": 17,
    "start_time": "2021-11-09T02:44:50.555Z"
   },
   {
    "duration": 27,
    "start_time": "2021-11-09T02:44:50.601Z"
   },
   {
    "duration": 79,
    "start_time": "2021-11-09T02:44:50.631Z"
   },
   {
    "duration": 12,
    "start_time": "2021-11-09T02:44:50.716Z"
   },
   {
    "duration": 12,
    "start_time": "2021-11-09T02:44:50.731Z"
   },
   {
    "duration": 16,
    "start_time": "2021-11-09T02:44:50.745Z"
   },
   {
    "duration": 51,
    "start_time": "2021-11-09T02:44:50.764Z"
   },
   {
    "duration": 19,
    "start_time": "2021-11-09T02:44:50.818Z"
   },
   {
    "duration": 39,
    "start_time": "2021-11-09T02:44:52.947Z"
   },
   {
    "duration": 20,
    "start_time": "2021-11-09T02:53:49.313Z"
   },
   {
    "duration": 18,
    "start_time": "2021-11-09T02:53:55.082Z"
   },
   {
    "duration": 20,
    "start_time": "2021-11-09T02:54:19.510Z"
   },
   {
    "duration": 4,
    "start_time": "2021-11-09T02:54:24.641Z"
   },
   {
    "duration": 1705,
    "start_time": "2021-11-09T02:54:24.648Z"
   },
   {
    "duration": 30,
    "start_time": "2021-11-09T02:54:26.356Z"
   },
   {
    "duration": 18,
    "start_time": "2021-11-09T02:54:26.389Z"
   },
   {
    "duration": 22,
    "start_time": "2021-11-09T02:54:26.409Z"
   },
   {
    "duration": 139,
    "start_time": "2021-11-09T02:54:26.433Z"
   },
   {
    "duration": 58,
    "start_time": "2021-11-09T02:54:26.574Z"
   },
   {
    "duration": 342,
    "start_time": "2021-11-09T02:54:26.634Z"
   },
   {
    "duration": 39,
    "start_time": "2021-11-09T02:54:26.980Z"
   },
   {
    "duration": 45,
    "start_time": "2021-11-09T02:54:27.023Z"
   },
   {
    "duration": 142,
    "start_time": "2021-11-09T02:54:27.070Z"
   },
   {
    "duration": 178,
    "start_time": "2021-11-09T02:54:27.215Z"
   },
   {
    "duration": 255,
    "start_time": "2021-11-09T02:54:27.396Z"
   },
   {
    "duration": 70,
    "start_time": "2021-11-09T02:54:27.654Z"
   },
   {
    "duration": 2178,
    "start_time": "2021-11-09T02:54:27.727Z"
   },
   {
    "duration": 415,
    "start_time": "2021-11-09T02:54:29.907Z"
   },
   {
    "duration": 29,
    "start_time": "2021-11-09T02:54:30.325Z"
   },
   {
    "duration": 5,
    "start_time": "2021-11-09T02:54:30.357Z"
   },
   {
    "duration": 41,
    "start_time": "2021-11-09T02:54:30.364Z"
   },
   {
    "duration": 36,
    "start_time": "2021-11-09T02:54:30.407Z"
   },
   {
    "duration": 30,
    "start_time": "2021-11-09T02:54:30.445Z"
   },
   {
    "duration": 52,
    "start_time": "2021-11-09T02:54:30.477Z"
   },
   {
    "duration": 26,
    "start_time": "2021-11-09T02:54:30.532Z"
   },
   {
    "duration": 41,
    "start_time": "2021-11-09T02:54:30.561Z"
   },
   {
    "duration": 27,
    "start_time": "2021-11-09T02:54:30.604Z"
   },
   {
    "duration": 72,
    "start_time": "2021-11-09T02:54:30.633Z"
   },
   {
    "duration": 20,
    "start_time": "2021-11-09T02:54:33.426Z"
   },
   {
    "duration": 18,
    "start_time": "2021-11-09T02:55:39.693Z"
   },
   {
    "duration": 16,
    "start_time": "2021-11-09T02:56:20.339Z"
   },
   {
    "duration": 25,
    "start_time": "2021-11-09T02:57:22.058Z"
   },
   {
    "duration": 748,
    "start_time": "2021-11-09T02:59:02.112Z"
   },
   {
    "duration": 6,
    "start_time": "2021-11-09T02:59:07.808Z"
   },
   {
    "duration": 5,
    "start_time": "2021-11-09T02:59:24.526Z"
   },
   {
    "duration": 5,
    "start_time": "2021-11-09T02:59:30.158Z"
   },
   {
    "duration": 367,
    "start_time": "2021-11-09T02:59:45.412Z"
   },
   {
    "duration": 6,
    "start_time": "2021-11-09T02:59:56.911Z"
   },
   {
    "duration": 6,
    "start_time": "2021-11-09T03:00:42.884Z"
   },
   {
    "duration": 51,
    "start_time": "2021-11-09T03:03:41.395Z"
   },
   {
    "duration": 8,
    "start_time": "2021-11-09T03:05:46.244Z"
   },
   {
    "duration": 6,
    "start_time": "2021-11-09T03:09:58.459Z"
   },
   {
    "duration": 6,
    "start_time": "2021-11-09T03:10:13.198Z"
   },
   {
    "duration": 8,
    "start_time": "2021-11-09T03:10:43.073Z"
   },
   {
    "duration": 367,
    "start_time": "2021-11-09T03:11:35.247Z"
   },
   {
    "duration": 8,
    "start_time": "2021-11-09T03:11:43.136Z"
   },
   {
    "duration": 402,
    "start_time": "2021-11-09T03:11:45.560Z"
   },
   {
    "duration": 8,
    "start_time": "2021-11-09T03:11:48.260Z"
   },
   {
    "duration": 112,
    "start_time": "2021-11-09T03:21:58.065Z"
   },
   {
    "duration": 9,
    "start_time": "2021-11-09T03:22:45.358Z"
   },
   {
    "duration": 423,
    "start_time": "2021-11-09T03:26:12.353Z"
   },
   {
    "duration": 1382,
    "start_time": "2021-11-09T03:26:18.895Z"
   },
   {
    "duration": 1818,
    "start_time": "2021-11-09T03:26:20.279Z"
   },
   {
    "duration": 36,
    "start_time": "2021-11-09T03:26:22.100Z"
   },
   {
    "duration": 20,
    "start_time": "2021-11-09T03:26:22.139Z"
   },
   {
    "duration": 52,
    "start_time": "2021-11-09T03:26:22.161Z"
   },
   {
    "duration": 135,
    "start_time": "2021-11-09T03:26:22.215Z"
   },
   {
    "duration": 62,
    "start_time": "2021-11-09T03:26:22.352Z"
   },
   {
    "duration": 345,
    "start_time": "2021-11-09T03:26:22.416Z"
   },
   {
    "duration": 40,
    "start_time": "2021-11-09T03:26:22.766Z"
   },
   {
    "duration": 45,
    "start_time": "2021-11-09T03:26:22.810Z"
   },
   {
    "duration": 151,
    "start_time": "2021-11-09T03:26:22.858Z"
   },
   {
    "duration": 171,
    "start_time": "2021-11-09T03:26:23.011Z"
   },
   {
    "duration": 269,
    "start_time": "2021-11-09T03:26:23.184Z"
   },
   {
    "duration": 68,
    "start_time": "2021-11-09T03:26:23.456Z"
   },
   {
    "duration": 2260,
    "start_time": "2021-11-09T03:26:23.527Z"
   },
   {
    "duration": 423,
    "start_time": "2021-11-09T03:26:25.789Z"
   },
   {
    "duration": 27,
    "start_time": "2021-11-09T03:26:26.214Z"
   },
   {
    "duration": 5,
    "start_time": "2021-11-09T03:26:26.243Z"
   },
   {
    "duration": 26,
    "start_time": "2021-11-09T03:26:26.250Z"
   },
   {
    "duration": 44,
    "start_time": "2021-11-09T03:26:26.279Z"
   },
   {
    "duration": 20,
    "start_time": "2021-11-09T03:26:26.325Z"
   },
   {
    "duration": 59,
    "start_time": "2021-11-09T03:26:26.347Z"
   },
   {
    "duration": 26,
    "start_time": "2021-11-09T03:26:26.409Z"
   },
   {
    "duration": 21,
    "start_time": "2021-11-09T03:26:26.437Z"
   },
   {
    "duration": 69,
    "start_time": "2021-11-09T03:26:26.461Z"
   },
   {
    "duration": 52,
    "start_time": "2021-11-09T03:26:26.533Z"
   },
   {
    "duration": 23,
    "start_time": "2021-11-09T03:26:26.590Z"
   },
   {
    "duration": 30,
    "start_time": "2021-11-09T03:26:26.615Z"
   },
   {
    "duration": 80,
    "start_time": "2021-11-09T03:26:26.648Z"
   },
   {
    "duration": 8,
    "start_time": "2021-11-09T03:26:26.731Z"
   },
   {
    "duration": 24,
    "start_time": "2021-11-09T03:26:26.741Z"
   },
   {
    "duration": 20,
    "start_time": "2021-11-09T03:26:26.768Z"
   },
   {
    "duration": 24,
    "start_time": "2021-11-09T03:26:26.791Z"
   },
   {
    "duration": 22,
    "start_time": "2021-11-09T03:26:26.817Z"
   },
   {
    "duration": 19,
    "start_time": "2021-11-09T03:26:26.841Z"
   },
   {
    "duration": 547,
    "start_time": "2021-11-09T03:27:12.668Z"
   },
   {
    "duration": 1470,
    "start_time": "2021-11-09T03:27:17.365Z"
   },
   {
    "duration": 1928,
    "start_time": "2021-11-09T03:27:18.838Z"
   },
   {
    "duration": 37,
    "start_time": "2021-11-09T03:27:20.770Z"
   },
   {
    "duration": 22,
    "start_time": "2021-11-09T03:27:20.811Z"
   },
   {
    "duration": 22,
    "start_time": "2021-11-09T03:27:20.836Z"
   },
   {
    "duration": 177,
    "start_time": "2021-11-09T03:27:20.860Z"
   },
   {
    "duration": 69,
    "start_time": "2021-11-09T03:27:21.039Z"
   },
   {
    "duration": 348,
    "start_time": "2021-11-09T03:27:21.111Z"
   },
   {
    "duration": 47,
    "start_time": "2021-11-09T03:27:21.465Z"
   },
   {
    "duration": 47,
    "start_time": "2021-11-09T03:27:21.517Z"
   },
   {
    "duration": 168,
    "start_time": "2021-11-09T03:27:21.567Z"
   },
   {
    "duration": 174,
    "start_time": "2021-11-09T03:27:21.738Z"
   },
   {
    "duration": 278,
    "start_time": "2021-11-09T03:27:21.915Z"
   },
   {
    "duration": 58,
    "start_time": "2021-11-09T03:27:22.200Z"
   },
   {
    "duration": 2193,
    "start_time": "2021-11-09T03:27:22.261Z"
   },
   {
    "duration": 417,
    "start_time": "2021-11-09T03:27:24.457Z"
   },
   {
    "duration": 45,
    "start_time": "2021-11-09T03:27:24.877Z"
   },
   {
    "duration": 6,
    "start_time": "2021-11-09T03:27:24.925Z"
   },
   {
    "duration": 19,
    "start_time": "2021-11-09T03:27:24.933Z"
   },
   {
    "duration": 47,
    "start_time": "2021-11-09T03:27:24.954Z"
   },
   {
    "duration": 20,
    "start_time": "2021-11-09T03:27:25.004Z"
   },
   {
    "duration": 34,
    "start_time": "2021-11-09T03:27:25.026Z"
   },
   {
    "duration": 54,
    "start_time": "2021-11-09T03:27:25.063Z"
   },
   {
    "duration": 18,
    "start_time": "2021-11-09T03:27:25.120Z"
   },
   {
    "duration": 27,
    "start_time": "2021-11-09T03:27:25.140Z"
   },
   {
    "duration": 86,
    "start_time": "2021-11-09T03:27:25.169Z"
   },
   {
    "duration": 15,
    "start_time": "2021-11-09T03:27:25.260Z"
   },
   {
    "duration": 25,
    "start_time": "2021-11-09T03:27:25.301Z"
   },
   {
    "duration": 81,
    "start_time": "2021-11-09T03:27:25.329Z"
   },
   {
    "duration": 8,
    "start_time": "2021-11-09T03:27:25.412Z"
   },
   {
    "duration": 7,
    "start_time": "2021-11-09T03:27:25.423Z"
   },
   {
    "duration": 7,
    "start_time": "2021-11-09T03:27:25.433Z"
   },
   {
    "duration": 25,
    "start_time": "2021-11-09T03:27:25.442Z"
   },
   {
    "duration": 18,
    "start_time": "2021-11-09T03:27:25.501Z"
   },
   {
    "duration": 22,
    "start_time": "2021-11-09T03:27:25.521Z"
   },
   {
    "duration": 415,
    "start_time": "2021-11-09T03:27:25.545Z"
   },
   {
    "duration": 426,
    "start_time": "2021-11-09T03:27:53.595Z"
   },
   {
    "duration": 4,
    "start_time": "2021-11-09T03:28:05.382Z"
   },
   {
    "duration": 1992,
    "start_time": "2021-11-09T03:28:05.389Z"
   },
   {
    "duration": 32,
    "start_time": "2021-11-09T03:28:07.384Z"
   },
   {
    "duration": 19,
    "start_time": "2021-11-09T03:28:07.418Z"
   },
   {
    "duration": 19,
    "start_time": "2021-11-09T03:28:07.439Z"
   },
   {
    "duration": 148,
    "start_time": "2021-11-09T03:28:07.461Z"
   },
   {
    "duration": 48,
    "start_time": "2021-11-09T03:28:07.611Z"
   },
   {
    "duration": 342,
    "start_time": "2021-11-09T03:28:07.661Z"
   },
   {
    "duration": 27,
    "start_time": "2021-11-09T03:28:08.007Z"
   },
   {
    "duration": 71,
    "start_time": "2021-11-09T03:28:08.037Z"
   },
   {
    "duration": 132,
    "start_time": "2021-11-09T03:28:08.111Z"
   },
   {
    "duration": 164,
    "start_time": "2021-11-09T03:28:08.245Z"
   },
   {
    "duration": 255,
    "start_time": "2021-11-09T03:28:08.411Z"
   },
   {
    "duration": 67,
    "start_time": "2021-11-09T03:28:08.668Z"
   },
   {
    "duration": 2182,
    "start_time": "2021-11-09T03:28:08.737Z"
   },
   {
    "duration": 403,
    "start_time": "2021-11-09T03:28:10.921Z"
   },
   {
    "duration": 26,
    "start_time": "2021-11-09T03:28:11.326Z"
   },
   {
    "duration": 5,
    "start_time": "2021-11-09T03:28:11.354Z"
   },
   {
    "duration": 43,
    "start_time": "2021-11-09T03:28:11.361Z"
   },
   {
    "duration": 28,
    "start_time": "2021-11-09T03:28:11.407Z"
   },
   {
    "duration": 19,
    "start_time": "2021-11-09T03:28:11.438Z"
   },
   {
    "duration": 63,
    "start_time": "2021-11-09T03:28:11.459Z"
   },
   {
    "duration": 25,
    "start_time": "2021-11-09T03:28:11.525Z"
   },
   {
    "duration": 18,
    "start_time": "2021-11-09T03:28:11.553Z"
   },
   {
    "duration": 22,
    "start_time": "2021-11-09T03:28:11.600Z"
   },
   {
    "duration": 56,
    "start_time": "2021-11-09T03:28:11.624Z"
   },
   {
    "duration": 17,
    "start_time": "2021-11-09T03:28:11.703Z"
   },
   {
    "duration": 24,
    "start_time": "2021-11-09T03:28:11.723Z"
   },
   {
    "duration": 84,
    "start_time": "2021-11-09T03:28:11.749Z"
   },
   {
    "duration": 8,
    "start_time": "2021-11-09T03:28:11.836Z"
   },
   {
    "duration": 10,
    "start_time": "2021-11-09T03:28:11.846Z"
   },
   {
    "duration": 13,
    "start_time": "2021-11-09T03:28:11.858Z"
   },
   {
    "duration": 38,
    "start_time": "2021-11-09T03:28:11.873Z"
   },
   {
    "duration": 19,
    "start_time": "2021-11-09T03:28:11.914Z"
   },
   {
    "duration": 18,
    "start_time": "2021-11-09T03:28:11.935Z"
   },
   {
    "duration": 440,
    "start_time": "2021-11-09T03:28:11.955Z"
   },
   {
    "duration": 388,
    "start_time": "2021-11-09T03:28:35.468Z"
   },
   {
    "duration": 41,
    "start_time": "2021-11-09T03:30:02.777Z"
   },
   {
    "duration": 45,
    "start_time": "2021-11-09T03:30:12.715Z"
   },
   {
    "duration": 483,
    "start_time": "2021-11-09T03:35:31.420Z"
   },
   {
    "duration": 1499,
    "start_time": "2021-11-09T03:35:35.672Z"
   },
   {
    "duration": 2910,
    "start_time": "2021-11-09T03:35:37.174Z"
   },
   {
    "duration": 35,
    "start_time": "2021-11-09T03:35:40.087Z"
   },
   {
    "duration": 18,
    "start_time": "2021-11-09T03:35:40.125Z"
   },
   {
    "duration": 18,
    "start_time": "2021-11-09T03:35:40.145Z"
   },
   {
    "duration": 153,
    "start_time": "2021-11-09T03:35:40.165Z"
   },
   {
    "duration": 54,
    "start_time": "2021-11-09T03:35:40.320Z"
   },
   {
    "duration": 354,
    "start_time": "2021-11-09T03:35:40.378Z"
   },
   {
    "duration": 28,
    "start_time": "2021-11-09T03:35:40.735Z"
   },
   {
    "duration": 60,
    "start_time": "2021-11-09T03:35:40.765Z"
   },
   {
    "duration": 142,
    "start_time": "2021-11-09T03:35:40.827Z"
   },
   {
    "duration": 168,
    "start_time": "2021-11-09T03:35:40.972Z"
   },
   {
    "duration": 269,
    "start_time": "2021-11-09T03:35:41.142Z"
   },
   {
    "duration": 55,
    "start_time": "2021-11-09T03:35:41.414Z"
   },
   {
    "duration": 2283,
    "start_time": "2021-11-09T03:35:41.471Z"
   },
   {
    "duration": 410,
    "start_time": "2021-11-09T03:35:43.756Z"
   },
   {
    "duration": 40,
    "start_time": "2021-11-09T03:35:44.168Z"
   },
   {
    "duration": 5,
    "start_time": "2021-11-09T03:35:44.211Z"
   },
   {
    "duration": 15,
    "start_time": "2021-11-09T03:35:44.218Z"
   },
   {
    "duration": 27,
    "start_time": "2021-11-09T03:35:44.235Z"
   },
   {
    "duration": 49,
    "start_time": "2021-11-09T03:35:44.264Z"
   },
   {
    "duration": 35,
    "start_time": "2021-11-09T03:35:44.315Z"
   },
   {
    "duration": 50,
    "start_time": "2021-11-09T03:35:44.355Z"
   },
   {
    "duration": 18,
    "start_time": "2021-11-09T03:35:44.408Z"
   },
   {
    "duration": 41,
    "start_time": "2021-11-09T03:35:44.428Z"
   },
   {
    "duration": 75,
    "start_time": "2021-11-09T03:35:44.472Z"
   },
   {
    "duration": 16,
    "start_time": "2021-11-09T03:35:44.549Z"
   },
   {
    "duration": 52,
    "start_time": "2021-11-09T03:35:44.567Z"
   },
   {
    "duration": 59,
    "start_time": "2021-11-09T03:35:44.621Z"
   },
   {
    "duration": 20,
    "start_time": "2021-11-09T03:35:44.682Z"
   },
   {
    "duration": 8,
    "start_time": "2021-11-09T03:35:44.704Z"
   },
   {
    "duration": 8,
    "start_time": "2021-11-09T03:35:44.714Z"
   },
   {
    "duration": 16,
    "start_time": "2021-11-09T03:35:44.725Z"
   },
   {
    "duration": 57,
    "start_time": "2021-11-09T03:35:44.743Z"
   },
   {
    "duration": 19,
    "start_time": "2021-11-09T03:35:44.802Z"
   },
   {
    "duration": 43,
    "start_time": "2021-11-09T03:35:48.649Z"
   },
   {
    "duration": 4,
    "start_time": "2021-11-09T07:21:58.130Z"
   },
   {
    "duration": 1769,
    "start_time": "2021-11-09T07:21:58.137Z"
   },
   {
    "duration": 30,
    "start_time": "2021-11-09T07:21:59.910Z"
   },
   {
    "duration": 21,
    "start_time": "2021-11-09T07:21:59.943Z"
   },
   {
    "duration": 52,
    "start_time": "2021-11-09T07:21:59.966Z"
   },
   {
    "duration": 144,
    "start_time": "2021-11-09T07:22:00.021Z"
   },
   {
    "duration": 64,
    "start_time": "2021-11-09T07:22:00.168Z"
   },
   {
    "duration": 361,
    "start_time": "2021-11-09T07:22:00.239Z"
   },
   {
    "duration": 33,
    "start_time": "2021-11-09T07:22:00.604Z"
   },
   {
    "duration": 84,
    "start_time": "2021-11-09T07:22:00.640Z"
   },
   {
    "duration": 151,
    "start_time": "2021-11-09T07:22:00.728Z"
   },
   {
    "duration": 179,
    "start_time": "2021-11-09T07:22:00.881Z"
   },
   {
    "duration": 272,
    "start_time": "2021-11-09T07:22:01.063Z"
   },
   {
    "duration": 85,
    "start_time": "2021-11-09T07:22:01.338Z"
   },
   {
    "duration": 2216,
    "start_time": "2021-11-09T07:22:01.426Z"
   },
   {
    "duration": 412,
    "start_time": "2021-11-09T07:22:03.645Z"
   },
   {
    "duration": 51,
    "start_time": "2021-11-09T07:22:04.060Z"
   },
   {
    "duration": 6,
    "start_time": "2021-11-09T07:22:04.114Z"
   },
   {
    "duration": 13,
    "start_time": "2021-11-09T07:22:04.123Z"
   },
   {
    "duration": 66,
    "start_time": "2021-11-09T07:22:04.139Z"
   },
   {
    "duration": 19,
    "start_time": "2021-11-09T07:22:04.208Z"
   },
   {
    "duration": 35,
    "start_time": "2021-11-09T07:22:04.229Z"
   },
   {
    "duration": 55,
    "start_time": "2021-11-09T07:22:04.269Z"
   },
   {
    "duration": 18,
    "start_time": "2021-11-09T07:22:04.327Z"
   },
   {
    "duration": 57,
    "start_time": "2021-11-09T07:22:04.347Z"
   },
   {
    "duration": 65,
    "start_time": "2021-11-09T07:22:04.407Z"
   },
   {
    "duration": 35,
    "start_time": "2021-11-09T07:22:04.475Z"
   },
   {
    "duration": 24,
    "start_time": "2021-11-09T07:22:04.513Z"
   },
   {
    "duration": 86,
    "start_time": "2021-11-09T07:22:04.539Z"
   },
   {
    "duration": 7,
    "start_time": "2021-11-09T07:22:04.628Z"
   },
   {
    "duration": 7,
    "start_time": "2021-11-09T07:22:04.638Z"
   },
   {
    "duration": 5,
    "start_time": "2021-11-09T07:22:04.648Z"
   },
   {
    "duration": 55,
    "start_time": "2021-11-09T07:22:04.655Z"
   },
   {
    "duration": 17,
    "start_time": "2021-11-09T07:22:04.713Z"
   },
   {
    "duration": 18,
    "start_time": "2021-11-09T07:22:04.733Z"
   },
   {
    "duration": 85,
    "start_time": "2021-11-09T07:22:04.753Z"
   },
   {
    "duration": 469,
    "start_time": "2021-11-09T07:51:45.446Z"
   },
   {
    "duration": 5,
    "start_time": "2021-11-09T07:52:07.515Z"
   },
   {
    "duration": 1875,
    "start_time": "2021-11-09T07:52:07.523Z"
   },
   {
    "duration": 30,
    "start_time": "2021-11-09T07:52:09.401Z"
   },
   {
    "duration": 19,
    "start_time": "2021-11-09T07:52:09.434Z"
   },
   {
    "duration": 57,
    "start_time": "2021-11-09T07:52:09.455Z"
   },
   {
    "duration": 134,
    "start_time": "2021-11-09T07:52:09.515Z"
   },
   {
    "duration": 60,
    "start_time": "2021-11-09T07:52:09.652Z"
   },
   {
    "duration": 347,
    "start_time": "2021-11-09T07:52:09.714Z"
   },
   {
    "duration": 44,
    "start_time": "2021-11-09T07:52:10.065Z"
   },
   {
    "duration": 46,
    "start_time": "2021-11-09T07:52:10.112Z"
   },
   {
    "duration": 145,
    "start_time": "2021-11-09T07:52:10.160Z"
   },
   {
    "duration": 169,
    "start_time": "2021-11-09T07:52:10.307Z"
   },
   {
    "duration": 232,
    "start_time": "2021-11-09T07:52:10.479Z"
   },
   {
    "duration": 53,
    "start_time": "2021-11-09T07:52:10.714Z"
   },
   {
    "duration": 2175,
    "start_time": "2021-11-09T07:52:10.769Z"
   },
   {
    "duration": 412,
    "start_time": "2021-11-09T07:52:12.947Z"
   },
   {
    "duration": 44,
    "start_time": "2021-11-09T07:52:13.361Z"
   },
   {
    "duration": 5,
    "start_time": "2021-11-09T07:52:13.407Z"
   },
   {
    "duration": 13,
    "start_time": "2021-11-09T07:52:13.414Z"
   },
   {
    "duration": 26,
    "start_time": "2021-11-09T07:52:13.429Z"
   },
   {
    "duration": 59,
    "start_time": "2021-11-09T07:52:13.457Z"
   },
   {
    "duration": 38,
    "start_time": "2021-11-09T07:52:13.518Z"
   },
   {
    "duration": 58,
    "start_time": "2021-11-09T07:52:13.559Z"
   },
   {
    "duration": 17,
    "start_time": "2021-11-09T07:52:13.619Z"
   },
   {
    "duration": 22,
    "start_time": "2021-11-09T07:52:13.638Z"
   },
   {
    "duration": 94,
    "start_time": "2021-11-09T07:52:13.662Z"
   },
   {
    "duration": 50,
    "start_time": "2021-11-09T07:52:13.765Z"
   },
   {
    "duration": 27,
    "start_time": "2021-11-09T07:52:13.818Z"
   },
   {
    "duration": 89,
    "start_time": "2021-11-09T07:52:13.848Z"
   },
   {
    "duration": 10,
    "start_time": "2021-11-09T07:52:13.940Z"
   },
   {
    "duration": 48,
    "start_time": "2021-11-09T07:52:13.953Z"
   },
   {
    "duration": 6,
    "start_time": "2021-11-09T07:52:14.004Z"
   },
   {
    "duration": 15,
    "start_time": "2021-11-09T07:52:14.012Z"
   },
   {
    "duration": 17,
    "start_time": "2021-11-09T07:52:14.030Z"
   },
   {
    "duration": 66,
    "start_time": "2021-11-09T07:52:14.050Z"
   },
   {
    "duration": 422,
    "start_time": "2021-11-09T07:52:18.680Z"
   },
   {
    "duration": 562,
    "start_time": "2021-11-09T07:52:34.286Z"
   },
   {
    "duration": 387,
    "start_time": "2021-11-09T07:54:51.934Z"
   },
   {
    "duration": 1470,
    "start_time": "2021-11-09T07:55:49.599Z"
   },
   {
    "duration": 1869,
    "start_time": "2021-11-09T07:55:51.072Z"
   },
   {
    "duration": 37,
    "start_time": "2021-11-09T07:55:52.944Z"
   },
   {
    "duration": 19,
    "start_time": "2021-11-09T07:55:52.984Z"
   },
   {
    "duration": 20,
    "start_time": "2021-11-09T07:55:53.006Z"
   },
   {
    "duration": 148,
    "start_time": "2021-11-09T07:55:53.028Z"
   },
   {
    "duration": 67,
    "start_time": "2021-11-09T07:55:53.179Z"
   },
   {
    "duration": 365,
    "start_time": "2021-11-09T07:55:53.249Z"
   },
   {
    "duration": 29,
    "start_time": "2021-11-09T07:55:53.618Z"
   },
   {
    "duration": 76,
    "start_time": "2021-11-09T07:55:53.650Z"
   },
   {
    "duration": 146,
    "start_time": "2021-11-09T07:55:53.729Z"
   },
   {
    "duration": 177,
    "start_time": "2021-11-09T07:55:53.877Z"
   },
   {
    "duration": 284,
    "start_time": "2021-11-09T07:55:54.057Z"
   },
   {
    "duration": 71,
    "start_time": "2021-11-09T07:55:54.344Z"
   },
   {
    "duration": 2175,
    "start_time": "2021-11-09T07:55:54.418Z"
   },
   {
    "duration": 423,
    "start_time": "2021-11-09T07:55:56.596Z"
   },
   {
    "duration": 28,
    "start_time": "2021-11-09T07:55:57.022Z"
   },
   {
    "duration": 5,
    "start_time": "2021-11-09T07:55:57.053Z"
   },
   {
    "duration": 46,
    "start_time": "2021-11-09T07:55:57.060Z"
   },
   {
    "duration": 28,
    "start_time": "2021-11-09T07:55:57.108Z"
   },
   {
    "duration": 62,
    "start_time": "2021-11-09T07:55:57.140Z"
   },
   {
    "duration": 38,
    "start_time": "2021-11-09T07:55:57.205Z"
   },
   {
    "duration": 67,
    "start_time": "2021-11-09T07:55:57.246Z"
   },
   {
    "duration": 18,
    "start_time": "2021-11-09T07:55:57.316Z"
   },
   {
    "duration": 62,
    "start_time": "2021-11-09T07:55:57.338Z"
   },
   {
    "duration": 59,
    "start_time": "2021-11-09T07:55:57.403Z"
   },
   {
    "duration": 43,
    "start_time": "2021-11-09T07:55:57.467Z"
   },
   {
    "duration": 25,
    "start_time": "2021-11-09T07:55:57.513Z"
   },
   {
    "duration": 82,
    "start_time": "2021-11-09T07:55:57.541Z"
   },
   {
    "duration": 9,
    "start_time": "2021-11-09T07:55:57.626Z"
   },
   {
    "duration": 11,
    "start_time": "2021-11-09T07:55:57.637Z"
   },
   {
    "duration": 19,
    "start_time": "2021-11-09T07:55:57.651Z"
   },
   {
    "duration": 37,
    "start_time": "2021-11-09T07:55:57.673Z"
   },
   {
    "duration": 18,
    "start_time": "2021-11-09T07:55:57.712Z"
   },
   {
    "duration": 20,
    "start_time": "2021-11-09T07:55:57.733Z"
   },
   {
    "duration": 451,
    "start_time": "2021-11-09T07:56:29.459Z"
   },
   {
    "duration": 1414,
    "start_time": "2021-11-09T07:56:33.660Z"
   },
   {
    "duration": 1970,
    "start_time": "2021-11-09T07:56:35.077Z"
   },
   {
    "duration": 35,
    "start_time": "2021-11-09T07:56:37.050Z"
   },
   {
    "duration": 20,
    "start_time": "2021-11-09T07:56:37.088Z"
   },
   {
    "duration": 19,
    "start_time": "2021-11-09T07:56:37.110Z"
   },
   {
    "duration": 153,
    "start_time": "2021-11-09T07:56:37.132Z"
   },
   {
    "duration": 58,
    "start_time": "2021-11-09T07:56:37.287Z"
   },
   {
    "duration": 364,
    "start_time": "2021-11-09T07:56:37.348Z"
   },
   {
    "duration": 30,
    "start_time": "2021-11-09T07:56:37.717Z"
   },
   {
    "duration": 79,
    "start_time": "2021-11-09T07:56:37.749Z"
   },
   {
    "duration": 143,
    "start_time": "2021-11-09T07:56:37.831Z"
   },
   {
    "duration": 169,
    "start_time": "2021-11-09T07:56:37.977Z"
   },
   {
    "duration": 268,
    "start_time": "2021-11-09T07:56:38.148Z"
   },
   {
    "duration": 54,
    "start_time": "2021-11-09T07:56:38.419Z"
   },
   {
    "duration": 2186,
    "start_time": "2021-11-09T07:56:38.476Z"
   },
   {
    "duration": 420,
    "start_time": "2021-11-09T07:56:40.664Z"
   },
   {
    "duration": 35,
    "start_time": "2021-11-09T07:56:41.086Z"
   },
   {
    "duration": 5,
    "start_time": "2021-11-09T07:56:41.124Z"
   },
   {
    "duration": 16,
    "start_time": "2021-11-09T07:56:41.131Z"
   },
   {
    "duration": 62,
    "start_time": "2021-11-09T07:56:41.150Z"
   },
   {
    "duration": 19,
    "start_time": "2021-11-09T07:56:41.215Z"
   },
   {
    "duration": 65,
    "start_time": "2021-11-09T07:56:41.236Z"
   },
   {
    "duration": 26,
    "start_time": "2021-11-09T07:56:41.303Z"
   },
   {
    "duration": 17,
    "start_time": "2021-11-09T07:56:41.332Z"
   },
   {
    "duration": 60,
    "start_time": "2021-11-09T07:56:41.351Z"
   },
   {
    "duration": 57,
    "start_time": "2021-11-09T07:56:41.413Z"
   },
   {
    "duration": 17,
    "start_time": "2021-11-09T07:56:41.502Z"
   },
   {
    "duration": 24,
    "start_time": "2021-11-09T07:56:41.521Z"
   },
   {
    "duration": 88,
    "start_time": "2021-11-09T07:56:41.548Z"
   },
   {
    "duration": 11,
    "start_time": "2021-11-09T07:56:41.639Z"
   },
   {
    "duration": 12,
    "start_time": "2021-11-09T07:56:41.652Z"
   },
   {
    "duration": 35,
    "start_time": "2021-11-09T07:56:41.667Z"
   },
   {
    "duration": 22,
    "start_time": "2021-11-09T07:56:41.705Z"
   },
   {
    "duration": 18,
    "start_time": "2021-11-09T07:56:41.729Z"
   },
   {
    "duration": 60,
    "start_time": "2021-11-09T07:56:41.750Z"
   },
   {
    "duration": 482,
    "start_time": "2021-11-09T07:56:45.234Z"
   },
   {
    "duration": 391,
    "start_time": "2021-11-09T07:56:53.788Z"
   },
   {
    "duration": 77,
    "start_time": "2021-11-09T08:09:19.310Z"
   },
   {
    "duration": 619,
    "start_time": "2021-11-09T08:13:31.351Z"
   },
   {
    "duration": 1432,
    "start_time": "2021-11-09T08:13:34.429Z"
   },
   {
    "duration": 2012,
    "start_time": "2021-11-09T08:13:35.864Z"
   },
   {
    "duration": 34,
    "start_time": "2021-11-09T08:13:37.879Z"
   },
   {
    "duration": 20,
    "start_time": "2021-11-09T08:13:37.915Z"
   },
   {
    "duration": 18,
    "start_time": "2021-11-09T08:13:37.937Z"
   },
   {
    "duration": 170,
    "start_time": "2021-11-09T08:13:37.958Z"
   },
   {
    "duration": 70,
    "start_time": "2021-11-09T08:13:38.131Z"
   },
   {
    "duration": 346,
    "start_time": "2021-11-09T08:13:38.203Z"
   },
   {
    "duration": 29,
    "start_time": "2021-11-09T08:13:38.552Z"
   },
   {
    "duration": 46,
    "start_time": "2021-11-09T08:13:38.601Z"
   },
   {
    "duration": 157,
    "start_time": "2021-11-09T08:13:38.650Z"
   },
   {
    "duration": 173,
    "start_time": "2021-11-09T08:13:38.809Z"
   },
   {
    "duration": 279,
    "start_time": "2021-11-09T08:13:38.985Z"
   },
   {
    "duration": 67,
    "start_time": "2021-11-09T08:13:39.267Z"
   },
   {
    "duration": 2170,
    "start_time": "2021-11-09T08:13:39.337Z"
   },
   {
    "duration": 409,
    "start_time": "2021-11-09T08:13:41.510Z"
   },
   {
    "duration": 27,
    "start_time": "2021-11-09T08:13:41.922Z"
   },
   {
    "duration": 5,
    "start_time": "2021-11-09T08:13:41.951Z"
   },
   {
    "duration": 46,
    "start_time": "2021-11-09T08:13:41.959Z"
   },
   {
    "duration": 26,
    "start_time": "2021-11-09T08:13:42.007Z"
   },
   {
    "duration": 18,
    "start_time": "2021-11-09T08:13:42.035Z"
   },
   {
    "duration": 69,
    "start_time": "2021-11-09T08:13:42.055Z"
   },
   {
    "duration": 26,
    "start_time": "2021-11-09T08:13:42.127Z"
   },
   {
    "duration": 50,
    "start_time": "2021-11-09T08:13:42.156Z"
   },
   {
    "duration": 26,
    "start_time": "2021-11-09T08:13:42.209Z"
   },
   {
    "duration": 95,
    "start_time": "2021-11-09T08:13:42.238Z"
   },
   {
    "duration": 16,
    "start_time": "2021-11-09T08:13:42.338Z"
   },
   {
    "duration": 53,
    "start_time": "2021-11-09T08:13:42.357Z"
   },
   {
    "duration": 51,
    "start_time": "2021-11-09T08:13:42.412Z"
   },
   {
    "duration": 36,
    "start_time": "2021-11-09T08:13:42.465Z"
   },
   {
    "duration": 6,
    "start_time": "2021-11-09T08:13:42.503Z"
   },
   {
    "duration": 6,
    "start_time": "2021-11-09T08:13:42.512Z"
   },
   {
    "duration": 21,
    "start_time": "2021-11-09T08:13:42.521Z"
   },
   {
    "duration": 71,
    "start_time": "2021-11-09T08:13:42.545Z"
   },
   {
    "duration": 19,
    "start_time": "2021-11-09T08:13:42.619Z"
   },
   {
    "duration": 78,
    "start_time": "2021-11-09T08:13:45.845Z"
   },
   {
    "duration": 474,
    "start_time": "2021-11-09T08:15:42.662Z"
   },
   {
    "duration": 34,
    "start_time": "2021-11-09T08:15:59.425Z"
   },
   {
    "duration": 5,
    "start_time": "2021-11-09T08:16:24.115Z"
   },
   {
    "duration": 1809,
    "start_time": "2021-11-09T08:16:24.123Z"
   },
   {
    "duration": 30,
    "start_time": "2021-11-09T08:16:25.935Z"
   },
   {
    "duration": 18,
    "start_time": "2021-11-09T08:16:25.968Z"
   },
   {
    "duration": 27,
    "start_time": "2021-11-09T08:16:25.989Z"
   },
   {
    "duration": 136,
    "start_time": "2021-11-09T08:16:26.018Z"
   },
   {
    "duration": 61,
    "start_time": "2021-11-09T08:16:26.156Z"
   },
   {
    "duration": 365,
    "start_time": "2021-11-09T08:16:26.220Z"
   },
   {
    "duration": 37,
    "start_time": "2021-11-09T08:16:26.589Z"
   },
   {
    "duration": 92,
    "start_time": "2021-11-09T08:16:26.630Z"
   },
   {
    "duration": 140,
    "start_time": "2021-11-09T08:16:26.726Z"
   },
   {
    "duration": 177,
    "start_time": "2021-11-09T08:16:26.869Z"
   },
   {
    "duration": 377,
    "start_time": "2021-11-09T08:16:27.048Z"
   },
   {
    "duration": 84,
    "start_time": "2021-11-09T08:16:27.429Z"
   },
   {
    "duration": 2330,
    "start_time": "2021-11-09T08:16:27.516Z"
   },
   {
    "duration": 425,
    "start_time": "2021-11-09T08:16:29.848Z"
   },
   {
    "duration": 40,
    "start_time": "2021-11-09T08:16:30.275Z"
   },
   {
    "duration": 5,
    "start_time": "2021-11-09T08:16:30.317Z"
   },
   {
    "duration": 55,
    "start_time": "2021-11-09T08:16:30.325Z"
   },
   {
    "duration": 37,
    "start_time": "2021-11-09T08:16:30.383Z"
   },
   {
    "duration": 26,
    "start_time": "2021-11-09T08:16:30.422Z"
   },
   {
    "duration": 56,
    "start_time": "2021-11-09T08:16:30.451Z"
   },
   {
    "duration": 27,
    "start_time": "2021-11-09T08:16:30.510Z"
   },
   {
    "duration": 18,
    "start_time": "2021-11-09T08:16:30.540Z"
   },
   {
    "duration": 58,
    "start_time": "2021-11-09T08:16:30.560Z"
   },
   {
    "duration": 81,
    "start_time": "2021-11-09T08:16:30.621Z"
   },
   {
    "duration": 22,
    "start_time": "2021-11-09T08:16:30.707Z"
   },
   {
    "duration": 32,
    "start_time": "2021-11-09T08:16:30.731Z"
   },
   {
    "duration": 77,
    "start_time": "2021-11-09T08:16:30.766Z"
   },
   {
    "duration": 8,
    "start_time": "2021-11-09T08:16:30.845Z"
   },
   {
    "duration": 17,
    "start_time": "2021-11-09T08:16:30.855Z"
   },
   {
    "duration": 25,
    "start_time": "2021-11-09T08:16:30.875Z"
   },
   {
    "duration": 38,
    "start_time": "2021-11-09T08:16:30.903Z"
   },
   {
    "duration": 30,
    "start_time": "2021-11-09T08:16:30.944Z"
   },
   {
    "duration": 32,
    "start_time": "2021-11-09T08:16:30.977Z"
   },
   {
    "duration": 77,
    "start_time": "2021-11-09T08:16:33.204Z"
   },
   {
    "duration": 392,
    "start_time": "2021-11-09T08:18:24.410Z"
   },
   {
    "duration": 452,
    "start_time": "2021-11-09T08:18:37.173Z"
   },
   {
    "duration": 1512,
    "start_time": "2021-11-09T08:20:25.262Z"
   },
   {
    "duration": 1986,
    "start_time": "2021-11-09T08:20:26.777Z"
   },
   {
    "duration": 35,
    "start_time": "2021-11-09T08:20:28.766Z"
   },
   {
    "duration": 19,
    "start_time": "2021-11-09T08:20:28.804Z"
   },
   {
    "duration": 20,
    "start_time": "2021-11-09T08:20:28.825Z"
   },
   {
    "duration": 170,
    "start_time": "2021-11-09T08:20:28.847Z"
   },
   {
    "duration": 53,
    "start_time": "2021-11-09T08:20:29.019Z"
   },
   {
    "duration": 368,
    "start_time": "2021-11-09T08:20:29.076Z"
   },
   {
    "duration": 28,
    "start_time": "2021-11-09T08:20:29.448Z"
   },
   {
    "duration": 50,
    "start_time": "2021-11-09T08:20:29.500Z"
   },
   {
    "duration": 162,
    "start_time": "2021-11-09T08:20:29.553Z"
   },
   {
    "duration": 201,
    "start_time": "2021-11-09T08:20:29.719Z"
   },
   {
    "duration": 287,
    "start_time": "2021-11-09T08:20:29.923Z"
   },
   {
    "duration": 56,
    "start_time": "2021-11-09T08:20:30.212Z"
   },
   {
    "duration": 2205,
    "start_time": "2021-11-09T08:20:30.271Z"
   },
   {
    "duration": 438,
    "start_time": "2021-11-09T08:20:32.478Z"
   },
   {
    "duration": 27,
    "start_time": "2021-11-09T08:20:32.918Z"
   },
   {
    "duration": 5,
    "start_time": "2021-11-09T08:20:32.948Z"
   },
   {
    "duration": 53,
    "start_time": "2021-11-09T08:20:32.956Z"
   },
   {
    "duration": 26,
    "start_time": "2021-11-09T08:20:33.011Z"
   },
   {
    "duration": 24,
    "start_time": "2021-11-09T08:20:33.040Z"
   },
   {
    "duration": 35,
    "start_time": "2021-11-09T08:20:33.101Z"
   },
   {
    "duration": 27,
    "start_time": "2021-11-09T08:20:33.138Z"
   },
   {
    "duration": 47,
    "start_time": "2021-11-09T08:20:33.167Z"
   },
   {
    "duration": 27,
    "start_time": "2021-11-09T08:20:33.216Z"
   },
   {
    "duration": 93,
    "start_time": "2021-11-09T08:20:33.246Z"
   },
   {
    "duration": 16,
    "start_time": "2021-11-09T08:20:33.343Z"
   },
   {
    "duration": 48,
    "start_time": "2021-11-09T08:20:33.362Z"
   },
   {
    "duration": 48,
    "start_time": "2021-11-09T08:20:33.413Z"
   },
   {
    "duration": 39,
    "start_time": "2021-11-09T08:20:33.463Z"
   },
   {
    "duration": 7,
    "start_time": "2021-11-09T08:20:33.504Z"
   },
   {
    "duration": 8,
    "start_time": "2021-11-09T08:20:33.513Z"
   },
   {
    "duration": 14,
    "start_time": "2021-11-09T08:20:33.523Z"
   },
   {
    "duration": 16,
    "start_time": "2021-11-09T08:20:33.540Z"
   },
   {
    "duration": 19,
    "start_time": "2021-11-09T08:20:33.601Z"
   },
   {
    "duration": 977,
    "start_time": "2021-11-09T08:20:36.936Z"
   },
   {
    "duration": 1431,
    "start_time": "2021-11-09T08:21:10.453Z"
   },
   {
    "duration": 2352,
    "start_time": "2021-11-09T08:21:11.887Z"
   },
   {
    "duration": 36,
    "start_time": "2021-11-09T08:21:14.242Z"
   },
   {
    "duration": 20,
    "start_time": "2021-11-09T08:21:14.282Z"
   },
   {
    "duration": 20,
    "start_time": "2021-11-09T08:21:14.304Z"
   },
   {
    "duration": 124,
    "start_time": "2021-11-09T08:21:14.326Z"
   },
   {
    "duration": 60,
    "start_time": "2021-11-09T08:21:14.453Z"
   },
   {
    "duration": 388,
    "start_time": "2021-11-09T08:21:14.515Z"
   },
   {
    "duration": 29,
    "start_time": "2021-11-09T08:21:14.907Z"
   },
   {
    "duration": 62,
    "start_time": "2021-11-09T08:21:14.939Z"
   },
   {
    "duration": 171,
    "start_time": "2021-11-09T08:21:15.003Z"
   },
   {
    "duration": 189,
    "start_time": "2021-11-09T08:21:15.177Z"
   },
   {
    "duration": 390,
    "start_time": "2021-11-09T08:21:15.368Z"
   },
   {
    "duration": 85,
    "start_time": "2021-11-09T08:21:15.760Z"
   },
   {
    "duration": 2208,
    "start_time": "2021-11-09T08:21:15.847Z"
   },
   {
    "duration": 428,
    "start_time": "2021-11-09T08:21:18.058Z"
   },
   {
    "duration": 33,
    "start_time": "2021-11-09T08:21:18.488Z"
   },
   {
    "duration": 5,
    "start_time": "2021-11-09T08:21:18.524Z"
   },
   {
    "duration": 26,
    "start_time": "2021-11-09T08:21:18.531Z"
   },
   {
    "duration": 63,
    "start_time": "2021-11-09T08:21:18.560Z"
   },
   {
    "duration": 21,
    "start_time": "2021-11-09T08:21:18.625Z"
   },
   {
    "duration": 65,
    "start_time": "2021-11-09T08:21:18.649Z"
   },
   {
    "duration": 25,
    "start_time": "2021-11-09T08:21:18.717Z"
   },
   {
    "duration": 18,
    "start_time": "2021-11-09T08:21:18.745Z"
   },
   {
    "duration": 59,
    "start_time": "2021-11-09T08:21:18.765Z"
   },
   {
    "duration": 75,
    "start_time": "2021-11-09T08:21:18.827Z"
   },
   {
    "duration": 16,
    "start_time": "2021-11-09T08:21:18.906Z"
   },
   {
    "duration": 23,
    "start_time": "2021-11-09T08:21:18.924Z"
   },
   {
    "duration": 93,
    "start_time": "2021-11-09T08:21:18.951Z"
   },
   {
    "duration": 10,
    "start_time": "2021-11-09T08:21:19.047Z"
   },
   {
    "duration": 42,
    "start_time": "2021-11-09T08:21:19.060Z"
   },
   {
    "duration": 8,
    "start_time": "2021-11-09T08:21:19.106Z"
   },
   {
    "duration": 16,
    "start_time": "2021-11-09T08:21:19.117Z"
   },
   {
    "duration": 18,
    "start_time": "2021-11-09T08:21:19.136Z"
   },
   {
    "duration": 19,
    "start_time": "2021-11-09T08:21:19.200Z"
   },
   {
    "duration": 483,
    "start_time": "2021-11-09T08:21:23.313Z"
   },
   {
    "duration": 614,
    "start_time": "2021-11-09T08:24:45.357Z"
   },
   {
    "duration": 1987,
    "start_time": "2021-11-09T08:24:55.825Z"
   },
   {
    "duration": 2421,
    "start_time": "2021-11-09T08:24:57.816Z"
   },
   {
    "duration": 55,
    "start_time": "2021-11-09T08:25:00.242Z"
   },
   {
    "duration": 30,
    "start_time": "2021-11-09T08:25:00.301Z"
   },
   {
    "duration": 34,
    "start_time": "2021-11-09T08:25:00.334Z"
   },
   {
    "duration": 203,
    "start_time": "2021-11-09T08:25:00.402Z"
   },
   {
    "duration": 92,
    "start_time": "2021-11-09T08:25:00.608Z"
   },
   {
    "duration": 359,
    "start_time": "2021-11-09T08:25:00.703Z"
   },
   {
    "duration": 46,
    "start_time": "2021-11-09T08:25:01.066Z"
   },
   {
    "duration": 49,
    "start_time": "2021-11-09T08:25:01.115Z"
   },
   {
    "duration": 166,
    "start_time": "2021-11-09T08:25:01.167Z"
   },
   {
    "duration": 176,
    "start_time": "2021-11-09T08:25:01.335Z"
   },
   {
    "duration": 290,
    "start_time": "2021-11-09T08:25:01.514Z"
   },
   {
    "duration": 56,
    "start_time": "2021-11-09T08:25:01.807Z"
   },
   {
    "duration": 2360,
    "start_time": "2021-11-09T08:25:01.866Z"
   },
   {
    "duration": 431,
    "start_time": "2021-11-09T08:25:04.229Z"
   },
   {
    "duration": 40,
    "start_time": "2021-11-09T08:25:04.662Z"
   },
   {
    "duration": 5,
    "start_time": "2021-11-09T08:25:04.704Z"
   },
   {
    "duration": 18,
    "start_time": "2021-11-09T08:25:04.712Z"
   },
   {
    "duration": 75,
    "start_time": "2021-11-09T08:25:04.732Z"
   },
   {
    "duration": 20,
    "start_time": "2021-11-09T08:25:04.810Z"
   },
   {
    "duration": 74,
    "start_time": "2021-11-09T08:25:04.832Z"
   },
   {
    "duration": 26,
    "start_time": "2021-11-09T08:25:04.909Z"
   },
   {
    "duration": 19,
    "start_time": "2021-11-09T08:25:04.937Z"
   },
   {
    "duration": 68,
    "start_time": "2021-11-09T08:25:04.958Z"
   },
   {
    "duration": 89,
    "start_time": "2021-11-09T08:25:05.028Z"
   },
   {
    "duration": 16,
    "start_time": "2021-11-09T08:25:05.122Z"
   },
   {
    "duration": 35,
    "start_time": "2021-11-09T08:25:05.141Z"
   },
   {
    "duration": 85,
    "start_time": "2021-11-09T08:25:05.178Z"
   },
   {
    "duration": 8,
    "start_time": "2021-11-09T08:25:05.266Z"
   },
   {
    "duration": 27,
    "start_time": "2021-11-09T08:25:05.276Z"
   },
   {
    "duration": 15,
    "start_time": "2021-11-09T08:25:05.305Z"
   },
   {
    "duration": 15,
    "start_time": "2021-11-09T08:25:05.323Z"
   },
   {
    "duration": 18,
    "start_time": "2021-11-09T08:25:05.341Z"
   },
   {
    "duration": 19,
    "start_time": "2021-11-09T08:25:05.401Z"
   },
   {
    "duration": 409,
    "start_time": "2021-11-09T08:25:17.707Z"
   },
   {
    "duration": 83,
    "start_time": "2021-11-09T08:27:02.685Z"
   },
   {
    "duration": 666,
    "start_time": "2021-11-09T08:27:14.019Z"
   },
   {
    "duration": 4,
    "start_time": "2021-11-09T08:27:20.369Z"
   },
   {
    "duration": 1885,
    "start_time": "2021-11-09T08:27:20.376Z"
   },
   {
    "duration": 31,
    "start_time": "2021-11-09T08:27:22.264Z"
   },
   {
    "duration": 21,
    "start_time": "2021-11-09T08:27:22.297Z"
   },
   {
    "duration": 21,
    "start_time": "2021-11-09T08:27:22.320Z"
   },
   {
    "duration": 153,
    "start_time": "2021-11-09T08:27:22.343Z"
   },
   {
    "duration": 47,
    "start_time": "2021-11-09T08:27:22.501Z"
   },
   {
    "duration": 365,
    "start_time": "2021-11-09T08:27:22.552Z"
   },
   {
    "duration": 28,
    "start_time": "2021-11-09T08:27:22.921Z"
   },
   {
    "duration": 80,
    "start_time": "2021-11-09T08:27:22.951Z"
   },
   {
    "duration": 138,
    "start_time": "2021-11-09T08:27:23.033Z"
   },
   {
    "duration": 177,
    "start_time": "2021-11-09T08:27:23.174Z"
   },
   {
    "duration": 257,
    "start_time": "2021-11-09T08:27:23.354Z"
   },
   {
    "duration": 57,
    "start_time": "2021-11-09T08:27:23.615Z"
   },
   {
    "duration": 2216,
    "start_time": "2021-11-09T08:27:23.675Z"
   },
   {
    "duration": 407,
    "start_time": "2021-11-09T08:27:25.901Z"
   },
   {
    "duration": 29,
    "start_time": "2021-11-09T08:27:26.311Z"
   },
   {
    "duration": 6,
    "start_time": "2021-11-09T08:27:26.343Z"
   },
   {
    "duration": 53,
    "start_time": "2021-11-09T08:27:26.352Z"
   },
   {
    "duration": 28,
    "start_time": "2021-11-09T08:27:26.407Z"
   },
   {
    "duration": 19,
    "start_time": "2021-11-09T08:27:26.438Z"
   },
   {
    "duration": 74,
    "start_time": "2021-11-09T08:27:26.459Z"
   },
   {
    "duration": 28,
    "start_time": "2021-11-09T08:27:26.541Z"
   },
   {
    "duration": 23,
    "start_time": "2021-11-09T08:27:26.601Z"
   },
   {
    "duration": 26,
    "start_time": "2021-11-09T08:27:26.627Z"
   },
   {
    "duration": 99,
    "start_time": "2021-11-09T08:27:26.656Z"
   },
   {
    "duration": 48,
    "start_time": "2021-11-09T08:27:26.758Z"
   },
   {
    "duration": 27,
    "start_time": "2021-11-09T08:27:26.809Z"
   },
   {
    "duration": 94,
    "start_time": "2021-11-09T08:27:26.839Z"
   },
   {
    "duration": 9,
    "start_time": "2021-11-09T08:27:26.937Z"
   },
   {
    "duration": 22,
    "start_time": "2021-11-09T08:27:26.948Z"
   },
   {
    "duration": 29,
    "start_time": "2021-11-09T08:27:26.972Z"
   },
   {
    "duration": 18,
    "start_time": "2021-11-09T08:27:27.004Z"
   },
   {
    "duration": 24,
    "start_time": "2021-11-09T08:27:27.024Z"
   },
   {
    "duration": 55,
    "start_time": "2021-11-09T08:27:27.051Z"
   },
   {
    "duration": 426,
    "start_time": "2021-11-09T08:27:27.109Z"
   },
   {
    "duration": 34,
    "start_time": "2021-11-09T08:27:34.026Z"
   },
   {
    "duration": 33,
    "start_time": "2021-11-09T08:27:40.660Z"
   },
   {
    "duration": 2336,
    "start_time": "2021-11-09T08:27:44.537Z"
   },
   {
    "duration": 4,
    "start_time": "2021-11-09T08:28:08.124Z"
   },
   {
    "duration": 1749,
    "start_time": "2021-11-09T08:28:08.154Z"
   },
   {
    "duration": 29,
    "start_time": "2021-11-09T08:28:09.906Z"
   },
   {
    "duration": 19,
    "start_time": "2021-11-09T08:28:09.938Z"
   },
   {
    "duration": 58,
    "start_time": "2021-11-09T08:28:09.959Z"
   },
   {
    "duration": 137,
    "start_time": "2021-11-09T08:28:10.020Z"
   },
   {
    "duration": 60,
    "start_time": "2021-11-09T08:28:10.159Z"
   },
   {
    "duration": 347,
    "start_time": "2021-11-09T08:28:10.221Z"
   },
   {
    "duration": 44,
    "start_time": "2021-11-09T08:28:10.571Z"
   },
   {
    "duration": 47,
    "start_time": "2021-11-09T08:28:10.619Z"
   },
   {
    "duration": 148,
    "start_time": "2021-11-09T08:28:10.669Z"
   },
   {
    "duration": 170,
    "start_time": "2021-11-09T08:28:10.820Z"
   },
   {
    "duration": 251,
    "start_time": "2021-11-09T08:28:10.993Z"
   },
   {
    "duration": 71,
    "start_time": "2021-11-09T08:28:11.247Z"
   },
   {
    "duration": 2188,
    "start_time": "2021-11-09T08:28:11.320Z"
   },
   {
    "duration": 412,
    "start_time": "2021-11-09T08:28:13.511Z"
   },
   {
    "duration": 29,
    "start_time": "2021-11-09T08:28:13.925Z"
   },
   {
    "duration": 4,
    "start_time": "2021-11-09T08:28:13.957Z"
   },
   {
    "duration": 45,
    "start_time": "2021-11-09T08:28:13.964Z"
   },
   {
    "duration": 27,
    "start_time": "2021-11-09T08:28:14.012Z"
   },
   {
    "duration": 18,
    "start_time": "2021-11-09T08:28:14.041Z"
   },
   {
    "duration": 72,
    "start_time": "2021-11-09T08:28:14.061Z"
   },
   {
    "duration": 27,
    "start_time": "2021-11-09T08:28:14.136Z"
   },
   {
    "duration": 51,
    "start_time": "2021-11-09T08:28:14.165Z"
   },
   {
    "duration": 47,
    "start_time": "2021-11-09T08:28:14.218Z"
   },
   {
    "duration": 90,
    "start_time": "2021-11-09T08:28:14.267Z"
   },
   {
    "duration": 14,
    "start_time": "2021-11-09T08:28:14.359Z"
   },
   {
    "duration": 43,
    "start_time": "2021-11-09T08:28:14.378Z"
   },
   {
    "duration": 49,
    "start_time": "2021-11-09T08:28:14.423Z"
   },
   {
    "duration": 34,
    "start_time": "2021-11-09T08:28:14.474Z"
   },
   {
    "duration": 8,
    "start_time": "2021-11-09T08:28:14.511Z"
   },
   {
    "duration": 19,
    "start_time": "2021-11-09T08:28:14.521Z"
   },
   {
    "duration": 28,
    "start_time": "2021-11-09T08:28:14.542Z"
   },
   {
    "duration": 19,
    "start_time": "2021-11-09T08:28:14.600Z"
   },
   {
    "duration": 22,
    "start_time": "2021-11-09T08:28:14.622Z"
   },
   {
    "duration": 2576,
    "start_time": "2021-11-09T08:28:21.572Z"
   },
   {
    "duration": 467,
    "start_time": "2021-11-09T08:29:04.376Z"
   },
   {
    "duration": 1434,
    "start_time": "2021-11-09T08:29:07.430Z"
   },
   {
    "duration": 1843,
    "start_time": "2021-11-09T08:29:08.867Z"
   },
   {
    "duration": 36,
    "start_time": "2021-11-09T08:29:10.713Z"
   },
   {
    "duration": 20,
    "start_time": "2021-11-09T08:29:10.752Z"
   },
   {
    "duration": 21,
    "start_time": "2021-11-09T08:29:10.801Z"
   },
   {
    "duration": 150,
    "start_time": "2021-11-09T08:29:10.825Z"
   },
   {
    "duration": 64,
    "start_time": "2021-11-09T08:29:10.978Z"
   },
   {
    "duration": 359,
    "start_time": "2021-11-09T08:29:11.044Z"
   },
   {
    "duration": 28,
    "start_time": "2021-11-09T08:29:11.407Z"
   },
   {
    "duration": 79,
    "start_time": "2021-11-09T08:29:11.438Z"
   },
   {
    "duration": 140,
    "start_time": "2021-11-09T08:29:11.519Z"
   },
   {
    "duration": 174,
    "start_time": "2021-11-09T08:29:11.661Z"
   },
   {
    "duration": 290,
    "start_time": "2021-11-09T08:29:11.838Z"
   },
   {
    "duration": 59,
    "start_time": "2021-11-09T08:29:12.130Z"
   },
   {
    "duration": 2363,
    "start_time": "2021-11-09T08:29:12.201Z"
   },
   {
    "duration": 442,
    "start_time": "2021-11-09T08:29:14.566Z"
   },
   {
    "duration": 35,
    "start_time": "2021-11-09T08:29:15.010Z"
   },
   {
    "duration": 11,
    "start_time": "2021-11-09T08:29:15.048Z"
   },
   {
    "duration": 25,
    "start_time": "2021-11-09T08:29:15.061Z"
   },
   {
    "duration": 37,
    "start_time": "2021-11-09T08:29:15.089Z"
   },
   {
    "duration": 24,
    "start_time": "2021-11-09T08:29:15.129Z"
   },
   {
    "duration": 37,
    "start_time": "2021-11-09T08:29:15.155Z"
   },
   {
    "duration": 29,
    "start_time": "2021-11-09T08:29:15.194Z"
   },
   {
    "duration": 18,
    "start_time": "2021-11-09T08:29:15.226Z"
   },
   {
    "duration": 38,
    "start_time": "2021-11-09T08:29:15.246Z"
   },
   {
    "duration": 72,
    "start_time": "2021-11-09T08:29:15.287Z"
   },
   {
    "duration": 16,
    "start_time": "2021-11-09T08:29:15.400Z"
   },
   {
    "duration": 52,
    "start_time": "2021-11-09T08:29:15.419Z"
   },
   {
    "duration": 49,
    "start_time": "2021-11-09T08:29:15.473Z"
   },
   {
    "duration": 7,
    "start_time": "2021-11-09T08:29:15.524Z"
   },
   {
    "duration": 31,
    "start_time": "2021-11-09T08:29:15.533Z"
   },
   {
    "duration": 31,
    "start_time": "2021-11-09T08:29:15.566Z"
   },
   {
    "duration": 35,
    "start_time": "2021-11-09T08:29:15.599Z"
   },
   {
    "duration": 26,
    "start_time": "2021-11-09T08:29:15.637Z"
   },
   {
    "duration": 19,
    "start_time": "2021-11-09T08:29:15.666Z"
   },
   {
    "duration": 2622,
    "start_time": "2021-11-09T08:29:21.134Z"
   },
   {
    "duration": 277,
    "start_time": "2021-11-09T08:29:46.354Z"
   },
   {
    "duration": 4,
    "start_time": "2021-11-09T08:41:36.456Z"
   },
   {
    "duration": 1780,
    "start_time": "2021-11-09T08:41:36.463Z"
   },
   {
    "duration": 31,
    "start_time": "2021-11-09T08:41:38.246Z"
   },
   {
    "duration": 21,
    "start_time": "2021-11-09T08:41:38.279Z"
   },
   {
    "duration": 21,
    "start_time": "2021-11-09T08:41:38.302Z"
   },
   {
    "duration": 127,
    "start_time": "2021-11-09T08:41:38.325Z"
   },
   {
    "duration": 55,
    "start_time": "2021-11-09T08:41:38.455Z"
   },
   {
    "duration": 339,
    "start_time": "2021-11-09T08:41:38.512Z"
   },
   {
    "duration": 28,
    "start_time": "2021-11-09T08:41:38.855Z"
   },
   {
    "duration": 46,
    "start_time": "2021-11-09T08:41:38.901Z"
   },
   {
    "duration": 132,
    "start_time": "2021-11-09T08:41:38.950Z"
   },
   {
    "duration": 167,
    "start_time": "2021-11-09T08:41:39.085Z"
   },
   {
    "duration": 248,
    "start_time": "2021-11-09T08:41:39.255Z"
   },
   {
    "duration": 56,
    "start_time": "2021-11-09T08:41:39.505Z"
   },
   {
    "duration": 2293,
    "start_time": "2021-11-09T08:41:39.564Z"
   },
   {
    "duration": 416,
    "start_time": "2021-11-09T08:41:41.860Z"
   },
   {
    "duration": 36,
    "start_time": "2021-11-09T08:41:42.278Z"
   },
   {
    "duration": 5,
    "start_time": "2021-11-09T08:41:42.316Z"
   },
   {
    "duration": 24,
    "start_time": "2021-11-09T08:41:42.324Z"
   },
   {
    "duration": 50,
    "start_time": "2021-11-09T08:41:42.350Z"
   },
   {
    "duration": 18,
    "start_time": "2021-11-09T08:41:42.402Z"
   },
   {
    "duration": 33,
    "start_time": "2021-11-09T08:41:42.422Z"
   },
   {
    "duration": 54,
    "start_time": "2021-11-09T08:41:42.458Z"
   },
   {
    "duration": 17,
    "start_time": "2021-11-09T08:41:42.515Z"
   },
   {
    "duration": 28,
    "start_time": "2021-11-09T08:41:42.534Z"
   },
   {
    "duration": 77,
    "start_time": "2021-11-09T08:41:42.564Z"
   },
   {
    "duration": 17,
    "start_time": "2021-11-09T08:41:42.646Z"
   },
   {
    "duration": 52,
    "start_time": "2021-11-09T08:41:42.665Z"
   },
   {
    "duration": 52,
    "start_time": "2021-11-09T08:41:42.720Z"
   },
   {
    "duration": 27,
    "start_time": "2021-11-09T08:41:42.775Z"
   },
   {
    "duration": 7,
    "start_time": "2021-11-09T08:41:42.804Z"
   },
   {
    "duration": 8,
    "start_time": "2021-11-09T08:41:42.814Z"
   },
   {
    "duration": 16,
    "start_time": "2021-11-09T08:41:42.825Z"
   },
   {
    "duration": 63,
    "start_time": "2021-11-09T08:41:42.844Z"
   },
   {
    "duration": 18,
    "start_time": "2021-11-09T08:41:42.911Z"
   },
   {
    "duration": 73,
    "start_time": "2021-11-09T08:41:54.472Z"
   },
   {
    "duration": 5,
    "start_time": "2021-11-09T08:42:10.830Z"
   },
   {
    "duration": 2485,
    "start_time": "2021-11-09T08:42:10.837Z"
   },
   {
    "duration": 31,
    "start_time": "2021-11-09T08:42:13.325Z"
   },
   {
    "duration": 19,
    "start_time": "2021-11-09T08:42:13.359Z"
   },
   {
    "duration": 32,
    "start_time": "2021-11-09T08:42:13.380Z"
   },
   {
    "duration": 135,
    "start_time": "2021-11-09T08:42:13.414Z"
   },
   {
    "duration": 51,
    "start_time": "2021-11-09T08:42:13.551Z"
   },
   {
    "duration": 348,
    "start_time": "2021-11-09T08:42:13.605Z"
   },
   {
    "duration": 47,
    "start_time": "2021-11-09T08:42:13.959Z"
   },
   {
    "duration": 47,
    "start_time": "2021-11-09T08:42:14.010Z"
   },
   {
    "duration": 157,
    "start_time": "2021-11-09T08:42:14.060Z"
   },
   {
    "duration": 169,
    "start_time": "2021-11-09T08:42:14.220Z"
   },
   {
    "duration": 257,
    "start_time": "2021-11-09T08:42:14.391Z"
   },
   {
    "duration": 79,
    "start_time": "2021-11-09T08:42:14.651Z"
   },
   {
    "duration": 2504,
    "start_time": "2021-11-09T08:42:14.733Z"
   },
   {
    "duration": 421,
    "start_time": "2021-11-09T08:42:17.240Z"
   },
   {
    "duration": 45,
    "start_time": "2021-11-09T08:42:17.665Z"
   },
   {
    "duration": 5,
    "start_time": "2021-11-09T08:42:17.714Z"
   },
   {
    "duration": 17,
    "start_time": "2021-11-09T08:42:17.721Z"
   },
   {
    "duration": 27,
    "start_time": "2021-11-09T08:42:17.740Z"
   },
   {
    "duration": 53,
    "start_time": "2021-11-09T08:42:17.770Z"
   },
   {
    "duration": 42,
    "start_time": "2021-11-09T08:42:17.825Z"
   },
   {
    "duration": 55,
    "start_time": "2021-11-09T08:42:17.870Z"
   },
   {
    "duration": 19,
    "start_time": "2021-11-09T08:42:17.927Z"
   },
   {
    "duration": 52,
    "start_time": "2021-11-09T08:42:17.948Z"
   },
   {
    "duration": 53,
    "start_time": "2021-11-09T08:42:18.003Z"
   },
   {
    "duration": 41,
    "start_time": "2021-11-09T08:42:18.061Z"
   },
   {
    "duration": 25,
    "start_time": "2021-11-09T08:42:18.104Z"
   },
   {
    "duration": 77,
    "start_time": "2021-11-09T08:42:18.132Z"
   },
   {
    "duration": 8,
    "start_time": "2021-11-09T08:42:18.211Z"
   },
   {
    "duration": 32,
    "start_time": "2021-11-09T08:42:18.221Z"
   },
   {
    "duration": 17,
    "start_time": "2021-11-09T08:42:18.255Z"
   },
   {
    "duration": 25,
    "start_time": "2021-11-09T08:42:18.274Z"
   },
   {
    "duration": 36,
    "start_time": "2021-11-09T08:42:18.301Z"
   },
   {
    "duration": 23,
    "start_time": "2021-11-09T08:42:18.340Z"
   },
   {
    "duration": 53,
    "start_time": "2021-11-09T08:42:22.743Z"
   },
   {
    "duration": 56,
    "start_time": "2021-11-09T08:42:41.520Z"
   },
   {
    "duration": 54,
    "start_time": "2021-11-09T08:42:51.219Z"
   },
   {
    "duration": 5,
    "start_time": "2021-11-09T09:52:59.259Z"
   },
   {
    "duration": 1934,
    "start_time": "2021-11-09T09:52:59.266Z"
   },
   {
    "duration": 33,
    "start_time": "2021-11-09T09:53:01.203Z"
   },
   {
    "duration": 19,
    "start_time": "2021-11-09T09:53:01.239Z"
   },
   {
    "duration": 56,
    "start_time": "2021-11-09T09:53:01.261Z"
   },
   {
    "duration": 129,
    "start_time": "2021-11-09T09:53:01.319Z"
   },
   {
    "duration": 55,
    "start_time": "2021-11-09T09:53:01.450Z"
   },
   {
    "duration": 342,
    "start_time": "2021-11-09T09:53:01.509Z"
   },
   {
    "duration": 28,
    "start_time": "2021-11-09T09:53:01.854Z"
   },
   {
    "duration": 47,
    "start_time": "2021-11-09T09:53:01.901Z"
   },
   {
    "duration": 155,
    "start_time": "2021-11-09T09:53:01.951Z"
   },
   {
    "duration": 167,
    "start_time": "2021-11-09T09:53:02.109Z"
   },
   {
    "duration": 257,
    "start_time": "2021-11-09T09:53:02.278Z"
   },
   {
    "duration": 66,
    "start_time": "2021-11-09T09:53:02.537Z"
   },
   {
    "duration": 2187,
    "start_time": "2021-11-09T09:53:02.606Z"
   },
   {
    "duration": 401,
    "start_time": "2021-11-09T09:53:04.795Z"
   },
   {
    "duration": 26,
    "start_time": "2021-11-09T09:53:05.200Z"
   },
   {
    "duration": 5,
    "start_time": "2021-11-09T09:53:05.228Z"
   },
   {
    "duration": 17,
    "start_time": "2021-11-09T09:53:05.235Z"
   },
   {
    "duration": 55,
    "start_time": "2021-11-09T09:53:05.254Z"
   },
   {
    "duration": 20,
    "start_time": "2021-11-09T09:53:05.311Z"
   },
   {
    "duration": 34,
    "start_time": "2021-11-09T09:53:05.333Z"
   },
   {
    "duration": 27,
    "start_time": "2021-11-09T09:53:05.399Z"
   },
   {
    "duration": 19,
    "start_time": "2021-11-09T09:53:05.430Z"
   },
   {
    "duration": 25,
    "start_time": "2021-11-09T09:53:05.451Z"
   },
   {
    "duration": 60,
    "start_time": "2021-11-09T09:53:05.500Z"
   },
   {
    "duration": 43,
    "start_time": "2021-11-09T09:53:05.563Z"
   },
   {
    "duration": 27,
    "start_time": "2021-11-09T09:53:05.609Z"
   },
   {
    "duration": 80,
    "start_time": "2021-11-09T09:53:05.639Z"
   },
   {
    "duration": 8,
    "start_time": "2021-11-09T09:53:05.721Z"
   },
   {
    "duration": 11,
    "start_time": "2021-11-09T09:53:05.731Z"
   },
   {
    "duration": 6,
    "start_time": "2021-11-09T09:53:05.745Z"
   },
   {
    "duration": 15,
    "start_time": "2021-11-09T09:53:05.754Z"
   },
   {
    "duration": 36,
    "start_time": "2021-11-09T09:53:05.771Z"
   },
   {
    "duration": 19,
    "start_time": "2021-11-09T09:53:05.810Z"
   },
   {
    "duration": 106,
    "start_time": "2021-11-09T09:53:05.831Z"
   },
   {
    "duration": 9,
    "start_time": "2021-11-09T09:53:08.306Z"
   },
   {
    "duration": 7,
    "start_time": "2021-11-09T09:55:41.296Z"
   },
   {
    "duration": 8,
    "start_time": "2021-11-09T09:55:46.075Z"
   },
   {
    "duration": 1141,
    "start_time": "2021-11-10T08:16:09.373Z"
   },
   {
    "duration": 1664,
    "start_time": "2021-11-10T08:16:10.516Z"
   },
   {
    "duration": 24,
    "start_time": "2021-11-10T08:16:12.183Z"
   },
   {
    "duration": 14,
    "start_time": "2021-11-10T08:16:12.209Z"
   },
   {
    "duration": 14,
    "start_time": "2021-11-10T08:16:12.225Z"
   },
   {
    "duration": 125,
    "start_time": "2021-11-10T08:16:12.240Z"
   },
   {
    "duration": 57,
    "start_time": "2021-11-10T08:16:12.366Z"
   },
   {
    "duration": 304,
    "start_time": "2021-11-10T08:16:12.424Z"
   },
   {
    "duration": 12,
    "start_time": "2021-11-10T08:16:55.563Z"
   },
   {
    "duration": 148,
    "start_time": "2021-11-10T08:26:00.376Z"
   },
   {
    "duration": 143,
    "start_time": "2021-11-10T08:27:00.326Z"
   },
   {
    "duration": 598,
    "start_time": "2021-11-10T08:28:51.597Z"
   },
   {
    "duration": 141,
    "start_time": "2021-11-10T08:29:12.584Z"
   },
   {
    "duration": 154,
    "start_time": "2021-11-10T08:32:26.084Z"
   },
   {
    "duration": 17,
    "start_time": "2021-11-10T08:40:21.096Z"
   },
   {
    "duration": 20,
    "start_time": "2021-11-10T08:41:05.362Z"
   },
   {
    "duration": 23,
    "start_time": "2021-11-10T08:41:16.079Z"
   },
   {
    "duration": 409,
    "start_time": "2021-11-10T08:42:42.826Z"
   },
   {
    "duration": 389,
    "start_time": "2021-11-10T08:42:53.670Z"
   },
   {
    "duration": 18,
    "start_time": "2021-11-10T08:45:06.481Z"
   },
   {
    "duration": 24,
    "start_time": "2021-11-10T08:47:39.803Z"
   },
   {
    "duration": 59,
    "start_time": "2021-11-10T08:59:57.531Z"
   },
   {
    "duration": 429,
    "start_time": "2021-11-10T19:24:30.991Z"
   },
   {
    "duration": 1400,
    "start_time": "2021-11-10T19:24:33.549Z"
   },
   {
    "duration": 1710,
    "start_time": "2021-11-10T19:24:34.952Z"
   },
   {
    "duration": 53,
    "start_time": "2021-11-10T19:24:36.666Z"
   },
   {
    "duration": 51,
    "start_time": "2021-11-10T19:24:36.726Z"
   },
   {
    "duration": 18,
    "start_time": "2021-11-10T19:24:36.779Z"
   },
   {
    "duration": 149,
    "start_time": "2021-11-10T19:24:36.800Z"
   },
   {
    "duration": 51,
    "start_time": "2021-11-10T19:24:36.951Z"
   },
   {
    "duration": 353,
    "start_time": "2021-11-10T19:24:37.007Z"
   },
   {
    "duration": 242,
    "start_time": "2021-11-10T19:24:37.363Z"
   },
   {
    "duration": 23,
    "start_time": "2021-11-10T19:24:37.608Z"
   },
   {
    "duration": 73,
    "start_time": "2021-11-10T19:24:37.633Z"
   },
   {
    "duration": 124,
    "start_time": "2021-11-10T19:24:37.708Z"
   },
   {
    "duration": 172,
    "start_time": "2021-11-10T19:24:37.834Z"
   },
   {
    "duration": 288,
    "start_time": "2021-11-10T19:24:38.009Z"
   },
   {
    "duration": 71,
    "start_time": "2021-11-10T19:24:38.299Z"
   },
   {
    "duration": 2117,
    "start_time": "2021-11-10T19:24:38.373Z"
   },
   {
    "duration": 397,
    "start_time": "2021-11-10T19:24:40.492Z"
   },
   {
    "duration": 27,
    "start_time": "2021-11-10T19:24:40.892Z"
   },
   {
    "duration": 6,
    "start_time": "2021-11-10T19:24:40.921Z"
   },
   {
    "duration": 39,
    "start_time": "2021-11-10T19:24:40.929Z"
   },
   {
    "duration": 33,
    "start_time": "2021-11-10T19:24:40.971Z"
   },
   {
    "duration": 20,
    "start_time": "2021-11-10T19:24:41.007Z"
   },
   {
    "duration": 45,
    "start_time": "2021-11-10T19:24:41.062Z"
   },
   {
    "duration": 55,
    "start_time": "2021-11-10T19:24:41.110Z"
   },
   {
    "duration": 31,
    "start_time": "2021-11-10T19:24:41.168Z"
   },
   {
    "duration": 30,
    "start_time": "2021-11-10T19:24:41.202Z"
   },
   {
    "duration": 108,
    "start_time": "2021-11-10T19:24:41.235Z"
   },
   {
    "duration": 17,
    "start_time": "2021-11-10T19:24:41.360Z"
   },
   {
    "duration": 26,
    "start_time": "2021-11-10T19:24:41.380Z"
   },
   {
    "duration": 83,
    "start_time": "2021-11-10T19:24:41.408Z"
   },
   {
    "duration": 7,
    "start_time": "2021-11-10T19:24:41.493Z"
   },
   {
    "duration": 8,
    "start_time": "2021-11-10T19:24:41.503Z"
   },
   {
    "duration": 9,
    "start_time": "2021-11-10T19:24:41.513Z"
   },
   {
    "duration": 20,
    "start_time": "2021-11-10T19:24:41.558Z"
   },
   {
    "duration": 18,
    "start_time": "2021-11-10T19:24:41.580Z"
   },
   {
    "duration": 20,
    "start_time": "2021-11-10T19:24:41.601Z"
   },
   {
    "duration": 354,
    "start_time": "2021-11-10T19:24:46.641Z"
   },
   {
    "duration": 1435,
    "start_time": "2021-11-10T19:25:56.226Z"
   },
   {
    "duration": 1722,
    "start_time": "2021-11-10T19:25:57.663Z"
   },
   {
    "duration": 35,
    "start_time": "2021-11-10T19:25:59.388Z"
   },
   {
    "duration": 21,
    "start_time": "2021-11-10T19:25:59.427Z"
   },
   {
    "duration": 18,
    "start_time": "2021-11-10T19:25:59.459Z"
   },
   {
    "duration": 134,
    "start_time": "2021-11-10T19:25:59.479Z"
   },
   {
    "duration": 64,
    "start_time": "2021-11-10T19:25:59.615Z"
   },
   {
    "duration": 321,
    "start_time": "2021-11-10T19:25:59.681Z"
   },
   {
    "duration": 243,
    "start_time": "2021-11-10T19:26:00.006Z"
   },
   {
    "duration": 26,
    "start_time": "2021-11-10T19:26:00.253Z"
   },
   {
    "duration": 54,
    "start_time": "2021-11-10T19:26:00.282Z"
   },
   {
    "duration": 153,
    "start_time": "2021-11-10T19:26:00.339Z"
   },
   {
    "duration": 167,
    "start_time": "2021-11-10T19:26:00.494Z"
   },
   {
    "duration": 281,
    "start_time": "2021-11-10T19:26:00.663Z"
   },
   {
    "duration": 65,
    "start_time": "2021-11-10T19:26:00.946Z"
   },
   {
    "duration": 2046,
    "start_time": "2021-11-10T19:26:01.014Z"
   },
   {
    "duration": 389,
    "start_time": "2021-11-10T19:26:03.063Z"
   },
   {
    "duration": 26,
    "start_time": "2021-11-10T19:26:03.454Z"
   },
   {
    "duration": 4,
    "start_time": "2021-11-10T19:26:03.483Z"
   },
   {
    "duration": 14,
    "start_time": "2021-11-10T19:26:03.489Z"
   },
   {
    "duration": 55,
    "start_time": "2021-11-10T19:26:03.505Z"
   },
   {
    "duration": 19,
    "start_time": "2021-11-10T19:26:03.563Z"
   },
   {
    "duration": 32,
    "start_time": "2021-11-10T19:26:03.584Z"
   },
   {
    "duration": 53,
    "start_time": "2021-11-10T19:26:03.618Z"
   },
   {
    "duration": 16,
    "start_time": "2021-11-10T19:26:03.674Z"
   },
   {
    "duration": 25,
    "start_time": "2021-11-10T19:26:03.692Z"
   },
   {
    "duration": 83,
    "start_time": "2021-11-10T19:26:03.722Z"
   },
   {
    "duration": 16,
    "start_time": "2021-11-10T19:26:03.807Z"
   },
   {
    "duration": 54,
    "start_time": "2021-11-10T19:26:03.825Z"
   },
   {
    "duration": 48,
    "start_time": "2021-11-10T19:26:03.882Z"
   },
   {
    "duration": 33,
    "start_time": "2021-11-10T19:26:03.933Z"
   },
   {
    "duration": 9,
    "start_time": "2021-11-10T19:26:03.968Z"
   },
   {
    "duration": 9,
    "start_time": "2021-11-10T19:26:03.979Z"
   },
   {
    "duration": 17,
    "start_time": "2021-11-10T19:26:03.990Z"
   },
   {
    "duration": 63,
    "start_time": "2021-11-10T19:26:04.010Z"
   },
   {
    "duration": 18,
    "start_time": "2021-11-10T19:26:04.075Z"
   },
   {
    "duration": 438,
    "start_time": "2021-11-10T19:26:25.208Z"
   },
   {
    "duration": 1444,
    "start_time": "2021-11-10T19:26:50.765Z"
   },
   {
    "duration": 1656,
    "start_time": "2021-11-10T19:26:52.211Z"
   },
   {
    "duration": 34,
    "start_time": "2021-11-10T19:26:53.870Z"
   },
   {
    "duration": 19,
    "start_time": "2021-11-10T19:26:53.907Z"
   },
   {
    "duration": 45,
    "start_time": "2021-11-10T19:26:53.929Z"
   },
   {
    "duration": 198,
    "start_time": "2021-11-10T19:26:53.977Z"
   },
   {
    "duration": 87,
    "start_time": "2021-11-10T19:26:54.178Z"
   },
   {
    "duration": 390,
    "start_time": "2021-11-10T19:26:54.268Z"
   },
   {
    "duration": 240,
    "start_time": "2021-11-10T19:26:54.662Z"
   },
   {
    "duration": 23,
    "start_time": "2021-11-10T19:26:54.905Z"
   },
   {
    "duration": 73,
    "start_time": "2021-11-10T19:26:54.931Z"
   },
   {
    "duration": 133,
    "start_time": "2021-11-10T19:26:55.006Z"
   },
   {
    "duration": 159,
    "start_time": "2021-11-10T19:26:55.141Z"
   },
   {
    "duration": 252,
    "start_time": "2021-11-10T19:26:55.302Z"
   },
   {
    "duration": 53,
    "start_time": "2021-11-10T19:26:55.556Z"
   },
   {
    "duration": 2017,
    "start_time": "2021-11-10T19:26:55.611Z"
   },
   {
    "duration": 385,
    "start_time": "2021-11-10T19:26:57.630Z"
   },
   {
    "duration": 26,
    "start_time": "2021-11-10T19:26:58.017Z"
   },
   {
    "duration": 18,
    "start_time": "2021-11-10T19:26:58.045Z"
   },
   {
    "duration": 12,
    "start_time": "2021-11-10T19:26:58.066Z"
   },
   {
    "duration": 25,
    "start_time": "2021-11-10T19:26:58.081Z"
   },
   {
    "duration": 60,
    "start_time": "2021-11-10T19:26:58.108Z"
   },
   {
    "duration": 31,
    "start_time": "2021-11-10T19:26:58.171Z"
   },
   {
    "duration": 25,
    "start_time": "2021-11-10T19:26:58.205Z"
   },
   {
    "duration": 18,
    "start_time": "2021-11-10T19:26:58.260Z"
   },
   {
    "duration": 28,
    "start_time": "2021-11-10T19:26:58.280Z"
   },
   {
    "duration": 80,
    "start_time": "2021-11-10T19:26:58.313Z"
   },
   {
    "duration": 17,
    "start_time": "2021-11-10T19:26:58.395Z"
   },
   {
    "duration": 48,
    "start_time": "2021-11-10T19:26:58.415Z"
   },
   {
    "duration": 48,
    "start_time": "2021-11-10T19:26:58.466Z"
   },
   {
    "duration": 8,
    "start_time": "2021-11-10T19:26:58.516Z"
   },
   {
    "duration": 37,
    "start_time": "2021-11-10T19:26:58.526Z"
   },
   {
    "duration": 5,
    "start_time": "2021-11-10T19:26:58.566Z"
   },
   {
    "duration": 14,
    "start_time": "2021-11-10T19:26:58.574Z"
   },
   {
    "duration": 17,
    "start_time": "2021-11-10T19:26:58.590Z"
   },
   {
    "duration": 59,
    "start_time": "2021-11-10T19:26:58.610Z"
   },
   {
    "duration": 417,
    "start_time": "2021-11-10T19:27:01.511Z"
   },
   {
    "duration": 10,
    "start_time": "2021-11-10T19:36:19.714Z"
   },
   {
    "duration": 19,
    "start_time": "2021-11-10T19:36:41.671Z"
   },
   {
    "duration": 613,
    "start_time": "2021-11-10T19:41:11.932Z"
   },
   {
    "duration": 28,
    "start_time": "2021-11-10T19:41:49.220Z"
   },
   {
    "duration": 25,
    "start_time": "2021-11-10T19:42:01.547Z"
   },
   {
    "duration": 19,
    "start_time": "2021-11-10T19:43:46.574Z"
   },
   {
    "duration": 23,
    "start_time": "2021-11-10T19:43:52.480Z"
   },
   {
    "duration": 28,
    "start_time": "2021-11-10T19:47:24.441Z"
   },
   {
    "duration": 18,
    "start_time": "2021-11-10T19:47:28.451Z"
   },
   {
    "duration": 112,
    "start_time": "2021-11-10T19:49:14.822Z"
   },
   {
    "duration": 23,
    "start_time": "2021-11-10T19:49:59.819Z"
   },
   {
    "duration": 26,
    "start_time": "2021-11-10T19:51:32.779Z"
   },
   {
    "duration": 26,
    "start_time": "2021-11-10T19:53:08.884Z"
   },
   {
    "duration": 4,
    "start_time": "2021-11-10T19:55:20.819Z"
   },
   {
    "duration": 1612,
    "start_time": "2021-11-10T19:55:20.826Z"
   },
   {
    "duration": 31,
    "start_time": "2021-11-10T19:55:22.441Z"
   },
   {
    "duration": 23,
    "start_time": "2021-11-10T19:55:22.476Z"
   },
   {
    "duration": 60,
    "start_time": "2021-11-10T19:55:22.502Z"
   },
   {
    "duration": 130,
    "start_time": "2021-11-10T19:55:22.564Z"
   },
   {
    "duration": 66,
    "start_time": "2021-11-10T19:55:22.697Z"
   },
   {
    "duration": 444,
    "start_time": "2021-11-10T19:55:22.766Z"
   },
   {
    "duration": 246,
    "start_time": "2021-11-10T19:55:23.214Z"
   },
   {
    "duration": 25,
    "start_time": "2021-11-10T19:55:23.464Z"
   },
   {
    "duration": 91,
    "start_time": "2021-11-10T19:55:23.493Z"
   },
   {
    "duration": 161,
    "start_time": "2021-11-10T19:55:23.587Z"
   },
   {
    "duration": 167,
    "start_time": "2021-11-10T19:55:23.751Z"
   },
   {
    "duration": 232,
    "start_time": "2021-11-10T19:55:23.920Z"
   },
   {
    "duration": 55,
    "start_time": "2021-11-10T19:55:24.159Z"
   },
   {
    "duration": 2023,
    "start_time": "2021-11-10T19:55:24.217Z"
   },
   {
    "duration": 380,
    "start_time": "2021-11-10T19:55:26.244Z"
   },
   {
    "duration": 45,
    "start_time": "2021-11-10T19:55:26.627Z"
   },
   {
    "duration": 6,
    "start_time": "2021-11-10T19:55:26.675Z"
   },
   {
    "duration": 14,
    "start_time": "2021-11-10T19:55:26.683Z"
   },
   {
    "duration": 62,
    "start_time": "2021-11-10T19:55:26.699Z"
   },
   {
    "duration": 23,
    "start_time": "2021-11-10T19:55:26.764Z"
   },
   {
    "duration": 70,
    "start_time": "2021-11-10T19:55:26.790Z"
   },
   {
    "duration": 27,
    "start_time": "2021-11-10T19:55:26.864Z"
   },
   {
    "duration": 17,
    "start_time": "2021-11-10T19:55:26.894Z"
   },
   {
    "duration": 63,
    "start_time": "2021-11-10T19:55:26.914Z"
   },
   {
    "duration": 85,
    "start_time": "2021-11-10T19:55:26.982Z"
   },
   {
    "duration": 15,
    "start_time": "2021-11-10T19:55:27.069Z"
   },
   {
    "duration": 24,
    "start_time": "2021-11-10T19:55:27.086Z"
   },
   {
    "duration": 46,
    "start_time": "2021-11-10T19:55:32.157Z"
   },
   {
    "duration": 9,
    "start_time": "2021-11-10T19:55:42.922Z"
   },
   {
    "duration": 10,
    "start_time": "2021-11-11T05:22:07.053Z"
   },
   {
    "duration": 14,
    "start_time": "2021-11-11T05:26:54.949Z"
   },
   {
    "duration": 17,
    "start_time": "2021-11-11T05:26:59.712Z"
   },
   {
    "duration": 15,
    "start_time": "2021-11-11T05:27:13.352Z"
   },
   {
    "duration": 26,
    "start_time": "2021-11-11T05:27:22.401Z"
   },
   {
    "duration": 16,
    "start_time": "2021-11-11T05:28:38.612Z"
   },
   {
    "duration": 25,
    "start_time": "2021-11-11T05:28:41.539Z"
   },
   {
    "duration": 535,
    "start_time": "2021-11-11T06:36:36.581Z"
   },
   {
    "duration": 4,
    "start_time": "2021-11-11T06:36:43.996Z"
   },
   {
    "duration": 1951,
    "start_time": "2021-11-11T06:36:44.003Z"
   },
   {
    "duration": 32,
    "start_time": "2021-11-11T06:36:45.958Z"
   },
   {
    "duration": 23,
    "start_time": "2021-11-11T06:36:45.994Z"
   },
   {
    "duration": 24,
    "start_time": "2021-11-11T06:36:46.061Z"
   },
   {
    "duration": 149,
    "start_time": "2021-11-11T06:36:46.087Z"
   },
   {
    "duration": 54,
    "start_time": "2021-11-11T06:36:46.238Z"
   },
   {
    "duration": 330,
    "start_time": "2021-11-11T06:36:46.295Z"
   },
   {
    "duration": 237,
    "start_time": "2021-11-11T06:36:46.629Z"
   },
   {
    "duration": 22,
    "start_time": "2021-11-11T06:36:46.868Z"
   },
   {
    "duration": 80,
    "start_time": "2021-11-11T06:36:46.892Z"
   },
   {
    "duration": 132,
    "start_time": "2021-11-11T06:36:46.974Z"
   },
   {
    "duration": 165,
    "start_time": "2021-11-11T06:36:47.108Z"
   },
   {
    "duration": 240,
    "start_time": "2021-11-11T06:36:47.275Z"
   },
   {
    "duration": 71,
    "start_time": "2021-11-11T06:36:47.518Z"
   },
   {
    "duration": 2024,
    "start_time": "2021-11-11T06:36:47.591Z"
   },
   {
    "duration": 374,
    "start_time": "2021-11-11T06:36:49.618Z"
   },
   {
    "duration": 26,
    "start_time": "2021-11-11T06:36:49.995Z"
   },
   {
    "duration": 4,
    "start_time": "2021-11-11T06:36:50.024Z"
   },
   {
    "duration": 37,
    "start_time": "2021-11-11T06:36:50.031Z"
   },
   {
    "duration": 27,
    "start_time": "2021-11-11T06:36:50.070Z"
   },
   {
    "duration": 63,
    "start_time": "2021-11-11T06:36:50.100Z"
   },
   {
    "duration": 32,
    "start_time": "2021-11-11T06:36:50.166Z"
   },
   {
    "duration": 24,
    "start_time": "2021-11-11T06:36:50.201Z"
   },
   {
    "duration": 47,
    "start_time": "2021-11-11T06:36:50.227Z"
   },
   {
    "duration": 28,
    "start_time": "2021-11-11T06:36:50.277Z"
   },
   {
    "duration": 98,
    "start_time": "2021-11-11T06:36:50.310Z"
   },
   {
    "duration": 15,
    "start_time": "2021-11-11T06:36:50.411Z"
   },
   {
    "duration": 30,
    "start_time": "2021-11-11T06:36:50.460Z"
   },
   {
    "duration": 72,
    "start_time": "2021-11-11T06:36:50.493Z"
   },
   {
    "duration": 10,
    "start_time": "2021-11-11T06:36:50.568Z"
   },
   {
    "duration": 8,
    "start_time": "2021-11-11T06:36:50.581Z"
   },
   {
    "duration": 13,
    "start_time": "2021-11-11T06:36:50.592Z"
   },
   {
    "duration": 61,
    "start_time": "2021-11-11T06:36:50.608Z"
   },
   {
    "duration": 22,
    "start_time": "2021-11-11T06:36:50.672Z"
   },
   {
    "duration": 22,
    "start_time": "2021-11-11T06:36:50.696Z"
   },
   {
    "duration": 430,
    "start_time": "2021-11-11T06:36:50.720Z"
   },
   {
    "duration": 135,
    "start_time": "2021-11-11T06:36:51.153Z"
   },
   {
    "duration": 24,
    "start_time": "2021-11-11T06:36:51.290Z"
   },
   {
    "duration": 49,
    "start_time": "2021-11-11T06:36:51.316Z"
   },
   {
    "duration": 26,
    "start_time": "2021-11-11T06:36:51.367Z"
   },
   {
    "duration": 503,
    "start_time": "2021-11-11T06:36:55.500Z"
   },
   {
    "duration": 24,
    "start_time": "2021-11-11T06:37:10.867Z"
   },
   {
    "duration": 35,
    "start_time": "2021-11-11T06:41:27.808Z"
   },
   {
    "duration": 35,
    "start_time": "2021-11-11T06:41:35.463Z"
   },
   {
    "duration": 657,
    "start_time": "2021-11-11T06:42:24.695Z"
   },
   {
    "duration": 5,
    "start_time": "2021-11-11T06:42:38.480Z"
   },
   {
    "duration": 1748,
    "start_time": "2021-11-11T06:42:38.487Z"
   },
   {
    "duration": 29,
    "start_time": "2021-11-11T06:42:40.238Z"
   },
   {
    "duration": 19,
    "start_time": "2021-11-11T06:42:40.269Z"
   },
   {
    "duration": 20,
    "start_time": "2021-11-11T06:42:40.291Z"
   },
   {
    "duration": 165,
    "start_time": "2021-11-11T06:42:40.314Z"
   },
   {
    "duration": 44,
    "start_time": "2021-11-11T06:42:40.481Z"
   },
   {
    "duration": 333,
    "start_time": "2021-11-11T06:42:40.529Z"
   },
   {
    "duration": 346,
    "start_time": "2021-11-11T06:42:40.865Z"
   },
   {
    "duration": 22,
    "start_time": "2021-11-11T06:42:41.214Z"
   },
   {
    "duration": 67,
    "start_time": "2021-11-11T06:42:41.239Z"
   },
   {
    "duration": 142,
    "start_time": "2021-11-11T06:42:41.308Z"
   },
   {
    "duration": 156,
    "start_time": "2021-11-11T06:42:41.459Z"
   },
   {
    "duration": 247,
    "start_time": "2021-11-11T06:42:41.618Z"
   },
   {
    "duration": 133,
    "start_time": "2021-11-11T06:42:41.868Z"
   },
   {
    "duration": 2197,
    "start_time": "2021-11-11T06:42:42.004Z"
   },
   {
    "duration": 377,
    "start_time": "2021-11-11T06:42:44.204Z"
   },
   {
    "duration": 27,
    "start_time": "2021-11-11T06:42:44.584Z"
   },
   {
    "duration": 6,
    "start_time": "2021-11-11T06:42:44.613Z"
   },
   {
    "duration": 38,
    "start_time": "2021-11-11T06:42:44.621Z"
   },
   {
    "duration": 27,
    "start_time": "2021-11-11T06:42:44.662Z"
   },
   {
    "duration": 18,
    "start_time": "2021-11-11T06:42:44.692Z"
   },
   {
    "duration": 72,
    "start_time": "2021-11-11T06:42:44.715Z"
   },
   {
    "duration": 24,
    "start_time": "2021-11-11T06:42:44.790Z"
   },
   {
    "duration": 51,
    "start_time": "2021-11-11T06:42:44.817Z"
   },
   {
    "duration": 23,
    "start_time": "2021-11-11T06:42:44.870Z"
   },
   {
    "duration": 91,
    "start_time": "2021-11-11T06:42:44.896Z"
   },
   {
    "duration": 19,
    "start_time": "2021-11-11T06:42:44.990Z"
   },
   {
    "duration": 55,
    "start_time": "2021-11-11T06:42:45.012Z"
   },
   {
    "duration": 51,
    "start_time": "2021-11-11T06:42:45.070Z"
   },
   {
    "duration": 36,
    "start_time": "2021-11-11T06:42:45.124Z"
   },
   {
    "duration": 6,
    "start_time": "2021-11-11T06:42:45.163Z"
   },
   {
    "duration": 7,
    "start_time": "2021-11-11T06:42:45.171Z"
   },
   {
    "duration": 16,
    "start_time": "2021-11-11T06:42:45.180Z"
   },
   {
    "duration": 70,
    "start_time": "2021-11-11T06:42:45.199Z"
   },
   {
    "duration": 14,
    "start_time": "2021-11-11T06:43:15.770Z"
   },
   {
    "duration": 412,
    "start_time": "2021-11-11T06:52:33.920Z"
   },
   {
    "duration": 5,
    "start_time": "2021-11-11T06:52:59.012Z"
   },
   {
    "duration": 1655,
    "start_time": "2021-11-11T06:52:59.020Z"
   },
   {
    "duration": 30,
    "start_time": "2021-11-11T06:53:00.678Z"
   },
   {
    "duration": 20,
    "start_time": "2021-11-11T06:53:00.711Z"
   },
   {
    "duration": 49,
    "start_time": "2021-11-11T06:53:00.734Z"
   },
   {
    "duration": 127,
    "start_time": "2021-11-11T06:53:00.786Z"
   },
   {
    "duration": 60,
    "start_time": "2021-11-11T06:53:00.916Z"
   },
   {
    "duration": 343,
    "start_time": "2021-11-11T06:53:00.980Z"
   },
   {
    "duration": 242,
    "start_time": "2021-11-11T06:53:01.327Z"
   },
   {
    "duration": 22,
    "start_time": "2021-11-11T06:53:01.572Z"
   },
   {
    "duration": 81,
    "start_time": "2021-11-11T06:53:01.597Z"
   },
   {
    "duration": 132,
    "start_time": "2021-11-11T06:53:01.681Z"
   },
   {
    "duration": 163,
    "start_time": "2021-11-11T06:53:01.816Z"
   },
   {
    "duration": 231,
    "start_time": "2021-11-11T06:53:01.981Z"
   },
   {
    "duration": 70,
    "start_time": "2021-11-11T06:53:02.214Z"
   },
   {
    "duration": 2064,
    "start_time": "2021-11-11T06:53:02.287Z"
   },
   {
    "duration": 400,
    "start_time": "2021-11-11T06:53:04.354Z"
   },
   {
    "duration": 28,
    "start_time": "2021-11-11T06:53:04.760Z"
   },
   {
    "duration": 7,
    "start_time": "2021-11-11T06:53:04.791Z"
   },
   {
    "duration": 61,
    "start_time": "2021-11-11T06:53:04.801Z"
   },
   {
    "duration": 30,
    "start_time": "2021-11-11T06:53:04.864Z"
   },
   {
    "duration": 18,
    "start_time": "2021-11-11T06:53:04.896Z"
   },
   {
    "duration": 68,
    "start_time": "2021-11-11T06:53:04.919Z"
   },
   {
    "duration": 26,
    "start_time": "2021-11-11T06:53:04.990Z"
   },
   {
    "duration": 56,
    "start_time": "2021-11-11T06:53:05.018Z"
   },
   {
    "duration": 22,
    "start_time": "2021-11-11T06:53:05.076Z"
   },
   {
    "duration": 91,
    "start_time": "2021-11-11T06:53:05.101Z"
   },
   {
    "duration": 16,
    "start_time": "2021-11-11T06:53:05.194Z"
   },
   {
    "duration": 57,
    "start_time": "2021-11-11T06:53:05.213Z"
   },
   {
    "duration": 49,
    "start_time": "2021-11-11T06:53:05.272Z"
   },
   {
    "duration": 38,
    "start_time": "2021-11-11T06:53:05.323Z"
   },
   {
    "duration": 10,
    "start_time": "2021-11-11T06:53:05.364Z"
   },
   {
    "duration": 6,
    "start_time": "2021-11-11T06:53:05.376Z"
   },
   {
    "duration": 18,
    "start_time": "2021-11-11T06:53:05.384Z"
   },
   {
    "duration": 64,
    "start_time": "2021-11-11T06:53:05.404Z"
   },
   {
    "duration": 17,
    "start_time": "2021-11-11T06:53:05.471Z"
   },
   {
    "duration": 409,
    "start_time": "2021-11-11T06:53:08.468Z"
   },
   {
    "duration": 144,
    "start_time": "2021-11-11T06:54:15.793Z"
   },
   {
    "duration": 14,
    "start_time": "2021-11-11T06:55:24.897Z"
   },
   {
    "duration": 401,
    "start_time": "2021-11-11T09:31:58.220Z"
   },
   {
    "duration": 35,
    "start_time": "2021-11-11T09:32:14.586Z"
   },
   {
    "duration": 233,
    "start_time": "2021-11-11T09:39:36.882Z"
   },
   {
    "duration": 9388,
    "start_time": "2021-11-11T09:39:40.308Z"
   },
   {
    "duration": 4,
    "start_time": "2021-11-11T09:40:31.534Z"
   },
   {
    "duration": 1992,
    "start_time": "2021-11-11T09:40:31.541Z"
   },
   {
    "duration": 33,
    "start_time": "2021-11-11T09:40:33.537Z"
   },
   {
    "duration": 20,
    "start_time": "2021-11-11T09:40:33.573Z"
   },
   {
    "duration": 22,
    "start_time": "2021-11-11T09:40:33.596Z"
   },
   {
    "duration": 132,
    "start_time": "2021-11-11T09:40:33.661Z"
   },
   {
    "duration": 69,
    "start_time": "2021-11-11T09:40:33.796Z"
   },
   {
    "duration": 348,
    "start_time": "2021-11-11T09:40:33.867Z"
   },
   {
    "duration": 255,
    "start_time": "2021-11-11T09:40:34.219Z"
   },
   {
    "duration": 22,
    "start_time": "2021-11-11T09:40:34.478Z"
   },
   {
    "duration": 92,
    "start_time": "2021-11-11T09:40:34.503Z"
   },
   {
    "duration": 148,
    "start_time": "2021-11-11T09:40:34.598Z"
   },
   {
    "duration": 263,
    "start_time": "2021-11-11T09:40:34.749Z"
   },
   {
    "duration": 334,
    "start_time": "2021-11-11T09:40:35.015Z"
   },
   {
    "duration": 71,
    "start_time": "2021-11-11T09:40:35.361Z"
   },
   {
    "duration": 2313,
    "start_time": "2021-11-11T09:40:35.435Z"
   },
   {
    "duration": 446,
    "start_time": "2021-11-11T09:40:37.750Z"
   },
   {
    "duration": 29,
    "start_time": "2021-11-11T09:40:38.199Z"
   },
   {
    "duration": 30,
    "start_time": "2021-11-11T09:40:38.231Z"
   },
   {
    "duration": 15,
    "start_time": "2021-11-11T09:40:38.264Z"
   },
   {
    "duration": 29,
    "start_time": "2021-11-11T09:40:38.281Z"
   },
   {
    "duration": 65,
    "start_time": "2021-11-11T09:40:38.313Z"
   },
   {
    "duration": 32,
    "start_time": "2021-11-11T09:40:38.381Z"
   },
   {
    "duration": 53,
    "start_time": "2021-11-11T09:40:38.416Z"
   },
   {
    "duration": 17,
    "start_time": "2021-11-11T09:40:38.471Z"
   },
   {
    "duration": 24,
    "start_time": "2021-11-11T09:40:38.490Z"
   },
   {
    "duration": 90,
    "start_time": "2021-11-11T09:40:38.519Z"
   },
   {
    "duration": 15,
    "start_time": "2021-11-11T09:40:38.612Z"
   },
   {
    "duration": 51,
    "start_time": "2021-11-11T09:40:38.630Z"
   },
   {
    "duration": 85,
    "start_time": "2021-11-11T09:40:38.684Z"
   },
   {
    "duration": 8,
    "start_time": "2021-11-11T09:40:38.771Z"
   },
   {
    "duration": 7,
    "start_time": "2021-11-11T09:40:38.782Z"
   },
   {
    "duration": 12,
    "start_time": "2021-11-11T09:40:38.791Z"
   },
   {
    "duration": 66,
    "start_time": "2021-11-11T09:40:38.806Z"
   },
   {
    "duration": 19,
    "start_time": "2021-11-11T09:40:38.875Z"
   },
   {
    "duration": 66,
    "start_time": "2021-11-11T09:40:38.897Z"
   },
   {
    "duration": 182,
    "start_time": "2021-11-11T09:40:38.966Z"
   },
   {
    "duration": 38,
    "start_time": "2021-11-11T09:40:42.282Z"
   },
   {
    "duration": 19,
    "start_time": "2021-11-11T09:40:50.350Z"
   },
   {
    "duration": 45,
    "start_time": "2021-11-11T09:41:08.125Z"
   },
   {
    "duration": 586,
    "start_time": "2021-11-11T10:47:28.581Z"
   },
   {
    "duration": 283,
    "start_time": "2021-11-11T10:47:43.836Z"
   },
   {
    "duration": 308,
    "start_time": "2021-11-11T10:47:46.532Z"
   },
   {
    "duration": 311,
    "start_time": "2021-11-11T10:47:53.935Z"
   },
   {
    "duration": 45,
    "start_time": "2021-11-11T10:48:07.429Z"
   },
   {
    "duration": 278,
    "start_time": "2021-11-11T10:49:14.069Z"
   },
   {
    "duration": 283,
    "start_time": "2021-11-11T10:49:39.553Z"
   },
   {
    "duration": 1122,
    "start_time": "2021-11-12T00:46:21.716Z"
   },
   {
    "duration": 1627,
    "start_time": "2021-11-12T00:46:22.840Z"
   },
   {
    "duration": 30,
    "start_time": "2021-11-12T00:46:24.470Z"
   },
   {
    "duration": 17,
    "start_time": "2021-11-12T00:46:24.502Z"
   },
   {
    "duration": 35,
    "start_time": "2021-11-12T00:46:24.521Z"
   },
   {
    "duration": 124,
    "start_time": "2021-11-12T00:46:24.559Z"
   },
   {
    "duration": 38,
    "start_time": "2021-11-12T00:46:24.684Z"
   },
   {
    "duration": 287,
    "start_time": "2021-11-12T00:46:24.725Z"
   },
   {
    "duration": 163,
    "start_time": "2021-11-12T00:46:25.014Z"
   },
   {
    "duration": 17,
    "start_time": "2021-11-12T00:46:25.178Z"
   },
   {
    "duration": 65,
    "start_time": "2021-11-12T00:46:25.197Z"
   },
   {
    "duration": 107,
    "start_time": "2021-11-12T00:46:25.263Z"
   },
   {
    "duration": 122,
    "start_time": "2021-11-12T00:46:25.371Z"
   },
   {
    "duration": 176,
    "start_time": "2021-11-12T00:46:25.495Z"
   },
   {
    "duration": 37,
    "start_time": "2021-11-12T00:46:25.673Z"
   },
   {
    "duration": 1617,
    "start_time": "2021-11-12T00:46:25.712Z"
   },
   {
    "duration": 317,
    "start_time": "2021-11-12T00:46:27.331Z"
   },
   {
    "duration": 25,
    "start_time": "2021-11-12T00:46:27.650Z"
   },
   {
    "duration": 3,
    "start_time": "2021-11-12T00:46:27.677Z"
   },
   {
    "duration": 11,
    "start_time": "2021-11-12T00:46:27.682Z"
   },
   {
    "duration": 60,
    "start_time": "2021-11-12T00:46:27.694Z"
   },
   {
    "duration": 14,
    "start_time": "2021-11-12T00:46:27.757Z"
   },
   {
    "duration": 20,
    "start_time": "2021-11-12T00:46:27.775Z"
   },
   {
    "duration": 61,
    "start_time": "2021-11-12T00:46:27.797Z"
   },
   {
    "duration": 13,
    "start_time": "2021-11-12T00:46:27.860Z"
   },
   {
    "duration": 22,
    "start_time": "2021-11-12T00:46:27.874Z"
   },
   {
    "duration": 78,
    "start_time": "2021-11-12T00:46:27.898Z"
   },
   {
    "duration": 10,
    "start_time": "2021-11-12T00:46:27.978Z"
   },
   {
    "duration": 15,
    "start_time": "2021-11-12T00:46:27.990Z"
   },
   {
    "duration": 77,
    "start_time": "2021-11-12T00:46:28.007Z"
   },
   {
    "duration": 6,
    "start_time": "2021-11-12T00:46:28.086Z"
   },
   {
    "duration": 5,
    "start_time": "2021-11-12T00:46:28.094Z"
   },
   {
    "duration": 44,
    "start_time": "2021-11-12T00:46:28.100Z"
   },
   {
    "duration": 14,
    "start_time": "2021-11-12T00:46:28.147Z"
   },
   {
    "duration": 15,
    "start_time": "2021-11-12T00:46:28.163Z"
   },
   {
    "duration": 9,
    "start_time": "2021-11-12T00:46:28.179Z"
   },
   {
    "duration": 162,
    "start_time": "2021-11-12T00:46:28.190Z"
   },
   {
    "duration": 30,
    "start_time": "2021-11-12T00:46:28.354Z"
   },
   {
    "duration": 380,
    "start_time": "2021-11-12T00:46:31.863Z"
   },
   {
    "duration": 7040,
    "start_time": "2021-11-12T00:47:00.421Z"
   },
   {
    "duration": 513,
    "start_time": "2021-11-12T00:47:21.389Z"
   },
   {
    "duration": 543,
    "start_time": "2021-11-12T00:48:20.792Z"
   },
   {
    "duration": 269,
    "start_time": "2021-11-12T01:03:56.949Z"
   },
   {
    "duration": 16,
    "start_time": "2021-11-12T01:04:03.494Z"
   },
   {
    "duration": 18,
    "start_time": "2021-11-12T01:04:10.223Z"
   },
   {
    "duration": 108,
    "start_time": "2021-11-12T01:05:57.834Z"
   },
   {
    "duration": 143,
    "start_time": "2021-11-12T01:06:19.317Z"
   },
   {
    "duration": 3,
    "start_time": "2021-11-12T01:10:22.805Z"
   },
   {
    "duration": 1203,
    "start_time": "2021-11-12T01:10:22.809Z"
   },
   {
    "duration": 21,
    "start_time": "2021-11-12T01:10:24.014Z"
   },
   {
    "duration": 14,
    "start_time": "2021-11-12T01:10:24.037Z"
   },
   {
    "duration": 14,
    "start_time": "2021-11-12T01:10:24.052Z"
   },
   {
    "duration": 103,
    "start_time": "2021-11-12T01:10:24.068Z"
   },
   {
    "duration": 32,
    "start_time": "2021-11-12T01:10:24.173Z"
   },
   {
    "duration": 280,
    "start_time": "2021-11-12T01:10:24.206Z"
   },
   {
    "duration": 16,
    "start_time": "2021-11-12T01:10:24.488Z"
   },
   {
    "duration": 56,
    "start_time": "2021-11-12T01:10:24.506Z"
   },
   {
    "duration": 90,
    "start_time": "2021-11-12T01:10:24.564Z"
   },
   {
    "duration": 120,
    "start_time": "2021-11-12T01:10:24.656Z"
   },
   {
    "duration": 170,
    "start_time": "2021-11-12T01:10:24.778Z"
   },
   {
    "duration": 37,
    "start_time": "2021-11-12T01:10:24.950Z"
   },
   {
    "duration": 1607,
    "start_time": "2021-11-12T01:10:24.989Z"
   },
   {
    "duration": 167,
    "start_time": "2021-11-12T01:10:29.297Z"
   },
   {
    "duration": 22,
    "start_time": "2021-11-12T03:56:19.270Z"
   },
   {
    "duration": 257,
    "start_time": "2021-11-12T03:58:38.299Z"
   },
   {
    "duration": 194,
    "start_time": "2021-11-12T03:59:47.512Z"
   },
   {
    "duration": 197,
    "start_time": "2021-11-12T05:44:55.094Z"
   },
   {
    "duration": 131,
    "start_time": "2021-11-12T05:46:04.070Z"
   },
   {
    "duration": 3,
    "start_time": "2021-11-12T05:47:11.648Z"
   },
   {
    "duration": 1228,
    "start_time": "2021-11-12T05:47:11.653Z"
   },
   {
    "duration": 21,
    "start_time": "2021-11-12T05:47:12.883Z"
   },
   {
    "duration": 15,
    "start_time": "2021-11-12T05:47:12.907Z"
   },
   {
    "duration": 21,
    "start_time": "2021-11-12T05:47:12.924Z"
   },
   {
    "duration": 132,
    "start_time": "2021-11-12T05:47:12.947Z"
   },
   {
    "duration": 282,
    "start_time": "2021-11-12T05:47:13.081Z"
   },
   {
    "duration": 20,
    "start_time": "2021-11-12T05:47:13.365Z"
   },
   {
    "duration": 68,
    "start_time": "2021-11-12T05:47:13.388Z"
   },
   {
    "duration": 328,
    "start_time": "2021-11-12T05:47:21.699Z"
   },
   {
    "duration": 6843,
    "start_time": "2021-11-12T05:52:00.770Z"
   },
   {
    "duration": 334,
    "start_time": "2021-11-12T05:52:20.856Z"
   },
   {
    "duration": 7089,
    "start_time": "2021-11-12T06:42:01.727Z"
   },
   {
    "duration": 3,
    "start_time": "2021-11-12T06:42:46.669Z"
   },
   {
    "duration": 1253,
    "start_time": "2021-11-12T06:42:46.674Z"
   },
   {
    "duration": 21,
    "start_time": "2021-11-12T06:42:47.929Z"
   },
   {
    "duration": 13,
    "start_time": "2021-11-12T06:42:47.952Z"
   },
   {
    "duration": 16,
    "start_time": "2021-11-12T06:42:47.967Z"
   },
   {
    "duration": 144,
    "start_time": "2021-11-12T06:42:47.985Z"
   },
   {
    "duration": 267,
    "start_time": "2021-11-12T06:42:48.131Z"
   },
   {
    "duration": 15,
    "start_time": "2021-11-12T06:42:48.400Z"
   },
   {
    "duration": 56,
    "start_time": "2021-11-12T06:42:48.417Z"
   },
   {
    "duration": 371,
    "start_time": "2021-11-12T06:42:53.155Z"
   },
   {
    "duration": 6916,
    "start_time": "2021-11-12T06:45:00.235Z"
   },
   {
    "duration": 4,
    "start_time": "2021-11-12T06:45:16.968Z"
   },
   {
    "duration": 1300,
    "start_time": "2021-11-12T06:45:16.974Z"
   },
   {
    "duration": 22,
    "start_time": "2021-11-12T06:45:18.277Z"
   },
   {
    "duration": 27,
    "start_time": "2021-11-12T06:45:18.300Z"
   },
   {
    "duration": 26,
    "start_time": "2021-11-12T06:45:18.329Z"
   },
   {
    "duration": 121,
    "start_time": "2021-11-12T06:45:18.357Z"
   },
   {
    "duration": 267,
    "start_time": "2021-11-12T06:45:18.479Z"
   },
   {
    "duration": 15,
    "start_time": "2021-11-12T06:45:18.748Z"
   },
   {
    "duration": 41,
    "start_time": "2021-11-12T06:45:18.766Z"
   },
   {
    "duration": 621,
    "start_time": "2021-11-12T06:45:20.275Z"
   },
   {
    "duration": 6977,
    "start_time": "2021-11-12T06:45:26.350Z"
   },
   {
    "duration": 3,
    "start_time": "2021-11-12T06:45:34.045Z"
   },
   {
    "duration": 1271,
    "start_time": "2021-11-12T06:45:34.050Z"
   },
   {
    "duration": 21,
    "start_time": "2021-11-12T06:45:35.323Z"
   },
   {
    "duration": 15,
    "start_time": "2021-11-12T06:45:35.346Z"
   },
   {
    "duration": 22,
    "start_time": "2021-11-12T06:45:35.362Z"
   },
   {
    "duration": 143,
    "start_time": "2021-11-12T06:45:35.386Z"
   },
   {
    "duration": 282,
    "start_time": "2021-11-12T06:45:35.531Z"
   },
   {
    "duration": 35,
    "start_time": "2021-11-12T06:45:35.816Z"
   },
   {
    "duration": 38,
    "start_time": "2021-11-12T06:45:35.855Z"
   },
   {
    "duration": 376,
    "start_time": "2021-11-12T06:45:37.554Z"
   },
   {
    "duration": 7794,
    "start_time": "2021-11-12T06:47:24.967Z"
   },
   {
    "duration": 3,
    "start_time": "2021-11-12T06:47:34.729Z"
   },
   {
    "duration": 1270,
    "start_time": "2021-11-12T06:47:34.734Z"
   },
   {
    "duration": 20,
    "start_time": "2021-11-12T06:47:36.006Z"
   },
   {
    "duration": 12,
    "start_time": "2021-11-12T06:47:36.028Z"
   },
   {
    "duration": 13,
    "start_time": "2021-11-12T06:47:36.042Z"
   },
   {
    "duration": 119,
    "start_time": "2021-11-12T06:47:36.057Z"
   },
   {
    "duration": 255,
    "start_time": "2021-11-12T06:47:36.177Z"
   },
   {
    "duration": 20,
    "start_time": "2021-11-12T06:47:36.433Z"
   },
   {
    "duration": 36,
    "start_time": "2021-11-12T06:47:36.455Z"
   },
   {
    "duration": 645,
    "start_time": "2021-11-12T06:47:43.184Z"
   },
   {
    "duration": 7407,
    "start_time": "2021-11-12T06:47:47.504Z"
   },
   {
    "duration": 4,
    "start_time": "2021-11-12T06:47:55.484Z"
   },
   {
    "duration": 1298,
    "start_time": "2021-11-12T06:47:55.491Z"
   },
   {
    "duration": 21,
    "start_time": "2021-11-12T06:47:56.791Z"
   },
   {
    "duration": 14,
    "start_time": "2021-11-12T06:47:56.814Z"
   },
   {
    "duration": 16,
    "start_time": "2021-11-12T06:47:56.830Z"
   },
   {
    "duration": 120,
    "start_time": "2021-11-12T06:47:56.848Z"
   },
   {
    "duration": 268,
    "start_time": "2021-11-12T06:47:56.970Z"
   },
   {
    "duration": 18,
    "start_time": "2021-11-12T06:47:57.244Z"
   },
   {
    "duration": 38,
    "start_time": "2021-11-12T06:47:57.265Z"
   },
   {
    "duration": 416,
    "start_time": "2021-11-12T06:47:59.801Z"
   },
   {
    "duration": 8334,
    "start_time": "2021-11-12T06:50:25.485Z"
   },
   {
    "duration": 3,
    "start_time": "2021-11-12T06:51:17.255Z"
   },
   {
    "duration": 1271,
    "start_time": "2021-11-12T06:51:17.260Z"
   },
   {
    "duration": 21,
    "start_time": "2021-11-12T06:51:18.533Z"
   },
   {
    "duration": 14,
    "start_time": "2021-11-12T06:51:18.556Z"
   },
   {
    "duration": 39,
    "start_time": "2021-11-12T06:51:18.572Z"
   },
   {
    "duration": 132,
    "start_time": "2021-11-12T06:51:18.613Z"
   },
   {
    "duration": 274,
    "start_time": "2021-11-12T06:51:18.747Z"
   },
   {
    "duration": 24,
    "start_time": "2021-11-12T06:51:19.022Z"
   },
   {
    "duration": 41,
    "start_time": "2021-11-12T06:51:19.049Z"
   },
   {
    "duration": 997,
    "start_time": "2021-11-12T06:51:21.000Z"
   },
   {
    "duration": 84,
    "start_time": "2021-11-12T06:51:49.016Z"
   },
   {
    "duration": 1360,
    "start_time": "2021-11-12T06:51:49.102Z"
   },
   {
    "duration": 21,
    "start_time": "2021-11-12T06:51:50.465Z"
   },
   {
    "duration": 13,
    "start_time": "2021-11-12T06:51:50.487Z"
   },
   {
    "duration": 22,
    "start_time": "2021-11-12T06:51:50.502Z"
   },
   {
    "duration": 133,
    "start_time": "2021-11-12T06:51:50.526Z"
   },
   {
    "duration": 285,
    "start_time": "2021-11-12T06:51:50.661Z"
   },
   {
    "duration": 16,
    "start_time": "2021-11-12T06:51:50.947Z"
   },
   {
    "duration": 61,
    "start_time": "2021-11-12T06:51:50.965Z"
   },
   {
    "duration": 1136,
    "start_time": "2021-11-12T06:51:52.082Z"
   },
   {
    "duration": 4,
    "start_time": "2021-11-12T06:52:48.653Z"
   },
   {
    "duration": 1343,
    "start_time": "2021-11-12T06:52:48.659Z"
   },
   {
    "duration": 22,
    "start_time": "2021-11-12T06:52:50.004Z"
   },
   {
    "duration": 14,
    "start_time": "2021-11-12T06:52:50.028Z"
   },
   {
    "duration": 17,
    "start_time": "2021-11-12T06:52:50.044Z"
   },
   {
    "duration": 217,
    "start_time": "2021-11-12T06:52:50.063Z"
   },
   {
    "duration": 279,
    "start_time": "2021-11-12T06:52:50.282Z"
   },
   {
    "duration": 19,
    "start_time": "2021-11-12T06:52:50.564Z"
   },
   {
    "duration": 68,
    "start_time": "2021-11-12T06:52:50.586Z"
   },
   {
    "duration": 1157,
    "start_time": "2021-11-12T06:52:51.562Z"
   },
   {
    "duration": 6960,
    "start_time": "2021-11-12T06:53:18.182Z"
   },
   {
    "duration": 3,
    "start_time": "2021-11-12T06:53:27.448Z"
   },
   {
    "duration": 1257,
    "start_time": "2021-11-12T06:53:27.453Z"
   },
   {
    "duration": 19,
    "start_time": "2021-11-12T06:53:28.712Z"
   },
   {
    "duration": 12,
    "start_time": "2021-11-12T06:53:28.733Z"
   },
   {
    "duration": 12,
    "start_time": "2021-11-12T06:53:28.746Z"
   },
   {
    "duration": 130,
    "start_time": "2021-11-12T06:53:28.760Z"
   },
   {
    "duration": 265,
    "start_time": "2021-11-12T06:53:28.892Z"
   },
   {
    "duration": 15,
    "start_time": "2021-11-12T06:53:29.159Z"
   },
   {
    "duration": 41,
    "start_time": "2021-11-12T06:53:29.177Z"
   },
   {
    "duration": 1188,
    "start_time": "2021-11-12T06:53:30.235Z"
   },
   {
    "duration": 7053,
    "start_time": "2021-11-12T06:53:48.350Z"
   },
   {
    "duration": 3,
    "start_time": "2021-11-12T06:53:59.320Z"
   },
   {
    "duration": 1414,
    "start_time": "2021-11-12T06:53:59.326Z"
   },
   {
    "duration": 23,
    "start_time": "2021-11-12T06:54:00.742Z"
   },
   {
    "duration": 16,
    "start_time": "2021-11-12T06:54:00.768Z"
   },
   {
    "duration": 41,
    "start_time": "2021-11-12T06:54:00.786Z"
   },
   {
    "duration": 139,
    "start_time": "2021-11-12T06:54:00.829Z"
   },
   {
    "duration": 288,
    "start_time": "2021-11-12T06:54:00.970Z"
   },
   {
    "duration": 19,
    "start_time": "2021-11-12T06:54:01.260Z"
   },
   {
    "duration": 77,
    "start_time": "2021-11-12T06:54:01.282Z"
   },
   {
    "duration": 3,
    "start_time": "2021-11-12T06:54:07.152Z"
   },
   {
    "duration": 1294,
    "start_time": "2021-11-12T06:54:07.158Z"
   },
   {
    "duration": 23,
    "start_time": "2021-11-12T06:54:08.454Z"
   },
   {
    "duration": 15,
    "start_time": "2021-11-12T06:54:08.480Z"
   },
   {
    "duration": 48,
    "start_time": "2021-11-12T06:54:08.498Z"
   },
   {
    "duration": 133,
    "start_time": "2021-11-12T06:54:08.549Z"
   },
   {
    "duration": 290,
    "start_time": "2021-11-12T06:54:08.684Z"
   },
   {
    "duration": 19,
    "start_time": "2021-11-12T06:54:08.977Z"
   },
   {
    "duration": 68,
    "start_time": "2021-11-12T06:54:08.999Z"
   },
   {
    "duration": 1226,
    "start_time": "2021-11-12T06:54:10.875Z"
   },
   {
    "duration": 4,
    "start_time": "2021-11-12T06:54:55.494Z"
   },
   {
    "duration": 1250,
    "start_time": "2021-11-12T06:54:55.651Z"
   },
   {
    "duration": 22,
    "start_time": "2021-11-12T06:54:56.903Z"
   },
   {
    "duration": 14,
    "start_time": "2021-11-12T06:54:56.927Z"
   },
   {
    "duration": 13,
    "start_time": "2021-11-12T06:54:56.943Z"
   },
   {
    "duration": 128,
    "start_time": "2021-11-12T06:54:56.958Z"
   },
   {
    "duration": 273,
    "start_time": "2021-11-12T06:54:57.088Z"
   },
   {
    "duration": 17,
    "start_time": "2021-11-12T06:54:57.363Z"
   },
   {
    "duration": 62,
    "start_time": "2021-11-12T06:54:57.382Z"
   },
   {
    "duration": 1187,
    "start_time": "2021-11-12T06:55:13.216Z"
   },
   {
    "duration": 26,
    "start_time": "2021-11-12T08:44:26.579Z"
   },
   {
    "duration": 8,
    "start_time": "2021-11-12T08:45:11.542Z"
   },
   {
    "duration": 8,
    "start_time": "2021-11-12T08:45:19.427Z"
   },
   {
    "duration": 33,
    "start_time": "2021-11-12T08:45:25.039Z"
   },
   {
    "duration": 12,
    "start_time": "2021-11-12T08:48:32.950Z"
   },
   {
    "duration": 6713,
    "start_time": "2021-11-12T08:50:46.084Z"
   },
   {
    "duration": 9056,
    "start_time": "2021-11-12T08:51:29.329Z"
   },
   {
    "duration": 7210,
    "start_time": "2021-11-12T08:51:59.375Z"
   },
   {
    "duration": 3,
    "start_time": "2021-11-12T08:52:12.073Z"
   },
   {
    "duration": 1260,
    "start_time": "2021-11-12T08:52:12.078Z"
   },
   {
    "duration": 20,
    "start_time": "2021-11-12T08:52:13.341Z"
   },
   {
    "duration": 13,
    "start_time": "2021-11-12T08:52:13.363Z"
   },
   {
    "duration": 16,
    "start_time": "2021-11-12T08:52:13.378Z"
   },
   {
    "duration": 135,
    "start_time": "2021-11-12T08:52:13.396Z"
   },
   {
    "duration": 253,
    "start_time": "2021-11-12T08:52:13.532Z"
   },
   {
    "duration": 15,
    "start_time": "2021-11-12T08:52:13.787Z"
   },
   {
    "duration": 50,
    "start_time": "2021-11-12T08:52:13.804Z"
   },
   {
    "duration": 1228,
    "start_time": "2021-11-12T08:52:13.856Z"
   },
   {
    "duration": 161,
    "start_time": "2021-11-12T08:52:15.085Z"
   },
   {
    "duration": 249,
    "start_time": "2021-11-12T08:52:15.248Z"
   },
   {
    "duration": 7439,
    "start_time": "2021-11-12T08:52:15.499Z"
   },
   {
    "duration": 26,
    "start_time": "2021-11-12T08:52:36.024Z"
   },
   {
    "duration": 378,
    "start_time": "2021-11-12T08:52:45.867Z"
   },
   {
    "duration": 3,
    "start_time": "2021-11-12T08:52:56.579Z"
   },
   {
    "duration": 1403,
    "start_time": "2021-11-12T08:52:56.584Z"
   },
   {
    "duration": 20,
    "start_time": "2021-11-12T08:52:57.989Z"
   },
   {
    "duration": 19,
    "start_time": "2021-11-12T08:52:58.011Z"
   },
   {
    "duration": 16,
    "start_time": "2021-11-12T08:52:58.031Z"
   },
   {
    "duration": 121,
    "start_time": "2021-11-12T08:52:58.048Z"
   },
   {
    "duration": 270,
    "start_time": "2021-11-12T08:52:58.171Z"
   },
   {
    "duration": 15,
    "start_time": "2021-11-12T08:52:58.442Z"
   },
   {
    "duration": 68,
    "start_time": "2021-11-12T08:52:58.460Z"
   },
   {
    "duration": 1277,
    "start_time": "2021-11-12T08:52:58.530Z"
   },
   {
    "duration": 163,
    "start_time": "2021-11-12T08:52:59.809Z"
   },
   {
    "duration": 262,
    "start_time": "2021-11-12T08:52:59.974Z"
   },
   {
    "duration": 26,
    "start_time": "2021-11-12T08:53:00.238Z"
   },
   {
    "duration": 361,
    "start_time": "2021-11-12T08:53:03.793Z"
   },
   {
    "duration": 257,
    "start_time": "2021-11-12T08:54:13.350Z"
   },
   {
    "duration": 280,
    "start_time": "2021-11-12T08:54:41.330Z"
   },
   {
    "duration": 277,
    "start_time": "2021-11-12T08:54:46.679Z"
   },
   {
    "duration": 3,
    "start_time": "2021-11-12T08:57:16.327Z"
   },
   {
    "duration": 1302,
    "start_time": "2021-11-12T08:57:16.333Z"
   },
   {
    "duration": 20,
    "start_time": "2021-11-12T08:57:17.637Z"
   },
   {
    "duration": 14,
    "start_time": "2021-11-12T08:57:17.659Z"
   },
   {
    "duration": 13,
    "start_time": "2021-11-12T08:57:17.674Z"
   },
   {
    "duration": 141,
    "start_time": "2021-11-12T08:57:17.689Z"
   },
   {
    "duration": 276,
    "start_time": "2021-11-12T08:57:17.832Z"
   },
   {
    "duration": 16,
    "start_time": "2021-11-12T08:57:18.110Z"
   },
   {
    "duration": 49,
    "start_time": "2021-11-12T08:57:18.128Z"
   },
   {
    "duration": 1682,
    "start_time": "2021-11-12T08:57:18.179Z"
   },
   {
    "duration": 262,
    "start_time": "2021-11-12T08:57:19.864Z"
   },
   {
    "duration": 260,
    "start_time": "2021-11-12T08:57:20.128Z"
   },
   {
    "duration": 25,
    "start_time": "2021-11-12T08:57:20.390Z"
   },
   {
    "duration": 185,
    "start_time": "2021-11-12T08:57:22.638Z"
   },
   {
    "duration": 6,
    "start_time": "2021-11-12T09:22:04.069Z"
   },
   {
    "duration": 5,
    "start_time": "2021-11-12T09:25:44.690Z"
   },
   {
    "duration": 4,
    "start_time": "2021-11-12T09:25:46.902Z"
   },
   {
    "duration": 22,
    "start_time": "2021-11-12T09:27:39.548Z"
   },
   {
    "duration": 16,
    "start_time": "2021-11-12T09:29:02.016Z"
   },
   {
    "duration": 16,
    "start_time": "2021-11-12T09:34:47.475Z"
   },
   {
    "duration": 20,
    "start_time": "2021-11-12T09:35:11.231Z"
   },
   {
    "duration": 302,
    "start_time": "2021-11-12T09:36:22.378Z"
   },
   {
    "duration": 337,
    "start_time": "2021-11-12T09:36:31.633Z"
   },
   {
    "duration": 364,
    "start_time": "2021-11-12T09:36:39.761Z"
   },
   {
    "duration": 7230,
    "start_time": "2021-11-12T09:37:40.342Z"
   },
   {
    "duration": 7394,
    "start_time": "2021-11-12T09:38:37.393Z"
   },
   {
    "duration": 6929,
    "start_time": "2021-11-12T09:38:46.964Z"
   },
   {
    "duration": 20,
    "start_time": "2021-11-12T09:39:10.917Z"
   },
   {
    "duration": 3,
    "start_time": "2021-11-12T09:39:38.423Z"
   },
   {
    "duration": 1473,
    "start_time": "2021-11-12T09:39:38.428Z"
   },
   {
    "duration": 20,
    "start_time": "2021-11-12T09:39:39.904Z"
   },
   {
    "duration": 16,
    "start_time": "2021-11-12T09:39:39.925Z"
   },
   {
    "duration": 18,
    "start_time": "2021-11-12T09:39:39.944Z"
   },
   {
    "duration": 168,
    "start_time": "2021-11-12T09:39:39.964Z"
   },
   {
    "duration": 302,
    "start_time": "2021-11-12T09:39:40.144Z"
   },
   {
    "duration": 16,
    "start_time": "2021-11-12T09:39:40.448Z"
   },
   {
    "duration": 36,
    "start_time": "2021-11-12T09:39:40.466Z"
   },
   {
    "duration": 1276,
    "start_time": "2021-11-12T09:39:40.504Z"
   },
   {
    "duration": 164,
    "start_time": "2021-11-12T09:39:41.782Z"
   },
   {
    "duration": 345,
    "start_time": "2021-11-12T09:39:41.948Z"
   },
   {
    "duration": 25,
    "start_time": "2021-11-12T09:39:42.295Z"
   },
   {
    "duration": 184,
    "start_time": "2021-11-12T09:39:42.321Z"
   },
   {
    "duration": 20,
    "start_time": "2021-11-12T09:39:42.507Z"
   },
   {
    "duration": 13,
    "start_time": "2021-11-12T09:39:45.935Z"
   },
   {
    "duration": 57,
    "start_time": "2021-11-12T09:40:31.058Z"
   },
   {
    "duration": 323,
    "start_time": "2021-11-12T09:41:43.548Z"
   },
   {
    "duration": 6866,
    "start_time": "2021-11-12T09:41:54.831Z"
   },
   {
    "duration": 4,
    "start_time": "2021-11-12T09:42:05.830Z"
   },
   {
    "duration": 1944,
    "start_time": "2021-11-12T09:42:05.836Z"
   },
   {
    "duration": 22,
    "start_time": "2021-11-12T09:42:07.783Z"
   },
   {
    "duration": 15,
    "start_time": "2021-11-12T09:42:07.807Z"
   },
   {
    "duration": 14,
    "start_time": "2021-11-12T09:42:07.824Z"
   },
   {
    "duration": 119,
    "start_time": "2021-11-12T09:42:07.840Z"
   },
   {
    "duration": 283,
    "start_time": "2021-11-12T09:42:07.961Z"
   },
   {
    "duration": 17,
    "start_time": "2021-11-12T09:42:08.246Z"
   },
   {
    "duration": 42,
    "start_time": "2021-11-12T09:42:08.266Z"
   },
   {
    "duration": 1276,
    "start_time": "2021-11-12T09:42:08.310Z"
   },
   {
    "duration": 163,
    "start_time": "2021-11-12T09:42:09.587Z"
   },
   {
    "duration": 247,
    "start_time": "2021-11-12T09:42:09.751Z"
   },
   {
    "duration": 25,
    "start_time": "2021-11-12T09:42:10.000Z"
   },
   {
    "duration": 182,
    "start_time": "2021-11-12T09:42:10.026Z"
   },
   {
    "duration": 34,
    "start_time": "2021-11-12T09:42:10.210Z"
   },
   {
    "duration": 12,
    "start_time": "2021-11-12T09:42:10.246Z"
   },
   {
    "duration": 66,
    "start_time": "2021-11-12T09:42:10.260Z"
   },
   {
    "duration": 82,
    "start_time": "2021-11-12T09:42:12.738Z"
   },
   {
    "duration": 7953,
    "start_time": "2021-11-12T09:45:21.121Z"
   },
   {
    "duration": 3,
    "start_time": "2021-11-12T09:45:33.849Z"
   },
   {
    "duration": 1438,
    "start_time": "2021-11-12T09:45:33.854Z"
   },
   {
    "duration": 23,
    "start_time": "2021-11-12T09:45:35.294Z"
   },
   {
    "duration": 14,
    "start_time": "2021-11-12T09:45:35.319Z"
   },
   {
    "duration": 38,
    "start_time": "2021-11-12T09:45:35.334Z"
   },
   {
    "duration": 126,
    "start_time": "2021-11-12T09:45:35.373Z"
   },
   {
    "duration": 277,
    "start_time": "2021-11-12T09:45:35.501Z"
   },
   {
    "duration": 17,
    "start_time": "2021-11-12T09:45:35.780Z"
   },
   {
    "duration": 60,
    "start_time": "2021-11-12T09:45:35.800Z"
   },
   {
    "duration": 1241,
    "start_time": "2021-11-12T09:45:35.862Z"
   },
   {
    "duration": 160,
    "start_time": "2021-11-12T09:45:37.105Z"
   },
   {
    "duration": 264,
    "start_time": "2021-11-12T09:45:37.267Z"
   },
   {
    "duration": 32,
    "start_time": "2021-11-12T09:45:37.533Z"
   },
   {
    "duration": 198,
    "start_time": "2021-11-12T09:45:37.567Z"
   },
   {
    "duration": 21,
    "start_time": "2021-11-12T09:45:37.768Z"
   },
   {
    "duration": 73,
    "start_time": "2021-11-12T09:45:37.791Z"
   },
   {
    "duration": 78,
    "start_time": "2021-11-12T09:45:41.713Z"
   },
   {
    "duration": 6868,
    "start_time": "2021-11-12T09:46:38.576Z"
   },
   {
    "duration": 176,
    "start_time": "2021-11-12T09:46:45.270Z"
   },
   {
    "duration": 165,
    "start_time": "2021-11-12T09:46:45.283Z"
   },
   {
    "duration": 158,
    "start_time": "2021-11-12T09:46:45.290Z"
   },
   {
    "duration": 147,
    "start_time": "2021-11-12T09:46:45.302Z"
   },
   {
    "duration": 135,
    "start_time": "2021-11-12T09:46:45.315Z"
   },
   {
    "duration": 123,
    "start_time": "2021-11-12T09:46:45.328Z"
   },
   {
    "duration": 111,
    "start_time": "2021-11-12T09:46:45.341Z"
   },
   {
    "duration": 89,
    "start_time": "2021-11-12T09:46:45.364Z"
   },
   {
    "duration": 76,
    "start_time": "2021-11-12T09:46:45.377Z"
   },
   {
    "duration": 65,
    "start_time": "2021-11-12T09:46:45.389Z"
   },
   {
    "duration": 53,
    "start_time": "2021-11-12T09:46:45.403Z"
   },
   {
    "duration": 41,
    "start_time": "2021-11-12T09:46:45.416Z"
   },
   {
    "duration": 29,
    "start_time": "2021-11-12T09:46:45.429Z"
   },
   {
    "duration": 18,
    "start_time": "2021-11-12T09:46:45.441Z"
   },
   {
    "duration": 4,
    "start_time": "2021-11-12T09:46:45.456Z"
   },
   {
    "duration": -19,
    "start_time": "2021-11-12T09:46:45.479Z"
   },
   {
    "duration": 325,
    "start_time": "2021-11-12T09:46:49.101Z"
   },
   {
    "duration": 3,
    "start_time": "2021-11-12T09:47:12.662Z"
   },
   {
    "duration": 1442,
    "start_time": "2021-11-12T09:47:12.667Z"
   },
   {
    "duration": 21,
    "start_time": "2021-11-12T09:47:14.112Z"
   },
   {
    "duration": 26,
    "start_time": "2021-11-12T09:47:14.136Z"
   },
   {
    "duration": 14,
    "start_time": "2021-11-12T09:47:14.164Z"
   },
   {
    "duration": 128,
    "start_time": "2021-11-12T09:47:14.180Z"
   },
   {
    "duration": 270,
    "start_time": "2021-11-12T09:47:14.310Z"
   },
   {
    "duration": 16,
    "start_time": "2021-11-12T09:47:14.582Z"
   },
   {
    "duration": 69,
    "start_time": "2021-11-12T09:47:14.601Z"
   },
   {
    "duration": 1329,
    "start_time": "2021-11-12T09:47:14.673Z"
   },
   {
    "duration": 180,
    "start_time": "2021-11-12T09:47:16.004Z"
   },
   {
    "duration": 261,
    "start_time": "2021-11-12T09:47:16.187Z"
   },
   {
    "duration": 25,
    "start_time": "2021-11-12T09:47:16.450Z"
   },
   {
    "duration": 190,
    "start_time": "2021-11-12T09:47:16.477Z"
   },
   {
    "duration": 22,
    "start_time": "2021-11-12T09:47:16.670Z"
   },
   {
    "duration": 79,
    "start_time": "2021-11-12T09:47:16.695Z"
   },
   {
    "duration": 75,
    "start_time": "2021-11-12T09:47:18.964Z"
   },
   {
    "duration": 11,
    "start_time": "2021-11-12T09:48:06.674Z"
   },
   {
    "duration": 21,
    "start_time": "2021-11-12T09:48:55.421Z"
   },
   {
    "duration": 22,
    "start_time": "2021-11-12T09:49:07.376Z"
   },
   {
    "duration": 3,
    "start_time": "2021-11-12T09:53:03.717Z"
   },
   {
    "duration": 1438,
    "start_time": "2021-11-12T09:53:03.722Z"
   },
   {
    "duration": 21,
    "start_time": "2021-11-12T09:53:05.162Z"
   },
   {
    "duration": 22,
    "start_time": "2021-11-12T09:53:05.185Z"
   },
   {
    "duration": 27,
    "start_time": "2021-11-12T09:53:05.209Z"
   },
   {
    "duration": 114,
    "start_time": "2021-11-12T09:53:05.238Z"
   },
   {
    "duration": 269,
    "start_time": "2021-11-12T09:53:05.353Z"
   },
   {
    "duration": 26,
    "start_time": "2021-11-12T09:53:05.623Z"
   },
   {
    "duration": 38,
    "start_time": "2021-11-12T09:53:05.652Z"
   },
   {
    "duration": 1229,
    "start_time": "2021-11-12T09:53:05.692Z"
   },
   {
    "duration": 158,
    "start_time": "2021-11-12T09:53:06.922Z"
   },
   {
    "duration": 254,
    "start_time": "2021-11-12T09:53:07.081Z"
   },
   {
    "duration": 26,
    "start_time": "2021-11-12T09:53:07.344Z"
   },
   {
    "duration": 185,
    "start_time": "2021-11-12T09:53:07.372Z"
   },
   {
    "duration": 21,
    "start_time": "2021-11-12T09:53:07.559Z"
   },
   {
    "duration": 70,
    "start_time": "2021-11-12T09:53:07.582Z"
   },
   {
    "duration": 68,
    "start_time": "2021-11-12T09:53:07.653Z"
   },
   {
    "duration": 37,
    "start_time": "2021-11-12T09:53:07.723Z"
   },
   {
    "duration": 24,
    "start_time": "2021-11-12T09:53:07.762Z"
   },
   {
    "duration": 13,
    "start_time": "2021-11-12T09:53:07.788Z"
   },
   {
    "duration": 53,
    "start_time": "2021-11-12T09:53:07.803Z"
   },
   {
    "duration": 19,
    "start_time": "2021-11-12T09:53:10.683Z"
   },
   {
    "duration": 82,
    "start_time": "2021-11-12T09:57:32.444Z"
   },
   {
    "duration": 843,
    "start_time": "2021-11-12T09:59:07.598Z"
   },
   {
    "duration": 824,
    "start_time": "2021-11-12T09:59:34.591Z"
   },
   {
    "duration": 12,
    "start_time": "2021-11-12T10:07:10.969Z"
   },
   {
    "duration": 15,
    "start_time": "2021-11-12T10:07:24.189Z"
   },
   {
    "duration": 878,
    "start_time": "2021-11-12T10:07:32.741Z"
   },
   {
    "duration": 36,
    "start_time": "2021-11-12T10:07:51.811Z"
   },
   {
    "duration": 6,
    "start_time": "2021-11-12T10:08:01.256Z"
   },
   {
    "duration": 5,
    "start_time": "2021-11-12T10:08:09.460Z"
   },
   {
    "duration": 316,
    "start_time": "2021-11-12T10:10:44.948Z"
   },
   {
    "duration": 6,
    "start_time": "2021-11-12T10:10:54.693Z"
   },
   {
    "duration": 4,
    "start_time": "2021-11-12T10:11:35.648Z"
   },
   {
    "duration": 1336,
    "start_time": "2021-11-12T10:11:35.653Z"
   },
   {
    "duration": 21,
    "start_time": "2021-11-12T10:11:36.991Z"
   },
   {
    "duration": 13,
    "start_time": "2021-11-12T10:11:37.014Z"
   },
   {
    "duration": 17,
    "start_time": "2021-11-12T10:11:37.029Z"
   },
   {
    "duration": 127,
    "start_time": "2021-11-12T10:11:37.047Z"
   },
   {
    "duration": 263,
    "start_time": "2021-11-12T10:11:37.175Z"
   },
   {
    "duration": 16,
    "start_time": "2021-11-12T10:11:37.444Z"
   },
   {
    "duration": 38,
    "start_time": "2021-11-12T10:11:37.463Z"
   },
   {
    "duration": 1244,
    "start_time": "2021-11-12T10:11:37.503Z"
   },
   {
    "duration": 167,
    "start_time": "2021-11-12T10:11:38.749Z"
   },
   {
    "duration": 277,
    "start_time": "2021-11-12T10:11:38.918Z"
   },
   {
    "duration": 24,
    "start_time": "2021-11-12T10:11:39.197Z"
   },
   {
    "duration": 176,
    "start_time": "2021-11-12T10:11:39.222Z"
   },
   {
    "duration": 29,
    "start_time": "2021-11-12T10:11:39.400Z"
   },
   {
    "duration": 57,
    "start_time": "2021-11-12T10:11:39.431Z"
   },
   {
    "duration": 207,
    "start_time": "2021-11-12T10:11:39.490Z"
   },
   {
    "duration": 21,
    "start_time": "2021-11-12T10:11:39.699Z"
   },
   {
    "duration": 1156,
    "start_time": "2021-11-12T10:11:39.721Z"
   },
   {
    "duration": 7,
    "start_time": "2021-11-12T10:11:45.377Z"
   },
   {
    "duration": 11,
    "start_time": "2021-11-12T10:12:39.424Z"
   },
   {
    "duration": 11,
    "start_time": "2021-11-12T11:29:34.570Z"
   },
   {
    "duration": 18,
    "start_time": "2021-11-12T11:29:47.201Z"
   },
   {
    "duration": 3,
    "start_time": "2021-11-12T11:30:28.238Z"
   },
   {
    "duration": 1505,
    "start_time": "2021-11-12T11:30:28.243Z"
   },
   {
    "duration": 26,
    "start_time": "2021-11-12T11:30:29.750Z"
   },
   {
    "duration": 17,
    "start_time": "2021-11-12T11:30:29.779Z"
   },
   {
    "duration": 52,
    "start_time": "2021-11-12T11:30:29.798Z"
   },
   {
    "duration": 141,
    "start_time": "2021-11-12T11:30:29.852Z"
   },
   {
    "duration": 282,
    "start_time": "2021-11-12T11:30:29.995Z"
   },
   {
    "duration": 17,
    "start_time": "2021-11-12T11:30:30.280Z"
   },
   {
    "duration": 62,
    "start_time": "2021-11-12T11:30:30.300Z"
   },
   {
    "duration": 1212,
    "start_time": "2021-11-12T11:30:30.364Z"
   },
   {
    "duration": 174,
    "start_time": "2021-11-12T11:30:31.578Z"
   },
   {
    "duration": 253,
    "start_time": "2021-11-12T11:30:31.754Z"
   },
   {
    "duration": 162,
    "start_time": "2021-11-12T11:30:32.008Z"
   },
   {
    "duration": 24,
    "start_time": "2021-11-12T11:30:32.173Z"
   },
   {
    "duration": 83,
    "start_time": "2021-11-12T11:30:32.199Z"
   },
   {
    "duration": 84,
    "start_time": "2021-11-12T11:30:32.284Z"
   },
   {
    "duration": 21,
    "start_time": "2021-11-12T11:30:32.370Z"
   },
   {
    "duration": 890,
    "start_time": "2021-11-12T11:30:32.392Z"
   },
   {
    "duration": 10,
    "start_time": "2021-11-12T11:30:33.283Z"
   },
   {
    "duration": 4,
    "start_time": "2021-11-12T11:30:33.295Z"
   },
   {
    "duration": 44,
    "start_time": "2021-11-12T11:30:33.300Z"
   },
   {
    "duration": 14,
    "start_time": "2021-11-12T11:30:33.346Z"
   },
   {
    "duration": 10,
    "start_time": "2021-11-12T11:30:33.362Z"
   },
   {
    "duration": 127,
    "start_time": "2021-11-12T11:30:33.374Z"
   },
   {
    "duration": 43,
    "start_time": "2021-11-12T11:30:33.503Z"
   },
   {
    "duration": 596,
    "start_time": "2021-11-12T11:30:33.548Z"
   },
   {
    "duration": 529,
    "start_time": "2021-11-12T11:30:39.180Z"
   },
   {
    "duration": 173,
    "start_time": "2021-11-12T11:31:44.330Z"
   },
   {
    "duration": 490,
    "start_time": "2021-11-12T11:34:41.854Z"
   },
   {
    "duration": 460,
    "start_time": "2021-11-12T11:34:48.744Z"
   },
   {
    "duration": 252,
    "start_time": "2021-11-12T11:41:30.886Z"
   },
   {
    "duration": 709,
    "start_time": "2021-11-12T11:45:58.256Z"
   },
   {
    "duration": 573,
    "start_time": "2021-11-12T11:47:56.401Z"
   },
   {
    "duration": 743,
    "start_time": "2021-11-12T11:48:03.092Z"
   },
   {
    "duration": 3,
    "start_time": "2021-11-12T11:59:44.741Z"
   },
   {
    "duration": 1310,
    "start_time": "2021-11-12T11:59:44.746Z"
   },
   {
    "duration": 21,
    "start_time": "2021-11-12T11:59:46.058Z"
   },
   {
    "duration": 15,
    "start_time": "2021-11-12T11:59:46.081Z"
   },
   {
    "duration": 13,
    "start_time": "2021-11-12T11:59:46.097Z"
   },
   {
    "duration": 147,
    "start_time": "2021-11-12T11:59:46.111Z"
   },
   {
    "duration": 274,
    "start_time": "2021-11-12T11:59:46.259Z"
   },
   {
    "duration": 19,
    "start_time": "2021-11-12T11:59:46.535Z"
   },
   {
    "duration": 34,
    "start_time": "2021-11-12T11:59:46.556Z"
   },
   {
    "duration": 1218,
    "start_time": "2021-11-12T11:59:46.592Z"
   },
   {
    "duration": 167,
    "start_time": "2021-11-12T11:59:47.812Z"
   },
   {
    "duration": 260,
    "start_time": "2021-11-12T11:59:47.980Z"
   },
   {
    "duration": 174,
    "start_time": "2021-11-12T11:59:48.245Z"
   },
   {
    "duration": 36,
    "start_time": "2021-11-12T11:59:48.421Z"
   },
   {
    "duration": 57,
    "start_time": "2021-11-12T11:59:48.459Z"
   },
   {
    "duration": 98,
    "start_time": "2021-11-12T11:59:48.518Z"
   },
   {
    "duration": 38,
    "start_time": "2021-11-12T11:59:48.617Z"
   },
   {
    "duration": 899,
    "start_time": "2021-11-12T11:59:48.657Z"
   },
   {
    "duration": 10,
    "start_time": "2021-11-12T11:59:49.558Z"
   },
   {
    "duration": 6,
    "start_time": "2021-11-12T11:59:49.569Z"
   },
   {
    "duration": 24,
    "start_time": "2021-11-12T11:59:49.577Z"
   },
   {
    "duration": 42,
    "start_time": "2021-11-12T11:59:49.602Z"
   },
   {
    "duration": 10,
    "start_time": "2021-11-12T11:59:49.647Z"
   },
   {
    "duration": 111,
    "start_time": "2021-11-12T11:59:49.659Z"
   },
   {
    "duration": 32,
    "start_time": "2021-11-12T11:59:49.772Z"
   },
   {
    "duration": 589,
    "start_time": "2021-11-12T11:59:49.806Z"
   },
   {
    "duration": 456,
    "start_time": "2021-11-12T11:59:50.396Z"
   },
   {
    "duration": 253,
    "start_time": "2021-11-12T11:59:50.854Z"
   },
   {
    "duration": 630,
    "start_time": "2021-11-12T11:59:51.109Z"
   },
   {
    "duration": 1507,
    "start_time": "2021-11-13T00:05:02.386Z"
   },
   {
    "duration": 1550,
    "start_time": "2021-11-13T00:05:03.896Z"
   },
   {
    "duration": 35,
    "start_time": "2021-11-13T00:05:05.449Z"
   },
   {
    "duration": 20,
    "start_time": "2021-11-13T00:05:05.487Z"
   },
   {
    "duration": 29,
    "start_time": "2021-11-13T00:05:05.509Z"
   },
   {
    "duration": 194,
    "start_time": "2021-11-13T00:05:05.541Z"
   },
   {
    "duration": 342,
    "start_time": "2021-11-13T00:05:05.738Z"
   },
   {
    "duration": 21,
    "start_time": "2021-11-13T00:05:06.084Z"
   },
   {
    "duration": 57,
    "start_time": "2021-11-13T00:05:06.122Z"
   },
   {
    "duration": 1797,
    "start_time": "2021-11-13T00:05:06.182Z"
   },
   {
    "duration": 244,
    "start_time": "2021-11-13T00:05:07.981Z"
   },
   {
    "duration": 441,
    "start_time": "2021-11-13T00:05:08.228Z"
   },
   {
    "duration": 275,
    "start_time": "2021-11-13T00:05:08.671Z"
   },
   {
    "duration": 29,
    "start_time": "2021-11-13T00:05:08.948Z"
   },
   {
    "duration": 122,
    "start_time": "2021-11-13T00:05:08.979Z"
   },
   {
    "duration": 134,
    "start_time": "2021-11-13T00:05:09.103Z"
   },
   {
    "duration": 30,
    "start_time": "2021-11-13T00:05:09.239Z"
   },
   {
    "duration": 1256,
    "start_time": "2021-11-13T00:05:09.271Z"
   },
   {
    "duration": 14,
    "start_time": "2021-11-13T00:05:10.530Z"
   },
   {
    "duration": 5,
    "start_time": "2021-11-13T00:05:10.546Z"
   },
   {
    "duration": 19,
    "start_time": "2021-11-13T00:05:10.554Z"
   },
   {
    "duration": 65,
    "start_time": "2021-11-13T00:05:10.575Z"
   },
   {
    "duration": 14,
    "start_time": "2021-11-13T00:05:10.644Z"
   },
   {
    "duration": 202,
    "start_time": "2021-11-13T00:05:10.661Z"
   },
   {
    "duration": 57,
    "start_time": "2021-11-13T00:05:10.865Z"
   },
   {
    "duration": 1075,
    "start_time": "2021-11-13T00:05:10.924Z"
   },
   {
    "duration": 761,
    "start_time": "2021-11-13T00:05:12.002Z"
   },
   {
    "duration": 353,
    "start_time": "2021-11-13T00:05:12.766Z"
   },
   {
    "duration": 863,
    "start_time": "2021-11-13T00:05:13.122Z"
   },
   {
    "duration": 104,
    "start_time": "2021-11-13T00:14:32.209Z"
   },
   {
    "duration": 364,
    "start_time": "2021-11-13T04:44:50.004Z"
   },
   {
    "duration": 1622,
    "start_time": "2021-11-13T04:45:00.641Z"
   },
   {
    "duration": 1697,
    "start_time": "2021-11-13T04:45:02.268Z"
   },
   {
    "duration": 44,
    "start_time": "2021-11-13T04:45:03.968Z"
   },
   {
    "duration": 55,
    "start_time": "2021-11-13T04:45:04.014Z"
   },
   {
    "duration": 26,
    "start_time": "2021-11-13T04:45:04.072Z"
   },
   {
    "duration": 235,
    "start_time": "2021-11-13T04:45:04.101Z"
   },
   {
    "duration": 387,
    "start_time": "2021-11-13T04:45:04.340Z"
   },
   {
    "duration": 57,
    "start_time": "2021-11-13T04:45:04.734Z"
   },
   {
    "duration": 47,
    "start_time": "2021-11-13T04:45:04.795Z"
   },
   {
    "duration": 1978,
    "start_time": "2021-11-13T04:45:04.868Z"
   },
   {
    "duration": 298,
    "start_time": "2021-11-13T04:45:06.848Z"
   },
   {
    "duration": 402,
    "start_time": "2021-11-13T04:45:07.149Z"
   },
   {
    "duration": 307,
    "start_time": "2021-11-13T04:45:07.554Z"
   },
   {
    "duration": 36,
    "start_time": "2021-11-13T04:45:07.868Z"
   },
   {
    "duration": 147,
    "start_time": "2021-11-13T04:45:07.907Z"
   },
   {
    "duration": 150,
    "start_time": "2021-11-13T04:45:08.068Z"
   },
   {
    "duration": 58,
    "start_time": "2021-11-13T04:45:08.220Z"
   },
   {
    "duration": 1389,
    "start_time": "2021-11-13T04:45:08.281Z"
   },
   {
    "duration": 17,
    "start_time": "2021-11-13T04:45:09.674Z"
   },
   {
    "duration": 5,
    "start_time": "2021-11-13T04:45:09.694Z"
   },
   {
    "duration": 71,
    "start_time": "2021-11-13T04:45:09.702Z"
   },
   {
    "duration": 26,
    "start_time": "2021-11-13T04:45:09.776Z"
   },
   {
    "duration": 70,
    "start_time": "2021-11-13T04:45:09.808Z"
   },
   {
    "duration": 229,
    "start_time": "2021-11-13T04:45:09.882Z"
   },
   {
    "duration": 69,
    "start_time": "2021-11-13T04:45:10.113Z"
   },
   {
    "duration": 1031,
    "start_time": "2021-11-13T04:45:10.185Z"
   },
   {
    "duration": 711,
    "start_time": "2021-11-13T04:45:11.219Z"
   },
   {
    "duration": 381,
    "start_time": "2021-11-13T04:45:11.933Z"
   },
   {
    "duration": 955,
    "start_time": "2021-11-13T04:45:12.317Z"
   },
   {
    "duration": 55,
    "start_time": "2021-11-13T04:46:19.724Z"
   },
   {
    "duration": 31,
    "start_time": "2021-11-13T04:46:37.659Z"
   },
   {
    "duration": 24,
    "start_time": "2021-11-13T04:46:46.257Z"
   },
   {
    "duration": 178,
    "start_time": "2021-11-13T04:50:13.531Z"
   },
   {
    "duration": 201,
    "start_time": "2021-11-13T05:13:39.235Z"
   },
   {
    "duration": 6702,
    "start_time": "2021-11-13T05:14:01.075Z"
   },
   {
    "duration": 147,
    "start_time": "2021-11-13T05:15:33.388Z"
   },
   {
    "duration": 78,
    "start_time": "2021-11-13T05:16:18.452Z"
   },
   {
    "duration": 86,
    "start_time": "2021-11-13T05:16:31.964Z"
   },
   {
    "duration": 433,
    "start_time": "2021-11-13T05:18:19.558Z"
   },
   {
    "duration": 428,
    "start_time": "2021-11-13T05:18:41.540Z"
   },
   {
    "duration": 303,
    "start_time": "2021-11-13T05:19:47.149Z"
   },
   {
    "duration": 6,
    "start_time": "2021-11-13T05:19:53.985Z"
   },
   {
    "duration": 1574,
    "start_time": "2021-11-13T05:19:53.995Z"
   },
   {
    "duration": 30,
    "start_time": "2021-11-13T05:19:55.572Z"
   },
   {
    "duration": 63,
    "start_time": "2021-11-13T05:19:55.605Z"
   },
   {
    "duration": 21,
    "start_time": "2021-11-13T05:19:55.671Z"
   },
   {
    "duration": 223,
    "start_time": "2021-11-13T05:19:55.696Z"
   },
   {
    "duration": 368,
    "start_time": "2021-11-13T05:19:55.923Z"
   },
   {
    "duration": 29,
    "start_time": "2021-11-13T05:19:56.295Z"
   },
   {
    "duration": 91,
    "start_time": "2021-11-13T05:19:56.327Z"
   },
   {
    "duration": 1984,
    "start_time": "2021-11-13T05:19:56.421Z"
   },
   {
    "duration": 286,
    "start_time": "2021-11-13T05:19:58.407Z"
   },
   {
    "duration": 383,
    "start_time": "2021-11-13T05:19:58.696Z"
   },
   {
    "duration": 293,
    "start_time": "2021-11-13T05:19:59.083Z"
   },
   {
    "duration": 33,
    "start_time": "2021-11-13T05:19:59.379Z"
   },
   {
    "duration": 127,
    "start_time": "2021-11-13T05:19:59.415Z"
   },
   {
    "duration": 175,
    "start_time": "2021-11-13T05:19:59.545Z"
   },
   {
    "duration": 53,
    "start_time": "2021-11-13T05:19:59.723Z"
   },
   {
    "duration": 1500,
    "start_time": "2021-11-13T05:19:59.780Z"
   },
   {
    "duration": 18,
    "start_time": "2021-11-13T05:20:01.284Z"
   },
   {
    "duration": 5,
    "start_time": "2021-11-13T05:20:01.305Z"
   },
   {
    "duration": 70,
    "start_time": "2021-11-13T05:20:01.312Z"
   },
   {
    "duration": 23,
    "start_time": "2021-11-13T05:20:01.386Z"
   },
   {
    "duration": 19,
    "start_time": "2021-11-13T05:20:01.470Z"
   },
   {
    "duration": 455,
    "start_time": "2021-11-13T05:20:01.492Z"
   },
   {
    "duration": 624,
    "start_time": "2021-11-13T05:20:01.325Z"
   },
   {
    "duration": 622,
    "start_time": "2021-11-13T05:20:01.329Z"
   },
   {
    "duration": 621,
    "start_time": "2021-11-13T05:20:01.332Z"
   },
   {
    "duration": 618,
    "start_time": "2021-11-13T05:20:01.336Z"
   },
   {
    "duration": 612,
    "start_time": "2021-11-13T05:20:01.344Z"
   },
   {
    "duration": 428,
    "start_time": "2021-11-13T05:20:30.893Z"
   },
   {
    "duration": 409,
    "start_time": "2021-11-13T05:21:08.812Z"
   },
   {
    "duration": 191,
    "start_time": "2021-11-13T05:22:56.312Z"
   },
   {
    "duration": 214,
    "start_time": "2021-11-13T05:23:26.854Z"
   },
   {
    "duration": 241,
    "start_time": "2021-11-13T05:26:03.167Z"
   },
   {
    "duration": 5,
    "start_time": "2021-11-13T05:29:36.898Z"
   },
   {
    "duration": 1634,
    "start_time": "2021-11-13T05:29:36.905Z"
   },
   {
    "duration": 24,
    "start_time": "2021-11-13T05:29:38.542Z"
   },
   {
    "duration": 23,
    "start_time": "2021-11-13T05:29:38.570Z"
   },
   {
    "duration": 71,
    "start_time": "2021-11-13T05:29:38.596Z"
   },
   {
    "duration": 188,
    "start_time": "2021-11-13T05:29:38.669Z"
   },
   {
    "duration": 362,
    "start_time": "2021-11-13T05:29:38.867Z"
   },
   {
    "duration": 45,
    "start_time": "2021-11-13T05:29:39.232Z"
   },
   {
    "duration": 49,
    "start_time": "2021-11-13T05:29:39.282Z"
   },
   {
    "duration": 1957,
    "start_time": "2021-11-13T05:29:39.333Z"
   },
   {
    "duration": 295,
    "start_time": "2021-11-13T05:29:41.293Z"
   },
   {
    "duration": 388,
    "start_time": "2021-11-13T05:29:41.591Z"
   },
   {
    "duration": 297,
    "start_time": "2021-11-13T05:29:41.982Z"
   },
   {
    "duration": 33,
    "start_time": "2021-11-13T05:29:42.281Z"
   },
   {
    "duration": 127,
    "start_time": "2021-11-13T05:29:42.317Z"
   },
   {
    "duration": 151,
    "start_time": "2021-11-13T05:29:42.446Z"
   },
   {
    "duration": 69,
    "start_time": "2021-11-13T05:29:42.600Z"
   },
   {
    "duration": 1411,
    "start_time": "2021-11-13T05:29:42.672Z"
   },
   {
    "duration": 18,
    "start_time": "2021-11-13T05:29:44.086Z"
   },
   {
    "duration": 6,
    "start_time": "2021-11-13T05:29:44.107Z"
   },
   {
    "duration": 67,
    "start_time": "2021-11-13T05:29:44.116Z"
   },
   {
    "duration": 23,
    "start_time": "2021-11-13T05:29:44.186Z"
   },
   {
    "duration": 17,
    "start_time": "2021-11-13T05:29:44.271Z"
   },
   {
    "duration": 257,
    "start_time": "2021-11-13T05:29:44.292Z"
   },
   {
    "duration": 319,
    "start_time": "2021-11-13T05:29:44.552Z"
   },
   {
    "duration": 624,
    "start_time": "2021-11-13T05:29:44.250Z"
   },
   {
    "duration": 618,
    "start_time": "2021-11-13T05:29:44.258Z"
   },
   {
    "duration": 616,
    "start_time": "2021-11-13T05:29:44.263Z"
   },
   {
    "duration": 616,
    "start_time": "2021-11-13T05:29:44.265Z"
   },
   {
    "duration": 51,
    "start_time": "2021-11-13T05:30:07.801Z"
   },
   {
    "duration": 463,
    "start_time": "2021-11-13T05:32:53.517Z"
   },
   {
    "duration": 31,
    "start_time": "2021-11-13T05:33:34.172Z"
   },
   {
    "duration": 7091,
    "start_time": "2021-11-13T05:34:12.704Z"
   },
   {
    "duration": 5,
    "start_time": "2021-11-13T05:34:24.223Z"
   },
   {
    "duration": 1568,
    "start_time": "2021-11-13T05:34:24.230Z"
   },
   {
    "duration": 419,
    "start_time": "2021-11-13T05:34:25.802Z"
   },
   {
    "duration": 45,
    "start_time": "2021-11-13T05:34:26.223Z"
   },
   {
    "duration": 23,
    "start_time": "2021-11-13T05:34:26.271Z"
   },
   {
    "duration": 210,
    "start_time": "2021-11-13T05:34:26.297Z"
   },
   {
    "duration": 389,
    "start_time": "2021-11-13T05:34:26.510Z"
   },
   {
    "duration": 26,
    "start_time": "2021-11-13T05:34:26.904Z"
   },
   {
    "duration": 81,
    "start_time": "2021-11-13T05:34:26.933Z"
   },
   {
    "duration": 1926,
    "start_time": "2021-11-13T05:34:27.016Z"
   },
   {
    "duration": 290,
    "start_time": "2021-11-13T05:34:28.944Z"
   },
   {
    "duration": 391,
    "start_time": "2021-11-13T05:34:29.236Z"
   },
   {
    "duration": 303,
    "start_time": "2021-11-13T05:34:29.629Z"
   },
   {
    "duration": 55,
    "start_time": "2021-11-13T05:34:29.935Z"
   },
   {
    "duration": 116,
    "start_time": "2021-11-13T05:34:29.994Z"
   },
   {
    "duration": 275,
    "start_time": "2021-11-13T05:34:30.112Z"
   },
   {
    "duration": 31,
    "start_time": "2021-11-13T05:34:30.390Z"
   },
   {
    "duration": 1421,
    "start_time": "2021-11-13T05:34:30.423Z"
   },
   {
    "duration": 28,
    "start_time": "2021-11-13T05:34:31.846Z"
   },
   {
    "duration": 7,
    "start_time": "2021-11-13T05:34:31.877Z"
   },
   {
    "duration": 20,
    "start_time": "2021-11-13T05:34:31.887Z"
   },
   {
    "duration": 75,
    "start_time": "2021-11-13T05:34:31.909Z"
   },
   {
    "duration": 17,
    "start_time": "2021-11-13T05:34:31.991Z"
   },
   {
    "duration": 280,
    "start_time": "2021-11-13T05:34:32.010Z"
   },
   {
    "duration": 78,
    "start_time": "2021-11-13T05:34:32.292Z"
   },
   {
    "duration": 960,
    "start_time": "2021-11-13T05:34:32.373Z"
   },
   {
    "duration": 718,
    "start_time": "2021-11-13T05:34:33.337Z"
   },
   {
    "duration": 374,
    "start_time": "2021-11-13T05:34:34.066Z"
   },
   {
    "duration": 943,
    "start_time": "2021-11-13T05:34:34.443Z"
   },
   {
    "duration": 5,
    "start_time": "2021-11-13T05:59:48.723Z"
   },
   {
    "duration": 1494,
    "start_time": "2021-11-13T05:59:48.731Z"
   },
   {
    "duration": 442,
    "start_time": "2021-11-13T05:59:50.228Z"
   },
   {
    "duration": 18,
    "start_time": "2021-11-13T05:59:50.673Z"
   },
   {
    "duration": 19,
    "start_time": "2021-11-13T05:59:50.693Z"
   },
   {
    "duration": 208,
    "start_time": "2021-11-13T05:59:50.714Z"
   },
   {
    "duration": 344,
    "start_time": "2021-11-13T05:59:50.924Z"
   },
   {
    "duration": 22,
    "start_time": "2021-11-13T05:59:51.272Z"
   },
   {
    "duration": 75,
    "start_time": "2021-11-13T05:59:51.297Z"
   },
   {
    "duration": 2158,
    "start_time": "2021-11-13T05:59:51.375Z"
   },
   {
    "duration": 254,
    "start_time": "2021-11-13T05:59:53.535Z"
   },
   {
    "duration": 368,
    "start_time": "2021-11-13T05:59:53.791Z"
   },
   {
    "duration": 267,
    "start_time": "2021-11-13T05:59:54.161Z"
   },
   {
    "duration": 47,
    "start_time": "2021-11-13T05:59:54.431Z"
   },
   {
    "duration": 99,
    "start_time": "2021-11-13T05:59:54.480Z"
   },
   {
    "duration": 139,
    "start_time": "2021-11-13T05:59:54.582Z"
   },
   {
    "duration": 47,
    "start_time": "2021-11-13T05:59:54.723Z"
   },
   {
    "duration": 1385,
    "start_time": "2021-11-13T05:59:54.772Z"
   },
   {
    "duration": 18,
    "start_time": "2021-11-13T05:59:56.159Z"
   },
   {
    "duration": 5,
    "start_time": "2021-11-13T05:59:56.180Z"
   },
   {
    "duration": 21,
    "start_time": "2021-11-13T05:59:56.187Z"
   },
   {
    "duration": 69,
    "start_time": "2021-11-13T05:59:56.211Z"
   },
   {
    "duration": 14,
    "start_time": "2021-11-13T05:59:56.285Z"
   },
   {
    "duration": 274,
    "start_time": "2021-11-13T05:59:56.301Z"
   },
   {
    "duration": 48,
    "start_time": "2021-11-13T05:59:56.578Z"
   },
   {
    "duration": 902,
    "start_time": "2021-11-13T05:59:56.628Z"
   },
   {
    "duration": 652,
    "start_time": "2021-11-13T05:59:57.532Z"
   },
   {
    "duration": 359,
    "start_time": "2021-11-13T05:59:58.186Z"
   },
   {
    "duration": 848,
    "start_time": "2021-11-13T05:59:58.548Z"
   },
   {
    "duration": 5,
    "start_time": "2021-11-13T06:12:48.628Z"
   },
   {
    "duration": 1551,
    "start_time": "2021-11-13T06:12:48.635Z"
   },
   {
    "duration": 484,
    "start_time": "2021-11-13T06:12:50.189Z"
   },
   {
    "duration": 25,
    "start_time": "2021-11-13T06:12:50.677Z"
   },
   {
    "duration": 206,
    "start_time": "2021-11-13T06:12:50.705Z"
   },
   {
    "duration": 266,
    "start_time": "2021-11-13T06:12:50.915Z"
   },
   {
    "duration": 484,
    "start_time": "2021-11-13T06:12:51.184Z"
   },
   {
    "duration": 35,
    "start_time": "2021-11-13T06:12:51.672Z"
   },
   {
    "duration": 84,
    "start_time": "2021-11-13T06:12:51.710Z"
   },
   {
    "duration": 2987,
    "start_time": "2021-11-13T06:12:51.797Z"
   },
   {
    "duration": 264,
    "start_time": "2021-11-13T06:12:54.787Z"
   },
   {
    "duration": 367,
    "start_time": "2021-11-13T06:12:55.054Z"
   },
   {
    "duration": 281,
    "start_time": "2021-11-13T06:12:55.425Z"
   },
   {
    "duration": 199,
    "start_time": "2021-11-13T06:13:12.124Z"
   },
   {
    "duration": 31,
    "start_time": "2021-11-13T06:13:37.830Z"
   },
   {
    "duration": 24,
    "start_time": "2021-11-13T06:15:21.019Z"
   },
   {
    "duration": 25,
    "start_time": "2021-11-13T06:16:16.803Z"
   },
   {
    "duration": 5,
    "start_time": "2021-11-13T06:16:20.670Z"
   },
   {
    "duration": 3203,
    "start_time": "2021-11-13T06:16:20.677Z"
   },
   {
    "duration": 440,
    "start_time": "2021-11-13T06:16:23.884Z"
   },
   {
    "duration": 17,
    "start_time": "2021-11-13T06:16:24.327Z"
   },
   {
    "duration": 21,
    "start_time": "2021-11-13T06:16:24.367Z"
   },
   {
    "duration": 183,
    "start_time": "2021-11-13T06:16:24.391Z"
   },
   {
    "duration": 362,
    "start_time": "2021-11-13T06:16:24.577Z"
   },
   {
    "duration": 38,
    "start_time": "2021-11-13T06:16:24.942Z"
   },
   {
    "duration": 48,
    "start_time": "2021-11-13T06:16:24.984Z"
   },
   {
    "duration": 1885,
    "start_time": "2021-11-13T06:16:25.036Z"
   },
   {
    "duration": 274,
    "start_time": "2021-11-13T06:16:26.923Z"
   },
   {
    "duration": 376,
    "start_time": "2021-11-13T06:16:27.199Z"
   },
   {
    "duration": 286,
    "start_time": "2021-11-13T06:16:27.577Z"
   },
   {
    "duration": 37,
    "start_time": "2021-11-13T06:16:27.868Z"
   },
   {
    "duration": 124,
    "start_time": "2021-11-13T06:16:27.907Z"
   },
   {
    "duration": 152,
    "start_time": "2021-11-13T06:16:28.033Z"
   },
   {
    "duration": 33,
    "start_time": "2021-11-13T06:16:28.188Z"
   },
   {
    "duration": 1353,
    "start_time": "2021-11-13T06:16:28.224Z"
   },
   {
    "duration": 18,
    "start_time": "2021-11-13T06:16:29.580Z"
   },
   {
    "duration": 6,
    "start_time": "2021-11-13T06:16:29.601Z"
   },
   {
    "duration": 57,
    "start_time": "2021-11-13T06:16:29.610Z"
   },
   {
    "duration": 25,
    "start_time": "2021-11-13T06:16:29.670Z"
   },
   {
    "duration": 16,
    "start_time": "2021-11-13T06:16:29.698Z"
   },
   {
    "duration": 311,
    "start_time": "2021-11-13T06:16:29.716Z"
   },
   {
    "duration": 74,
    "start_time": "2021-11-13T06:16:30.029Z"
   },
   {
    "duration": 1081,
    "start_time": "2021-11-13T06:16:30.106Z"
   },
   {
    "duration": 691,
    "start_time": "2021-11-13T06:16:31.192Z"
   },
   {
    "duration": 368,
    "start_time": "2021-11-13T06:16:31.886Z"
   },
   {
    "duration": 929,
    "start_time": "2021-11-13T06:16:32.256Z"
   },
   {
    "duration": 23,
    "start_time": "2021-11-13T06:16:59.313Z"
   },
   {
    "duration": 1576,
    "start_time": "2021-11-14T16:50:24.753Z"
   },
   {
    "duration": 1817,
    "start_time": "2021-11-14T16:50:26.332Z"
   },
   {
    "duration": 549,
    "start_time": "2021-11-14T16:50:28.153Z"
   },
   {
    "duration": 29,
    "start_time": "2021-11-14T16:50:28.706Z"
   },
   {
    "duration": 21,
    "start_time": "2021-11-14T16:50:28.738Z"
   },
   {
    "duration": 198,
    "start_time": "2021-11-14T16:50:28.762Z"
   },
   {
    "duration": 367,
    "start_time": "2021-11-14T16:50:28.964Z"
   },
   {
    "duration": 38,
    "start_time": "2021-11-14T16:50:29.339Z"
   },
   {
    "duration": 93,
    "start_time": "2021-11-14T16:50:29.381Z"
   },
   {
    "duration": 2123,
    "start_time": "2021-11-14T16:50:29.477Z"
   },
   {
    "duration": 269,
    "start_time": "2021-11-14T16:50:31.603Z"
   },
   {
    "duration": 380,
    "start_time": "2021-11-14T16:50:31.875Z"
   },
   {
    "duration": 293,
    "start_time": "2021-11-14T16:50:32.257Z"
   },
   {
    "duration": 33,
    "start_time": "2021-11-14T16:50:32.554Z"
   },
   {
    "duration": 132,
    "start_time": "2021-11-14T16:50:32.590Z"
   },
   {
    "duration": 152,
    "start_time": "2021-11-14T16:50:32.725Z"
   },
   {
    "duration": 51,
    "start_time": "2021-11-14T16:50:32.879Z"
   },
   {
    "duration": 1395,
    "start_time": "2021-11-14T16:50:32.933Z"
   },
   {
    "duration": 18,
    "start_time": "2021-11-14T16:50:34.331Z"
   },
   {
    "duration": 6,
    "start_time": "2021-11-14T16:50:34.352Z"
   },
   {
    "duration": 28,
    "start_time": "2021-11-14T16:50:34.361Z"
   },
   {
    "duration": 60,
    "start_time": "2021-11-14T16:50:34.393Z"
   },
   {
    "duration": 17,
    "start_time": "2021-11-14T16:50:34.457Z"
   },
   {
    "duration": 345,
    "start_time": "2021-11-14T16:50:34.477Z"
   },
   {
    "duration": 53,
    "start_time": "2021-11-14T16:50:34.824Z"
   },
   {
    "duration": 1017,
    "start_time": "2021-11-14T16:50:34.880Z"
   },
   {
    "duration": 736,
    "start_time": "2021-11-14T16:50:35.900Z"
   },
   {
    "duration": 378,
    "start_time": "2021-11-14T16:50:36.639Z"
   },
   {
    "duration": 990,
    "start_time": "2021-11-14T16:50:37.019Z"
   },
   {
    "duration": 323,
    "start_time": "2021-11-14T16:51:31.247Z"
   },
   {
    "duration": 273,
    "start_time": "2021-11-14T16:52:03.490Z"
   },
   {
    "duration": 317,
    "start_time": "2021-11-14T16:52:24.828Z"
   },
   {
    "duration": 281,
    "start_time": "2021-11-14T16:52:42.214Z"
   },
   {
    "duration": 314,
    "start_time": "2021-11-14T16:53:00.571Z"
   },
   {
    "duration": 285,
    "start_time": "2021-11-14T16:53:32.611Z"
   },
   {
    "duration": 448,
    "start_time": "2021-11-14T16:53:50.034Z"
   },
   {
    "duration": 382,
    "start_time": "2021-11-14T16:54:20.995Z"
   },
   {
    "duration": 5,
    "start_time": "2021-11-14T16:54:44.166Z"
   },
   {
    "duration": 1595,
    "start_time": "2021-11-14T16:54:44.174Z"
   },
   {
    "duration": 416,
    "start_time": "2021-11-14T16:54:45.772Z"
   },
   {
    "duration": 16,
    "start_time": "2021-11-14T16:54:46.191Z"
   },
   {
    "duration": 17,
    "start_time": "2021-11-14T16:54:46.230Z"
   },
   {
    "duration": 241,
    "start_time": "2021-11-14T16:54:46.250Z"
   },
   {
    "duration": 448,
    "start_time": "2021-11-14T16:54:46.493Z"
   },
   {
    "duration": 32,
    "start_time": "2021-11-14T16:54:46.945Z"
   },
   {
    "duration": 84,
    "start_time": "2021-11-14T16:54:46.981Z"
   },
   {
    "duration": 1992,
    "start_time": "2021-11-14T16:54:47.068Z"
   },
   {
    "duration": 250,
    "start_time": "2021-11-14T16:54:49.064Z"
   },
   {
    "duration": 356,
    "start_time": "2021-11-14T16:54:49.317Z"
   },
   {
    "duration": 262,
    "start_time": "2021-11-14T16:54:49.675Z"
   },
   {
    "duration": 32,
    "start_time": "2021-11-14T16:54:49.940Z"
   },
   {
    "duration": 142,
    "start_time": "2021-11-14T16:54:49.974Z"
   },
   {
    "duration": 157,
    "start_time": "2021-11-14T16:54:50.118Z"
   },
   {
    "duration": 32,
    "start_time": "2021-11-14T16:54:50.278Z"
   },
   {
    "duration": 1866,
    "start_time": "2021-11-14T16:54:50.330Z"
   },
   {
    "duration": 37,
    "start_time": "2021-11-14T16:54:52.200Z"
   },
   {
    "duration": 6,
    "start_time": "2021-11-14T16:54:52.240Z"
   },
   {
    "duration": 17,
    "start_time": "2021-11-14T16:54:52.249Z"
   },
   {
    "duration": 62,
    "start_time": "2021-11-14T16:54:52.269Z"
   },
   {
    "duration": 14,
    "start_time": "2021-11-14T16:54:52.335Z"
   },
   {
    "duration": 284,
    "start_time": "2021-11-14T16:54:52.353Z"
   },
   {
    "duration": 48,
    "start_time": "2021-11-14T16:54:52.640Z"
   },
   {
    "duration": 1188,
    "start_time": "2021-11-14T16:54:52.691Z"
   },
   {
    "duration": 642,
    "start_time": "2021-11-14T16:54:53.882Z"
   },
   {
    "duration": 369,
    "start_time": "2021-11-14T16:54:54.527Z"
   },
   {
    "duration": 1198,
    "start_time": "2021-11-14T16:54:54.899Z"
   },
   {
    "duration": 299,
    "start_time": "2021-11-14T16:56:07.885Z"
   },
   {
    "duration": 299,
    "start_time": "2021-11-14T16:56:30.610Z"
   },
   {
    "duration": 1374,
    "start_time": "2021-11-14T16:57:07.775Z"
   },
   {
    "duration": 1473,
    "start_time": "2021-11-15T00:40:00.656Z"
   },
   {
    "duration": 1634,
    "start_time": "2021-11-15T00:40:02.132Z"
   },
   {
    "duration": 443,
    "start_time": "2021-11-15T00:40:03.769Z"
   },
   {
    "duration": 29,
    "start_time": "2021-11-15T00:40:04.215Z"
   },
   {
    "duration": 23,
    "start_time": "2021-11-15T00:40:04.247Z"
   },
   {
    "duration": 220,
    "start_time": "2021-11-15T00:40:04.273Z"
   },
   {
    "duration": 352,
    "start_time": "2021-11-15T00:40:04.495Z"
   },
   {
    "duration": 22,
    "start_time": "2021-11-15T00:40:04.851Z"
   },
   {
    "duration": 83,
    "start_time": "2021-11-15T00:40:04.876Z"
   },
   {
    "duration": 2381,
    "start_time": "2021-11-15T00:40:04.962Z"
   },
   {
    "duration": 344,
    "start_time": "2021-11-15T00:40:07.346Z"
   },
   {
    "duration": 487,
    "start_time": "2021-11-15T00:40:07.693Z"
   },
   {
    "duration": 369,
    "start_time": "2021-11-15T00:40:08.183Z"
   },
   {
    "duration": 37,
    "start_time": "2021-11-15T00:40:08.555Z"
   },
   {
    "duration": 392,
    "start_time": "2021-11-15T00:40:10.369Z"
   },
   {
    "duration": 17,
    "start_time": "2021-11-15T01:55:05.573Z"
   },
   {
    "duration": 26,
    "start_time": "2021-11-15T01:55:16.498Z"
   },
   {
    "duration": 302,
    "start_time": "2021-11-15T02:09:11.542Z"
   },
   {
    "duration": 22,
    "start_time": "2021-11-15T02:09:17.932Z"
   },
   {
    "duration": 5,
    "start_time": "2021-11-15T02:11:59.695Z"
   },
   {
    "duration": 1630,
    "start_time": "2021-11-15T02:11:59.703Z"
   },
   {
    "duration": 456,
    "start_time": "2021-11-15T02:12:01.335Z"
   },
   {
    "duration": 39,
    "start_time": "2021-11-15T02:12:01.794Z"
   },
   {
    "duration": 18,
    "start_time": "2021-11-15T02:12:01.835Z"
   },
   {
    "duration": 195,
    "start_time": "2021-11-15T02:12:01.856Z"
   },
   {
    "duration": 338,
    "start_time": "2021-11-15T02:12:02.053Z"
   },
   {
    "duration": 40,
    "start_time": "2021-11-15T02:12:02.395Z"
   },
   {
    "duration": 46,
    "start_time": "2021-11-15T02:12:02.438Z"
   },
   {
    "duration": 1746,
    "start_time": "2021-11-15T02:12:02.486Z"
   },
   {
    "duration": 320,
    "start_time": "2021-11-15T02:12:04.235Z"
   },
   {
    "duration": 346,
    "start_time": "2021-11-15T02:12:04.558Z"
   },
   {
    "duration": 262,
    "start_time": "2021-11-15T02:12:04.907Z"
   },
   {
    "duration": 29,
    "start_time": "2021-11-15T02:12:05.172Z"
   },
   {
    "duration": 323,
    "start_time": "2021-11-15T02:12:05.203Z"
   },
   {
    "duration": 83,
    "start_time": "2021-11-15T02:12:05.529Z"
   },
   {
    "duration": 132,
    "start_time": "2021-11-15T02:12:05.630Z"
   },
   {
    "duration": 31,
    "start_time": "2021-11-15T02:12:05.765Z"
   },
   {
    "duration": 1247,
    "start_time": "2021-11-15T02:12:05.798Z"
   },
   {
    "duration": 13,
    "start_time": "2021-11-15T02:12:07.047Z"
   },
   {
    "duration": 5,
    "start_time": "2021-11-15T02:12:07.068Z"
   },
   {
    "duration": 61,
    "start_time": "2021-11-15T02:12:07.075Z"
   },
   {
    "duration": 34,
    "start_time": "2021-11-15T02:12:07.140Z"
   },
   {
    "duration": 22,
    "start_time": "2021-11-15T02:12:07.177Z"
   },
   {
    "duration": 297,
    "start_time": "2021-11-15T02:12:07.201Z"
   },
   {
    "duration": 21,
    "start_time": "2021-11-15T03:34:10.602Z"
   },
   {
    "duration": 317,
    "start_time": "2021-11-15T03:34:13.142Z"
   },
   {
    "duration": 309,
    "start_time": "2021-11-15T03:34:20.070Z"
   },
   {
    "duration": 22,
    "start_time": "2021-11-15T03:34:22.534Z"
   },
   {
    "duration": 278,
    "start_time": "2021-11-15T03:34:25.188Z"
   },
   {
    "duration": 194,
    "start_time": "2021-11-15T03:42:33.973Z"
   },
   {
    "duration": 31,
    "start_time": "2021-11-15T03:42:53.534Z"
   },
   {
    "duration": 290,
    "start_time": "2021-11-15T03:43:04.392Z"
   },
   {
    "duration": 363,
    "start_time": "2021-11-15T03:50:12.027Z"
   },
   {
    "duration": 196,
    "start_time": "2021-11-15T03:52:44.437Z"
   },
   {
    "duration": 7088,
    "start_time": "2021-11-15T03:52:56.893Z"
   },
   {
    "duration": 4,
    "start_time": "2021-11-15T03:53:09.453Z"
   },
   {
    "duration": 1497,
    "start_time": "2021-11-15T03:53:09.460Z"
   },
   {
    "duration": 384,
    "start_time": "2021-11-15T03:53:10.960Z"
   },
   {
    "duration": 19,
    "start_time": "2021-11-15T03:53:11.346Z"
   },
   {
    "duration": 17,
    "start_time": "2021-11-15T03:53:11.368Z"
   },
   {
    "duration": 209,
    "start_time": "2021-11-15T03:53:11.387Z"
   },
   {
    "duration": 334,
    "start_time": "2021-11-15T03:53:11.599Z"
   },
   {
    "duration": 23,
    "start_time": "2021-11-15T03:53:11.936Z"
   },
   {
    "duration": 84,
    "start_time": "2021-11-15T03:53:11.962Z"
   },
   {
    "duration": 1783,
    "start_time": "2021-11-15T03:53:12.049Z"
   },
   {
    "duration": 252,
    "start_time": "2021-11-15T03:53:13.835Z"
   },
   {
    "duration": 351,
    "start_time": "2021-11-15T03:53:14.089Z"
   },
   {
    "duration": 261,
    "start_time": "2021-11-15T03:53:14.443Z"
   },
   {
    "duration": 7967,
    "start_time": "2021-11-15T03:53:15.906Z"
   },
   {
    "duration": 190,
    "start_time": "2021-11-15T03:54:00.342Z"
   },
   {
    "duration": 349,
    "start_time": "2021-11-15T03:54:06.446Z"
   },
   {
    "duration": 285,
    "start_time": "2021-11-15T03:54:57.052Z"
   },
   {
    "duration": 337,
    "start_time": "2021-11-15T03:58:13.278Z"
   },
   {
    "duration": 343,
    "start_time": "2021-11-15T03:59:15.721Z"
   },
   {
    "duration": 362,
    "start_time": "2021-11-15T04:02:48.232Z"
   },
   {
    "duration": 344,
    "start_time": "2021-11-15T04:03:49.434Z"
   },
   {
    "duration": 404,
    "start_time": "2021-11-15T04:07:14.452Z"
   }
  ],
  "kernelspec": {
   "display_name": "Python 3 (ipykernel)",
   "language": "python",
   "name": "python3"
  },
  "language_info": {
   "codemirror_mode": {
    "name": "ipython",
    "version": 3
   },
   "file_extension": ".py",
   "mimetype": "text/x-python",
   "name": "python",
   "nbconvert_exporter": "python",
   "pygments_lexer": "ipython3",
   "version": "3.9.7"
  },
  "toc": {
   "base_numbering": 1,
   "nav_menu": {},
   "number_sections": true,
   "sideBar": true,
   "skip_h1_title": true,
   "title_cell": "Table of Contents",
   "title_sidebar": "Contents",
   "toc_cell": false,
   "toc_position": {},
   "toc_section_display": true,
   "toc_window_display": false
  }
 },
 "nbformat": 4,
 "nbformat_minor": 2
}
