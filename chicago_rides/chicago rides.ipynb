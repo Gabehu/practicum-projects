{
 "cells": [
  {
   "cell_type": "markdown",
   "metadata": {},
   "source": [
    "# Research on rides in chicago\n",
    "You're working as an analyst for Zuber, a new ride-sharing company that's launching in Chicago. Your task is to find patterns in the available information. You want to understand passenger preferences and the impact of external factors on rides.\n",
    "\n",
    "Working with a database, you'll analyze data from competitors and test a hypothesis about the impact of weather on ride frequency."
   ]
  },
  {
   "cell_type": "markdown",
   "metadata": {},
   "source": [
    "# Step 1\n",
    "\n",
    "- Import the files\n",
    "- study the data\n",
    "- make sure the data types are correct\n",
    "- identify the top 10 neighborhoods in terms of drop-offs\n",
    "- make graphs: taxi companies and number of rides, top 10 neighborhoods by number of dropoffs\n",
    "- draw conclusions based on each graph and explain the results"
   ]
  },
  {
   "cell_type": "code",
   "execution_count": 1,
   "metadata": {},
   "outputs": [],
   "source": [
    "#import pandas and other important libraries\n",
    "import pandas as pd\n",
    "import warnings\n",
    "import matplotlib.pyplot as plt\n",
    "import numpy as np\n",
    "from scipy import stats as st\n",
    "\n",
    "warnings.filterwarnings(\"ignore\")"
   ]
  },
  {
   "cell_type": "code",
   "execution_count": 2,
   "metadata": {},
   "outputs": [],
   "source": [
    "#read all input data and assign each dataset to a variable\n",
    "try: \n",
    "    company_trips = pd.read_csv('project_sql_result_01.csv')\n",
    "except:\n",
    "    company_trips = pd.read_csv('/datasets/project_sql_result_01.csv')\n",
    "    \n",
    "try:\n",
    "    dropoff_trips = pd.read_csv('project_sql_result_04.csv')\n",
    "except:\n",
    "    dropoff_trips = pd.read_csv('/datasets/project_sql_result_04.csv')"
   ]
  },
  {
   "cell_type": "code",
   "execution_count": 3,
   "metadata": {},
   "outputs": [
    {
     "name": "stdout",
     "output_type": "stream",
     "text": [
      "<class 'pandas.core.frame.DataFrame'>\n",
      "RangeIndex: 64 entries, 0 to 63\n",
      "Data columns (total 2 columns):\n",
      "company_name    64 non-null object\n",
      "trips_amount    64 non-null int64\n",
      "dtypes: int64(1), object(1)\n",
      "memory usage: 1.1+ KB\n"
     ]
    },
    {
     "data": {
      "text/html": [
       "<div>\n",
       "<style scoped>\n",
       "    .dataframe tbody tr th:only-of-type {\n",
       "        vertical-align: middle;\n",
       "    }\n",
       "\n",
       "    .dataframe tbody tr th {\n",
       "        vertical-align: top;\n",
       "    }\n",
       "\n",
       "    .dataframe thead th {\n",
       "        text-align: right;\n",
       "    }\n",
       "</style>\n",
       "<table border=\"1\" class=\"dataframe\">\n",
       "  <thead>\n",
       "    <tr style=\"text-align: right;\">\n",
       "      <th></th>\n",
       "      <th>company_name</th>\n",
       "      <th>trips_amount</th>\n",
       "    </tr>\n",
       "  </thead>\n",
       "  <tbody>\n",
       "    <tr>\n",
       "      <td>0</td>\n",
       "      <td>Flash Cab</td>\n",
       "      <td>19558</td>\n",
       "    </tr>\n",
       "    <tr>\n",
       "      <td>1</td>\n",
       "      <td>Taxi Affiliation Services</td>\n",
       "      <td>11422</td>\n",
       "    </tr>\n",
       "    <tr>\n",
       "      <td>2</td>\n",
       "      <td>Medallion Leasing</td>\n",
       "      <td>10367</td>\n",
       "    </tr>\n",
       "    <tr>\n",
       "      <td>3</td>\n",
       "      <td>Yellow Cab</td>\n",
       "      <td>9888</td>\n",
       "    </tr>\n",
       "    <tr>\n",
       "      <td>4</td>\n",
       "      <td>Taxi Affiliation Service Yellow</td>\n",
       "      <td>9299</td>\n",
       "    </tr>\n",
       "    <tr>\n",
       "      <td>...</td>\n",
       "      <td>...</td>\n",
       "      <td>...</td>\n",
       "    </tr>\n",
       "    <tr>\n",
       "      <td>59</td>\n",
       "      <td>4053 - 40193 Adwar H. Nikola</td>\n",
       "      <td>7</td>\n",
       "    </tr>\n",
       "    <tr>\n",
       "      <td>60</td>\n",
       "      <td>2733 - 74600 Benny Jona</td>\n",
       "      <td>7</td>\n",
       "    </tr>\n",
       "    <tr>\n",
       "      <td>61</td>\n",
       "      <td>5874 - 73628 Sergey Cab Corp.</td>\n",
       "      <td>5</td>\n",
       "    </tr>\n",
       "    <tr>\n",
       "      <td>62</td>\n",
       "      <td>2241 - 44667 - Felman Corp</td>\n",
       "      <td>3</td>\n",
       "    </tr>\n",
       "    <tr>\n",
       "      <td>63</td>\n",
       "      <td>3556 - 36214 RC Andrews Cab</td>\n",
       "      <td>2</td>\n",
       "    </tr>\n",
       "  </tbody>\n",
       "</table>\n",
       "<p>64 rows × 2 columns</p>\n",
       "</div>"
      ],
      "text/plain": [
       "                       company_name  trips_amount\n",
       "0                         Flash Cab         19558\n",
       "1         Taxi Affiliation Services         11422\n",
       "2                 Medallion Leasing         10367\n",
       "3                        Yellow Cab          9888\n",
       "4   Taxi Affiliation Service Yellow          9299\n",
       "..                              ...           ...\n",
       "59     4053 - 40193 Adwar H. Nikola             7\n",
       "60          2733 - 74600 Benny Jona             7\n",
       "61    5874 - 73628 Sergey Cab Corp.             5\n",
       "62       2241 - 44667 - Felman Corp             3\n",
       "63      3556 - 36214 RC Andrews Cab             2\n",
       "\n",
       "[64 rows x 2 columns]"
      ]
     },
     "execution_count": 3,
     "metadata": {},
     "output_type": "execute_result"
    }
   ],
   "source": [
    "company_trips.info()\n",
    "company_trips"
   ]
  },
  {
   "cell_type": "markdown",
   "metadata": {},
   "source": [
    "Datatypes look fine for company_trips"
   ]
  },
  {
   "cell_type": "code",
   "execution_count": 4,
   "metadata": {},
   "outputs": [
    {
     "name": "stdout",
     "output_type": "stream",
     "text": [
      "<class 'pandas.core.frame.DataFrame'>\n",
      "RangeIndex: 94 entries, 0 to 93\n",
      "Data columns (total 2 columns):\n",
      "dropoff_location_name    94 non-null object\n",
      "average_trips            94 non-null float64\n",
      "dtypes: float64(1), object(1)\n",
      "memory usage: 1.6+ KB\n"
     ]
    },
    {
     "data": {
      "text/html": [
       "<div>\n",
       "<style scoped>\n",
       "    .dataframe tbody tr th:only-of-type {\n",
       "        vertical-align: middle;\n",
       "    }\n",
       "\n",
       "    .dataframe tbody tr th {\n",
       "        vertical-align: top;\n",
       "    }\n",
       "\n",
       "    .dataframe thead th {\n",
       "        text-align: right;\n",
       "    }\n",
       "</style>\n",
       "<table border=\"1\" class=\"dataframe\">\n",
       "  <thead>\n",
       "    <tr style=\"text-align: right;\">\n",
       "      <th></th>\n",
       "      <th>dropoff_location_name</th>\n",
       "      <th>average_trips</th>\n",
       "    </tr>\n",
       "  </thead>\n",
       "  <tbody>\n",
       "    <tr>\n",
       "      <td>0</td>\n",
       "      <td>Loop</td>\n",
       "      <td>10727.466667</td>\n",
       "    </tr>\n",
       "    <tr>\n",
       "      <td>1</td>\n",
       "      <td>River North</td>\n",
       "      <td>9523.666667</td>\n",
       "    </tr>\n",
       "    <tr>\n",
       "      <td>2</td>\n",
       "      <td>Streeterville</td>\n",
       "      <td>6664.666667</td>\n",
       "    </tr>\n",
       "    <tr>\n",
       "      <td>3</td>\n",
       "      <td>West Loop</td>\n",
       "      <td>5163.666667</td>\n",
       "    </tr>\n",
       "    <tr>\n",
       "      <td>4</td>\n",
       "      <td>O'Hare</td>\n",
       "      <td>2546.900000</td>\n",
       "    </tr>\n",
       "    <tr>\n",
       "      <td>...</td>\n",
       "      <td>...</td>\n",
       "      <td>...</td>\n",
       "    </tr>\n",
       "    <tr>\n",
       "      <td>89</td>\n",
       "      <td>Mount Greenwood</td>\n",
       "      <td>3.137931</td>\n",
       "    </tr>\n",
       "    <tr>\n",
       "      <td>90</td>\n",
       "      <td>Hegewisch</td>\n",
       "      <td>3.117647</td>\n",
       "    </tr>\n",
       "    <tr>\n",
       "      <td>91</td>\n",
       "      <td>Burnside</td>\n",
       "      <td>2.333333</td>\n",
       "    </tr>\n",
       "    <tr>\n",
       "      <td>92</td>\n",
       "      <td>East Side</td>\n",
       "      <td>1.961538</td>\n",
       "    </tr>\n",
       "    <tr>\n",
       "      <td>93</td>\n",
       "      <td>Riverdale</td>\n",
       "      <td>1.800000</td>\n",
       "    </tr>\n",
       "  </tbody>\n",
       "</table>\n",
       "<p>94 rows × 2 columns</p>\n",
       "</div>"
      ],
      "text/plain": [
       "   dropoff_location_name  average_trips\n",
       "0                   Loop   10727.466667\n",
       "1            River North    9523.666667\n",
       "2          Streeterville    6664.666667\n",
       "3              West Loop    5163.666667\n",
       "4                 O'Hare    2546.900000\n",
       "..                   ...            ...\n",
       "89       Mount Greenwood       3.137931\n",
       "90             Hegewisch       3.117647\n",
       "91              Burnside       2.333333\n",
       "92             East Side       1.961538\n",
       "93             Riverdale       1.800000\n",
       "\n",
       "[94 rows x 2 columns]"
      ]
     },
     "execution_count": 4,
     "metadata": {},
     "output_type": "execute_result"
    }
   ],
   "source": [
    "dropoff_trips.info()\n",
    "dropoff_trips"
   ]
  },
  {
   "cell_type": "markdown",
   "metadata": {},
   "source": [
    "Datatypes looks like it needs changing. Convert average trips to integer"
   ]
  },
  {
   "cell_type": "code",
   "execution_count": 5,
   "metadata": {},
   "outputs": [
    {
     "name": "stdout",
     "output_type": "stream",
     "text": [
      "<class 'pandas.core.frame.DataFrame'>\n",
      "RangeIndex: 94 entries, 0 to 93\n",
      "Data columns (total 2 columns):\n",
      "dropoff_location_name    94 non-null object\n",
      "average_trips            94 non-null int64\n",
      "dtypes: int64(1), object(1)\n",
      "memory usage: 1.6+ KB\n"
     ]
    },
    {
     "data": {
      "text/html": [
       "<div>\n",
       "<style scoped>\n",
       "    .dataframe tbody tr th:only-of-type {\n",
       "        vertical-align: middle;\n",
       "    }\n",
       "\n",
       "    .dataframe tbody tr th {\n",
       "        vertical-align: top;\n",
       "    }\n",
       "\n",
       "    .dataframe thead th {\n",
       "        text-align: right;\n",
       "    }\n",
       "</style>\n",
       "<table border=\"1\" class=\"dataframe\">\n",
       "  <thead>\n",
       "    <tr style=\"text-align: right;\">\n",
       "      <th></th>\n",
       "      <th>dropoff_location_name</th>\n",
       "      <th>average_trips</th>\n",
       "    </tr>\n",
       "  </thead>\n",
       "  <tbody>\n",
       "    <tr>\n",
       "      <td>0</td>\n",
       "      <td>Loop</td>\n",
       "      <td>10727</td>\n",
       "    </tr>\n",
       "    <tr>\n",
       "      <td>1</td>\n",
       "      <td>River North</td>\n",
       "      <td>9523</td>\n",
       "    </tr>\n",
       "    <tr>\n",
       "      <td>2</td>\n",
       "      <td>Streeterville</td>\n",
       "      <td>6664</td>\n",
       "    </tr>\n",
       "    <tr>\n",
       "      <td>3</td>\n",
       "      <td>West Loop</td>\n",
       "      <td>5163</td>\n",
       "    </tr>\n",
       "    <tr>\n",
       "      <td>4</td>\n",
       "      <td>O'Hare</td>\n",
       "      <td>2546</td>\n",
       "    </tr>\n",
       "    <tr>\n",
       "      <td>5</td>\n",
       "      <td>Lake View</td>\n",
       "      <td>2420</td>\n",
       "    </tr>\n",
       "    <tr>\n",
       "      <td>6</td>\n",
       "      <td>Grant Park</td>\n",
       "      <td>2068</td>\n",
       "    </tr>\n",
       "    <tr>\n",
       "      <td>7</td>\n",
       "      <td>Museum Campus</td>\n",
       "      <td>1510</td>\n",
       "    </tr>\n",
       "    <tr>\n",
       "      <td>8</td>\n",
       "      <td>Gold Coast</td>\n",
       "      <td>1364</td>\n",
       "    </tr>\n",
       "    <tr>\n",
       "      <td>9</td>\n",
       "      <td>Sheffield &amp; DePaul</td>\n",
       "      <td>1259</td>\n",
       "    </tr>\n",
       "  </tbody>\n",
       "</table>\n",
       "</div>"
      ],
      "text/plain": [
       "  dropoff_location_name  average_trips\n",
       "0                  Loop          10727\n",
       "1           River North           9523\n",
       "2         Streeterville           6664\n",
       "3             West Loop           5163\n",
       "4                O'Hare           2546\n",
       "5             Lake View           2420\n",
       "6            Grant Park           2068\n",
       "7         Museum Campus           1510\n",
       "8            Gold Coast           1364\n",
       "9    Sheffield & DePaul           1259"
      ]
     },
     "execution_count": 5,
     "metadata": {},
     "output_type": "execute_result"
    }
   ],
   "source": [
    "dropoff_trips['average_trips'] = dropoff_trips['average_trips'].astype('int')\n",
    "dropoff_trips.info()\n",
    "\n",
    "#sorting from most popular and saving top 10 dropoff\n",
    "top_ten_dropoff = dropoff_trips.sort_values('average_trips', ascending=False).head(10)\n",
    "top_ten_dropoff"
   ]
  },
  {
   "cell_type": "code",
   "execution_count": 6,
   "metadata": {
    "scrolled": false
   },
   "outputs": [
    {
     "data": {
      "text/plain": [
       "Text(0, 0.5, 'Number of average trips')"
      ]
     },
     "execution_count": 6,
     "metadata": {},
     "output_type": "execute_result"
    },
    {
     "data": {
      "image/png": "[encoded data removed]",
      "text/plain": [
       "<Figure size 432x288 with 1 Axes>"
      ]
     },
     "metadata": {
      "needs_background": "light"
     },
     "output_type": "display_data"
    }
   ],
   "source": [
    "top_ten_dropoff.set_index(\"dropoff_location_name\",drop=True,inplace=True)\n",
    "\n",
    "top_ten_dropoff.plot(kind='bar')\n",
    "plt.xlabel('Dropoff location name')\n",
    "plt.ylabel('Number of average trips')"
   ]
  },
  {
   "cell_type": "markdown",
   "metadata": {},
   "source": [
    "# Findings from the graph\n",
    "As we can see, Loop is the most popular location, followed by River North, and so on. There seems to be a steep drop from West Loop to O'Hare, and plateaus from there."
   ]
  },
  {
   "cell_type": "code",
   "execution_count": 18,
   "metadata": {},
   "outputs": [
    {
     "data": {
      "text/plain": [
       "Text(0, 0.5, 'Number of trips')"
      ]
     },
     "execution_count": 18,
     "metadata": {},
     "output_type": "execute_result"
    },
    {
     "data": {
      "image/png": "[encoded data removed]",
      "text/plain": [
       "<Figure size 1080x360 with 1 Axes>"
      ]
     },
     "metadata": {
      "needs_background": "light"
     },
     "output_type": "display_data"
    }
   ],
   "source": [
    "company_trips.plot(kind='bar', linewidth = 20, figsize=(15,5))\n",
    "plt.xlabel('Company names')\n",
    "plt.ylabel('Number of trips')\n"
   ]
  },
  {
   "cell_type": "code",
   "execution_count": 120,
   "metadata": {},
   "outputs": [
    {
     "data": {
      "text/plain": [
       "Text(0, 0.5, 'Number of trips')"
      ]
     },
     "execution_count": 120,
     "metadata": {},
     "output_type": "execute_result"
    },
    {
     "data": {
      "image/png": "[encoded data removed]",
      "text/plain": [
       "<Figure size 432x288 with 1 Axes>"
      ]
     },
     "metadata": {
      "needs_background": "light"
     },
     "output_type": "display_data"
    }
   ],
   "source": [
    "top_ten_companies = company_trips.sort_values('trips_amount', ascending=False).head(10)\n",
    "top_ten_companies.plot(kind='bar')\n",
    "plt.xlabel('Company names')\n",
    "plt.ylabel('Number of trips')"
   ]
  },
  {
   "cell_type": "markdown",
   "metadata": {},
   "source": [
    "# Findings from the graphs\n",
    "While the initial graph is hard to see, on the second graph we can see that the company Flash Cab has a vast lead from the other companies."
   ]
  },
  {
   "cell_type": "markdown",
   "metadata": {},
   "source": [
    "# Conclusion from all graphs\n",
    "Judging by locations, we can see that the Loop and River North are the most popular dropoff locations from taxis. Looking at the company graphs, we can see that Flash Cab has a clear lead from the other companies with a steep difference of 8136 trips from Flash Cab to Taxi Affiliation Services. "
   ]
  },
  {
   "cell_type": "markdown",
   "metadata": {},
   "source": [
    "# Step 2\n",
    "\n",
    " - Test the hypothesis:\n",
    "    \"The average duration of rides from the Loop to O'Hare International Airport changes on rainy Saturdays.\"\n",
    " - Decide where to set the significance level (alpha)\n",
    " - Explain how you formed the null and alternative hypotheses\n",
    " - Explain what criterion you used to test the hypotheses and why"
   ]
  },
  {
   "cell_type": "code",
   "execution_count": 121,
   "metadata": {},
   "outputs": [],
   "source": [
    "#read new input data and assign the dataset to a variable\n",
    "try: \n",
    "    ride_data = pd.read_csv('project_sql_result_07')\n",
    "except:\n",
    "    ride_data = pd.read_csv('/datasets/project_sql_result_07.csv')"
   ]
  },
  {
   "cell_type": "code",
   "execution_count": 122,
   "metadata": {},
   "outputs": [
    {
     "name": "stdout",
     "output_type": "stream",
     "text": [
      "<class 'pandas.core.frame.DataFrame'>\n",
      "RangeIndex: 1068 entries, 0 to 1067\n",
      "Data columns (total 3 columns):\n",
      "start_ts              1068 non-null object\n",
      "weather_conditions    1068 non-null object\n",
      "duration_seconds      1068 non-null float64\n",
      "dtypes: float64(1), object(2)\n",
      "memory usage: 25.2+ KB\n"
     ]
    },
    {
     "data": {
      "text/html": [
       "<div>\n",
       "<style scoped>\n",
       "    .dataframe tbody tr th:only-of-type {\n",
       "        vertical-align: middle;\n",
       "    }\n",
       "\n",
       "    .dataframe tbody tr th {\n",
       "        vertical-align: top;\n",
       "    }\n",
       "\n",
       "    .dataframe thead th {\n",
       "        text-align: right;\n",
       "    }\n",
       "</style>\n",
       "<table border=\"1\" class=\"dataframe\">\n",
       "  <thead>\n",
       "    <tr style=\"text-align: right;\">\n",
       "      <th></th>\n",
       "      <th>start_ts</th>\n",
       "      <th>weather_conditions</th>\n",
       "      <th>duration_seconds</th>\n",
       "    </tr>\n",
       "  </thead>\n",
       "  <tbody>\n",
       "    <tr>\n",
       "      <td>0</td>\n",
       "      <td>2017-11-25 16:00:00</td>\n",
       "      <td>Good</td>\n",
       "      <td>2410.0</td>\n",
       "    </tr>\n",
       "    <tr>\n",
       "      <td>1</td>\n",
       "      <td>2017-11-25 14:00:00</td>\n",
       "      <td>Good</td>\n",
       "      <td>1920.0</td>\n",
       "    </tr>\n",
       "    <tr>\n",
       "      <td>2</td>\n",
       "      <td>2017-11-25 12:00:00</td>\n",
       "      <td>Good</td>\n",
       "      <td>1543.0</td>\n",
       "    </tr>\n",
       "    <tr>\n",
       "      <td>3</td>\n",
       "      <td>2017-11-04 10:00:00</td>\n",
       "      <td>Good</td>\n",
       "      <td>2512.0</td>\n",
       "    </tr>\n",
       "    <tr>\n",
       "      <td>4</td>\n",
       "      <td>2017-11-11 07:00:00</td>\n",
       "      <td>Good</td>\n",
       "      <td>1440.0</td>\n",
       "    </tr>\n",
       "    <tr>\n",
       "      <td>...</td>\n",
       "      <td>...</td>\n",
       "      <td>...</td>\n",
       "      <td>...</td>\n",
       "    </tr>\n",
       "    <tr>\n",
       "      <td>1063</td>\n",
       "      <td>2017-11-25 11:00:00</td>\n",
       "      <td>Good</td>\n",
       "      <td>0.0</td>\n",
       "    </tr>\n",
       "    <tr>\n",
       "      <td>1064</td>\n",
       "      <td>2017-11-11 10:00:00</td>\n",
       "      <td>Good</td>\n",
       "      <td>1318.0</td>\n",
       "    </tr>\n",
       "    <tr>\n",
       "      <td>1065</td>\n",
       "      <td>2017-11-11 13:00:00</td>\n",
       "      <td>Good</td>\n",
       "      <td>2100.0</td>\n",
       "    </tr>\n",
       "    <tr>\n",
       "      <td>1066</td>\n",
       "      <td>2017-11-11 08:00:00</td>\n",
       "      <td>Good</td>\n",
       "      <td>1380.0</td>\n",
       "    </tr>\n",
       "    <tr>\n",
       "      <td>1067</td>\n",
       "      <td>2017-11-04 16:00:00</td>\n",
       "      <td>Bad</td>\n",
       "      <td>2834.0</td>\n",
       "    </tr>\n",
       "  </tbody>\n",
       "</table>\n",
       "<p>1068 rows × 3 columns</p>\n",
       "</div>"
      ],
      "text/plain": [
       "                 start_ts weather_conditions  duration_seconds\n",
       "0     2017-11-25 16:00:00               Good            2410.0\n",
       "1     2017-11-25 14:00:00               Good            1920.0\n",
       "2     2017-11-25 12:00:00               Good            1543.0\n",
       "3     2017-11-04 10:00:00               Good            2512.0\n",
       "4     2017-11-11 07:00:00               Good            1440.0\n",
       "...                   ...                ...               ...\n",
       "1063  2017-11-25 11:00:00               Good               0.0\n",
       "1064  2017-11-11 10:00:00               Good            1318.0\n",
       "1065  2017-11-11 13:00:00               Good            2100.0\n",
       "1066  2017-11-11 08:00:00               Good            1380.0\n",
       "1067  2017-11-04 16:00:00                Bad            2834.0\n",
       "\n",
       "[1068 rows x 3 columns]"
      ]
     },
     "execution_count": 122,
     "metadata": {},
     "output_type": "execute_result"
    }
   ],
   "source": [
    "#checking info, may need to convert datetime\n",
    "ride_data.info()\n",
    "ride_data"
   ]
  },
  {
   "cell_type": "code",
   "execution_count": 123,
   "metadata": {},
   "outputs": [
    {
     "name": "stdout",
     "output_type": "stream",
     "text": [
      "<class 'pandas.core.frame.DataFrame'>\n",
      "RangeIndex: 1068 entries, 0 to 1067\n",
      "Data columns (total 3 columns):\n",
      "start_ts              1068 non-null datetime64[ns]\n",
      "weather_conditions    1068 non-null object\n",
      "duration_seconds      1068 non-null int64\n",
      "dtypes: datetime64[ns](1), int64(1), object(1)\n",
      "memory usage: 25.2+ KB\n"
     ]
    },
    {
     "data": {
      "text/html": [
       "<div>\n",
       "<style scoped>\n",
       "    .dataframe tbody tr th:only-of-type {\n",
       "        vertical-align: middle;\n",
       "    }\n",
       "\n",
       "    .dataframe tbody tr th {\n",
       "        vertical-align: top;\n",
       "    }\n",
       "\n",
       "    .dataframe thead th {\n",
       "        text-align: right;\n",
       "    }\n",
       "</style>\n",
       "<table border=\"1\" class=\"dataframe\">\n",
       "  <thead>\n",
       "    <tr style=\"text-align: right;\">\n",
       "      <th></th>\n",
       "      <th>start_ts</th>\n",
       "      <th>weather_conditions</th>\n",
       "      <th>duration_seconds</th>\n",
       "    </tr>\n",
       "  </thead>\n",
       "  <tbody>\n",
       "    <tr>\n",
       "      <td>0</td>\n",
       "      <td>2017-11-25 16:00:00</td>\n",
       "      <td>Good</td>\n",
       "      <td>2410</td>\n",
       "    </tr>\n",
       "    <tr>\n",
       "      <td>1</td>\n",
       "      <td>2017-11-25 14:00:00</td>\n",
       "      <td>Good</td>\n",
       "      <td>1920</td>\n",
       "    </tr>\n",
       "    <tr>\n",
       "      <td>2</td>\n",
       "      <td>2017-11-25 12:00:00</td>\n",
       "      <td>Good</td>\n",
       "      <td>1543</td>\n",
       "    </tr>\n",
       "    <tr>\n",
       "      <td>3</td>\n",
       "      <td>2017-11-04 10:00:00</td>\n",
       "      <td>Good</td>\n",
       "      <td>2512</td>\n",
       "    </tr>\n",
       "    <tr>\n",
       "      <td>4</td>\n",
       "      <td>2017-11-11 07:00:00</td>\n",
       "      <td>Good</td>\n",
       "      <td>1440</td>\n",
       "    </tr>\n",
       "    <tr>\n",
       "      <td>...</td>\n",
       "      <td>...</td>\n",
       "      <td>...</td>\n",
       "      <td>...</td>\n",
       "    </tr>\n",
       "    <tr>\n",
       "      <td>1063</td>\n",
       "      <td>2017-11-25 11:00:00</td>\n",
       "      <td>Good</td>\n",
       "      <td>0</td>\n",
       "    </tr>\n",
       "    <tr>\n",
       "      <td>1064</td>\n",
       "      <td>2017-11-11 10:00:00</td>\n",
       "      <td>Good</td>\n",
       "      <td>1318</td>\n",
       "    </tr>\n",
       "    <tr>\n",
       "      <td>1065</td>\n",
       "      <td>2017-11-11 13:00:00</td>\n",
       "      <td>Good</td>\n",
       "      <td>2100</td>\n",
       "    </tr>\n",
       "    <tr>\n",
       "      <td>1066</td>\n",
       "      <td>2017-11-11 08:00:00</td>\n",
       "      <td>Good</td>\n",
       "      <td>1380</td>\n",
       "    </tr>\n",
       "    <tr>\n",
       "      <td>1067</td>\n",
       "      <td>2017-11-04 16:00:00</td>\n",
       "      <td>Bad</td>\n",
       "      <td>2834</td>\n",
       "    </tr>\n",
       "  </tbody>\n",
       "</table>\n",
       "<p>1068 rows × 3 columns</p>\n",
       "</div>"
      ],
      "text/plain": [
       "                start_ts weather_conditions  duration_seconds\n",
       "0    2017-11-25 16:00:00               Good              2410\n",
       "1    2017-11-25 14:00:00               Good              1920\n",
       "2    2017-11-25 12:00:00               Good              1543\n",
       "3    2017-11-04 10:00:00               Good              2512\n",
       "4    2017-11-11 07:00:00               Good              1440\n",
       "...                  ...                ...               ...\n",
       "1063 2017-11-25 11:00:00               Good                 0\n",
       "1064 2017-11-11 10:00:00               Good              1318\n",
       "1065 2017-11-11 13:00:00               Good              2100\n",
       "1066 2017-11-11 08:00:00               Good              1380\n",
       "1067 2017-11-04 16:00:00                Bad              2834\n",
       "\n",
       "[1068 rows x 3 columns]"
      ]
     },
     "execution_count": 123,
     "metadata": {},
     "output_type": "execute_result"
    }
   ],
   "source": [
    "#converting to datetime and changing duration_seconds to int\n",
    "ride_data['start_ts'] = pd.to_datetime(ride_data['start_ts'], format='%Y-%m-%dT%H:%M:%S')\n",
    "ride_data['duration_seconds'] = ride_data['duration_seconds'].astype('int')\n",
    "ride_data.info()\n",
    "ride_data"
   ]
  },
  {
   "cell_type": "markdown",
   "metadata": {},
   "source": [
    "# Null hypothesis\n",
    "\n",
    "The null hypothesis:\n",
    " - H0 is to see if the average duration of rides from the Loop to O'Hare International Airport STAYS the same on rainy Saturdays\n",
    " - H1 is to see if the average duration of rides from the Loop to O'Hare International Airport CHANGES on rainy Saturdays"
   ]
  },
  {
   "cell_type": "code",
   "execution_count": 124,
   "metadata": {},
   "outputs": [
    {
     "name": "stdout",
     "output_type": "stream",
     "text": [
      "p-value: 6.517970327099473e-12\n",
      "We reject the null hypothesis\n"
     ]
    }
   ],
   "source": [
    "#get rows with bad weather and rows with good weather while query on a saturday\n",
    "rainy_data = ride_data.query('weather_conditions == \"Bad\" & start_ts.dt.day_name() == \"Saturday\"')\n",
    "non_rainy_data = ride_data.query('weather_conditions == \"Good\" & start_ts.dt.day_name() == \"Saturday\"')\n",
    "\n",
    "alpha = 0.05\n",
    "\n",
    "result = st.ttest_ind(rainy_data['duration_seconds'], non_rainy_data['duration_seconds'], equal_var = True)\n",
    "\n",
    "print('p-value:', result.pvalue)\n",
    "\n",
    "if (result.pvalue < alpha):\n",
    "    print(\"We reject the null hypothesis\")\n",
    "else:\n",
    "    print(\"We cannot reject the null hypothesis\")"
   ]
  },
  {
   "cell_type": "markdown",
   "metadata": {},
   "source": [
    "# Conclusion and explanation\n",
    "\n",
    "I set the alpha at 0.05 because the majority of the data will be in the 95 percent, and it's just a basic standard that will work well for these type of tests.\n",
    "\n",
    "CONCLUSION FROM THIS TEST\n",
    "\n",
    "    The means are statistically different with a significance alpha value of 0.5, therefore We REJECT the NULL HYPOTHESIS "
   ]
  },
  {
   "cell_type": "markdown",
   "metadata": {},
   "source": [
    "# Final conclusion\n",
    "\n",
    "In terms of what companies are successful, Flash cab is vastly far ahead from the competition. Having a difference of 8,136 rides in only one day compared to the second top company, Taxi affiliation Services. In terms of popular drop off places, the Loop and River North are most popular, follwed by other locations not too far behind. \n",
    "\n",
    "From the null hypotheses that I have tested, we reject the null hypotheses that the average duration of rides from the Loop to O'Hare International Airport stays the same on rainy Saturdays. From this, we can conclude that there is a difference between rainy days on a saturday. "
   ]
  }
 ],
 "metadata": {
  "ExecuteTimeLog": [
   {
    "duration": 1568,
    "start_time": "2021-10-25T11:30:37.794Z"
   },
   {
    "duration": 401,
    "start_time": "2021-10-25T11:33:48.554Z"
   },
   {
    "duration": 17,
    "start_time": "2021-10-25T11:48:44.741Z"
   },
   {
    "duration": 17,
    "start_time": "2021-10-25T11:48:57.137Z"
   },
   {
    "duration": 39,
    "start_time": "2021-10-25T11:51:59.196Z"
   },
   {
    "duration": 9,
    "start_time": "2021-10-25T11:52:05.608Z"
   },
   {
    "duration": 17,
    "start_time": "2021-10-25T11:52:16.012Z"
   },
   {
    "duration": 11,
    "start_time": "2021-10-25T11:52:19.796Z"
   },
   {
    "duration": 14,
    "start_time": "2021-10-25T11:53:47.116Z"
   },
   {
    "duration": 14,
    "start_time": "2021-10-25T11:53:53.496Z"
   },
   {
    "duration": 300,
    "start_time": "2021-10-26T06:11:48.073Z"
   },
   {
    "duration": 1370,
    "start_time": "2021-10-26T06:11:53.970Z"
   },
   {
    "duration": 298,
    "start_time": "2021-10-26T06:11:55.343Z"
   },
   {
    "duration": 18,
    "start_time": "2021-10-26T06:24:19.574Z"
   },
   {
    "duration": 17,
    "start_time": "2021-10-26T06:24:30.453Z"
   },
   {
    "duration": 21,
    "start_time": "2021-10-26T06:31:19.682Z"
   },
   {
    "duration": 15,
    "start_time": "2021-10-26T06:32:11.338Z"
   },
   {
    "duration": 16,
    "start_time": "2021-10-26T06:36:40.257Z"
   },
   {
    "duration": 321,
    "start_time": "2021-10-26T06:43:48.919Z"
   },
   {
    "duration": 537,
    "start_time": "2021-10-26T06:44:44.521Z"
   },
   {
    "duration": 393,
    "start_time": "2021-10-26T06:52:08.546Z"
   },
   {
    "duration": 1195,
    "start_time": "2021-10-26T06:53:57.254Z"
   },
   {
    "duration": 349,
    "start_time": "2021-10-26T06:57:37.766Z"
   },
   {
    "duration": 326,
    "start_time": "2021-10-26T07:00:19.810Z"
   },
   {
    "duration": 539,
    "start_time": "2021-10-26T07:01:14.628Z"
   },
   {
    "duration": 529,
    "start_time": "2021-10-26T07:01:29.001Z"
   },
   {
    "duration": 542,
    "start_time": "2021-10-26T07:01:36.722Z"
   },
   {
    "duration": 397,
    "start_time": "2021-10-26T07:03:23.047Z"
   },
   {
    "duration": 2001,
    "start_time": "2021-10-26T07:04:58.251Z"
   },
   {
    "duration": 5,
    "start_time": "2021-10-26T07:07:23.012Z"
   },
   {
    "duration": 275,
    "start_time": "2021-10-26T07:07:42.211Z"
   },
   {
    "duration": 11,
    "start_time": "2021-10-26T07:07:58.455Z"
   },
   {
    "duration": 359,
    "start_time": "2021-10-26T07:08:19.148Z"
   },
   {
    "duration": 4,
    "start_time": "2021-10-26T10:28:01.329Z"
   },
   {
    "duration": 912,
    "start_time": "2021-10-26T10:28:01.336Z"
   },
   {
    "duration": 18,
    "start_time": "2021-10-26T10:28:02.251Z"
   },
   {
    "duration": 19,
    "start_time": "2021-10-26T10:28:02.272Z"
   },
   {
    "duration": 20,
    "start_time": "2021-10-26T10:28:02.294Z"
   },
   {
    "duration": 358,
    "start_time": "2021-10-26T10:28:02.317Z"
   },
   {
    "duration": 1957,
    "start_time": "2021-10-26T10:28:02.677Z"
   },
   {
    "duration": 383,
    "start_time": "2021-10-26T10:28:04.636Z"
   },
   {
    "duration": 206,
    "start_time": "2021-10-26T10:28:05.022Z"
   },
   {
    "duration": 16,
    "start_time": "2021-10-26T10:28:05.231Z"
   },
   {
    "duration": 23,
    "start_time": "2021-10-26T11:47:39.365Z"
   },
   {
    "duration": 19,
    "start_time": "2021-10-26T12:04:42.120Z"
   },
   {
    "duration": 13,
    "start_time": "2021-10-26T12:04:50.215Z"
   },
   {
    "duration": 20,
    "start_time": "2021-10-26T12:04:54.819Z"
   },
   {
    "duration": 20,
    "start_time": "2021-10-26T12:10:13.544Z"
   },
   {
    "duration": 151,
    "start_time": "2021-10-26T12:10:56.431Z"
   },
   {
    "duration": 8,
    "start_time": "2021-10-26T13:04:39.757Z"
   },
   {
    "duration": 25,
    "start_time": "2021-10-26T13:05:16.845Z"
   },
   {
    "duration": 238,
    "start_time": "2021-10-26T13:08:21.662Z"
   },
   {
    "duration": 262,
    "start_time": "2021-10-26T13:08:35.844Z"
   },
   {
    "duration": 323,
    "start_time": "2021-10-26T13:11:46.474Z"
   },
   {
    "duration": 278,
    "start_time": "2021-10-26T13:13:17.720Z"
   },
   {
    "duration": 292,
    "start_time": "2021-10-26T13:13:58.625Z"
   },
   {
    "duration": 14,
    "start_time": "2021-10-26T13:14:06.136Z"
   },
   {
    "duration": 22,
    "start_time": "2021-10-26T13:14:17.937Z"
   },
   {
    "duration": 4,
    "start_time": "2021-10-26T13:15:18.208Z"
   },
   {
    "duration": 468,
    "start_time": "2021-10-26T13:15:18.215Z"
   },
   {
    "duration": 17,
    "start_time": "2021-10-26T13:15:18.685Z"
   },
   {
    "duration": 21,
    "start_time": "2021-10-26T13:15:18.705Z"
   },
   {
    "duration": 17,
    "start_time": "2021-10-26T13:15:18.728Z"
   },
   {
    "duration": 332,
    "start_time": "2021-10-26T13:15:18.767Z"
   },
   {
    "duration": 2036,
    "start_time": "2021-10-26T13:15:19.102Z"
   },
   {
    "duration": 373,
    "start_time": "2021-10-26T13:15:21.141Z"
   },
   {
    "duration": 197,
    "start_time": "2021-10-26T13:15:21.518Z"
   },
   {
    "duration": 19,
    "start_time": "2021-10-26T13:15:21.718Z"
   },
   {
    "duration": 28,
    "start_time": "2021-10-26T13:15:21.740Z"
   },
   {
    "duration": 8,
    "start_time": "2021-10-26T13:15:21.770Z"
   },
   {
    "duration": 23,
    "start_time": "2021-10-26T13:15:25.106Z"
   },
   {
    "duration": 22,
    "start_time": "2021-10-26T13:16:15.734Z"
   },
   {
    "duration": 311,
    "start_time": "2021-10-26T13:25:39.946Z"
   },
   {
    "duration": 23,
    "start_time": "2021-10-26T13:27:16.594Z"
   },
   {
    "duration": 7,
    "start_time": "2021-10-26T13:27:37.281Z"
   },
   {
    "duration": 4,
    "start_time": "2021-10-26T13:32:44.262Z"
   },
   {
    "duration": 357,
    "start_time": "2021-10-26T13:32:44.269Z"
   },
   {
    "duration": 19,
    "start_time": "2021-10-26T13:32:44.629Z"
   },
   {
    "duration": 19,
    "start_time": "2021-10-26T13:32:44.651Z"
   },
   {
    "duration": 17,
    "start_time": "2021-10-26T13:32:44.672Z"
   },
   {
    "duration": 363,
    "start_time": "2021-10-26T13:32:44.691Z"
   },
   {
    "duration": 1980,
    "start_time": "2021-10-26T13:32:45.057Z"
   },
   {
    "duration": 492,
    "start_time": "2021-10-26T13:32:47.039Z"
   },
   {
    "duration": 203,
    "start_time": "2021-10-26T13:32:47.534Z"
   },
   {
    "duration": 19,
    "start_time": "2021-10-26T13:32:47.739Z"
   },
   {
    "duration": 28,
    "start_time": "2021-10-26T13:32:47.760Z"
   },
   {
    "duration": 26,
    "start_time": "2021-10-26T13:32:50.967Z"
   },
   {
    "duration": 14,
    "start_time": "2021-10-26T13:33:21.410Z"
   },
   {
    "duration": 12,
    "start_time": "2021-10-26T13:33:29.757Z"
   },
   {
    "duration": 20,
    "start_time": "2021-10-26T13:34:13.443Z"
   },
   {
    "duration": 23,
    "start_time": "2021-10-26T13:41:38.320Z"
   },
   {
    "duration": 313,
    "start_time": "2021-10-26T14:06:30.821Z"
   },
   {
    "duration": 28,
    "start_time": "2021-10-26T14:06:44.174Z"
   },
   {
    "duration": 23,
    "start_time": "2021-10-26T14:06:53.435Z"
   },
   {
    "duration": 5,
    "start_time": "2021-10-26T14:07:27.091Z"
   },
   {
    "duration": 370,
    "start_time": "2021-10-26T14:07:27.099Z"
   },
   {
    "duration": 23,
    "start_time": "2021-10-26T14:07:27.472Z"
   },
   {
    "duration": 18,
    "start_time": "2021-10-26T14:07:27.497Z"
   },
   {
    "duration": 64,
    "start_time": "2021-10-26T14:07:27.517Z"
   },
   {
    "duration": 362,
    "start_time": "2021-10-26T14:07:27.584Z"
   },
   {
    "duration": 2032,
    "start_time": "2021-10-26T14:07:27.949Z"
   },
   {
    "duration": 387,
    "start_time": "2021-10-26T14:07:29.983Z"
   },
   {
    "duration": 201,
    "start_time": "2021-10-26T14:07:30.375Z"
   },
   {
    "duration": 20,
    "start_time": "2021-10-26T14:07:30.579Z"
   },
   {
    "duration": 30,
    "start_time": "2021-10-26T14:07:30.602Z"
   },
   {
    "duration": 50,
    "start_time": "2021-10-26T14:07:30.634Z"
   },
   {
    "duration": 30,
    "start_time": "2021-10-26T14:07:30.687Z"
   },
   {
    "duration": 15,
    "start_time": "2021-10-26T14:07:30.720Z"
   },
   {
    "duration": 23,
    "start_time": "2021-10-26T14:08:13.659Z"
   },
   {
    "duration": 22,
    "start_time": "2021-10-26T14:11:29.645Z"
   },
   {
    "duration": 271,
    "start_time": "2021-10-26T14:39:14.664Z"
   },
   {
    "duration": 4,
    "start_time": "2021-10-26T14:39:51.977Z"
   },
   {
    "duration": 374,
    "start_time": "2021-10-26T14:39:51.983Z"
   },
   {
    "duration": 153,
    "start_time": "2021-10-26T14:39:52.359Z"
   },
   {
    "duration": 19,
    "start_time": "2021-10-26T14:39:52.515Z"
   },
   {
    "duration": 17,
    "start_time": "2021-10-26T14:39:52.568Z"
   },
   {
    "duration": 345,
    "start_time": "2021-10-26T14:39:59.977Z"
   },
   {
    "duration": 2103,
    "start_time": "2021-10-26T14:40:48.110Z"
   },
   {
    "duration": 375,
    "start_time": "2021-10-26T14:40:58.810Z"
   },
   {
    "duration": 5,
    "start_time": "2021-10-26T14:44:05.730Z"
   },
   {
    "duration": 381,
    "start_time": "2021-10-26T14:44:05.737Z"
   },
   {
    "duration": 17,
    "start_time": "2021-10-26T14:44:06.122Z"
   },
   {
    "duration": 20,
    "start_time": "2021-10-26T14:44:06.142Z"
   },
   {
    "duration": 22,
    "start_time": "2021-10-26T14:44:06.164Z"
   },
   {
    "duration": 394,
    "start_time": "2021-10-26T14:44:06.189Z"
   },
   {
    "duration": 2082,
    "start_time": "2021-10-26T14:44:06.586Z"
   },
   {
    "duration": 397,
    "start_time": "2021-10-26T14:44:08.671Z"
   },
   {
    "duration": 185,
    "start_time": "2021-10-26T14:44:09.073Z"
   },
   {
    "duration": 24,
    "start_time": "2021-10-26T14:44:09.261Z"
   },
   {
    "duration": 26,
    "start_time": "2021-10-26T14:44:09.289Z"
   },
   {
    "duration": 65,
    "start_time": "2021-10-26T14:44:09.318Z"
   },
   {
    "duration": 302,
    "start_time": "2021-10-27T11:18:22.132Z"
   },
   {
    "duration": 5,
    "start_time": "2021-10-27T11:18:26.669Z"
   },
   {
    "duration": 415,
    "start_time": "2021-10-27T11:18:26.677Z"
   },
   {
    "duration": 17,
    "start_time": "2021-10-27T11:18:27.095Z"
   },
   {
    "duration": 20,
    "start_time": "2021-10-27T11:18:27.116Z"
   },
   {
    "duration": 38,
    "start_time": "2021-10-27T11:18:27.139Z"
   },
   {
    "duration": 353,
    "start_time": "2021-10-27T11:18:27.180Z"
   },
   {
    "duration": 2237,
    "start_time": "2021-10-27T11:18:29.373Z"
   },
   {
    "duration": 333,
    "start_time": "2021-10-27T11:19:11.564Z"
   },
   {
    "duration": 5,
    "start_time": "2021-10-27T11:19:19.359Z"
   },
   {
    "duration": 448,
    "start_time": "2021-10-27T11:19:19.366Z"
   },
   {
    "duration": 22,
    "start_time": "2021-10-27T11:19:19.817Z"
   },
   {
    "duration": 23,
    "start_time": "2021-10-27T11:19:19.841Z"
   },
   {
    "duration": 18,
    "start_time": "2021-10-27T11:19:19.866Z"
   },
   {
    "duration": 362,
    "start_time": "2021-10-27T11:19:19.887Z"
   },
   {
    "duration": 1936,
    "start_time": "2021-10-27T11:19:22.059Z"
   },
   {
    "duration": 376,
    "start_time": "2021-10-27T11:25:18.832Z"
   },
   {
    "duration": 6,
    "start_time": "2021-10-27T11:25:22.732Z"
   },
   {
    "duration": 413,
    "start_time": "2021-10-27T11:25:22.742Z"
   },
   {
    "duration": 18,
    "start_time": "2021-10-27T11:25:23.158Z"
   },
   {
    "duration": 18,
    "start_time": "2021-10-27T11:25:23.179Z"
   },
   {
    "duration": 17,
    "start_time": "2021-10-27T11:25:23.199Z"
   },
   {
    "duration": 552,
    "start_time": "2021-10-27T11:25:23.218Z"
   },
   {
    "duration": 1942,
    "start_time": "2021-10-27T11:25:26.157Z"
   },
   {
    "duration": 303,
    "start_time": "2021-10-27T11:25:37.123Z"
   },
   {
    "duration": 4,
    "start_time": "2021-10-27T11:25:41.746Z"
   },
   {
    "duration": 472,
    "start_time": "2021-10-27T11:25:41.754Z"
   },
   {
    "duration": 18,
    "start_time": "2021-10-27T11:25:42.229Z"
   },
   {
    "duration": 20,
    "start_time": "2021-10-27T11:25:42.251Z"
   },
   {
    "duration": 18,
    "start_time": "2021-10-27T11:25:42.273Z"
   },
   {
    "duration": 354,
    "start_time": "2021-10-27T11:25:42.293Z"
   },
   {
    "duration": 1953,
    "start_time": "2021-10-27T11:25:43.635Z"
   },
   {
    "duration": 297,
    "start_time": "2021-10-27T11:25:53.141Z"
   },
   {
    "duration": 5,
    "start_time": "2021-10-27T11:25:56.476Z"
   },
   {
    "duration": 430,
    "start_time": "2021-10-27T11:25:56.483Z"
   },
   {
    "duration": 17,
    "start_time": "2021-10-27T11:25:56.916Z"
   },
   {
    "duration": 20,
    "start_time": "2021-10-27T11:25:56.935Z"
   },
   {
    "duration": 19,
    "start_time": "2021-10-27T11:25:56.958Z"
   },
   {
    "duration": 359,
    "start_time": "2021-10-27T11:25:56.980Z"
   },
   {
    "duration": 1970,
    "start_time": "2021-10-27T11:25:57.342Z"
   },
   {
    "duration": 293,
    "start_time": "2021-10-27T11:26:36.880Z"
   },
   {
    "duration": 4,
    "start_time": "2021-10-27T11:26:40.493Z"
   },
   {
    "duration": 890,
    "start_time": "2021-10-27T11:26:40.499Z"
   },
   {
    "duration": 17,
    "start_time": "2021-10-27T11:26:41.392Z"
   },
   {
    "duration": 18,
    "start_time": "2021-10-27T11:26:41.411Z"
   },
   {
    "duration": 16,
    "start_time": "2021-10-27T11:26:41.431Z"
   },
   {
    "duration": 369,
    "start_time": "2021-10-27T11:26:41.449Z"
   },
   {
    "duration": 556,
    "start_time": "2021-10-27T11:26:41.820Z"
   },
   {
    "duration": 510,
    "start_time": "2021-10-27T11:26:46.736Z"
   },
   {
    "duration": 4,
    "start_time": "2021-10-27T11:26:53.111Z"
   },
   {
    "duration": 398,
    "start_time": "2021-10-27T11:26:53.117Z"
   },
   {
    "duration": 17,
    "start_time": "2021-10-27T11:26:53.518Z"
   },
   {
    "duration": 34,
    "start_time": "2021-10-27T11:26:53.537Z"
   },
   {
    "duration": 19,
    "start_time": "2021-10-27T11:26:53.573Z"
   },
   {
    "duration": 352,
    "start_time": "2021-10-27T11:26:53.595Z"
   },
   {
    "duration": 813,
    "start_time": "2021-10-27T11:26:54.941Z"
   },
   {
    "duration": 4,
    "start_time": "2021-10-27T11:27:08.434Z"
   },
   {
    "duration": 406,
    "start_time": "2021-10-27T11:27:08.441Z"
   },
   {
    "duration": 19,
    "start_time": "2021-10-27T11:27:08.850Z"
   },
   {
    "duration": 20,
    "start_time": "2021-10-27T11:27:08.872Z"
   },
   {
    "duration": 20,
    "start_time": "2021-10-27T11:27:08.895Z"
   },
   {
    "duration": 382,
    "start_time": "2021-10-27T11:27:08.918Z"
   },
   {
    "duration": 1982,
    "start_time": "2021-10-27T11:27:13.219Z"
   },
   {
    "duration": 6,
    "start_time": "2021-10-27T11:27:23.278Z"
   },
   {
    "duration": 396,
    "start_time": "2021-10-27T11:27:23.287Z"
   },
   {
    "duration": 17,
    "start_time": "2021-10-27T11:27:23.686Z"
   },
   {
    "duration": 21,
    "start_time": "2021-10-27T11:27:23.706Z"
   },
   {
    "duration": 16,
    "start_time": "2021-10-27T11:27:23.730Z"
   },
   {
    "duration": 390,
    "start_time": "2021-10-27T11:27:23.767Z"
   },
   {
    "duration": 2138,
    "start_time": "2021-10-27T11:27:27.463Z"
   },
   {
    "duration": 2878,
    "start_time": "2021-10-28T01:30:33.696Z"
   },
   {
    "duration": 520,
    "start_time": "2021-10-28T01:30:36.576Z"
   },
   {
    "duration": 15,
    "start_time": "2021-10-28T01:30:37.098Z"
   },
   {
    "duration": 12,
    "start_time": "2021-10-28T01:30:37.114Z"
   },
   {
    "duration": 10,
    "start_time": "2021-10-28T01:30:37.128Z"
   },
   {
    "duration": 199,
    "start_time": "2021-10-28T01:30:37.673Z"
   },
   {
    "duration": 1190,
    "start_time": "2021-10-28T01:30:38.509Z"
   },
   {
    "duration": 427,
    "start_time": "2021-10-28T01:30:52.808Z"
   },
   {
    "duration": 364,
    "start_time": "2021-10-28T01:31:08.107Z"
   },
   {
    "duration": 1288,
    "start_time": "2021-10-28T01:31:12.688Z"
   },
   {
    "duration": 1221,
    "start_time": "2021-10-28T01:31:18.410Z"
   },
   {
    "duration": 1244,
    "start_time": "2021-10-28T01:31:24.387Z"
   },
   {
    "duration": 1277,
    "start_time": "2021-10-28T01:32:09.392Z"
   },
   {
    "duration": 1252,
    "start_time": "2021-10-28T01:36:11.915Z"
   },
   {
    "duration": 1352,
    "start_time": "2021-10-28T01:36:53.444Z"
   },
   {
    "duration": 1268,
    "start_time": "2021-10-28T01:37:02.493Z"
   },
   {
    "duration": 1341,
    "start_time": "2021-10-28T01:37:10.385Z"
   },
   {
    "duration": 1453,
    "start_time": "2021-10-28T01:37:22.228Z"
   }
  ],
  "kernelspec": {
   "display_name": "Python 3 (ipykernel)",
   "language": "python",
   "name": "python3"
  },
  "language_info": {
   "codemirror_mode": {
    "name": "ipython",
    "version": 3
   },
   "file_extension": ".py",
   "mimetype": "text/x-python",
   "name": "python",
   "nbconvert_exporter": "python",
   "pygments_lexer": "ipython3",
   "version": "3.9.7"
  },
  "toc": {
   "base_numbering": 1,
   "nav_menu": {},
   "number_sections": true,
   "sideBar": true,
   "skip_h1_title": true,
   "title_cell": "Table of Contents",
   "title_sidebar": "Contents",
   "toc_cell": false,
   "toc_position": {},
   "toc_section_display": true,
   "toc_window_display": false
  }
 },
 "nbformat": 4,
 "nbformat_minor": 2
}
