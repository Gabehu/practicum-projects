{
 "cells": [
  {
   "cell_type": "markdown",
   "metadata": {},
   "source": [
    "# Analyzing borrowers’ risk of defaulting\n",
    "\n",
    "Your project is to prepare a report for a bank’s loan division. You’ll need to find out if a customer’s marital status and number of children has an impact on whether they will default on a loan. The bank already has some data on customers’ credit worthiness.\n",
    "\n",
    "Your report will be considered when building a **credit score** of a potential customer. A **credit score** is used to evaluate the ability of a potential borrower to repay their loan."
   ]
  },
  {
   "cell_type": "markdown",
   "metadata": {},
   "source": [
    "## Open the data file and have a look at the general information. "
   ]
  },
  {
   "cell_type": "code",
   "execution_count": 1,
   "metadata": {},
   "outputs": [
    {
     "data": {
      "text/html": [
       "<div>\n",
       "<style scoped>\n",
       "    .dataframe tbody tr th:only-of-type {\n",
       "        vertical-align: middle;\n",
       "    }\n",
       "\n",
       "    .dataframe tbody tr th {\n",
       "        vertical-align: top;\n",
       "    }\n",
       "\n",
       "    .dataframe thead th {\n",
       "        text-align: right;\n",
       "    }\n",
       "</style>\n",
       "<table border=\"1\" class=\"dataframe\">\n",
       "  <thead>\n",
       "    <tr style=\"text-align: right;\">\n",
       "      <th></th>\n",
       "      <th>children</th>\n",
       "      <th>days_employed</th>\n",
       "      <th>dob_years</th>\n",
       "      <th>education</th>\n",
       "      <th>education_id</th>\n",
       "      <th>family_status</th>\n",
       "      <th>family_status_id</th>\n",
       "      <th>gender</th>\n",
       "      <th>income_type</th>\n",
       "      <th>debt</th>\n",
       "      <th>total_income</th>\n",
       "      <th>purpose</th>\n",
       "    </tr>\n",
       "  </thead>\n",
       "  <tbody>\n",
       "    <tr>\n",
       "      <td>0</td>\n",
       "      <td>1</td>\n",
       "      <td>-8437.673028</td>\n",
       "      <td>42</td>\n",
       "      <td>bachelor's degree</td>\n",
       "      <td>0</td>\n",
       "      <td>married</td>\n",
       "      <td>0</td>\n",
       "      <td>F</td>\n",
       "      <td>employee</td>\n",
       "      <td>0</td>\n",
       "      <td>40620.102</td>\n",
       "      <td>purchase of the house</td>\n",
       "    </tr>\n",
       "    <tr>\n",
       "      <td>1</td>\n",
       "      <td>1</td>\n",
       "      <td>-4024.803754</td>\n",
       "      <td>36</td>\n",
       "      <td>secondary education</td>\n",
       "      <td>1</td>\n",
       "      <td>married</td>\n",
       "      <td>0</td>\n",
       "      <td>F</td>\n",
       "      <td>employee</td>\n",
       "      <td>0</td>\n",
       "      <td>17932.802</td>\n",
       "      <td>car purchase</td>\n",
       "    </tr>\n",
       "    <tr>\n",
       "      <td>2</td>\n",
       "      <td>0</td>\n",
       "      <td>-5623.422610</td>\n",
       "      <td>33</td>\n",
       "      <td>Secondary Education</td>\n",
       "      <td>1</td>\n",
       "      <td>married</td>\n",
       "      <td>0</td>\n",
       "      <td>M</td>\n",
       "      <td>employee</td>\n",
       "      <td>0</td>\n",
       "      <td>23341.752</td>\n",
       "      <td>purchase of the house</td>\n",
       "    </tr>\n",
       "    <tr>\n",
       "      <td>3</td>\n",
       "      <td>3</td>\n",
       "      <td>-4124.747207</td>\n",
       "      <td>32</td>\n",
       "      <td>secondary education</td>\n",
       "      <td>1</td>\n",
       "      <td>married</td>\n",
       "      <td>0</td>\n",
       "      <td>M</td>\n",
       "      <td>employee</td>\n",
       "      <td>0</td>\n",
       "      <td>42820.568</td>\n",
       "      <td>supplementary education</td>\n",
       "    </tr>\n",
       "    <tr>\n",
       "      <td>4</td>\n",
       "      <td>0</td>\n",
       "      <td>340266.072047</td>\n",
       "      <td>53</td>\n",
       "      <td>secondary education</td>\n",
       "      <td>1</td>\n",
       "      <td>civil partnership</td>\n",
       "      <td>1</td>\n",
       "      <td>F</td>\n",
       "      <td>retiree</td>\n",
       "      <td>0</td>\n",
       "      <td>25378.572</td>\n",
       "      <td>to have a wedding</td>\n",
       "    </tr>\n",
       "    <tr>\n",
       "      <td>5</td>\n",
       "      <td>0</td>\n",
       "      <td>-926.185831</td>\n",
       "      <td>27</td>\n",
       "      <td>bachelor's degree</td>\n",
       "      <td>0</td>\n",
       "      <td>civil partnership</td>\n",
       "      <td>1</td>\n",
       "      <td>M</td>\n",
       "      <td>business</td>\n",
       "      <td>0</td>\n",
       "      <td>40922.170</td>\n",
       "      <td>purchase of the house</td>\n",
       "    </tr>\n",
       "    <tr>\n",
       "      <td>6</td>\n",
       "      <td>0</td>\n",
       "      <td>-2879.202052</td>\n",
       "      <td>43</td>\n",
       "      <td>bachelor's degree</td>\n",
       "      <td>0</td>\n",
       "      <td>married</td>\n",
       "      <td>0</td>\n",
       "      <td>F</td>\n",
       "      <td>business</td>\n",
       "      <td>0</td>\n",
       "      <td>38484.156</td>\n",
       "      <td>housing transactions</td>\n",
       "    </tr>\n",
       "    <tr>\n",
       "      <td>7</td>\n",
       "      <td>0</td>\n",
       "      <td>-152.779569</td>\n",
       "      <td>50</td>\n",
       "      <td>SECONDARY EDUCATION</td>\n",
       "      <td>1</td>\n",
       "      <td>married</td>\n",
       "      <td>0</td>\n",
       "      <td>M</td>\n",
       "      <td>employee</td>\n",
       "      <td>0</td>\n",
       "      <td>21731.829</td>\n",
       "      <td>education</td>\n",
       "    </tr>\n",
       "    <tr>\n",
       "      <td>8</td>\n",
       "      <td>2</td>\n",
       "      <td>-6929.865299</td>\n",
       "      <td>35</td>\n",
       "      <td>BACHELOR'S DEGREE</td>\n",
       "      <td>0</td>\n",
       "      <td>civil partnership</td>\n",
       "      <td>1</td>\n",
       "      <td>F</td>\n",
       "      <td>employee</td>\n",
       "      <td>0</td>\n",
       "      <td>15337.093</td>\n",
       "      <td>having a wedding</td>\n",
       "    </tr>\n",
       "    <tr>\n",
       "      <td>9</td>\n",
       "      <td>0</td>\n",
       "      <td>-2188.756445</td>\n",
       "      <td>41</td>\n",
       "      <td>secondary education</td>\n",
       "      <td>1</td>\n",
       "      <td>married</td>\n",
       "      <td>0</td>\n",
       "      <td>M</td>\n",
       "      <td>employee</td>\n",
       "      <td>0</td>\n",
       "      <td>23108.150</td>\n",
       "      <td>purchase of the house for my family</td>\n",
       "    </tr>\n",
       "    <tr>\n",
       "      <td>10</td>\n",
       "      <td>2</td>\n",
       "      <td>-4171.483647</td>\n",
       "      <td>36</td>\n",
       "      <td>bachelor's degree</td>\n",
       "      <td>0</td>\n",
       "      <td>married</td>\n",
       "      <td>0</td>\n",
       "      <td>M</td>\n",
       "      <td>business</td>\n",
       "      <td>0</td>\n",
       "      <td>18230.959</td>\n",
       "      <td>buy real estate</td>\n",
       "    </tr>\n",
       "    <tr>\n",
       "      <td>11</td>\n",
       "      <td>0</td>\n",
       "      <td>-792.701887</td>\n",
       "      <td>40</td>\n",
       "      <td>secondary education</td>\n",
       "      <td>1</td>\n",
       "      <td>married</td>\n",
       "      <td>0</td>\n",
       "      <td>F</td>\n",
       "      <td>employee</td>\n",
       "      <td>0</td>\n",
       "      <td>12331.077</td>\n",
       "      <td>buy commercial real estate</td>\n",
       "    </tr>\n",
       "    <tr>\n",
       "      <td>12</td>\n",
       "      <td>0</td>\n",
       "      <td>NaN</td>\n",
       "      <td>65</td>\n",
       "      <td>secondary education</td>\n",
       "      <td>1</td>\n",
       "      <td>civil partnership</td>\n",
       "      <td>1</td>\n",
       "      <td>M</td>\n",
       "      <td>retiree</td>\n",
       "      <td>0</td>\n",
       "      <td>NaN</td>\n",
       "      <td>to have a wedding</td>\n",
       "    </tr>\n",
       "    <tr>\n",
       "      <td>13</td>\n",
       "      <td>0</td>\n",
       "      <td>-1846.641941</td>\n",
       "      <td>54</td>\n",
       "      <td>some college</td>\n",
       "      <td>2</td>\n",
       "      <td>married</td>\n",
       "      <td>0</td>\n",
       "      <td>F</td>\n",
       "      <td>employee</td>\n",
       "      <td>0</td>\n",
       "      <td>20873.317</td>\n",
       "      <td>car purchase</td>\n",
       "    </tr>\n",
       "    <tr>\n",
       "      <td>14</td>\n",
       "      <td>0</td>\n",
       "      <td>-1844.956182</td>\n",
       "      <td>56</td>\n",
       "      <td>bachelor's degree</td>\n",
       "      <td>0</td>\n",
       "      <td>civil partnership</td>\n",
       "      <td>1</td>\n",
       "      <td>F</td>\n",
       "      <td>business</td>\n",
       "      <td>1</td>\n",
       "      <td>26420.466</td>\n",
       "      <td>buy residential real estate</td>\n",
       "    </tr>\n",
       "  </tbody>\n",
       "</table>\n",
       "</div>"
      ],
      "text/plain": [
       "    children  days_employed  dob_years            education  education_id  \\\n",
       "0          1   -8437.673028         42    bachelor's degree             0   \n",
       "1          1   -4024.803754         36  secondary education             1   \n",
       "2          0   -5623.422610         33  Secondary Education             1   \n",
       "3          3   -4124.747207         32  secondary education             1   \n",
       "4          0  340266.072047         53  secondary education             1   \n",
       "5          0    -926.185831         27    bachelor's degree             0   \n",
       "6          0   -2879.202052         43    bachelor's degree             0   \n",
       "7          0    -152.779569         50  SECONDARY EDUCATION             1   \n",
       "8          2   -6929.865299         35    BACHELOR'S DEGREE             0   \n",
       "9          0   -2188.756445         41  secondary education             1   \n",
       "10         2   -4171.483647         36    bachelor's degree             0   \n",
       "11         0    -792.701887         40  secondary education             1   \n",
       "12         0            NaN         65  secondary education             1   \n",
       "13         0   -1846.641941         54         some college             2   \n",
       "14         0   -1844.956182         56    bachelor's degree             0   \n",
       "\n",
       "        family_status  family_status_id gender income_type  debt  \\\n",
       "0             married                 0      F    employee     0   \n",
       "1             married                 0      F    employee     0   \n",
       "2             married                 0      M    employee     0   \n",
       "3             married                 0      M    employee     0   \n",
       "4   civil partnership                 1      F     retiree     0   \n",
       "5   civil partnership                 1      M    business     0   \n",
       "6             married                 0      F    business     0   \n",
       "7             married                 0      M    employee     0   \n",
       "8   civil partnership                 1      F    employee     0   \n",
       "9             married                 0      M    employee     0   \n",
       "10            married                 0      M    business     0   \n",
       "11            married                 0      F    employee     0   \n",
       "12  civil partnership                 1      M     retiree     0   \n",
       "13            married                 0      F    employee     0   \n",
       "14  civil partnership                 1      F    business     1   \n",
       "\n",
       "    total_income                              purpose  \n",
       "0      40620.102                purchase of the house  \n",
       "1      17932.802                         car purchase  \n",
       "2      23341.752                purchase of the house  \n",
       "3      42820.568              supplementary education  \n",
       "4      25378.572                    to have a wedding  \n",
       "5      40922.170                purchase of the house  \n",
       "6      38484.156                 housing transactions  \n",
       "7      21731.829                            education  \n",
       "8      15337.093                     having a wedding  \n",
       "9      23108.150  purchase of the house for my family  \n",
       "10     18230.959                      buy real estate  \n",
       "11     12331.077           buy commercial real estate  \n",
       "12           NaN                    to have a wedding  \n",
       "13     20873.317                         car purchase  \n",
       "14     26420.466          buy residential real estate  "
      ]
     },
     "execution_count": 1,
     "metadata": {},
     "output_type": "execute_result"
    }
   ],
   "source": [
    "#The overall goal is to find out if marital status and number of children will have an impact on the customers loan.\n",
    "#to reach this goal, i'll have to fix find any errors in the given data, and fix them while presenting them nicely.\n",
    "\n",
    "#import pandas, numpy, and nltk\n",
    "import pandas as pd\n",
    "import numpy as np\n",
    "import nltk\n",
    "from nltk.stem import SnowballStemmer\n",
    "from nltk.stem import WordNetLemmatizer\n",
    "wordnet_lemma = WordNetLemmatizer() \n",
    "\n",
    "#used for stemming in replacing duplicate purposes\n",
    "english_stemmer = SnowballStemmer('english')\n",
    "\n",
    "#read all input data\n",
    "try:\n",
    "    df = pd.read_csv('credit_scoring_eng.csv')\n",
    "except:\n",
    "    df = pd.read_csv('/datasets/credit_scoring_eng.csv')\n",
    "    \n",
    "df.head(15)"
   ]
  },
  {
   "cell_type": "markdown",
   "metadata": {},
   "source": [
    "### Conclusion"
   ]
  },
  {
   "cell_type": "markdown",
   "metadata": {},
   "source": [
    "There are negative numbers unders days_employed, may be a typo. Will need to fix that later"
   ]
  },
  {
   "cell_type": "markdown",
   "metadata": {},
   "source": [
    "## Data preprocessing"
   ]
  },
  {
   "cell_type": "markdown",
   "metadata": {},
   "source": [
    "### Processing missing values"
   ]
  },
  {
   "cell_type": "code",
   "execution_count": 2,
   "metadata": {},
   "outputs": [
    {
     "data": {
      "text/plain": [
       "children            0\n",
       "days_employed       0\n",
       "dob_years           0\n",
       "education           0\n",
       "education_id        0\n",
       "family_status       0\n",
       "family_status_id    0\n",
       "gender              0\n",
       "income_type         0\n",
       "debt                0\n",
       "total_income        0\n",
       "purpose             0\n",
       "dtype: int64"
      ]
     },
     "execution_count": 2,
     "metadata": {},
     "output_type": "execute_result"
    }
   ],
   "source": [
    "#was used to identify how many missing values existed which showed 2174 were missing\n",
    "#df.isna().sum()\n",
    "\n",
    "#the columns where numbers were missing\n",
    "missing_num = ['days_employed', 'total_income']\n",
    "\n",
    "#this shows the means and medians of the missing numbers so we could potentially use them for filling in.\n",
    "#this result shows that there are too many negative values, and will need to be fixed. Days employed doesn't make sense as negative. \n",
    "#print('These are the means:')\n",
    "#print(df.groupby('family_status')[missing_num].mean())\n",
    "#print()\n",
    "#print('These are the medians:')\n",
    "#print(df.groupby('family_status')[missing_num].median())\n",
    "\n",
    "#making the negative numbers in 'days_employed' positive\n",
    "df['days_employed'] = df['days_employed'].abs()\n",
    "\n",
    "#this shows that the negative numbers are gone for days_employed are gone\n",
    "#but shows that there are also people that have marked down their kids in the negatives and also as 20.\n",
    "#assuming that these are all typos, and that they actually mean 2 kids instead of 20, i'll have to fix this\n",
    "#print('These are the means:')\n",
    "#print(df.groupby('children')[missing_num].mean())\n",
    "#print()\n",
    "#print('These are the medians:')\n",
    "#print(df.groupby('children')[missing_num].median())\n",
    "\n",
    "#converting 20 to 2, and converting -1 to 1\n",
    "df.loc[df['children'] == 20, 'children'] = 2\n",
    "df.loc[df['children'] == -1, 'children'] = 1\n",
    "\n",
    "#makes everything lowercase in education for easier organization later\n",
    "df['education'] = df['education'].str.lower()\n",
    "\n",
    "#there is a third gender type, xna\n",
    "#print(df['gender'].value_counts())\n",
    "\n",
    "#deleting the entire row that consists of XNA, because there is only one row that has xna\n",
    "df = df.loc[df['gender'] != 'XNA']\n",
    "\n",
    "#checking to see if xna is still there\n",
    "#print(df['gender'].value_counts())\n",
    "\n",
    "#print anything above 365*50 to see how outrageous the values can be and how many we may need to deal with\n",
    "#print(df['days_employed'].loc[df['days_employed']>365*50])\n",
    "\n",
    "#replacing any number greater then 365*50 with 365*50 so we don't get any outrageous numbers\n",
    "df['days_employed'].loc[df['days_employed']>365*50] = 365*50\n",
    "\n",
    "#checking to see if the numbers replaced and to see if any errors occurred \n",
    "#print(df['days_employed'].loc[df['days_employed']>=365*50])\n",
    "\n",
    "\n",
    "\n",
    "#After looking at the code, I realized that using median will be good for everything EXCEPT for widows. For some reason,\n",
    "#their numbers are just too outragous and are way too high, higher then their actual age. But because they are so random, i'm\n",
    "#not sure how to entirely cover this subject. Age comes in play, and it's hard to judge by days employed and to omit \n",
    "#what we don't want. Will probably need to fix in next itation, just not sure how to do it\n",
    "#print('These are the means:')\n",
    "#print(df.groupby('family_status')[missing_num].mean())\n",
    "#print()\n",
    "#print('These are the medians:')\n",
    "#print(df.groupby('family_status')[missing_num].median())\n",
    "\n",
    "#filling na by using groupby and calculating everything as median because the means are too high, meaning there\n",
    "#are outliers in the data. Widow is still definitely broken, will probably need to fix in next iteration, just don't know\n",
    "#how to fix it currently\n",
    "df['days_employed'] = df['days_employed'].fillna(df.groupby('income_type')['days_employed'].transform('median'))\n",
    "df['total_income'] = df['total_income'].fillna(df.groupby('income_type')['total_income'].transform('median'))\n",
    "\n",
    "#double checking to make sure there are no more missing values\n",
    "df.isna().sum()"
   ]
  },
  {
   "cell_type": "markdown",
   "metadata": {},
   "source": [
    "### Conclusion"
   ]
  },
  {
   "cell_type": "markdown",
   "metadata": {},
   "source": [
    "Only days_employed and total_income are missing. There are also a lot of negative numbers here, so fixing that was vital to fixing the entire thing. I then calculated everything and filled na with mean of the column. Turns out, days employed and total income are float values, so I will have to change the type in the next batch of code. \n",
    "\n",
    "Another anomalie that i've noticed is that some of the values in days_employed is too high to be possible. Definitely human error, and I was able to fix it using .loc to replace any number greater than 365*50 with 365*50\n",
    "\n",
    "There was also another issue with the gender column, and that there was an extra variable other than female and male. Luckily, there was only one row that was weird, so just removing it wouldn't harm the overall data.\n",
    "\n",
    "Possible causes for the missing values could be human error, but I doubt it because there are just so many negative numbers listed. On top of that, I don't think it's a coincidence that both days_employed and total_income are both missing in each row. That leads me to believe that there may be an error in the system for people that are inputting data, or corruption of file.\n",
    "\n",
    "Blanks are filled with fillna and replaced with the average of each column"
   ]
  },
  {
   "cell_type": "markdown",
   "metadata": {},
   "source": [
    "### Data type replacement"
   ]
  },
  {
   "cell_type": "code",
   "execution_count": 3,
   "metadata": {},
   "outputs": [
    {
     "name": "stdout",
     "output_type": "stream",
     "text": [
      "<class 'pandas.core.frame.DataFrame'>\n",
      "Int64Index: 21524 entries, 0 to 21524\n",
      "Data columns (total 12 columns):\n",
      "children            21524 non-null int64\n",
      "days_employed       21524 non-null int64\n",
      "dob_years           21524 non-null int64\n",
      "education           21524 non-null object\n",
      "education_id        21524 non-null int64\n",
      "family_status       21524 non-null object\n",
      "family_status_id    21524 non-null int64\n",
      "gender              21524 non-null object\n",
      "income_type         21524 non-null object\n",
      "debt                21524 non-null int64\n",
      "total_income        21524 non-null int64\n",
      "purpose             21524 non-null object\n",
      "dtypes: int64(7), object(5)\n",
      "memory usage: 2.1+ MB\n"
     ]
    }
   ],
   "source": [
    "#checking what needs to be changed. Upon first glance, days_employed and total_income are both float64, when they should be \n",
    "#changed to int\n",
    "#df.info()\n",
    "\n",
    "#turning float values to int using astype\n",
    "df['days_employed'] = df['days_employed'].astype('int')\n",
    "df['total_income'] = df['total_income'].astype('int')\n",
    "\n",
    "#checking to see if changes worked\n",
    "df.info()"
   ]
  },
  {
   "cell_type": "markdown",
   "metadata": {},
   "source": [
    "### Conclusion"
   ]
  },
  {
   "cell_type": "markdown",
   "metadata": {},
   "source": [
    "I used astype to change float to int because it seemed to be the easiest way of doing so. I'm not confident if the data type shouldv'e been int16 or int 64, but i'll stick with default int for now."
   ]
  },
  {
   "cell_type": "markdown",
   "metadata": {},
   "source": [
    "### Processing duplicates"
   ]
  },
  {
   "cell_type": "code",
   "execution_count": 4,
   "metadata": {},
   "outputs": [
    {
     "data": {
      "text/plain": [
       "estate            4463\n",
       "purchasing car    4306\n",
       "education         4013\n",
       "housing           3809\n",
       "property          2538\n",
       "wedding           2324\n",
       "Name: purpose, dtype: int64"
      ]
     },
     "execution_count": 4,
     "metadata": {},
     "output_type": "execute_result"
    }
   ],
   "source": [
    "#finding how many duplicates we have. At this point, we have 71 duplicates\n",
    "#df.duplicated().sum()\n",
    "\n",
    "#deleting duplicates\n",
    "df.drop_duplicates(inplace=True)\n",
    "\n",
    "#double checking if all duplicates are deleted\n",
    "#df.duplicated().sum()\n",
    "\n",
    "#finding duplicate purposes\n",
    "#df['purpose'].value_counts()\n",
    "\n",
    "#lemmatizing words to make sure we have all the tokens for the if statements later\n",
    "#text = 'educated'\n",
    "#words = nltk.word_tokenize(text)\n",
    "#words = [wordnet_lemma.lemmatize(w, pos= 'v') for w in words]\n",
    "#words\n",
    "\n",
    "#lemmatize function with if statements to replace purpose and make everything uniform.\n",
    "def convert(purpose):\n",
    "    words = nltk.word_tokenize(purpose)\n",
    "    words = [wordnet_lemma.lemmatize(w, pos= 'v') for w in words]\n",
    "    if 'estate' in words:\n",
    "        return 'estate'\n",
    "    elif 'education' in words or 'educated' in words or 'university' in words or 'educate' in words:\n",
    "        return 'education'\n",
    "    elif 'car' in words or 'cars' in words:\n",
    "        return 'purchasing car'\n",
    "    elif 'house' in words:\n",
    "        return 'housing'\n",
    "    elif 'wed' in words:\n",
    "        return 'wedding'\n",
    "    elif 'property' in words:\n",
    "        return 'property'\n",
    "    else: \n",
    "        return 'unknown purpose'\n",
    "\n",
    "df['purpose'] = df['purpose'].apply(convert)\n",
    "  \n",
    "#confirmation that everything is replaced\n",
    "df['purpose'].value_counts()"
   ]
  },
  {
   "cell_type": "markdown",
   "metadata": {},
   "source": [
    "### Conclusion"
   ]
  },
  {
   "cell_type": "markdown",
   "metadata": {},
   "source": [
    "I used df.duplicated().sum() to help locate if there were any duplicates in the table, and df.drop_duplicates(inplace=True) to remove them.\n",
    "\n",
    "Not sure how duplicates would end up in a table like this, likely someone just forgot that they already entered in data, which could lead to duplicates.\n",
    "\n",
    "I also used stemming to replace duplicates in the purpose column to make things neater and easier to see. "
   ]
  },
  {
   "cell_type": "markdown",
   "metadata": {},
   "source": [
    "### Categorizing Data"
   ]
  },
  {
   "cell_type": "code",
   "execution_count": 5,
   "metadata": {},
   "outputs": [
    {
     "data": {
      "text/html": [
       "<div>\n",
       "<style scoped>\n",
       "    .dataframe tbody tr th:only-of-type {\n",
       "        vertical-align: middle;\n",
       "    }\n",
       "\n",
       "    .dataframe tbody tr th {\n",
       "        vertical-align: top;\n",
       "    }\n",
       "\n",
       "    .dataframe thead th {\n",
       "        text-align: right;\n",
       "    }\n",
       "</style>\n",
       "<table border=\"1\" class=\"dataframe\">\n",
       "  <thead>\n",
       "    <tr style=\"text-align: right;\">\n",
       "      <th>children</th>\n",
       "      <th>0</th>\n",
       "      <th>1</th>\n",
       "      <th>2</th>\n",
       "      <th>3</th>\n",
       "      <th>4</th>\n",
       "      <th>5</th>\n",
       "      <th>All</th>\n",
       "    </tr>\n",
       "    <tr>\n",
       "      <th>purpose</th>\n",
       "      <th></th>\n",
       "      <th></th>\n",
       "      <th></th>\n",
       "      <th></th>\n",
       "      <th></th>\n",
       "      <th></th>\n",
       "      <th></th>\n",
       "    </tr>\n",
       "  </thead>\n",
       "  <tbody>\n",
       "    <tr>\n",
       "      <td>education</td>\n",
       "      <td>229.0</td>\n",
       "      <td>90.0</td>\n",
       "      <td>47.0</td>\n",
       "      <td>4.0</td>\n",
       "      <td>0.0</td>\n",
       "      <td>0.0</td>\n",
       "      <td>370</td>\n",
       "    </tr>\n",
       "    <tr>\n",
       "      <td>estate</td>\n",
       "      <td>206.0</td>\n",
       "      <td>90.0</td>\n",
       "      <td>34.0</td>\n",
       "      <td>5.0</td>\n",
       "      <td>1.0</td>\n",
       "      <td>0.0</td>\n",
       "      <td>336</td>\n",
       "    </tr>\n",
       "    <tr>\n",
       "      <td>housing</td>\n",
       "      <td>161.0</td>\n",
       "      <td>53.0</td>\n",
       "      <td>34.0</td>\n",
       "      <td>6.0</td>\n",
       "      <td>2.0</td>\n",
       "      <td>0.0</td>\n",
       "      <td>256</td>\n",
       "    </tr>\n",
       "    <tr>\n",
       "      <td>property</td>\n",
       "      <td>109.0</td>\n",
       "      <td>57.0</td>\n",
       "      <td>22.0</td>\n",
       "      <td>2.0</td>\n",
       "      <td>0.0</td>\n",
       "      <td>NaN</td>\n",
       "      <td>190</td>\n",
       "    </tr>\n",
       "    <tr>\n",
       "      <td>purchasing car</td>\n",
       "      <td>243.0</td>\n",
       "      <td>104.0</td>\n",
       "      <td>50.0</td>\n",
       "      <td>5.0</td>\n",
       "      <td>1.0</td>\n",
       "      <td>0.0</td>\n",
       "      <td>403</td>\n",
       "    </tr>\n",
       "    <tr>\n",
       "      <td>wedding</td>\n",
       "      <td>115.0</td>\n",
       "      <td>51.0</td>\n",
       "      <td>15.0</td>\n",
       "      <td>5.0</td>\n",
       "      <td>0.0</td>\n",
       "      <td>0.0</td>\n",
       "      <td>186</td>\n",
       "    </tr>\n",
       "    <tr>\n",
       "      <td>All</td>\n",
       "      <td>1063.0</td>\n",
       "      <td>445.0</td>\n",
       "      <td>202.0</td>\n",
       "      <td>27.0</td>\n",
       "      <td>4.0</td>\n",
       "      <td>0.0</td>\n",
       "      <td>1741</td>\n",
       "    </tr>\n",
       "  </tbody>\n",
       "</table>\n",
       "</div>"
      ],
      "text/plain": [
       "children             0      1      2     3    4    5   All\n",
       "purpose                                                   \n",
       "education        229.0   90.0   47.0   4.0  0.0  0.0   370\n",
       "estate           206.0   90.0   34.0   5.0  1.0  0.0   336\n",
       "housing          161.0   53.0   34.0   6.0  2.0  0.0   256\n",
       "property         109.0   57.0   22.0   2.0  0.0  NaN   190\n",
       "purchasing car   243.0  104.0   50.0   5.0  1.0  0.0   403\n",
       "wedding          115.0   51.0   15.0   5.0  0.0  0.0   186\n",
       "All             1063.0  445.0  202.0  27.0  4.0  0.0  1741"
      ]
     },
     "execution_count": 5,
     "metadata": {},
     "output_type": "execute_result"
    }
   ],
   "source": [
    "#creating a pivot table for organization and categorizing the important data\n",
    "pivot_table_credit = df.pivot_table(index='family_status', columns = 'children', values = \n",
    "                                    ['debt', 'total_income'], aggfunc = 'sum', margins=True)\n",
    "\n",
    "\n",
    "pivot_table_purpose = df.pivot_table(index='purpose', columns = 'children', values = \n",
    "                                    'debt', aggfunc = 'sum', margins=True)\n",
    "\n",
    "pivot_table_all = df.pivot_table(index=['purpose', 'family_status'], columns = 'children', values =\n",
    "                                       ['debt', 'total_income'], aggfunc = 'count', margins=True)\n",
    "\n",
    "pivot_table_income = df.pivot_table(index='purpose', columns = 'debt', values = \n",
    "                                    'total_income', aggfunc = 'sum', margins=True)\n",
    "\n",
    "pivot_table_purpose"
   ]
  },
  {
   "cell_type": "markdown",
   "metadata": {},
   "source": [
    "### Conclusion"
   ]
  },
  {
   "cell_type": "markdown",
   "metadata": {},
   "source": [
    "I used a pivot table to categorize the data by children, purpose, family status, and debt so the values are easier to see, and so that easier judgements can be made \n",
    "\n",
    "I made 3 pivot tables depending on what is needed. Regarding general information, pivot_table_credit will show what's important\n",
    "Regarding the purpose of the customers, pivot_table_purpose will be of use. \n",
    "And to show all data, pivot_table_all will show everything combined, though a bit messy, can still work."
   ]
  },
  {
   "cell_type": "markdown",
   "metadata": {},
   "source": [
    "# Is there a relation between having kids and repaying a loan on time?"
   ]
  },
  {
   "cell_type": "markdown",
   "metadata": {},
   "source": [
    "There does seem to be a relation between having kids and repaying loan. The less kids you have, the more likely they won't pay\n",
    "on time. \n",
    "\n",
    "Looking at the toal amount of debt amounted based on children, 1062 debt is totaled compared to 445 debt with \n",
    "customers with only 1 kid. Throughout the table, the more kids you have, the less debt is amounted."
   ]
  },
  {
   "cell_type": "markdown",
   "metadata": {},
   "source": [
    "# Is there a relation between marital status and repaying a loan on time?"
   ]
  },
  {
   "cell_type": "markdown",
   "metadata": {},
   "source": [
    "According to the table, married customers with 0 kids have a total of 515 debt amounted, compared to others, such as \n",
    "divorced who have 55 debt amounted with 0 kids. \n",
    "\n",
    "There are inconsistencies because the totals are different, and there are more married couples then not. In fact, unmarried couples have 210 debt amounted with 0 kids, but there are only 274 unmarried couples in total. That means that 76% of unmarried couples with no kids will most likely not repay the loan on time"
   ]
  },
  {
   "cell_type": "markdown",
   "metadata": {},
   "source": [
    "# Is there a relation between income level and repaying a loan on time?"
   ]
  },
  {
   "cell_type": "markdown",
   "metadata": {},
   "source": [
    "Yes, the more money the customer makes, the more likely they will repay their loan. According to the table, 92% of customers that repay their loan make more money in comparison to those that don't repay in time"
   ]
  },
  {
   "cell_type": "markdown",
   "metadata": {},
   "source": [
    "# How do different loan purposes affect on-time repayment of the loan?"
   ]
  },
  {
   "cell_type": "markdown",
   "metadata": {},
   "source": [
    "If the loan purpose is related to the purchase of a car, getting educated, and/or to buy real estate, there will be a high chance that the customer won't repay the loan on time. If the purpose is related to the purchase of a car, there will be a 23% chance they won't repay the loan on time"
   ]
  },
  {
   "cell_type": "markdown",
   "metadata": {},
   "source": [
    "## General conclusion"
   ]
  },
  {
   "cell_type": "markdown",
   "metadata": {},
   "source": [
    "The customer's martial status, and number of children do indeed have an impact on whether they will default on a loan. There are many variables that can show whether or not a customer can default to a loan just by judging by income, their purpose, the amount of kids, and what their marital status is. \n",
    "\n",
    "\n",
    "Throughout this entire project, I found anomalies in the data such as negative days employed, multiple genders, too high amount of days employed, negative children, and missing values. I fixed the issues and filled in the missing data. I also organized the purpose column so it's easier to see and will be easier for us to make a better conclusion on the data. I found that there was a general correlation between marriage and number of children on whether or not they will default on a loan. Mainly, the more kids you have and if you are married, the less debt you'll most likely amount. "
   ]
  },
  {
   "cell_type": "code",
   "execution_count": null,
   "metadata": {},
   "outputs": [],
   "source": []
  }
 ],
 "metadata": {
  "ExecuteTimeLog": [
   {
    "duration": 601,
    "start_time": "2021-08-04T00:47:13.650Z"
   },
   {
    "duration": 525,
    "start_time": "2021-08-04T00:47:58.251Z"
   },
   {
    "duration": 936,
    "start_time": "2021-08-04T00:48:34.273Z"
   },
   {
    "duration": 367,
    "start_time": "2021-08-04T00:48:45.054Z"
   },
   {
    "duration": 226,
    "start_time": "2021-08-04T00:49:12.704Z"
   },
   {
    "duration": 237,
    "start_time": "2021-08-04T00:49:22.970Z"
   },
   {
    "duration": 108,
    "start_time": "2021-08-04T01:28:50.836Z"
   },
   {
    "duration": 13,
    "start_time": "2021-08-04T01:28:54.731Z"
   },
   {
    "duration": 230,
    "start_time": "2021-08-04T01:30:59.346Z"
   },
   {
    "duration": 252,
    "start_time": "2021-08-04T01:33:23.561Z"
   },
   {
    "duration": 246,
    "start_time": "2021-08-04T01:33:32.391Z"
   },
   {
    "duration": 8,
    "start_time": "2021-08-04T01:37:16.865Z"
   },
   {
    "duration": 13,
    "start_time": "2021-08-04T01:38:54.675Z"
   },
   {
    "duration": 20,
    "start_time": "2021-08-04T01:43:08.276Z"
   },
   {
    "duration": 19,
    "start_time": "2021-08-04T01:45:10.677Z"
   },
   {
    "duration": 237,
    "start_time": "2021-08-04T01:47:20.764Z"
   },
   {
    "duration": 233,
    "start_time": "2021-08-04T01:48:16.272Z"
   },
   {
    "duration": 219,
    "start_time": "2021-08-04T01:48:47.332Z"
   },
   {
    "duration": 210,
    "start_time": "2021-08-04T01:48:49.907Z"
   },
   {
    "duration": 21,
    "start_time": "2021-08-04T01:49:51.652Z"
   },
   {
    "duration": 20,
    "start_time": "2021-08-04T01:50:24.010Z"
   },
   {
    "duration": 21,
    "start_time": "2021-08-04T02:50:40.401Z"
   },
   {
    "duration": 13,
    "start_time": "2021-08-04T02:51:10.592Z"
   },
   {
    "duration": 11,
    "start_time": "2021-08-04T02:53:15.626Z"
   },
   {
    "duration": 304,
    "start_time": "2021-08-04T02:54:04.449Z"
   },
   {
    "duration": 11,
    "start_time": "2021-08-04T02:54:43.768Z"
   },
   {
    "duration": 7,
    "start_time": "2021-08-04T02:55:05.140Z"
   },
   {
    "duration": 22,
    "start_time": "2021-08-04T02:56:30.885Z"
   },
   {
    "duration": 54,
    "start_time": "2021-08-04T02:56:58.810Z"
   },
   {
    "duration": 21,
    "start_time": "2021-08-04T02:57:41.154Z"
   },
   {
    "duration": 13,
    "start_time": "2021-08-04T03:03:07.237Z"
   },
   {
    "duration": 309,
    "start_time": "2021-08-04T23:15:04.574Z"
   },
   {
    "duration": 774,
    "start_time": "2021-08-04T23:15:09.185Z"
   },
   {
    "duration": 10,
    "start_time": "2021-08-04T23:15:12.529Z"
   },
   {
    "duration": 14,
    "start_time": "2021-08-04T23:31:22.104Z"
   },
   {
    "duration": 14,
    "start_time": "2021-08-04T23:38:34.903Z"
   },
   {
    "duration": 88,
    "start_time": "2021-08-04T23:39:08.122Z"
   },
   {
    "duration": 14,
    "start_time": "2021-08-04T23:39:24.843Z"
   },
   {
    "duration": 208,
    "start_time": "2021-08-04T23:42:21.951Z"
   },
   {
    "duration": 84,
    "start_time": "2021-08-04T23:42:30.541Z"
   },
   {
    "duration": 86,
    "start_time": "2021-08-04T23:42:40.516Z"
   },
   {
    "duration": 210,
    "start_time": "2021-08-04T23:42:54.586Z"
   },
   {
    "duration": 6,
    "start_time": "2021-08-04T23:43:09.280Z"
   },
   {
    "duration": 13,
    "start_time": "2021-08-04T23:43:17.472Z"
   },
   {
    "duration": 6,
    "start_time": "2021-08-04T23:43:27.154Z"
   },
   {
    "duration": 270,
    "start_time": "2021-08-04T23:46:42.592Z"
   },
   {
    "duration": 6,
    "start_time": "2021-08-04T23:47:03.188Z"
   },
   {
    "duration": 4,
    "start_time": "2021-08-04T23:49:16.371Z"
   },
   {
    "duration": 14,
    "start_time": "2021-08-04T23:49:32.242Z"
   },
   {
    "duration": 15,
    "start_time": "2021-08-05T01:30:20.811Z"
   },
   {
    "duration": 13,
    "start_time": "2021-08-05T01:32:41.567Z"
   },
   {
    "duration": 12,
    "start_time": "2021-08-05T01:39:11.493Z"
   },
   {
    "duration": 11,
    "start_time": "2021-08-05T01:39:17.559Z"
   },
   {
    "duration": 19,
    "start_time": "2021-08-05T01:39:47.761Z"
   },
   {
    "duration": 19,
    "start_time": "2021-08-05T01:42:47.854Z"
   },
   {
    "duration": 53,
    "start_time": "2021-08-05T01:46:34.628Z"
   },
   {
    "duration": 25,
    "start_time": "2021-08-05T01:46:42.532Z"
   },
   {
    "duration": 27,
    "start_time": "2021-08-05T01:47:32.379Z"
   },
   {
    "duration": 25,
    "start_time": "2021-08-05T01:47:45.215Z"
   },
   {
    "duration": 20,
    "start_time": "2021-08-05T02:15:39.988Z"
   },
   {
    "duration": 277,
    "start_time": "2021-08-05T02:37:54.022Z"
   },
   {
    "duration": 267,
    "start_time": "2021-08-05T02:41:25.676Z"
   },
   {
    "duration": 29,
    "start_time": "2021-08-05T02:42:01.559Z"
   },
   {
    "duration": 29,
    "start_time": "2021-08-05T02:43:54.978Z"
   },
   {
    "duration": 27,
    "start_time": "2021-08-05T02:48:38.145Z"
   },
   {
    "duration": 28,
    "start_time": "2021-08-05T03:55:54.468Z"
   },
   {
    "duration": 57,
    "start_time": "2021-08-05T04:13:52.138Z"
   },
   {
    "duration": 54,
    "start_time": "2021-08-05T04:15:10.694Z"
   },
   {
    "duration": 58,
    "start_time": "2021-08-05T04:15:47.769Z"
   },
   {
    "duration": 67,
    "start_time": "2021-08-05T04:16:06.291Z"
   },
   {
    "duration": 62,
    "start_time": "2021-08-05T04:16:36.850Z"
   },
   {
    "duration": 59,
    "start_time": "2021-08-05T04:16:41.877Z"
   },
   {
    "duration": 24,
    "start_time": "2021-08-05T04:17:19.350Z"
   },
   {
    "duration": 12,
    "start_time": "2021-08-05T04:18:12.031Z"
   },
   {
    "duration": 208,
    "start_time": "2021-08-05T04:18:18.974Z"
   },
   {
    "duration": 10,
    "start_time": "2021-08-05T04:18:22.867Z"
   },
   {
    "duration": 58,
    "start_time": "2021-08-05T04:18:32.907Z"
   },
   {
    "duration": 97,
    "start_time": "2021-08-05T04:18:48.845Z"
   },
   {
    "duration": 71,
    "start_time": "2021-08-05T04:20:22.432Z"
   },
   {
    "duration": 35,
    "start_time": "2021-08-05T04:23:24.335Z"
   },
   {
    "duration": 34,
    "start_time": "2021-08-05T04:24:12.860Z"
   },
   {
    "duration": 37,
    "start_time": "2021-08-05T04:25:38.715Z"
   },
   {
    "duration": 29,
    "start_time": "2021-08-05T04:26:26.265Z"
   },
   {
    "duration": 34,
    "start_time": "2021-08-05T04:26:36.791Z"
   },
   {
    "duration": 29,
    "start_time": "2021-08-05T04:26:58.005Z"
   },
   {
    "duration": 29,
    "start_time": "2021-08-05T04:29:02.797Z"
   },
   {
    "duration": 33,
    "start_time": "2021-08-05T04:33:25.849Z"
   },
   {
    "duration": 337,
    "start_time": "2021-08-05T11:47:50.992Z"
   },
   {
    "duration": 1046,
    "start_time": "2021-08-05T11:47:58.660Z"
   },
   {
    "duration": 58,
    "start_time": "2021-08-05T11:48:16.944Z"
   },
   {
    "duration": 24,
    "start_time": "2021-08-05T11:50:17.254Z"
   },
   {
    "duration": 23,
    "start_time": "2021-08-05T11:56:57.856Z"
   },
   {
    "duration": 21,
    "start_time": "2021-08-05T12:01:43.188Z"
   },
   {
    "duration": 12,
    "start_time": "2021-08-05T12:07:53.203Z"
   },
   {
    "duration": 23,
    "start_time": "2021-08-05T12:08:15.849Z"
   },
   {
    "duration": 395,
    "start_time": "2021-08-05T12:09:27.254Z"
   },
   {
    "duration": 41,
    "start_time": "2021-08-05T12:09:56.478Z"
   },
   {
    "duration": 21,
    "start_time": "2021-08-05T12:29:26.132Z"
   },
   {
    "duration": 280,
    "start_time": "2021-08-05T12:32:13.704Z"
   },
   {
    "duration": 38,
    "start_time": "2021-08-05T12:32:25.747Z"
   },
   {
    "duration": 20,
    "start_time": "2021-08-05T12:32:41.994Z"
   },
   {
    "duration": 1036,
    "start_time": "2021-08-06T01:42:31.109Z"
   },
   {
    "duration": 46,
    "start_time": "2021-08-06T01:42:35.607Z"
   },
   {
    "duration": 23,
    "start_time": "2021-08-06T01:42:38.018Z"
   },
   {
    "duration": 43,
    "start_time": "2021-08-06T01:42:42.381Z"
   },
   {
    "duration": 15,
    "start_time": "2021-08-06T01:42:49.005Z"
   },
   {
    "duration": 14,
    "start_time": "2021-08-06T01:43:23.836Z"
   },
   {
    "duration": 386,
    "start_time": "2021-08-06T01:55:14.678Z"
   },
   {
    "duration": 7,
    "start_time": "2021-08-06T01:55:24.383Z"
   },
   {
    "duration": 10,
    "start_time": "2021-08-06T01:55:30.374Z"
   },
   {
    "duration": 8,
    "start_time": "2021-08-06T01:55:34.127Z"
   },
   {
    "duration": 35,
    "start_time": "2021-08-06T02:02:06.072Z"
   },
   {
    "duration": 48,
    "start_time": "2021-08-06T02:25:45.359Z"
   },
   {
    "duration": 31,
    "start_time": "2021-08-06T02:26:23.928Z"
   },
   {
    "duration": 33,
    "start_time": "2021-08-06T02:26:29.183Z"
   },
   {
    "duration": 105,
    "start_time": "2021-08-06T02:41:51.400Z"
   },
   {
    "duration": 85,
    "start_time": "2021-08-06T02:42:05.777Z"
   },
   {
    "duration": 5,
    "start_time": "2021-08-06T02:42:28.680Z"
   },
   {
    "duration": 38,
    "start_time": "2021-08-06T02:43:31.152Z"
   },
   {
    "duration": 33,
    "start_time": "2021-08-06T02:43:44.387Z"
   },
   {
    "duration": 4,
    "start_time": "2021-08-06T02:45:32.994Z"
   },
   {
    "duration": 3,
    "start_time": "2021-08-06T02:45:41.687Z"
   },
   {
    "duration": 3,
    "start_time": "2021-08-06T02:46:12.460Z"
   },
   {
    "duration": 3,
    "start_time": "2021-08-06T02:46:29.188Z"
   },
   {
    "duration": 44,
    "start_time": "2021-08-06T02:47:59.387Z"
   },
   {
    "duration": 1148,
    "start_time": "2021-08-06T19:34:07.897Z"
   },
   {
    "duration": 45,
    "start_time": "2021-08-06T19:34:11.402Z"
   },
   {
    "duration": 23,
    "start_time": "2021-08-06T19:34:14.427Z"
   },
   {
    "duration": 60,
    "start_time": "2021-08-06T19:34:18.069Z"
   },
   {
    "duration": 29,
    "start_time": "2021-08-06T19:36:08.604Z"
   },
   {
    "duration": 54,
    "start_time": "2021-08-06T19:38:57.659Z"
   },
   {
    "duration": 28,
    "start_time": "2021-08-06T20:54:22.716Z"
   },
   {
    "duration": 54,
    "start_time": "2021-08-06T20:54:32.170Z"
   },
   {
    "duration": 26,
    "start_time": "2021-08-06T20:54:44.841Z"
   },
   {
    "duration": 52,
    "start_time": "2021-08-06T20:54:50.548Z"
   },
   {
    "duration": 42,
    "start_time": "2021-08-06T20:55:43.629Z"
   },
   {
    "duration": 31,
    "start_time": "2021-08-06T21:08:33.140Z"
   },
   {
    "duration": 54,
    "start_time": "2021-08-06T21:09:47.584Z"
   },
   {
    "duration": 40,
    "start_time": "2021-08-06T22:44:24.640Z"
   },
   {
    "duration": 53,
    "start_time": "2021-08-06T22:44:58.578Z"
   },
   {
    "duration": 29,
    "start_time": "2021-08-06T23:17:31.751Z"
   },
   {
    "duration": 26,
    "start_time": "2021-08-06T23:21:34.416Z"
   },
   {
    "duration": 453,
    "start_time": "2021-08-06T23:25:33.357Z"
   },
   {
    "duration": 34,
    "start_time": "2021-08-06T23:26:46.091Z"
   },
   {
    "duration": 1126,
    "start_time": "2021-08-06T23:27:45.587Z"
   },
   {
    "duration": 476,
    "start_time": "2021-08-06T23:34:49.326Z"
   },
   {
    "duration": 37,
    "start_time": "2021-08-06T23:35:07.173Z"
   },
   {
    "duration": 65,
    "start_time": "2021-08-06T23:35:13.849Z"
   },
   {
    "duration": 287,
    "start_time": "2021-08-06T23:35:37.721Z"
   },
   {
    "duration": 48,
    "start_time": "2021-08-06T23:35:41.097Z"
   },
   {
    "duration": 23,
    "start_time": "2021-08-06T23:35:43.845Z"
   },
   {
    "duration": 50,
    "start_time": "2021-08-06T23:35:49.048Z"
   },
   {
    "duration": 488,
    "start_time": "2021-08-06T23:37:11.004Z"
   },
   {
    "duration": 385,
    "start_time": "2021-08-06T23:37:26.368Z"
   },
   {
    "duration": 38,
    "start_time": "2021-08-06T23:38:13.563Z"
   },
   {
    "duration": 311,
    "start_time": "2021-08-06T23:48:55.206Z"
   },
   {
    "duration": 339,
    "start_time": "2021-08-06T23:49:01.028Z"
   },
   {
    "duration": 280,
    "start_time": "2021-08-06T23:49:11.576Z"
   },
   {
    "duration": 358,
    "start_time": "2021-08-06T23:49:31.498Z"
   },
   {
    "duration": 326,
    "start_time": "2021-08-06T23:49:46.688Z"
   },
   {
    "duration": 1698,
    "start_time": "2021-08-06T23:52:01.513Z"
   },
   {
    "duration": 1696,
    "start_time": "2021-08-06T23:52:01.517Z"
   },
   {
    "duration": 46,
    "start_time": "2021-08-06T23:53:30.658Z"
   },
   {
    "duration": 298,
    "start_time": "2021-08-06T23:53:40.511Z"
   },
   {
    "duration": 43,
    "start_time": "2021-08-06T23:53:45.699Z"
   },
   {
    "duration": 23,
    "start_time": "2021-08-06T23:53:48.822Z"
   },
   {
    "duration": 41,
    "start_time": "2021-08-06T23:53:53.600Z"
   },
   {
    "duration": 27,
    "start_time": "2021-08-06T23:54:47.520Z"
   },
   {
    "duration": 33,
    "start_time": "2021-08-06T23:56:55.490Z"
   },
   {
    "duration": 44,
    "start_time": "2021-08-07T00:00:55.985Z"
   },
   {
    "duration": 28,
    "start_time": "2021-08-07T00:01:02.914Z"
   },
   {
    "duration": 28,
    "start_time": "2021-08-07T00:01:51.313Z"
   },
   {
    "duration": 344,
    "start_time": "2021-08-07T00:10:16.078Z"
   },
   {
    "duration": 37,
    "start_time": "2021-08-07T00:10:24.883Z"
   },
   {
    "duration": 5302,
    "start_time": "2021-08-07T00:12:42.496Z"
   },
   {
    "duration": 6393,
    "start_time": "2021-08-07T00:13:06.857Z"
   },
   {
    "duration": 43,
    "start_time": "2021-08-07T00:17:28.921Z"
   },
   {
    "duration": 36,
    "start_time": "2021-08-07T00:17:34.997Z"
   },
   {
    "duration": 66,
    "start_time": "2021-08-07T00:17:43.780Z"
   },
   {
    "duration": 93,
    "start_time": "2021-08-07T00:23:15.170Z"
   },
   {
    "duration": 274,
    "start_time": "2021-08-07T00:24:00.465Z"
   },
   {
    "duration": 29,
    "start_time": "2021-08-07T00:25:13.643Z"
   },
   {
    "duration": 39,
    "start_time": "2021-08-07T00:26:12.774Z"
   },
   {
    "duration": 31,
    "start_time": "2021-08-07T00:26:36.203Z"
   },
   {
    "duration": 34,
    "start_time": "2021-08-07T00:29:11.675Z"
   },
   {
    "duration": 30,
    "start_time": "2021-08-07T00:29:43.015Z"
   },
   {
    "duration": 37,
    "start_time": "2021-08-07T00:30:17.067Z"
   },
   {
    "duration": 30,
    "start_time": "2021-08-07T00:32:04.644Z"
   },
   {
    "duration": 45,
    "start_time": "2021-08-07T00:45:42.074Z"
   },
   {
    "duration": 106,
    "start_time": "2021-08-07T00:46:40.179Z"
   },
   {
    "duration": 103,
    "start_time": "2021-08-07T00:46:44.458Z"
   },
   {
    "duration": 31,
    "start_time": "2021-08-07T00:47:06.807Z"
   },
   {
    "duration": 34,
    "start_time": "2021-08-07T00:47:16.189Z"
   },
   {
    "duration": 49,
    "start_time": "2021-08-07T00:47:20.279Z"
   },
   {
    "duration": 7992,
    "start_time": "2021-08-07T00:49:57.349Z"
   },
   {
    "duration": 55,
    "start_time": "2021-08-07T00:50:08.020Z"
   },
   {
    "duration": 84,
    "start_time": "2021-08-07T00:50:51.218Z"
   },
   {
    "duration": 546,
    "start_time": "2021-08-07T00:58:29.270Z"
   },
   {
    "duration": 100,
    "start_time": "2021-08-07T00:58:38.114Z"
   },
   {
    "duration": 206,
    "start_time": "2021-08-07T00:58:41.432Z"
   },
   {
    "duration": 191,
    "start_time": "2021-08-07T01:00:33.004Z"
   },
   {
    "duration": 69,
    "start_time": "2021-08-07T01:01:27.383Z"
   },
   {
    "duration": 286,
    "start_time": "2021-08-07T01:01:37.800Z"
   },
   {
    "duration": 64,
    "start_time": "2021-08-07T01:01:40.415Z"
   },
   {
    "duration": 38,
    "start_time": "2021-08-07T01:01:42.582Z"
   },
   {
    "duration": 200,
    "start_time": "2021-08-07T01:01:50.203Z"
   },
   {
    "duration": 66,
    "start_time": "2021-08-07T01:01:55.673Z"
   },
   {
    "duration": 214,
    "start_time": "2021-08-07T01:05:18.714Z"
   },
   {
    "duration": 203,
    "start_time": "2021-08-07T01:10:13.967Z"
   },
   {
    "duration": 176,
    "start_time": "2021-08-07T01:11:18.648Z"
   },
   {
    "duration": 177,
    "start_time": "2021-08-07T01:11:24.419Z"
   },
   {
    "duration": 360,
    "start_time": "2021-08-07T01:11:45.820Z"
   },
   {
    "duration": 157,
    "start_time": "2021-08-07T01:11:55.415Z"
   },
   {
    "duration": 282,
    "start_time": "2021-08-07T01:15:06.590Z"
   },
   {
    "duration": 413,
    "start_time": "2021-08-07T01:23:27.550Z"
   },
   {
    "duration": 25,
    "start_time": "2021-08-07T01:30:06.927Z"
   },
   {
    "duration": 276,
    "start_time": "2021-08-07T01:31:52.220Z"
   },
   {
    "duration": 1910,
    "start_time": "2021-08-07T12:40:06.641Z"
   },
   {
    "duration": 59,
    "start_time": "2021-08-07T12:40:08.554Z"
   },
   {
    "duration": 18,
    "start_time": "2021-08-07T12:40:08.616Z"
   },
   {
    "duration": 234,
    "start_time": "2021-08-07T12:40:08.637Z"
   },
   {
    "duration": 288,
    "start_time": "2021-08-07T12:40:08.873Z"
   },
   {
    "duration": 5,
    "start_time": "2021-08-07T12:40:09.169Z"
   },
   {
    "duration": 16,
    "start_time": "2021-08-07T12:40:09.177Z"
   },
   {
    "duration": 4,
    "start_time": "2021-08-07T12:40:09.197Z"
   },
   {
    "duration": 5,
    "start_time": "2021-08-07T12:40:09.203Z"
   },
   {
    "duration": 1947,
    "start_time": "2021-08-07T16:02:04.884Z"
   },
   {
    "duration": 53,
    "start_time": "2021-08-07T16:02:06.834Z"
   },
   {
    "duration": 19,
    "start_time": "2021-08-07T16:02:06.890Z"
   },
   {
    "duration": 220,
    "start_time": "2021-08-07T16:02:06.912Z"
   },
   {
    "duration": 281,
    "start_time": "2021-08-07T16:02:07.134Z"
   },
   {
    "duration": 3,
    "start_time": "2021-08-07T16:02:07.418Z"
   },
   {
    "duration": 6,
    "start_time": "2021-08-07T16:02:07.423Z"
   },
   {
    "duration": 5,
    "start_time": "2021-08-07T16:02:07.434Z"
   },
   {
    "duration": 30,
    "start_time": "2021-08-07T16:02:07.442Z"
   },
   {
    "duration": 4,
    "start_time": "2021-08-08T21:37:55.126Z"
   },
   {
    "duration": 419,
    "start_time": "2021-08-08T21:38:05.685Z"
   },
   {
    "duration": 2287,
    "start_time": "2021-08-08T21:38:21.833Z"
   },
   {
    "duration": 22,
    "start_time": "2021-08-08T21:38:36.322Z"
   },
   {
    "duration": 23,
    "start_time": "2021-08-08T21:40:40.245Z"
   },
   {
    "duration": 22,
    "start_time": "2021-08-08T21:41:19.500Z"
   },
   {
    "duration": 23,
    "start_time": "2021-08-08T21:41:57.334Z"
   },
   {
    "duration": 40,
    "start_time": "2021-08-08T21:44:12.512Z"
   },
   {
    "duration": 43,
    "start_time": "2021-08-08T21:46:11.570Z"
   },
   {
    "duration": 521,
    "start_time": "2021-08-08T21:46:55.590Z"
   },
   {
    "duration": 41,
    "start_time": "2021-08-08T21:47:01.852Z"
   },
   {
    "duration": 47,
    "start_time": "2021-08-08T22:02:20.570Z"
   },
   {
    "duration": 44,
    "start_time": "2021-08-08T22:03:18.641Z"
   },
   {
    "duration": 11,
    "start_time": "2021-08-08T22:28:36.858Z"
   },
   {
    "duration": 173,
    "start_time": "2021-08-08T22:36:20.146Z"
   },
   {
    "duration": 29,
    "start_time": "2021-08-08T22:37:44.365Z"
   },
   {
    "duration": 30,
    "start_time": "2021-08-08T22:37:50.237Z"
   },
   {
    "duration": 381,
    "start_time": "2021-08-08T22:38:38.082Z"
   },
   {
    "duration": 463,
    "start_time": "2021-08-08T22:38:46.879Z"
   },
   {
    "duration": 309,
    "start_time": "2021-08-08T22:39:28.371Z"
   },
   {
    "duration": 2351,
    "start_time": "2021-08-08T22:39:34.638Z"
   },
   {
    "duration": 183,
    "start_time": "2021-08-08T22:42:05.935Z"
   },
   {
    "duration": 181,
    "start_time": "2021-08-08T22:42:32.247Z"
   },
   {
    "duration": 176,
    "start_time": "2021-08-08T22:42:50.244Z"
   },
   {
    "duration": 178,
    "start_time": "2021-08-08T22:43:03.383Z"
   },
   {
    "duration": 30,
    "start_time": "2021-08-08T22:46:06.225Z"
   },
   {
    "duration": 309,
    "start_time": "2021-08-08T22:46:17.047Z"
   },
   {
    "duration": 44,
    "start_time": "2021-08-08T22:46:20.601Z"
   },
   {
    "duration": 18,
    "start_time": "2021-08-08T22:46:23.453Z"
   },
   {
    "duration": 27,
    "start_time": "2021-08-08T22:46:28.890Z"
   },
   {
    "duration": 291,
    "start_time": "2021-08-08T22:49:28.240Z"
   },
   {
    "duration": 246,
    "start_time": "2021-08-08T22:49:41.890Z"
   },
   {
    "duration": 472,
    "start_time": "2021-08-08T23:00:45.733Z"
   },
   {
    "duration": 178,
    "start_time": "2021-08-08T23:01:17.350Z"
   },
   {
    "duration": 233,
    "start_time": "2021-08-08T23:07:04.767Z"
   },
   {
    "duration": 241,
    "start_time": "2021-08-08T23:07:37.585Z"
   },
   {
    "duration": 229,
    "start_time": "2021-08-08T23:08:20.328Z"
   },
   {
    "duration": 117,
    "start_time": "2021-08-08T23:38:52.805Z"
   },
   {
    "duration": 571,
    "start_time": "2021-08-08T23:42:45.670Z"
   },
   {
    "duration": 297,
    "start_time": "2021-08-08T23:43:06.195Z"
   },
   {
    "duration": 569,
    "start_time": "2021-08-08T23:43:15.759Z"
   },
   {
    "duration": 589,
    "start_time": "2021-08-08T23:43:33.640Z"
   },
   {
    "duration": 287,
    "start_time": "2021-08-08T23:44:17.394Z"
   },
   {
    "duration": 6,
    "start_time": "2021-08-08T23:44:21.720Z"
   },
   {
    "duration": 6,
    "start_time": "2021-08-08T23:44:39.896Z"
   },
   {
    "duration": 7,
    "start_time": "2021-08-08T23:46:45.746Z"
   },
   {
    "duration": 7,
    "start_time": "2021-08-08T23:46:55.884Z"
   },
   {
    "duration": 7,
    "start_time": "2021-08-08T23:47:28.870Z"
   },
   {
    "duration": 6,
    "start_time": "2021-08-08T23:47:34.471Z"
   },
   {
    "duration": 7,
    "start_time": "2021-08-08T23:47:39.979Z"
   },
   {
    "duration": 7,
    "start_time": "2021-08-08T23:50:05.258Z"
   },
   {
    "duration": 6,
    "start_time": "2021-08-08T23:50:10.309Z"
   },
   {
    "duration": 6,
    "start_time": "2021-08-08T23:50:14.799Z"
   },
   {
    "duration": 2853,
    "start_time": "2021-08-08T23:52:58.873Z"
   },
   {
    "duration": 2235,
    "start_time": "2021-08-08T23:53:25.384Z"
   },
   {
    "duration": 6,
    "start_time": "2021-08-08T23:54:04.938Z"
   },
   {
    "duration": 292,
    "start_time": "2021-08-08T23:54:54.678Z"
   },
   {
    "duration": 43,
    "start_time": "2021-08-08T23:54:54.972Z"
   },
   {
    "duration": 16,
    "start_time": "2021-08-08T23:54:55.018Z"
   },
   {
    "duration": 2792,
    "start_time": "2021-08-08T23:54:57.926Z"
   },
   {
    "duration": 2168,
    "start_time": "2021-08-08T23:55:22.344Z"
   },
   {
    "duration": 2209,
    "start_time": "2021-08-08T23:55:36.047Z"
   },
   {
    "duration": 2230,
    "start_time": "2021-08-08T23:56:02.152Z"
   },
   {
    "duration": 292,
    "start_time": "2021-08-08T23:56:18.034Z"
   },
   {
    "duration": 44,
    "start_time": "2021-08-08T23:56:18.328Z"
   },
   {
    "duration": 34,
    "start_time": "2021-08-08T23:56:18.375Z"
   },
   {
    "duration": 39,
    "start_time": "2021-08-08T23:56:29.083Z"
   },
   {
    "duration": 2839,
    "start_time": "2021-08-08T23:57:14.872Z"
   },
   {
    "duration": 661,
    "start_time": "2021-08-08T23:57:44.592Z"
   },
   {
    "duration": 277,
    "start_time": "2021-08-08T23:57:58.192Z"
   },
   {
    "duration": 43,
    "start_time": "2021-08-08T23:57:58.472Z"
   },
   {
    "duration": 19,
    "start_time": "2021-08-08T23:57:58.518Z"
   },
   {
    "duration": 678,
    "start_time": "2021-08-08T23:58:00.552Z"
   },
   {
    "duration": 318,
    "start_time": "2021-08-08T23:59:32.197Z"
   },
   {
    "duration": 45,
    "start_time": "2021-08-08T23:59:32.519Z"
   },
   {
    "duration": 47,
    "start_time": "2021-08-08T23:59:32.567Z"
   },
   {
    "duration": 2812,
    "start_time": "2021-08-08T23:59:40.836Z"
   },
   {
    "duration": 334,
    "start_time": "2021-08-09T00:00:44.027Z"
   },
   {
    "duration": 51,
    "start_time": "2021-08-09T00:00:44.364Z"
   },
   {
    "duration": 18,
    "start_time": "2021-08-09T00:00:44.418Z"
   },
   {
    "duration": 8400,
    "start_time": "2021-08-09T00:00:48.313Z"
   },
   {
    "duration": 323,
    "start_time": "2021-08-09T00:01:02.138Z"
   },
   {
    "duration": 53,
    "start_time": "2021-08-09T00:01:02.464Z"
   },
   {
    "duration": 19,
    "start_time": "2021-08-09T00:01:02.520Z"
   },
   {
    "duration": 8484,
    "start_time": "2021-08-09T00:01:10.745Z"
   },
   {
    "duration": 306,
    "start_time": "2021-08-09T00:02:22.243Z"
   },
   {
    "duration": 56,
    "start_time": "2021-08-09T00:02:22.552Z"
   },
   {
    "duration": 18,
    "start_time": "2021-08-09T00:02:22.611Z"
   },
   {
    "duration": 12338,
    "start_time": "2021-08-09T00:02:22.632Z"
   },
   {
    "duration": 304,
    "start_time": "2021-08-09T00:03:01.883Z"
   },
   {
    "duration": 44,
    "start_time": "2021-08-09T00:03:02.189Z"
   },
   {
    "duration": 18,
    "start_time": "2021-08-09T00:03:02.236Z"
   },
   {
    "duration": 9975,
    "start_time": "2021-08-09T00:03:02.257Z"
   },
   {
    "duration": 7,
    "start_time": "2021-08-09T00:03:12.234Z"
   },
   {
    "duration": 258,
    "start_time": "2021-08-09T00:03:12.244Z"
   },
   {
    "duration": 3,
    "start_time": "2021-08-09T00:03:12.505Z"
   },
   {
    "duration": 11,
    "start_time": "2021-08-09T00:03:12.511Z"
   },
   {
    "duration": 11,
    "start_time": "2021-08-09T00:03:12.525Z"
   },
   {
    "duration": 14,
    "start_time": "2021-08-09T00:03:12.538Z"
   },
   {
    "duration": 2815,
    "start_time": "2021-08-09T00:03:29.453Z"
   },
   {
    "duration": 2773,
    "start_time": "2021-08-09T00:03:45.634Z"
   },
   {
    "duration": 2906,
    "start_time": "2021-08-09T00:05:54.485Z"
   },
   {
    "duration": 5,
    "start_time": "2021-08-09T00:06:43.715Z"
   },
   {
    "duration": 7,
    "start_time": "2021-08-09T00:06:47.223Z"
   },
   {
    "duration": 2821,
    "start_time": "2021-08-09T00:07:02.817Z"
   },
   {
    "duration": 7,
    "start_time": "2021-08-09T00:07:50.784Z"
   },
   {
    "duration": 6,
    "start_time": "2021-08-09T00:08:39.916Z"
   },
   {
    "duration": 2846,
    "start_time": "2021-08-09T00:08:51.036Z"
   },
   {
    "duration": 2802,
    "start_time": "2021-08-09T00:09:16.623Z"
   },
   {
    "duration": 317,
    "start_time": "2021-08-09T00:09:26.222Z"
   },
   {
    "duration": 61,
    "start_time": "2021-08-09T00:09:26.543Z"
   },
   {
    "duration": 22,
    "start_time": "2021-08-09T00:09:26.608Z"
   },
   {
    "duration": 2801,
    "start_time": "2021-08-09T00:09:29.006Z"
   },
   {
    "duration": 1634,
    "start_time": "2021-08-09T00:09:50.121Z"
   },
   {
    "duration": 1797,
    "start_time": "2021-08-09T00:10:07.370Z"
   },
   {
    "duration": 283,
    "start_time": "2021-08-09T00:10:18.256Z"
   },
   {
    "duration": 58,
    "start_time": "2021-08-09T00:10:18.542Z"
   },
   {
    "duration": 20,
    "start_time": "2021-08-09T00:10:18.603Z"
   },
   {
    "duration": 2828,
    "start_time": "2021-08-09T00:10:20.656Z"
   },
   {
    "duration": 1606,
    "start_time": "2021-08-09T00:10:52.707Z"
   },
   {
    "duration": 1883,
    "start_time": "2021-08-09T00:11:19.124Z"
   },
   {
    "duration": 301,
    "start_time": "2021-08-09T00:11:24.807Z"
   },
   {
    "duration": 44,
    "start_time": "2021-08-09T00:11:25.111Z"
   },
   {
    "duration": 45,
    "start_time": "2021-08-09T00:11:25.159Z"
   },
   {
    "duration": 2869,
    "start_time": "2021-08-09T00:11:25.207Z"
   },
   {
    "duration": 1615,
    "start_time": "2021-08-09T00:11:32.321Z"
   },
   {
    "duration": 1704,
    "start_time": "2021-08-09T00:12:45.047Z"
   },
   {
    "duration": 1835,
    "start_time": "2021-08-09T00:14:23.121Z"
   },
   {
    "duration": 305,
    "start_time": "2021-08-09T00:14:34.587Z"
   },
   {
    "duration": 45,
    "start_time": "2021-08-09T00:14:34.895Z"
   },
   {
    "duration": 17,
    "start_time": "2021-08-09T00:14:34.943Z"
   },
   {
    "duration": 2828,
    "start_time": "2021-08-09T00:14:39.850Z"
   },
   {
    "duration": 2329,
    "start_time": "2021-08-09T00:14:50.223Z"
   },
   {
    "duration": 2353,
    "start_time": "2021-08-09T00:15:03.672Z"
   },
   {
    "duration": 347,
    "start_time": "2021-08-09T00:17:31.456Z"
   },
   {
    "duration": 5,
    "start_time": "2021-08-09T00:17:47.621Z"
   },
   {
    "duration": 7,
    "start_time": "2021-08-09T00:17:56.264Z"
   },
   {
    "duration": 7,
    "start_time": "2021-08-09T00:18:33.379Z"
   },
   {
    "duration": 8,
    "start_time": "2021-08-09T00:18:59.653Z"
   },
   {
    "duration": 6,
    "start_time": "2021-08-09T00:19:19.417Z"
   },
   {
    "duration": 7,
    "start_time": "2021-08-09T00:19:35.384Z"
   },
   {
    "duration": 7,
    "start_time": "2021-08-09T00:19:55.258Z"
   },
   {
    "duration": 7,
    "start_time": "2021-08-09T00:19:59.175Z"
   },
   {
    "duration": 2331,
    "start_time": "2021-08-09T00:20:23.547Z"
   },
   {
    "duration": 6,
    "start_time": "2021-08-09T00:20:56.401Z"
   },
   {
    "duration": 2362,
    "start_time": "2021-08-09T00:21:15.089Z"
   },
   {
    "duration": 6,
    "start_time": "2021-08-09T00:21:38.037Z"
   },
   {
    "duration": 307,
    "start_time": "2021-08-09T00:22:17.441Z"
   },
   {
    "duration": 56,
    "start_time": "2021-08-09T00:22:17.750Z"
   },
   {
    "duration": 17,
    "start_time": "2021-08-09T00:22:17.809Z"
   },
   {
    "duration": 2818,
    "start_time": "2021-08-09T00:22:23.303Z"
   },
   {
    "duration": 7,
    "start_time": "2021-08-09T00:23:45.869Z"
   },
   {
    "duration": 7,
    "start_time": "2021-08-09T00:23:51.878Z"
   },
   {
    "duration": 7,
    "start_time": "2021-08-09T00:23:59.034Z"
   },
   {
    "duration": 7,
    "start_time": "2021-08-09T00:24:17.996Z"
   },
   {
    "duration": 7,
    "start_time": "2021-08-09T00:24:30.973Z"
   },
   {
    "duration": 7,
    "start_time": "2021-08-09T00:24:51.896Z"
   },
   {
    "duration": 7,
    "start_time": "2021-08-09T00:25:02.398Z"
   },
   {
    "duration": 7,
    "start_time": "2021-08-09T00:25:18.984Z"
   },
   {
    "duration": 7,
    "start_time": "2021-08-09T00:25:29.931Z"
   },
   {
    "duration": 6,
    "start_time": "2021-08-09T00:25:53.741Z"
   },
   {
    "duration": 7,
    "start_time": "2021-08-09T00:26:07.665Z"
   },
   {
    "duration": 7,
    "start_time": "2021-08-09T00:26:31.126Z"
   },
   {
    "duration": 6,
    "start_time": "2021-08-09T00:26:49.789Z"
   },
   {
    "duration": 6,
    "start_time": "2021-08-09T00:27:06.530Z"
   },
   {
    "duration": 6,
    "start_time": "2021-08-09T00:27:36.823Z"
   },
   {
    "duration": 2328,
    "start_time": "2021-08-09T00:27:50.056Z"
   },
   {
    "duration": 294,
    "start_time": "2021-08-09T00:27:57.101Z"
   },
   {
    "duration": 44,
    "start_time": "2021-08-09T00:27:57.399Z"
   },
   {
    "duration": 19,
    "start_time": "2021-08-09T00:27:57.447Z"
   },
   {
    "duration": 2934,
    "start_time": "2021-08-09T00:27:59.995Z"
   },
   {
    "duration": 247,
    "start_time": "2021-08-09T00:37:47.043Z"
   },
   {
    "duration": 220,
    "start_time": "2021-08-09T00:38:45.038Z"
   },
   {
    "duration": 282,
    "start_time": "2021-08-09T00:38:59.200Z"
   },
   {
    "duration": 44,
    "start_time": "2021-08-09T00:38:59.484Z"
   },
   {
    "duration": 18,
    "start_time": "2021-08-09T00:38:59.531Z"
   },
   {
    "duration": 2860,
    "start_time": "2021-08-09T00:38:59.552Z"
   },
   {
    "duration": 241,
    "start_time": "2021-08-09T00:39:02.415Z"
   },
   {
    "duration": 237,
    "start_time": "2021-08-09T00:39:40.021Z"
   },
   {
    "duration": 271,
    "start_time": "2021-08-09T00:40:38.765Z"
   },
   {
    "duration": 18282,
    "start_time": "2021-08-09T00:41:12.913Z"
   },
   {
    "duration": 256,
    "start_time": "2021-08-09T00:42:03.683Z"
   },
   {
    "duration": 274,
    "start_time": "2021-08-09T00:42:56.547Z"
   },
   {
    "duration": 284,
    "start_time": "2021-08-09T00:45:55.122Z"
   },
   {
    "duration": 272,
    "start_time": "2021-08-09T00:47:39.598Z"
   },
   {
    "duration": 292,
    "start_time": "2021-08-09T00:50:40.008Z"
   },
   {
    "duration": 281,
    "start_time": "2021-08-09T00:54:41.747Z"
   },
   {
    "duration": 285,
    "start_time": "2021-08-09T00:55:46.182Z"
   },
   {
    "duration": 611,
    "start_time": "2021-08-09T00:56:01.864Z"
   },
   {
    "duration": 263,
    "start_time": "2021-08-09T00:56:13.026Z"
   },
   {
    "duration": 271,
    "start_time": "2021-08-09T01:12:22.440Z"
   },
   {
    "duration": 243,
    "start_time": "2021-08-09T01:30:19.726Z"
   },
   {
    "duration": 228,
    "start_time": "2021-08-09T01:30:55.009Z"
   },
   {
    "duration": 266,
    "start_time": "2021-08-09T01:33:22.576Z"
   },
   {
    "duration": 297,
    "start_time": "2021-08-09T01:34:13.205Z"
   },
   {
    "duration": 268,
    "start_time": "2021-08-09T01:36:17.933Z"
   },
   {
    "duration": 442,
    "start_time": "2021-08-09T01:37:56.963Z"
   },
   {
    "duration": 256,
    "start_time": "2021-08-09T01:38:16.564Z"
   },
   {
    "duration": 1543,
    "start_time": "2021-08-09T21:51:45.071Z"
   },
   {
    "duration": 27,
    "start_time": "2021-08-09T21:51:46.615Z"
   },
   {
    "duration": 15,
    "start_time": "2021-08-09T21:51:46.644Z"
   },
   {
    "duration": 2854,
    "start_time": "2021-08-09T21:51:46.661Z"
   },
   {
    "duration": 204,
    "start_time": "2021-08-09T21:51:49.517Z"
   },
   {
    "duration": 2,
    "start_time": "2021-08-09T21:51:49.723Z"
   },
   {
    "duration": 9,
    "start_time": "2021-08-09T21:51:49.727Z"
   },
   {
    "duration": 4,
    "start_time": "2021-08-09T21:51:49.738Z"
   },
   {
    "duration": 4,
    "start_time": "2021-08-09T21:51:49.744Z"
   },
   {
    "duration": 6,
    "start_time": "2021-08-09T21:51:49.750Z"
   },
   {
    "duration": 354,
    "start_time": "2021-08-10T06:41:38.812Z"
   },
   {
    "duration": 1394,
    "start_time": "2021-08-10T06:41:47.742Z"
   },
   {
    "duration": 26,
    "start_time": "2021-08-10T06:41:50.740Z"
   },
   {
    "duration": 86,
    "start_time": "2021-08-10T06:41:55.468Z"
   },
   {
    "duration": 28,
    "start_time": "2021-08-10T06:42:01.011Z"
   },
   {
    "duration": 198,
    "start_time": "2021-08-10T08:33:15.158Z"
   },
   {
    "duration": 29,
    "start_time": "2021-08-10T08:33:59.527Z"
   },
   {
    "duration": 29,
    "start_time": "2021-08-10T08:48:54.255Z"
   },
   {
    "duration": 30,
    "start_time": "2021-08-10T08:53:42.006Z"
   },
   {
    "duration": 203,
    "start_time": "2021-08-10T08:53:54.134Z"
   },
   {
    "duration": 29,
    "start_time": "2021-08-10T08:53:54.339Z"
   },
   {
    "duration": 40,
    "start_time": "2021-08-10T08:54:58.802Z"
   },
   {
    "duration": 30,
    "start_time": "2021-08-10T08:56:45.915Z"
   },
   {
    "duration": 38,
    "start_time": "2021-08-10T08:57:22.272Z"
   },
   {
    "duration": 38,
    "start_time": "2021-08-10T08:57:54.233Z"
   },
   {
    "duration": 36,
    "start_time": "2021-08-10T08:57:59.961Z"
   },
   {
    "duration": 1545,
    "start_time": "2021-08-11T08:23:17.470Z"
   },
   {
    "duration": 42,
    "start_time": "2021-08-11T08:23:19.017Z"
   },
   {
    "duration": 16,
    "start_time": "2021-08-11T08:23:19.061Z"
   },
   {
    "duration": 2788,
    "start_time": "2021-08-11T08:23:19.079Z"
   },
   {
    "duration": 164,
    "start_time": "2021-08-11T08:23:21.868Z"
   },
   {
    "duration": 6,
    "start_time": "2021-08-11T08:23:22.034Z"
   },
   {
    "duration": 5,
    "start_time": "2021-08-11T08:23:22.042Z"
   },
   {
    "duration": 4,
    "start_time": "2021-08-11T08:23:22.049Z"
   },
   {
    "duration": 6,
    "start_time": "2021-08-11T08:23:22.055Z"
   },
   {
    "duration": 8,
    "start_time": "2021-08-11T08:23:22.063Z"
   }
  ],
  "kernelspec": {
   "display_name": "Python 3 (ipykernel)",
   "language": "python",
   "name": "python3"
  },
  "language_info": {
   "codemirror_mode": {
    "name": "ipython",
    "version": 3
   },
   "file_extension": ".py",
   "mimetype": "text/x-python",
   "name": "python",
   "nbconvert_exporter": "python",
   "pygments_lexer": "ipython3",
   "version": "3.9.7"
  },
  "toc": {
   "base_numbering": 1,
   "nav_menu": {},
   "number_sections": true,
   "sideBar": true,
   "skip_h1_title": true,
   "title_cell": "Table of Contents",
   "title_sidebar": "Contents",
   "toc_cell": false,
   "toc_position": {},
   "toc_section_display": true,
   "toc_window_display": false
  }
 },
 "nbformat": 4,
 "nbformat_minor": 2
}
