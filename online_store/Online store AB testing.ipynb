{
 "cells": [
  {
   "cell_type": "markdown",
   "metadata": {},
   "source": [
    "# Prioritize hypotheses, launch an A/B test, and analyze the results\n",
    "\n",
    "An unknown online store wants to know which hypotheses will help boost revenue for the store. Prioritize the hypotheses, launch an A/B test, and analyze the results."
   ]
  },
  {
   "cell_type": "markdown",
   "metadata": {},
   "source": [
    "# Step 1\n",
    "\n",
    "Download the data, preprocess the data"
   ]
  },
  {
   "cell_type": "code",
   "execution_count": 1,
   "metadata": {},
   "outputs": [],
   "source": [
    "#import pandas and other important libraries\n",
    "import pandas as pd\n",
    "import warnings\n",
    "import matplotlib.pyplot as plt\n",
    "import numpy as np\n",
    "from scipy import stats as st\n",
    "import seaborn as sns\n",
    "import scipy.stats as stats\n",
    "\n",
    "warnings.filterwarnings('ignore')"
   ]
  },
  {
   "cell_type": "code",
   "execution_count": 2,
   "metadata": {},
   "outputs": [],
   "source": [
    "#read all input data and assign each dataset to a variable\n",
    "try:\n",
    "    hypotheses = pd.read_csv('hypotheses_us.csv', sep=';')\n",
    "except:\n",
    "    hypotheses = pd.read_csv('/datasets/hypotheses_us.csv', sep=';')\n",
    "    \n",
    "try:\n",
    "    orders = pd.read_csv('orders_us.csv', parse_dates=['date'])\n",
    "except:\n",
    "    orders = pd.read_csv('/datasets/orders_us.csv', parse_dates=['date'])\n",
    "    \n",
    "try:\n",
    "    visits = pd.read_csv('visits_us.csv', parse_dates=['date'])\n",
    "except:\n",
    "    visits = pd.read_csv('/datasets/visits_us.csv', parse_dates=['date'])"
   ]
  },
  {
   "cell_type": "code",
   "execution_count": 3,
   "metadata": {},
   "outputs": [
    {
     "name": "stdout",
     "output_type": "stream",
     "text": [
      "<class 'pandas.core.frame.DataFrame'>\n",
      "RangeIndex: 9 entries, 0 to 8\n",
      "Data columns (total 5 columns):\n",
      "Hypothesis    9 non-null object\n",
      "Reach         9 non-null int64\n",
      "Impact        9 non-null int64\n",
      "Confidence    9 non-null int64\n",
      "Effort        9 non-null int64\n",
      "dtypes: int64(4), object(1)\n",
      "memory usage: 488.0+ bytes\n"
     ]
    },
    {
     "data": {
      "text/html": [
       "<div>\n",
       "<style scoped>\n",
       "    .dataframe tbody tr th:only-of-type {\n",
       "        vertical-align: middle;\n",
       "    }\n",
       "\n",
       "    .dataframe tbody tr th {\n",
       "        vertical-align: top;\n",
       "    }\n",
       "\n",
       "    .dataframe thead th {\n",
       "        text-align: right;\n",
       "    }\n",
       "</style>\n",
       "<table border=\"1\" class=\"dataframe\">\n",
       "  <thead>\n",
       "    <tr style=\"text-align: right;\">\n",
       "      <th></th>\n",
       "      <th>Hypothesis</th>\n",
       "      <th>Reach</th>\n",
       "      <th>Impact</th>\n",
       "      <th>Confidence</th>\n",
       "      <th>Effort</th>\n",
       "    </tr>\n",
       "  </thead>\n",
       "  <tbody>\n",
       "    <tr>\n",
       "      <td>0</td>\n",
       "      <td>Add two new channels for attracting traffic. This will bring 30% more users</td>\n",
       "      <td>3</td>\n",
       "      <td>10</td>\n",
       "      <td>8</td>\n",
       "      <td>6</td>\n",
       "    </tr>\n",
       "    <tr>\n",
       "      <td>1</td>\n",
       "      <td>Launch your own delivery service. This will shorten delivery time</td>\n",
       "      <td>2</td>\n",
       "      <td>5</td>\n",
       "      <td>4</td>\n",
       "      <td>10</td>\n",
       "    </tr>\n",
       "    <tr>\n",
       "      <td>2</td>\n",
       "      <td>Add product recommendation blocks to the store's site. This will increase conversion and average purchase size</td>\n",
       "      <td>8</td>\n",
       "      <td>3</td>\n",
       "      <td>7</td>\n",
       "      <td>3</td>\n",
       "    </tr>\n",
       "    <tr>\n",
       "      <td>3</td>\n",
       "      <td>Change the category structure. This will increase conversion since users will find the products they want more quickly</td>\n",
       "      <td>8</td>\n",
       "      <td>3</td>\n",
       "      <td>3</td>\n",
       "      <td>8</td>\n",
       "    </tr>\n",
       "    <tr>\n",
       "      <td>4</td>\n",
       "      <td>Change the background color on the main page. This will increase user engagement</td>\n",
       "      <td>3</td>\n",
       "      <td>1</td>\n",
       "      <td>1</td>\n",
       "      <td>1</td>\n",
       "    </tr>\n",
       "    <tr>\n",
       "      <td>5</td>\n",
       "      <td>Add a customer review page. This will increase the number of orders</td>\n",
       "      <td>3</td>\n",
       "      <td>2</td>\n",
       "      <td>2</td>\n",
       "      <td>3</td>\n",
       "    </tr>\n",
       "    <tr>\n",
       "      <td>6</td>\n",
       "      <td>Show banners with current offers and sales on the main page. This will boost conversion</td>\n",
       "      <td>5</td>\n",
       "      <td>3</td>\n",
       "      <td>8</td>\n",
       "      <td>3</td>\n",
       "    </tr>\n",
       "    <tr>\n",
       "      <td>7</td>\n",
       "      <td>Add a subscription form to all the main pages. This will help you compile a mailing list</td>\n",
       "      <td>10</td>\n",
       "      <td>7</td>\n",
       "      <td>8</td>\n",
       "      <td>5</td>\n",
       "    </tr>\n",
       "    <tr>\n",
       "      <td>8</td>\n",
       "      <td>Launch a promotion that gives users discounts on their birthdays</td>\n",
       "      <td>1</td>\n",
       "      <td>9</td>\n",
       "      <td>9</td>\n",
       "      <td>5</td>\n",
       "    </tr>\n",
       "  </tbody>\n",
       "</table>\n",
       "</div>"
      ],
      "text/plain": [
       "                                                                                                               Hypothesis  \\\n",
       "0                                             Add two new channels for attracting traffic. This will bring 30% more users   \n",
       "1                                                       Launch your own delivery service. This will shorten delivery time   \n",
       "2          Add product recommendation blocks to the store's site. This will increase conversion and average purchase size   \n",
       "3  Change the category structure. This will increase conversion since users will find the products they want more quickly   \n",
       "4                                        Change the background color on the main page. This will increase user engagement   \n",
       "5                                                     Add a customer review page. This will increase the number of orders   \n",
       "6                                 Show banners with current offers and sales on the main page. This will boost conversion   \n",
       "7                                Add a subscription form to all the main pages. This will help you compile a mailing list   \n",
       "8                                                        Launch a promotion that gives users discounts on their birthdays   \n",
       "\n",
       "   Reach  Impact  Confidence  Effort  \n",
       "0      3      10           8       6  \n",
       "1      2       5           4      10  \n",
       "2      8       3           7       3  \n",
       "3      8       3           3       8  \n",
       "4      3       1           1       1  \n",
       "5      3       2           2       3  \n",
       "6      5       3           8       3  \n",
       "7     10       7           8       5  \n",
       "8      1       9           9       5  "
      ]
     },
     "execution_count": 3,
     "metadata": {},
     "output_type": "execute_result"
    }
   ],
   "source": [
    "hypotheses.info()\n",
    "pd.set_option('max_colwidth', 120)\n",
    "hypotheses"
   ]
  },
  {
   "cell_type": "code",
   "execution_count": 4,
   "metadata": {},
   "outputs": [
    {
     "name": "stdout",
     "output_type": "stream",
     "text": [
      "<class 'pandas.core.frame.DataFrame'>\n",
      "RangeIndex: 1197 entries, 0 to 1196\n",
      "Data columns (total 5 columns):\n",
      "transaction_id    1197 non-null int64\n",
      "visitor_id        1197 non-null int64\n",
      "date              1197 non-null datetime64[ns]\n",
      "revenue           1197 non-null float64\n",
      "group             1197 non-null object\n",
      "dtypes: datetime64[ns](1), float64(1), int64(2), object(1)\n",
      "memory usage: 46.9+ KB\n",
      "\n",
      "Number of duplicates found:  0\n",
      "\n",
      "Number of missing values found: \n",
      "transaction_id    0\n",
      "visitor_id        0\n",
      "date              0\n",
      "revenue           0\n",
      "group             0\n",
      "dtype: int64\n"
     ]
    },
    {
     "data": {
      "text/html": [
       "<div>\n",
       "<style scoped>\n",
       "    .dataframe tbody tr th:only-of-type {\n",
       "        vertical-align: middle;\n",
       "    }\n",
       "\n",
       "    .dataframe tbody tr th {\n",
       "        vertical-align: top;\n",
       "    }\n",
       "\n",
       "    .dataframe thead th {\n",
       "        text-align: right;\n",
       "    }\n",
       "</style>\n",
       "<table border=\"1\" class=\"dataframe\">\n",
       "  <thead>\n",
       "    <tr style=\"text-align: right;\">\n",
       "      <th></th>\n",
       "      <th>transaction_id</th>\n",
       "      <th>visitor_id</th>\n",
       "      <th>date</th>\n",
       "      <th>revenue</th>\n",
       "      <th>group</th>\n",
       "    </tr>\n",
       "  </thead>\n",
       "  <tbody>\n",
       "    <tr>\n",
       "      <td>0</td>\n",
       "      <td>3667963787</td>\n",
       "      <td>3312258926</td>\n",
       "      <td>2019-08-15</td>\n",
       "      <td>30.4</td>\n",
       "      <td>B</td>\n",
       "    </tr>\n",
       "    <tr>\n",
       "      <td>1</td>\n",
       "      <td>2804400009</td>\n",
       "      <td>3642806036</td>\n",
       "      <td>2019-08-15</td>\n",
       "      <td>15.2</td>\n",
       "      <td>B</td>\n",
       "    </tr>\n",
       "    <tr>\n",
       "      <td>2</td>\n",
       "      <td>2961555356</td>\n",
       "      <td>4069496402</td>\n",
       "      <td>2019-08-15</td>\n",
       "      <td>10.2</td>\n",
       "      <td>A</td>\n",
       "    </tr>\n",
       "    <tr>\n",
       "      <td>3</td>\n",
       "      <td>3797467345</td>\n",
       "      <td>1196621759</td>\n",
       "      <td>2019-08-15</td>\n",
       "      <td>155.1</td>\n",
       "      <td>B</td>\n",
       "    </tr>\n",
       "    <tr>\n",
       "      <td>4</td>\n",
       "      <td>2282983706</td>\n",
       "      <td>2322279887</td>\n",
       "      <td>2019-08-15</td>\n",
       "      <td>40.5</td>\n",
       "      <td>B</td>\n",
       "    </tr>\n",
       "    <tr>\n",
       "      <td>...</td>\n",
       "      <td>...</td>\n",
       "      <td>...</td>\n",
       "      <td>...</td>\n",
       "      <td>...</td>\n",
       "      <td>...</td>\n",
       "    </tr>\n",
       "    <tr>\n",
       "      <td>1192</td>\n",
       "      <td>2662137336</td>\n",
       "      <td>3733762160</td>\n",
       "      <td>2019-08-14</td>\n",
       "      <td>100.8</td>\n",
       "      <td>B</td>\n",
       "    </tr>\n",
       "    <tr>\n",
       "      <td>1193</td>\n",
       "      <td>2203539145</td>\n",
       "      <td>370388673</td>\n",
       "      <td>2019-08-14</td>\n",
       "      <td>50.1</td>\n",
       "      <td>A</td>\n",
       "    </tr>\n",
       "    <tr>\n",
       "      <td>1194</td>\n",
       "      <td>1807773912</td>\n",
       "      <td>573423106</td>\n",
       "      <td>2019-08-14</td>\n",
       "      <td>165.3</td>\n",
       "      <td>A</td>\n",
       "    </tr>\n",
       "    <tr>\n",
       "      <td>1195</td>\n",
       "      <td>1947021204</td>\n",
       "      <td>1614305549</td>\n",
       "      <td>2019-08-14</td>\n",
       "      <td>5.5</td>\n",
       "      <td>A</td>\n",
       "    </tr>\n",
       "    <tr>\n",
       "      <td>1196</td>\n",
       "      <td>3936777065</td>\n",
       "      <td>2108080724</td>\n",
       "      <td>2019-08-15</td>\n",
       "      <td>3120.1</td>\n",
       "      <td>B</td>\n",
       "    </tr>\n",
       "  </tbody>\n",
       "</table>\n",
       "<p>1197 rows × 5 columns</p>\n",
       "</div>"
      ],
      "text/plain": [
       "      transaction_id  visitor_id       date  revenue group\n",
       "0         3667963787  3312258926 2019-08-15     30.4     B\n",
       "1         2804400009  3642806036 2019-08-15     15.2     B\n",
       "2         2961555356  4069496402 2019-08-15     10.2     A\n",
       "3         3797467345  1196621759 2019-08-15    155.1     B\n",
       "4         2282983706  2322279887 2019-08-15     40.5     B\n",
       "...              ...         ...        ...      ...   ...\n",
       "1192      2662137336  3733762160 2019-08-14    100.8     B\n",
       "1193      2203539145   370388673 2019-08-14     50.1     A\n",
       "1194      1807773912   573423106 2019-08-14    165.3     A\n",
       "1195      1947021204  1614305549 2019-08-14      5.5     A\n",
       "1196      3936777065  2108080724 2019-08-15   3120.1     B\n",
       "\n",
       "[1197 rows x 5 columns]"
      ]
     },
     "execution_count": 4,
     "metadata": {},
     "output_type": "execute_result"
    }
   ],
   "source": [
    "orders.columns = ['transaction_id', 'visitor_id', 'date', 'revenue', 'group']\n",
    "orders.info()\n",
    "print('\\nNumber of duplicates found: ', orders.duplicated().sum())\n",
    "print('\\nNumber of missing values found: ')\n",
    "print(orders.isna().sum())\n",
    "orders"
   ]
  },
  {
   "cell_type": "code",
   "execution_count": 5,
   "metadata": {},
   "outputs": [
    {
     "name": "stdout",
     "output_type": "stream",
     "text": [
      "number of buyers in group A before the change: 557\n",
      "number of buyers in group B before the change: 640\n",
      "\n",
      "number of buyers in group A after the change: 468\n",
      "number of buyers in group B after the change: 548\n"
     ]
    },
    {
     "data": {
      "text/html": [
       "<div>\n",
       "<style scoped>\n",
       "    .dataframe tbody tr th:only-of-type {\n",
       "        vertical-align: middle;\n",
       "    }\n",
       "\n",
       "    .dataframe tbody tr th {\n",
       "        vertical-align: top;\n",
       "    }\n",
       "\n",
       "    .dataframe thead th {\n",
       "        text-align: right;\n",
       "    }\n",
       "</style>\n",
       "<table border=\"1\" class=\"dataframe\">\n",
       "  <thead>\n",
       "    <tr style=\"text-align: right;\">\n",
       "      <th></th>\n",
       "      <th>transaction_id</th>\n",
       "      <th>visitor_id</th>\n",
       "      <th>date</th>\n",
       "      <th>revenue</th>\n",
       "      <th>group</th>\n",
       "    </tr>\n",
       "  </thead>\n",
       "  <tbody>\n",
       "    <tr>\n",
       "      <td>0</td>\n",
       "      <td>3667963787</td>\n",
       "      <td>3312258926</td>\n",
       "      <td>2019-08-15</td>\n",
       "      <td>30.4</td>\n",
       "      <td>B</td>\n",
       "    </tr>\n",
       "    <tr>\n",
       "      <td>1</td>\n",
       "      <td>2804400009</td>\n",
       "      <td>3642806036</td>\n",
       "      <td>2019-08-15</td>\n",
       "      <td>15.2</td>\n",
       "      <td>B</td>\n",
       "    </tr>\n",
       "    <tr>\n",
       "      <td>3</td>\n",
       "      <td>3797467345</td>\n",
       "      <td>1196621759</td>\n",
       "      <td>2019-08-15</td>\n",
       "      <td>155.1</td>\n",
       "      <td>B</td>\n",
       "    </tr>\n",
       "    <tr>\n",
       "      <td>4</td>\n",
       "      <td>2282983706</td>\n",
       "      <td>2322279887</td>\n",
       "      <td>2019-08-15</td>\n",
       "      <td>40.5</td>\n",
       "      <td>B</td>\n",
       "    </tr>\n",
       "    <tr>\n",
       "      <td>5</td>\n",
       "      <td>182168103</td>\n",
       "      <td>935554773</td>\n",
       "      <td>2019-08-15</td>\n",
       "      <td>35.0</td>\n",
       "      <td>B</td>\n",
       "    </tr>\n",
       "    <tr>\n",
       "      <td>...</td>\n",
       "      <td>...</td>\n",
       "      <td>...</td>\n",
       "      <td>...</td>\n",
       "      <td>...</td>\n",
       "      <td>...</td>\n",
       "    </tr>\n",
       "    <tr>\n",
       "      <td>1191</td>\n",
       "      <td>3592955527</td>\n",
       "      <td>608641596</td>\n",
       "      <td>2019-08-14</td>\n",
       "      <td>255.7</td>\n",
       "      <td>B</td>\n",
       "    </tr>\n",
       "    <tr>\n",
       "      <td>1192</td>\n",
       "      <td>2662137336</td>\n",
       "      <td>3733762160</td>\n",
       "      <td>2019-08-14</td>\n",
       "      <td>100.8</td>\n",
       "      <td>B</td>\n",
       "    </tr>\n",
       "    <tr>\n",
       "      <td>1193</td>\n",
       "      <td>2203539145</td>\n",
       "      <td>370388673</td>\n",
       "      <td>2019-08-14</td>\n",
       "      <td>50.1</td>\n",
       "      <td>A</td>\n",
       "    </tr>\n",
       "    <tr>\n",
       "      <td>1194</td>\n",
       "      <td>1807773912</td>\n",
       "      <td>573423106</td>\n",
       "      <td>2019-08-14</td>\n",
       "      <td>165.3</td>\n",
       "      <td>A</td>\n",
       "    </tr>\n",
       "    <tr>\n",
       "      <td>1196</td>\n",
       "      <td>3936777065</td>\n",
       "      <td>2108080724</td>\n",
       "      <td>2019-08-15</td>\n",
       "      <td>3120.1</td>\n",
       "      <td>B</td>\n",
       "    </tr>\n",
       "  </tbody>\n",
       "</table>\n",
       "<p>1016 rows × 5 columns</p>\n",
       "</div>"
      ],
      "text/plain": [
       "      transaction_id  visitor_id       date  revenue group\n",
       "0         3667963787  3312258926 2019-08-15     30.4     B\n",
       "1         2804400009  3642806036 2019-08-15     15.2     B\n",
       "3         3797467345  1196621759 2019-08-15    155.1     B\n",
       "4         2282983706  2322279887 2019-08-15     40.5     B\n",
       "5          182168103   935554773 2019-08-15     35.0     B\n",
       "...              ...         ...        ...      ...   ...\n",
       "1191      3592955527   608641596 2019-08-14    255.7     B\n",
       "1192      2662137336  3733762160 2019-08-14    100.8     B\n",
       "1193      2203539145   370388673 2019-08-14     50.1     A\n",
       "1194      1807773912   573423106 2019-08-14    165.3     A\n",
       "1196      3936777065  2108080724 2019-08-15   3120.1     B\n",
       "\n",
       "[1016 rows x 5 columns]"
      ]
     },
     "execution_count": 5,
     "metadata": {},
     "output_type": "execute_result"
    }
   ],
   "source": [
    "print('number of buyers in group A before the change:', orders.query('group==\"A\"')['visitor_id'].count())\n",
    "print('number of buyers in group B before the change:', orders.query('group==\"B\"')['visitor_id'].count())\n",
    "\n",
    "group_A = orders['visitor_id'].values[np.where(orders['group'].values == 'A')]\n",
    "group_B = orders['visitor_id'].values[np.where(orders['group'].values == 'B')]\n",
    "AB_id = np.intersect1d(group_B,group_A, return_indices=True)\n",
    "\n",
    "orders = orders.loc[np.invert(np.isin(orders['visitor_id'].values, AB_id))]\n",
    "print('\\nnumber of buyers in group A after the change:', orders.query('group==\"A\"')['visitor_id'].count())\n",
    "print('number of buyers in group B after the change:', orders.query('group==\"B\"')['visitor_id'].count())\n",
    "orders"
   ]
  },
  {
   "cell_type": "code",
   "execution_count": 6,
   "metadata": {
    "scrolled": false
   },
   "outputs": [
    {
     "name": "stdout",
     "output_type": "stream",
     "text": [
      "<class 'pandas.core.frame.DataFrame'>\n",
      "RangeIndex: 62 entries, 0 to 61\n",
      "Data columns (total 3 columns):\n",
      "date      62 non-null datetime64[ns]\n",
      "group     62 non-null object\n",
      "visits    62 non-null int64\n",
      "dtypes: datetime64[ns](1), int64(1), object(1)\n",
      "memory usage: 1.6+ KB\n",
      "\n",
      "Number of duplicates found:  0\n",
      "\n",
      "Number of missing values found: \n",
      "date      0\n",
      "group     0\n",
      "visits    0\n",
      "dtype: int64\n"
     ]
    },
    {
     "data": {
      "text/html": [
       "<div>\n",
       "<style scoped>\n",
       "    .dataframe tbody tr th:only-of-type {\n",
       "        vertical-align: middle;\n",
       "    }\n",
       "\n",
       "    .dataframe tbody tr th {\n",
       "        vertical-align: top;\n",
       "    }\n",
       "\n",
       "    .dataframe thead th {\n",
       "        text-align: right;\n",
       "    }\n",
       "</style>\n",
       "<table border=\"1\" class=\"dataframe\">\n",
       "  <thead>\n",
       "    <tr style=\"text-align: right;\">\n",
       "      <th></th>\n",
       "      <th>date</th>\n",
       "      <th>group</th>\n",
       "      <th>visits</th>\n",
       "    </tr>\n",
       "  </thead>\n",
       "  <tbody>\n",
       "    <tr>\n",
       "      <td>0</td>\n",
       "      <td>2019-08-01</td>\n",
       "      <td>A</td>\n",
       "      <td>719</td>\n",
       "    </tr>\n",
       "    <tr>\n",
       "      <td>1</td>\n",
       "      <td>2019-08-02</td>\n",
       "      <td>A</td>\n",
       "      <td>619</td>\n",
       "    </tr>\n",
       "    <tr>\n",
       "      <td>2</td>\n",
       "      <td>2019-08-03</td>\n",
       "      <td>A</td>\n",
       "      <td>507</td>\n",
       "    </tr>\n",
       "    <tr>\n",
       "      <td>3</td>\n",
       "      <td>2019-08-04</td>\n",
       "      <td>A</td>\n",
       "      <td>717</td>\n",
       "    </tr>\n",
       "    <tr>\n",
       "      <td>4</td>\n",
       "      <td>2019-08-05</td>\n",
       "      <td>A</td>\n",
       "      <td>756</td>\n",
       "    </tr>\n",
       "    <tr>\n",
       "      <td>...</td>\n",
       "      <td>...</td>\n",
       "      <td>...</td>\n",
       "      <td>...</td>\n",
       "    </tr>\n",
       "    <tr>\n",
       "      <td>57</td>\n",
       "      <td>2019-08-27</td>\n",
       "      <td>B</td>\n",
       "      <td>720</td>\n",
       "    </tr>\n",
       "    <tr>\n",
       "      <td>58</td>\n",
       "      <td>2019-08-28</td>\n",
       "      <td>B</td>\n",
       "      <td>654</td>\n",
       "    </tr>\n",
       "    <tr>\n",
       "      <td>59</td>\n",
       "      <td>2019-08-29</td>\n",
       "      <td>B</td>\n",
       "      <td>531</td>\n",
       "    </tr>\n",
       "    <tr>\n",
       "      <td>60</td>\n",
       "      <td>2019-08-30</td>\n",
       "      <td>B</td>\n",
       "      <td>490</td>\n",
       "    </tr>\n",
       "    <tr>\n",
       "      <td>61</td>\n",
       "      <td>2019-08-31</td>\n",
       "      <td>B</td>\n",
       "      <td>718</td>\n",
       "    </tr>\n",
       "  </tbody>\n",
       "</table>\n",
       "<p>62 rows × 3 columns</p>\n",
       "</div>"
      ],
      "text/plain": [
       "         date group  visits\n",
       "0  2019-08-01     A     719\n",
       "1  2019-08-02     A     619\n",
       "2  2019-08-03     A     507\n",
       "3  2019-08-04     A     717\n",
       "4  2019-08-05     A     756\n",
       "..        ...   ...     ...\n",
       "57 2019-08-27     B     720\n",
       "58 2019-08-28     B     654\n",
       "59 2019-08-29     B     531\n",
       "60 2019-08-30     B     490\n",
       "61 2019-08-31     B     718\n",
       "\n",
       "[62 rows x 3 columns]"
      ]
     },
     "execution_count": 6,
     "metadata": {},
     "output_type": "execute_result"
    }
   ],
   "source": [
    "visits.info()\n",
    "print('\\nNumber of duplicates found: ', visits.duplicated().sum())\n",
    "print('\\nNumber of missing values found: ')\n",
    "print(visits.isna().sum())\n",
    "visits"
   ]
  },
  {
   "cell_type": "markdown",
   "metadata": {},
   "source": [
    "# Step 2\n",
    "\n",
    "The file hypotheses_us.csv contains nine hypotheses on boosting an online store's revenue with Reach, Impact, Confidence, and Effort specified for each.\n",
    "\n",
    "The task is to:\n",
    "\n",
    "- Apply the ICE framework to prioritize hypotheses. Sort them in descending order of priority.\n",
    "- Apply the RICE framework to prioritize hypotheses. Sort them in descending order of priority.\n",
    "- Show how the prioritization of hypotheses changes when you use RICE instead of ICE. Provide an explanation for the changes."
   ]
  },
  {
   "cell_type": "code",
   "execution_count": 7,
   "metadata": {},
   "outputs": [
    {
     "data": {
      "text/html": [
       "<div>\n",
       "<style scoped>\n",
       "    .dataframe tbody tr th:only-of-type {\n",
       "        vertical-align: middle;\n",
       "    }\n",
       "\n",
       "    .dataframe tbody tr th {\n",
       "        vertical-align: top;\n",
       "    }\n",
       "\n",
       "    .dataframe thead th {\n",
       "        text-align: right;\n",
       "    }\n",
       "</style>\n",
       "<table border=\"1\" class=\"dataframe\">\n",
       "  <thead>\n",
       "    <tr style=\"text-align: right;\">\n",
       "      <th></th>\n",
       "      <th>Hypothesis</th>\n",
       "      <th>ICE</th>\n",
       "    </tr>\n",
       "  </thead>\n",
       "  <tbody>\n",
       "    <tr>\n",
       "      <td>8</td>\n",
       "      <td>Launch a promotion that gives users discounts on their birthdays</td>\n",
       "      <td>16.20</td>\n",
       "    </tr>\n",
       "    <tr>\n",
       "      <td>0</td>\n",
       "      <td>Add two new channels for attracting traffic. This will bring 30% more users</td>\n",
       "      <td>13.33</td>\n",
       "    </tr>\n",
       "    <tr>\n",
       "      <td>7</td>\n",
       "      <td>Add a subscription form to all the main pages. This will help you compile a mailing list</td>\n",
       "      <td>11.20</td>\n",
       "    </tr>\n",
       "    <tr>\n",
       "      <td>6</td>\n",
       "      <td>Show banners with current offers and sales on the main page. This will boost conversion</td>\n",
       "      <td>8.00</td>\n",
       "    </tr>\n",
       "    <tr>\n",
       "      <td>2</td>\n",
       "      <td>Add product recommendation blocks to the store's site. This will increase conversion and average purchase size</td>\n",
       "      <td>7.00</td>\n",
       "    </tr>\n",
       "    <tr>\n",
       "      <td>1</td>\n",
       "      <td>Launch your own delivery service. This will shorten delivery time</td>\n",
       "      <td>2.00</td>\n",
       "    </tr>\n",
       "    <tr>\n",
       "      <td>5</td>\n",
       "      <td>Add a customer review page. This will increase the number of orders</td>\n",
       "      <td>1.33</td>\n",
       "    </tr>\n",
       "    <tr>\n",
       "      <td>3</td>\n",
       "      <td>Change the category structure. This will increase conversion since users will find the products they want more quickly</td>\n",
       "      <td>1.12</td>\n",
       "    </tr>\n",
       "    <tr>\n",
       "      <td>4</td>\n",
       "      <td>Change the background color on the main page. This will increase user engagement</td>\n",
       "      <td>1.00</td>\n",
       "    </tr>\n",
       "  </tbody>\n",
       "</table>\n",
       "</div>"
      ],
      "text/plain": [
       "                                                                                                               Hypothesis  \\\n",
       "8                                                        Launch a promotion that gives users discounts on their birthdays   \n",
       "0                                             Add two new channels for attracting traffic. This will bring 30% more users   \n",
       "7                                Add a subscription form to all the main pages. This will help you compile a mailing list   \n",
       "6                                 Show banners with current offers and sales on the main page. This will boost conversion   \n",
       "2          Add product recommendation blocks to the store's site. This will increase conversion and average purchase size   \n",
       "1                                                       Launch your own delivery service. This will shorten delivery time   \n",
       "5                                                     Add a customer review page. This will increase the number of orders   \n",
       "3  Change the category structure. This will increase conversion since users will find the products they want more quickly   \n",
       "4                                        Change the background color on the main page. This will increase user engagement   \n",
       "\n",
       "     ICE  \n",
       "8  16.20  \n",
       "0  13.33  \n",
       "7  11.20  \n",
       "6   8.00  \n",
       "2   7.00  \n",
       "1   2.00  \n",
       "5   1.33  \n",
       "3   1.12  \n",
       "4   1.00  "
      ]
     },
     "execution_count": 7,
     "metadata": {},
     "output_type": "execute_result"
    }
   ],
   "source": [
    "# Calculating ICE and rounding by 2\n",
    "hypotheses['ICE'] = ((hypotheses['Impact'] * hypotheses['Confidence']) / hypotheses['Effort']).round(2)\n",
    "\n",
    "hypotheses[['Hypothesis', 'ICE']].sort_values('ICE', ascending=False)"
   ]
  },
  {
   "cell_type": "markdown",
   "metadata": {},
   "source": [
    "In terms of ICE, 8, 0, 6, and 7 gave the most promising hypotheses. "
   ]
  },
  {
   "cell_type": "code",
   "execution_count": 8,
   "metadata": {},
   "outputs": [
    {
     "data": {
      "text/html": [
       "<div>\n",
       "<style scoped>\n",
       "    .dataframe tbody tr th:only-of-type {\n",
       "        vertical-align: middle;\n",
       "    }\n",
       "\n",
       "    .dataframe tbody tr th {\n",
       "        vertical-align: top;\n",
       "    }\n",
       "\n",
       "    .dataframe thead th {\n",
       "        text-align: right;\n",
       "    }\n",
       "</style>\n",
       "<table border=\"1\" class=\"dataframe\">\n",
       "  <thead>\n",
       "    <tr style=\"text-align: right;\">\n",
       "      <th></th>\n",
       "      <th>Hypothesis</th>\n",
       "      <th>RICE</th>\n",
       "    </tr>\n",
       "  </thead>\n",
       "  <tbody>\n",
       "    <tr>\n",
       "      <td>7</td>\n",
       "      <td>Add a subscription form to all the main pages. This will help you compile a mailing list</td>\n",
       "      <td>112.0</td>\n",
       "    </tr>\n",
       "    <tr>\n",
       "      <td>2</td>\n",
       "      <td>Add product recommendation blocks to the store's site. This will increase conversion and average purchase size</td>\n",
       "      <td>56.0</td>\n",
       "    </tr>\n",
       "    <tr>\n",
       "      <td>0</td>\n",
       "      <td>Add two new channels for attracting traffic. This will bring 30% more users</td>\n",
       "      <td>40.0</td>\n",
       "    </tr>\n",
       "    <tr>\n",
       "      <td>6</td>\n",
       "      <td>Show banners with current offers and sales on the main page. This will boost conversion</td>\n",
       "      <td>40.0</td>\n",
       "    </tr>\n",
       "    <tr>\n",
       "      <td>8</td>\n",
       "      <td>Launch a promotion that gives users discounts on their birthdays</td>\n",
       "      <td>16.2</td>\n",
       "    </tr>\n",
       "    <tr>\n",
       "      <td>3</td>\n",
       "      <td>Change the category structure. This will increase conversion since users will find the products they want more quickly</td>\n",
       "      <td>9.0</td>\n",
       "    </tr>\n",
       "    <tr>\n",
       "      <td>1</td>\n",
       "      <td>Launch your own delivery service. This will shorten delivery time</td>\n",
       "      <td>4.0</td>\n",
       "    </tr>\n",
       "    <tr>\n",
       "      <td>5</td>\n",
       "      <td>Add a customer review page. This will increase the number of orders</td>\n",
       "      <td>4.0</td>\n",
       "    </tr>\n",
       "    <tr>\n",
       "      <td>4</td>\n",
       "      <td>Change the background color on the main page. This will increase user engagement</td>\n",
       "      <td>3.0</td>\n",
       "    </tr>\n",
       "  </tbody>\n",
       "</table>\n",
       "</div>"
      ],
      "text/plain": [
       "                                                                                                               Hypothesis  \\\n",
       "7                                Add a subscription form to all the main pages. This will help you compile a mailing list   \n",
       "2          Add product recommendation blocks to the store's site. This will increase conversion and average purchase size   \n",
       "0                                             Add two new channels for attracting traffic. This will bring 30% more users   \n",
       "6                                 Show banners with current offers and sales on the main page. This will boost conversion   \n",
       "8                                                        Launch a promotion that gives users discounts on their birthdays   \n",
       "3  Change the category structure. This will increase conversion since users will find the products they want more quickly   \n",
       "1                                                       Launch your own delivery service. This will shorten delivery time   \n",
       "5                                                     Add a customer review page. This will increase the number of orders   \n",
       "4                                        Change the background color on the main page. This will increase user engagement   \n",
       "\n",
       "    RICE  \n",
       "7  112.0  \n",
       "2   56.0  \n",
       "0   40.0  \n",
       "6   40.0  \n",
       "8   16.2  \n",
       "3    9.0  \n",
       "1    4.0  \n",
       "5    4.0  \n",
       "4    3.0  "
      ]
     },
     "execution_count": 8,
     "metadata": {},
     "output_type": "execute_result"
    }
   ],
   "source": [
    "# Calculating RICE\n",
    "hypotheses['RICE'] = (hypotheses['Reach'] * hypotheses['Impact'] * hypotheses['Confidence']) / hypotheses['Effort']\n",
    "\n",
    "hypotheses[['Hypothesis', 'RICE']].sort_values('RICE', ascending=False)"
   ]
  },
  {
   "cell_type": "markdown",
   "metadata": {},
   "source": [
    "In terms of RICE, 7, 2, 0, and 6 gave the most promising hypotheses. Except this time, 7 is in first place, due to the Reach being 10 while the other values have lower. 8 for instance has 1 reach, making it not even having enough to be in the top 4."
   ]
  },
  {
   "cell_type": "code",
   "execution_count": 9,
   "metadata": {},
   "outputs": [
    {
     "data": {
      "text/html": [
       "<div>\n",
       "<style scoped>\n",
       "    .dataframe tbody tr th:only-of-type {\n",
       "        vertical-align: middle;\n",
       "    }\n",
       "\n",
       "    .dataframe tbody tr th {\n",
       "        vertical-align: top;\n",
       "    }\n",
       "\n",
       "    .dataframe thead th {\n",
       "        text-align: right;\n",
       "    }\n",
       "</style>\n",
       "<table border=\"1\" class=\"dataframe\">\n",
       "  <thead>\n",
       "    <tr style=\"text-align: right;\">\n",
       "      <th></th>\n",
       "      <th>Hypothesis</th>\n",
       "      <th>Reach</th>\n",
       "      <th>Impact</th>\n",
       "      <th>Confidence</th>\n",
       "      <th>Effort</th>\n",
       "      <th>ICE</th>\n",
       "      <th>RICE</th>\n",
       "    </tr>\n",
       "  </thead>\n",
       "  <tbody>\n",
       "    <tr>\n",
       "      <td>0</td>\n",
       "      <td>Add two new channels for attracting traffic. This will bring 30% more users</td>\n",
       "      <td>3</td>\n",
       "      <td>10</td>\n",
       "      <td>8</td>\n",
       "      <td>6</td>\n",
       "      <td>13.33</td>\n",
       "      <td>40.0</td>\n",
       "    </tr>\n",
       "    <tr>\n",
       "      <td>1</td>\n",
       "      <td>Launch your own delivery service. This will shorten delivery time</td>\n",
       "      <td>2</td>\n",
       "      <td>5</td>\n",
       "      <td>4</td>\n",
       "      <td>10</td>\n",
       "      <td>2.00</td>\n",
       "      <td>4.0</td>\n",
       "    </tr>\n",
       "    <tr>\n",
       "      <td>2</td>\n",
       "      <td>Add product recommendation blocks to the store's site. This will increase conversion and average purchase size</td>\n",
       "      <td>8</td>\n",
       "      <td>3</td>\n",
       "      <td>7</td>\n",
       "      <td>3</td>\n",
       "      <td>7.00</td>\n",
       "      <td>56.0</td>\n",
       "    </tr>\n",
       "    <tr>\n",
       "      <td>3</td>\n",
       "      <td>Change the category structure. This will increase conversion since users will find the products they want more quickly</td>\n",
       "      <td>8</td>\n",
       "      <td>3</td>\n",
       "      <td>3</td>\n",
       "      <td>8</td>\n",
       "      <td>1.12</td>\n",
       "      <td>9.0</td>\n",
       "    </tr>\n",
       "    <tr>\n",
       "      <td>4</td>\n",
       "      <td>Change the background color on the main page. This will increase user engagement</td>\n",
       "      <td>3</td>\n",
       "      <td>1</td>\n",
       "      <td>1</td>\n",
       "      <td>1</td>\n",
       "      <td>1.00</td>\n",
       "      <td>3.0</td>\n",
       "    </tr>\n",
       "    <tr>\n",
       "      <td>5</td>\n",
       "      <td>Add a customer review page. This will increase the number of orders</td>\n",
       "      <td>3</td>\n",
       "      <td>2</td>\n",
       "      <td>2</td>\n",
       "      <td>3</td>\n",
       "      <td>1.33</td>\n",
       "      <td>4.0</td>\n",
       "    </tr>\n",
       "    <tr>\n",
       "      <td>6</td>\n",
       "      <td>Show banners with current offers and sales on the main page. This will boost conversion</td>\n",
       "      <td>5</td>\n",
       "      <td>3</td>\n",
       "      <td>8</td>\n",
       "      <td>3</td>\n",
       "      <td>8.00</td>\n",
       "      <td>40.0</td>\n",
       "    </tr>\n",
       "    <tr>\n",
       "      <td>7</td>\n",
       "      <td>Add a subscription form to all the main pages. This will help you compile a mailing list</td>\n",
       "      <td>10</td>\n",
       "      <td>7</td>\n",
       "      <td>8</td>\n",
       "      <td>5</td>\n",
       "      <td>11.20</td>\n",
       "      <td>112.0</td>\n",
       "    </tr>\n",
       "    <tr>\n",
       "      <td>8</td>\n",
       "      <td>Launch a promotion that gives users discounts on their birthdays</td>\n",
       "      <td>1</td>\n",
       "      <td>9</td>\n",
       "      <td>9</td>\n",
       "      <td>5</td>\n",
       "      <td>16.20</td>\n",
       "      <td>16.2</td>\n",
       "    </tr>\n",
       "  </tbody>\n",
       "</table>\n",
       "</div>"
      ],
      "text/plain": [
       "                                                                                                               Hypothesis  \\\n",
       "0                                             Add two new channels for attracting traffic. This will bring 30% more users   \n",
       "1                                                       Launch your own delivery service. This will shorten delivery time   \n",
       "2          Add product recommendation blocks to the store's site. This will increase conversion and average purchase size   \n",
       "3  Change the category structure. This will increase conversion since users will find the products they want more quickly   \n",
       "4                                        Change the background color on the main page. This will increase user engagement   \n",
       "5                                                     Add a customer review page. This will increase the number of orders   \n",
       "6                                 Show banners with current offers and sales on the main page. This will boost conversion   \n",
       "7                                Add a subscription form to all the main pages. This will help you compile a mailing list   \n",
       "8                                                        Launch a promotion that gives users discounts on their birthdays   \n",
       "\n",
       "   Reach  Impact  Confidence  Effort    ICE   RICE  \n",
       "0      3      10           8       6  13.33   40.0  \n",
       "1      2       5           4      10   2.00    4.0  \n",
       "2      8       3           7       3   7.00   56.0  \n",
       "3      8       3           3       8   1.12    9.0  \n",
       "4      3       1           1       1   1.00    3.0  \n",
       "5      3       2           2       3   1.33    4.0  \n",
       "6      5       3           8       3   8.00   40.0  \n",
       "7     10       7           8       5  11.20  112.0  \n",
       "8      1       9           9       5  16.20   16.2  "
      ]
     },
     "execution_count": 9,
     "metadata": {},
     "output_type": "execute_result"
    }
   ],
   "source": [
    "hypotheses"
   ]
  },
  {
   "cell_type": "markdown",
   "metadata": {},
   "source": [
    "# Conclusion\n",
    "\n",
    "In terms of both RICE and ICE, hypotheses 7, 2, 0, 6, and 8 gave the most promising hypotheses. 7 being in first place for RICE, and 8 being first place in ICE."
   ]
  },
  {
   "cell_type": "markdown",
   "metadata": {},
   "source": [
    "# Step 3\n",
    "\n",
    "You carried out an A/B test and got the results described in the files orders_us.csv and visits_us.csv.\n",
    "\n",
    "Analyze the A/B test:\n",
    "- Graph cumulative revenue by group. Make conclusions and conjectures.\n",
    "- Graph cumulative average order size by group. Make conclusions and conjectures.\n",
    "- Graph the relative difference in cumulative average order size for group B compared with group A. Make conclusions and -conjectures.\n",
    "- Calculate each group's conversion rate as the ratio of orders to the number of visits for each day. Plot the daily conversion rates of the two groups and describe the difference. Draw conclusions and make conjectures.\n",
    "- Plot a scatter chart of the number of orders per user. Make conclusions and conjectures.\n",
    "- Calculate the 95th and 99th percentiles for the number of orders per user. Define the point at which a data point becomes an anomaly.\n",
    "- Plot a scatter chart of order prices. Make conclusions and conjectures.\n",
    "- Calculate the 95th and 99th percentiles of order prices. Define the point at which a data point becomes an anomaly.\n",
    "- Find the statistical significance of the difference in conversion between the groups using the raw data. Make conclusions and conjectures.\n",
    "- Find the statistical significance of the difference in average order size between the groups using the raw data. Make conclusions and conjectures.\n",
    "- Find the statistical significance of the difference in conversion between the groups using the filtered data. Make conclusions and conjectures.\n",
    "- Find the statistical significance of the difference in average order size between the groups using the filtered data. Make conclusions and conjectures.\n",
    "- Make a decision based on the test results. The possible decisions are: 1. Stop the test, consider one of the groups the leader. 2. Stop the test, conclude that there is no difference between the groups. 3. Continue the test."
   ]
  },
  {
   "cell_type": "markdown",
   "metadata": {},
   "source": [
    "## Graph cumulative revenue by group"
   ]
  },
  {
   "cell_type": "code",
   "execution_count": 10,
   "metadata": {},
   "outputs": [
    {
     "data": {
      "text/html": [
       "<div>\n",
       "<style scoped>\n",
       "    .dataframe tbody tr th:only-of-type {\n",
       "        vertical-align: middle;\n",
       "    }\n",
       "\n",
       "    .dataframe tbody tr th {\n",
       "        vertical-align: top;\n",
       "    }\n",
       "\n",
       "    .dataframe thead th {\n",
       "        text-align: right;\n",
       "    }\n",
       "</style>\n",
       "<table border=\"1\" class=\"dataframe\">\n",
       "  <thead>\n",
       "    <tr style=\"text-align: right;\">\n",
       "      <th></th>\n",
       "      <th>date</th>\n",
       "      <th>group</th>\n",
       "      <th>orders</th>\n",
       "      <th>buyers</th>\n",
       "      <th>revenue</th>\n",
       "      <th>visitors</th>\n",
       "    </tr>\n",
       "  </thead>\n",
       "  <tbody>\n",
       "    <tr>\n",
       "      <td>0</td>\n",
       "      <td>2019-08-01</td>\n",
       "      <td>A</td>\n",
       "      <td>23</td>\n",
       "      <td>19</td>\n",
       "      <td>2266.6</td>\n",
       "      <td>719</td>\n",
       "    </tr>\n",
       "    <tr>\n",
       "      <td>1</td>\n",
       "      <td>2019-08-01</td>\n",
       "      <td>B</td>\n",
       "      <td>17</td>\n",
       "      <td>17</td>\n",
       "      <td>967.2</td>\n",
       "      <td>713</td>\n",
       "    </tr>\n",
       "    <tr>\n",
       "      <td>2</td>\n",
       "      <td>2019-08-02</td>\n",
       "      <td>A</td>\n",
       "      <td>42</td>\n",
       "      <td>36</td>\n",
       "      <td>3734.9</td>\n",
       "      <td>1338</td>\n",
       "    </tr>\n",
       "    <tr>\n",
       "      <td>3</td>\n",
       "      <td>2019-08-02</td>\n",
       "      <td>B</td>\n",
       "      <td>40</td>\n",
       "      <td>39</td>\n",
       "      <td>3535.3</td>\n",
       "      <td>1294</td>\n",
       "    </tr>\n",
       "    <tr>\n",
       "      <td>4</td>\n",
       "      <td>2019-08-03</td>\n",
       "      <td>A</td>\n",
       "      <td>66</td>\n",
       "      <td>60</td>\n",
       "      <td>5550.1</td>\n",
       "      <td>1845</td>\n",
       "    </tr>\n",
       "  </tbody>\n",
       "</table>\n",
       "</div>"
      ],
      "text/plain": [
       "        date group  orders  buyers  revenue  visitors\n",
       "0 2019-08-01     A      23      19   2266.6       719\n",
       "1 2019-08-01     B      17      17    967.2       713\n",
       "2 2019-08-02     A      42      36   3734.9      1338\n",
       "3 2019-08-02     B      40      39   3535.3      1294\n",
       "4 2019-08-03     A      66      60   5550.1      1845"
      ]
     },
     "execution_count": 10,
     "metadata": {},
     "output_type": "execute_result"
    }
   ],
   "source": [
    "# building an array with unique paired date-group values \n",
    "datesGroups = orders[['date', 'group']].drop_duplicates()\n",
    "\n",
    "# getting aggregated cumulative daily data on orders \n",
    "ordersAggregated = datesGroups.apply(lambda x: orders[np.logical_and(orders['date'] <= x['date'], orders['group'] == x['group'])].agg({'date' : 'max', 'group' : 'max', 'transaction_id' : pd.Series.nunique, 'visitor_id' : pd.Series.nunique, 'revenue' : 'sum'}), axis=1).sort_values(by=['date','group'])\n",
    "\n",
    "# getting aggregated cumulative daily data on visitors \n",
    "visitsAggregated = datesGroups.apply(lambda x: visits[np.logical_and(visits['date'] <= x['date'], visits['group'] == x['group'])].agg({'date' : 'max', 'group' : 'max', 'visits' : 'sum'}), axis=1).sort_values(by=['date','group'])\n",
    "\n",
    "# merging the two tables into one and giving its columns descriptive names\n",
    "cumulativeData = ordersAggregated.merge(visitsAggregated, left_on=['date', 'group'], right_on=['date', 'group'])\n",
    "cumulativeData.columns = ['date', 'group', 'orders', 'buyers', 'revenue', 'visitors']\n",
    "\n",
    "cumulativeData.head()"
   ]
  },
  {
   "cell_type": "code",
   "execution_count": 11,
   "metadata": {},
   "outputs": [
    {
     "data": {
      "text/plain": [
       "<matplotlib.legend.Legend at 0x7f2cc8710ad0>"
      ]
     },
     "execution_count": 11,
     "metadata": {},
     "output_type": "execute_result"
    },
    {
     "data": {
      "image/png": "[encoded data removed]",
      "text/plain": [
       "<Figure size 432x288 with 1 Axes>"
      ]
     },
     "metadata": {
      "needs_background": "light"
     },
     "output_type": "display_data"
    }
   ],
   "source": [
    "# DataFrame with cumulative orders and cumulative revenue by day, group A and group B\n",
    "cumulativeRevenueA = cumulativeData[cumulativeData['group']=='A'][['date','revenue', 'orders']]\n",
    "cumulativeRevenueB = cumulativeData[cumulativeData['group']=='B'][['date','revenue', 'orders']]\n",
    "\n",
    "# Plotting the group A and B revenue graph \n",
    "plt.plot(cumulativeRevenueA['date'], cumulativeRevenueA['revenue'], label='A')\n",
    "plt.plot(cumulativeRevenueB['date'], cumulativeRevenueB['revenue'], label='B')\n",
    "plt.xticks(rotation = 30)\n",
    "plt.title('Cumulative revenue by group')\n",
    "plt.xlabel('Date')\n",
    "plt.ylabel('Cumulative revenue')\n",
    "\n",
    "plt.legend() "
   ]
  },
  {
   "cell_type": "markdown",
   "metadata": {},
   "source": [
    "### Conclusion\n",
    "Group B and A are very similar for the first few days, when suddenly Group B takes the lead out of nowhere in 2019-08-17. This could be due to abnormally big orders."
   ]
  },
  {
   "cell_type": "markdown",
   "metadata": {},
   "source": [
    "## Graph cumulative average order size by group"
   ]
  },
  {
   "cell_type": "code",
   "execution_count": 12,
   "metadata": {},
   "outputs": [
    {
     "data": {
      "text/plain": [
       "<matplotlib.legend.Legend at 0x7f2cc8045310>"
      ]
     },
     "execution_count": 12,
     "metadata": {},
     "output_type": "execute_result"
    },
    {
     "data": {
      "image/png": "[encoded data removed]",
      "text/plain": [
       "<Figure size 432x288 with 1 Axes>"
      ]
     },
     "metadata": {
      "needs_background": "light"
     },
     "output_type": "display_data"
    }
   ],
   "source": [
    "# Plotting the group A and B order size\n",
    "plt.plot(cumulativeRevenueA['date'], cumulativeRevenueA['revenue']/cumulativeRevenueA['orders'], label='A')\n",
    "plt.plot(cumulativeRevenueB['date'], cumulativeRevenueB['revenue']/cumulativeRevenueB['orders'], label='B')\n",
    "plt.xticks(rotation = 30)\n",
    "plt.title('Cumulative order size by group')\n",
    "plt.xlabel('Date')\n",
    "plt.ylabel('Cumulative order size')\n",
    "\n",
    "plt.legend()"
   ]
  },
  {
   "cell_type": "markdown",
   "metadata": {},
   "source": [
    "### Conclusion\n",
    "The cumulative value is still fluctuating, with a big spike on 2019-08-17. Need to fix later"
   ]
  },
  {
   "cell_type": "markdown",
   "metadata": {},
   "source": [
    "## Graph the relative difference"
   ]
  },
  {
   "cell_type": "code",
   "execution_count": 13,
   "metadata": {},
   "outputs": [
    {
     "data": {
      "text/plain": [
       "Text(0.5, 0, 'Date')"
      ]
     },
     "execution_count": 13,
     "metadata": {},
     "output_type": "execute_result"
    },
    {
     "data": {
      "image/png": "[encoded data removed]",
      "text/plain": [
       "<Figure size 432x288 with 1 Axes>"
      ]
     },
     "metadata": {
      "needs_background": "light"
     },
     "output_type": "display_data"
    }
   ],
   "source": [
    "# gathering the data into one DataFrame\n",
    "mergedCumulativeRevenue = cumulativeRevenueA.merge(cumulativeRevenueB, left_on='date', right_on='date', how='left', suffixes=['A', 'B'])\n",
    "\n",
    "# plotting a relative difference graph for the average purchase sizes\n",
    "plt.plot(mergedCumulativeRevenue['date'], (mergedCumulativeRevenue['revenueB']/mergedCumulativeRevenue['ordersB'])/(mergedCumulativeRevenue['revenueA']/mergedCumulativeRevenue['ordersA'])-1)\n",
    "\n",
    "# adding the X axis\n",
    "plt.axhline(y=0, color='black', linestyle='--')\n",
    "\n",
    "# making it look neat\n",
    "plt.xticks(rotation = 30)\n",
    "plt.title('Relative difference in cumulative order size')\n",
    "plt.xlabel('Date')\n",
    "#plt.ylabel('Percentage relative difference')"
   ]
  },
  {
   "cell_type": "markdown",
   "metadata": {},
   "source": [
    "### Conclusion\n",
    "There are a lot of sudden changes, could definitely be due to large purchase sizes. What's notable here is that there is a big drop near 2019-08-07, and the same huge spike can still be seen in 2019-08-17"
   ]
  },
  {
   "cell_type": "markdown",
   "metadata": {},
   "source": [
    "## Calculate each group's conversion rate"
   ]
  },
  {
   "cell_type": "code",
   "execution_count": 14,
   "metadata": {},
   "outputs": [
    {
     "data": {
      "text/plain": [
       "Text(0.5, 0, 'Date')"
      ]
     },
     "execution_count": 14,
     "metadata": {},
     "output_type": "execute_result"
    },
    {
     "data": {
      "image/png": "[encoded data removed]",
      "text/plain": [
       "<Figure size 432x288 with 1 Axes>"
      ]
     },
     "metadata": {
      "needs_background": "light"
     },
     "output_type": "display_data"
    }
   ],
   "source": [
    "# calculating cumulative conversion\n",
    "cumulativeData['conversion'] = cumulativeData['orders']/cumulativeData['visitors']\n",
    "\n",
    "# selecting data on group A \n",
    "cumulativeDataA = cumulativeData[cumulativeData['group']=='A']\n",
    "\n",
    "# selecting data on group B\n",
    "cumulativeDataB = cumulativeData[cumulativeData['group']=='B']\n",
    "\n",
    "# plotting the graphs\n",
    "plt.plot(cumulativeDataA['date'], cumulativeDataA['conversion'], label='A')\n",
    "plt.plot(cumulativeDataB['date'], cumulativeDataB['conversion'], label='B')\n",
    "plt.legend()\n",
    "\n",
    "# setting the axes' scale\n",
    "plt.axis([\"2019-08-01\", '2019-09-01', 0, 0.05])\n",
    "\n",
    "# making it look neat\n",
    "plt.xticks(rotation = 30)\n",
    "plt.title('Group conversion rate')\n",
    "plt.xlabel('Date')\n",
    "#plt.ylabel('Percentage conversion rate')"
   ]
  },
  {
   "cell_type": "markdown",
   "metadata": {},
   "source": [
    "### Conclusion\n",
    "At the start of the test, A had the lead and spiked a little bit on 2019-08-03. After that day, A dipped and B gradually gained and stabilized at an almost steady value"
   ]
  },
  {
   "cell_type": "markdown",
   "metadata": {},
   "source": [
    "## Plot a scatter chart of number of orders per user"
   ]
  },
  {
   "cell_type": "code",
   "execution_count": 15,
   "metadata": {},
   "outputs": [
    {
     "data": {
      "text/html": [
       "<div>\n",
       "<style scoped>\n",
       "    .dataframe tbody tr th:only-of-type {\n",
       "        vertical-align: middle;\n",
       "    }\n",
       "\n",
       "    .dataframe tbody tr th {\n",
       "        vertical-align: top;\n",
       "    }\n",
       "\n",
       "    .dataframe thead th {\n",
       "        text-align: right;\n",
       "    }\n",
       "</style>\n",
       "<table border=\"1\" class=\"dataframe\">\n",
       "  <thead>\n",
       "    <tr style=\"text-align: right;\">\n",
       "      <th></th>\n",
       "      <th>visitor_id</th>\n",
       "      <th>orders</th>\n",
       "    </tr>\n",
       "  </thead>\n",
       "  <tbody>\n",
       "    <tr>\n",
       "      <td>908</td>\n",
       "      <td>3967698036</td>\n",
       "      <td>3</td>\n",
       "    </tr>\n",
       "    <tr>\n",
       "      <td>55</td>\n",
       "      <td>249864742</td>\n",
       "      <td>3</td>\n",
       "    </tr>\n",
       "    <tr>\n",
       "      <td>478</td>\n",
       "      <td>2108163459</td>\n",
       "      <td>3</td>\n",
       "    </tr>\n",
       "    <tr>\n",
       "      <td>687</td>\n",
       "      <td>2988190573</td>\n",
       "      <td>3</td>\n",
       "    </tr>\n",
       "    <tr>\n",
       "      <td>890</td>\n",
       "      <td>3908431265</td>\n",
       "      <td>3</td>\n",
       "    </tr>\n",
       "    <tr>\n",
       "      <td>138</td>\n",
       "      <td>611059232</td>\n",
       "      <td>3</td>\n",
       "    </tr>\n",
       "    <tr>\n",
       "      <td>632</td>\n",
       "      <td>2742574263</td>\n",
       "      <td>3</td>\n",
       "    </tr>\n",
       "    <tr>\n",
       "      <td>157</td>\n",
       "      <td>678354126</td>\n",
       "      <td>2</td>\n",
       "    </tr>\n",
       "    <tr>\n",
       "      <td>323</td>\n",
       "      <td>1404560065</td>\n",
       "      <td>2</td>\n",
       "    </tr>\n",
       "    <tr>\n",
       "      <td>452</td>\n",
       "      <td>1985475298</td>\n",
       "      <td>2</td>\n",
       "    </tr>\n",
       "  </tbody>\n",
       "</table>\n",
       "</div>"
      ],
      "text/plain": [
       "     visitor_id  orders\n",
       "908  3967698036       3\n",
       "55    249864742       3\n",
       "478  2108163459       3\n",
       "687  2988190573       3\n",
       "890  3908431265       3\n",
       "138   611059232       3\n",
       "632  2742574263       3\n",
       "157   678354126       2\n",
       "323  1404560065       2\n",
       "452  1985475298       2"
      ]
     },
     "execution_count": 15,
     "metadata": {},
     "output_type": "execute_result"
    }
   ],
   "source": [
    "ordersByUsers = (orders.drop(['group', 'revenue', 'date'], axis=1).groupby('visitor_id', as_index=False).agg({'transaction_id': pd.Series.nunique}))\n",
    "\n",
    "ordersByUsers.columns = ['visitor_id', 'orders']\n",
    "\n",
    "ordersByUsers.sort_values(by='orders', ascending=False).head(10)"
   ]
  },
  {
   "cell_type": "code",
   "execution_count": 16,
   "metadata": {},
   "outputs": [
    {
     "data": {
      "text/plain": [
       "Text(0, 0.5, 'Orders')"
      ]
     },
     "execution_count": 16,
     "metadata": {},
     "output_type": "execute_result"
    },
    {
     "data": {
      "image/png": "[encoded data removed]",
      "text/plain": [
       "<Figure size 432x288 with 1 Axes>"
      ]
     },
     "metadata": {
      "needs_background": "light"
     },
     "output_type": "display_data"
    }
   ],
   "source": [
    "# the range of numbers from 0 to the number of observations in ordersByUsers\n",
    "x_values = pd.Series(range(0,len(ordersByUsers)))\n",
    "\n",
    "plt.scatter(x_values, ordersByUsers['orders']) \n",
    "\n",
    "# making it look neat\n",
    "plt.title('Number of orders per user')\n",
    "plt.xlabel('Users')\n",
    "plt.ylabel('Orders')"
   ]
  },
  {
   "cell_type": "markdown",
   "metadata": {},
   "source": [
    "### Conclusion\n",
    "From the looks of it, most users ordered either 2 or 3, while there are some outliers where people purchased 11. Those cases could be anomalies."
   ]
  },
  {
   "cell_type": "markdown",
   "metadata": {},
   "source": [
    "## Calculate the 95th and 99th percentiles for the number of orders per user"
   ]
  },
  {
   "cell_type": "code",
   "execution_count": 17,
   "metadata": {},
   "outputs": [
    {
     "name": "stdout",
     "output_type": "stream",
     "text": [
      "     visitor_id  orders\n",
      "908  3967698036       3\n",
      "55    249864742       3\n",
      "478  2108163459       3\n",
      "687  2988190573       3\n",
      "890  3908431265       3\n",
      "138   611059232       3\n",
      "632  2742574263       3\n",
      "157   678354126       2\n",
      "323  1404560065       2\n",
      "452  1985475298       2\n"
     ]
    },
    {
     "data": {
      "text/plain": [
       "array([1., 2.])"
      ]
     },
     "execution_count": 17,
     "metadata": {},
     "output_type": "execute_result"
    }
   ],
   "source": [
    "print(ordersByUsers.sort_values(by='orders', ascending=False).head(10))\n",
    "np.percentile(ordersByUsers['orders'], [95, 99])"
   ]
  },
  {
   "cell_type": "markdown",
   "metadata": {},
   "source": [
    "### Conclusion\n",
    "Not more than 5% of the users placed more than two orders, and not more than 1% of users made more than four. "
   ]
  },
  {
   "cell_type": "markdown",
   "metadata": {},
   "source": [
    "## Plot a scatter chart of order prices\n"
   ]
  },
  {
   "cell_type": "code",
   "execution_count": 18,
   "metadata": {},
   "outputs": [
    {
     "name": "stdout",
     "output_type": "stream",
     "text": [
      "      transaction_id  visitor_id       date  revenue group\n",
      "425        590470918  1920142716 2019-08-19  19920.4     B\n",
      "1196      3936777065  2108080724 2019-08-15   3120.1     B\n",
      "1136       666610489  1307669133 2019-08-13   1425.8     A\n",
      "744       3668308183   888512513 2019-08-27   1335.6     B\n",
      "743       3603576309  4133034833 2019-08-09   1050.0     A\n",
      "1103      1348774318  1164614297 2019-08-12   1025.8     A\n",
      "1099       316924019   148427295 2019-08-12   1015.9     A\n",
      "949       1347999392   887908475 2019-08-21    930.0     A\n",
      "940       2420050534  4003628586 2019-08-08    905.8     B\n",
      "613       4071177889  3931967268 2019-08-07    830.3     B\n"
     ]
    },
    {
     "data": {
      "text/plain": [
       "Text(0, 0.5, 'Revenue')"
      ]
     },
     "execution_count": 18,
     "metadata": {},
     "output_type": "execute_result"
    },
    {
     "data": {
      "image/png": "[encoded data removed]",
      "text/plain": [
       "<Figure size 432x288 with 1 Axes>"
      ]
     },
     "metadata": {
      "needs_background": "light"
     },
     "output_type": "display_data"
    }
   ],
   "source": [
    "print(orders.sort_values(by='revenue',ascending=False).head(10))\n",
    "\n",
    "x_values = pd.Series(range(0,len(orders['revenue'])))\n",
    "\n",
    "plt.scatter(x_values, orders['revenue'])\n",
    "\n",
    "# making it look neat\n",
    "plt.title('Revenue from orders')\n",
    "plt.xlabel('Users')\n",
    "plt.ylabel('Revenue')"
   ]
  },
  {
   "cell_type": "markdown",
   "metadata": {},
   "source": [
    "### Conclusion\n",
    "As seen on the scatter plot, most of the orders are below 2,500. There are two notable outliers, one near 3000, and the other at a staggering 20,000.  "
   ]
  },
  {
   "cell_type": "markdown",
   "metadata": {},
   "source": [
    "## Calculate the 95th and 99th percentile of order prices"
   ]
  },
  {
   "cell_type": "code",
   "execution_count": 19,
   "metadata": {},
   "outputs": [
    {
     "name": "stdout",
     "output_type": "stream",
     "text": [
      "    transaction_id  visitor_id       date  revenue group\n",
      "0       3667963787  3312258926 2019-08-15     30.4     B\n",
      "1       2804400009  3642806036 2019-08-15     15.2     B\n",
      "3       3797467345  1196621759 2019-08-15    155.1     B\n",
      "4       2282983706  2322279887 2019-08-15     40.5     B\n",
      "5        182168103   935554773 2019-08-15     35.0     B\n",
      "6        398296753  2900797465 2019-08-15     30.6     B\n",
      "7       2626614568    78758296 2019-08-15     20.1     A\n",
      "8       1576988021   295230930 2019-08-15    215.9     A\n",
      "9       1506739906  1882260405 2019-08-15     30.5     B\n",
      "10      3649131742   879864040 2019-08-15     65.7     A\n"
     ]
    },
    {
     "data": {
      "text/plain": [
       "array([414.275, 830.3  ])"
      ]
     },
     "execution_count": 19,
     "metadata": {},
     "output_type": "execute_result"
    }
   ],
   "source": [
    "print(orders.head(10))\n",
    "np.percentile(orders['revenue'], [95, 99])"
   ]
  },
  {
   "cell_type": "markdown",
   "metadata": {},
   "source": [
    "### Conclusion\n",
    "Not more than 5% of the orders placed cost more than 435.54, and not more than 1% of orders placed cost more than 900.90."
   ]
  },
  {
   "cell_type": "markdown",
   "metadata": {},
   "source": [
    "## Find the statistical significance of the difference in conversion between the groups using the raw data"
   ]
  },
  {
   "cell_type": "code",
   "execution_count": 20,
   "metadata": {},
   "outputs": [
    {
     "name": "stdout",
     "output_type": "stream",
     "text": [
      "p-value: 0.00551\n",
      "Relative conversion gain for group B compared with group A: 0.160\n"
     ]
    }
   ],
   "source": [
    "ordersByUsersA = orders[orders['group']=='A'].groupby('visitor_id', as_index=False).agg({'transaction_id' : pd.Series.nunique})\n",
    "ordersByUsersA.columns = ['visitor_id', 'orders']\n",
    "\n",
    "ordersByUsersB = orders[orders['group']=='B'].groupby('visitor_id', as_index=False).agg({'transaction_id' : pd.Series.nunique})\n",
    "ordersByUsersB.columns = ['visitor_id', 'orders']\n",
    "\n",
    "sampleA = pd.concat([ordersByUsersA['orders'],pd.Series(0, index=np.arange(visits[visits['group']=='A']['visits'].sum() - len(ordersByUsersA['orders'])), name='orders')],axis=0)\n",
    "sampleB = pd.concat([ordersByUsersB['orders'],pd.Series(0, index=np.arange(visits[visits['group']=='B']['visits'].sum() - len(ordersByUsersB['orders'])), name='orders')],axis=0)\n",
    "\n",
    "print('p-value: {0:.5f}'.format(stats.mannwhitneyu(sampleA, sampleB)[1]))\n",
    "\n",
    "print('Relative conversion gain for group B compared with group A: {0:.3f}'.format(sampleB.mean()/sampleA.mean()-1)) "
   ]
  },
  {
   "cell_type": "markdown",
   "metadata": {},
   "source": [
    "### Conclusion\n",
    "The p-value is lower than 0.05, so we reject the null hypotheses that there's NOT a statstically significant difference in conversion between the groups. The relative conversion gain for group B compared with group A is 13.8%"
   ]
  },
  {
   "cell_type": "markdown",
   "metadata": {},
   "source": [
    "##  Find the statistical significance of the difference in average order size between the groups using the raw data"
   ]
  },
  {
   "cell_type": "code",
   "execution_count": 21,
   "metadata": {},
   "outputs": [
    {
     "name": "stdout",
     "output_type": "stream",
     "text": [
      "p-value: 0.431\n",
      "Relative difference between the group average order size: 0.278\n"
     ]
    }
   ],
   "source": [
    "print('p-value: {0:.3f}'.format(stats.mannwhitneyu(orders[orders['group']=='A']['revenue'], orders[orders['group']=='B']['revenue'])[1]))\n",
    "print('Relative difference between the group average order size: {0:.3f}'.format(orders[orders['group']=='B']['revenue'].mean()/orders[orders['group']=='A']['revenue'].mean()-1))"
   ]
  },
  {
   "cell_type": "markdown",
   "metadata": {},
   "source": [
    "### Conclusion\n",
    "\n",
    "The p-value is greater than 0.05, so there are no statistically significant differences between the groups' average order sizes. The relative difference between the group average order size is 25.2%."
   ]
  },
  {
   "cell_type": "markdown",
   "metadata": {},
   "source": [
    "## Find the statistical significance of the difference in conversion between the groups using the filtered data"
   ]
  },
  {
   "cell_type": "code",
   "execution_count": 22,
   "metadata": {},
   "outputs": [
    {
     "name": "stdout",
     "output_type": "stream",
     "text": [
      "1099    148427295\n",
      "928     204675465\n",
      "684     358944393\n",
      "648     382846391\n",
      "751     689129267\n",
      "Name: visitor_id, dtype: int64\n",
      "(37,)\n"
     ]
    }
   ],
   "source": [
    "usersWithManyOrders = pd.concat([ordersByUsersA[ordersByUsersA['orders'] > 3]['visitor_id'], ordersByUsersB[ordersByUsersB['orders'] > 3]['visitor_id']], axis = 0)\n",
    "usersWithExpensiveOrders = orders[orders['revenue'] > 500]['visitor_id']\n",
    "abnormalUsers = pd.concat([usersWithManyOrders, usersWithExpensiveOrders], axis = 0).drop_duplicates().sort_values()\n",
    "\n",
    "print(abnormalUsers.head())\n",
    "print(abnormalUsers.shape)"
   ]
  },
  {
   "cell_type": "markdown",
   "metadata": {},
   "source": [
    "#### Explanation for my numbers\n",
    "The main goal of the above code block was to remove anomalies from the data. From the data we got from the 95th and 99th percentiles, the average order size were 435.54 and 900.90. For number of users, the 95th and 99th percentiles were two orders and four orders.\n",
    "\n",
    "I decided that I would consider anomalous users those who made four or more orders or placed one for more than 500. With this, i'll be removing 1% of users with the most orders and between 1% and 5% of the most expensive orders.\n",
    "\n",
    "From the block of code, we now know that there are 50 anomalous users in total.\n",
    "\n",
    "With this, the data is now considered \"filtered\""
   ]
  },
  {
   "cell_type": "code",
   "execution_count": 23,
   "metadata": {},
   "outputs": [
    {
     "name": "stdout",
     "output_type": "stream",
     "text": [
      "p-value: 0.00516\n",
      "Relative conversion gain for group B compared with group A: 0.167\n"
     ]
    }
   ],
   "source": [
    "sampleAFiltered = pd.concat([ordersByUsersA[np.logical_not(ordersByUsersA['visitor_id'].isin(abnormalUsers))]['orders'],pd.Series(0, index=np.arange(visits[visits['group']=='A']['visits'].sum() - len(ordersByUsersA['orders'])),name='orders')],axis=0)\n",
    "\n",
    "sampleBFiltered = pd.concat([ordersByUsersB[np.logical_not(ordersByUsersB['visitor_id'].isin(abnormalUsers))]['orders'],pd.Series(0, index=np.arange(visits[visits['group']=='B']['visits'].sum() - len(ordersByUsersB['orders'])),name='orders')],axis=0)\n",
    "\n",
    "print('p-value: {0:.5f}'.format(stats.mannwhitneyu(sampleAFiltered, sampleBFiltered)[1]))\n",
    "print('Relative conversion gain for group B compared with group A: {0:.3f}'.format(sampleBFiltered.mean()/sampleAFiltered.mean()-1))"
   ]
  },
  {
   "cell_type": "markdown",
   "metadata": {},
   "source": [
    "### Conclusion\n",
    "\n",
    "The results for conversion didn't change much, we've reached the significance level. Group B is much better than group A"
   ]
  },
  {
   "cell_type": "markdown",
   "metadata": {},
   "source": [
    "## Find the statistical significance of the difference in average order size between the groups using the filtered data"
   ]
  },
  {
   "cell_type": "code",
   "execution_count": 24,
   "metadata": {},
   "outputs": [
    {
     "name": "stdout",
     "output_type": "stream",
     "text": [
      "p-value: 0.496\n",
      "Relative difference between the group average order size: -0.006\n"
     ]
    }
   ],
   "source": [
    "print('p-value: {0:.3f}'.format(stats.mannwhitneyu(\n",
    "    orders[np.logical_and(\n",
    "        orders['group']=='A',\n",
    "        np.logical_not(orders['visitor_id'].isin(abnormalUsers)))]['revenue'],\n",
    "    orders[np.logical_and(\n",
    "        orders['group']=='B',\n",
    "        np.logical_not(orders['visitor_id'].isin(abnormalUsers)))]['revenue'])[1]))\n",
    "\n",
    "print('Relative difference between the group average order size: {0:.3f}'.format(\n",
    "    orders[np.logical_and(orders['group']=='B',np.logical_not(orders['visitor_id'].isin(abnormalUsers)))]['revenue'].mean()/\n",
    "    orders[np.logical_and(\n",
    "        orders['group']=='A',\n",
    "        np.logical_not(orders['visitor_id'].isin(abnormalUsers)))]['revenue'].mean() - 1))"
   ]
  },
  {
   "cell_type": "markdown",
   "metadata": {},
   "source": [
    "### Conclusion\n",
    "The results showed that p-value has increased, but now the difference between the segments is 1.3% instead of 25.2% which is a huge difference."
   ]
  },
  {
   "cell_type": "markdown",
   "metadata": {},
   "source": [
    "## Make a decision based on the test results"
   ]
  },
  {
   "cell_type": "markdown",
   "metadata": {},
   "source": [
    "Based on the calculations of both RICE and ICE, hypotheses 7, 2, 0, 6, and 8 gave the most promising hypotheses. 7 being in first place for RICE, and 8 being first place in ICE.\n",
    "\n",
    "Based on the test results, I think that we can stop the tests, as we have found Group B to be the clear winner. \n",
    "\n",
    "There's a statistically significant difference in conversion between the groups, according to both the raw and the filtered data.\n",
    "\n",
    "The raw data didn't show a statistically significant difference between the groups in terms of average purchase size. However, after the anomalies were removed, it turned out there was a statistically significant difference.\n",
    "\n",
    "The group conversion rate graph shows that group B's results are better than those of group A, and has a tendency to grow or have stabilized around the mean."
   ]
  },
  {
   "cell_type": "code",
   "execution_count": 25,
   "metadata": {},
   "outputs": [
    {
     "data": {
      "text/plain": [
       "(array([737272., 737276., 737280., 737284., 737288., 737292., 737296.,\n",
       "        737300., 737303.]),\n",
       " <a list of 9 Text xticklabel objects>)"
      ]
     },
     "execution_count": 25,
     "metadata": {},
     "output_type": "execute_result"
    },
    {
     "data": {
      "image/png": "[encoded data removed]",
      "text/plain": [
       "<Figure size 432x288 with 1 Axes>"
      ]
     },
     "metadata": {
      "needs_background": "light"
     },
     "output_type": "display_data"
    }
   ],
   "source": [
    "mergedCumulativeConversions = cumulativeDataA[['date','conversion']].merge(cumulativeDataB[['date','conversion']], left_on='date', right_on='date', how='left', suffixes=['A', 'B'])\n",
    "\n",
    "plt.plot(mergedCumulativeConversions['date'], mergedCumulativeConversions['conversionB']/mergedCumulativeConversions['conversionA']-1, label=\"Relative gain in conversion in group B as opposed to group A\")\n",
    "\n",
    "# making it look neat\n",
    "plt.xticks(rotation = 30)\n",
    "plt.title('Relative gain in conversion in group B as opposed to group A')\n",
    "plt.xlabel('Date')\n",
    "\n",
    "plt.axhline(y=0, color='black', linestyle='--')\n",
    "plt.axhline(y=0.1, color='grey', linestyle='--')\n",
    "plt.xticks(rotation = 30)"
   ]
  },
  {
   "cell_type": "markdown",
   "metadata": {},
   "source": [
    "As we can see with the graph, Group B was a bit behind for the first few days, but suddenly taking the lead peaking near 20% higher than Group A.\n",
    "\n",
    "Based on these facts, we can conclude taht the test should be stopped, and that Group B is the leader."
   ]
  }
 ],
 "metadata": {
  "ExecuteTimeLog": [
   {
    "duration": 1486,
    "start_time": "2021-11-20T00:18:42.078Z"
   },
   {
    "duration": 755,
    "start_time": "2021-11-20T00:31:43.584Z"
   },
   {
    "duration": 18,
    "start_time": "2021-11-20T00:31:47.006Z"
   },
   {
    "duration": 925,
    "start_time": "2021-11-20T05:07:39.273Z"
   },
   {
    "duration": 11,
    "start_time": "2021-11-20T05:07:40.894Z"
   },
   {
    "duration": 18,
    "start_time": "2021-11-20T05:07:52.002Z"
   },
   {
    "duration": 10,
    "start_time": "2021-11-20T05:08:05.874Z"
   },
   {
    "duration": 23,
    "start_time": "2021-11-20T05:08:15.485Z"
   },
   {
    "duration": 458,
    "start_time": "2021-11-20T05:18:26.221Z"
   },
   {
    "duration": 23,
    "start_time": "2021-11-20T05:18:28.249Z"
   },
   {
    "duration": 641,
    "start_time": "2021-11-20T05:18:37.672Z"
   },
   {
    "duration": 26,
    "start_time": "2021-11-20T05:18:40.135Z"
   },
   {
    "duration": 968,
    "start_time": "2021-11-20T05:19:06.025Z"
   },
   {
    "duration": 23,
    "start_time": "2021-11-20T05:19:08.433Z"
   },
   {
    "duration": 654,
    "start_time": "2021-11-20T05:19:22.822Z"
   },
   {
    "duration": 23,
    "start_time": "2021-11-20T05:19:26.835Z"
   },
   {
    "duration": 23,
    "start_time": "2021-11-20T05:32:13.727Z"
   },
   {
    "duration": 13,
    "start_time": "2021-11-20T05:32:22.533Z"
   },
   {
    "duration": 18,
    "start_time": "2021-11-20T05:32:38.050Z"
   },
   {
    "duration": 672,
    "start_time": "2021-11-20T05:33:46.308Z"
   },
   {
    "duration": 20,
    "start_time": "2021-11-20T05:33:48.675Z"
   },
   {
    "duration": 18,
    "start_time": "2021-11-20T07:56:53.441Z"
   },
   {
    "duration": 331,
    "start_time": "2021-11-21T00:02:34.379Z"
   },
   {
    "duration": 1139,
    "start_time": "2021-11-21T00:02:38.261Z"
   },
   {
    "duration": 617,
    "start_time": "2021-11-21T00:02:39.402Z"
   },
   {
    "duration": 15,
    "start_time": "2021-11-21T00:02:40.022Z"
   },
   {
    "duration": 16,
    "start_time": "2021-11-21T00:02:40.039Z"
   },
   {
    "duration": 13,
    "start_time": "2021-11-21T00:02:40.057Z"
   },
   {
    "duration": 7,
    "start_time": "2021-11-21T00:02:42.204Z"
   },
   {
    "duration": 16,
    "start_time": "2021-11-21T00:09:01.943Z"
   },
   {
    "duration": 11,
    "start_time": "2021-11-21T00:10:37.788Z"
   },
   {
    "duration": 10,
    "start_time": "2021-11-21T00:10:45.809Z"
   },
   {
    "duration": 10,
    "start_time": "2021-11-21T00:11:04.769Z"
   },
   {
    "duration": 11,
    "start_time": "2021-11-21T00:11:41.768Z"
   },
   {
    "duration": 9,
    "start_time": "2021-11-21T00:11:43.847Z"
   },
   {
    "duration": 13,
    "start_time": "2021-11-21T00:12:02.160Z"
   },
   {
    "duration": 9,
    "start_time": "2021-11-21T00:14:44.885Z"
   },
   {
    "duration": 11,
    "start_time": "2021-11-21T00:16:03.961Z"
   },
   {
    "duration": 10,
    "start_time": "2021-11-21T01:18:45.892Z"
   },
   {
    "duration": 13,
    "start_time": "2021-11-21T05:09:49.457Z"
   },
   {
    "duration": 12,
    "start_time": "2021-11-21T05:12:20.924Z"
   },
   {
    "duration": 311,
    "start_time": "2021-11-21T05:13:27.631Z"
   },
   {
    "duration": 347,
    "start_time": "2021-11-21T05:13:30.490Z"
   },
   {
    "duration": 11,
    "start_time": "2021-11-21T05:13:37.332Z"
   },
   {
    "duration": 348,
    "start_time": "2021-11-21T05:15:17.325Z"
   },
   {
    "duration": 348,
    "start_time": "2021-11-21T05:16:03.255Z"
   },
   {
    "duration": 370,
    "start_time": "2021-11-21T08:55:25.475Z"
   },
   {
    "duration": 3,
    "start_time": "2021-11-21T09:01:03.874Z"
   },
   {
    "duration": 663,
    "start_time": "2021-11-21T09:01:03.879Z"
   },
   {
    "duration": 10,
    "start_time": "2021-11-21T09:01:04.545Z"
   },
   {
    "duration": 16,
    "start_time": "2021-11-21T09:01:04.557Z"
   },
   {
    "duration": 13,
    "start_time": "2021-11-21T09:01:04.575Z"
   },
   {
    "duration": 9,
    "start_time": "2021-11-21T09:01:04.591Z"
   },
   {
    "duration": 50,
    "start_time": "2021-11-21T09:01:04.602Z"
   },
   {
    "duration": 8,
    "start_time": "2021-11-21T09:01:07.313Z"
   },
   {
    "duration": 187,
    "start_time": "2021-11-21T13:16:48.510Z"
   },
   {
    "duration": 1209,
    "start_time": "2021-11-21T21:31:12.838Z"
   },
   {
    "duration": 690,
    "start_time": "2021-11-21T21:31:14.049Z"
   },
   {
    "duration": 16,
    "start_time": "2021-11-21T21:31:14.741Z"
   },
   {
    "duration": 17,
    "start_time": "2021-11-21T21:31:14.760Z"
   },
   {
    "duration": 16,
    "start_time": "2021-11-21T21:31:14.779Z"
   },
   {
    "duration": 11,
    "start_time": "2021-11-21T21:31:14.797Z"
   },
   {
    "duration": 12,
    "start_time": "2021-11-21T21:31:14.809Z"
   },
   {
    "duration": 46,
    "start_time": "2021-11-21T21:31:14.822Z"
   },
   {
    "duration": 379,
    "start_time": "2021-11-21T21:31:14.870Z"
   },
   {
    "duration": 214,
    "start_time": "2021-11-21T21:31:17.216Z"
   },
   {
    "duration": 209,
    "start_time": "2021-11-21T21:31:43.854Z"
   },
   {
    "duration": 214,
    "start_time": "2021-11-21T21:32:44.404Z"
   },
   {
    "duration": 187,
    "start_time": "2021-11-21T21:38:39.712Z"
   },
   {
    "duration": 212,
    "start_time": "2021-11-21T21:40:07.569Z"
   },
   {
    "duration": 218,
    "start_time": "2021-11-21T21:40:18.242Z"
   },
   {
    "duration": 280,
    "start_time": "2021-11-21T21:40:38.303Z"
   },
   {
    "duration": 213,
    "start_time": "2021-11-21T21:40:46.050Z"
   },
   {
    "duration": 307,
    "start_time": "2021-11-21T21:45:54.679Z"
   },
   {
    "duration": 305,
    "start_time": "2021-11-21T21:50:06.226Z"
   },
   {
    "duration": 338,
    "start_time": "2021-11-21T21:52:10.529Z"
   },
   {
    "duration": 292,
    "start_time": "2021-11-21T21:52:14.510Z"
   },
   {
    "duration": 196,
    "start_time": "2021-11-22T00:00:29.180Z"
   },
   {
    "duration": 194,
    "start_time": "2021-11-22T00:05:54.169Z"
   },
   {
    "duration": 188,
    "start_time": "2021-11-22T00:46:45.535Z"
   },
   {
    "duration": 346,
    "start_time": "2021-11-22T02:03:38.143Z"
   },
   {
    "duration": 310,
    "start_time": "2021-11-22T02:04:41.522Z"
   },
   {
    "duration": 189,
    "start_time": "2021-11-22T02:04:58.523Z"
   },
   {
    "duration": 7,
    "start_time": "2021-11-22T02:10:50.336Z"
   },
   {
    "duration": 329,
    "start_time": "2021-11-22T02:13:20.906Z"
   },
   {
    "duration": 101,
    "start_time": "2021-11-22T02:13:30.830Z"
   },
   {
    "duration": 378,
    "start_time": "2021-11-22T02:15:34.687Z"
   },
   {
    "duration": 302,
    "start_time": "2021-11-22T02:18:04.067Z"
   },
   {
    "duration": 294,
    "start_time": "2021-11-22T05:20:24.559Z"
   },
   {
    "duration": 8,
    "start_time": "2021-11-22T07:31:07.469Z"
   },
   {
    "duration": 243,
    "start_time": "2021-11-22T07:31:37.307Z"
   },
   {
    "duration": 6,
    "start_time": "2021-11-22T07:31:47.418Z"
   },
   {
    "duration": 8,
    "start_time": "2021-11-22T07:32:11.737Z"
   },
   {
    "duration": 9,
    "start_time": "2021-11-22T07:45:09.178Z"
   },
   {
    "duration": 8,
    "start_time": "2021-11-22T07:45:14.737Z"
   },
   {
    "duration": 8,
    "start_time": "2021-11-22T08:40:25.259Z"
   },
   {
    "duration": 284,
    "start_time": "2021-11-22T08:50:20.988Z"
   },
   {
    "duration": 283,
    "start_time": "2021-11-22T08:53:59.302Z"
   },
   {
    "duration": 9,
    "start_time": "2021-11-22T09:02:53.444Z"
   },
   {
    "duration": 7,
    "start_time": "2021-11-22T09:10:05.224Z"
   },
   {
    "duration": 367,
    "start_time": "2021-11-22T09:11:43.079Z"
   },
   {
    "duration": 11,
    "start_time": "2021-11-22T09:12:35.983Z"
   },
   {
    "duration": 391,
    "start_time": "2021-11-22T09:12:56.857Z"
   },
   {
    "duration": 4,
    "start_time": "2021-11-22T09:13:06.334Z"
   },
   {
    "duration": 645,
    "start_time": "2021-11-22T09:13:06.339Z"
   },
   {
    "duration": 10,
    "start_time": "2021-11-22T09:13:06.986Z"
   },
   {
    "duration": 17,
    "start_time": "2021-11-22T09:13:06.998Z"
   },
   {
    "duration": 11,
    "start_time": "2021-11-22T09:13:07.016Z"
   },
   {
    "duration": 10,
    "start_time": "2021-11-22T09:13:07.029Z"
   },
   {
    "duration": 12,
    "start_time": "2021-11-22T09:13:07.040Z"
   },
   {
    "duration": 10,
    "start_time": "2021-11-22T09:13:07.063Z"
   },
   {
    "duration": 353,
    "start_time": "2021-11-22T09:13:07.076Z"
   },
   {
    "duration": 204,
    "start_time": "2021-11-22T09:13:07.431Z"
   },
   {
    "duration": 205,
    "start_time": "2021-11-22T09:13:07.636Z"
   },
   {
    "duration": 326,
    "start_time": "2021-11-22T09:13:07.843Z"
   },
   {
    "duration": 196,
    "start_time": "2021-11-22T09:13:08.170Z"
   },
   {
    "duration": 123,
    "start_time": "2021-11-22T09:13:08.368Z"
   },
   {
    "duration": 257,
    "start_time": "2021-11-22T09:13:08.492Z"
   },
   {
    "duration": 18,
    "start_time": "2021-11-22T09:13:08.751Z"
   },
   {
    "duration": 307,
    "start_time": "2021-11-22T09:13:08.770Z"
   },
   {
    "duration": 9,
    "start_time": "2021-11-22T09:13:09.078Z"
   },
   {
    "duration": 8,
    "start_time": "2021-11-22T09:13:09.088Z"
   },
   {
    "duration": 14,
    "start_time": "2021-11-22T09:13:09.097Z"
   },
   {
    "duration": 357,
    "start_time": "2021-11-22T09:13:11.004Z"
   },
   {
    "duration": 3,
    "start_time": "2021-11-22T09:13:28.558Z"
   },
   {
    "duration": 115,
    "start_time": "2021-11-22T09:13:31.957Z"
   },
   {
    "duration": 126,
    "start_time": "2021-11-22T09:17:00.459Z"
   },
   {
    "duration": 12,
    "start_time": "2021-11-22T10:52:13.722Z"
   },
   {
    "duration": 13,
    "start_time": "2021-11-22T10:54:22.244Z"
   },
   {
    "duration": 12,
    "start_time": "2021-11-22T10:55:33.935Z"
   },
   {
    "duration": 11,
    "start_time": "2021-11-22T10:55:38.699Z"
   },
   {
    "duration": 11,
    "start_time": "2021-11-22T11:09:30.796Z"
   },
   {
    "duration": 268,
    "start_time": "2021-11-22T11:19:05.805Z"
   },
   {
    "duration": 16,
    "start_time": "2021-11-22T11:19:37.825Z"
   },
   {
    "duration": 17,
    "start_time": "2021-11-22T11:20:25.177Z"
   },
   {
    "duration": 11,
    "start_time": "2021-11-22T11:20:47.811Z"
   },
   {
    "duration": 12,
    "start_time": "2021-11-22T11:21:13.460Z"
   },
   {
    "duration": 14,
    "start_time": "2021-11-22T13:06:23.978Z"
   },
   {
    "duration": 15,
    "start_time": "2021-11-22T13:07:16.547Z"
   },
   {
    "duration": 186,
    "start_time": "2021-11-22T14:11:16.683Z"
   },
   {
    "duration": 316,
    "start_time": "2021-11-22T14:24:05.964Z"
   },
   {
    "duration": 339,
    "start_time": "2021-11-22T14:24:51.149Z"
   },
   {
    "duration": 339,
    "start_time": "2021-11-22T14:25:00.731Z"
   },
   {
    "duration": 426,
    "start_time": "2021-11-22T14:25:03.754Z"
   },
   {
    "duration": 310,
    "start_time": "2021-11-22T14:25:33.724Z"
   },
   {
    "duration": 304,
    "start_time": "2021-11-22T14:28:11.080Z"
   },
   {
    "duration": 315,
    "start_time": "2021-11-22T14:28:16.782Z"
   },
   {
    "duration": 301,
    "start_time": "2021-11-22T14:28:47.480Z"
   },
   {
    "duration": 281,
    "start_time": "2021-11-22T14:29:43.288Z"
   },
   {
    "duration": 324,
    "start_time": "2021-11-22T14:30:42.115Z"
   },
   {
    "duration": 3,
    "start_time": "2021-11-22T14:33:39.308Z"
   },
   {
    "duration": 673,
    "start_time": "2021-11-22T14:33:39.314Z"
   },
   {
    "duration": 12,
    "start_time": "2021-11-22T14:33:39.989Z"
   },
   {
    "duration": 38,
    "start_time": "2021-11-22T14:33:40.003Z"
   },
   {
    "duration": 15,
    "start_time": "2021-11-22T14:33:40.043Z"
   },
   {
    "duration": 35,
    "start_time": "2021-11-22T14:33:40.060Z"
   },
   {
    "duration": 14,
    "start_time": "2021-11-22T14:33:40.097Z"
   },
   {
    "duration": 19,
    "start_time": "2021-11-22T14:33:40.112Z"
   },
   {
    "duration": 375,
    "start_time": "2021-11-22T14:33:40.134Z"
   },
   {
    "duration": 230,
    "start_time": "2021-11-22T14:33:40.511Z"
   },
   {
    "duration": 335,
    "start_time": "2021-11-22T14:33:40.743Z"
   },
   {
    "duration": 349,
    "start_time": "2021-11-22T14:33:41.080Z"
   },
   {
    "duration": 222,
    "start_time": "2021-11-22T14:33:41.430Z"
   },
   {
    "duration": 134,
    "start_time": "2021-11-22T14:33:41.654Z"
   },
   {
    "duration": 296,
    "start_time": "2021-11-22T14:33:41.790Z"
   },
   {
    "duration": 9,
    "start_time": "2021-11-22T14:33:42.088Z"
   },
   {
    "duration": 306,
    "start_time": "2021-11-22T14:33:42.099Z"
   },
   {
    "duration": 9,
    "start_time": "2021-11-22T14:33:42.407Z"
   },
   {
    "duration": 137,
    "start_time": "2021-11-22T14:33:42.417Z"
   },
   {
    "duration": 15,
    "start_time": "2021-11-22T14:33:42.556Z"
   },
   {
    "duration": 33,
    "start_time": "2021-11-22T14:33:42.573Z"
   },
   {
    "duration": 33,
    "start_time": "2021-11-22T14:33:42.608Z"
   },
   {
    "duration": 16,
    "start_time": "2021-11-22T14:33:42.643Z"
   },
   {
    "duration": 332,
    "start_time": "2021-11-22T14:33:42.661Z"
   },
   {
    "duration": 1807,
    "start_time": "2021-11-22T21:08:35.944Z"
   },
   {
    "duration": 820,
    "start_time": "2021-11-22T21:08:37.755Z"
   },
   {
    "duration": 22,
    "start_time": "2021-11-22T21:08:38.578Z"
   },
   {
    "duration": 26,
    "start_time": "2021-11-22T21:08:38.603Z"
   },
   {
    "duration": 55,
    "start_time": "2021-11-22T21:08:38.633Z"
   },
   {
    "duration": 38,
    "start_time": "2021-11-22T21:08:38.691Z"
   },
   {
    "duration": 56,
    "start_time": "2021-11-22T21:08:38.733Z"
   },
   {
    "duration": 25,
    "start_time": "2021-11-22T21:08:38.793Z"
   },
   {
    "duration": 656,
    "start_time": "2021-11-22T21:08:38.822Z"
   },
   {
    "duration": 368,
    "start_time": "2021-11-22T21:08:39.480Z"
   },
   {
    "duration": 373,
    "start_time": "2021-11-22T21:08:39.851Z"
   },
   {
    "duration": 496,
    "start_time": "2021-11-22T21:08:40.227Z"
   },
   {
    "duration": 469,
    "start_time": "2021-11-22T21:08:40.725Z"
   },
   {
    "duration": 303,
    "start_time": "2021-11-22T21:08:41.197Z"
   },
   {
    "duration": 409,
    "start_time": "2021-11-22T21:08:41.503Z"
   },
   {
    "duration": 12,
    "start_time": "2021-11-22T21:08:41.914Z"
   },
   {
    "duration": 567,
    "start_time": "2021-11-22T21:08:41.929Z"
   },
   {
    "duration": 12,
    "start_time": "2021-11-22T21:08:42.499Z"
   },
   {
    "duration": 334,
    "start_time": "2021-11-22T21:08:42.514Z"
   },
   {
    "duration": 27,
    "start_time": "2021-11-22T21:08:42.850Z"
   },
   {
    "duration": 24,
    "start_time": "2021-11-22T21:08:42.880Z"
   },
   {
    "duration": 23,
    "start_time": "2021-11-22T21:08:42.906Z"
   },
   {
    "duration": 49,
    "start_time": "2021-11-22T21:08:42.932Z"
   },
   {
    "duration": 438,
    "start_time": "2021-11-22T21:08:42.984Z"
   },
   {
    "duration": 279,
    "start_time": "2021-11-23T00:16:07.263Z"
   },
   {
    "duration": 13,
    "start_time": "2021-11-23T00:16:21.622Z"
   },
   {
    "duration": 15,
    "start_time": "2021-11-23T00:16:29.661Z"
   },
   {
    "duration": 13,
    "start_time": "2021-11-23T00:17:11.443Z"
   },
   {
    "duration": 13,
    "start_time": "2021-11-23T00:25:30.388Z"
   },
   {
    "duration": 3,
    "start_time": "2021-11-23T00:25:46.088Z"
   },
   {
    "duration": 561,
    "start_time": "2021-11-23T00:25:46.093Z"
   },
   {
    "duration": 10,
    "start_time": "2021-11-23T00:25:46.657Z"
   },
   {
    "duration": 16,
    "start_time": "2021-11-23T00:25:46.670Z"
   },
   {
    "duration": 11,
    "start_time": "2021-11-23T00:25:46.688Z"
   },
   {
    "duration": 8,
    "start_time": "2021-11-23T00:25:46.701Z"
   },
   {
    "duration": 12,
    "start_time": "2021-11-23T00:25:46.710Z"
   },
   {
    "duration": 42,
    "start_time": "2021-11-23T00:25:46.723Z"
   },
   {
    "duration": 376,
    "start_time": "2021-11-23T00:25:46.767Z"
   },
   {
    "duration": 208,
    "start_time": "2021-11-23T00:25:47.145Z"
   },
   {
    "duration": 219,
    "start_time": "2021-11-23T00:25:47.354Z"
   },
   {
    "duration": 317,
    "start_time": "2021-11-23T00:25:47.575Z"
   },
   {
    "duration": 341,
    "start_time": "2021-11-23T00:25:47.894Z"
   },
   {
    "duration": 107,
    "start_time": "2021-11-23T00:25:48.237Z"
   },
   {
    "duration": 323,
    "start_time": "2021-11-23T00:25:48.346Z"
   },
   {
    "duration": 10,
    "start_time": "2021-11-23T00:25:48.671Z"
   },
   {
    "duration": 321,
    "start_time": "2021-11-23T00:25:48.683Z"
   },
   {
    "duration": 9,
    "start_time": "2021-11-23T00:25:49.005Z"
   },
   {
    "duration": 136,
    "start_time": "2021-11-23T00:25:49.015Z"
   },
   {
    "duration": 16,
    "start_time": "2021-11-23T00:25:49.152Z"
   },
   {
    "duration": 17,
    "start_time": "2021-11-23T00:25:49.170Z"
   },
   {
    "duration": 15,
    "start_time": "2021-11-23T00:25:49.189Z"
   },
   {
    "duration": 13,
    "start_time": "2021-11-23T00:25:49.205Z"
   },
   {
    "duration": 379,
    "start_time": "2021-11-23T00:25:49.219Z"
   },
   {
    "duration": 8,
    "start_time": "2021-11-23T00:35:27.396Z"
   },
   {
    "duration": 6,
    "start_time": "2021-11-23T00:35:38.861Z"
   },
   {
    "duration": 5,
    "start_time": "2021-11-23T00:37:48.430Z"
   },
   {
    "duration": 5,
    "start_time": "2021-11-23T00:38:04.664Z"
   },
   {
    "duration": 18,
    "start_time": "2021-11-23T00:39:24.599Z"
   },
   {
    "duration": 89,
    "start_time": "2021-11-23T00:39:30.740Z"
   },
   {
    "duration": 18,
    "start_time": "2021-11-23T00:39:34.096Z"
   },
   {
    "duration": 78,
    "start_time": "2021-11-23T00:47:06.210Z"
   },
   {
    "duration": 18,
    "start_time": "2021-11-23T00:47:11.357Z"
   },
   {
    "duration": 14,
    "start_time": "2021-11-23T00:47:25.555Z"
   },
   {
    "duration": 15,
    "start_time": "2021-11-23T00:47:29.646Z"
   },
   {
    "duration": 20,
    "start_time": "2021-11-23T00:48:15.544Z"
   },
   {
    "duration": 19,
    "start_time": "2021-11-23T00:48:44.120Z"
   },
   {
    "duration": 15,
    "start_time": "2021-11-23T00:48:56.636Z"
   },
   {
    "duration": 638,
    "start_time": "2021-11-23T01:08:54.929Z"
   },
   {
    "duration": 11,
    "start_time": "2021-11-23T01:09:12.962Z"
   },
   {
    "duration": 258,
    "start_time": "2021-11-23T01:16:27.404Z"
   },
   {
    "duration": 407,
    "start_time": "2021-11-23T01:16:38.109Z"
   },
   {
    "duration": 13,
    "start_time": "2021-11-23T01:16:52.781Z"
   },
   {
    "duration": 21,
    "start_time": "2021-11-23T01:18:05.768Z"
   },
   {
    "duration": 3,
    "start_time": "2021-11-23T01:18:23.294Z"
   },
   {
    "duration": 572,
    "start_time": "2021-11-23T01:18:23.299Z"
   },
   {
    "duration": 11,
    "start_time": "2021-11-23T01:18:23.873Z"
   },
   {
    "duration": 22,
    "start_time": "2021-11-23T01:18:23.886Z"
   },
   {
    "duration": 25,
    "start_time": "2021-11-23T01:18:27.834Z"
   },
   {
    "duration": 27,
    "start_time": "2021-11-23T01:22:21.015Z"
   },
   {
    "duration": 4,
    "start_time": "2021-11-23T01:22:26.460Z"
   },
   {
    "duration": 634,
    "start_time": "2021-11-23T01:22:26.465Z"
   },
   {
    "duration": 10,
    "start_time": "2021-11-23T01:22:27.101Z"
   },
   {
    "duration": 27,
    "start_time": "2021-11-23T01:22:27.112Z"
   },
   {
    "duration": 23,
    "start_time": "2021-11-23T01:22:27.140Z"
   },
   {
    "duration": 24,
    "start_time": "2021-11-23T01:22:32.728Z"
   },
   {
    "duration": 3,
    "start_time": "2021-11-23T01:22:47.469Z"
   },
   {
    "duration": 651,
    "start_time": "2021-11-23T01:22:47.474Z"
   },
   {
    "duration": 10,
    "start_time": "2021-11-23T01:22:48.126Z"
   },
   {
    "duration": 31,
    "start_time": "2021-11-23T01:22:48.138Z"
   },
   {
    "duration": 26,
    "start_time": "2021-11-23T01:22:48.170Z"
   },
   {
    "duration": 16,
    "start_time": "2021-11-23T01:22:48.198Z"
   },
   {
    "duration": 19,
    "start_time": "2021-11-23T01:22:48.216Z"
   },
   {
    "duration": 36,
    "start_time": "2021-11-23T01:22:48.237Z"
   },
   {
    "duration": 12,
    "start_time": "2021-11-23T01:22:48.276Z"
   },
   {
    "duration": 359,
    "start_time": "2021-11-23T01:22:48.290Z"
   },
   {
    "duration": 221,
    "start_time": "2021-11-23T01:22:48.651Z"
   },
   {
    "duration": 205,
    "start_time": "2021-11-23T01:22:48.873Z"
   },
   {
    "duration": 292,
    "start_time": "2021-11-23T01:22:49.080Z"
   },
   {
    "duration": 204,
    "start_time": "2021-11-23T01:22:49.373Z"
   },
   {
    "duration": 111,
    "start_time": "2021-11-23T01:22:49.578Z"
   },
   {
    "duration": 277,
    "start_time": "2021-11-23T01:22:49.691Z"
   },
   {
    "duration": 9,
    "start_time": "2021-11-23T01:22:49.969Z"
   },
   {
    "duration": 304,
    "start_time": "2021-11-23T01:22:49.980Z"
   },
   {
    "duration": 9,
    "start_time": "2021-11-23T01:22:50.286Z"
   },
   {
    "duration": 123,
    "start_time": "2021-11-23T01:22:50.297Z"
   },
   {
    "duration": 11,
    "start_time": "2021-11-23T01:22:50.422Z"
   },
   {
    "duration": 31,
    "start_time": "2021-11-23T01:22:50.435Z"
   },
   {
    "duration": 20,
    "start_time": "2021-11-23T01:22:50.468Z"
   },
   {
    "duration": 16,
    "start_time": "2021-11-23T01:22:50.490Z"
   },
   {
    "duration": 292,
    "start_time": "2021-11-23T01:22:50.508Z"
   },
   {
    "duration": 1568,
    "start_time": "2021-12-31T13:48:12.407Z"
   },
   {
    "duration": 839,
    "start_time": "2021-12-31T13:48:13.977Z"
   },
   {
    "duration": 22,
    "start_time": "2021-12-31T13:48:14.819Z"
   },
   {
    "duration": 34,
    "start_time": "2021-12-31T13:48:14.844Z"
   },
   {
    "duration": 73,
    "start_time": "2021-12-31T13:48:14.881Z"
   },
   {
    "duration": 25,
    "start_time": "2021-12-31T13:48:14.957Z"
   },
   {
    "duration": 45,
    "start_time": "2021-12-31T13:48:14.984Z"
   },
   {
    "duration": 16,
    "start_time": "2021-12-31T13:48:15.032Z"
   },
   {
    "duration": 25,
    "start_time": "2021-12-31T13:48:15.052Z"
   },
   {
    "duration": 612,
    "start_time": "2021-12-31T13:48:15.080Z"
   },
   {
    "duration": 366,
    "start_time": "2021-12-31T13:48:15.694Z"
   },
   {
    "duration": 348,
    "start_time": "2021-12-31T13:48:16.062Z"
   },
   {
    "duration": 441,
    "start_time": "2021-12-31T13:48:16.412Z"
   },
   {
    "duration": 345,
    "start_time": "2021-12-31T13:48:16.856Z"
   },
   {
    "duration": 186,
    "start_time": "2021-12-31T13:48:17.203Z"
   },
   {
    "duration": 439,
    "start_time": "2021-12-31T13:48:17.391Z"
   },
   {
    "duration": 12,
    "start_time": "2021-12-31T13:48:17.833Z"
   },
   {
    "duration": 437,
    "start_time": "2021-12-31T13:48:17.848Z"
   },
   {
    "duration": 11,
    "start_time": "2021-12-31T13:48:18.287Z"
   },
   {
    "duration": 304,
    "start_time": "2021-12-31T13:48:18.301Z"
   },
   {
    "duration": 25,
    "start_time": "2021-12-31T13:48:18.607Z"
   },
   {
    "duration": 24,
    "start_time": "2021-12-31T13:48:18.635Z"
   },
   {
    "duration": 20,
    "start_time": "2021-12-31T13:48:18.661Z"
   },
   {
    "duration": 46,
    "start_time": "2021-12-31T13:48:18.684Z"
   },
   {
    "duration": 420,
    "start_time": "2021-12-31T13:48:18.732Z"
   }
  ],
  "kernelspec": {
   "display_name": "Python 3 (ipykernel)",
   "language": "python",
   "name": "python3"
  },
  "language_info": {
   "codemirror_mode": {
    "name": "ipython",
    "version": 3
   },
   "file_extension": ".py",
   "mimetype": "text/x-python",
   "name": "python",
   "nbconvert_exporter": "python",
   "pygments_lexer": "ipython3",
   "version": "3.9.7"
  },
  "toc": {
   "base_numbering": 1,
   "nav_menu": {},
   "number_sections": true,
   "sideBar": true,
   "skip_h1_title": true,
   "title_cell": "Table of Contents",
   "title_sidebar": "Contents",
   "toc_cell": false,
   "toc_position": {},
   "toc_section_display": true,
   "toc_window_display": false
  }
 },
 "nbformat": 4,
 "nbformat_minor": 2
}
