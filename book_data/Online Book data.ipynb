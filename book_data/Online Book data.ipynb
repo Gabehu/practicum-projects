{
 "cells": [
  {
   "cell_type": "markdown",
   "metadata": {},
   "source": [
    "# Task\n",
    "\n",
    "This unknown company, the book service is trying to compete against other services in the market. It contains data on books, publishers, authors, and customer ratings and reviews of books. This information will be used to generate a value proposition for a new product.\n",
    "\n",
    "## Goals of the study\n",
    "- Find the number of books released after January 1, 2000.\n",
    "- Find the number of user reviews and the average rating for each book.\n",
    "- Identify the publisher that has released the greatest number of books with more than 50 pages (this will help you exclude brochures and similar publications from your analysis).\n",
    "- Identify the author with the highest average book rating: look only at books with at least 50 ratings.\n",
    "- Find the average number of text reviews among users who rated more than 50 books."
   ]
  },
  {
   "cell_type": "markdown",
   "metadata": {},
   "source": [
    "### Create a database connections"
   ]
  },
  {
   "cell_type": "code",
   "execution_count": 1,
   "metadata": {},
   "outputs": [],
   "source": [
    "# import libraries\n",
    "import pandas as pd\n",
    "from sqlalchemy import create_engine\n",
    "\n",
    "db_config = {'user': 'praktikum_student',         # user name\n",
    "             'pwd': 'Sdf4$2;d-d30pp', # password\n",
    "             'host': 'rc1b-wcoijxj3yxfsf3fs.mdb.yandexcloud.net',\n",
    "             'port': 6432,              # connection port\n",
    "             'db': 'data-analyst-final-project-db'}          # the name of the data base\n",
    "\n",
    "connection_string = 'postgresql://{}:{}@{}:{}/{}'.format(db_config['user'],\n",
    "                                                                     db_config['pwd'],\n",
    "                                                                       db_config['host'],\n",
    "                                                                       db_config['port'],\n",
    "                                                                       db_config['db'])\n",
    "\n",
    "engine = create_engine(connection_string, connect_args={'sslmode':'require'})"
   ]
  },
  {
   "cell_type": "code",
   "execution_count": 2,
   "metadata": {},
   "outputs": [],
   "source": [
    "#creating queries for all the tables\n",
    "query1 = ''' SELECT *\n",
    "            FROM books\n",
    "            LIMIT 5;\n",
    "        '''\n",
    "query2 = ''' SELECT *\n",
    "            FROM authors\n",
    "            LIMIT 5;\n",
    "        '''\n",
    "query3 = ''' SELECT *\n",
    "            FROM publishers\n",
    "            LIMIT 5;\n",
    "        '''\n",
    "query4 = ''' SELECT *\n",
    "            FROM ratings\n",
    "            LIMIT 5;\n",
    "        '''\n",
    "query5 = ''' SELECT *\n",
    "            FROM reviews\n",
    "            LIMIT 5;\n",
    "        '''"
   ]
  },
  {
   "cell_type": "code",
   "execution_count": 3,
   "metadata": {
    "scrolled": false
   },
   "outputs": [],
   "source": [
    "books = pd.io.sql.read_sql(query1, con = engine)\n",
    "authors = pd.io.sql.read_sql(query2, con = engine)\n",
    "publishers = pd.io.sql.read_sql(query3, con = engine)\n",
    "ratings = pd.io.sql.read_sql(query4, con = engine)\n",
    "reviews = pd.io.sql.read_sql(query5, con = engine)"
   ]
  },
  {
   "cell_type": "code",
   "execution_count": 4,
   "metadata": {},
   "outputs": [
    {
     "data": {
      "text/html": [
       "<div>\n",
       "<style scoped>\n",
       "    .dataframe tbody tr th:only-of-type {\n",
       "        vertical-align: middle;\n",
       "    }\n",
       "\n",
       "    .dataframe tbody tr th {\n",
       "        vertical-align: top;\n",
       "    }\n",
       "\n",
       "    .dataframe thead th {\n",
       "        text-align: right;\n",
       "    }\n",
       "</style>\n",
       "<table border=\"1\" class=\"dataframe\">\n",
       "  <thead>\n",
       "    <tr style=\"text-align: right;\">\n",
       "      <th></th>\n",
       "      <th>book_id</th>\n",
       "      <th>author_id</th>\n",
       "      <th>title</th>\n",
       "      <th>num_pages</th>\n",
       "      <th>publication_date</th>\n",
       "      <th>publisher_id</th>\n",
       "    </tr>\n",
       "  </thead>\n",
       "  <tbody>\n",
       "    <tr>\n",
       "      <td>0</td>\n",
       "      <td>1</td>\n",
       "      <td>546</td>\n",
       "      <td>'Salem's Lot</td>\n",
       "      <td>594</td>\n",
       "      <td>2005-11-01</td>\n",
       "      <td>93</td>\n",
       "    </tr>\n",
       "    <tr>\n",
       "      <td>1</td>\n",
       "      <td>2</td>\n",
       "      <td>465</td>\n",
       "      <td>1 000 Places to See Before You Die</td>\n",
       "      <td>992</td>\n",
       "      <td>2003-05-22</td>\n",
       "      <td>336</td>\n",
       "    </tr>\n",
       "    <tr>\n",
       "      <td>2</td>\n",
       "      <td>3</td>\n",
       "      <td>407</td>\n",
       "      <td>13 Little Blue Envelopes (Little Blue Envelope...</td>\n",
       "      <td>322</td>\n",
       "      <td>2010-12-21</td>\n",
       "      <td>135</td>\n",
       "    </tr>\n",
       "    <tr>\n",
       "      <td>3</td>\n",
       "      <td>4</td>\n",
       "      <td>82</td>\n",
       "      <td>1491: New Revelations of the Americas Before C...</td>\n",
       "      <td>541</td>\n",
       "      <td>2006-10-10</td>\n",
       "      <td>309</td>\n",
       "    </tr>\n",
       "    <tr>\n",
       "      <td>4</td>\n",
       "      <td>5</td>\n",
       "      <td>125</td>\n",
       "      <td>1776</td>\n",
       "      <td>386</td>\n",
       "      <td>2006-07-04</td>\n",
       "      <td>268</td>\n",
       "    </tr>\n",
       "  </tbody>\n",
       "</table>\n",
       "</div>"
      ],
      "text/plain": [
       "   book_id  author_id                                              title  \\\n",
       "0        1        546                                       'Salem's Lot   \n",
       "1        2        465                 1 000 Places to See Before You Die   \n",
       "2        3        407  13 Little Blue Envelopes (Little Blue Envelope...   \n",
       "3        4         82  1491: New Revelations of the Americas Before C...   \n",
       "4        5        125                                               1776   \n",
       "\n",
       "   num_pages publication_date  publisher_id  \n",
       "0        594       2005-11-01            93  \n",
       "1        992       2003-05-22           336  \n",
       "2        322       2010-12-21           135  \n",
       "3        541       2006-10-10           309  \n",
       "4        386       2006-07-04           268  "
      ]
     },
     "execution_count": 4,
     "metadata": {},
     "output_type": "execute_result"
    }
   ],
   "source": [
    "books"
   ]
  },
  {
   "cell_type": "code",
   "execution_count": 5,
   "metadata": {},
   "outputs": [
    {
     "data": {
      "text/html": [
       "<div>\n",
       "<style scoped>\n",
       "    .dataframe tbody tr th:only-of-type {\n",
       "        vertical-align: middle;\n",
       "    }\n",
       "\n",
       "    .dataframe tbody tr th {\n",
       "        vertical-align: top;\n",
       "    }\n",
       "\n",
       "    .dataframe thead th {\n",
       "        text-align: right;\n",
       "    }\n",
       "</style>\n",
       "<table border=\"1\" class=\"dataframe\">\n",
       "  <thead>\n",
       "    <tr style=\"text-align: right;\">\n",
       "      <th></th>\n",
       "      <th>author_id</th>\n",
       "      <th>author</th>\n",
       "    </tr>\n",
       "  </thead>\n",
       "  <tbody>\n",
       "    <tr>\n",
       "      <td>0</td>\n",
       "      <td>1</td>\n",
       "      <td>A.S. Byatt</td>\n",
       "    </tr>\n",
       "    <tr>\n",
       "      <td>1</td>\n",
       "      <td>2</td>\n",
       "      <td>Aesop/Laura Harris/Laura Gibbs</td>\n",
       "    </tr>\n",
       "    <tr>\n",
       "      <td>2</td>\n",
       "      <td>3</td>\n",
       "      <td>Agatha Christie</td>\n",
       "    </tr>\n",
       "    <tr>\n",
       "      <td>3</td>\n",
       "      <td>4</td>\n",
       "      <td>Alan Brennert</td>\n",
       "    </tr>\n",
       "    <tr>\n",
       "      <td>4</td>\n",
       "      <td>5</td>\n",
       "      <td>Alan Moore/David   Lloyd</td>\n",
       "    </tr>\n",
       "  </tbody>\n",
       "</table>\n",
       "</div>"
      ],
      "text/plain": [
       "   author_id                          author\n",
       "0          1                      A.S. Byatt\n",
       "1          2  Aesop/Laura Harris/Laura Gibbs\n",
       "2          3                 Agatha Christie\n",
       "3          4                   Alan Brennert\n",
       "4          5        Alan Moore/David   Lloyd"
      ]
     },
     "execution_count": 5,
     "metadata": {},
     "output_type": "execute_result"
    }
   ],
   "source": [
    "authors"
   ]
  },
  {
   "cell_type": "code",
   "execution_count": 6,
   "metadata": {},
   "outputs": [
    {
     "data": {
      "text/html": [
       "<div>\n",
       "<style scoped>\n",
       "    .dataframe tbody tr th:only-of-type {\n",
       "        vertical-align: middle;\n",
       "    }\n",
       "\n",
       "    .dataframe tbody tr th {\n",
       "        vertical-align: top;\n",
       "    }\n",
       "\n",
       "    .dataframe thead th {\n",
       "        text-align: right;\n",
       "    }\n",
       "</style>\n",
       "<table border=\"1\" class=\"dataframe\">\n",
       "  <thead>\n",
       "    <tr style=\"text-align: right;\">\n",
       "      <th></th>\n",
       "      <th>publisher_id</th>\n",
       "      <th>publisher</th>\n",
       "    </tr>\n",
       "  </thead>\n",
       "  <tbody>\n",
       "    <tr>\n",
       "      <td>0</td>\n",
       "      <td>1</td>\n",
       "      <td>Ace</td>\n",
       "    </tr>\n",
       "    <tr>\n",
       "      <td>1</td>\n",
       "      <td>2</td>\n",
       "      <td>Ace Book</td>\n",
       "    </tr>\n",
       "    <tr>\n",
       "      <td>2</td>\n",
       "      <td>3</td>\n",
       "      <td>Ace Books</td>\n",
       "    </tr>\n",
       "    <tr>\n",
       "      <td>3</td>\n",
       "      <td>4</td>\n",
       "      <td>Ace Hardcover</td>\n",
       "    </tr>\n",
       "    <tr>\n",
       "      <td>4</td>\n",
       "      <td>5</td>\n",
       "      <td>Addison Wesley Publishing Company</td>\n",
       "    </tr>\n",
       "  </tbody>\n",
       "</table>\n",
       "</div>"
      ],
      "text/plain": [
       "   publisher_id                          publisher\n",
       "0             1                                Ace\n",
       "1             2                           Ace Book\n",
       "2             3                          Ace Books\n",
       "3             4                      Ace Hardcover\n",
       "4             5  Addison Wesley Publishing Company"
      ]
     },
     "execution_count": 6,
     "metadata": {},
     "output_type": "execute_result"
    }
   ],
   "source": [
    "publishers"
   ]
  },
  {
   "cell_type": "code",
   "execution_count": 7,
   "metadata": {},
   "outputs": [
    {
     "data": {
      "text/html": [
       "<div>\n",
       "<style scoped>\n",
       "    .dataframe tbody tr th:only-of-type {\n",
       "        vertical-align: middle;\n",
       "    }\n",
       "\n",
       "    .dataframe tbody tr th {\n",
       "        vertical-align: top;\n",
       "    }\n",
       "\n",
       "    .dataframe thead th {\n",
       "        text-align: right;\n",
       "    }\n",
       "</style>\n",
       "<table border=\"1\" class=\"dataframe\">\n",
       "  <thead>\n",
       "    <tr style=\"text-align: right;\">\n",
       "      <th></th>\n",
       "      <th>rating_id</th>\n",
       "      <th>book_id</th>\n",
       "      <th>username</th>\n",
       "      <th>rating</th>\n",
       "    </tr>\n",
       "  </thead>\n",
       "  <tbody>\n",
       "    <tr>\n",
       "      <td>0</td>\n",
       "      <td>1</td>\n",
       "      <td>1</td>\n",
       "      <td>ryanfranco</td>\n",
       "      <td>4</td>\n",
       "    </tr>\n",
       "    <tr>\n",
       "      <td>1</td>\n",
       "      <td>2</td>\n",
       "      <td>1</td>\n",
       "      <td>grantpatricia</td>\n",
       "      <td>2</td>\n",
       "    </tr>\n",
       "    <tr>\n",
       "      <td>2</td>\n",
       "      <td>3</td>\n",
       "      <td>1</td>\n",
       "      <td>brandtandrea</td>\n",
       "      <td>5</td>\n",
       "    </tr>\n",
       "    <tr>\n",
       "      <td>3</td>\n",
       "      <td>4</td>\n",
       "      <td>2</td>\n",
       "      <td>lorichen</td>\n",
       "      <td>3</td>\n",
       "    </tr>\n",
       "    <tr>\n",
       "      <td>4</td>\n",
       "      <td>5</td>\n",
       "      <td>2</td>\n",
       "      <td>mariokeller</td>\n",
       "      <td>2</td>\n",
       "    </tr>\n",
       "  </tbody>\n",
       "</table>\n",
       "</div>"
      ],
      "text/plain": [
       "   rating_id  book_id       username  rating\n",
       "0          1        1     ryanfranco       4\n",
       "1          2        1  grantpatricia       2\n",
       "2          3        1   brandtandrea       5\n",
       "3          4        2       lorichen       3\n",
       "4          5        2    mariokeller       2"
      ]
     },
     "execution_count": 7,
     "metadata": {},
     "output_type": "execute_result"
    }
   ],
   "source": [
    "ratings"
   ]
  },
  {
   "cell_type": "code",
   "execution_count": 8,
   "metadata": {},
   "outputs": [
    {
     "data": {
      "text/html": [
       "<div>\n",
       "<style scoped>\n",
       "    .dataframe tbody tr th:only-of-type {\n",
       "        vertical-align: middle;\n",
       "    }\n",
       "\n",
       "    .dataframe tbody tr th {\n",
       "        vertical-align: top;\n",
       "    }\n",
       "\n",
       "    .dataframe thead th {\n",
       "        text-align: right;\n",
       "    }\n",
       "</style>\n",
       "<table border=\"1\" class=\"dataframe\">\n",
       "  <thead>\n",
       "    <tr style=\"text-align: right;\">\n",
       "      <th></th>\n",
       "      <th>review_id</th>\n",
       "      <th>book_id</th>\n",
       "      <th>username</th>\n",
       "      <th>text</th>\n",
       "    </tr>\n",
       "  </thead>\n",
       "  <tbody>\n",
       "    <tr>\n",
       "      <td>0</td>\n",
       "      <td>1</td>\n",
       "      <td>1</td>\n",
       "      <td>brandtandrea</td>\n",
       "      <td>Mention society tell send professor analysis. ...</td>\n",
       "    </tr>\n",
       "    <tr>\n",
       "      <td>1</td>\n",
       "      <td>2</td>\n",
       "      <td>1</td>\n",
       "      <td>ryanfranco</td>\n",
       "      <td>Foot glass pretty audience hit themselves. Amo...</td>\n",
       "    </tr>\n",
       "    <tr>\n",
       "      <td>2</td>\n",
       "      <td>3</td>\n",
       "      <td>2</td>\n",
       "      <td>lorichen</td>\n",
       "      <td>Listen treat keep worry. Miss husband tax but ...</td>\n",
       "    </tr>\n",
       "    <tr>\n",
       "      <td>3</td>\n",
       "      <td>4</td>\n",
       "      <td>3</td>\n",
       "      <td>johnsonamanda</td>\n",
       "      <td>Finally month interesting blue could nature cu...</td>\n",
       "    </tr>\n",
       "    <tr>\n",
       "      <td>4</td>\n",
       "      <td>5</td>\n",
       "      <td>3</td>\n",
       "      <td>scotttamara</td>\n",
       "      <td>Nation purpose heavy give wait song will. List...</td>\n",
       "    </tr>\n",
       "  </tbody>\n",
       "</table>\n",
       "</div>"
      ],
      "text/plain": [
       "   review_id  book_id       username  \\\n",
       "0          1        1   brandtandrea   \n",
       "1          2        1     ryanfranco   \n",
       "2          3        2       lorichen   \n",
       "3          4        3  johnsonamanda   \n",
       "4          5        3    scotttamara   \n",
       "\n",
       "                                                text  \n",
       "0  Mention society tell send professor analysis. ...  \n",
       "1  Foot glass pretty audience hit themselves. Amo...  \n",
       "2  Listen treat keep worry. Miss husband tax but ...  \n",
       "3  Finally month interesting blue could nature cu...  \n",
       "4  Nation purpose heavy give wait song will. List...  "
      ]
     },
     "execution_count": 8,
     "metadata": {},
     "output_type": "execute_result"
    }
   ],
   "source": [
    "reviews"
   ]
  },
  {
   "cell_type": "markdown",
   "metadata": {},
   "source": [
    "## Make an SQL query for each task, output the results, and describe your conclusions\n"
   ]
  },
  {
   "cell_type": "markdown",
   "metadata": {},
   "source": [
    "### Find the number of books released after January 1, 2000"
   ]
  },
  {
   "cell_type": "code",
   "execution_count": 9,
   "metadata": {
    "scrolled": false
   },
   "outputs": [
    {
     "data": {
      "text/html": [
       "<div>\n",
       "<style scoped>\n",
       "    .dataframe tbody tr th:only-of-type {\n",
       "        vertical-align: middle;\n",
       "    }\n",
       "\n",
       "    .dataframe tbody tr th {\n",
       "        vertical-align: top;\n",
       "    }\n",
       "\n",
       "    .dataframe thead th {\n",
       "        text-align: right;\n",
       "    }\n",
       "</style>\n",
       "<table border=\"1\" class=\"dataframe\">\n",
       "  <thead>\n",
       "    <tr style=\"text-align: right;\">\n",
       "      <th></th>\n",
       "      <th>count</th>\n",
       "    </tr>\n",
       "  </thead>\n",
       "  <tbody>\n",
       "    <tr>\n",
       "      <td>0</td>\n",
       "      <td>819</td>\n",
       "    </tr>\n",
       "  </tbody>\n",
       "</table>\n",
       "</div>"
      ],
      "text/plain": [
       "   count\n",
       "0    819"
      ]
     },
     "execution_count": 9,
     "metadata": {},
     "output_type": "execute_result"
    }
   ],
   "source": [
    "TASK1 = '''\n",
    "SELECT\n",
    "    COUNT(*)\n",
    "FROM\n",
    "    books\n",
    "WHERE\n",
    "    publication_date > '2000-01-01'; \n",
    "'''\n",
    "TASK1 = pd.io.sql.read_sql(TASK1, con = engine)\n",
    "TASK1"
   ]
  },
  {
   "cell_type": "markdown",
   "metadata": {},
   "source": [
    "#### Conclusion\n",
    "\n",
    "From this query, we can find that the number of books released after January 1st of the year 2000 is 780."
   ]
  },
  {
   "cell_type": "markdown",
   "metadata": {},
   "source": [
    "### Find the number of user reviews and the average rating for each book."
   ]
  },
  {
   "cell_type": "code",
   "execution_count": 10,
   "metadata": {},
   "outputs": [
    {
     "data": {
      "text/html": [
       "<div>\n",
       "<style scoped>\n",
       "    .dataframe tbody tr th:only-of-type {\n",
       "        vertical-align: middle;\n",
       "    }\n",
       "\n",
       "    .dataframe tbody tr th {\n",
       "        vertical-align: top;\n",
       "    }\n",
       "\n",
       "    .dataframe thead th {\n",
       "        text-align: right;\n",
       "    }\n",
       "</style>\n",
       "<table border=\"1\" class=\"dataframe\">\n",
       "  <thead>\n",
       "    <tr style=\"text-align: right;\">\n",
       "      <th></th>\n",
       "      <th>title</th>\n",
       "      <th>count</th>\n",
       "      <th>rating</th>\n",
       "    </tr>\n",
       "  </thead>\n",
       "  <tbody>\n",
       "    <tr>\n",
       "      <td>0</td>\n",
       "      <td>Twilight (Twilight  #1)</td>\n",
       "      <td>1120</td>\n",
       "      <td>3.662500</td>\n",
       "    </tr>\n",
       "    <tr>\n",
       "      <td>1</td>\n",
       "      <td>The Hobbit  or There and Back Again</td>\n",
       "      <td>528</td>\n",
       "      <td>4.125000</td>\n",
       "    </tr>\n",
       "    <tr>\n",
       "      <td>2</td>\n",
       "      <td>The Catcher in the Rye</td>\n",
       "      <td>516</td>\n",
       "      <td>3.825581</td>\n",
       "    </tr>\n",
       "    <tr>\n",
       "      <td>3</td>\n",
       "      <td>Harry Potter and the Prisoner of Azkaban (Harr...</td>\n",
       "      <td>492</td>\n",
       "      <td>4.414634</td>\n",
       "    </tr>\n",
       "    <tr>\n",
       "      <td>4</td>\n",
       "      <td>Harry Potter and the Chamber of Secrets (Harry...</td>\n",
       "      <td>480</td>\n",
       "      <td>4.287500</td>\n",
       "    </tr>\n",
       "    <tr>\n",
       "      <td>...</td>\n",
       "      <td>...</td>\n",
       "      <td>...</td>\n",
       "      <td>...</td>\n",
       "    </tr>\n",
       "    <tr>\n",
       "      <td>988</td>\n",
       "      <td>The Adventures of Tom Sawyer and Adventures of...</td>\n",
       "      <td>2</td>\n",
       "      <td>5.000000</td>\n",
       "    </tr>\n",
       "    <tr>\n",
       "      <td>989</td>\n",
       "      <td>History of Beauty</td>\n",
       "      <td>2</td>\n",
       "      <td>2.500000</td>\n",
       "    </tr>\n",
       "    <tr>\n",
       "      <td>990</td>\n",
       "      <td>Lysistrata</td>\n",
       "      <td>2</td>\n",
       "      <td>4.000000</td>\n",
       "    </tr>\n",
       "    <tr>\n",
       "      <td>991</td>\n",
       "      <td>Executive Orders (Jack Ryan  #8)</td>\n",
       "      <td>2</td>\n",
       "      <td>3.500000</td>\n",
       "    </tr>\n",
       "    <tr>\n",
       "      <td>992</td>\n",
       "      <td>Dragons of Winter Night (Dragonlance: Chronicl...</td>\n",
       "      <td>2</td>\n",
       "      <td>4.000000</td>\n",
       "    </tr>\n",
       "  </tbody>\n",
       "</table>\n",
       "<p>993 rows × 3 columns</p>\n",
       "</div>"
      ],
      "text/plain": [
       "                                                 title  count    rating\n",
       "0                              Twilight (Twilight  #1)   1120  3.662500\n",
       "1                  The Hobbit  or There and Back Again    528  4.125000\n",
       "2                               The Catcher in the Rye    516  3.825581\n",
       "3    Harry Potter and the Prisoner of Azkaban (Harr...    492  4.414634\n",
       "4    Harry Potter and the Chamber of Secrets (Harry...    480  4.287500\n",
       "..                                                 ...    ...       ...\n",
       "988  The Adventures of Tom Sawyer and Adventures of...      2  5.000000\n",
       "989                                  History of Beauty      2  2.500000\n",
       "990                                         Lysistrata      2  4.000000\n",
       "991                   Executive Orders (Jack Ryan  #8)      2  3.500000\n",
       "992  Dragons of Winter Night (Dragonlance: Chronicl...      2  4.000000\n",
       "\n",
       "[993 rows x 3 columns]"
      ]
     },
     "execution_count": 10,
     "metadata": {},
     "output_type": "execute_result"
    }
   ],
   "source": [
    "TASK2 = '''\n",
    "SELECT\n",
    "    books.title AS title,\n",
    "    COUNT(reviews.book_id) AS count,\n",
    "    AVG(ratings.rating) AS rating    \n",
    "FROM \n",
    "    books\n",
    "    INNER JOIN ratings ON books.book_id = ratings.book_id\n",
    "    INNER JOIN reviews ON books.book_id = reviews.book_id\n",
    "GROUP BY\n",
    "    title\n",
    "ORDER BY\n",
    "    COUNT(reviews.book_id) DESC;\n",
    "'''\n",
    "TASK2 = pd.io.sql.read_sql(TASK2, con = engine)\n",
    "TASK2"
   ]
  },
  {
   "cell_type": "markdown",
   "metadata": {},
   "source": [
    "#### Conclusion\n",
    "From this query, we can see each book title and the count of reviews and average rating for each. For example, we can see that Twilight has the most amount of reviews having 1120 user reviews, but has an average rating of 3.6."
   ]
  },
  {
   "cell_type": "markdown",
   "metadata": {},
   "source": [
    "### Identify the publisher that has released the greatest number of books with more than 50 pages\n"
   ]
  },
  {
   "cell_type": "code",
   "execution_count": 11,
   "metadata": {},
   "outputs": [
    {
     "data": {
      "text/html": [
       "<div>\n",
       "<style scoped>\n",
       "    .dataframe tbody tr th:only-of-type {\n",
       "        vertical-align: middle;\n",
       "    }\n",
       "\n",
       "    .dataframe tbody tr th {\n",
       "        vertical-align: top;\n",
       "    }\n",
       "\n",
       "    .dataframe thead th {\n",
       "        text-align: right;\n",
       "    }\n",
       "</style>\n",
       "<table border=\"1\" class=\"dataframe\">\n",
       "  <thead>\n",
       "    <tr style=\"text-align: right;\">\n",
       "      <th></th>\n",
       "      <th>publisher</th>\n",
       "      <th>count</th>\n",
       "    </tr>\n",
       "  </thead>\n",
       "  <tbody>\n",
       "    <tr>\n",
       "      <td>0</td>\n",
       "      <td>Penguin Books</td>\n",
       "      <td>42</td>\n",
       "    </tr>\n",
       "    <tr>\n",
       "      <td>1</td>\n",
       "      <td>Vintage</td>\n",
       "      <td>31</td>\n",
       "    </tr>\n",
       "    <tr>\n",
       "      <td>2</td>\n",
       "      <td>Grand Central Publishing</td>\n",
       "      <td>25</td>\n",
       "    </tr>\n",
       "    <tr>\n",
       "      <td>3</td>\n",
       "      <td>Penguin Classics</td>\n",
       "      <td>24</td>\n",
       "    </tr>\n",
       "    <tr>\n",
       "      <td>4</td>\n",
       "      <td>Bantam</td>\n",
       "      <td>19</td>\n",
       "    </tr>\n",
       "  </tbody>\n",
       "</table>\n",
       "</div>"
      ],
      "text/plain": [
       "                  publisher  count\n",
       "0             Penguin Books     42\n",
       "1                   Vintage     31\n",
       "2  Grand Central Publishing     25\n",
       "3          Penguin Classics     24\n",
       "4                    Bantam     19"
      ]
     },
     "execution_count": 11,
     "metadata": {},
     "output_type": "execute_result"
    }
   ],
   "source": [
    "TASK3 = '''\n",
    "SELECT\n",
    "    publishers.publisher AS publisher,\n",
    "    COUNT(publishers.publisher) AS count\n",
    "FROM \n",
    "    books\n",
    "    INNER JOIN publishers ON books.publisher_id = publishers.publisher_id\n",
    "WHERE\n",
    "    num_pages > 50\n",
    "GROUP BY\n",
    "    publisher\n",
    "ORDER BY\n",
    "    COUNT(publisher) DESC\n",
    "LIMIT 5;\n",
    "'''\n",
    "TASK3 = pd.io.sql.read_sql(TASK3, con = engine)\n",
    "TASK3"
   ]
  },
  {
   "cell_type": "markdown",
   "metadata": {},
   "source": [
    "#### Conclusion\n",
    "From this query, we can see the publishers that have released the greatest number of books that have more than 50 pages. Right now, we can see that the publisher Penguin Books has released 42 books."
   ]
  },
  {
   "cell_type": "markdown",
   "metadata": {},
   "source": [
    "### Identify the author with the highest average book rating (books with at least 50 ratings)"
   ]
  },
  {
   "cell_type": "code",
   "execution_count": 12,
   "metadata": {
    "scrolled": false
   },
   "outputs": [
    {
     "data": {
      "text/html": [
       "<div>\n",
       "<style scoped>\n",
       "    .dataframe tbody tr th:only-of-type {\n",
       "        vertical-align: middle;\n",
       "    }\n",
       "\n",
       "    .dataframe tbody tr th {\n",
       "        vertical-align: top;\n",
       "    }\n",
       "\n",
       "    .dataframe thead th {\n",
       "        text-align: right;\n",
       "    }\n",
       "</style>\n",
       "<table border=\"1\" class=\"dataframe\">\n",
       "  <thead>\n",
       "    <tr style=\"text-align: right;\">\n",
       "      <th></th>\n",
       "      <th>author</th>\n",
       "      <th>avg_rating</th>\n",
       "    </tr>\n",
       "  </thead>\n",
       "  <tbody>\n",
       "    <tr>\n",
       "      <td>0</td>\n",
       "      <td>J.K. Rowling/Mary GrandPré</td>\n",
       "      <td>4.288462</td>\n",
       "    </tr>\n",
       "    <tr>\n",
       "      <td>1</td>\n",
       "      <td>Agatha Christie</td>\n",
       "      <td>4.283019</td>\n",
       "    </tr>\n",
       "    <tr>\n",
       "      <td>2</td>\n",
       "      <td>Markus Zusak/Cao Xuân Việt Khương</td>\n",
       "      <td>4.264151</td>\n",
       "    </tr>\n",
       "    <tr>\n",
       "      <td>3</td>\n",
       "      <td>J.R.R. Tolkien</td>\n",
       "      <td>4.240964</td>\n",
       "    </tr>\n",
       "    <tr>\n",
       "      <td>4</td>\n",
       "      <td>Roald Dahl/Quentin Blake</td>\n",
       "      <td>4.209677</td>\n",
       "    </tr>\n",
       "  </tbody>\n",
       "</table>\n",
       "</div>"
      ],
      "text/plain": [
       "                              author  avg_rating\n",
       "0         J.K. Rowling/Mary GrandPré    4.288462\n",
       "1                    Agatha Christie    4.283019\n",
       "2  Markus Zusak/Cao Xuân Việt Khương    4.264151\n",
       "3                     J.R.R. Tolkien    4.240964\n",
       "4           Roald Dahl/Quentin Blake    4.209677"
      ]
     },
     "execution_count": 12,
     "metadata": {},
     "output_type": "execute_result"
    }
   ],
   "source": [
    "TASK4 = '''\n",
    "SELECT\n",
    "    authors.author AS author,\n",
    "    AVG(ratings.rating) AS avg_rating\n",
    "FROM \n",
    "    books\n",
    "    INNER JOIN ratings ON books.book_id = ratings.book_id\n",
    "    INNER JOIN authors ON books.author_id = authors.author_id\n",
    "GROUP BY\n",
    "    author\n",
    "HAVING\n",
    "    COUNT(ratings.rating) > 50\n",
    "ORDER BY\n",
    "    AVG(rating) DESC\n",
    "LIMIT 5;\n",
    "'''\n",
    "TASK4 = pd.io.sql.read_sql(TASK4, con = engine)\n",
    "TASK4"
   ]
  },
  {
   "cell_type": "markdown",
   "metadata": {},
   "source": [
    "#### Conclusion\n",
    "\n",
    "Within the top 5 authors who have the highest average book rating with at least 50 ratings, J.K. Rowling has an outstanding 4.2 rating as the top author."
   ]
  },
  {
   "cell_type": "markdown",
   "metadata": {},
   "source": [
    "### Find the average number of text reviews among users who rated more than 50 books"
   ]
  },
  {
   "cell_type": "code",
   "execution_count": 13,
   "metadata": {},
   "outputs": [
    {
     "data": {
      "text/html": [
       "<div>\n",
       "<style scoped>\n",
       "    .dataframe tbody tr th:only-of-type {\n",
       "        vertical-align: middle;\n",
       "    }\n",
       "\n",
       "    .dataframe tbody tr th {\n",
       "        vertical-align: top;\n",
       "    }\n",
       "\n",
       "    .dataframe thead th {\n",
       "        text-align: right;\n",
       "    }\n",
       "</style>\n",
       "<table border=\"1\" class=\"dataframe\">\n",
       "  <thead>\n",
       "    <tr style=\"text-align: right;\">\n",
       "      <th></th>\n",
       "      <th>avg</th>\n",
       "    </tr>\n",
       "  </thead>\n",
       "  <tbody>\n",
       "    <tr>\n",
       "      <td>0</td>\n",
       "      <td>24.333333</td>\n",
       "    </tr>\n",
       "  </tbody>\n",
       "</table>\n",
       "</div>"
      ],
      "text/plain": [
       "         avg\n",
       "0  24.333333"
      ]
     },
     "execution_count": 13,
     "metadata": {},
     "output_type": "execute_result"
    }
   ],
   "source": [
    "TASK5='''    \n",
    "    select \n",
    "    avg(sub1.cnt)\n",
    "    from\n",
    "        ( \n",
    "        SELECT\n",
    "            reviews.username AS username,\n",
    "            COUNT(reviews.review_id) AS cnt\n",
    "        FROM  \n",
    "            reviews\n",
    "        GROUP BY\n",
    "            reviews.username     \n",
    "            )sub1\n",
    "    inner join (SELECT\n",
    "       username AS username,\n",
    "       COUNT(rating_id) AS cnt\n",
    "    FROM  \n",
    "        ratings\n",
    "    GROUP BY\n",
    "        username\n",
    "    HAVING\n",
    "       COUNT(rating_id) > 50) sub2 on (sub1.username = sub2.username)\n",
    "'''\n",
    "TASK5 = pd.io.sql.read_sql(TASK5, con = engine)\n",
    "TASK5"
   ]
  },
  {
   "cell_type": "markdown",
   "metadata": {},
   "source": [
    "#### Conclusion\n",
    "\n",
    "With this final query, I was able to output the average number of text reviews among users who have rated more than 50 books. As we can see with the output, the average number of text reviews is 24.3."
   ]
  }
 ],
 "metadata": {
  "ExecuteTimeLog": [
   {
    "duration": 679,
    "start_time": "2022-02-02T00:24:14.602Z"
   },
   {
    "duration": 234,
    "start_time": "2022-02-02T00:24:41.444Z"
   },
   {
    "duration": 175,
    "start_time": "2022-02-02T01:07:41.335Z"
   },
   {
    "duration": 59,
    "start_time": "2022-02-02T01:08:24.456Z"
   },
   {
    "duration": 174,
    "start_time": "2022-02-02T01:12:29.413Z"
   },
   {
    "duration": 4,
    "start_time": "2022-02-02T01:12:35.530Z"
   },
   {
    "duration": 3,
    "start_time": "2022-02-02T01:17:27.720Z"
   },
   {
    "duration": 104299,
    "start_time": "2022-02-02T01:17:37.850Z"
   },
   {
    "duration": 5,
    "start_time": "2022-02-02T01:19:43.403Z"
   },
   {
    "duration": 175,
    "start_time": "2022-02-02T01:19:43.410Z"
   },
   {
    "duration": 613,
    "start_time": "2022-02-02T01:19:42.974Z"
   },
   {
    "duration": 3,
    "start_time": "2022-02-02T01:25:25.581Z"
   },
   {
    "duration": 464,
    "start_time": "2022-02-02T01:25:27.110Z"
   },
   {
    "duration": 242,
    "start_time": "2022-02-02T01:25:46.733Z"
   },
   {
    "duration": 253,
    "start_time": "2022-02-02T01:25:55.337Z"
   },
   {
    "duration": 5,
    "start_time": "2022-02-02T01:26:02.046Z"
   },
   {
    "duration": 5,
    "start_time": "2022-02-02T01:26:02.053Z"
   },
   {
    "duration": 441,
    "start_time": "2022-02-02T01:26:02.060Z"
   },
   {
    "duration": 3,
    "start_time": "2022-02-02T01:27:37.962Z"
   },
   {
    "duration": 244,
    "start_time": "2022-02-02T01:27:40.449Z"
   },
   {
    "duration": 492,
    "start_time": "2022-02-02T01:31:23.525Z"
   },
   {
    "duration": 177,
    "start_time": "2022-02-02T01:55:04.805Z"
   },
   {
    "duration": 6,
    "start_time": "2022-02-02T01:55:10.450Z"
   },
   {
    "duration": 7,
    "start_time": "2022-02-02T01:55:10.458Z"
   },
   {
    "duration": 179,
    "start_time": "2022-02-02T01:55:10.467Z"
   },
   {
    "duration": 438,
    "start_time": "2022-02-02T01:56:18.780Z"
   },
   {
    "duration": 4,
    "start_time": "2022-02-02T01:56:25.669Z"
   },
   {
    "duration": 5,
    "start_time": "2022-02-02T01:56:25.675Z"
   },
   {
    "duration": 425,
    "start_time": "2022-02-02T01:56:25.681Z"
   },
   {
    "duration": 485,
    "start_time": "2022-02-02T01:56:25.623Z"
   },
   {
    "duration": 591,
    "start_time": "2022-02-02T01:57:37.492Z"
   },
   {
    "duration": 3,
    "start_time": "2022-02-02T01:57:38.084Z"
   },
   {
    "duration": 568,
    "start_time": "2022-02-02T01:57:38.089Z"
   },
   {
    "duration": 468,
    "start_time": "2022-02-02T01:57:38.191Z"
   },
   {
    "duration": 2,
    "start_time": "2022-02-02T02:00:34.979Z"
   },
   {
    "duration": 248,
    "start_time": "2022-02-02T02:00:35.972Z"
   },
   {
    "duration": 3,
    "start_time": "2022-02-02T02:01:12.434Z"
   },
   {
    "duration": 241,
    "start_time": "2022-02-02T02:01:14.711Z"
   },
   {
    "duration": 2,
    "start_time": "2022-02-02T02:02:42.226Z"
   },
   {
    "duration": 250,
    "start_time": "2022-02-02T02:02:42.787Z"
   },
   {
    "duration": 3,
    "start_time": "2022-02-02T02:02:56.350Z"
   },
   {
    "duration": 733,
    "start_time": "2022-02-02T02:04:56.240Z"
   },
   {
    "duration": 2,
    "start_time": "2022-02-02T02:04:56.975Z"
   },
   {
    "duration": 205,
    "start_time": "2022-02-02T02:07:58.503Z"
   },
   {
    "duration": 720,
    "start_time": "2022-02-02T02:08:01.407Z"
   },
   {
    "duration": 2,
    "start_time": "2022-02-02T02:08:02.129Z"
   },
   {
    "duration": 304,
    "start_time": "2022-02-02T02:08:02.133Z"
   },
   {
    "duration": 89,
    "start_time": "2022-02-02T02:10:17.003Z"
   },
   {
    "duration": 206,
    "start_time": "2022-02-02T02:12:29.445Z"
   },
   {
    "duration": 2,
    "start_time": "2022-02-02T02:12:36.507Z"
   },
   {
    "duration": 411,
    "start_time": "2022-02-02T02:12:37.195Z"
   },
   {
    "duration": 12,
    "start_time": "2022-02-02T02:12:59.937Z"
   },
   {
    "duration": 9,
    "start_time": "2022-02-02T02:13:10.508Z"
   },
   {
    "duration": 9,
    "start_time": "2022-02-02T02:13:13.061Z"
   },
   {
    "duration": 10,
    "start_time": "2022-02-02T02:13:16.677Z"
   },
   {
    "duration": 10,
    "start_time": "2022-02-02T02:13:18.018Z"
   },
   {
    "duration": 18,
    "start_time": "2022-02-02T02:55:50.161Z"
   },
   {
    "duration": 15,
    "start_time": "2022-02-02T02:57:10.584Z"
   },
   {
    "duration": 60,
    "start_time": "2022-02-02T02:58:04.557Z"
   },
   {
    "duration": 4,
    "start_time": "2022-02-02T02:59:42.215Z"
   },
   {
    "duration": 4,
    "start_time": "2022-02-02T02:59:51.978Z"
   },
   {
    "duration": 6,
    "start_time": "2022-02-02T02:59:58.548Z"
   },
   {
    "duration": 3,
    "start_time": "2022-02-02T03:03:59.034Z"
   },
   {
    "duration": 59,
    "start_time": "2022-02-02T03:07:05.077Z"
   },
   {
    "duration": 60,
    "start_time": "2022-02-02T03:08:06.604Z"
   },
   {
    "duration": 58,
    "start_time": "2022-02-02T03:08:45.869Z"
   },
   {
    "duration": 4,
    "start_time": "2022-02-02T03:10:07.018Z"
   },
   {
    "duration": 99,
    "start_time": "2022-02-02T03:13:08.508Z"
   },
   {
    "duration": 8,
    "start_time": "2022-02-02T04:50:48.371Z"
   },
   {
    "duration": 8,
    "start_time": "2022-02-02T04:52:29.073Z"
   },
   {
    "duration": 7,
    "start_time": "2022-02-02T04:52:32.350Z"
   },
   {
    "duration": 8,
    "start_time": "2022-02-02T04:52:35.364Z"
   },
   {
    "duration": 8,
    "start_time": "2022-02-02T04:52:41.812Z"
   },
   {
    "duration": 257,
    "start_time": "2022-02-02T04:56:48.420Z"
   },
   {
    "duration": 97,
    "start_time": "2022-02-02T04:58:41.462Z"
   },
   {
    "duration": 269,
    "start_time": "2022-02-02T05:01:33.728Z"
   },
   {
    "duration": 74,
    "start_time": "2022-02-02T05:01:54.501Z"
   },
   {
    "duration": 248,
    "start_time": "2022-02-02T05:02:11.578Z"
   },
   {
    "duration": 85,
    "start_time": "2022-02-02T05:02:26.856Z"
   },
   {
    "duration": 74,
    "start_time": "2022-02-02T05:03:49.828Z"
   },
   {
    "duration": 77,
    "start_time": "2022-02-02T05:06:22.017Z"
   },
   {
    "duration": 252,
    "start_time": "2022-02-02T05:29:14.137Z"
   },
   {
    "duration": 257,
    "start_time": "2022-02-02T05:29:38.713Z"
   },
   {
    "duration": 3,
    "start_time": "2022-02-02T05:30:11.939Z"
   },
   {
    "duration": 444,
    "start_time": "2022-02-02T05:30:13.700Z"
   },
   {
    "duration": 9,
    "start_time": "2022-02-02T05:30:14.146Z"
   },
   {
    "duration": 8,
    "start_time": "2022-02-02T05:30:17.178Z"
   },
   {
    "duration": 9,
    "start_time": "2022-02-02T05:30:21.512Z"
   },
   {
    "duration": 3,
    "start_time": "2022-02-02T05:30:59.167Z"
   },
   {
    "duration": 338,
    "start_time": "2022-02-02T05:30:59.531Z"
   },
   {
    "duration": 9,
    "start_time": "2022-02-02T05:31:00.103Z"
   },
   {
    "duration": 6,
    "start_time": "2022-02-02T05:31:01.433Z"
   },
   {
    "duration": 7,
    "start_time": "2022-02-02T05:31:05.272Z"
   },
   {
    "duration": 7,
    "start_time": "2022-02-02T05:31:08.549Z"
   },
   {
    "duration": 7,
    "start_time": "2022-02-02T05:31:11.389Z"
   },
   {
    "duration": 73,
    "start_time": "2022-02-02T05:31:18.975Z"
   },
   {
    "duration": 314,
    "start_time": "2022-02-02T05:35:37.663Z"
   },
   {
    "duration": 261,
    "start_time": "2022-02-02T05:36:43.318Z"
   },
   {
    "duration": 265,
    "start_time": "2022-02-02T05:38:28.981Z"
   },
   {
    "duration": 250,
    "start_time": "2022-02-02T05:38:48.526Z"
   },
   {
    "duration": 270,
    "start_time": "2022-02-02T05:39:05.963Z"
   },
   {
    "duration": 250,
    "start_time": "2022-02-02T05:39:19.083Z"
   },
   {
    "duration": 251,
    "start_time": "2022-02-02T05:39:22.183Z"
   },
   {
    "duration": 261,
    "start_time": "2022-02-02T05:39:57.641Z"
   },
   {
    "duration": 256,
    "start_time": "2022-02-02T05:41:00.702Z"
   },
   {
    "duration": 124,
    "start_time": "2022-02-02T05:42:29.649Z"
   },
   {
    "duration": 254,
    "start_time": "2022-02-02T05:43:23.718Z"
   },
   {
    "duration": 249,
    "start_time": "2022-02-02T05:44:11.040Z"
   },
   {
    "duration": 256,
    "start_time": "2022-02-02T05:44:15.002Z"
   },
   {
    "duration": 91,
    "start_time": "2022-02-02T05:44:44.973Z"
   },
   {
    "duration": 90,
    "start_time": "2022-02-02T05:44:51.648Z"
   },
   {
    "duration": 102,
    "start_time": "2022-02-02T05:44:56.344Z"
   },
   {
    "duration": 101,
    "start_time": "2022-02-02T05:45:26.762Z"
   },
   {
    "duration": 103,
    "start_time": "2022-02-02T05:45:33.783Z"
   },
   {
    "duration": 102,
    "start_time": "2022-02-02T05:45:40.133Z"
   },
   {
    "duration": 102,
    "start_time": "2022-02-02T05:45:45.072Z"
   },
   {
    "duration": 104,
    "start_time": "2022-02-02T05:45:54.518Z"
   },
   {
    "duration": 109,
    "start_time": "2022-02-02T05:47:59.827Z"
   },
   {
    "duration": 109,
    "start_time": "2022-02-02T05:48:35.472Z"
   },
   {
    "duration": 108,
    "start_time": "2022-02-02T05:48:38.312Z"
   },
   {
    "duration": 246,
    "start_time": "2022-02-02T05:49:27.869Z"
   },
   {
    "duration": 110,
    "start_time": "2022-02-02T05:49:45.094Z"
   },
   {
    "duration": 108,
    "start_time": "2022-02-02T05:50:04.111Z"
   },
   {
    "duration": 254,
    "start_time": "2022-02-02T07:43:31.767Z"
   },
   {
    "duration": 259,
    "start_time": "2022-02-02T07:43:51.595Z"
   },
   {
    "duration": 277,
    "start_time": "2022-02-02T07:44:24.610Z"
   },
   {
    "duration": 74,
    "start_time": "2022-02-02T07:45:13.454Z"
   },
   {
    "duration": 328,
    "start_time": "2022-02-02T07:45:23.496Z"
   },
   {
    "duration": 75,
    "start_time": "2022-02-02T07:45:27.863Z"
   },
   {
    "duration": 332,
    "start_time": "2022-02-02T07:46:02.953Z"
   },
   {
    "duration": 76,
    "start_time": "2022-02-02T07:46:10.388Z"
   },
   {
    "duration": 254,
    "start_time": "2022-02-02T07:46:54.564Z"
   },
   {
    "duration": 78,
    "start_time": "2022-02-02T07:47:04.259Z"
   },
   {
    "duration": 78,
    "start_time": "2022-02-02T07:47:27.747Z"
   },
   {
    "duration": 77,
    "start_time": "2022-02-02T07:47:42.784Z"
   },
   {
    "duration": 79,
    "start_time": "2022-02-02T07:48:36.151Z"
   },
   {
    "duration": 285,
    "start_time": "2022-02-02T07:49:36.323Z"
   },
   {
    "duration": 253,
    "start_time": "2022-02-02T07:50:00.366Z"
   },
   {
    "duration": 109,
    "start_time": "2022-02-02T07:50:07.080Z"
   },
   {
    "duration": 248,
    "start_time": "2022-02-02T07:51:53.973Z"
   },
   {
    "duration": 111,
    "start_time": "2022-02-02T07:52:03.004Z"
   },
   {
    "duration": 232,
    "start_time": "2022-02-02T08:02:18.075Z"
   },
   {
    "duration": 322,
    "start_time": "2022-02-02T08:03:21.196Z"
   },
   {
    "duration": 304,
    "start_time": "2022-02-02T08:03:37.396Z"
   },
   {
    "duration": 70,
    "start_time": "2022-02-02T08:04:03.705Z"
   },
   {
    "duration": 85,
    "start_time": "2022-02-02T08:07:04.941Z"
   },
   {
    "duration": 225,
    "start_time": "2022-02-02T08:12:35.745Z"
   },
   {
    "duration": 155,
    "start_time": "2022-02-02T08:12:40.733Z"
   },
   {
    "duration": 264,
    "start_time": "2022-02-02T09:56:33.218Z"
   },
   {
    "duration": 276,
    "start_time": "2022-02-02T09:56:52.053Z"
   },
   {
    "duration": 247,
    "start_time": "2022-02-02T09:57:06.856Z"
   },
   {
    "duration": 67,
    "start_time": "2022-02-02T09:57:11.666Z"
   },
   {
    "duration": 95,
    "start_time": "2022-02-02T10:00:09.866Z"
   },
   {
    "duration": 306,
    "start_time": "2022-02-02T10:00:49.734Z"
   },
   {
    "duration": 255,
    "start_time": "2022-02-02T10:01:04.450Z"
   },
   {
    "duration": 93,
    "start_time": "2022-02-02T10:01:14.439Z"
   },
   {
    "duration": 429,
    "start_time": "2022-02-02T10:03:46.604Z"
   },
   {
    "duration": 688,
    "start_time": "2022-02-02T12:45:04.844Z"
   },
   {
    "duration": 3,
    "start_time": "2022-02-02T12:45:05.533Z"
   },
   {
    "duration": 100,
    "start_time": "2022-02-02T12:45:05.538Z"
   },
   {
    "duration": 16,
    "start_time": "2022-02-02T12:45:05.640Z"
   },
   {
    "duration": 10,
    "start_time": "2022-02-02T12:45:05.658Z"
   },
   {
    "duration": 8,
    "start_time": "2022-02-02T12:45:05.669Z"
   },
   {
    "duration": 10,
    "start_time": "2022-02-02T12:45:05.679Z"
   },
   {
    "duration": 18,
    "start_time": "2022-02-02T12:45:05.690Z"
   },
   {
    "duration": 20,
    "start_time": "2022-02-02T12:45:05.710Z"
   },
   {
    "duration": 38,
    "start_time": "2022-02-02T12:45:05.731Z"
   },
   {
    "duration": 18,
    "start_time": "2022-02-02T12:45:05.770Z"
   },
   {
    "duration": 373,
    "start_time": "2022-02-02T12:45:05.790Z"
   },
   {
    "duration": 694,
    "start_time": "2022-02-02T12:45:05.471Z"
   },
   {
    "duration": 13,
    "start_time": "2022-02-02T12:47:07.180Z"
   },
   {
    "duration": 14,
    "start_time": "2022-02-02T12:47:09.775Z"
   },
   {
    "duration": 39,
    "start_time": "2022-02-02T12:55:34.413Z"
   },
   {
    "duration": 30,
    "start_time": "2022-02-02T12:56:45.539Z"
   },
   {
    "duration": 282,
    "start_time": "2022-02-02T13:14:51.965Z"
   },
   {
    "duration": 277,
    "start_time": "2022-02-02T13:15:18.992Z"
   },
   {
    "duration": 273,
    "start_time": "2022-02-02T13:15:36.062Z"
   },
   {
    "duration": 27,
    "start_time": "2022-02-02T13:19:04.203Z"
   },
   {
    "duration": 21,
    "start_time": "2022-02-02T13:19:12.029Z"
   },
   {
    "duration": 20,
    "start_time": "2022-02-02T13:19:21.616Z"
   },
   {
    "duration": 300,
    "start_time": "2022-02-02T13:20:25.311Z"
   },
   {
    "duration": 299,
    "start_time": "2022-02-02T13:20:55.629Z"
   },
   {
    "duration": 310,
    "start_time": "2022-02-02T13:21:28.120Z"
   },
   {
    "duration": 327,
    "start_time": "2022-02-02T13:22:26.797Z"
   },
   {
    "duration": 18,
    "start_time": "2022-02-02T13:23:09.509Z"
   },
   {
    "duration": 20,
    "start_time": "2022-02-02T13:23:35.375Z"
   },
   {
    "duration": 17,
    "start_time": "2022-02-02T13:23:43.117Z"
   },
   {
    "duration": 325,
    "start_time": "2022-02-02T13:32:05.067Z"
   },
   {
    "duration": 285,
    "start_time": "2022-02-02T13:34:20.541Z"
   },
   {
    "duration": 17,
    "start_time": "2022-02-02T13:35:02.473Z"
   },
   {
    "duration": 361,
    "start_time": "2022-02-02T13:37:21.717Z"
   },
   {
    "duration": 30,
    "start_time": "2022-02-02T13:37:51.691Z"
   },
   {
    "duration": 293,
    "start_time": "2022-02-02T13:39:18.709Z"
   },
   {
    "duration": 285,
    "start_time": "2022-02-02T20:45:03.284Z"
   },
   {
    "duration": 267,
    "start_time": "2022-02-02T20:45:20.941Z"
   },
   {
    "duration": 16,
    "start_time": "2022-02-02T20:47:13.421Z"
   },
   {
    "duration": 15,
    "start_time": "2022-02-02T20:47:18.046Z"
   },
   {
    "duration": 17,
    "start_time": "2022-02-02T21:06:21.753Z"
   },
   {
    "duration": 286,
    "start_time": "2022-02-02T21:06:35.789Z"
   },
   {
    "duration": 18,
    "start_time": "2022-02-02T21:06:47.107Z"
   },
   {
    "duration": 19,
    "start_time": "2022-02-02T21:07:31.376Z"
   },
   {
    "duration": 24,
    "start_time": "2022-02-02T21:07:52.517Z"
   },
   {
    "duration": 19,
    "start_time": "2022-02-02T21:07:58.059Z"
   },
   {
    "duration": 24,
    "start_time": "2022-02-02T21:09:05.097Z"
   },
   {
    "duration": 21,
    "start_time": "2022-02-02T21:09:45.517Z"
   },
   {
    "duration": 268,
    "start_time": "2022-02-02T21:42:08.951Z"
   },
   {
    "duration": 274,
    "start_time": "2022-02-02T21:42:23.157Z"
   },
   {
    "duration": 283,
    "start_time": "2022-02-02T21:42:47.124Z"
   },
   {
    "duration": 274,
    "start_time": "2022-02-02T21:43:30.316Z"
   },
   {
    "duration": 269,
    "start_time": "2022-02-02T21:43:51.609Z"
   },
   {
    "duration": 26,
    "start_time": "2022-02-02T21:44:02.330Z"
   },
   {
    "duration": 306,
    "start_time": "2022-02-02T21:48:22.177Z"
   },
   {
    "duration": 23,
    "start_time": "2022-02-02T21:48:37.430Z"
   },
   {
    "duration": 22,
    "start_time": "2022-02-02T21:53:51.036Z"
   },
   {
    "duration": 22,
    "start_time": "2022-02-02T21:55:36.521Z"
   },
   {
    "duration": 22,
    "start_time": "2022-02-02T21:56:00.888Z"
   },
   {
    "duration": 26,
    "start_time": "2022-02-02T21:56:17.624Z"
   },
   {
    "duration": 22,
    "start_time": "2022-02-02T21:56:20.936Z"
   },
   {
    "duration": 286,
    "start_time": "2022-02-02T22:23:16.442Z"
   },
   {
    "duration": 33,
    "start_time": "2022-02-02T22:23:24.674Z"
   },
   {
    "duration": 29,
    "start_time": "2022-02-02T22:24:12.565Z"
   },
   {
    "duration": 28,
    "start_time": "2022-02-02T22:24:15.666Z"
   },
   {
    "duration": 287,
    "start_time": "2022-02-02T22:25:51.579Z"
   },
   {
    "duration": 29,
    "start_time": "2022-02-02T22:26:15.791Z"
   },
   {
    "duration": 654,
    "start_time": "2022-02-03T08:38:34.831Z"
   },
   {
    "duration": 2,
    "start_time": "2022-02-03T08:38:35.487Z"
   },
   {
    "duration": 49,
    "start_time": "2022-02-03T08:38:35.491Z"
   },
   {
    "duration": 13,
    "start_time": "2022-02-03T08:38:35.541Z"
   },
   {
    "duration": 7,
    "start_time": "2022-02-03T08:38:35.555Z"
   },
   {
    "duration": 6,
    "start_time": "2022-02-03T08:38:35.564Z"
   },
   {
    "duration": 9,
    "start_time": "2022-02-03T08:38:35.572Z"
   },
   {
    "duration": 6,
    "start_time": "2022-02-03T08:38:35.583Z"
   },
   {
    "duration": 12,
    "start_time": "2022-02-03T08:38:35.591Z"
   },
   {
    "duration": 27,
    "start_time": "2022-02-03T08:38:35.605Z"
   },
   {
    "duration": 13,
    "start_time": "2022-02-03T08:38:35.634Z"
   },
   {
    "duration": 15,
    "start_time": "2022-02-03T08:38:35.648Z"
   },
   {
    "duration": 19,
    "start_time": "2022-02-03T08:38:35.665Z"
   },
   {
    "duration": 605,
    "start_time": "2022-02-03T15:39:28.070Z"
   },
   {
    "duration": 2,
    "start_time": "2022-02-03T15:39:28.677Z"
   },
   {
    "duration": 43,
    "start_time": "2022-02-03T15:39:28.681Z"
   },
   {
    "duration": 11,
    "start_time": "2022-02-03T15:39:28.726Z"
   },
   {
    "duration": 7,
    "start_time": "2022-02-03T15:39:28.739Z"
   },
   {
    "duration": 6,
    "start_time": "2022-02-03T15:39:28.747Z"
   },
   {
    "duration": 6,
    "start_time": "2022-02-03T15:39:28.755Z"
   },
   {
    "duration": 6,
    "start_time": "2022-02-03T15:39:28.763Z"
   },
   {
    "duration": 9,
    "start_time": "2022-02-03T15:39:30.056Z"
   },
   {
    "duration": 12,
    "start_time": "2022-02-03T15:40:56.573Z"
   },
   {
    "duration": 15,
    "start_time": "2022-02-03T15:45:22.598Z"
   },
   {
    "duration": 15,
    "start_time": "2022-02-03T15:45:38.910Z"
   },
   {
    "duration": 16,
    "start_time": "2022-02-03T15:45:55.759Z"
   },
   {
    "duration": 16,
    "start_time": "2022-02-03T15:46:02.490Z"
   },
   {
    "duration": 17,
    "start_time": "2022-02-03T15:46:10.356Z"
   },
   {
    "duration": 17,
    "start_time": "2022-02-03T15:46:35.157Z"
   },
   {
    "duration": 14,
    "start_time": "2022-02-03T15:46:45.749Z"
   },
   {
    "duration": 100,
    "start_time": "2022-02-03T15:50:23.745Z"
   },
   {
    "duration": 20,
    "start_time": "2022-02-03T15:50:29.054Z"
   },
   {
    "duration": 20,
    "start_time": "2022-02-03T15:51:03.994Z"
   },
   {
    "duration": 434,
    "start_time": "2022-02-03T15:58:37.844Z"
   },
   {
    "duration": 308,
    "start_time": "2022-02-03T15:58:59.409Z"
   },
   {
    "duration": 348,
    "start_time": "2022-02-03T16:00:35.032Z"
   },
   {
    "duration": 342,
    "start_time": "2022-02-03T16:05:16.286Z"
   },
   {
    "duration": 350,
    "start_time": "2022-02-03T16:07:42.655Z"
   },
   {
    "duration": 20,
    "start_time": "2022-02-03T16:08:24.873Z"
   },
   {
    "duration": 20,
    "start_time": "2022-02-03T16:09:39.458Z"
   },
   {
    "duration": 650,
    "start_time": "2022-02-03T16:12:01.235Z"
   },
   {
    "duration": 513,
    "start_time": "2022-02-03T16:12:52.793Z"
   },
   {
    "duration": 376,
    "start_time": "2022-02-03T16:13:45.608Z"
   },
   {
    "duration": 10,
    "start_time": "2022-02-03T16:14:04.646Z"
   },
   {
    "duration": 11,
    "start_time": "2022-02-03T16:15:16.375Z"
   },
   {
    "duration": 414,
    "start_time": "2022-02-03T16:19:31.274Z"
   },
   {
    "duration": 340,
    "start_time": "2022-02-03T16:19:51.677Z"
   },
   {
    "duration": 14,
    "start_time": "2022-02-03T16:20:21.066Z"
   },
   {
    "duration": 355,
    "start_time": "2022-02-03T16:20:39.465Z"
   },
   {
    "duration": 20,
    "start_time": "2022-02-03T16:20:52.112Z"
   },
   {
    "duration": 19,
    "start_time": "2022-02-03T16:21:05.334Z"
   },
   {
    "duration": 340,
    "start_time": "2022-02-03T16:21:17.134Z"
   },
   {
    "duration": 15,
    "start_time": "2022-02-03T16:21:27.782Z"
   },
   {
    "duration": 21,
    "start_time": "2022-02-03T16:23:56.495Z"
   },
   {
    "duration": 21,
    "start_time": "2022-02-03T16:24:25.444Z"
   },
   {
    "duration": 20,
    "start_time": "2022-02-03T16:24:33.065Z"
   },
   {
    "duration": 14,
    "start_time": "2022-02-03T16:26:55.963Z"
   },
   {
    "duration": 11,
    "start_time": "2022-02-03T16:27:37.143Z"
   },
   {
    "duration": 404,
    "start_time": "2022-02-03T16:28:53.581Z"
   },
   {
    "duration": 12,
    "start_time": "2022-02-03T16:29:41.142Z"
   },
   {
    "duration": 13,
    "start_time": "2022-02-03T16:43:42.536Z"
   },
   {
    "duration": 341,
    "start_time": "2022-02-03T16:47:52.669Z"
   },
   {
    "duration": 328,
    "start_time": "2022-02-03T16:48:32.776Z"
   },
   {
    "duration": 416,
    "start_time": "2022-02-03T16:49:13.515Z"
   },
   {
    "duration": 335,
    "start_time": "2022-02-03T16:50:38.886Z"
   },
   {
    "duration": 367,
    "start_time": "2022-02-03T16:52:11.268Z"
   },
   {
    "duration": 13,
    "start_time": "2022-02-03T16:52:27.389Z"
   },
   {
    "duration": 144,
    "start_time": "2022-02-03T16:54:39.213Z"
   },
   {
    "duration": 11,
    "start_time": "2022-02-03T16:55:11.745Z"
   },
   {
    "duration": 11,
    "start_time": "2022-02-03T16:56:45.572Z"
   },
   {
    "duration": 326,
    "start_time": "2022-02-03T16:59:25.506Z"
   },
   {
    "duration": 330,
    "start_time": "2022-02-03T16:59:38.552Z"
   },
   {
    "duration": 13,
    "start_time": "2022-02-03T16:59:53.323Z"
   },
   {
    "duration": 12,
    "start_time": "2022-02-03T17:00:22.172Z"
   },
   {
    "duration": 13,
    "start_time": "2022-02-03T17:00:34.082Z"
   },
   {
    "duration": 333,
    "start_time": "2022-02-03T17:05:13.709Z"
   },
   {
    "duration": 338,
    "start_time": "2022-02-03T17:05:29.574Z"
   },
   {
    "duration": 23,
    "start_time": "2022-02-03T17:05:41.574Z"
   },
   {
    "duration": 22,
    "start_time": "2022-02-03T17:07:10.584Z"
   },
   {
    "duration": 397,
    "start_time": "2022-02-03T17:11:19.109Z"
   },
   {
    "duration": 71,
    "start_time": "2022-02-03T17:11:28.867Z"
   },
   {
    "duration": 27,
    "start_time": "2022-02-03T17:13:01.351Z"
   },
   {
    "duration": 29,
    "start_time": "2022-02-03T17:13:30.392Z"
   },
   {
    "duration": 27,
    "start_time": "2022-02-03T17:13:50.249Z"
   },
   {
    "duration": 22,
    "start_time": "2022-02-03T17:15:14.705Z"
   },
   {
    "duration": 18,
    "start_time": "2022-02-03T17:18:14.258Z"
   },
   {
    "duration": 358,
    "start_time": "2022-02-03T17:31:53.916Z"
   },
   {
    "duration": 16,
    "start_time": "2022-02-03T17:32:04.367Z"
   },
   {
    "duration": 344,
    "start_time": "2022-02-03T17:32:43.739Z"
   },
   {
    "duration": 404,
    "start_time": "2022-02-03T17:54:07.135Z"
   },
   {
    "duration": 14,
    "start_time": "2022-02-03T17:54:14.911Z"
   },
   {
    "duration": 12,
    "start_time": "2022-02-03T17:54:34.425Z"
   },
   {
    "duration": 17,
    "start_time": "2022-02-03T17:55:14.227Z"
   },
   {
    "duration": 371,
    "start_time": "2022-02-03T17:56:07.771Z"
   },
   {
    "duration": 13,
    "start_time": "2022-02-03T17:56:24.666Z"
   },
   {
    "duration": 19,
    "start_time": "2022-02-03T17:57:43.505Z"
   },
   {
    "duration": 20,
    "start_time": "2022-02-03T17:58:31.484Z"
   },
   {
    "duration": 19,
    "start_time": "2022-02-03T17:58:40.233Z"
   },
   {
    "duration": 13,
    "start_time": "2022-02-03T18:02:09.131Z"
   },
   {
    "duration": 21,
    "start_time": "2022-02-03T18:03:04.524Z"
   },
   {
    "duration": 19,
    "start_time": "2022-02-03T18:03:13.089Z"
   },
   {
    "duration": 320,
    "start_time": "2022-02-03T18:03:26.313Z"
   },
   {
    "duration": 18,
    "start_time": "2022-02-03T18:03:33.812Z"
   },
   {
    "duration": 363,
    "start_time": "2022-02-03T18:03:49.890Z"
   },
   {
    "duration": 15,
    "start_time": "2022-02-03T18:03:56.789Z"
   },
   {
    "duration": 319,
    "start_time": "2022-02-03T18:08:47.998Z"
   },
   {
    "duration": 385,
    "start_time": "2022-02-03T18:09:56.449Z"
   },
   {
    "duration": 11,
    "start_time": "2022-02-03T18:10:41.497Z"
   },
   {
    "duration": 15,
    "start_time": "2022-02-03T18:11:21.670Z"
   },
   {
    "duration": 13,
    "start_time": "2022-02-03T18:11:40.253Z"
   },
   {
    "duration": 12,
    "start_time": "2022-02-03T18:12:31.277Z"
   },
   {
    "duration": 12,
    "start_time": "2022-02-03T18:12:46.410Z"
   },
   {
    "duration": 13,
    "start_time": "2022-02-03T18:13:40.931Z"
   },
   {
    "duration": 373,
    "start_time": "2022-02-03T18:18:39.066Z"
   },
   {
    "duration": 372,
    "start_time": "2022-02-03T18:18:49.534Z"
   },
   {
    "duration": 345,
    "start_time": "2022-02-03T18:19:05.349Z"
   },
   {
    "duration": 363,
    "start_time": "2022-02-03T18:19:08.635Z"
   },
   {
    "duration": 366,
    "start_time": "2022-02-03T18:19:12.177Z"
   },
   {
    "duration": 13,
    "start_time": "2022-02-03T18:19:24.267Z"
   },
   {
    "duration": 12,
    "start_time": "2022-02-03T18:19:54.976Z"
   },
   {
    "duration": 716,
    "start_time": "2022-02-04T08:28:39.117Z"
   },
   {
    "duration": 4,
    "start_time": "2022-02-04T08:28:39.835Z"
   },
   {
    "duration": 521,
    "start_time": "2022-02-04T08:28:39.844Z"
   },
   {
    "duration": 15,
    "start_time": "2022-02-04T08:28:40.367Z"
   },
   {
    "duration": 8,
    "start_time": "2022-02-04T08:28:40.384Z"
   },
   {
    "duration": 9,
    "start_time": "2022-02-04T08:28:40.394Z"
   },
   {
    "duration": 9,
    "start_time": "2022-02-04T08:28:40.406Z"
   },
   {
    "duration": 12,
    "start_time": "2022-02-04T08:28:40.417Z"
   },
   {
    "duration": 84,
    "start_time": "2022-02-04T08:28:40.430Z"
   },
   {
    "duration": 100,
    "start_time": "2022-02-04T08:28:40.516Z"
   },
   {
    "duration": 69,
    "start_time": "2022-02-04T08:28:40.618Z"
   },
   {
    "duration": 72,
    "start_time": "2022-02-04T08:28:40.689Z"
   },
   {
    "duration": 70,
    "start_time": "2022-02-04T08:28:40.762Z"
   }
  ],
  "kernelspec": {
   "display_name": "Python 3 (ipykernel)",
   "language": "python",
   "name": "python3"
  },
  "language_info": {
   "codemirror_mode": {
    "name": "ipython",
    "version": 3
   },
   "file_extension": ".py",
   "mimetype": "text/x-python",
   "name": "python",
   "nbconvert_exporter": "python",
   "pygments_lexer": "ipython3",
   "version": "3.9.7"
  },
  "toc": {
   "base_numbering": 1,
   "nav_menu": {},
   "number_sections": true,
   "sideBar": true,
   "skip_h1_title": true,
   "title_cell": "Table of Contents",
   "title_sidebar": "Contents",
   "toc_cell": false,
   "toc_position": {},
   "toc_section_display": true,
   "toc_window_display": false
  }
 },
 "nbformat": 4,
 "nbformat_minor": 2
}
